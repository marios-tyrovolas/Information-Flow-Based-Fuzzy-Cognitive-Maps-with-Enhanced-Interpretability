{
 "cells": [
  {
   "cell_type": "code",
   "execution_count": 1,
   "id": "ddfdcc9d",
   "metadata": {
    "scrolled": true
   },
   "outputs": [],
   "source": [
    "#!pip install scikit-learn scipy matplotlib numpy\n",
    "import sys\n",
    "sys.path.insert(0, \"..\")\n",
    "\n",
    "from base import *\n",
    "from util import *\n",
    "\n",
    "import warnings\n",
    "warnings.simplefilter(action='ignore', category=FutureWarning)\n",
    "\n",
    "import pandas as pd\n",
    "pd.options.mode.chained_assignment = None  # default='warn'\n",
    "import re\n",
    "import numpy as np\n",
    "\n",
    "from tensorflow.keras.utils import to_categorical\n",
    "\n",
    "from fitter import Fitter, get_common_distributions, get_distributions\n",
    "from sklearn import preprocessing\n",
    "from sklearn import metrics\n",
    "from sklearn.preprocessing import scale\n",
    "from sklearn.preprocessing import MinMaxScaler\n",
    "from sklearn.preprocessing import StandardScaler\n",
    "from sklearn.preprocessing import Normalizer\n",
    "from sklearn.decomposition import PCA\n",
    "from sklearn.datasets import make_friedman3, make_s_curve\n",
    "from sklearn.linear_model import BayesianRidge, ElasticNet\n",
    "from sklearn.model_selection import KFold, train_test_split\n",
    "from sklearn.model_selection import RepeatedKFold\n",
    "from sklearn.model_selection import StratifiedKFold\n",
    "from sklearn.naive_bayes import GaussianNB\n",
    "from sklearn.tree import DecisionTreeRegressor\n",
    "from sklearn.tree import DecisionTreeClassifier # Import Decision Tree Classifier\n",
    "from sklearn.neural_network import MLPClassifier\n",
    "\n",
    "#!pip install imbalanced-learn\n",
    "#!pip install lightgbm\n",
    "#!pip install wittgenstein --user\n",
    "#!pip install explainerdashboard --user\n",
    "\n",
    "from imblearn.over_sampling import ADASYN\n",
    "from imblearn.combine import SMOTEENN\n",
    "from imblearn.combine import SMOTETomek\n",
    "from sklearn.model_selection import cross_val_predict\n",
    "from sklearn.model_selection import cross_val_score\n",
    "from sklearn.model_selection import GridSearchCV\n",
    "from sklearn.model_selection import ParameterGrid\n",
    "from sklearn.metrics import cohen_kappa_score\n",
    "from sklearn.metrics import accuracy_score\n",
    "#from sklearn.metrics import confusion_matrix, ConfusionMatrixDisplay\n",
    "from sklearn.metrics import plot_confusion_matrix\n",
    "from sklearn.metrics import classification_report\n",
    "from sklearn.metrics import precision_score\n",
    "from sklearn.metrics import recall_score\n",
    "from sklearn.metrics import f1_score\n",
    "\n",
    "\n",
    "# for Box-Cox Transformation\n",
    "from scipy import stats\n",
    "\n",
    "# plotting modules\n",
    "import seaborn as sns\n",
    "import matplotlib.pyplot as plt\n",
    "from matplotlib.pyplot import figure\n",
    "from plotly.subplots import make_subplots\n",
    "import plotly.graph_objs as go\n",
    "import plotly.express as px\n",
    "\n",
    "from tqdm import tqdm\n",
    "import math\n",
    "\n",
    "from sklearn.datasets import make_blobs\n",
    "from matplotlib import pyplot\n",
    "from pandas import DataFrame\n"
   ]
  },
  {
   "cell_type": "code",
   "execution_count": 2,
   "id": "798fafbe",
   "metadata": {},
   "outputs": [
    {
     "data": {
      "text/html": [
       "<div>\n",
       "<style scoped>\n",
       "    .dataframe tbody tr th:only-of-type {\n",
       "        vertical-align: middle;\n",
       "    }\n",
       "\n",
       "    .dataframe tbody tr th {\n",
       "        vertical-align: top;\n",
       "    }\n",
       "\n",
       "    .dataframe thead th {\n",
       "        text-align: right;\n",
       "    }\n",
       "</style>\n",
       "<table border=\"1\" class=\"dataframe\">\n",
       "  <thead>\n",
       "    <tr style=\"text-align: right;\">\n",
       "      <th></th>\n",
       "      <th>Type</th>\n",
       "      <th>Air temperature [K]</th>\n",
       "      <th>Process temperature [K]</th>\n",
       "      <th>Rotational speed [rpm]</th>\n",
       "      <th>Torque [Nm]</th>\n",
       "      <th>Tool wear [min]</th>\n",
       "      <th>Machine failure</th>\n",
       "      <th>TWF</th>\n",
       "      <th>HDF</th>\n",
       "      <th>PWF</th>\n",
       "      <th>OSF</th>\n",
       "      <th>RNF</th>\n",
       "    </tr>\n",
       "  </thead>\n",
       "  <tbody>\n",
       "    <tr>\n",
       "      <th>0</th>\n",
       "      <td>1</td>\n",
       "      <td>298.1</td>\n",
       "      <td>308.6</td>\n",
       "      <td>1551</td>\n",
       "      <td>42.8</td>\n",
       "      <td>0</td>\n",
       "      <td>0</td>\n",
       "      <td>0</td>\n",
       "      <td>0</td>\n",
       "      <td>0</td>\n",
       "      <td>0</td>\n",
       "      <td>0</td>\n",
       "    </tr>\n",
       "    <tr>\n",
       "      <th>1</th>\n",
       "      <td>0</td>\n",
       "      <td>298.2</td>\n",
       "      <td>308.7</td>\n",
       "      <td>1408</td>\n",
       "      <td>46.3</td>\n",
       "      <td>3</td>\n",
       "      <td>0</td>\n",
       "      <td>0</td>\n",
       "      <td>0</td>\n",
       "      <td>0</td>\n",
       "      <td>0</td>\n",
       "      <td>0</td>\n",
       "    </tr>\n",
       "    <tr>\n",
       "      <th>2</th>\n",
       "      <td>0</td>\n",
       "      <td>298.1</td>\n",
       "      <td>308.5</td>\n",
       "      <td>1498</td>\n",
       "      <td>49.4</td>\n",
       "      <td>5</td>\n",
       "      <td>0</td>\n",
       "      <td>0</td>\n",
       "      <td>0</td>\n",
       "      <td>0</td>\n",
       "      <td>0</td>\n",
       "      <td>0</td>\n",
       "    </tr>\n",
       "    <tr>\n",
       "      <th>3</th>\n",
       "      <td>0</td>\n",
       "      <td>298.2</td>\n",
       "      <td>308.6</td>\n",
       "      <td>1433</td>\n",
       "      <td>39.5</td>\n",
       "      <td>7</td>\n",
       "      <td>0</td>\n",
       "      <td>0</td>\n",
       "      <td>0</td>\n",
       "      <td>0</td>\n",
       "      <td>0</td>\n",
       "      <td>0</td>\n",
       "    </tr>\n",
       "    <tr>\n",
       "      <th>4</th>\n",
       "      <td>0</td>\n",
       "      <td>298.2</td>\n",
       "      <td>308.7</td>\n",
       "      <td>1408</td>\n",
       "      <td>40.0</td>\n",
       "      <td>9</td>\n",
       "      <td>0</td>\n",
       "      <td>0</td>\n",
       "      <td>0</td>\n",
       "      <td>0</td>\n",
       "      <td>0</td>\n",
       "      <td>0</td>\n",
       "    </tr>\n",
       "  </tbody>\n",
       "</table>\n",
       "</div>"
      ],
      "text/plain": [
       "   Type  Air temperature [K]  Process temperature [K]  Rotational speed [rpm]  \\\n",
       "0     1                298.1                    308.6                    1551   \n",
       "1     0                298.2                    308.7                    1408   \n",
       "2     0                298.1                    308.5                    1498   \n",
       "3     0                298.2                    308.6                    1433   \n",
       "4     0                298.2                    308.7                    1408   \n",
       "\n",
       "   Torque [Nm]  Tool wear [min]  Machine failure  TWF  HDF  PWF  OSF  RNF  \n",
       "0         42.8                0                0    0    0    0    0    0  \n",
       "1         46.3                3                0    0    0    0    0    0  \n",
       "2         49.4                5                0    0    0    0    0    0  \n",
       "3         39.5                7                0    0    0    0    0    0  \n",
       "4         40.0                9                0    0    0    0    0    0  "
      ]
     },
     "execution_count": 2,
     "metadata": {},
     "output_type": "execute_result"
    }
   ],
   "source": [
    "#Collect data from sensors (i.e., time-series data) installed in the manufacturing system \n",
    "ai4i2020_encoded_balanced=pd.read_csv(r'G:\\\\.shortcut-targets-by-id\\\\1-wapAl6N5YrCs68c4NiFKyvybXTXmdgZ\\\\Ph_D_Tyrovolas\\\\Our Papers\\\\3rd_Paper-Proposal\\\\Testbed Codes\\\\AI4I_Case_Study\\\\raw_data\\\\ai4i2020_encoded_balanced.csv')\n",
    "ai4i2020_encoded_balanced.head()"
   ]
  },
  {
   "cell_type": "code",
   "execution_count": 3,
   "id": "cdbcb64b",
   "metadata": {},
   "outputs": [],
   "source": [
    "# Run in local\n",
    "# Fold index\n",
    "fold = 1\n",
    "\n",
    "original_X_train = pd.read_csv('G:\\\\.shortcut-targets-by-id\\\\1-wapAl6N5YrCs68c4NiFKyvybXTXmdgZ\\\\Ph_D_Tyrovolas\\\\Our Papers\\\\3rd_Paper-Proposal\\\\Testbed Codes\\\\AI4I_Case_Study\\\\k-fold cross validation datasets\\\\' + str(fold) + \"\\\\Training Dataset\" + \"\\\\X_train_iter_\" + str(fold) + \".csv\")\n",
    "original_X_test = pd.read_csv('G:\\\\.shortcut-targets-by-id\\\\1-wapAl6N5YrCs68c4NiFKyvybXTXmdgZ\\\\Ph_D_Tyrovolas\\\\Our Papers\\\\3rd_Paper-Proposal\\\\Testbed Codes\\\\AI4I_Case_Study\\\\k-fold cross validation datasets\\\\' + str(fold) + \"\\\\Test Dataset\" + \"\\\\X_test_iter_\" + str(fold) + \".csv\")\n",
    "\n",
    "X_train = pd.read_csv('G:\\\\.shortcut-targets-by-id\\\\1-wapAl6N5YrCs68c4NiFKyvybXTXmdgZ\\\\Ph_D_Tyrovolas\\\\Our Papers\\\\3rd_Paper-Proposal\\\\Testbed Codes\\\\AI4I_Case_Study\\\\k-fold cross validation datasets\\\\' + str(fold) + \"\\\\Training Dataset\" + \"\\\\Scaled_X_train_iter_\" + str(fold) + \".csv\", names=['Type', 'Air temperature [K]', 'Process temperature [K]', 'Rotational speed [rpm]', 'Torque [Nm]', 'Tool wear [min]'])\n",
    "y_train = pd.read_csv('G:\\\\.shortcut-targets-by-id\\\\1-wapAl6N5YrCs68c4NiFKyvybXTXmdgZ\\\\Ph_D_Tyrovolas\\\\Our Papers\\\\3rd_Paper-Proposal\\\\Testbed Codes\\\\AI4I_Case_Study\\\\k-fold cross validation datasets\\\\' + str(fold) + \"\\\\Training Dataset\" + \"\\\\y_train_iter_\" + str(fold) + \".csv\")\n",
    "X_test = pd.read_csv('G:\\\\.shortcut-targets-by-id\\\\1-wapAl6N5YrCs68c4NiFKyvybXTXmdgZ\\\\Ph_D_Tyrovolas\\\\Our Papers\\\\3rd_Paper-Proposal\\\\Testbed Codes\\\\AI4I_Case_Study\\\\k-fold cross validation datasets\\\\' + str(fold) + \"\\\\Test Dataset\" + \"\\\\Scaled_X_test_iter_\" + str(fold) + \".csv\", names=['Type', 'Air temperature [K]', 'Process temperature [K]', 'Rotational speed [rpm]', 'Torque [Nm]', 'Tool wear [min]'])\n",
    "y_test = pd.read_csv('G:\\\\.shortcut-targets-by-id\\\\1-wapAl6N5YrCs68c4NiFKyvybXTXmdgZ\\\\Ph_D_Tyrovolas\\\\Our Papers\\\\3rd_Paper-Proposal\\\\Testbed Codes\\\\AI4I_Case_Study\\\\k-fold cross validation datasets\\\\' + str(fold) + \"\\\\Test Dataset\" + \"\\\\y_test_iter_\" + str(fold) + \".csv\")"
   ]
  },
  {
   "cell_type": "code",
   "execution_count": 4,
   "id": "764b0b17",
   "metadata": {},
   "outputs": [],
   "source": [
    "ai4i2020_encoded_balanced = ai4i2020_encoded_balanced.rename(columns = lambda x:re.sub('[^A-Za-z0-9_]+', '', x))\n",
    "original_X_train = original_X_train.rename(columns = lambda x:re.sub('[^A-Za-z0-9_]+', '', x))\n",
    "original_X_test = original_X_test.rename(columns = lambda x:re.sub('[^A-Za-z0-9_]+', '', x))\n",
    "X_train = X_train.rename(columns = lambda x:re.sub('[^A-Za-z0-9_]+', '', x))\n",
    "X_test = X_test.rename(columns = lambda x:re.sub('[^A-Za-z0-9_]+', '', x))\n",
    "y_train = y_train.rename(columns = lambda x:re.sub('[^A-Za-z0-9_]+', '', x))\n",
    "y_test = y_test.rename(columns = lambda x:re.sub('[^A-Za-z0-9_]+', '', x))"
   ]
  },
  {
   "cell_type": "markdown",
   "id": "a561f4ac",
   "metadata": {},
   "source": [
    "## Hyper-parameter Tuning in FCMB Classifier"
   ]
  },
  {
   "cell_type": "code",
   "execution_count": null,
   "id": "ac006ba0",
   "metadata": {
    "scrolled": true
   },
   "outputs": [
    {
     "data": {
      "text/plain": [
       "'Combination 0'"
      ]
     },
     "metadata": {},
     "output_type": "display_data"
    },
    {
     "name": "stdout",
     "output_type": "stream",
     "text": [
      "-----------------------------------------\n",
      "-----------------------------------------\n",
      "-----------------------------------------\n",
      "-----------------------------------------\n",
      "-----------------------------------------\n",
      "{'act': None, 'activation': 'sigmoid', 'activation_m': 1, 'batch_size': 16, 'buffer_size': 1000, 'depth': 2, 'dropout_p': 0.0, 'epochs': 50, 'init_method': None, 'init_y_method': 'uniform', 'learning_rate': 0.001, 'model_type': 'basic', 'optimizer': 'rmsprop', 'random_state': None, 'training_hook': [], 'training_loss': 'logloss'}\n",
      "-----------------------------------------\n",
      "Learning time 599.0002636909485 sec\n",
      "\n"
     ]
    },
    {
     "data": {
      "text/plain": [
       "'Combination 1'"
      ]
     },
     "metadata": {},
     "output_type": "display_data"
    },
    {
     "name": "stdout",
     "output_type": "stream",
     "text": [
      "-----------------------------------------\n",
      "-----------------------------------------\n",
      "-----------------------------------------\n",
      "-----------------------------------------\n",
      "-----------------------------------------\n",
      "{'act': None, 'activation': 'sigmoid', 'activation_m': 1, 'batch_size': 16, 'buffer_size': 1000, 'depth': 2, 'dropout_p': 0.0, 'epochs': 50, 'init_method': None, 'init_y_method': 'uniform', 'learning_rate': 0.005, 'model_type': 'basic', 'optimizer': 'rmsprop', 'random_state': None, 'training_hook': [], 'training_loss': 'logloss'}\n",
      "-----------------------------------------\n"
     ]
    },
    {
     "name": "stderr",
     "output_type": "stream",
     "text": [
      "C:\\Users\\Marios\\Jupyter_Notebooks_my_papers\\Data-driven-Causal-Discovery-for-Constructing-Fuzzy-Cognitive-Maps-An-Industrial-Case-Study\\base\\classifier.py:143: UserWarning: 2018.12.16 The instruction  'loss = loss/self.batch_size' was commented out. Due to increased gradient values check the optimizer learning rate \n",
      "  warnings.warn('2018.12.16 The instruction  \\'loss = loss/self.batch_size\\' was commented out. Due to increased gradient values check the optimizer learning rate ')\n"
     ]
    },
    {
     "name": "stdout",
     "output_type": "stream",
     "text": [
      "Learning time 633.7059624195099 sec\n",
      "\n"
     ]
    },
    {
     "data": {
      "text/plain": [
       "'Combination 2'"
      ]
     },
     "metadata": {},
     "output_type": "display_data"
    },
    {
     "name": "stdout",
     "output_type": "stream",
     "text": [
      "-----------------------------------------\n",
      "-----------------------------------------\n",
      "-----------------------------------------\n",
      "-----------------------------------------\n",
      "-----------------------------------------\n",
      "{'act': None, 'activation': 'sigmoid', 'activation_m': 1, 'batch_size': 16, 'buffer_size': 1000, 'depth': 2, 'dropout_p': 0.0, 'epochs': 50, 'init_method': None, 'init_y_method': 'uniform', 'learning_rate': 0.01, 'model_type': 'basic', 'optimizer': 'rmsprop', 'random_state': None, 'training_hook': [], 'training_loss': 'logloss'}\n",
      "-----------------------------------------\n"
     ]
    },
    {
     "name": "stderr",
     "output_type": "stream",
     "text": [
      "C:\\Users\\Marios\\Jupyter_Notebooks_my_papers\\Data-driven-Causal-Discovery-for-Constructing-Fuzzy-Cognitive-Maps-An-Industrial-Case-Study\\base\\classifier.py:143: UserWarning: 2018.12.16 The instruction  'loss = loss/self.batch_size' was commented out. Due to increased gradient values check the optimizer learning rate \n",
      "  warnings.warn('2018.12.16 The instruction  \\'loss = loss/self.batch_size\\' was commented out. Due to increased gradient values check the optimizer learning rate ')\n"
     ]
    },
    {
     "name": "stdout",
     "output_type": "stream",
     "text": [
      "Learning time 596.9419097900391 sec\n",
      "\n"
     ]
    },
    {
     "data": {
      "text/plain": [
       "'Combination 3'"
      ]
     },
     "metadata": {},
     "output_type": "display_data"
    },
    {
     "name": "stdout",
     "output_type": "stream",
     "text": [
      "-----------------------------------------\n",
      "-----------------------------------------\n",
      "-----------------------------------------\n",
      "-----------------------------------------\n",
      "-----------------------------------------\n",
      "{'act': None, 'activation': 'sigmoid', 'activation_m': 1, 'batch_size': 16, 'buffer_size': 1000, 'depth': 2, 'dropout_p': 0.0, 'epochs': 50, 'init_method': None, 'init_y_method': 'uniform', 'learning_rate': 0.05, 'model_type': 'basic', 'optimizer': 'rmsprop', 'random_state': None, 'training_hook': [], 'training_loss': 'logloss'}\n",
      "-----------------------------------------\n"
     ]
    },
    {
     "name": "stderr",
     "output_type": "stream",
     "text": [
      "C:\\Users\\Marios\\Jupyter_Notebooks_my_papers\\Data-driven-Causal-Discovery-for-Constructing-Fuzzy-Cognitive-Maps-An-Industrial-Case-Study\\base\\classifier.py:143: UserWarning: 2018.12.16 The instruction  'loss = loss/self.batch_size' was commented out. Due to increased gradient values check the optimizer learning rate \n",
      "  warnings.warn('2018.12.16 The instruction  \\'loss = loss/self.batch_size\\' was commented out. Due to increased gradient values check the optimizer learning rate ')\n"
     ]
    },
    {
     "name": "stdout",
     "output_type": "stream",
     "text": [
      "Learning time 633.4835939407349 sec\n",
      "\n"
     ]
    },
    {
     "data": {
      "text/plain": [
       "'Combination 4'"
      ]
     },
     "metadata": {},
     "output_type": "display_data"
    },
    {
     "name": "stdout",
     "output_type": "stream",
     "text": [
      "-----------------------------------------\n",
      "-----------------------------------------\n",
      "-----------------------------------------\n",
      "-----------------------------------------\n",
      "-----------------------------------------\n",
      "{'act': None, 'activation': 'sigmoid', 'activation_m': 1, 'batch_size': 16, 'buffer_size': 1000, 'depth': 2, 'dropout_p': 0.0, 'epochs': 50, 'init_method': None, 'init_y_method': 'uniform', 'learning_rate': 0.1, 'model_type': 'basic', 'optimizer': 'rmsprop', 'random_state': None, 'training_hook': [], 'training_loss': 'logloss'}\n",
      "-----------------------------------------\n"
     ]
    },
    {
     "name": "stderr",
     "output_type": "stream",
     "text": [
      "C:\\Users\\Marios\\Jupyter_Notebooks_my_papers\\Data-driven-Causal-Discovery-for-Constructing-Fuzzy-Cognitive-Maps-An-Industrial-Case-Study\\base\\classifier.py:143: UserWarning: 2018.12.16 The instruction  'loss = loss/self.batch_size' was commented out. Due to increased gradient values check the optimizer learning rate \n",
      "  warnings.warn('2018.12.16 The instruction  \\'loss = loss/self.batch_size\\' was commented out. Due to increased gradient values check the optimizer learning rate ')\n"
     ]
    },
    {
     "name": "stdout",
     "output_type": "stream",
     "text": [
      "Learning time 821.7392234802246 sec\n",
      "\n"
     ]
    },
    {
     "data": {
      "text/plain": [
       "'Combination 5'"
      ]
     },
     "metadata": {},
     "output_type": "display_data"
    },
    {
     "name": "stdout",
     "output_type": "stream",
     "text": [
      "-----------------------------------------\n",
      "-----------------------------------------\n",
      "-----------------------------------------\n",
      "-----------------------------------------\n",
      "-----------------------------------------\n",
      "{'act': None, 'activation': 'sigmoid', 'activation_m': 1, 'batch_size': 16, 'buffer_size': 1000, 'depth': 2, 'dropout_p': 0.0, 'epochs': 50, 'init_method': None, 'init_y_method': 'uniform', 'learning_rate': 0.5, 'model_type': 'basic', 'optimizer': 'rmsprop', 'random_state': None, 'training_hook': [], 'training_loss': 'logloss'}\n",
      "-----------------------------------------\n"
     ]
    },
    {
     "name": "stderr",
     "output_type": "stream",
     "text": [
      "C:\\Users\\Marios\\Jupyter_Notebooks_my_papers\\Data-driven-Causal-Discovery-for-Constructing-Fuzzy-Cognitive-Maps-An-Industrial-Case-Study\\base\\classifier.py:143: UserWarning: 2018.12.16 The instruction  'loss = loss/self.batch_size' was commented out. Due to increased gradient values check the optimizer learning rate \n",
      "  warnings.warn('2018.12.16 The instruction  \\'loss = loss/self.batch_size\\' was commented out. Due to increased gradient values check the optimizer learning rate ')\n"
     ]
    },
    {
     "name": "stdout",
     "output_type": "stream",
     "text": [
      "Learning time 778.9067101478577 sec\n",
      "\n"
     ]
    },
    {
     "data": {
      "text/plain": [
       "'Combination 6'"
      ]
     },
     "metadata": {},
     "output_type": "display_data"
    },
    {
     "name": "stdout",
     "output_type": "stream",
     "text": [
      "-----------------------------------------\n",
      "-----------------------------------------\n",
      "-----------------------------------------\n",
      "-----------------------------------------\n",
      "-----------------------------------------\n",
      "{'act': None, 'activation': 'sigmoid', 'activation_m': 1, 'batch_size': 16, 'buffer_size': 1000, 'depth': 2, 'dropout_p': 0.0, 'epochs': 100, 'init_method': None, 'init_y_method': 'uniform', 'learning_rate': 0.001, 'model_type': 'basic', 'optimizer': 'rmsprop', 'random_state': None, 'training_hook': [], 'training_loss': 'logloss'}\n",
      "-----------------------------------------\n"
     ]
    },
    {
     "name": "stderr",
     "output_type": "stream",
     "text": [
      "C:\\Users\\Marios\\Jupyter_Notebooks_my_papers\\Data-driven-Causal-Discovery-for-Constructing-Fuzzy-Cognitive-Maps-An-Industrial-Case-Study\\base\\classifier.py:143: UserWarning: 2018.12.16 The instruction  'loss = loss/self.batch_size' was commented out. Due to increased gradient values check the optimizer learning rate \n",
      "  warnings.warn('2018.12.16 The instruction  \\'loss = loss/self.batch_size\\' was commented out. Due to increased gradient values check the optimizer learning rate ')\n"
     ]
    },
    {
     "name": "stdout",
     "output_type": "stream",
     "text": [
      "Learning time 1304.838699579239 sec\n",
      "\n"
     ]
    },
    {
     "data": {
      "text/plain": [
       "'Combination 7'"
      ]
     },
     "metadata": {},
     "output_type": "display_data"
    },
    {
     "name": "stdout",
     "output_type": "stream",
     "text": [
      "-----------------------------------------\n",
      "-----------------------------------------\n",
      "-----------------------------------------\n",
      "-----------------------------------------\n",
      "-----------------------------------------\n",
      "{'act': None, 'activation': 'sigmoid', 'activation_m': 1, 'batch_size': 16, 'buffer_size': 1000, 'depth': 2, 'dropout_p': 0.0, 'epochs': 100, 'init_method': None, 'init_y_method': 'uniform', 'learning_rate': 0.005, 'model_type': 'basic', 'optimizer': 'rmsprop', 'random_state': None, 'training_hook': [], 'training_loss': 'logloss'}\n",
      "-----------------------------------------\n"
     ]
    },
    {
     "name": "stderr",
     "output_type": "stream",
     "text": [
      "C:\\Users\\Marios\\Jupyter_Notebooks_my_papers\\Data-driven-Causal-Discovery-for-Constructing-Fuzzy-Cognitive-Maps-An-Industrial-Case-Study\\base\\classifier.py:143: UserWarning: 2018.12.16 The instruction  'loss = loss/self.batch_size' was commented out. Due to increased gradient values check the optimizer learning rate \n",
      "  warnings.warn('2018.12.16 The instruction  \\'loss = loss/self.batch_size\\' was commented out. Due to increased gradient values check the optimizer learning rate ')\n"
     ]
    },
    {
     "name": "stdout",
     "output_type": "stream",
     "text": [
      "Learning time 1151.9288067817688 sec\n",
      "\n"
     ]
    },
    {
     "data": {
      "text/plain": [
       "'Combination 8'"
      ]
     },
     "metadata": {},
     "output_type": "display_data"
    },
    {
     "name": "stdout",
     "output_type": "stream",
     "text": [
      "-----------------------------------------\n",
      "-----------------------------------------\n",
      "-----------------------------------------\n",
      "-----------------------------------------\n",
      "-----------------------------------------\n",
      "{'act': None, 'activation': 'sigmoid', 'activation_m': 1, 'batch_size': 16, 'buffer_size': 1000, 'depth': 2, 'dropout_p': 0.0, 'epochs': 100, 'init_method': None, 'init_y_method': 'uniform', 'learning_rate': 0.01, 'model_type': 'basic', 'optimizer': 'rmsprop', 'random_state': None, 'training_hook': [], 'training_loss': 'logloss'}\n",
      "-----------------------------------------\n"
     ]
    },
    {
     "name": "stderr",
     "output_type": "stream",
     "text": [
      "C:\\Users\\Marios\\Jupyter_Notebooks_my_papers\\Data-driven-Causal-Discovery-for-Constructing-Fuzzy-Cognitive-Maps-An-Industrial-Case-Study\\base\\classifier.py:143: UserWarning: 2018.12.16 The instruction  'loss = loss/self.batch_size' was commented out. Due to increased gradient values check the optimizer learning rate \n",
      "  warnings.warn('2018.12.16 The instruction  \\'loss = loss/self.batch_size\\' was commented out. Due to increased gradient values check the optimizer learning rate ')\n"
     ]
    },
    {
     "name": "stdout",
     "output_type": "stream",
     "text": [
      "Learning time 1290.5986487865448 sec\n",
      "\n"
     ]
    },
    {
     "data": {
      "text/plain": [
       "'Combination 9'"
      ]
     },
     "metadata": {},
     "output_type": "display_data"
    },
    {
     "name": "stdout",
     "output_type": "stream",
     "text": [
      "-----------------------------------------\n",
      "-----------------------------------------\n",
      "-----------------------------------------\n",
      "-----------------------------------------\n",
      "-----------------------------------------\n",
      "{'act': None, 'activation': 'sigmoid', 'activation_m': 1, 'batch_size': 16, 'buffer_size': 1000, 'depth': 2, 'dropout_p': 0.0, 'epochs': 100, 'init_method': None, 'init_y_method': 'uniform', 'learning_rate': 0.05, 'model_type': 'basic', 'optimizer': 'rmsprop', 'random_state': None, 'training_hook': [], 'training_loss': 'logloss'}\n",
      "-----------------------------------------\n"
     ]
    },
    {
     "name": "stderr",
     "output_type": "stream",
     "text": [
      "C:\\Users\\Marios\\Jupyter_Notebooks_my_papers\\Data-driven-Causal-Discovery-for-Constructing-Fuzzy-Cognitive-Maps-An-Industrial-Case-Study\\base\\classifier.py:143: UserWarning: 2018.12.16 The instruction  'loss = loss/self.batch_size' was commented out. Due to increased gradient values check the optimizer learning rate \n",
      "  warnings.warn('2018.12.16 The instruction  \\'loss = loss/self.batch_size\\' was commented out. Due to increased gradient values check the optimizer learning rate ')\n"
     ]
    },
    {
     "name": "stdout",
     "output_type": "stream",
     "text": [
      "Learning time 1280.0998194217682 sec\n",
      "\n"
     ]
    },
    {
     "data": {
      "text/plain": [
       "'Combination 10'"
      ]
     },
     "metadata": {},
     "output_type": "display_data"
    },
    {
     "name": "stdout",
     "output_type": "stream",
     "text": [
      "-----------------------------------------\n",
      "-----------------------------------------\n",
      "-----------------------------------------\n",
      "-----------------------------------------\n",
      "-----------------------------------------\n",
      "{'act': None, 'activation': 'sigmoid', 'activation_m': 1, 'batch_size': 16, 'buffer_size': 1000, 'depth': 2, 'dropout_p': 0.0, 'epochs': 100, 'init_method': None, 'init_y_method': 'uniform', 'learning_rate': 0.1, 'model_type': 'basic', 'optimizer': 'rmsprop', 'random_state': None, 'training_hook': [], 'training_loss': 'logloss'}\n",
      "-----------------------------------------\n"
     ]
    },
    {
     "name": "stderr",
     "output_type": "stream",
     "text": [
      "C:\\Users\\Marios\\Jupyter_Notebooks_my_papers\\Data-driven-Causal-Discovery-for-Constructing-Fuzzy-Cognitive-Maps-An-Industrial-Case-Study\\base\\classifier.py:143: UserWarning: 2018.12.16 The instruction  'loss = loss/self.batch_size' was commented out. Due to increased gradient values check the optimizer learning rate \n",
      "  warnings.warn('2018.12.16 The instruction  \\'loss = loss/self.batch_size\\' was commented out. Due to increased gradient values check the optimizer learning rate ')\n"
     ]
    },
    {
     "name": "stdout",
     "output_type": "stream",
     "text": [
      "Learning time 1198.6428337097168 sec\n",
      "\n"
     ]
    },
    {
     "data": {
      "text/plain": [
       "'Combination 11'"
      ]
     },
     "metadata": {},
     "output_type": "display_data"
    },
    {
     "name": "stdout",
     "output_type": "stream",
     "text": [
      "-----------------------------------------\n",
      "-----------------------------------------\n",
      "-----------------------------------------\n",
      "-----------------------------------------\n",
      "-----------------------------------------\n",
      "{'act': None, 'activation': 'sigmoid', 'activation_m': 1, 'batch_size': 16, 'buffer_size': 1000, 'depth': 2, 'dropout_p': 0.0, 'epochs': 100, 'init_method': None, 'init_y_method': 'uniform', 'learning_rate': 0.5, 'model_type': 'basic', 'optimizer': 'rmsprop', 'random_state': None, 'training_hook': [], 'training_loss': 'logloss'}\n",
      "-----------------------------------------\n"
     ]
    },
    {
     "name": "stderr",
     "output_type": "stream",
     "text": [
      "C:\\Users\\Marios\\Jupyter_Notebooks_my_papers\\Data-driven-Causal-Discovery-for-Constructing-Fuzzy-Cognitive-Maps-An-Industrial-Case-Study\\base\\classifier.py:143: UserWarning: 2018.12.16 The instruction  'loss = loss/self.batch_size' was commented out. Due to increased gradient values check the optimizer learning rate \n",
      "  warnings.warn('2018.12.16 The instruction  \\'loss = loss/self.batch_size\\' was commented out. Due to increased gradient values check the optimizer learning rate ')\n"
     ]
    },
    {
     "name": "stdout",
     "output_type": "stream",
     "text": [
      "Learning time 1407.2780995368958 sec\n",
      "\n"
     ]
    },
    {
     "data": {
      "text/plain": [
       "'Combination 12'"
      ]
     },
     "metadata": {},
     "output_type": "display_data"
    },
    {
     "name": "stdout",
     "output_type": "stream",
     "text": [
      "-----------------------------------------\n",
      "-----------------------------------------\n",
      "-----------------------------------------\n",
      "-----------------------------------------\n",
      "-----------------------------------------\n",
      "{'act': None, 'activation': 'sigmoid', 'activation_m': 1, 'batch_size': 16, 'buffer_size': 1000, 'depth': 3, 'dropout_p': 0.0, 'epochs': 50, 'init_method': None, 'init_y_method': 'uniform', 'learning_rate': 0.001, 'model_type': 'basic', 'optimizer': 'rmsprop', 'random_state': None, 'training_hook': [], 'training_loss': 'logloss'}\n",
      "-----------------------------------------\n"
     ]
    },
    {
     "name": "stderr",
     "output_type": "stream",
     "text": [
      "C:\\Users\\Marios\\Jupyter_Notebooks_my_papers\\Data-driven-Causal-Discovery-for-Constructing-Fuzzy-Cognitive-Maps-An-Industrial-Case-Study\\base\\classifier.py:143: UserWarning: 2018.12.16 The instruction  'loss = loss/self.batch_size' was commented out. Due to increased gradient values check the optimizer learning rate \n",
      "  warnings.warn('2018.12.16 The instruction  \\'loss = loss/self.batch_size\\' was commented out. Due to increased gradient values check the optimizer learning rate ')\n"
     ]
    },
    {
     "name": "stdout",
     "output_type": "stream",
     "text": [
      "Learning time 988.7160227298737 sec\n",
      "\n"
     ]
    },
    {
     "data": {
      "text/plain": [
       "'Combination 13'"
      ]
     },
     "metadata": {},
     "output_type": "display_data"
    },
    {
     "name": "stdout",
     "output_type": "stream",
     "text": [
      "-----------------------------------------\n",
      "-----------------------------------------\n",
      "-----------------------------------------\n",
      "-----------------------------------------\n",
      "-----------------------------------------\n",
      "{'act': None, 'activation': 'sigmoid', 'activation_m': 1, 'batch_size': 16, 'buffer_size': 1000, 'depth': 3, 'dropout_p': 0.0, 'epochs': 50, 'init_method': None, 'init_y_method': 'uniform', 'learning_rate': 0.005, 'model_type': 'basic', 'optimizer': 'rmsprop', 'random_state': None, 'training_hook': [], 'training_loss': 'logloss'}\n",
      "-----------------------------------------\n"
     ]
    },
    {
     "name": "stderr",
     "output_type": "stream",
     "text": [
      "C:\\Users\\Marios\\Jupyter_Notebooks_my_papers\\Data-driven-Causal-Discovery-for-Constructing-Fuzzy-Cognitive-Maps-An-Industrial-Case-Study\\base\\classifier.py:143: UserWarning: 2018.12.16 The instruction  'loss = loss/self.batch_size' was commented out. Due to increased gradient values check the optimizer learning rate \n",
      "  warnings.warn('2018.12.16 The instruction  \\'loss = loss/self.batch_size\\' was commented out. Due to increased gradient values check the optimizer learning rate ')\n"
     ]
    },
    {
     "name": "stdout",
     "output_type": "stream",
     "text": [
      "Learning time 780.6189682483673 sec\n",
      "\n"
     ]
    },
    {
     "data": {
      "text/plain": [
       "'Combination 14'"
      ]
     },
     "metadata": {},
     "output_type": "display_data"
    },
    {
     "name": "stdout",
     "output_type": "stream",
     "text": [
      "-----------------------------------------\n",
      "-----------------------------------------\n",
      "-----------------------------------------\n",
      "-----------------------------------------\n",
      "-----------------------------------------\n",
      "{'act': None, 'activation': 'sigmoid', 'activation_m': 1, 'batch_size': 16, 'buffer_size': 1000, 'depth': 3, 'dropout_p': 0.0, 'epochs': 50, 'init_method': None, 'init_y_method': 'uniform', 'learning_rate': 0.01, 'model_type': 'basic', 'optimizer': 'rmsprop', 'random_state': None, 'training_hook': [], 'training_loss': 'logloss'}\n",
      "-----------------------------------------\n"
     ]
    },
    {
     "name": "stderr",
     "output_type": "stream",
     "text": [
      "C:\\Users\\Marios\\Jupyter_Notebooks_my_papers\\Data-driven-Causal-Discovery-for-Constructing-Fuzzy-Cognitive-Maps-An-Industrial-Case-Study\\base\\classifier.py:143: UserWarning: 2018.12.16 The instruction  'loss = loss/self.batch_size' was commented out. Due to increased gradient values check the optimizer learning rate \n",
      "  warnings.warn('2018.12.16 The instruction  \\'loss = loss/self.batch_size\\' was commented out. Due to increased gradient values check the optimizer learning rate ')\n"
     ]
    },
    {
     "name": "stdout",
     "output_type": "stream",
     "text": [
      "Learning time 797.2500727176666 sec\n",
      "\n"
     ]
    },
    {
     "data": {
      "text/plain": [
       "'Combination 15'"
      ]
     },
     "metadata": {},
     "output_type": "display_data"
    },
    {
     "name": "stdout",
     "output_type": "stream",
     "text": [
      "-----------------------------------------\n",
      "-----------------------------------------\n",
      "-----------------------------------------\n",
      "-----------------------------------------\n",
      "-----------------------------------------\n",
      "{'act': None, 'activation': 'sigmoid', 'activation_m': 1, 'batch_size': 16, 'buffer_size': 1000, 'depth': 3, 'dropout_p': 0.0, 'epochs': 50, 'init_method': None, 'init_y_method': 'uniform', 'learning_rate': 0.05, 'model_type': 'basic', 'optimizer': 'rmsprop', 'random_state': None, 'training_hook': [], 'training_loss': 'logloss'}\n",
      "-----------------------------------------\n"
     ]
    },
    {
     "name": "stderr",
     "output_type": "stream",
     "text": [
      "C:\\Users\\Marios\\Jupyter_Notebooks_my_papers\\Data-driven-Causal-Discovery-for-Constructing-Fuzzy-Cognitive-Maps-An-Industrial-Case-Study\\base\\classifier.py:143: UserWarning: 2018.12.16 The instruction  'loss = loss/self.batch_size' was commented out. Due to increased gradient values check the optimizer learning rate \n",
      "  warnings.warn('2018.12.16 The instruction  \\'loss = loss/self.batch_size\\' was commented out. Due to increased gradient values check the optimizer learning rate ')\n"
     ]
    },
    {
     "name": "stdout",
     "output_type": "stream",
     "text": [
      "Learning time 880.2823436260223 sec\n",
      "\n"
     ]
    },
    {
     "data": {
      "text/plain": [
       "'Combination 16'"
      ]
     },
     "metadata": {},
     "output_type": "display_data"
    },
    {
     "name": "stdout",
     "output_type": "stream",
     "text": [
      "-----------------------------------------\n",
      "-----------------------------------------\n",
      "-----------------------------------------\n",
      "-----------------------------------------\n",
      "-----------------------------------------\n",
      "{'act': None, 'activation': 'sigmoid', 'activation_m': 1, 'batch_size': 16, 'buffer_size': 1000, 'depth': 3, 'dropout_p': 0.0, 'epochs': 50, 'init_method': None, 'init_y_method': 'uniform', 'learning_rate': 0.1, 'model_type': 'basic', 'optimizer': 'rmsprop', 'random_state': None, 'training_hook': [], 'training_loss': 'logloss'}\n",
      "-----------------------------------------\n"
     ]
    },
    {
     "name": "stderr",
     "output_type": "stream",
     "text": [
      "C:\\Users\\Marios\\Jupyter_Notebooks_my_papers\\Data-driven-Causal-Discovery-for-Constructing-Fuzzy-Cognitive-Maps-An-Industrial-Case-Study\\base\\classifier.py:143: UserWarning: 2018.12.16 The instruction  'loss = loss/self.batch_size' was commented out. Due to increased gradient values check the optimizer learning rate \n",
      "  warnings.warn('2018.12.16 The instruction  \\'loss = loss/self.batch_size\\' was commented out. Due to increased gradient values check the optimizer learning rate ')\n"
     ]
    },
    {
     "name": "stdout",
     "output_type": "stream",
     "text": [
      "Learning time 809.363429069519 sec\n",
      "\n"
     ]
    },
    {
     "data": {
      "text/plain": [
       "'Combination 17'"
      ]
     },
     "metadata": {},
     "output_type": "display_data"
    },
    {
     "name": "stdout",
     "output_type": "stream",
     "text": [
      "-----------------------------------------\n",
      "-----------------------------------------\n",
      "-----------------------------------------\n",
      "-----------------------------------------\n",
      "-----------------------------------------\n",
      "{'act': None, 'activation': 'sigmoid', 'activation_m': 1, 'batch_size': 16, 'buffer_size': 1000, 'depth': 3, 'dropout_p': 0.0, 'epochs': 50, 'init_method': None, 'init_y_method': 'uniform', 'learning_rate': 0.5, 'model_type': 'basic', 'optimizer': 'rmsprop', 'random_state': None, 'training_hook': [], 'training_loss': 'logloss'}\n",
      "-----------------------------------------\n"
     ]
    },
    {
     "name": "stderr",
     "output_type": "stream",
     "text": [
      "C:\\Users\\Marios\\Jupyter_Notebooks_my_papers\\Data-driven-Causal-Discovery-for-Constructing-Fuzzy-Cognitive-Maps-An-Industrial-Case-Study\\base\\classifier.py:143: UserWarning: 2018.12.16 The instruction  'loss = loss/self.batch_size' was commented out. Due to increased gradient values check the optimizer learning rate \n",
      "  warnings.warn('2018.12.16 The instruction  \\'loss = loss/self.batch_size\\' was commented out. Due to increased gradient values check the optimizer learning rate ')\n"
     ]
    },
    {
     "name": "stdout",
     "output_type": "stream",
     "text": [
      "Learning time 812.2111644744873 sec\n",
      "\n"
     ]
    },
    {
     "data": {
      "text/plain": [
       "'Combination 18'"
      ]
     },
     "metadata": {},
     "output_type": "display_data"
    },
    {
     "name": "stdout",
     "output_type": "stream",
     "text": [
      "-----------------------------------------\n",
      "-----------------------------------------\n",
      "-----------------------------------------\n",
      "-----------------------------------------\n",
      "-----------------------------------------\n",
      "{'act': None, 'activation': 'sigmoid', 'activation_m': 1, 'batch_size': 16, 'buffer_size': 1000, 'depth': 3, 'dropout_p': 0.0, 'epochs': 100, 'init_method': None, 'init_y_method': 'uniform', 'learning_rate': 0.001, 'model_type': 'basic', 'optimizer': 'rmsprop', 'random_state': None, 'training_hook': [], 'training_loss': 'logloss'}\n",
      "-----------------------------------------\n"
     ]
    },
    {
     "name": "stderr",
     "output_type": "stream",
     "text": [
      "C:\\Users\\Marios\\Jupyter_Notebooks_my_papers\\Data-driven-Causal-Discovery-for-Constructing-Fuzzy-Cognitive-Maps-An-Industrial-Case-Study\\base\\classifier.py:143: UserWarning: 2018.12.16 The instruction  'loss = loss/self.batch_size' was commented out. Due to increased gradient values check the optimizer learning rate \n",
      "  warnings.warn('2018.12.16 The instruction  \\'loss = loss/self.batch_size\\' was commented out. Due to increased gradient values check the optimizer learning rate ')\n"
     ]
    },
    {
     "name": "stdout",
     "output_type": "stream",
     "text": [
      "Learning time 1546.59863615036 sec\n",
      "\n"
     ]
    },
    {
     "data": {
      "text/plain": [
       "'Combination 19'"
      ]
     },
     "metadata": {},
     "output_type": "display_data"
    },
    {
     "name": "stdout",
     "output_type": "stream",
     "text": [
      "-----------------------------------------\n",
      "-----------------------------------------\n",
      "-----------------------------------------\n",
      "-----------------------------------------\n",
      "-----------------------------------------\n",
      "{'act': None, 'activation': 'sigmoid', 'activation_m': 1, 'batch_size': 16, 'buffer_size': 1000, 'depth': 3, 'dropout_p': 0.0, 'epochs': 100, 'init_method': None, 'init_y_method': 'uniform', 'learning_rate': 0.005, 'model_type': 'basic', 'optimizer': 'rmsprop', 'random_state': None, 'training_hook': [], 'training_loss': 'logloss'}\n",
      "-----------------------------------------\n"
     ]
    },
    {
     "name": "stderr",
     "output_type": "stream",
     "text": [
      "C:\\Users\\Marios\\Jupyter_Notebooks_my_papers\\Data-driven-Causal-Discovery-for-Constructing-Fuzzy-Cognitive-Maps-An-Industrial-Case-Study\\base\\classifier.py:143: UserWarning: 2018.12.16 The instruction  'loss = loss/self.batch_size' was commented out. Due to increased gradient values check the optimizer learning rate \n",
      "  warnings.warn('2018.12.16 The instruction  \\'loss = loss/self.batch_size\\' was commented out. Due to increased gradient values check the optimizer learning rate ')\n"
     ]
    },
    {
     "name": "stdout",
     "output_type": "stream",
     "text": [
      "Learning time 1621.4509317874908 sec\n",
      "\n"
     ]
    },
    {
     "data": {
      "text/plain": [
       "'Combination 20'"
      ]
     },
     "metadata": {},
     "output_type": "display_data"
    },
    {
     "name": "stdout",
     "output_type": "stream",
     "text": [
      "-----------------------------------------\n",
      "-----------------------------------------\n",
      "-----------------------------------------\n",
      "-----------------------------------------\n",
      "-----------------------------------------\n",
      "{'act': None, 'activation': 'sigmoid', 'activation_m': 1, 'batch_size': 16, 'buffer_size': 1000, 'depth': 3, 'dropout_p': 0.0, 'epochs': 100, 'init_method': None, 'init_y_method': 'uniform', 'learning_rate': 0.01, 'model_type': 'basic', 'optimizer': 'rmsprop', 'random_state': None, 'training_hook': [], 'training_loss': 'logloss'}\n",
      "-----------------------------------------\n"
     ]
    },
    {
     "name": "stderr",
     "output_type": "stream",
     "text": [
      "C:\\Users\\Marios\\Jupyter_Notebooks_my_papers\\Data-driven-Causal-Discovery-for-Constructing-Fuzzy-Cognitive-Maps-An-Industrial-Case-Study\\base\\classifier.py:143: UserWarning: 2018.12.16 The instruction  'loss = loss/self.batch_size' was commented out. Due to increased gradient values check the optimizer learning rate \n",
      "  warnings.warn('2018.12.16 The instruction  \\'loss = loss/self.batch_size\\' was commented out. Due to increased gradient values check the optimizer learning rate ')\n"
     ]
    },
    {
     "name": "stdout",
     "output_type": "stream",
     "text": [
      "Learning time 1461.3470678329468 sec\n",
      "\n"
     ]
    },
    {
     "data": {
      "text/plain": [
       "'Combination 21'"
      ]
     },
     "metadata": {},
     "output_type": "display_data"
    },
    {
     "name": "stdout",
     "output_type": "stream",
     "text": [
      "-----------------------------------------\n",
      "-----------------------------------------\n",
      "-----------------------------------------\n",
      "-----------------------------------------\n",
      "-----------------------------------------\n",
      "{'act': None, 'activation': 'sigmoid', 'activation_m': 1, 'batch_size': 16, 'buffer_size': 1000, 'depth': 3, 'dropout_p': 0.0, 'epochs': 100, 'init_method': None, 'init_y_method': 'uniform', 'learning_rate': 0.05, 'model_type': 'basic', 'optimizer': 'rmsprop', 'random_state': None, 'training_hook': [], 'training_loss': 'logloss'}\n",
      "-----------------------------------------\n"
     ]
    },
    {
     "name": "stderr",
     "output_type": "stream",
     "text": [
      "C:\\Users\\Marios\\Jupyter_Notebooks_my_papers\\Data-driven-Causal-Discovery-for-Constructing-Fuzzy-Cognitive-Maps-An-Industrial-Case-Study\\base\\classifier.py:143: UserWarning: 2018.12.16 The instruction  'loss = loss/self.batch_size' was commented out. Due to increased gradient values check the optimizer learning rate \n",
      "  warnings.warn('2018.12.16 The instruction  \\'loss = loss/self.batch_size\\' was commented out. Due to increased gradient values check the optimizer learning rate ')\n"
     ]
    },
    {
     "name": "stdout",
     "output_type": "stream",
     "text": [
      "Learning time 1418.676569223404 sec\n",
      "\n"
     ]
    },
    {
     "data": {
      "text/plain": [
       "'Combination 22'"
      ]
     },
     "metadata": {},
     "output_type": "display_data"
    },
    {
     "name": "stdout",
     "output_type": "stream",
     "text": [
      "-----------------------------------------\n",
      "-----------------------------------------\n",
      "-----------------------------------------\n",
      "-----------------------------------------\n",
      "-----------------------------------------\n",
      "{'act': None, 'activation': 'sigmoid', 'activation_m': 1, 'batch_size': 16, 'buffer_size': 1000, 'depth': 3, 'dropout_p': 0.0, 'epochs': 100, 'init_method': None, 'init_y_method': 'uniform', 'learning_rate': 0.1, 'model_type': 'basic', 'optimizer': 'rmsprop', 'random_state': None, 'training_hook': [], 'training_loss': 'logloss'}\n",
      "-----------------------------------------\n"
     ]
    },
    {
     "name": "stderr",
     "output_type": "stream",
     "text": [
      "C:\\Users\\Marios\\Jupyter_Notebooks_my_papers\\Data-driven-Causal-Discovery-for-Constructing-Fuzzy-Cognitive-Maps-An-Industrial-Case-Study\\base\\classifier.py:143: UserWarning: 2018.12.16 The instruction  'loss = loss/self.batch_size' was commented out. Due to increased gradient values check the optimizer learning rate \n",
      "  warnings.warn('2018.12.16 The instruction  \\'loss = loss/self.batch_size\\' was commented out. Due to increased gradient values check the optimizer learning rate ')\n"
     ]
    },
    {
     "name": "stdout",
     "output_type": "stream",
     "text": [
      "Learning time 1472.6446924209595 sec\n",
      "\n"
     ]
    },
    {
     "data": {
      "text/plain": [
       "'Combination 23'"
      ]
     },
     "metadata": {},
     "output_type": "display_data"
    },
    {
     "name": "stdout",
     "output_type": "stream",
     "text": [
      "-----------------------------------------\n",
      "-----------------------------------------\n",
      "-----------------------------------------\n",
      "-----------------------------------------\n",
      "-----------------------------------------\n",
      "{'act': None, 'activation': 'sigmoid', 'activation_m': 1, 'batch_size': 16, 'buffer_size': 1000, 'depth': 3, 'dropout_p': 0.0, 'epochs': 100, 'init_method': None, 'init_y_method': 'uniform', 'learning_rate': 0.5, 'model_type': 'basic', 'optimizer': 'rmsprop', 'random_state': None, 'training_hook': [], 'training_loss': 'logloss'}\n",
      "-----------------------------------------\n"
     ]
    },
    {
     "name": "stderr",
     "output_type": "stream",
     "text": [
      "C:\\Users\\Marios\\Jupyter_Notebooks_my_papers\\Data-driven-Causal-Discovery-for-Constructing-Fuzzy-Cognitive-Maps-An-Industrial-Case-Study\\base\\classifier.py:143: UserWarning: 2018.12.16 The instruction  'loss = loss/self.batch_size' was commented out. Due to increased gradient values check the optimizer learning rate \n",
      "  warnings.warn('2018.12.16 The instruction  \\'loss = loss/self.batch_size\\' was commented out. Due to increased gradient values check the optimizer learning rate ')\n"
     ]
    },
    {
     "name": "stdout",
     "output_type": "stream",
     "text": [
      "Learning time 1436.4987182617188 sec\n",
      "\n"
     ]
    },
    {
     "data": {
      "text/plain": [
       "'Combination 24'"
      ]
     },
     "metadata": {},
     "output_type": "display_data"
    },
    {
     "name": "stdout",
     "output_type": "stream",
     "text": [
      "-----------------------------------------\n",
      "-----------------------------------------\n",
      "-----------------------------------------\n",
      "-----------------------------------------\n",
      "-----------------------------------------\n",
      "{'act': None, 'activation': 'sigmoid', 'activation_m': 1, 'batch_size': 16, 'buffer_size': 1000, 'depth': 5, 'dropout_p': 0.0, 'epochs': 50, 'init_method': None, 'init_y_method': 'uniform', 'learning_rate': 0.001, 'model_type': 'basic', 'optimizer': 'rmsprop', 'random_state': None, 'training_hook': [], 'training_loss': 'logloss'}\n",
      "-----------------------------------------\n"
     ]
    },
    {
     "name": "stderr",
     "output_type": "stream",
     "text": [
      "C:\\Users\\Marios\\Jupyter_Notebooks_my_papers\\Data-driven-Causal-Discovery-for-Constructing-Fuzzy-Cognitive-Maps-An-Industrial-Case-Study\\base\\classifier.py:143: UserWarning: 2018.12.16 The instruction  'loss = loss/self.batch_size' was commented out. Due to increased gradient values check the optimizer learning rate \n",
      "  warnings.warn('2018.12.16 The instruction  \\'loss = loss/self.batch_size\\' was commented out. Due to increased gradient values check the optimizer learning rate ')\n"
     ]
    },
    {
     "name": "stdout",
     "output_type": "stream",
     "text": [
      "Learning time 1293.7298865318298 sec\n",
      "\n"
     ]
    },
    {
     "data": {
      "text/plain": [
       "'Combination 25'"
      ]
     },
     "metadata": {},
     "output_type": "display_data"
    },
    {
     "name": "stdout",
     "output_type": "stream",
     "text": [
      "-----------------------------------------\n",
      "-----------------------------------------\n",
      "-----------------------------------------\n",
      "-----------------------------------------\n",
      "-----------------------------------------\n",
      "{'act': None, 'activation': 'sigmoid', 'activation_m': 1, 'batch_size': 16, 'buffer_size': 1000, 'depth': 5, 'dropout_p': 0.0, 'epochs': 50, 'init_method': None, 'init_y_method': 'uniform', 'learning_rate': 0.005, 'model_type': 'basic', 'optimizer': 'rmsprop', 'random_state': None, 'training_hook': [], 'training_loss': 'logloss'}\n",
      "-----------------------------------------\n"
     ]
    },
    {
     "name": "stderr",
     "output_type": "stream",
     "text": [
      "C:\\Users\\Marios\\Jupyter_Notebooks_my_papers\\Data-driven-Causal-Discovery-for-Constructing-Fuzzy-Cognitive-Maps-An-Industrial-Case-Study\\base\\classifier.py:143: UserWarning: 2018.12.16 The instruction  'loss = loss/self.batch_size' was commented out. Due to increased gradient values check the optimizer learning rate \n",
      "  warnings.warn('2018.12.16 The instruction  \\'loss = loss/self.batch_size\\' was commented out. Due to increased gradient values check the optimizer learning rate ')\n"
     ]
    },
    {
     "name": "stdout",
     "output_type": "stream",
     "text": [
      "Learning time 1105.9304809570312 sec\n",
      "\n"
     ]
    },
    {
     "data": {
      "text/plain": [
       "'Combination 26'"
      ]
     },
     "metadata": {},
     "output_type": "display_data"
    },
    {
     "name": "stdout",
     "output_type": "stream",
     "text": [
      "-----------------------------------------\n",
      "-----------------------------------------\n",
      "-----------------------------------------\n",
      "-----------------------------------------\n",
      "-----------------------------------------\n",
      "{'act': None, 'activation': 'sigmoid', 'activation_m': 1, 'batch_size': 16, 'buffer_size': 1000, 'depth': 5, 'dropout_p': 0.0, 'epochs': 50, 'init_method': None, 'init_y_method': 'uniform', 'learning_rate': 0.01, 'model_type': 'basic', 'optimizer': 'rmsprop', 'random_state': None, 'training_hook': [], 'training_loss': 'logloss'}\n",
      "-----------------------------------------\n"
     ]
    },
    {
     "name": "stderr",
     "output_type": "stream",
     "text": [
      "C:\\Users\\Marios\\Jupyter_Notebooks_my_papers\\Data-driven-Causal-Discovery-for-Constructing-Fuzzy-Cognitive-Maps-An-Industrial-Case-Study\\base\\classifier.py:143: UserWarning: 2018.12.16 The instruction  'loss = loss/self.batch_size' was commented out. Due to increased gradient values check the optimizer learning rate \n",
      "  warnings.warn('2018.12.16 The instruction  \\'loss = loss/self.batch_size\\' was commented out. Due to increased gradient values check the optimizer learning rate ')\n"
     ]
    },
    {
     "name": "stdout",
     "output_type": "stream",
     "text": [
      "Learning time 1178.921357870102 sec\n",
      "\n"
     ]
    },
    {
     "data": {
      "text/plain": [
       "'Combination 27'"
      ]
     },
     "metadata": {},
     "output_type": "display_data"
    },
    {
     "name": "stdout",
     "output_type": "stream",
     "text": [
      "-----------------------------------------\n",
      "-----------------------------------------\n",
      "-----------------------------------------\n",
      "-----------------------------------------\n",
      "-----------------------------------------\n",
      "{'act': None, 'activation': 'sigmoid', 'activation_m': 1, 'batch_size': 16, 'buffer_size': 1000, 'depth': 5, 'dropout_p': 0.0, 'epochs': 50, 'init_method': None, 'init_y_method': 'uniform', 'learning_rate': 0.05, 'model_type': 'basic', 'optimizer': 'rmsprop', 'random_state': None, 'training_hook': [], 'training_loss': 'logloss'}\n",
      "-----------------------------------------\n"
     ]
    },
    {
     "name": "stderr",
     "output_type": "stream",
     "text": [
      "C:\\Users\\Marios\\Jupyter_Notebooks_my_papers\\Data-driven-Causal-Discovery-for-Constructing-Fuzzy-Cognitive-Maps-An-Industrial-Case-Study\\base\\classifier.py:143: UserWarning: 2018.12.16 The instruction  'loss = loss/self.batch_size' was commented out. Due to increased gradient values check the optimizer learning rate \n",
      "  warnings.warn('2018.12.16 The instruction  \\'loss = loss/self.batch_size\\' was commented out. Due to increased gradient values check the optimizer learning rate ')\n"
     ]
    },
    {
     "name": "stdout",
     "output_type": "stream",
     "text": [
      "Learning time 1010.5040526390076 sec\n",
      "\n"
     ]
    },
    {
     "data": {
      "text/plain": [
       "'Combination 28'"
      ]
     },
     "metadata": {},
     "output_type": "display_data"
    },
    {
     "name": "stdout",
     "output_type": "stream",
     "text": [
      "-----------------------------------------\n",
      "-----------------------------------------\n",
      "-----------------------------------------\n",
      "-----------------------------------------\n",
      "-----------------------------------------\n",
      "{'act': None, 'activation': 'sigmoid', 'activation_m': 1, 'batch_size': 16, 'buffer_size': 1000, 'depth': 5, 'dropout_p': 0.0, 'epochs': 50, 'init_method': None, 'init_y_method': 'uniform', 'learning_rate': 0.1, 'model_type': 'basic', 'optimizer': 'rmsprop', 'random_state': None, 'training_hook': [], 'training_loss': 'logloss'}\n",
      "-----------------------------------------\n"
     ]
    },
    {
     "name": "stderr",
     "output_type": "stream",
     "text": [
      "C:\\Users\\Marios\\Jupyter_Notebooks_my_papers\\Data-driven-Causal-Discovery-for-Constructing-Fuzzy-Cognitive-Maps-An-Industrial-Case-Study\\base\\classifier.py:143: UserWarning: 2018.12.16 The instruction  'loss = loss/self.batch_size' was commented out. Due to increased gradient values check the optimizer learning rate \n",
      "  warnings.warn('2018.12.16 The instruction  \\'loss = loss/self.batch_size\\' was commented out. Due to increased gradient values check the optimizer learning rate ')\n"
     ]
    },
    {
     "name": "stdout",
     "output_type": "stream",
     "text": [
      "Learning time 973.9409191608429 sec\n",
      "\n"
     ]
    },
    {
     "data": {
      "text/plain": [
       "'Combination 29'"
      ]
     },
     "metadata": {},
     "output_type": "display_data"
    },
    {
     "name": "stdout",
     "output_type": "stream",
     "text": [
      "-----------------------------------------\n",
      "-----------------------------------------\n",
      "-----------------------------------------\n",
      "-----------------------------------------\n",
      "-----------------------------------------\n",
      "{'act': None, 'activation': 'sigmoid', 'activation_m': 1, 'batch_size': 16, 'buffer_size': 1000, 'depth': 5, 'dropout_p': 0.0, 'epochs': 50, 'init_method': None, 'init_y_method': 'uniform', 'learning_rate': 0.5, 'model_type': 'basic', 'optimizer': 'rmsprop', 'random_state': None, 'training_hook': [], 'training_loss': 'logloss'}\n",
      "-----------------------------------------\n"
     ]
    },
    {
     "name": "stderr",
     "output_type": "stream",
     "text": [
      "C:\\Users\\Marios\\Jupyter_Notebooks_my_papers\\Data-driven-Causal-Discovery-for-Constructing-Fuzzy-Cognitive-Maps-An-Industrial-Case-Study\\base\\classifier.py:143: UserWarning: 2018.12.16 The instruction  'loss = loss/self.batch_size' was commented out. Due to increased gradient values check the optimizer learning rate \n",
      "  warnings.warn('2018.12.16 The instruction  \\'loss = loss/self.batch_size\\' was commented out. Due to increased gradient values check the optimizer learning rate ')\n"
     ]
    },
    {
     "name": "stdout",
     "output_type": "stream",
     "text": [
      "Learning time 1072.1751401424408 sec\n",
      "\n"
     ]
    },
    {
     "data": {
      "text/plain": [
       "'Combination 30'"
      ]
     },
     "metadata": {},
     "output_type": "display_data"
    },
    {
     "name": "stdout",
     "output_type": "stream",
     "text": [
      "-----------------------------------------\n",
      "-----------------------------------------\n",
      "-----------------------------------------\n",
      "-----------------------------------------\n",
      "-----------------------------------------\n",
      "{'act': None, 'activation': 'sigmoid', 'activation_m': 1, 'batch_size': 16, 'buffer_size': 1000, 'depth': 5, 'dropout_p': 0.0, 'epochs': 100, 'init_method': None, 'init_y_method': 'uniform', 'learning_rate': 0.001, 'model_type': 'basic', 'optimizer': 'rmsprop', 'random_state': None, 'training_hook': [], 'training_loss': 'logloss'}\n",
      "-----------------------------------------\n"
     ]
    },
    {
     "name": "stderr",
     "output_type": "stream",
     "text": [
      "C:\\Users\\Marios\\Jupyter_Notebooks_my_papers\\Data-driven-Causal-Discovery-for-Constructing-Fuzzy-Cognitive-Maps-An-Industrial-Case-Study\\base\\classifier.py:143: UserWarning: 2018.12.16 The instruction  'loss = loss/self.batch_size' was commented out. Due to increased gradient values check the optimizer learning rate \n",
      "  warnings.warn('2018.12.16 The instruction  \\'loss = loss/self.batch_size\\' was commented out. Due to increased gradient values check the optimizer learning rate ')\n"
     ]
    },
    {
     "name": "stdout",
     "output_type": "stream",
     "text": [
      "Learning time 1839.3594272136688 sec\n",
      "\n"
     ]
    },
    {
     "data": {
      "text/plain": [
       "'Combination 31'"
      ]
     },
     "metadata": {},
     "output_type": "display_data"
    },
    {
     "name": "stdout",
     "output_type": "stream",
     "text": [
      "-----------------------------------------\n",
      "-----------------------------------------\n",
      "-----------------------------------------\n",
      "-----------------------------------------\n",
      "-----------------------------------------\n",
      "{'act': None, 'activation': 'sigmoid', 'activation_m': 1, 'batch_size': 16, 'buffer_size': 1000, 'depth': 5, 'dropout_p': 0.0, 'epochs': 100, 'init_method': None, 'init_y_method': 'uniform', 'learning_rate': 0.005, 'model_type': 'basic', 'optimizer': 'rmsprop', 'random_state': None, 'training_hook': [], 'training_loss': 'logloss'}\n",
      "-----------------------------------------\n"
     ]
    },
    {
     "name": "stderr",
     "output_type": "stream",
     "text": [
      "C:\\Users\\Marios\\Jupyter_Notebooks_my_papers\\Data-driven-Causal-Discovery-for-Constructing-Fuzzy-Cognitive-Maps-An-Industrial-Case-Study\\base\\classifier.py:143: UserWarning: 2018.12.16 The instruction  'loss = loss/self.batch_size' was commented out. Due to increased gradient values check the optimizer learning rate \n",
      "  warnings.warn('2018.12.16 The instruction  \\'loss = loss/self.batch_size\\' was commented out. Due to increased gradient values check the optimizer learning rate ')\n"
     ]
    },
    {
     "name": "stdout",
     "output_type": "stream",
     "text": [
      "Learning time 1793.2178356647491 sec\n",
      "\n"
     ]
    },
    {
     "data": {
      "text/plain": [
       "'Combination 32'"
      ]
     },
     "metadata": {},
     "output_type": "display_data"
    },
    {
     "name": "stdout",
     "output_type": "stream",
     "text": [
      "-----------------------------------------\n",
      "-----------------------------------------\n",
      "-----------------------------------------\n",
      "-----------------------------------------\n",
      "-----------------------------------------\n",
      "{'act': None, 'activation': 'sigmoid', 'activation_m': 1, 'batch_size': 16, 'buffer_size': 1000, 'depth': 5, 'dropout_p': 0.0, 'epochs': 100, 'init_method': None, 'init_y_method': 'uniform', 'learning_rate': 0.01, 'model_type': 'basic', 'optimizer': 'rmsprop', 'random_state': None, 'training_hook': [], 'training_loss': 'logloss'}\n",
      "-----------------------------------------\n"
     ]
    },
    {
     "name": "stderr",
     "output_type": "stream",
     "text": [
      "C:\\Users\\Marios\\Jupyter_Notebooks_my_papers\\Data-driven-Causal-Discovery-for-Constructing-Fuzzy-Cognitive-Maps-An-Industrial-Case-Study\\base\\classifier.py:143: UserWarning: 2018.12.16 The instruction  'loss = loss/self.batch_size' was commented out. Due to increased gradient values check the optimizer learning rate \n",
      "  warnings.warn('2018.12.16 The instruction  \\'loss = loss/self.batch_size\\' was commented out. Due to increased gradient values check the optimizer learning rate ')\n"
     ]
    },
    {
     "name": "stdout",
     "output_type": "stream",
     "text": [
      "Learning time 1789.3407592773438 sec\n",
      "\n"
     ]
    },
    {
     "data": {
      "text/plain": [
       "'Combination 33'"
      ]
     },
     "metadata": {},
     "output_type": "display_data"
    },
    {
     "name": "stdout",
     "output_type": "stream",
     "text": [
      "-----------------------------------------\n",
      "-----------------------------------------\n",
      "-----------------------------------------\n",
      "-----------------------------------------\n",
      "-----------------------------------------\n",
      "{'act': None, 'activation': 'sigmoid', 'activation_m': 1, 'batch_size': 16, 'buffer_size': 1000, 'depth': 5, 'dropout_p': 0.0, 'epochs': 100, 'init_method': None, 'init_y_method': 'uniform', 'learning_rate': 0.05, 'model_type': 'basic', 'optimizer': 'rmsprop', 'random_state': None, 'training_hook': [], 'training_loss': 'logloss'}\n",
      "-----------------------------------------\n"
     ]
    },
    {
     "name": "stderr",
     "output_type": "stream",
     "text": [
      "C:\\Users\\Marios\\Jupyter_Notebooks_my_papers\\Data-driven-Causal-Discovery-for-Constructing-Fuzzy-Cognitive-Maps-An-Industrial-Case-Study\\base\\classifier.py:143: UserWarning: 2018.12.16 The instruction  'loss = loss/self.batch_size' was commented out. Due to increased gradient values check the optimizer learning rate \n",
      "  warnings.warn('2018.12.16 The instruction  \\'loss = loss/self.batch_size\\' was commented out. Due to increased gradient values check the optimizer learning rate ')\n"
     ]
    }
   ],
   "source": [
    "from sklearn.base import BaseEstimator, ClassifierMixin\n",
    "from base.classifier import BaseFcmClassifier\n",
    "from base.losses import MSE, LogLoss, SoftmaxCrossEntropy\n",
    "from base.model import Model, AdditiveModel, Sigmoid, Tanh, Ident, Relu\n",
    "from base.binary_classifier import FcmBinaryClassifier\n",
    "import tensorflow as tf\n",
    "import sklearn.preprocessing\n",
    "import numpy as np\n",
    "\n",
    "\n",
    "bs = 2**np.arange(4,12,4)\n",
    "bs = np.append(bs, -1)\n",
    "\n",
    "#we are training our model with the batch size ranging from 8 to 2048 with each batch size twice the size of the \n",
    "#previous batch size.\n",
    "fcmb_param_grid = {'act': [None],\n",
    "               'activation': ['sigmoid'],\n",
    "               'activation_m': [1],\n",
    "               'depth': [2, 3, 5],\n",
    "               'epochs': [50, 100],\n",
    "               'batch_size': bs, \n",
    "               'buffer_size': [1000],\n",
    "               'training_loss': ['logloss'],\n",
    "               'optimizer': ['rmsprop'],\n",
    "               'learning_rate': [0.001, 0.005, 0.01, 0.05, 0.1, 0.5],\n",
    "               'model_type': ['basic'],\n",
    "               'init_method': [None],\n",
    "               'init_y_method': ['uniform'],\n",
    "               'dropout_p': [0.0],\n",
    "               'random_state': [None]}\n",
    "\n",
    "grid = ParameterGrid(fcmb_param_grid)\n",
    "\n",
    "\n",
    "X = X_train.to_numpy()\n",
    "y = y_train.to_numpy()\n",
    "\n",
    "acc_list = []\n",
    "auc_list = []\n",
    "kappa_list = []\n",
    "\n",
    "twf_list = []\n",
    "hdf_list = []\n",
    "pwf_list = []\n",
    "osf_list = []\n",
    "av_succ = []\n",
    "\n",
    "comb_list = []\n",
    "\n",
    "for comb in range(0,len(grid)):\n",
    "    \n",
    "    #Build the FCMB Classifier\n",
    "    fcmb = FcmBinaryClassifier()\n",
    "    display(\"Combination \" + str(comb))\n",
    "    fcmb.__init__(**grid[comb])\n",
    "    fcmb.fit(X,y)\n",
    "    \n",
    "    #Predictions for the test set\n",
    "    y_test_pred_fcmb = fcmb.predict(X_test)\n",
    "    \n",
    "    #Evaluation metrics\n",
    "    accuracy_fcmb = accuracy_score(y_test, y_test_pred_fcmb)\n",
    "    auc_fcmb = metrics.roc_auc_score(y_test, y_test_pred_fcmb)\n",
    "    cohen_score_fcmb = cohen_kappa_score(y_test, y_test_pred_fcmb)\n",
    "\n",
    "    \n",
    "    \n",
    "    #FCMB trajectory\n",
    "    init_y_test = np.ones((X_test.shape[0], fcmb.base_fcm.model.dim - X_test.shape[1])) * .5\n",
    "    trj_fcmb_test = fcmb.base_fcm.model.trajectory(X_test, init_y_test)\n",
    "    \n",
    "    \n",
    "    local_feature_importance_fcmb = pd.DataFrame(trj_fcmb_test[fcmb.depth], columns=['Type', 'AirtemperatureK', 'ProcesstemperatureK', 'Rotationalspeedrpm', 'TorqueNm', 'Toolwearmin', 'Machinefailure'])\n",
    "    local_feature_importance_fcmb.drop('Machinefailure', inplace=True, axis=1)\n",
    "    \n",
    "    #Find the observations' indexes that the model correctly predicted as faulty\n",
    "    true_positive_indexes = []\n",
    "    i=1;\n",
    "\n",
    "    #According to the chosen model\n",
    "    #For example, y_test_pred_lgbmc for LGBM Classifier\n",
    "    for k in range(0,len(y_test)):\n",
    "        if (y_test.loc[k,'Machinefailure']==int(y_test_pred_fcmb[k])) and (y_test.loc[k,'Machinefailure']==1):\n",
    "            true_positive_indexes.append(k)\n",
    "            i=i+1;\n",
    "\n",
    "    #Find the observations that the selected model correctly predicted as faulty based on the previous indexes\n",
    "    true_positive_observations = pd.DataFrame()\n",
    "    for k in range(0,len(true_positive_indexes)):\n",
    "        new_row = pd.concat([original_X_test.loc[true_positive_indexes[k],:],y_test.loc[true_positive_indexes[k],:]], axis=0)\n",
    "        true_positive_observations = true_positive_observations.append(new_row, ignore_index=True)\n",
    "    \n",
    "    if not true_positive_observations.empty:\n",
    "        \n",
    "        #Append in lists\n",
    "        acc_list.append(accuracy_fcmb)\n",
    "        auc_list.append(auc_fcmb)\n",
    "        kappa_list.append(cohen_score_fcmb)\n",
    "        \n",
    "    \n",
    "        true_positive_observations_with_failure_modes = pd.DataFrame()\n",
    "        true_positive_observations_with_failure_modes = ai4i2020_encoded_balanced.join(true_positive_observations.set_index(['Type', 'AirtemperatureK', 'ProcesstemperatureK', 'Rotationalspeedrpm', 'TorqueNm', 'Toolwearmin', 'Machinefailure']), ['Type', 'AirtemperatureK', 'ProcesstemperatureK', 'Rotationalspeedrpm', 'TorqueNm', 'Toolwearmin', 'Machinefailure'], how='right')       \n",
    "        final_true_positive_observations_with_failure_modes = true_positive_observations_with_failure_modes.reset_index(drop=True)\n",
    "        \n",
    "        #display(\"Number of true positive predictions: \" + str(len(final_true_positive_observations_with_failure_modes)))\n",
    "\n",
    "        number_of_TWF_failures_in_true_positive_predictions = 0\n",
    "        number_of_HDF_failures_in_true_positive_predictions = 0\n",
    "        number_of_PWF_failures_in_true_positive_predictions = 0\n",
    "        number_of_OSF_failures_in_true_positive_predictions = 0\n",
    "        number_of_random_failures_in_true_positive_predictions=0\n",
    "\n",
    "        for k in range(0,len(final_true_positive_observations_with_failure_modes)):\n",
    "            if final_true_positive_observations_with_failure_modes.loc[k,\"TWF\"]==1: #if the failure mode is TWF\n",
    "                number_of_TWF_failures_in_true_positive_predictions = number_of_TWF_failures_in_true_positive_predictions + 1;\n",
    "            if final_true_positive_observations_with_failure_modes.loc[k,\"HDF\"]==1: #if the failure mode is HDF\n",
    "                number_of_HDF_failures_in_true_positive_predictions = number_of_HDF_failures_in_true_positive_predictions + 1;\n",
    "            if final_true_positive_observations_with_failure_modes.loc[k,\"PWF\"]==1: #if the failure mode is PWF\n",
    "                number_of_PWF_failures_in_true_positive_predictions = number_of_PWF_failures_in_true_positive_predictions + 1;\n",
    "            if final_true_positive_observations_with_failure_modes.loc[k,\"OSF\"]==1: #if the failure mode is OSF\n",
    "                number_of_OSF_failures_in_true_positive_predictions = number_of_OSF_failures_in_true_positive_predictions + 1;\n",
    "            if (final_true_positive_observations_with_failure_modes.loc[k,\"Machinefailure\"]==1) and (final_true_positive_observations_with_failure_modes.loc[k,\"TWF\"]==0) and (final_true_positive_observations_with_failure_modes.loc[k,\"HDF\"]==0) and (final_true_positive_observations_with_failure_modes.loc[k,\"PWF\"]==0) and (final_true_positive_observations_with_failure_modes.loc[k,\"OSF\"]==0) and (final_true_positive_observations_with_failure_modes.loc[k,\"RNF\"]==0):\n",
    "                number_of_random_failures_in_true_positive_predictions = number_of_random_failures_in_true_positive_predictions+1;\n",
    "    \n",
    "        #Calculate the correct explanations\n",
    "        correct_explanations = 0\n",
    "        correct_explanations_TWF = 0\n",
    "        correct_explanations_HDF = 0\n",
    "        correct_explanations_PWF = 0\n",
    "        correct_explanations_OSF = 0\n",
    "\n",
    "        for k in range(0,len(true_positive_observations)):\n",
    "            #if the failure mode is TWF\n",
    "            if final_true_positive_observations_with_failure_modes.loc[k,\"TWF\"]==1:\n",
    "                #if tool wear is the most important feature\n",
    "                if local_feature_importance_fcmb.loc[true_positive_indexes[k],\"Toolwearmin\"] == max(local_feature_importance_fcmb.loc[true_positive_indexes[k],:]):\n",
    "                    correct_explanations = correct_explanations+1;\n",
    "                    correct_explanations_TWF = correct_explanations_TWF + 1;\n",
    "                \n",
    "            #if the failure mode is HDF\n",
    "            if final_true_positive_observations_with_failure_modes.loc[k,\"HDF\"]==1: \n",
    "                maximum1 = max(local_feature_importance_fcmb.loc[true_positive_indexes[k],:]) \n",
    "                maximum2 = max(local_feature_importance_fcmb.loc[true_positive_indexes[k],:], key = lambda x: min(local_feature_importance_fcmb.loc[true_positive_indexes[k],:])-1 if (x == maximum1) else x)\n",
    "                if (local_feature_importance_fcmb.loc[true_positive_indexes[k],\"AirtemperatureK\"] == maximum1) or (local_feature_importance_fcmb.loc[true_positive_indexes[k],\"AirtemperatureK\"] == maximum2) or (local_feature_importance_fcmb.loc[true_positive_indexes[k],\"ProcesstemperatureK\"] == maximum1) or (local_feature_importance_fcmb.loc[true_positive_indexes[k],\"ProcesstemperatureK\"] == maximum2):\n",
    "                    correct_explanations = correct_explanations+1;\n",
    "                    correct_explanations_HDF = correct_explanations_HDF + 1;\n",
    "            \n",
    "            \n",
    "            #if the failure mode is PWF\n",
    "            if final_true_positive_observations_with_failure_modes.loc[k,\"PWF\"]==1: \n",
    "                maximum1 = max(local_feature_importance_fcmb.loc[true_positive_indexes[k],:]) \n",
    "                maximum2 = max(local_feature_importance_fcmb.loc[true_positive_indexes[k],:], key = lambda x: min(local_feature_importance_fcmb.loc[true_positive_indexes[k],:])-1 if (x == maximum1) else x)\n",
    "                if (local_feature_importance_fcmb.loc[true_positive_indexes[k],\"Rotationalspeedrpm\"] == maximum1) or (local_feature_importance_fcmb.loc[true_positive_indexes[k],\"Rotationalspeedrpm\"] == maximum2) or (local_feature_importance_fcmb.loc[true_positive_indexes[k],\"TorqueNm\"] == maximum1) or (local_feature_importance_fcmb.loc[true_positive_indexes[k],\"TorqueNm\"] == maximum2):\n",
    "                    correct_explanations = correct_explanations+1;\n",
    "                    correct_explanations_PWF = correct_explanations_PWF + 1;\n",
    "            \n",
    "            #if the failure mode is OSF        \n",
    "            if final_true_positive_observations_with_failure_modes.loc[k,\"OSF\"]==1:\n",
    "                maximum1 = max(local_feature_importance_fcmb.loc[true_positive_indexes[k],:]) \n",
    "                maximum2 = max(local_feature_importance_fcmb.loc[true_positive_indexes[k],:], key = lambda x: min(local_feature_importance_fcmb.loc[true_positive_indexes[k],:])-1 if (x == maximum1) else x)\n",
    "                if (local_feature_importance_fcmb.loc[true_positive_indexes[k],\"Toolwearmin\"] == maximum1) or (local_feature_importance_fcmb.loc[true_positive_indexes[k],\"Toolwearmin\"] == maximum2) or (local_feature_importance_fcmb.loc[true_positive_indexes[k],\"TorqueNm\"] == maximum1) or (local_feature_importance_fcmb.loc[true_positive_indexes[k],\"TorqueNm\"] == maximum2):\n",
    "                    correct_explanations = correct_explanations+1;\n",
    "                    correct_explanations_OSF = correct_explanations_OSF + 1;\n",
    "    \n",
    "        if number_of_TWF_failures_in_true_positive_predictions != 0:\n",
    "            twf_list.append(correct_explanations_TWF/number_of_TWF_failures_in_true_positive_predictions)\n",
    "            twf_success = correct_explanations_TWF/number_of_TWF_failures_in_true_positive_predictions\n",
    "        else:\n",
    "            twf_list.append(correct_explanations_TWF)\n",
    "            twf_success = 0\n",
    "        if number_of_HDF_failures_in_true_positive_predictions != 0:\n",
    "            hdf_list.append(correct_explanations_HDF/number_of_HDF_failures_in_true_positive_predictions)\n",
    "            hdf_success = correct_explanations_HDF/number_of_HDF_failures_in_true_positive_predictions\n",
    "        else:\n",
    "            hdf_list.append(correct_explanations_HDF)\n",
    "            hdf_success = 0\n",
    "        if number_of_PWF_failures_in_true_positive_predictions != 0:\n",
    "            pwf_list.append(correct_explanations_PWF/number_of_PWF_failures_in_true_positive_predictions)\n",
    "            pwf_success = correct_explanations_PWF/number_of_PWF_failures_in_true_positive_predictions\n",
    "        else:\n",
    "            pwf_list.append(correct_explanations_PWF)\n",
    "            pwf_success = 0\n",
    "        if number_of_OSF_failures_in_true_positive_predictions != 0:\n",
    "            osf_list.append(correct_explanations_OSF/number_of_OSF_failures_in_true_positive_predictions)\n",
    "            osf_success = correct_explanations_OSF/number_of_OSF_failures_in_true_positive_predictions\n",
    "        else:\n",
    "            osf_list.append(correct_explanations_OSF)\n",
    "            osf_success = 0\n",
    "    \n",
    "        average_success = (twf_success+hdf_success+pwf_success+osf_success)/4\n",
    "    \n",
    "        av_succ.append(average_success)\n",
    "        comb_list.append(comb)\n",
    "    \n",
    "    \n",
    "    \n",
    "result_df = pd.DataFrame({'Accuracy': acc_list, 'AUC': auc_list, 'Kappa':kappa_list, 'TWF':twf_list, 'HDF':hdf_list, 'PWF':pwf_list, 'OSF':osf_list, 'Combinations':comb_list})\n",
    "final_df = result_df.sort_values(by=['AUC'], ascending=False)\n",
    "final_df = final_df.reset_index(drop=True)\n",
    "best_estimator_params = grid[final_df.loc[0,\"Combinations\"]]\n",
    "display(best_estimator_params) "
   ]
  },
  {
   "cell_type": "code",
   "execution_count": null,
   "id": "1fe7e49f",
   "metadata": {},
   "outputs": [],
   "source": []
  },
  {
   "cell_type": "code",
   "execution_count": null,
   "id": "a9965d8a",
   "metadata": {},
   "outputs": [],
   "source": []
  },
  {
   "cell_type": "code",
   "execution_count": null,
   "id": "e4fa7ebf",
   "metadata": {},
   "outputs": [],
   "source": []
  },
  {
   "cell_type": "code",
   "execution_count": null,
   "id": "bf304200",
   "metadata": {},
   "outputs": [],
   "source": []
  },
  {
   "cell_type": "code",
   "execution_count": null,
   "id": "cfe76e7c",
   "metadata": {},
   "outputs": [],
   "source": []
  },
  {
   "cell_type": "code",
   "execution_count": null,
   "id": "26e6f516",
   "metadata": {},
   "outputs": [],
   "source": []
  },
  {
   "cell_type": "code",
   "execution_count": null,
   "id": "f9db2e40",
   "metadata": {},
   "outputs": [],
   "source": []
  }
 ],
 "metadata": {
  "kernelspec": {
   "display_name": "Python 3",
   "language": "python",
   "name": "python3"
  },
  "language_info": {
   "codemirror_mode": {
    "name": "ipython",
    "version": 3
   },
   "file_extension": ".py",
   "mimetype": "text/x-python",
   "name": "python",
   "nbconvert_exporter": "python",
   "pygments_lexer": "ipython3",
   "version": "3.8.5"
  }
 },
 "nbformat": 4,
 "nbformat_minor": 5
}

{
 "cells": [
  {
   "cell_type": "code",
   "execution_count": 1,
   "metadata": {
    "scrolled": true
   },
   "outputs": [],
   "source": [
    "#!pip install Flask --upgrade\n",
    "import pandas as pd\n",
    "pd.options.mode.chained_assignment = None  # default='warn'\n",
    "import re\n",
    "import numpy as np\n",
    "\n",
    "from fitter import Fitter, get_common_distributions, get_distributions\n",
    "from sklearn import preprocessing\n",
    "from sklearn.preprocessing import scale\n",
    "from sklearn.preprocessing import MinMaxScaler\n",
    "from sklearn.preprocessing import StandardScaler\n",
    "from sklearn.preprocessing import Normalizer\n",
    "from sklearn.decomposition import PCA\n",
    "from sklearn.datasets import make_friedman3, make_s_curve\n",
    "from sklearn.linear_model import BayesianRidge, ElasticNet\n",
    "from sklearn.model_selection import KFold, train_test_split\n",
    "from sklearn.model_selection import RepeatedKFold\n",
    "from sklearn.model_selection import StratifiedKFold\n",
    "from sklearn.naive_bayes import GaussianNB\n",
    "from sklearn.tree import DecisionTreeRegressor\n",
    "from sklearn.tree import DecisionTreeClassifier # Import Decision Tree Classifier\n",
    "from sklearn.neural_network import MLPClassifier\n",
    "\n",
    "#!pip install imbalanced-learn\n",
    "#!pip install lightgbm\n",
    "#!pip install wittgenstein --user\n",
    "#!pip install explainerdashboard --user\n",
    "\n",
    "from imblearn.over_sampling import ADASYN\n",
    "from imblearn.combine import SMOTEENN\n",
    "from imblearn.combine import SMOTETomek\n",
    "from sklearn.model_selection import cross_val_predict\n",
    "from sklearn.model_selection import cross_val_score\n",
    "from sklearn.model_selection import GridSearchCV\n",
    "from sklearn.model_selection import ParameterGrid\n",
    "from sklearn.metrics import cohen_kappa_score\n",
    "from sklearn.metrics import accuracy_score\n",
    "from sklearn.metrics import classification_report\n",
    "\n",
    "\n",
    "# for Box-Cox Transformation\n",
    "from scipy import stats\n",
    "\n",
    "# plotting modules\n",
    "import seaborn as sns\n",
    "import matplotlib.pyplot as plt\n",
    "from matplotlib.pyplot import figure\n",
    "from plotly.subplots import make_subplots\n",
    "import plotly.graph_objs as go\n",
    "import plotly.express as px\n",
    "\n",
    "from tqdm import tqdm\n",
    "import math\n",
    "\n",
    "from sklearn.datasets import make_blobs\n",
    "from matplotlib import pyplot\n",
    "from pandas import DataFrame\n",
    "\n",
    "#Multilabel Stratified K Fold Creation\n",
    "#!pip install iterative-stratification\n",
    "import sys\n",
    "sys.path.append('../input/iterative-stratification/iterative-stratification-master')\n",
    "from iterstrat.ml_stratifiers import MultilabelStratifiedKFold"
   ]
  },
  {
   "cell_type": "code",
   "execution_count": 2,
   "metadata": {
    "scrolled": true
   },
   "outputs": [
    {
     "data": {
      "text/html": [
       "<div>\n",
       "<style scoped>\n",
       "    .dataframe tbody tr th:only-of-type {\n",
       "        vertical-align: middle;\n",
       "    }\n",
       "\n",
       "    .dataframe tbody tr th {\n",
       "        vertical-align: top;\n",
       "    }\n",
       "\n",
       "    .dataframe thead th {\n",
       "        text-align: right;\n",
       "    }\n",
       "</style>\n",
       "<table border=\"1\" class=\"dataframe\">\n",
       "  <thead>\n",
       "    <tr style=\"text-align: right;\">\n",
       "      <th></th>\n",
       "      <th>Type</th>\n",
       "      <th>Air temperature [K]</th>\n",
       "      <th>Process temperature [K]</th>\n",
       "      <th>Rotational speed [rpm]</th>\n",
       "      <th>Torque [Nm]</th>\n",
       "      <th>Tool wear [min]</th>\n",
       "      <th>Machine failure</th>\n",
       "      <th>TWF</th>\n",
       "      <th>HDF</th>\n",
       "      <th>PWF</th>\n",
       "      <th>OSF</th>\n",
       "      <th>RNF</th>\n",
       "    </tr>\n",
       "  </thead>\n",
       "  <tbody>\n",
       "    <tr>\n",
       "      <th>0</th>\n",
       "      <td>1</td>\n",
       "      <td>298.1</td>\n",
       "      <td>308.6</td>\n",
       "      <td>1551</td>\n",
       "      <td>42.8</td>\n",
       "      <td>0</td>\n",
       "      <td>0</td>\n",
       "      <td>0</td>\n",
       "      <td>0</td>\n",
       "      <td>0</td>\n",
       "      <td>0</td>\n",
       "      <td>0</td>\n",
       "    </tr>\n",
       "    <tr>\n",
       "      <th>1</th>\n",
       "      <td>0</td>\n",
       "      <td>298.2</td>\n",
       "      <td>308.7</td>\n",
       "      <td>1408</td>\n",
       "      <td>46.3</td>\n",
       "      <td>3</td>\n",
       "      <td>0</td>\n",
       "      <td>0</td>\n",
       "      <td>0</td>\n",
       "      <td>0</td>\n",
       "      <td>0</td>\n",
       "      <td>0</td>\n",
       "    </tr>\n",
       "    <tr>\n",
       "      <th>2</th>\n",
       "      <td>0</td>\n",
       "      <td>298.1</td>\n",
       "      <td>308.5</td>\n",
       "      <td>1498</td>\n",
       "      <td>49.4</td>\n",
       "      <td>5</td>\n",
       "      <td>0</td>\n",
       "      <td>0</td>\n",
       "      <td>0</td>\n",
       "      <td>0</td>\n",
       "      <td>0</td>\n",
       "      <td>0</td>\n",
       "    </tr>\n",
       "    <tr>\n",
       "      <th>3</th>\n",
       "      <td>0</td>\n",
       "      <td>298.2</td>\n",
       "      <td>308.6</td>\n",
       "      <td>1433</td>\n",
       "      <td>39.5</td>\n",
       "      <td>7</td>\n",
       "      <td>0</td>\n",
       "      <td>0</td>\n",
       "      <td>0</td>\n",
       "      <td>0</td>\n",
       "      <td>0</td>\n",
       "      <td>0</td>\n",
       "    </tr>\n",
       "    <tr>\n",
       "      <th>4</th>\n",
       "      <td>0</td>\n",
       "      <td>298.2</td>\n",
       "      <td>308.7</td>\n",
       "      <td>1408</td>\n",
       "      <td>40.0</td>\n",
       "      <td>9</td>\n",
       "      <td>0</td>\n",
       "      <td>0</td>\n",
       "      <td>0</td>\n",
       "      <td>0</td>\n",
       "      <td>0</td>\n",
       "      <td>0</td>\n",
       "    </tr>\n",
       "  </tbody>\n",
       "</table>\n",
       "</div>"
      ],
      "text/plain": [
       "   Type  Air temperature [K]  Process temperature [K]  Rotational speed [rpm]  \\\n",
       "0     1                298.1                    308.6                    1551   \n",
       "1     0                298.2                    308.7                    1408   \n",
       "2     0                298.1                    308.5                    1498   \n",
       "3     0                298.2                    308.6                    1433   \n",
       "4     0                298.2                    308.7                    1408   \n",
       "\n",
       "   Torque [Nm]  Tool wear [min]  Machine failure  TWF  HDF  PWF  OSF  RNF  \n",
       "0         42.8                0                0    0    0    0    0    0  \n",
       "1         46.3                3                0    0    0    0    0    0  \n",
       "2         49.4                5                0    0    0    0    0    0  \n",
       "3         39.5                7                0    0    0    0    0    0  \n",
       "4         40.0                9                0    0    0    0    0    0  "
      ]
     },
     "execution_count": 2,
     "metadata": {},
     "output_type": "execute_result"
    }
   ],
   "source": [
    "#Collect data from sensors (i.e., time-series data) installed in the manufacturing system \n",
    "ai4i2020_encoded_balanced=pd.read_csv(r'..\\\\..\\\\dataset\\\\raw_data\\\\ai4i2020_encoded_balanced.csv')\n",
    "ai4i2020_encoded_balanced.head()"
   ]
  },
  {
   "cell_type": "code",
   "execution_count": 3,
   "metadata": {},
   "outputs": [],
   "source": [
    "# Run in local\n",
    "# Fold index\n",
    "fold = 1\n",
    "\n",
    "original_X_train = pd.read_csv('..\\\\..\\\\dataset\\\\k-fold cross validation datasets\\\\' + str(fold) + \"\\\\Training Dataset\" + \"\\\\X_train_iter_\" + str(fold) + \".csv\")\n",
    "original_X_test = pd.read_csv('G:\\\\.shortcut-targets-by-id\\\\1-wapAl6N5YrCs68c4NiFKyvybXTXmdgZ\\\\Ph_D_Tyrovolas\\\\Our Papers\\\\3rd_Paper-Proposal\\\\Testbed Codes\\\\AI4I_Case_Study\\\\k-fold cross validation datasets\\\\' + str(fold) + \"\\\\Test Dataset\" + \"\\\\X_test_iter_\" + str(fold) + \".csv\")\n",
    "\n",
    "X_train = pd.read_csv('..\\\\..\\\\dataset\\\\k-fold cross validation datasets\\\\' + str(fold) + \"\\\\Training Dataset\" + \"\\\\Scaled_X_train_iter_\" + str(fold) + \".csv\", names=['Type', 'Air temperature [K]', 'Process temperature [K]', 'Rotational speed [rpm]', 'Torque [Nm]', 'Tool wear [min]'])\n",
    "y_train = pd.read_csv('..\\\\..\\\\dataset\\\\k-fold cross validation datasets\\\\' + str(fold) + \"\\\\Training Dataset\" + \"\\\\y_train_iter_\" + str(fold) + \".csv\")\n",
    "X_test = pd.read_csv('..\\\\..\\\\dataset\\\\k-fold cross validation datasets\\\\' + str(fold) + \"\\\\Test Dataset\" + \"\\\\Scaled_X_test_iter_\" + str(fold) + \".csv\", names=['Type', 'Air temperature [K]', 'Process temperature [K]', 'Rotational speed [rpm]', 'Torque [Nm]', 'Tool wear [min]'])\n",
    "y_test = pd.read_csv('..\\\\..\\\\dataset\\\\k-fold cross validation datasets\\\\' + str(fold) + \"\\\\Test Dataset\" + \"\\\\y_test_iter_\" + str(fold) + \".csv\")"
   ]
  },
  {
   "cell_type": "code",
   "execution_count": 4,
   "metadata": {},
   "outputs": [],
   "source": [
    "X_train = X_train.rename(columns = lambda x:re.sub('[^A-Za-z0-9_]+', '', x))\n",
    "X_test = X_test.rename(columns = lambda x:re.sub('[^A-Za-z0-9_]+', '', x))"
   ]
  },
  {
   "cell_type": "code",
   "execution_count": 5,
   "metadata": {},
   "outputs": [],
   "source": [
    "acc_list = []\n",
    "auc_list = []\n",
    "kappa_list = []"
   ]
  },
  {
   "cell_type": "markdown",
   "metadata": {},
   "source": [
    "## Fuzzy Cognitive Map"
   ]
  },
  {
   "cell_type": "code",
   "execution_count": 6,
   "metadata": {},
   "outputs": [],
   "source": [
    "from numpy import genfromtxt\n",
    "y_train_pred_fcm = genfromtxt(r'..\\\\..\\\\dataset\\\\k-fold cross validation datasets\\\\' + str(fold) + \"\\\\Training Dataset\" + \"\\\\y_train_pred_fcm.csv\", delimiter=',')\n",
    "y_test_pred_fcm = genfromtxt(r'..\\\\..\\\\dataset\\\\k-fold cross validation datasets\\\\' + str(fold) + \"\\\\Test Dataset\" + \"\\\\y_test_pred_fcm.csv\", delimiter=',')\n",
    "fcm_pred_class_train = genfromtxt(r'..\\\\..\\\\dataset\\\\k-fold cross validation datasets\\\\' + str(fold) + \"\\\\Training Dataset\" + \"\\\\fcm_pred_class_train.csv\", delimiter=',')\n",
    "fcm_pred_class_test = genfromtxt(r'..\\\\..\\\\dataset\\\\k-fold cross validation datasets\\\\' + str(fold) + \"\\\\Test Dataset\" + \"\\\\fcm_pred_class_test.csv\", delimiter=',')"
   ]
  },
  {
   "cell_type": "code",
   "execution_count": 7,
   "metadata": {},
   "outputs": [
    {
     "data": {
      "text/plain": [
       "<Axes: >"
      ]
     },
     "execution_count": 7,
     "metadata": {},
     "output_type": "execute_result"
    },
    {
     "data": {
      "image/png": "[encoded data removed]",
      "text/plain": [
       "<Figure size 640x480 with 2 Axes>"
      ]
     },
     "metadata": {},
     "output_type": "display_data"
    }
   ],
   "source": [
    "from sklearn.metrics import confusion_matrix\n",
    "\n",
    "confusion_matrix(y_train, fcm_pred_class_train)\n",
    "sns.heatmap(confusion_matrix(y_train, fcm_pred_class_train), annot=True,fmt='d')"
   ]
  },
  {
   "cell_type": "code",
   "execution_count": 8,
   "metadata": {},
   "outputs": [
    {
     "name": "stdout",
     "output_type": "stream",
     "text": [
      "Precision Score:  0.8919576416714368\n",
      "Recall Score:  0.7561567390513163\n",
      "F1 Score:  0.8184623465301032\n",
      "Accuracy Score:  0.8245112972835745\n"
     ]
    }
   ],
   "source": [
    "#Performance measures for training dataset\n",
    "\n",
    "from sklearn.metrics import precision_score, recall_score,f1_score,accuracy_score\n",
    "print(\"Precision Score: \",precision_score(y_train,fcm_pred_class_train))\n",
    "print(\"Recall Score: \",recall_score(y_train, fcm_pred_class_train))\n",
    "print(\"F1 Score: \",f1_score(y_train, fcm_pred_class_train))\n",
    "print(\"Accuracy Score: \",accuracy_score(y_train, fcm_pred_class_train))"
   ]
  },
  {
   "cell_type": "markdown",
   "metadata": {},
   "source": [
    "#### Evaluating on Test set "
   ]
  },
  {
   "cell_type": "code",
   "execution_count": 9,
   "metadata": {},
   "outputs": [
    {
     "name": "stdout",
     "output_type": "stream",
     "text": [
      "Precision Score:  0.8835534213685474\n",
      "Recall Score:  0.8034934497816594\n",
      "F1 Score:  0.8416237850200115\n",
      "Accuracy Score:  0.8418046830382638\n"
     ]
    }
   ],
   "source": [
    "from sklearn.metrics import precision_score, recall_score,f1_score,accuracy_score\n",
    "\n",
    "print(\"Precision Score: \",precision_score(y_test, fcm_pred_class_test))\n",
    "print(\"Recall Score: \",recall_score(y_test, fcm_pred_class_test))\n",
    "print(\"F1 Score: \",f1_score(y_test, fcm_pred_class_test))\n",
    "print(\"Accuracy Score: \",accuracy_score(y_test, fcm_pred_class_test))"
   ]
  },
  {
   "cell_type": "code",
   "execution_count": 10,
   "metadata": {
    "scrolled": true
   },
   "outputs": [
    {
     "name": "stdout",
     "output_type": "stream",
     "text": [
      "0.8755667703893523\n"
     ]
    }
   ],
   "source": [
    "#calculate AUC of model\n",
    "from sklearn import metrics\n",
    "auc_fcm = metrics.roc_auc_score(y_test, y_test_pred_fcm)\n",
    "print(auc_fcm)"
   ]
  },
  {
   "cell_type": "code",
   "execution_count": 11,
   "metadata": {},
   "outputs": [
    {
     "data": {
      "text/plain": [
       "0.6843182597727349"
      ]
     },
     "execution_count": 11,
     "metadata": {},
     "output_type": "execute_result"
    }
   ],
   "source": [
    "cohen_score_fcm = cohen_kappa_score(y_test, fcm_pred_class_test)\n",
    "cohen_score_fcm"
   ]
  },
  {
   "cell_type": "code",
   "execution_count": 12,
   "metadata": {},
   "outputs": [],
   "source": [
    "acc_list.append(metrics.accuracy_score(y_test, fcm_pred_class_test))\n",
    "auc_list.append(auc_fcm)\n",
    "kappa_list.append(cohen_score_fcm)"
   ]
  },
  {
   "cell_type": "markdown",
   "metadata": {},
   "source": [
    "## Explainable Boosting Machine (EBM)"
   ]
  },
  {
   "cell_type": "markdown",
   "metadata": {},
   "source": [
    "Default parameters were used, as suggested by the library originators [6,11] and also to specifically assess how well the algorithm performed “out-of-box”. Specifically, 5000 rounds of boosting were used with a learning rate of 0.01. We obtained all graphics representing the one-dimensional feature functions for each predictor variable, two-dimensional feature functions for included interactions, and global importance estimates based on mean absolute scores. We also explored local predictions for selected points.\n",
    "\n",
    "6. Nori, H.; Jenkins, S.; Koch, P.; Caruana, R. InterpretML: A Unified Framework for Machine Learning Interpretability. arXiv 2019, arXiv:1909.09223. [Google Scholar]\n",
    "\n",
    "11. Nori, H.; Caruana, R.; Bu, Z.; Shen, J.H.; Kulkarni, J. Accuracy, Interpretability, and Differential Privacy via Explainable Boosting. arXiv 2021, arXiv:2106.09680. [Google Scholar]"
   ]
  },
  {
   "cell_type": "code",
   "execution_count": 13,
   "metadata": {
    "scrolled": true
   },
   "outputs": [
    {
     "data": {
      "text/html": [
       "<style>#sk-container-id-1 {color: black;background-color: white;}#sk-container-id-1 pre{padding: 0;}#sk-container-id-1 div.sk-toggleable {background-color: white;}#sk-container-id-1 label.sk-toggleable__label {cursor: pointer;display: block;width: 100%;margin-bottom: 0;padding: 0.3em;box-sizing: border-box;text-align: center;}#sk-container-id-1 label.sk-toggleable__label-arrow:before {content: \"▸\";float: left;margin-right: 0.25em;color: #696969;}#sk-container-id-1 label.sk-toggleable__label-arrow:hover:before {color: black;}#sk-container-id-1 div.sk-estimator:hover label.sk-toggleable__label-arrow:before {color: black;}#sk-container-id-1 div.sk-toggleable__content {max-height: 0;max-width: 0;overflow: hidden;text-align: left;background-color: #f0f8ff;}#sk-container-id-1 div.sk-toggleable__content pre {margin: 0.2em;color: black;border-radius: 0.25em;background-color: #f0f8ff;}#sk-container-id-1 input.sk-toggleable__control:checked~div.sk-toggleable__content {max-height: 200px;max-width: 100%;overflow: auto;}#sk-container-id-1 input.sk-toggleable__control:checked~label.sk-toggleable__label-arrow:before {content: \"▾\";}#sk-container-id-1 div.sk-estimator input.sk-toggleable__control:checked~label.sk-toggleable__label {background-color: #d4ebff;}#sk-container-id-1 div.sk-label input.sk-toggleable__control:checked~label.sk-toggleable__label {background-color: #d4ebff;}#sk-container-id-1 input.sk-hidden--visually {border: 0;clip: rect(1px 1px 1px 1px);clip: rect(1px, 1px, 1px, 1px);height: 1px;margin: -1px;overflow: hidden;padding: 0;position: absolute;width: 1px;}#sk-container-id-1 div.sk-estimator {font-family: monospace;background-color: #f0f8ff;border: 1px dotted black;border-radius: 0.25em;box-sizing: border-box;margin-bottom: 0.5em;}#sk-container-id-1 div.sk-estimator:hover {background-color: #d4ebff;}#sk-container-id-1 div.sk-parallel-item::after {content: \"\";width: 100%;border-bottom: 1px solid gray;flex-grow: 1;}#sk-container-id-1 div.sk-label:hover label.sk-toggleable__label {background-color: #d4ebff;}#sk-container-id-1 div.sk-serial::before {content: \"\";position: absolute;border-left: 1px solid gray;box-sizing: border-box;top: 0;bottom: 0;left: 50%;z-index: 0;}#sk-container-id-1 div.sk-serial {display: flex;flex-direction: column;align-items: center;background-color: white;padding-right: 0.2em;padding-left: 0.2em;position: relative;}#sk-container-id-1 div.sk-item {position: relative;z-index: 1;}#sk-container-id-1 div.sk-parallel {display: flex;align-items: stretch;justify-content: center;background-color: white;position: relative;}#sk-container-id-1 div.sk-item::before, #sk-container-id-1 div.sk-parallel-item::before {content: \"\";position: absolute;border-left: 1px solid gray;box-sizing: border-box;top: 0;bottom: 0;left: 50%;z-index: -1;}#sk-container-id-1 div.sk-parallel-item {display: flex;flex-direction: column;z-index: 1;position: relative;background-color: white;}#sk-container-id-1 div.sk-parallel-item:first-child::after {align-self: flex-end;width: 50%;}#sk-container-id-1 div.sk-parallel-item:last-child::after {align-self: flex-start;width: 50%;}#sk-container-id-1 div.sk-parallel-item:only-child::after {width: 0;}#sk-container-id-1 div.sk-dashed-wrapped {border: 1px dashed gray;margin: 0 0.4em 0.5em 0.4em;box-sizing: border-box;padding-bottom: 0.4em;background-color: white;}#sk-container-id-1 div.sk-label label {font-family: monospace;font-weight: bold;display: inline-block;line-height: 1.2em;}#sk-container-id-1 div.sk-label-container {text-align: center;}#sk-container-id-1 div.sk-container {/* jupyter's `normalize.less` sets `[hidden] { display: none; }` but bootstrap.min.css set `[hidden] { display: none !important; }` so we also need the `!important` here to be able to override the default hidden behavior on the sphinx rendered scikit-learn.org. See: https://github.com/scikit-learn/scikit-learn/issues/21755 */display: inline-block !important;position: relative;}#sk-container-id-1 div.sk-text-repr-fallback {display: none;}</style><div id=\"sk-container-id-1\" class=\"sk-top-container\"><div class=\"sk-text-repr-fallback\"><pre>ExplainableBoostingClassifier(random_state=50)</pre><b>In a Jupyter environment, please rerun this cell to show the HTML representation or trust the notebook. <br />On GitHub, the HTML representation is unable to render, please try loading this page with nbviewer.org.</b></div><div class=\"sk-container\" hidden><div class=\"sk-item\"><div class=\"sk-estimator sk-toggleable\"><input class=\"sk-toggleable__control sk-hidden--visually\" id=\"sk-estimator-id-1\" type=\"checkbox\" checked><label for=\"sk-estimator-id-1\" class=\"sk-toggleable__label sk-toggleable__label-arrow\">ExplainableBoostingClassifier</label><div class=\"sk-toggleable__content\"><pre>ExplainableBoostingClassifier(random_state=50)</pre></div></div></div></div></div>"
      ],
      "text/plain": [
       "ExplainableBoostingClassifier(random_state=50)"
      ]
     },
     "execution_count": 13,
     "metadata": {},
     "output_type": "execute_result"
    }
   ],
   "source": [
    "from interpret.glassbox import ExplainableBoostingClassifier\n",
    "seed = 50\n",
    "ebm = ExplainableBoostingClassifier(random_state=seed)\n",
    "\n",
    "ebm.fit(X_train, y_train)"
   ]
  },
  {
   "cell_type": "code",
   "execution_count": 14,
   "metadata": {},
   "outputs": [
    {
     "data": {
      "text/plain": [
       "{'early_stopping_rounds': 50,\n",
       " 'early_stopping_tolerance': 0.0001,\n",
       " 'exclude': [],\n",
       " 'feature_names': None,\n",
       " 'feature_types': None,\n",
       " 'greediness': 0.0,\n",
       " 'inner_bags': 0,\n",
       " 'interactions': 10,\n",
       " 'learning_rate': 0.01,\n",
       " 'max_bins': 256,\n",
       " 'max_interaction_bins': 32,\n",
       " 'max_leaves': 3,\n",
       " 'max_rounds': 5000,\n",
       " 'min_samples_leaf': 2,\n",
       " 'n_jobs': -2,\n",
       " 'objective': 'log_loss',\n",
       " 'outer_bags': 8,\n",
       " 'random_state': 50,\n",
       " 'smoothing_rounds': 0,\n",
       " 'validation_size': 0.15}"
      ]
     },
     "execution_count": 14,
     "metadata": {},
     "output_type": "execute_result"
    }
   ],
   "source": [
    "ebm.get_params()"
   ]
  },
  {
   "cell_type": "code",
   "execution_count": 15,
   "metadata": {},
   "outputs": [
    {
     "name": "stdout",
     "output_type": "stream",
     "text": [
      "Explainable Boosting Machine score:  0.9980959634424981\n"
     ]
    }
   ],
   "source": [
    "#Predict the response for train dataset\n",
    "y_train_pred_ebm = ebm.predict(X_train)\n",
    "\n",
    "print(\"Explainable Boosting Machine score: \",ebm.score(X_train, y_train))"
   ]
  },
  {
   "cell_type": "code",
   "execution_count": 16,
   "metadata": {},
   "outputs": [
    {
     "data": {
      "text/plain": [
       "<Axes: >"
      ]
     },
     "execution_count": 16,
     "metadata": {},
     "output_type": "execute_result"
    },
    {
     "data": {
      "image/png": "[encoded data removed]",
      "text/plain": [
       "<Figure size 640x480 with 2 Axes>"
      ]
     },
     "metadata": {},
     "output_type": "display_data"
    }
   ],
   "source": [
    "from sklearn.metrics import confusion_matrix\n",
    "\n",
    "confusion_matrix(y_train, y_train_pred_ebm)\n",
    "sns.heatmap(confusion_matrix(y_train, y_train_pred_ebm), annot=True,fmt='d')"
   ]
  },
  {
   "cell_type": "code",
   "execution_count": 17,
   "metadata": {},
   "outputs": [
    {
     "name": "stdout",
     "output_type": "stream",
     "text": [
      "Precision Score:  0.9974560872198668\n",
      "Recall Score:  0.9989081645032148\n",
      "F1 Score:  0.9981815977694265\n",
      "Accuracy Score:  0.9980959634424981\n"
     ]
    }
   ],
   "source": [
    "#Performance measures for training dataset\n",
    "\n",
    "from sklearn.metrics import precision_score, recall_score,f1_score,accuracy_score\n",
    "print(\"Precision Score: \",precision_score(y_train,y_train_pred_ebm))\n",
    "print(\"Recall Score: \",recall_score(y_train,y_train_pred_ebm))\n",
    "print(\"F1 Score: \",f1_score(y_train, y_train_pred_ebm))\n",
    "print(\"Accuracy Score: \",accuracy_score(y_train,y_train_pred_ebm))"
   ]
  },
  {
   "cell_type": "markdown",
   "metadata": {},
   "source": [
    "#### Evaluating on Test set "
   ]
  },
  {
   "cell_type": "code",
   "execution_count": 18,
   "metadata": {},
   "outputs": [
    {
     "name": "stdout",
     "output_type": "stream",
     "text": [
      "Precision Score:  0.9848975188781014\n",
      "Recall Score:  0.9967248908296943\n",
      "F1 Score:  0.9907759088442756\n",
      "Accuracy Score:  0.9902912621359223\n"
     ]
    }
   ],
   "source": [
    "from sklearn.metrics import precision_score, recall_score,f1_score,accuracy_score\n",
    "\n",
    "#Predict the response for test dataset\n",
    "y_test_pred_ebm = ebm.predict(X_test)\n",
    "\n",
    "\n",
    "print(\"Precision Score: \",precision_score(y_test, y_test_pred_ebm))\n",
    "print(\"Recall Score: \",recall_score(y_test, y_test_pred_ebm))\n",
    "print(\"F1 Score: \",f1_score(y_test, y_test_pred_ebm))\n",
    "print(\"Accuracy Score: \",accuracy_score(y_test, y_test_pred_ebm))"
   ]
  },
  {
   "cell_type": "code",
   "execution_count": 19,
   "metadata": {},
   "outputs": [
    {
     "name": "stdout",
     "output_type": "stream",
     "text": [
      "0.9899792118819131\n"
     ]
    }
   ],
   "source": [
    "from sklearn import metrics\n",
    "#calculate AUC of model\n",
    "auc_ebm = metrics.roc_auc_score(y_test, y_test_pred_ebm)\n",
    "print(auc_ebm)"
   ]
  },
  {
   "cell_type": "code",
   "execution_count": 20,
   "metadata": {},
   "outputs": [],
   "source": [
    "cohen_score_ebm = cohen_kappa_score(y_test, y_test_pred_ebm)"
   ]
  },
  {
   "cell_type": "code",
   "execution_count": 21,
   "metadata": {},
   "outputs": [],
   "source": [
    "acc_list.append(accuracy_score(y_test, y_test_pred_ebm))\n",
    "auc_list.append(auc_ebm)\n",
    "kappa_list.append(cohen_score_ebm)"
   ]
  },
  {
   "cell_type": "markdown",
   "metadata": {},
   "source": [
    "#### Global explanations"
   ]
  },
  {
   "cell_type": "code",
   "execution_count": 22,
   "metadata": {
    "scrolled": true
   },
   "outputs": [
    {
     "data": {
      "text/html": [
       "<!-- http://127.0.0.1:7001/2871402212096/ -->\n",
       "<iframe src=\"http://127.0.0.1:7001/2871402212096/\" width=100% height=800 frameBorder=\"0\"></iframe>"
      ]
     },
     "metadata": {},
     "output_type": "display_data"
    }
   ],
   "source": [
    "from interpret import show\n",
    "ebm_global = ebm.explain_global()\n",
    "show(ebm_global)"
   ]
  },
  {
   "cell_type": "markdown",
   "metadata": {},
   "source": [
    "#### Local explanations"
   ]
  },
  {
   "cell_type": "code",
   "execution_count": 23,
   "metadata": {
    "scrolled": false
   },
   "outputs": [
    {
     "data": {
      "text/html": [
       "<!-- http://127.0.0.1:7001/2871428943584/ -->\n",
       "<iframe src=\"http://127.0.0.1:7001/2871428943584/\" width=100% height=800 frameBorder=\"0\"></iframe>"
      ]
     },
     "metadata": {},
     "output_type": "display_data"
    }
   ],
   "source": [
    "ebm_local = ebm.explain_local(X_test, y_test)\n",
    "show(ebm_local)"
   ]
  },
  {
   "cell_type": "markdown",
   "metadata": {},
   "source": [
    "## LightGBM"
   ]
  },
  {
   "cell_type": "code",
   "execution_count": 24,
   "metadata": {},
   "outputs": [
    {
     "data": {
      "text/html": [
       "<style>#sk-container-id-2 {color: black;background-color: white;}#sk-container-id-2 pre{padding: 0;}#sk-container-id-2 div.sk-toggleable {background-color: white;}#sk-container-id-2 label.sk-toggleable__label {cursor: pointer;display: block;width: 100%;margin-bottom: 0;padding: 0.3em;box-sizing: border-box;text-align: center;}#sk-container-id-2 label.sk-toggleable__label-arrow:before {content: \"▸\";float: left;margin-right: 0.25em;color: #696969;}#sk-container-id-2 label.sk-toggleable__label-arrow:hover:before {color: black;}#sk-container-id-2 div.sk-estimator:hover label.sk-toggleable__label-arrow:before {color: black;}#sk-container-id-2 div.sk-toggleable__content {max-height: 0;max-width: 0;overflow: hidden;text-align: left;background-color: #f0f8ff;}#sk-container-id-2 div.sk-toggleable__content pre {margin: 0.2em;color: black;border-radius: 0.25em;background-color: #f0f8ff;}#sk-container-id-2 input.sk-toggleable__control:checked~div.sk-toggleable__content {max-height: 200px;max-width: 100%;overflow: auto;}#sk-container-id-2 input.sk-toggleable__control:checked~label.sk-toggleable__label-arrow:before {content: \"▾\";}#sk-container-id-2 div.sk-estimator input.sk-toggleable__control:checked~label.sk-toggleable__label {background-color: #d4ebff;}#sk-container-id-2 div.sk-label input.sk-toggleable__control:checked~label.sk-toggleable__label {background-color: #d4ebff;}#sk-container-id-2 input.sk-hidden--visually {border: 0;clip: rect(1px 1px 1px 1px);clip: rect(1px, 1px, 1px, 1px);height: 1px;margin: -1px;overflow: hidden;padding: 0;position: absolute;width: 1px;}#sk-container-id-2 div.sk-estimator {font-family: monospace;background-color: #f0f8ff;border: 1px dotted black;border-radius: 0.25em;box-sizing: border-box;margin-bottom: 0.5em;}#sk-container-id-2 div.sk-estimator:hover {background-color: #d4ebff;}#sk-container-id-2 div.sk-parallel-item::after {content: \"\";width: 100%;border-bottom: 1px solid gray;flex-grow: 1;}#sk-container-id-2 div.sk-label:hover label.sk-toggleable__label {background-color: #d4ebff;}#sk-container-id-2 div.sk-serial::before {content: \"\";position: absolute;border-left: 1px solid gray;box-sizing: border-box;top: 0;bottom: 0;left: 50%;z-index: 0;}#sk-container-id-2 div.sk-serial {display: flex;flex-direction: column;align-items: center;background-color: white;padding-right: 0.2em;padding-left: 0.2em;position: relative;}#sk-container-id-2 div.sk-item {position: relative;z-index: 1;}#sk-container-id-2 div.sk-parallel {display: flex;align-items: stretch;justify-content: center;background-color: white;position: relative;}#sk-container-id-2 div.sk-item::before, #sk-container-id-2 div.sk-parallel-item::before {content: \"\";position: absolute;border-left: 1px solid gray;box-sizing: border-box;top: 0;bottom: 0;left: 50%;z-index: -1;}#sk-container-id-2 div.sk-parallel-item {display: flex;flex-direction: column;z-index: 1;position: relative;background-color: white;}#sk-container-id-2 div.sk-parallel-item:first-child::after {align-self: flex-end;width: 50%;}#sk-container-id-2 div.sk-parallel-item:last-child::after {align-self: flex-start;width: 50%;}#sk-container-id-2 div.sk-parallel-item:only-child::after {width: 0;}#sk-container-id-2 div.sk-dashed-wrapped {border: 1px dashed gray;margin: 0 0.4em 0.5em 0.4em;box-sizing: border-box;padding-bottom: 0.4em;background-color: white;}#sk-container-id-2 div.sk-label label {font-family: monospace;font-weight: bold;display: inline-block;line-height: 1.2em;}#sk-container-id-2 div.sk-label-container {text-align: center;}#sk-container-id-2 div.sk-container {/* jupyter's `normalize.less` sets `[hidden] { display: none; }` but bootstrap.min.css set `[hidden] { display: none !important; }` so we also need the `!important` here to be able to override the default hidden behavior on the sphinx rendered scikit-learn.org. See: https://github.com/scikit-learn/scikit-learn/issues/21755 */display: inline-block !important;position: relative;}#sk-container-id-2 div.sk-text-repr-fallback {display: none;}</style><div id=\"sk-container-id-2\" class=\"sk-top-container\"><div class=\"sk-text-repr-fallback\"><pre>LGBMClassifier()</pre><b>In a Jupyter environment, please rerun this cell to show the HTML representation or trust the notebook. <br />On GitHub, the HTML representation is unable to render, please try loading this page with nbviewer.org.</b></div><div class=\"sk-container\" hidden><div class=\"sk-item\"><div class=\"sk-estimator sk-toggleable\"><input class=\"sk-toggleable__control sk-hidden--visually\" id=\"sk-estimator-id-2\" type=\"checkbox\" checked><label for=\"sk-estimator-id-2\" class=\"sk-toggleable__label sk-toggleable__label-arrow\">LGBMClassifier</label><div class=\"sk-toggleable__content\"><pre>LGBMClassifier()</pre></div></div></div></div></div>"
      ],
      "text/plain": [
       "LGBMClassifier()"
      ]
     },
     "execution_count": 24,
     "metadata": {},
     "output_type": "execute_result"
    }
   ],
   "source": [
    "# build the lightgbm model\n",
    "import lightgbm as lgb\n",
    "lgbmc_clf = lgb.LGBMClassifier()\n",
    "lgbmc_clf.fit(X_train, y_train.values.ravel())"
   ]
  },
  {
   "cell_type": "code",
   "execution_count": 25,
   "metadata": {},
   "outputs": [
    {
     "name": "stdout",
     "output_type": "stream",
     "text": [
      "LightGBM Classifier score:  0.9996826605737497\n"
     ]
    }
   ],
   "source": [
    "#Predict the response for train dataset\n",
    "y_train_pred_lgbmc = lgbmc_clf.predict(X_train)\n",
    "\n",
    "print(\"LightGBM Classifier score: \",lgbmc_clf.score(X_train, y_train))"
   ]
  },
  {
   "cell_type": "code",
   "execution_count": 26,
   "metadata": {
    "scrolled": false
   },
   "outputs": [
    {
     "data": {
      "text/plain": [
       "<Axes: >"
      ]
     },
     "execution_count": 26,
     "metadata": {},
     "output_type": "execute_result"
    },
    {
     "data": {
      "image/png": "[encoded data removed]",
      "text/plain": [
       "<Figure size 640x480 with 2 Axes>"
      ]
     },
     "metadata": {},
     "output_type": "display_data"
    }
   ],
   "source": [
    "from sklearn.metrics import confusion_matrix\n",
    "\n",
    "confusion_matrix(y_train, y_train_pred_lgbmc)\n",
    "sns.heatmap(confusion_matrix(y_train, y_train_pred_lgbmc), annot=True,fmt='d')"
   ]
  },
  {
   "cell_type": "code",
   "execution_count": 27,
   "metadata": {},
   "outputs": [
    {
     "name": "stdout",
     "output_type": "stream",
     "text": [
      "Precision Score:  0.9996360989810772\n",
      "Recall Score:  0.9997573698896033\n",
      "F1 Score:  0.9996967307575666\n",
      "Accuracy Score:  0.9996826605737497\n"
     ]
    }
   ],
   "source": [
    "#Performance measures for training dataset\n",
    "\n",
    "from sklearn.metrics import precision_score, recall_score,f1_score,accuracy_score\n",
    "print(\"Precision Score: \",precision_score(y_train,y_train_pred_lgbmc))\n",
    "print(\"Recall Score: \",recall_score(y_train, y_train_pred_lgbmc))\n",
    "print(\"F1 Score: \",f1_score(y_train, y_train_pred_lgbmc))\n",
    "print(\"Accuracy Score: \",accuracy_score(y_train, y_train_pred_lgbmc))"
   ]
  },
  {
   "cell_type": "markdown",
   "metadata": {},
   "source": [
    "#### Hyper-parameter Tuning for LightGBM"
   ]
  },
  {
   "cell_type": "code",
   "execution_count": null,
   "metadata": {},
   "outputs": [],
   "source": [
    "%%time\n",
    "from sklearn.model_selection import GridSearchCV\n",
    "\n",
    "lgb=lgb.LGBMClassifier()\n",
    "#Define the parameters\n",
    "parameters = {'num_leaves':[20,40,60,80,100], 'min_child_samples':[5,10,15],'max_depth':[-1,5,10,20],\n",
    "             'learning_rate':[0.05,0.1,0.2],'reg_alpha':[0,0.01,0.03]}\n",
    "\n",
    "#Define the scoring\n",
    "grid_search_lgbmc_clf=GridSearchCV(lgb,parameters,scoring='accuracy')\n",
    "grid_search_lgbmc_clf.fit(X_train, y_train.values.ravel())\n"
   ]
  },
  {
   "cell_type": "code",
   "execution_count": null,
   "metadata": {},
   "outputs": [],
   "source": [
    "cvres = pd.DataFrame(grid_search_lgbmc_clf.cv_results_).sort_values(by=['rank_test_score'])\n",
    "for mean_score, params,rank in zip(cvres[\"mean_test_score\"], cvres[\"params\"],cvres[\"rank_test_score\"]):\n",
    "    print(\"Rank {}# - Score: {} - {}\".format(rank, np.sqrt(mean_score), params))"
   ]
  },
  {
   "cell_type": "code",
   "execution_count": null,
   "metadata": {},
   "outputs": [],
   "source": [
    "grid_search_lgbmc_clf.best_estimator_"
   ]
  },
  {
   "cell_type": "markdown",
   "metadata": {},
   "source": [
    "#### Evaluating on Test set "
   ]
  },
  {
   "cell_type": "code",
   "execution_count": null,
   "metadata": {},
   "outputs": [],
   "source": [
    "from sklearn.metrics import precision_score, recall_score,f1_score,accuracy_score\n",
    "\n",
    "#Predict the response for test dataset\n",
    "y_test_pred_lgbmc = grid_search_lgbmc_clf.best_estimator_.predict(X_test)\n",
    "\n",
    "\n",
    "print(\"Precision Score: \",precision_score(y_test, y_test_pred_lgbmc))\n",
    "print(\"Recall Score: \",recall_score(y_test, y_test_pred_lgbmc))\n",
    "print(\"F1 Score: \",f1_score(y_test, y_test_pred_lgbmc))\n",
    "print(\"Accuracy Score: \",accuracy_score(y_test, y_test_pred_lgbmc))"
   ]
  },
  {
   "cell_type": "code",
   "execution_count": null,
   "metadata": {},
   "outputs": [],
   "source": [
    "from sklearn import metrics\n",
    "#calculate AUC of model\n",
    "auc_lgbmc = metrics.roc_auc_score(y_test, y_test_pred_lgbmc)\n",
    "print(auc_lgbmc)"
   ]
  },
  {
   "cell_type": "code",
   "execution_count": null,
   "metadata": {},
   "outputs": [],
   "source": [
    "cohen_score_lgbmc = cohen_kappa_score(y_test, y_test_pred_lgbmc)"
   ]
  },
  {
   "cell_type": "code",
   "execution_count": null,
   "metadata": {},
   "outputs": [],
   "source": [
    "acc_list.append(accuracy_score(y_test, y_test_pred_lgbmc))\n",
    "auc_list.append(auc_lgbmc)\n",
    "kappa_list.append(cohen_score_lgbmc)"
   ]
  },
  {
   "cell_type": "markdown",
   "metadata": {},
   "source": [
    "## RIPPER\n",
    "The Ripper method is a classification algorithm based on rules. The training set is used to generate a set of rules. It’s a common rule-induction algorithm"
   ]
  },
  {
   "cell_type": "code",
   "execution_count": null,
   "metadata": {},
   "outputs": [],
   "source": [
    "import wittgenstein as lw\n",
    "ripper_clf = lw.RIPPER() # Or irep_clf = lw.IREP() to build a model using IREP\n",
    "ripper_clf.fit(X_train, y_train.values.ravel()) # Or pass X and y data to .fit\n",
    "ripper_clf"
   ]
  },
  {
   "cell_type": "markdown",
   "metadata": {},
   "source": [
    "The model predicts positive class if any of the inner-nested condition-combinations are all true.  The word that you will often see that indicates a union is \"or\" and intersection is \"and\""
   ]
  },
  {
   "cell_type": "code",
   "execution_count": null,
   "metadata": {
    "scrolled": true
   },
   "outputs": [],
   "source": [
    "ripper_clf.out_model()"
   ]
  },
  {
   "cell_type": "code",
   "execution_count": null,
   "metadata": {},
   "outputs": [],
   "source": [
    "from sklearn.metrics import precision_score, recall_score\n",
    "\n",
    "y_train_pred_ripper = ripper_clf.predict(X_train)\n",
    "\n",
    "#Default scoring metric is accuracy.\n",
    "accuracy = ripper_clf.score(X_train,  y_train.values.ravel())\n",
    "precision = ripper_clf.score(X_train,  y_train.values.ravel())\n",
    "recall = ripper_clf.score(X_train,  y_train.values.ravel())\n",
    "cond_count = ripper_clf.ruleset_.count_conds()\n",
    "print(f'accuracy: {accuracy} precision: {precision} recall: {recall} conds: {cond_count}')"
   ]
  },
  {
   "cell_type": "code",
   "execution_count": null,
   "metadata": {
    "scrolled": false
   },
   "outputs": [],
   "source": [
    "from sklearn.metrics import confusion_matrix\n",
    "\n",
    "confusion_matrix(y_train, y_train_pred_ripper)\n",
    "sns.heatmap(confusion_matrix(y_train, y_train_pred_ripper), annot=True,fmt='d')"
   ]
  },
  {
   "cell_type": "markdown",
   "metadata": {},
   "source": [
    "#### Hyper-parameter Tuning for RIPPER"
   ]
  },
  {
   "cell_type": "code",
   "execution_count": null,
   "metadata": {},
   "outputs": [],
   "source": [
    "%%time\n",
    "from sklearn.model_selection import GridSearchCV\n",
    "\n",
    "param_grid_ripper = {\"prune_size\": [0.33, 0.5], \"k\": [1, 2]}\n",
    "grid_ripper = GridSearchCV(estimator=lw.RIPPER(), param_grid=param_grid_ripper)\n",
    "grid_ripper.fit(X_train, y_train.values.ravel())"
   ]
  },
  {
   "cell_type": "code",
   "execution_count": null,
   "metadata": {},
   "outputs": [],
   "source": [
    "cvres = pd.DataFrame(grid_ripper.cv_results_).sort_values(by=['rank_test_score'])\n",
    "for mean_score, params,rank in zip(cvres[\"mean_test_score\"], cvres[\"params\"],cvres[\"rank_test_score\"]):\n",
    "    print(\"Rank {}# - Score: {} - {}\".format(rank, np.sqrt(mean_score), params))"
   ]
  },
  {
   "cell_type": "code",
   "execution_count": null,
   "metadata": {},
   "outputs": [],
   "source": [
    "grid_ripper.best_estimator_"
   ]
  },
  {
   "cell_type": "markdown",
   "metadata": {},
   "source": [
    "#### Evaluating on Test set "
   ]
  },
  {
   "cell_type": "code",
   "execution_count": null,
   "metadata": {},
   "outputs": [],
   "source": [
    "from sklearn.metrics import precision_score, recall_score\n",
    "\n",
    "y_test_pred_ripper = grid_ripper.best_estimator_.predict(X_test)\n",
    "\n",
    "#Default scoring metric is accuracy.\n",
    "accuracy = grid_ripper.best_estimator_.score(X_test,  y_test.values.ravel())\n",
    "precision = grid_ripper.best_estimator_.score(X_test, y_test.values.ravel(), precision_score)\n",
    "recall = grid_ripper.best_estimator_.score(X_test, y_test.values.ravel(), recall_score)\n",
    "cond_count = grid_ripper.best_estimator_.ruleset_.count_conds()\n",
    "print(f'accuracy: {accuracy} precision: {precision} recall: {recall} conds: {cond_count}')"
   ]
  },
  {
   "cell_type": "code",
   "execution_count": null,
   "metadata": {},
   "outputs": [],
   "source": [
    "from sklearn import metrics\n",
    "#calculate AUC of model\n",
    "auc_ripper = metrics.roc_auc_score(y_test, y_test_pred_ripper)\n",
    "print(auc_ripper)"
   ]
  },
  {
   "cell_type": "code",
   "execution_count": null,
   "metadata": {},
   "outputs": [],
   "source": [
    "cohen_score_ripper = cohen_kappa_score(y_test, y_test_pred_ripper)"
   ]
  },
  {
   "cell_type": "code",
   "execution_count": null,
   "metadata": {},
   "outputs": [],
   "source": [
    "acc_list.append(accuracy)\n",
    "auc_list.append(auc_ripper)\n",
    "kappa_list.append(cohen_score_ripper)"
   ]
  },
  {
   "cell_type": "markdown",
   "metadata": {},
   "source": [
    "We can also ask our model to tell us why it made each positive prediction that it did:"
   ]
  },
  {
   "cell_type": "code",
   "execution_count": null,
   "metadata": {},
   "outputs": [],
   "source": [
    "grid_ripper.best_estimator_.predict(X_test, give_reasons=True)"
   ]
  },
  {
   "cell_type": "code",
   "execution_count": null,
   "metadata": {},
   "outputs": [],
   "source": [
    "give_reasons = grid_ripper.best_estimator_.predict(X_test, give_reasons=True)"
   ]
  },
  {
   "cell_type": "code",
   "execution_count": null,
   "metadata": {
    "scrolled": false
   },
   "outputs": [],
   "source": [
    "give_reasons[1]"
   ]
  },
  {
   "cell_type": "markdown",
   "metadata": {},
   "source": [
    "## K-Nearest Neighbour (KNN)"
   ]
  },
  {
   "cell_type": "code",
   "execution_count": null,
   "metadata": {},
   "outputs": [],
   "source": [
    "from sklearn.neighbors import KNeighborsClassifier\n",
    "knn = KNeighborsClassifier()\n",
    "knn.fit(X_train, y_train.values.ravel())"
   ]
  },
  {
   "cell_type": "code",
   "execution_count": null,
   "metadata": {},
   "outputs": [],
   "source": [
    "#Predict the response for train dataset\n",
    "y_train_pred_knn = knn.predict(X_train)\n",
    "\n",
    "print(\"K-Nearest Neighbour score: \",knn.score(X_train, y_train))"
   ]
  },
  {
   "cell_type": "code",
   "execution_count": null,
   "metadata": {},
   "outputs": [],
   "source": [
    "from sklearn.metrics import confusion_matrix\n",
    "\n",
    "confusion_matrix(y_train, y_train_pred_knn)\n",
    "sns.heatmap(confusion_matrix(y_train, y_train_pred_knn), annot=True,fmt='d')"
   ]
  },
  {
   "cell_type": "code",
   "execution_count": null,
   "metadata": {
    "scrolled": true
   },
   "outputs": [],
   "source": [
    "#Performance measures for training dataset\n",
    "\n",
    "from sklearn.metrics import precision_score, recall_score,f1_score,accuracy_score\n",
    "print(\"Precision Score: \",precision_score(y_train,y_train_pred_knn))\n",
    "print(\"Recall Score: \",recall_score(y_train, y_train_pred_knn))\n",
    "print(\"F1 Score: \",f1_score(y_train, y_train_pred_knn))\n",
    "print(\"Accuracy Score: \",accuracy_score(y_train, y_train_pred_knn))"
   ]
  },
  {
   "cell_type": "markdown",
   "metadata": {},
   "source": [
    "#### Hyper-parameter Tuning for K-Nearest Neighbour (KNN)"
   ]
  },
  {
   "cell_type": "code",
   "execution_count": null,
   "metadata": {},
   "outputs": [],
   "source": [
    "%%time\n",
    "from sklearn.model_selection import GridSearchCV\n",
    "\n",
    "grid_params = { 'n_neighbors' : [5,7,9,11,13,15],\n",
    "               'weights' : ['uniform','distance'],\n",
    "               'metric' : ['minkowski','euclidean','manhattan']}\n",
    "\n",
    "grid_search_knn = GridSearchCV(KNeighborsClassifier(), grid_params, verbose = 1, cv=3, n_jobs = -1)\n",
    "\n",
    "grid_search_knn.fit(X_train, y_train.values.ravel())"
   ]
  },
  {
   "cell_type": "code",
   "execution_count": null,
   "metadata": {},
   "outputs": [],
   "source": [
    "cvres = pd.DataFrame(grid_search_knn.cv_results_).sort_values(by=['rank_test_score'])\n",
    "for mean_score, params,rank in zip(cvres[\"mean_test_score\"], cvres[\"params\"],cvres[\"rank_test_score\"]):\n",
    "    print(\"Rank {}# - Score: {} - {}\".format(rank, np.sqrt(mean_score), params))"
   ]
  },
  {
   "cell_type": "code",
   "execution_count": null,
   "metadata": {},
   "outputs": [],
   "source": [
    "grid_search_knn.best_estimator_"
   ]
  },
  {
   "cell_type": "markdown",
   "metadata": {},
   "source": [
    "#### Evaluating on Test set "
   ]
  },
  {
   "cell_type": "code",
   "execution_count": null,
   "metadata": {},
   "outputs": [],
   "source": [
    "from sklearn.metrics import precision_score, recall_score,f1_score,accuracy_score\n",
    "\n",
    "#Predict the response for test dataset\n",
    "y_test_pred_knn = grid_search_knn.best_estimator_.predict(X_test)\n",
    "\n",
    "\n",
    "print(\"Precision Score: \",precision_score(y_test, y_test_pred_knn))\n",
    "print(\"Recall Score: \",recall_score(y_test, y_test_pred_knn))\n",
    "print(\"F1 Score: \",f1_score(y_test, y_test_pred_knn))\n",
    "print(\"Accuracy Score: \",accuracy_score(y_test, y_test_pred_knn))"
   ]
  },
  {
   "cell_type": "code",
   "execution_count": null,
   "metadata": {},
   "outputs": [],
   "source": [
    "from sklearn import metrics\n",
    "#calculate AUC of model\n",
    "auc_knn = metrics.roc_auc_score(y_test, y_test_pred_knn)\n",
    "print(auc_knn)"
   ]
  },
  {
   "cell_type": "code",
   "execution_count": null,
   "metadata": {},
   "outputs": [],
   "source": [
    "cohen_score_knn = cohen_kappa_score(y_test, y_test_pred_knn)"
   ]
  },
  {
   "cell_type": "code",
   "execution_count": null,
   "metadata": {},
   "outputs": [],
   "source": [
    "acc_list.append(accuracy_score(y_test, y_test_pred_knn))\n",
    "auc_list.append(auc_knn)\n",
    "kappa_list.append(cohen_score_knn)"
   ]
  },
  {
   "cell_type": "markdown",
   "metadata": {},
   "source": [
    "## Decision Tree "
   ]
  },
  {
   "cell_type": "code",
   "execution_count": null,
   "metadata": {},
   "outputs": [],
   "source": [
    "# Create Decision Tree classifer object\n",
    "dt_clf = DecisionTreeClassifier()\n",
    "\n",
    "# Train Decision Tree Classifer\n",
    "dt_clf.fit(X_train,y_train.values.ravel())"
   ]
  },
  {
   "cell_type": "code",
   "execution_count": null,
   "metadata": {},
   "outputs": [],
   "source": [
    "#Predict the response for train dataset\n",
    "y_train_pred_dt = dt_clf.predict(X_train)\n",
    "\n",
    "print(\"Decision Tree score: \",dt_clf.score(X_train, y_train))"
   ]
  },
  {
   "cell_type": "code",
   "execution_count": null,
   "metadata": {},
   "outputs": [],
   "source": [
    "from sklearn.metrics import confusion_matrix\n",
    "\n",
    "confusion_matrix(y_train, y_train_pred_dt)\n",
    "sns.heatmap(confusion_matrix(y_train, y_train_pred_dt), annot=True,fmt='d')"
   ]
  },
  {
   "cell_type": "code",
   "execution_count": null,
   "metadata": {
    "scrolled": true
   },
   "outputs": [],
   "source": [
    "#Performance measures for training dataset\n",
    "\n",
    "from sklearn.metrics import precision_score, recall_score,f1_score,accuracy_score\n",
    "print(\"Precision Score: \",precision_score(y_train,y_train_pred_dt))\n",
    "print(\"Recall Score: \",recall_score(y_train, y_train_pred_dt))\n",
    "print(\"F1 Score: \",f1_score(y_train, y_train_pred_dt))\n",
    "print(\"Accuracy Score: \",accuracy_score(y_train, y_train_pred_dt))"
   ]
  },
  {
   "cell_type": "markdown",
   "metadata": {},
   "source": [
    "#### Fine Tuning for Decision Tree"
   ]
  },
  {
   "cell_type": "code",
   "execution_count": null,
   "metadata": {},
   "outputs": [],
   "source": [
    "%%time\n",
    "from sklearn.model_selection import GridSearchCV\n",
    "\n",
    "# Create the parameter grid based on the results of random search \n",
    "params = {\n",
    "    'max_depth': [2, 3, 5, 10, 20],\n",
    "    'min_samples_leaf': [5, 10, 20, 50, 100],\n",
    "    'criterion': [\"gini\", \"entropy\"]\n",
    "}\n",
    "\n",
    "# Instantiate the grid search model\n",
    "grid_search = GridSearchCV(estimator=dt_clf, \n",
    "                           param_grid=params, \n",
    "                           cv=4, n_jobs=-1, verbose=1, scoring = \"accuracy\")\n",
    "\n",
    "\n",
    "grid_search.fit(X_train, y_train.values.ravel())"
   ]
  },
  {
   "cell_type": "code",
   "execution_count": null,
   "metadata": {},
   "outputs": [],
   "source": [
    "cvres = pd.DataFrame(grid_search.cv_results_).sort_values(by=['rank_test_score'])\n",
    "for mean_score, params,rank in zip(cvres[\"mean_test_score\"], cvres[\"params\"],cvres[\"rank_test_score\"]):\n",
    "    print(\"Rank {}# - Score: {} - {}\".format(rank, np.sqrt(mean_score), params))"
   ]
  },
  {
   "cell_type": "code",
   "execution_count": null,
   "metadata": {},
   "outputs": [],
   "source": [
    "grid_search.best_estimator_"
   ]
  },
  {
   "cell_type": "markdown",
   "metadata": {},
   "source": [
    "#### Evaluating on Test set "
   ]
  },
  {
   "cell_type": "code",
   "execution_count": null,
   "metadata": {},
   "outputs": [],
   "source": [
    "from sklearn.metrics import precision_score, recall_score,f1_score,accuracy_score\n",
    "\n",
    "#Predict the response for test dataset\n",
    "y_test_pred_dt = grid_search.best_estimator_.predict(X_test)\n",
    "\n",
    "\n",
    "print(\"Precision Score: \",precision_score(y_test, y_test_pred_dt))\n",
    "print(\"Recall Score: \",recall_score(y_test, y_test_pred_dt))\n",
    "print(\"F1 Score: \",f1_score(y_test, y_test_pred_dt))\n",
    "print(\"Accuracy Score: \",accuracy_score(y_test, y_test_pred_dt))"
   ]
  },
  {
   "cell_type": "code",
   "execution_count": null,
   "metadata": {},
   "outputs": [],
   "source": [
    "from sklearn import metrics\n",
    "#calculate AUC of model\n",
    "auc_dt = metrics.roc_auc_score(y_test, y_test_pred_dt)\n",
    "print(auc_dt)"
   ]
  },
  {
   "cell_type": "code",
   "execution_count": null,
   "metadata": {},
   "outputs": [],
   "source": [
    "cohen_score_dt = cohen_kappa_score(y_test, y_test_pred_dt)"
   ]
  },
  {
   "cell_type": "code",
   "execution_count": null,
   "metadata": {},
   "outputs": [],
   "source": [
    "acc_list.append(accuracy_score(y_test, y_test_pred_dt))\n",
    "auc_list.append(auc_dt)\n",
    "kappa_list.append(cohen_score_dt)"
   ]
  },
  {
   "cell_type": "markdown",
   "metadata": {},
   "source": [
    "## MLPClassifier"
   ]
  },
  {
   "cell_type": "code",
   "execution_count": null,
   "metadata": {
    "scrolled": true
   },
   "outputs": [],
   "source": [
    "mlp_clf = MLPClassifier(hidden_layer_sizes=(50,100,50),\n",
    "                        max_iter = 300,activation = 'relu',\n",
    "                        solver = 'adam')\n",
    "\n",
    "mlp_clf.fit(X_train,y_train.values.ravel())"
   ]
  },
  {
   "cell_type": "code",
   "execution_count": null,
   "metadata": {},
   "outputs": [],
   "source": [
    "plt.plot(mlp_clf.loss_curve_)\n",
    "plt.title(\"Loss Curve\", fontsize=14)\n",
    "plt.xlabel('Iterations')\n",
    "plt.ylabel('Cost')\n",
    "plt.show()"
   ]
  },
  {
   "cell_type": "code",
   "execution_count": null,
   "metadata": {},
   "outputs": [],
   "source": [
    "#Predict the response for train dataset\n",
    "y_train_pred_mlp_clf = mlp_clf.predict(X_train)\n",
    "\n",
    "print(\"MLPClassifier score: \",mlp_clf.score(X_train, y_train))"
   ]
  },
  {
   "cell_type": "code",
   "execution_count": null,
   "metadata": {
    "scrolled": false
   },
   "outputs": [],
   "source": [
    "from sklearn.metrics import confusion_matrix\n",
    "\n",
    "confusion_matrix(y_train, y_train_pred_mlp_clf)\n",
    "sns.heatmap(confusion_matrix(y_train, y_train_pred_mlp_clf), annot=True,fmt='d')"
   ]
  },
  {
   "cell_type": "code",
   "execution_count": null,
   "metadata": {},
   "outputs": [],
   "source": [
    "#Performance measures for training dataset\n",
    "\n",
    "from sklearn.metrics import precision_score, recall_score,f1_score,accuracy_score\n",
    "print(\"Precision Score: \",precision_score(y_train,y_train_pred_mlp_clf))\n",
    "print(\"Recall Score: \",recall_score(y_train, y_train_pred_mlp_clf))\n",
    "print(\"F1 Score: \",f1_score(y_train, y_train_pred_mlp_clf))\n",
    "print(\"Accuracy Score: \",accuracy_score(y_train, y_train_pred_mlp_clf))"
   ]
  },
  {
   "cell_type": "markdown",
   "metadata": {},
   "source": [
    "#### Hyper Parameter Tuning"
   ]
  },
  {
   "cell_type": "code",
   "execution_count": null,
   "metadata": {
    "scrolled": true
   },
   "outputs": [],
   "source": [
    "%%time\n",
    "from sklearn.model_selection import RandomizedSearchCV\n",
    "from scipy.stats import uniform\n",
    "\n",
    "mlp = MLPClassifier(max_iter=300)\n",
    "\n",
    "parameter_space = {\n",
    "    'hidden_layer_sizes': [(50,50,50), (50,100,50), (100,)],\n",
    "    'activation': ['tanh', 'relu'],\n",
    "    'solver': ['sgd', 'adam'],\n",
    "    'alpha': [0.0001, 0.05],\n",
    "    'learning_rate': ['constant','adaptive'],\n",
    "}\n",
    "\n",
    "clf = GridSearchCV(mlp, parameter_space, n_jobs=-1, cv=3)\n",
    "clf.fit(X_train,y_train.values.ravel())\n",
    "# Best paramete set\n",
    "print('Best parameters found:\\n', clf.best_params_)\n",
    "\n",
    "# All results\n",
    "means = clf.cv_results_['mean_test_score']\n",
    "stds = clf.cv_results_['std_test_score']\n",
    "for mean, std, params in zip(means, stds, clf.cv_results_['params']):\n",
    "    print(\"%0.3f (+/-%0.03f) for %r\" % (mean, std * 2, params))"
   ]
  },
  {
   "cell_type": "code",
   "execution_count": null,
   "metadata": {},
   "outputs": [],
   "source": [
    "clf.best_estimator_"
   ]
  },
  {
   "cell_type": "markdown",
   "metadata": {},
   "source": [
    "#### Evaluating on Test set "
   ]
  },
  {
   "cell_type": "code",
   "execution_count": null,
   "metadata": {},
   "outputs": [],
   "source": [
    "#Predict the response for test dataset\n",
    "y_test_pred_mlp_clf = clf.best_estimator_.predict(X_test)\n",
    "\n",
    "print(\"Precision Score: \",precision_score(y_test, y_test_pred_mlp_clf))\n",
    "print(\"Recall Score: \",recall_score(y_test, y_test_pred_mlp_clf))\n",
    "print(\"F1 Score: \",f1_score(y_test, y_test_pred_mlp_clf))\n",
    "print(\"Accuracy Score: \",accuracy_score(y_test, y_test_pred_mlp_clf))"
   ]
  },
  {
   "cell_type": "code",
   "execution_count": null,
   "metadata": {},
   "outputs": [],
   "source": [
    "from sklearn.metrics import classification_report\n",
    "\n",
    "# confusion matrix\n",
    "print(confusion_matrix(y_test, y_test_pred_mlp_clf)) # order matters! (actual, predicted)\n",
    "\n",
    "print(classification_report(y_test, y_test_pred_mlp_clf))"
   ]
  },
  {
   "cell_type": "code",
   "execution_count": null,
   "metadata": {},
   "outputs": [],
   "source": [
    "#calculate AUC of model\n",
    "from sklearn import metrics\n",
    "auc_ann = metrics.roc_auc_score(y_test, y_test_pred_mlp_clf)\n",
    "print(auc_ann)"
   ]
  },
  {
   "cell_type": "code",
   "execution_count": null,
   "metadata": {},
   "outputs": [],
   "source": [
    "cohen_score_ann = cohen_kappa_score(y_test, y_test_pred_mlp_clf)"
   ]
  },
  {
   "cell_type": "code",
   "execution_count": null,
   "metadata": {},
   "outputs": [],
   "source": [
    "acc_list.append(metrics.accuracy_score(y_test, y_test_pred_mlp_clf))\n",
    "auc_list.append(metrics.roc_auc_score(y_test, y_test_pred_mlp_clf))\n",
    "kappa_list.append(cohen_score_ann)"
   ]
  },
  {
   "cell_type": "markdown",
   "metadata": {},
   "source": [
    "## Support Vector Machine"
   ]
  },
  {
   "cell_type": "code",
   "execution_count": null,
   "metadata": {},
   "outputs": [],
   "source": [
    "#Import svm model\n",
    "from sklearn import svm\n",
    "\n",
    "#Create a svm Classifier\n",
    "svm_clf = svm.SVC(kernel='linear',probability=True) # Linear Kernel\n",
    "\n",
    "#Train the model using the training sets\n",
    "svm_clf.fit(X_train, y_train.values.ravel())"
   ]
  },
  {
   "cell_type": "code",
   "execution_count": null,
   "metadata": {},
   "outputs": [],
   "source": [
    "#Predict the response for train dataset\n",
    "y_train_pred_svm = svm_clf.predict(X_train)\n",
    "\n",
    "print(\"Support Vector Machine score: \",svm_clf.score(X_train, y_train))"
   ]
  },
  {
   "cell_type": "code",
   "execution_count": null,
   "metadata": {},
   "outputs": [],
   "source": [
    "from sklearn.metrics import confusion_matrix\n",
    "\n",
    "confusion_matrix(y_train, y_train_pred_svm)\n",
    "sns.heatmap(confusion_matrix(y_train, y_train_pred_svm), annot=True,fmt='d')"
   ]
  },
  {
   "cell_type": "code",
   "execution_count": null,
   "metadata": {
    "scrolled": true
   },
   "outputs": [],
   "source": [
    "#Performance measures for training dataset\n",
    "\n",
    "from sklearn.metrics import precision_score, recall_score,f1_score,accuracy_score\n",
    "print(\"Precision Score: \",precision_score(y_train, y_train_pred_svm))\n",
    "print(\"Recall Score: \",recall_score(y_train, y_train_pred_svm))\n",
    "print(\"F1 Score: \",f1_score(y_train, y_train_pred_svm))\n",
    "print(\"Accuracy Score: \",accuracy_score(y_train, y_train_pred_svm))"
   ]
  },
  {
   "cell_type": "markdown",
   "metadata": {},
   "source": [
    "#### Fine Tuning for Support Vector Machine"
   ]
  },
  {
   "cell_type": "code",
   "execution_count": null,
   "metadata": {},
   "outputs": [],
   "source": [
    "from sklearn.model_selection import GridSearchCV\n",
    "\n",
    "param_grid = {'C': [0.1,1, 10, 100], 'gamma': [1,0.1,0.01,0.001],'kernel': ['rbf', 'poly', 'sigmoid']}\n",
    "\n",
    "rnd_search_svm = GridSearchCV(svm_clf,param_grid,refit=True,verbose=2)\n",
    "rnd_search_svm.fit(X_train, y_train.values.ravel())"
   ]
  },
  {
   "cell_type": "code",
   "execution_count": null,
   "metadata": {},
   "outputs": [],
   "source": [
    "cvres = pd.DataFrame(rnd_search_svm.cv_results_).sort_values(by=['rank_test_score'])\n",
    "for mean_score, params,rank in zip(cvres[\"mean_test_score\"], cvres[\"params\"],cvres[\"rank_test_score\"]):\n",
    "    print(\"Rank {}# - Score: {} - {}\".format(rank, np.sqrt(mean_score), params))"
   ]
  },
  {
   "cell_type": "code",
   "execution_count": null,
   "metadata": {},
   "outputs": [],
   "source": [
    "rnd_search_svm.best_estimator_"
   ]
  },
  {
   "cell_type": "markdown",
   "metadata": {},
   "source": [
    "#### Evaluating on Test set\n"
   ]
  },
  {
   "cell_type": "code",
   "execution_count": null,
   "metadata": {},
   "outputs": [],
   "source": [
    "from sklearn.metrics import precision_score, recall_score,f1_score,accuracy_score\n",
    "\n",
    "#Predict the response for test dataset\n",
    "y_test_pred_svm = rnd_search_svm.best_estimator_.predict(X_test)\n",
    "#y_test_pred_sgd = sgd_clf.predict(X_test)\n",
    "\n",
    "print(\"Precision Score: \",precision_score(y_test, y_test_pred_svm))\n",
    "print(\"Recall Score: \",recall_score(y_test, y_test_pred_svm))\n",
    "print(\"F1 Score: \",f1_score(y_test, y_test_pred_svm))\n",
    "print(\"Accuracy Score: \",accuracy_score(y_test, y_test_pred_svm))"
   ]
  },
  {
   "cell_type": "code",
   "execution_count": null,
   "metadata": {},
   "outputs": [],
   "source": [
    "from sklearn import metrics\n",
    "#calculate AUC of model\n",
    "auc_svm = metrics.roc_auc_score(y_test, y_test_pred_svm)\n",
    "print(auc_svm)"
   ]
  },
  {
   "cell_type": "code",
   "execution_count": null,
   "metadata": {},
   "outputs": [],
   "source": [
    "cohen_score_svm = cohen_kappa_score(y_test, y_test_pred_svm)"
   ]
  },
  {
   "cell_type": "code",
   "execution_count": null,
   "metadata": {},
   "outputs": [],
   "source": [
    "acc_list.append(accuracy_score(y_test, y_test_pred_svm))\n",
    "auc_list.append(auc_svm)\n",
    "kappa_list.append(cohen_score_svm)"
   ]
  },
  {
   "cell_type": "markdown",
   "metadata": {},
   "source": [
    "## Gaussian Naive Bayes Classifier"
   ]
  },
  {
   "cell_type": "code",
   "execution_count": null,
   "metadata": {},
   "outputs": [],
   "source": [
    "%%time\n",
    "from sklearn.naive_bayes import GaussianNB\n",
    "\n",
    "nb_clf = GaussianNB()\n",
    "nb_clf.fit(X_train, y_train.values.ravel())"
   ]
  },
  {
   "cell_type": "markdown",
   "metadata": {},
   "source": [
    "#### Evaluating on Training Set"
   ]
  },
  {
   "cell_type": "code",
   "execution_count": null,
   "metadata": {},
   "outputs": [],
   "source": [
    "#Predict the response for train dataset\n",
    "y_train_pred_nb = nb_clf.predict(X_train)\n",
    "\n",
    "print(\"Naive Bayes score: \",nb_clf.score(X_train, y_train))"
   ]
  },
  {
   "cell_type": "code",
   "execution_count": null,
   "metadata": {},
   "outputs": [],
   "source": [
    "from sklearn.metrics import confusion_matrix\n",
    "\n",
    "confusion_matrix(y_train, y_train_pred_nb)\n",
    "sns.heatmap(confusion_matrix(y_train, y_train_pred_nb), annot=True,fmt='d')"
   ]
  },
  {
   "cell_type": "code",
   "execution_count": null,
   "metadata": {
    "scrolled": false
   },
   "outputs": [],
   "source": [
    "#Performance measures for training dataset\n",
    "\n",
    "from sklearn.metrics import precision_score, recall_score,f1_score,accuracy_score\n",
    "print(\"Precision Score: \",precision_score(y_train, y_train_pred_nb))\n",
    "print(\"Recall Score: \",recall_score(y_train, y_train_pred_nb))\n",
    "print(\"F1 Score: \",f1_score(y_train, y_train_pred_nb))\n",
    "print(\"Accuracy Score: \",accuracy_score(y_train, y_train_pred_nb))"
   ]
  },
  {
   "cell_type": "markdown",
   "metadata": {},
   "source": [
    "### Hyper-parameter Tuning for Gaussian Naive Bayes"
   ]
  },
  {
   "cell_type": "code",
   "execution_count": null,
   "metadata": {},
   "outputs": [],
   "source": [
    "%%time\n",
    "from sklearn.model_selection import RandomizedSearchCV\n",
    "from scipy import stats\n",
    "\n",
    "NB_distribution = {'var_smoothing': np.logspace(0,-9, num=100)}\n",
    "\n",
    "nb_clf = GaussianNB()       \n",
    "\n",
    "rnd_search_nb = RandomizedSearchCV(nb_clf, param_distributions = NB_distribution, random_state = 42) \n",
    "rnd_search_nb.fit(X_train, y_train.values.ravel()) "
   ]
  },
  {
   "cell_type": "code",
   "execution_count": null,
   "metadata": {},
   "outputs": [],
   "source": [
    "cvres = pd.DataFrame(rnd_search_nb.cv_results_).sort_values(by=['rank_test_score'])\n",
    "for mean_score, params,rank in zip(cvres[\"mean_test_score\"], cvres[\"params\"],cvres[\"rank_test_score\"]):\n",
    "    print(\"Rank {}# - Score: {} - {}\".format(rank, np.sqrt(mean_score), params))"
   ]
  },
  {
   "cell_type": "code",
   "execution_count": null,
   "metadata": {},
   "outputs": [],
   "source": [
    "rnd_search_nb.best_estimator_"
   ]
  },
  {
   "cell_type": "markdown",
   "metadata": {},
   "source": [
    "#### Evaluating on Test set"
   ]
  },
  {
   "cell_type": "code",
   "execution_count": null,
   "metadata": {
    "scrolled": true
   },
   "outputs": [],
   "source": [
    "from sklearn.metrics import precision_score, recall_score,f1_score,accuracy_score\n",
    "\n",
    "#Predict the response for test dataset\n",
    "#y_test_pred_nb = nb_clf.predict(X_test)\n",
    "y_test_pred_nb = rnd_search_nb.best_estimator_.predict(X_test)\n",
    "\n",
    "print(\"Precision Score: \",precision_score(y_test, y_test_pred_nb))\n",
    "print(\"Recall Score: \",recall_score(y_test, y_test_pred_nb))\n",
    "print(\"F1 Score: \",f1_score(y_test, y_test_pred_nb))\n",
    "print(\"Accuracy Score: \",accuracy_score(y_test, y_test_pred_nb))"
   ]
  },
  {
   "cell_type": "code",
   "execution_count": null,
   "metadata": {},
   "outputs": [],
   "source": [
    "#calculate AUC of model\n",
    "from sklearn import metrics\n",
    "auc_nb = metrics.roc_auc_score(y_test, y_test_pred_nb)\n",
    "print(auc_nb)"
   ]
  },
  {
   "cell_type": "code",
   "execution_count": null,
   "metadata": {},
   "outputs": [],
   "source": [
    "cohen_score_nb = cohen_kappa_score(y_test, y_test_pred_nb)"
   ]
  },
  {
   "cell_type": "code",
   "execution_count": null,
   "metadata": {},
   "outputs": [],
   "source": [
    "acc_list.append(accuracy_score(y_test, y_test_pred_nb))\n",
    "auc_list.append(auc_nb)\n",
    "kappa_list.append(cohen_score_nb)"
   ]
  },
  {
   "cell_type": "markdown",
   "metadata": {},
   "source": [
    "## Stochastic Gradient Descent"
   ]
  },
  {
   "cell_type": "code",
   "execution_count": null,
   "metadata": {
    "scrolled": true
   },
   "outputs": [],
   "source": [
    "%%time\n",
    "from sklearn.linear_model import SGDClassifier\n",
    "\n",
    "sgd_clf = SGDClassifier(max_iter=1000, tol=1e-3, random_state=42)\n",
    "sgd_clf.fit(X_train, y_train.values.ravel())"
   ]
  },
  {
   "cell_type": "markdown",
   "metadata": {},
   "source": [
    "#### Evaluating on Train set"
   ]
  },
  {
   "cell_type": "code",
   "execution_count": null,
   "metadata": {},
   "outputs": [],
   "source": [
    "#Predict the response for train dataset\n",
    "y_train_pred_sgd = sgd_clf.predict(X_train)\n",
    "print(\"Stochastic Gradient Descent Classifier score: \",sgd_clf.score(X_train, y_train))"
   ]
  },
  {
   "cell_type": "code",
   "execution_count": null,
   "metadata": {},
   "outputs": [],
   "source": [
    "from sklearn.metrics import confusion_matrix\n",
    "\n",
    "confusion_matrix(y_train, y_train_pred_sgd)\n",
    "sns.heatmap(confusion_matrix(y_train, y_train_pred_sgd), annot=True,fmt='d')"
   ]
  },
  {
   "cell_type": "code",
   "execution_count": null,
   "metadata": {},
   "outputs": [],
   "source": [
    "#Performance measures for training dataset\n",
    "from sklearn.metrics import precision_score, recall_score,f1_score,accuracy_score\n",
    "print(\"Precision Score: \",precision_score(y_train, y_train_pred_sgd))\n",
    "print(\"Recall Score: \",recall_score(y_train, y_train_pred_sgd))\n",
    "print(\"F1 Score: \",f1_score(y_train, y_train_pred_sgd))\n",
    "print(\"Accuracy Score: \",accuracy_score(y_train, y_train_pred_sgd))"
   ]
  },
  {
   "cell_type": "markdown",
   "metadata": {},
   "source": [
    "### Fine Tuning for Stochastic Gradient Descent"
   ]
  },
  {
   "cell_type": "code",
   "execution_count": null,
   "metadata": {},
   "outputs": [],
   "source": [
    "%%time\n",
    "from sklearn.model_selection import RandomizedSearchCV\n",
    "from scipy.stats import randint\n",
    "import scipy.stats as stats\n",
    "from sklearn.utils.fixes import loguniform\n",
    "\n",
    "param_distribs = {\n",
    "        \"average\": [True, False],\n",
    "        \"loss\":['hinge', 'log_loss', 'modified_huber', 'squared_hinge',  'perceptron'],\n",
    "        \"alpha\": [0.0001, 0.001, 0.01, 0.1, 1, 10, 100, 1000],\n",
    "        \"learning_rate\":['constant', 'optimal', 'invscaling', 'adaptive'],\n",
    "        \"class_weight\":[{1:0.5, 0:0.5}, {1:0.4, 0:0.6}, {1:0.6, 0:0.4}, {1:0.7, 0:0.3}],\n",
    "        \"eta0\":[1, 10, 100],\n",
    "        \"penalty\":['l2', 'l1', 'elasticnet']\n",
    "    }\n",
    "sgd_clf = SGDClassifier(max_iter=1000, tol=1e-3, random_state=42)\n",
    "rnd_search_SGD = RandomizedSearchCV(sgd_clf, param_distributions=param_distribs,\n",
    "                                n_iter=10, cv=5, scoring='accuracy', random_state=42)\n",
    "rnd_search_SGD.fit(X_train, y_train.values.ravel())"
   ]
  },
  {
   "cell_type": "code",
   "execution_count": null,
   "metadata": {},
   "outputs": [],
   "source": [
    "cvres = pd.DataFrame(rnd_search_SGD.cv_results_).sort_values(by=['rank_test_score'])\n",
    "for mean_score, params,rank in zip(cvres[\"mean_test_score\"], cvres[\"params\"],cvres[\"rank_test_score\"]):\n",
    "    print(\"Rank {}# - Score: {} - {}\".format(rank, np.sqrt(mean_score), params))"
   ]
  },
  {
   "cell_type": "code",
   "execution_count": null,
   "metadata": {},
   "outputs": [],
   "source": [
    "rnd_search_SGD.best_estimator_"
   ]
  },
  {
   "cell_type": "markdown",
   "metadata": {},
   "source": [
    "#### Evaluating on Test set"
   ]
  },
  {
   "cell_type": "code",
   "execution_count": null,
   "metadata": {},
   "outputs": [],
   "source": [
    "from sklearn.metrics import precision_score, recall_score,f1_score,accuracy_score\n",
    "\n",
    "#Predict the response for test dataset\n",
    "y_test_pred_sgd = rnd_search_SGD.best_estimator_.predict(X_test)\n",
    "#y_test_pred_sgd = sgd_clf.predict(X_test)\n",
    "\n",
    "print(\"Precision Score: \",precision_score(y_test, y_test_pred_sgd))\n",
    "print(\"Recall Score: \",recall_score(y_test, y_test_pred_sgd))\n",
    "print(\"F1 Score: \",f1_score(y_test, y_test_pred_sgd))\n",
    "print(\"Accuracy Score: \",accuracy_score(y_test, y_test_pred_sgd))"
   ]
  },
  {
   "cell_type": "code",
   "execution_count": null,
   "metadata": {
    "scrolled": true
   },
   "outputs": [],
   "source": [
    "from sklearn import metrics\n",
    "#calculate AUC of model\n",
    "auc_sgd = metrics.roc_auc_score(y_test, y_test_pred_sgd)\n",
    "print(auc_sgd)"
   ]
  },
  {
   "cell_type": "code",
   "execution_count": null,
   "metadata": {},
   "outputs": [],
   "source": [
    "cohen_score_sgd = cohen_kappa_score(y_test, y_test_pred_sgd)"
   ]
  },
  {
   "cell_type": "code",
   "execution_count": null,
   "metadata": {},
   "outputs": [],
   "source": [
    "acc_list.append(accuracy_score(y_test, y_test_pred_sgd))\n",
    "auc_list.append(auc_sgd)\n",
    "kappa_list.append(cohen_score_sgd)"
   ]
  },
  {
   "cell_type": "markdown",
   "metadata": {},
   "source": [
    "## Logistic Regression"
   ]
  },
  {
   "cell_type": "code",
   "execution_count": null,
   "metadata": {},
   "outputs": [],
   "source": [
    "%%time\n",
    "#logistic regression for targets \n",
    "from sklearn.linear_model import LogisticRegression \n",
    "from sklearn.model_selection import cross_val_predict\n",
    "\n",
    "log_clf = LogisticRegression(solver='saga', tol=1e-2, max_iter=200,\n",
    "                              random_state=42)\n",
    "log_clf.fit(X_train, y_train.values.ravel())"
   ]
  },
  {
   "cell_type": "markdown",
   "metadata": {},
   "source": [
    "#### Evaluating on Train set"
   ]
  },
  {
   "cell_type": "code",
   "execution_count": null,
   "metadata": {},
   "outputs": [],
   "source": [
    "#Predict the response for train dataset\n",
    "y_train_pred_log = log_clf.predict(X_train)\n",
    "print(\"Logistic Regression score: \",log_clf.score(X_train, y_train))"
   ]
  },
  {
   "cell_type": "code",
   "execution_count": null,
   "metadata": {},
   "outputs": [],
   "source": [
    "from sklearn.metrics import confusion_matrix\n",
    "import seaborn as sns\n",
    "confusion_matrix(y_train, y_train_pred_log)\n",
    "sns.heatmap(confusion_matrix(y_train, y_train_pred_log), annot=True,fmt='d')"
   ]
  },
  {
   "cell_type": "code",
   "execution_count": null,
   "metadata": {},
   "outputs": [],
   "source": [
    "#Performance measures for training dataset\n",
    "from sklearn.metrics import precision_score, recall_score,f1_score,accuracy_score\n",
    "print(\"Precision Score: \",precision_score(y_train, y_train_pred_log))\n",
    "print(\"Recall Score: \",recall_score(y_train, y_train_pred_log))\n",
    "print(\"F1 Score: \",f1_score(y_train, y_train_pred_log))\n",
    "print(\"Accuracy Score: \",accuracy_score(y_train, y_train_pred_log))"
   ]
  },
  {
   "cell_type": "markdown",
   "metadata": {},
   "source": [
    "### Fine Tuning for Logistic Regression"
   ]
  },
  {
   "cell_type": "code",
   "execution_count": null,
   "metadata": {},
   "outputs": [],
   "source": [
    "%%time\n",
    "from sklearn.model_selection import RandomizedSearchCV\n",
    "from scipy.stats import uniform\n",
    "\n",
    "logistic = LogisticRegression(solver='saga', tol=1e-2, max_iter=200,\n",
    "                              random_state=42)\n",
    "distributions = dict(C=uniform(loc=0, scale=4),\n",
    "                     penalty=['l2'],\n",
    "                     solver=['newton-cg', 'lbfgs', 'liblinear', 'sag', 'saga'])\n",
    "rnd_search_LR = RandomizedSearchCV(logistic, distributions, random_state=42)\n",
    "rnd_search_LR.fit(X_train, y_train.values.ravel())"
   ]
  },
  {
   "cell_type": "code",
   "execution_count": null,
   "metadata": {
    "scrolled": true
   },
   "outputs": [],
   "source": [
    "cvres = pd.DataFrame(rnd_search_LR.cv_results_).sort_values(by=['rank_test_score'])\n",
    "for mean_score, params,rank in zip(cvres[\"mean_test_score\"], cvres[\"params\"],cvres[\"rank_test_score\"]):\n",
    "    print(\"Rank {}# - Score: {} - {}\".format(rank, np.sqrt(mean_score), params))"
   ]
  },
  {
   "cell_type": "code",
   "execution_count": null,
   "metadata": {
    "scrolled": true
   },
   "outputs": [],
   "source": [
    "rnd_search_LR.best_estimator_"
   ]
  },
  {
   "cell_type": "markdown",
   "metadata": {},
   "source": [
    "#### Evaluating on Test set"
   ]
  },
  {
   "cell_type": "code",
   "execution_count": null,
   "metadata": {},
   "outputs": [],
   "source": [
    "from sklearn.metrics import precision_score, recall_score,f1_score,accuracy_score\n",
    "\n",
    "#Predict the response for test dataset\n",
    "y_test_pred_log = rnd_search_LR.best_estimator_.predict(X_test)\n",
    "#y_test_pred_log = log_clf.predict(X_test)\n",
    "\n",
    "print(\"Precision Score: \",precision_score(y_test, y_test_pred_log))\n",
    "print(\"Recall Score: \",recall_score(y_test, y_test_pred_log))\n",
    "print(\"F1 Score: \",f1_score(y_test, y_test_pred_log))\n",
    "print(\"Accuracy Score: \",accuracy_score(y_test, y_test_pred_log))"
   ]
  },
  {
   "cell_type": "code",
   "execution_count": null,
   "metadata": {},
   "outputs": [],
   "source": [
    "from sklearn import metrics\n",
    "fpr, tpr, _ = metrics.roc_curve(y_test,  y_test_pred_log)\n",
    "#calculate AUC of model\n",
    "auc_log = metrics.roc_auc_score(y_test, y_test_pred_log)\n",
    "print(auc_log)"
   ]
  },
  {
   "cell_type": "code",
   "execution_count": null,
   "metadata": {},
   "outputs": [],
   "source": [
    "cohen_score_log = cohen_kappa_score(y_test, y_test_pred_log)"
   ]
  },
  {
   "cell_type": "code",
   "execution_count": null,
   "metadata": {},
   "outputs": [],
   "source": [
    "acc_list.append(accuracy_score(y_test, y_test_pred_log))\n",
    "auc_list.append(auc_log)\n",
    "kappa_list.append(cohen_score_log)"
   ]
  },
  {
   "cell_type": "code",
   "execution_count": null,
   "metadata": {},
   "outputs": [],
   "source": [
    "# Get importance of each feature\n",
    "w0 = rnd_search_LR.best_estimator_.intercept_[0]\n",
    "w = w1, w2, w3, w4, w5, w6 = rnd_search_LR.best_estimator_.coef_[0]\n",
    "\n",
    "feature_names = X_train.columns\n",
    "\n",
    "feature_importance = pd.DataFrame(feature_names, columns = [\"feature\"])\n",
    "feature_importance[\"importance\"] = pow(math.e,w)\n",
    "feature_importance = feature_importance.sort_values(by = [\"importance\"], ascending = False)\n",
    "\n"
   ]
  },
  {
   "cell_type": "code",
   "execution_count": null,
   "metadata": {},
   "outputs": [],
   "source": [
    "feature_importance"
   ]
  },
  {
   "cell_type": "code",
   "execution_count": null,
   "metadata": {},
   "outputs": [],
   "source": [
    "from sklearn.linear_model import LogisticRegression\n",
    "ax = feature_importance.plot.barh(x='feature', y = 'importance')\n",
    "plt.show()"
   ]
  },
  {
   "cell_type": "markdown",
   "metadata": {},
   "source": [
    "## XGBOOST"
   ]
  },
  {
   "cell_type": "code",
   "execution_count": null,
   "metadata": {},
   "outputs": [],
   "source": [
    "!pip install xgboost"
   ]
  },
  {
   "cell_type": "code",
   "execution_count": null,
   "metadata": {},
   "outputs": [],
   "source": [
    "import re\n",
    "regex = re.compile(r\"\\[|\\]|<\", re.IGNORECASE)\n",
    "X_train.columns = [regex.sub(\"_\", col) if any(x in str(col) for x in set(('[', ']', '<'))) else col for col in X_train.columns.values]"
   ]
  },
  {
   "cell_type": "code",
   "execution_count": null,
   "metadata": {},
   "outputs": [],
   "source": [
    "import xgboost as xgb\n",
    "from xgboost import XGBClassifier"
   ]
  },
  {
   "cell_type": "code",
   "execution_count": null,
   "metadata": {
    "scrolled": false
   },
   "outputs": [],
   "source": [
    "%%time\n",
    "xgb_classifier = XGBClassifier(random_state=42)\n",
    "xgb_classifier.fit(X_train, y_train.values.ravel())"
   ]
  },
  {
   "cell_type": "markdown",
   "metadata": {},
   "source": [
    "#### Evaluating on Train set"
   ]
  },
  {
   "cell_type": "code",
   "execution_count": null,
   "metadata": {
    "scrolled": true
   },
   "outputs": [],
   "source": [
    "#Predict the response for train dataset\n",
    "y_train_pred_xgb = xgb_classifier.predict(X_train)\n",
    "print(\"XGBoost score: \",xgb_classifier.score(X_train, y_train))"
   ]
  },
  {
   "cell_type": "code",
   "execution_count": null,
   "metadata": {},
   "outputs": [],
   "source": [
    "from sklearn.metrics import confusion_matrix\n",
    "import seaborn as sns\n",
    "confusion_matrix(y_train, y_train_pred_xgb)\n",
    "sns.heatmap(confusion_matrix(y_train, y_train_pred_xgb), annot=True,fmt='d')\n"
   ]
  },
  {
   "cell_type": "code",
   "execution_count": null,
   "metadata": {},
   "outputs": [],
   "source": [
    "#Performance measures for training dataset\n",
    "\n",
    "from sklearn.metrics import precision_score, recall_score,f1_score,accuracy_score\n",
    "print(\"Precision Score: \",precision_score(y_train, y_train_pred_xgb))\n",
    "print(\"Recall Score: \",recall_score(y_train, y_train_pred_xgb))\n",
    "print(\"F1 Score: \",f1_score(y_train, y_train_pred_xgb))\n",
    "print(\"Accuracy Score: \",accuracy_score(y_train, y_train_pred_xgb))"
   ]
  },
  {
   "cell_type": "markdown",
   "metadata": {},
   "source": [
    "#### Fine Tuning for XGBoost"
   ]
  },
  {
   "cell_type": "code",
   "execution_count": null,
   "metadata": {},
   "outputs": [],
   "source": [
    "import warnings\n",
    "warnings.filterwarnings('ignore')"
   ]
  },
  {
   "cell_type": "code",
   "execution_count": null,
   "metadata": {},
   "outputs": [],
   "source": [
    "%%time\n",
    "from sklearn.model_selection import RandomizedSearchCV\n",
    "from scipy.stats import uniform\n",
    "\n",
    "xgb_classifier = XGBClassifier(random_state=42)\n",
    "\n",
    "XG_distributions = dict(n_estimators=[100,200,300,400,500,600,700,800, 900, 1000],\n",
    "                     max_depths = [2, 5, 10, 20],\n",
    "                     learning_rate=[0.1,0.15,0.2,0.25,0.3],\n",
    "                     colsample_bytree=[0.5,0.6,0.7,0.8,0.9,1],\n",
    "                     subsample=[0.5,0.6,0.7,0.8,0.9,1],\n",
    "                     grow_policy = ['depthwise', 'lossguide'],\n",
    "                     booster = ['gbtree', 'gblinear', 'dart'],\n",
    "                     sampling_method = ['uniform','gradient_based'])\n",
    "rnd_search_XG = RandomizedSearchCV(xgb_classifier, XG_distributions, random_state=42)\n",
    "rnd_search_XG.fit(X_train, y_train)"
   ]
  },
  {
   "cell_type": "code",
   "execution_count": null,
   "metadata": {},
   "outputs": [],
   "source": [
    "cvres = pd.DataFrame(rnd_search_XG.cv_results_).sort_values(by=['rank_test_score'])\n",
    "for mean_score, params,rank in zip(cvres[\"mean_test_score\"], cvres[\"params\"],cvres[\"rank_test_score\"]):\n",
    "    print(\"Rank {}# - Score: {} - {}\".format(rank, np.sqrt(mean_score), params))"
   ]
  },
  {
   "cell_type": "code",
   "execution_count": null,
   "metadata": {
    "scrolled": true
   },
   "outputs": [],
   "source": [
    "rnd_search_XG.best_estimator_"
   ]
  },
  {
   "cell_type": "code",
   "execution_count": null,
   "metadata": {},
   "outputs": [],
   "source": [
    "import re\n",
    "regex = re.compile(r\"\\[|\\]|<\", re.IGNORECASE)\n",
    "X_test.columns = [regex.sub(\"_\", col) if any(x in str(col) for x in set(('[', ']', '<'))) else col for col in X_test.columns.values]"
   ]
  },
  {
   "cell_type": "code",
   "execution_count": null,
   "metadata": {},
   "outputs": [],
   "source": [
    "y_test_pred_xgb = rnd_search_XG.best_estimator_.predict(X_test)"
   ]
  },
  {
   "cell_type": "code",
   "execution_count": null,
   "metadata": {},
   "outputs": [],
   "source": [
    "import seaborn as sns\n",
    "sns.heatmap(confusion_matrix(y_test, y_test_pred_xgb), annot=True,fmt='d')"
   ]
  },
  {
   "cell_type": "code",
   "execution_count": null,
   "metadata": {},
   "outputs": [],
   "source": [
    "#Performance measures for test dataset\n",
    "from sklearn.metrics import precision_score, recall_score,f1_score \n",
    "print(\"Precision Score: \",precision_score(y_test, y_test_pred_xgb))\n",
    "print(\"Recall Score: \",recall_score(y_test, y_test_pred_xgb))\n",
    "print(\"F1 Score: \",f1_score(y_test, y_test_pred_xgb))\n",
    "print(\"Accuracy Score: \",accuracy_score(y_test, y_test_pred_xgb))"
   ]
  },
  {
   "cell_type": "code",
   "execution_count": null,
   "metadata": {},
   "outputs": [],
   "source": [
    "from sklearn import metrics\n",
    "fpr, tpr, _ = metrics.roc_curve(y_test,  y_test_pred_xgb)\n",
    "#calculate AUC of model\n",
    "auc_xgb = metrics.roc_auc_score(y_test, y_test_pred_xgb)\n",
    "print(auc_xgb)\n"
   ]
  },
  {
   "cell_type": "code",
   "execution_count": null,
   "metadata": {},
   "outputs": [],
   "source": [
    "cohen_score_xgb = cohen_kappa_score(y_test, y_test_pred_xgb)"
   ]
  },
  {
   "cell_type": "code",
   "execution_count": null,
   "metadata": {},
   "outputs": [],
   "source": [
    "acc_list.append(accuracy_score(y_test, y_test_pred_xgb))\n",
    "auc_list.append(auc_xgb)\n",
    "kappa_list.append(cohen_score_xgb)"
   ]
  },
  {
   "cell_type": "markdown",
   "metadata": {},
   "source": [
    "## Draw ROC curve and PR curve"
   ]
  },
  {
   "cell_type": "markdown",
   "metadata": {},
   "source": [
    "### For Training Set"
   ]
  },
  {
   "cell_type": "code",
   "execution_count": null,
   "metadata": {},
   "outputs": [],
   "source": [
    "from sklearn.metrics import roc_curve\n",
    "\n",
    "#Fuzzy Cognitive Map\n",
    "fpr_FCM, tpr_FCM, thresholds_FCM = roc_curve(y_train, y_train_pred_fcm)\n",
    "\n",
    "#------------------------------------------------------------------------------------------------#\n",
    "\n",
    "#Explainable Boosting Machine\n",
    "fpr_EBM, tpr_EBM, thresholds_EBM= roc_curve(y_train, y_train_pred_ebm)\n",
    "\n",
    "#------------------------------------------------------------------------------------------------#\n",
    "\n",
    "#LightGBM Classifier\n",
    "fpr_LGBM, tpr_LGBM, thresholds_LGBM = roc_curve(y_train, y_train_pred_lgbmc)\n",
    "\n",
    "#------------------------------------------------------------------------------------------------#\n",
    "\n",
    "#RIPPER (Repeated Incremental Pruning to Produce Error Reduction)\n",
    "fpr_RIPPER, tpr_RIPPER, thresholds_RIPPER = roc_curve(y_train, y_train_pred_ripper)\n",
    "\n",
    "#------------------------------------------------------------------------------------------------#\n",
    "\n",
    "#Decision Tree\n",
    "fpr_DT, tpr_DT, thresholds_DT = roc_curve(y_train, y_train_pred_dt)\n",
    "\n",
    "#------------------------------------------------------------------------------------------------#\n",
    "\n",
    "#K-Nearest Neighbour (KNN)\n",
    "fpr_KNN, tpr_KNN, thresholds_KNN = roc_curve(y_train, y_train_pred_knn)\n",
    "\n",
    "#------------------------------------------------------------------------------------------------#\n",
    "\n",
    "#MLP Classifier\n",
    "fpr_MLP, tpr_MLP, thresholds_MLP = roc_curve(y_train, y_train_pred_mlp_clf)\n",
    "\n",
    "#------------------------------------------------------------------------------------------------#\n",
    "\n",
    "#Support Vector Machine\n",
    "fpr_SVM, tpr_SVM, thresholds_SVM = roc_curve(y_train,  y_train_pred_svm)\n",
    "\n",
    "#------------------------------------------------------------------------------------------------#\n",
    "\n",
    "# Stochastic Gradient Descent\n",
    "fpr_SGD, tpr_SGD, thresholds_SGD = roc_curve(y_train, y_train_pred_sgd)\n",
    "\n",
    "#------------------------------------------------------------------------------------------------#\n",
    "\n",
    "# Gaussian Naive Bayes\n",
    "fpr_NB, tpr_NB, thresholds_NB = roc_curve(y_train, y_train_pred_nb)\n",
    "\n",
    "#------------------------------------------------------------------------------------------------#\n",
    "\n",
    "# Linear Regresison\n",
    "fpr_LR, tpr_LR, thresholds_LR = roc_curve(y_train, y_train_pred_log)\n",
    "\n",
    "#------------------------------------------------------------------------------------------------#\n",
    "\n",
    "# XGBoost\n",
    "fpr_XG, tpr_XG, thresholds_XG = roc_curve(y_train, y_train_pred_xgb)"
   ]
  },
  {
   "cell_type": "code",
   "execution_count": null,
   "metadata": {},
   "outputs": [],
   "source": [
    "plt.figure(figsize=(12, 10))              \n",
    "\n",
    "#Fuzzy Cognitive Map\n",
    "plt.plot(fpr_FCM, tpr_FCM, linewidth=2, label=\"Fuzzy Cognitive Map\")\n",
    "\n",
    "#------------------------------------------------------------------------------------------------#\n",
    "\n",
    "#Explainable Boosting Machine\n",
    "plt.plot(fpr_EBM, tpr_EBM, linewidth=2, label=\"EBM\")\n",
    "\n",
    "#------------------------------------------------------------------------------------------------#\n",
    "\n",
    "#LightGBM Classifier\n",
    "plt.plot(fpr_LGBM, tpr_LGBM, linewidth=2, label=\"LightGBM\")\n",
    "\n",
    "#------------------------------------------------------------------------------------------------#\n",
    "\n",
    "#RIPPER (Repeated Incremental Pruning to Produce Error Reduction)\n",
    "plt.plot(fpr_RIPPER, tpr_RIPPER, linewidth=2, label=\"RIPPER\")\n",
    "\n",
    "#------------------------------------------------------------------------------------------------#\n",
    "\n",
    "#K-Nearest Neighbour (KNN)\n",
    "plt.plot(fpr_KNN, tpr_KNN, linewidth=2, label=\"K-Nearest Neighbour\")\n",
    "\n",
    "#------------------------------------------------------------------------------------------------#\n",
    "\n",
    "#Decision Tree\n",
    "plt.plot(fpr_DT, tpr_DT, linewidth=2, label=\"Decision Tree\")\n",
    "\n",
    "#------------------------------------------------------------------------------------------------#\n",
    "\n",
    "#MLP Classifier\n",
    "plt.plot(fpr_MLP, tpr_MLP, linewidth=2, label=\"MLP Classifier\")\n",
    "\n",
    "#------------------------------------------------------------------------------------------------#\n",
    "\n",
    "#Support Vector Machine\n",
    "plt.plot(fpr_SVM, tpr_SVM, linewidth=2, label=\"Support Vector Machine\")\n",
    "\n",
    "#------------------------------------------------------------------------------------------------#\n",
    "\n",
    "# Stochastic Gradient Descent\n",
    "plt.plot(fpr_SGD, tpr_SGD, linewidth=2, label=\"Stochastic Gradient Descent\")\n",
    "\n",
    "#------------------------------------------------------------------------------------------------#\n",
    "\n",
    "# Gaussian Naive Bayes\n",
    "plt.plot(fpr_NB, tpr_NB, \"m-\", linewidth=2, label=\"Gaussian Naive Bayes\")\n",
    "\n",
    "#------------------------------------------------------------------------------------------------#\n",
    "\n",
    "# Linear Regresison\n",
    "plt.plot(fpr_LR, tpr_LR, linewidth=2, label=\"Logistic Regression\")\n",
    "\n",
    "#------------------------------------------------------------------------------------------------#\n",
    "\n",
    "# XGBoost\n",
    "plt.plot(fpr_XG, tpr_XG, linewidth=2, label=\"XGBoost\")\n",
    "\n",
    "#------------------------------------------------------------------------------------------------#\n",
    "\n",
    "\n",
    "# fpr_SGD_90 = fpr_SGD[np.argmax(tpr_SGD >= 0.9)]           \n",
    "\n",
    "# plt.plot([fpr_SGD_90, fpr_SGD_90], [0., 0.9], \"r:\")\n",
    "# plt.plot([0.0, fpr_SGD_90], [0.9, 0.9], \"r:\")  \n",
    "# plt.plot([fpr_SGD_90], [0.9], \"ro\")   \n",
    "\n",
    "# AUC curve\n",
    "plt.plot([0, 1], [0, 1], 'k--')\n",
    "# plt.axis([0, 1, 0, 1])\n",
    "\n",
    "\n",
    "\n",
    "plt.xlabel('False Positive Rate (Fall-Out)', fontsize=16) \n",
    "plt.ylabel('True Positive Rate (Recall)', fontsize=16)\n",
    "\n",
    "plt.legend(loc=4)\n",
    "plt.grid(True)      \n",
    "plt.show()"
   ]
  },
  {
   "cell_type": "markdown",
   "metadata": {},
   "source": [
    "### For Test Set"
   ]
  },
  {
   "cell_type": "code",
   "execution_count": null,
   "metadata": {},
   "outputs": [],
   "source": [
    "from sklearn.metrics import roc_curve\n",
    "\n",
    "#Fuzzy Cognitive Map\n",
    "fpr_FCM, tpr_FCM, thresholds_FCM = roc_curve(y_test, y_test_pred_fcm)\n",
    "\n",
    "#------------------------------------------------------------------------------------------------#\n",
    "\n",
    "#Explainable Boosting Machine\n",
    "fpr_EBM, tpr_EBM, thresholds_EBM = roc_curve(y_test, y_test_pred_ebm)\n",
    "\n",
    "#------------------------------------------------------------------------------------------------#\n",
    "\n",
    "#LightGBM Classifier\n",
    "fpr_LGBM, tpr_LGBM, thresholds_LGBM = roc_curve(y_test, y_test_pred_lgbmc)\n",
    "\n",
    "#------------------------------------------------------------------------------------------------#\n",
    "\n",
    "#RIPPER (Repeated Incremental Pruning to Produce Error Reduction)\n",
    "fpr_RIPPER, tpr_RIPPER, thresholds_RIPPER = roc_curve(y_test, y_test_pred_ripper)\n",
    "\n",
    "#------------------------------------------------------------------------------------------------#\n",
    "\n",
    "#K-Nearest Neighbour (KNN)\n",
    "fpr_KNN, tpr_KNN, thresholds_KNN = roc_curve(y_test, y_test_pred_knn)\n",
    "\n",
    "#------------------------------------------------------------------------------------------------#\n",
    "\n",
    "#Decision Tree\n",
    "fpr_DT, tpr_DT, thresholds_DT = roc_curve(y_test, y_test_pred_dt)\n",
    "\n",
    "#------------------------------------------------------------------------------------------------#\n",
    "\n",
    "#MLP Classifier\n",
    "fpr_MLP, tpr_MLP, thresholds_MLP = roc_curve(y_test, y_test_pred_mlp_clf)\n",
    "\n",
    "#------------------------------------------------------------------------------------------------#\n",
    "\n",
    "#Support Vector Machine\n",
    "fpr_SVM, tpr_SVM, thresholds_SVM = roc_curve(y_test, y_test_pred_svm)\n",
    "\n",
    "#------------------------------------------------------------------------------------------------#\n",
    "\n",
    "# Stochastic Gradient Descent\n",
    "fpr_SGD, tpr_SGD, thresholds_SGD = roc_curve(y_test, y_test_pred_sgd)\n",
    "\n",
    "#------------------------------------------------------------------------------------------------#\n",
    "\n",
    "# Gaussian Naive Bayes\n",
    "fpr_NB, tpr_NB, thresholds_NB = roc_curve(y_test, y_test_pred_nb)\n",
    "\n",
    "#------------------------------------------------------------------------------------------------#\n",
    "\n",
    "# Linear Regresison\n",
    "fpr_LR, tpr_LR, thresholds_LR = roc_curve(y_test, y_test_pred_log)\n",
    "\n",
    "#------------------------------------------------------------------------------------------------#\n",
    "\n",
    "# XGBoost\n",
    "fpr_XG, tpr_XG, thresholds_XG = roc_curve(y_test, y_test_pred_xgb)"
   ]
  },
  {
   "cell_type": "code",
   "execution_count": null,
   "metadata": {},
   "outputs": [],
   "source": [
    "plt.figure(figsize=(12, 10))                                    \n",
    "\n",
    "#Fuzzy Cognitive Map\n",
    "plt.plot(fpr_FCM, tpr_FCM, linewidth=2, label=\"Fuzzy Cognitive Map\")\n",
    "\n",
    "#------------------------------------------------------------------------------------------------#\n",
    "\n",
    "#Explainable Boosting Machine\n",
    "plt.plot(fpr_EBM, tpr_EBM, linewidth=2, label=\"EBM\")\n",
    "\n",
    "#------------------------------------------------------------------------------------------------#\n",
    "\n",
    "#LightGBM Classifier\n",
    "plt.plot(fpr_LGBM, tpr_LGBM, linewidth=2, label=\"LightGBM\")\n",
    "\n",
    "#------------------------------------------------------------------------------------------------#\n",
    "\n",
    "#RIPPER (Repeated Incremental Pruning to Produce Error Reduction)\n",
    "plt.plot(fpr_RIPPER, tpr_RIPPER, linewidth=2, label=\"RIPPER\")\n",
    "\n",
    "#------------------------------------------------------------------------------------------------#\n",
    "\n",
    "#K-Nearest Neighbour (KNN)\n",
    "plt.plot(fpr_KNN, tpr_KNN, linewidth=2, label=\"K-Nearest Neighbour\")\n",
    "\n",
    "#------------------------------------------------------------------------------------------------#\n",
    "\n",
    "#Decision Tree\n",
    "plt.plot(fpr_DT, tpr_DT, linewidth=2, label=\"Decision Tree\")\n",
    "\n",
    "#------------------------------------------------------------------------------------------------#\n",
    "\n",
    "#MLP Classifier\n",
    "plt.plot(fpr_MLP, tpr_MLP, linewidth=2, label=\"MLP Classifier\")\n",
    "\n",
    "\n",
    "#------------------------------------------------------------------------------------------------#\n",
    "\n",
    "#Support Vector Machine\n",
    "plt.plot(fpr_SVM, tpr_SVM, linewidth=2, label=\"Support Vector Machine\")\n",
    "\n",
    "\n",
    "#------------------------------------------------------------------------------------------------#\n",
    "\n",
    "# Stochastic Gradient Descent\n",
    "plt.plot(fpr_SGD, tpr_SGD, linewidth=2, label=\"Stochastic Gradient Descent\")\n",
    "\n",
    "\n",
    "#------------------------------------------------------------------------------------------------#\n",
    "\n",
    "# Gaussian Naive Bayes\n",
    "plt.plot(fpr_NB, tpr_NB, \"m-\", linewidth=2, label=\"Gaussian Naive Bayes\")\n",
    "\n",
    "#------------------------------------------------------------------------------------------------#\n",
    "\n",
    "# Linear Regresison\n",
    "plt.plot(fpr_LR, tpr_LR, linewidth=2, label=\"Logistic Regression\")\n",
    "\n",
    "\n",
    "#------------------------------------------------------------------------------------------------#\n",
    "\n",
    "# XGBoost\n",
    "plt.plot(fpr_XG, tpr_XG, linewidth=2, label=\"XGBoost\")\n",
    "\n",
    "#------------------------------------------------------------------------------------------------#\n",
    "\n",
    "\n",
    "# fpr_SGD_90 = fpr_SGD[np.argmax(tpr_SGD >= 0.9)]           \n",
    "\n",
    "# plt.plot([fpr_SGD_90, fpr_SGD_90], [0., 0.9], \"r:\")\n",
    "# plt.plot([0.0, fpr_SGD_90], [0.9, 0.9], \"r:\")  \n",
    "# plt.plot([fpr_SGD_90], [0.9], \"ro\")   \n",
    "\n",
    "# AUC curve\n",
    "plt.plot([0, 1], [0, 1], 'k--')\n",
    "# plt.axis([0, 1, 0, 1])\n",
    "\n",
    "\n",
    "\n",
    "plt.xlabel('False Positive Rate (Fall-Out)', fontsize=16) \n",
    "plt.ylabel('True Positive Rate (Recall)', fontsize=16)\n",
    "\n",
    "plt.legend(loc=4)\n",
    "plt.grid(True)      \n",
    "plt.show()"
   ]
  },
  {
   "cell_type": "markdown",
   "metadata": {},
   "source": [
    "## The area under curve (AUC)\n",
    "Through AUC you can summarize the performance of each classifier into a single measure when comparing different classifiers. Calculating the area under the ROC curve, abbreviated as AUC, is a typical method.\n"
   ]
  },
  {
   "cell_type": "code",
   "execution_count": null,
   "metadata": {
    "scrolled": true
   },
   "outputs": [],
   "source": [
    "model_list = ['IF-FCM', 'LightGBM', 'RIPPER', 'K-Nearest Neighbour' ,'Decision Tree', 'MLP Classifier', 'Support Vector Machine', 'Stochastic Gradient Descent', 'Gaussian Naive Bayes', 'Logistic Regression', 'XGBoost']\n",
    "\n",
    "#accuracy and AUC\n",
    "result_df = pd.DataFrame({'Model':model_list, 'Accuracy': acc_list, 'AUC': auc_list, 'Kappa':kappa_list})\n",
    "final_df = result_df.sort_values(by=['AUC'], ascending=False)\n",
    "final_df = final_df.reset_index(drop=True)\n",
    "final_df"
   ]
  },
  {
   "cell_type": "markdown",
   "metadata": {},
   "source": [
    "# Explainability"
   ]
  },
  {
   "cell_type": "markdown",
   "metadata": {},
   "source": [
    "## Global Explanations"
   ]
  },
  {
   "cell_type": "markdown",
   "metadata": {},
   "source": [
    "### Leave One Feature Out (LOFO)\n",
    "LOFO first evaluates the performance of the model with all the input features included, then iteratively removes one feature at a time, retrains the model, and evaluates its performance on a validation set. The mean and standard deviation (across the folds) of the importance of each feature is then reported.\n"
   ]
  },
  {
   "cell_type": "code",
   "execution_count": null,
   "metadata": {
    "scrolled": true
   },
   "outputs": [],
   "source": [
    "!pip install lofo-importance\n",
    "concat_df = pd.concat([X_train, y_train], axis=1)"
   ]
  },
  {
   "cell_type": "code",
   "execution_count": null,
   "metadata": {
    "scrolled": true
   },
   "outputs": [],
   "source": [
    "from sklearn.model_selection import KFold\n",
    "from lofo import LOFOImportance, Dataset, plot_importance\n",
    "\n",
    "# define the validation scheme\n",
    "cv = KFold(n_splits=5, shuffle=True, random_state=0)\n",
    "\n",
    "# set target\n",
    "target = \"Machine failure\"\n",
    "\n",
    "# define the binary target and the features\n",
    "dataset = Dataset(df=concat_df, target=target, features=[col for col in concat_df.columns if col != target])\n",
    "\n",
    "# define the validation scheme and scorer. The default model is LightGBM\n",
    "lofo_imp = LOFOImportance(dataset, cv=cv, scoring=\"roc_auc\" , model=grid_search_lgbmc_clf.best_estimator_)\n",
    "\n",
    "# get the mean and standard deviation of the importances in pandas format\n",
    "importance_df = lofo_imp.get_importance()\n",
    "\n",
    "#Save global feature importance for each model\n",
    "#importance_df.to_csv('Global_Feat_Import_ML_mdl\\\\xgb.csv')\n",
    "\n",
    "# plot the means and standard deviations of the importances\n",
    "plot_importance(importance_df, figsize=(12, 20), kind=\"box\")"
   ]
  },
  {
   "cell_type": "code",
   "execution_count": null,
   "metadata": {
    "scrolled": false
   },
   "outputs": [],
   "source": [
    "glob_feat_imp_mean_ml=pd.read_csv(r\"Global_Feat_Import_ML_mdl\\\\gl_ft_imp_mn.csv\")\n",
    "glob_feat_imp_std_ml=pd.read_csv(r\"Global_Feat_Import_ML_mdl\\\\glob_feat_imp_std_ml.csv\")\n",
    "\n",
    "model = glob_feat_imp_mean_ml[\"Model\"].tolist()\n",
    "\n",
    "#Mean error\n",
    "toolwear_mean_err = glob_feat_imp_mean_ml[\"Toolwearmin\"].tolist()\n",
    "torque_mean_err = glob_feat_imp_mean_ml[\"TorqueNm\"].tolist()\n",
    "pr_type_mean_err = glob_feat_imp_mean_ml[\"Type\"].tolist()\n",
    "airtemperature_mean_err = glob_feat_imp_mean_ml[\"AirtemperatureK\"].tolist()\n",
    "processtemperature_mean_err = glob_feat_imp_mean_ml[\"ProcesstemperatureK\"].tolist()\n",
    "rotationalspeedrpm_mean_err = glob_feat_imp_mean_ml[\"Rotationalspeedrpm\"].tolist()\n",
    "\n",
    "#Standard deviation\n",
    "toolwear_std = glob_feat_imp_std_ml[\"Toolwearmin\"].tolist()\n",
    "torque_std = glob_feat_imp_std_ml[\"TorqueNm\"].tolist()\n",
    "pr_typer_std = glob_feat_imp_std_ml[\"Type\"].tolist()\n",
    "airtemperaturer_std = glob_feat_imp_std_ml[\"AirtemperatureK\"].tolist()\n",
    "processtemperaturer_std = glob_feat_imp_std_ml[\"ProcesstemperatureK\"].tolist()\n",
    "rotationalspeedrpmr_std = glob_feat_imp_std_ml[\"Rotationalspeedrpm\"].tolist()\n",
    "\n",
    " \n",
    "# Initialise the spider plot by setting figure size and polar projection\n",
    "plt.figure(figsize=(14, 10))\n",
    "axes =plt.subplot(polar=True)\n",
    "axes.spines['polar'].set_visible(False)\n",
    "axes.set_yticklabels([])\n",
    "\n",
    "theta = np.linspace(0, 2 * np.pi, len(toolwear_mean_err))\n",
    " \n",
    "# Arrange the grid into number of sales equal parts in degrees\n",
    "lines, labels = plt.thetagrids(range(0, 360, int(360/len(model))), (model))\n",
    " \n",
    "# Plot actual sales graph\n",
    "#plt.plot(theta, toolwear_mean_err)\n",
    "plt.errorbar(theta, toolwear_mean_err, yerr=toolwear_std, fmt='.C1')\n",
    "plt.fill(theta, toolwear_mean_err, 'C1', alpha=0.2)\n",
    "\n",
    "# Plot expected sales graph\n",
    "#plt.plot(theta, torque_mean_err)\n",
    "plt.errorbar(theta, torque_mean_err, yerr=torque_std, fmt='.g')\n",
    "plt.fill(theta, torque_mean_err, 'g', alpha=0.2)\n",
    "\n",
    "# Plot expected sales graph\n",
    "#plt.plot(theta, pr_type_mean_err)\n",
    "plt.errorbar(theta, pr_type_mean_err, yerr=pr_typer_std, fmt='.r')\n",
    "plt.fill(theta, pr_type_mean_err, 'r', alpha=0.3)\n",
    "\n",
    "# Plot expected sales graph\n",
    "#plt.plot(theta, airtemperature_mean_err)\n",
    "plt.errorbar(theta, airtemperature_mean_err, yerr=airtemperaturer_std, fmt='.k')\n",
    "plt.fill(theta, airtemperature_mean_err, 'p', alpha=0.4)\n",
    "\n",
    "# Plot expected sales graph\n",
    "#plt.plot(theta, processtemperature_mean_err)\n",
    "plt.errorbar(theta, processtemperature_mean_err, yerr=processtemperaturer_std, fmt='.m')\n",
    "plt.fill(theta, processtemperature_mean_err, 'm', alpha=0.5)\n",
    "\n",
    "\n",
    "# Plot expected sales graph\n",
    "#plt.plot(theta, rotationalspeedrpm_mean_err)\n",
    "plt.errorbar(theta, rotationalspeedrpm_mean_err, yerr=rotationalspeedrpmr_std, fmt='.k')\n",
    "plt.fill(theta, rotationalspeedrpm_mean_err, 'k', alpha=0.6)\n",
    "\n",
    "# Add legend and title for the plot\n",
    "plt.legend(labels=('Tool wear', 'Torque', 'Type', 'Air Temperature', 'Process Temperature', 'Rotational Speed'), loc=(0, 1.05), mode='expand',ncol=3)\n",
    " \n",
    "# Dsiplay the plot on the screen\n",
    "plt.show()"
   ]
  },
  {
   "cell_type": "markdown",
   "metadata": {},
   "source": [
    "## Global Explainability using Permutation Importance "
   ]
  },
  {
   "cell_type": "code",
   "execution_count": null,
   "metadata": {},
   "outputs": [],
   "source": [
    "!pip install eli5 --user\n",
    "import eli5\n",
    "from eli5.sklearn import PermutationImportance\n",
    "  \n",
    "# create permutation importance object using model\n",
    "# and fit on test set\n",
    "perm = PermutationImportance(rnd_search_XG.best_estimator_, random_state=1).fit(X_test, y_test.values.ravel())\n",
    "  \n",
    "# display weights using PermutationImportance object\n",
    "eli5.show_weights(perm, feature_names = X_test.columns.tolist())"
   ]
  },
  {
   "cell_type": "markdown",
   "metadata": {},
   "source": [
    "## Local Explanations"
   ]
  },
  {
   "attachments": {
    "2022-12-31_185323.png": {
     "image/png": "[encoded data removed]"
    }
   },
   "cell_type": "markdown",
   "metadata": {},
   "source": [
    "![2022-12-31_185323.png](attachment:2022-12-31_185323.png)"
   ]
  },
  {
   "cell_type": "markdown",
   "metadata": {},
   "source": [
    "In this paper, since we want to evaluate the model's root cause analysis capabilities, we focus only on feature importance."
   ]
  },
  {
   "cell_type": "code",
   "execution_count": null,
   "metadata": {
    "scrolled": false
   },
   "outputs": [],
   "source": [
    "#Different models:\n",
    "#fcm: fcm_pred_class_test\n",
    "#lgbmc_clf: y_test_pred_lgbmc\n",
    "#ripper_clf: See the model's explanations in RIPPER cells \n",
    "#knn: y_test_pred_knn\n",
    "#dt_clf: y_test_pred_dt\n",
    "#MLP: y_test_pred_mlp_clf\n",
    "#svm_clf: y_test_pred_svm\n",
    "#rnd_search_nb.best_estimator_: y_test_pred_nb\n",
    "#rnd_search_SGD.best_estimator_: y_test_pred_sgd\n",
    "#rnd_search_LR.best_estimator_: y_test_pred_log\n",
    "#rnd_search_XG.best_estimator_:  y_test_pred_xgb\n",
    "\n",
    "#Find the observations' indexes that the model correctly predicted as faulty\n",
    "#y: Expected values of the model's output\n",
    "y=y_test;\n",
    "true_positive_indexes = []\n",
    "i=1;\n",
    "\n",
    "#According to the chosen model\n",
    "#For example, y_test_pred_lgbmc for LGBM Classifier\n",
    "for k in range(0,len(y)):\n",
    "    if (y.loc[k,'Machine failure']==int(y_test_pred_svm[k])) and (y.loc[k,'Machine failure']==1):\n",
    "        true_positive_indexes.append(k)\n",
    "        i=i+1;\n",
    "\n",
    "        \n",
    "#Find the observations that the selected model correctly predicted as faulty based on the previous indexes\n",
    "true_positive_observations = pd.DataFrame()\n",
    "for k in range(0,len(true_positive_indexes)):\n",
    "    new_row = pd.concat([original_X_test.loc[true_positive_indexes[k],:],y.loc[true_positive_indexes[k],:]], axis=0)\n",
    "    true_positive_observations = true_positive_observations.append(new_row, ignore_index=True)\n",
    "\n",
    "    \n",
    "#Find the observations that the selected model correctly predicted correctly as faulty along with the failure modes\n",
    "\n",
    "true_positive_observations_with_failure_modes = pd.DataFrame()\n",
    "#for index1 in range(0,len(true_positive_observations)):\n",
    "    #for index2 in range (0,len(ai4i2020_encoded_balanced)):\n",
    "        #if true_positive_observations.loc[index1,:].equals(ai4i2020_encoded_balanced.loc[index2,\"Type\":\"Machine failure\"]) == True:\n",
    "            #print(index1)\n",
    "            #true_positive_observations_with_failure_modes = true_positive_observations_with_failure_modes.append(ai4i2020_encoded_balanced.loc[index2,:], ignore_index=True)\n",
    "true_positive_observations_with_failure_modes = ai4i2020_encoded_balanced.join(true_positive_observations.set_index(['Type', 'Air temperature [K]', 'Process temperature [K]', 'Rotational speed [rpm]', 'Torque [Nm]', 'Tool wear [min]','Machine failure']), ['Type', 'Air temperature [K]', 'Process temperature [K]', 'Rotational speed [rpm]', 'Torque [Nm]', 'Tool wear [min]','Machine failure'], how='right')       \n",
    "final_true_positive_observations_with_failure_modes = true_positive_observations_with_failure_modes.reset_index(drop=True)\n",
    "\n",
    "display(\"Number of true positive predictions: \" + str(len(final_true_positive_observations_with_failure_modes)))\n",
    "\n",
    "number_of_TWF_failures_in_true_positive_predictions = 0\n",
    "number_of_HDF_failures_in_true_positive_predictions = 0\n",
    "number_of_PWF_failures_in_true_positive_predictions = 0\n",
    "number_of_OSF_failures_in_true_positive_predictions = 0\n",
    "number_of_random_failures_in_true_positive_predictions=0\n",
    "\n",
    "for k in range(0,len(final_true_positive_observations_with_failure_modes)):\n",
    "    if final_true_positive_observations_with_failure_modes.loc[k,\"TWF\"]==1: #if the failure mode is TWF\n",
    "        number_of_TWF_failures_in_true_positive_predictions = number_of_TWF_failures_in_true_positive_predictions + 1;\n",
    "    if final_true_positive_observations_with_failure_modes.loc[k,\"HDF\"]==1: #if the failure mode is HDF\n",
    "        number_of_HDF_failures_in_true_positive_predictions = number_of_HDF_failures_in_true_positive_predictions + 1;\n",
    "    if final_true_positive_observations_with_failure_modes.loc[k,\"PWF\"]==1: #if the failure mode is PWF\n",
    "        number_of_PWF_failures_in_true_positive_predictions = number_of_PWF_failures_in_true_positive_predictions + 1;\n",
    "    if final_true_positive_observations_with_failure_modes.loc[k,\"OSF\"]==1: #if the failure mode is OSF\n",
    "        number_of_OSF_failures_in_true_positive_predictions = number_of_OSF_failures_in_true_positive_predictions + 1;\n",
    "    if (final_true_positive_observations_with_failure_modes.loc[k,\"Machine failure\"]==1) and (final_true_positive_observations_with_failure_modes.loc[k,\"TWF\"]==0) and (final_true_positive_observations_with_failure_modes.loc[k,\"HDF\"]==0) and (final_true_positive_observations_with_failure_modes.loc[k,\"PWF\"]==0) and (final_true_positive_observations_with_failure_modes.loc[k,\"OSF\"]==0) and (final_true_positive_observations_with_failure_modes.loc[k,\"RNF\"]==0):\n",
    "        number_of_random_failures_in_true_positive_predictions = number_of_random_failures_in_true_positive_predictions+1;\n",
    "\n",
    "display(\"Number of TWF failures: \" + str(number_of_TWF_failures_in_true_positive_predictions))\n",
    "display(\"Number of HDF failures: \" + str(number_of_HDF_failures_in_true_positive_predictions))\n",
    "display(\"Number of PWF failures: \" + str(number_of_PWF_failures_in_true_positive_predictions))\n",
    "display(\"Number of OSF failures: \" + str(number_of_OSF_failures_in_true_positive_predictions))\n",
    "display(\"Number of RNF failures: \" + str(number_of_random_failures_in_true_positive_predictions))"
   ]
  },
  {
   "cell_type": "code",
   "execution_count": null,
   "metadata": {
    "scrolled": false
   },
   "outputs": [],
   "source": [
    "#Interacitve Widget in order to see each true positive observation along with the failure modes\n",
    "\n",
    "from IPython.display import display\n",
    "from IPython.display import clear_output\n",
    "from ipywidgets import Output\n",
    "from ipywidgets import widgets\n",
    "\n",
    "\n",
    "text = widgets.Text()\n",
    "display(text)\n",
    "\n",
    "out = widgets.Output()\n",
    "display(out)\n",
    "\n",
    "def handle_submit(sender):\n",
    "    with out:\n",
    "        clear_output()\n",
    "        index = int(text.value)\n",
    "        print(final_true_positive_observations_with_failure_modes.loc[index,:])\n",
    "        print('\\n')\n",
    "        print(\"Dataset index for the above true positive observation (starting from 0 index): \" + str(true_positive_indexes[index]))\n",
    "        \n",
    "text.on_submit(handle_submit)\n",
    "\n"
   ]
  },
  {
   "cell_type": "markdown",
   "metadata": {},
   "source": [
    "* TWF: The tool is replaced or fails after a random **Tool wear**\n",
    "* HDF: If the **temperature** differential between the **air** and the **process** is less than 8.6 K while at the same time the tool's **rotational speed** is less than 1380 rpm\n",
    "* PWF: If the product of **torque** and **rotational speed** in rad/sis less than 3500 W or greater than 9000 W\n",
    "* OSF: The product of **tool wear**, and **torque**"
   ]
  },
  {
   "cell_type": "code",
   "execution_count": null,
   "metadata": {
    "scrolled": false
   },
   "outputs": [],
   "source": [
    "from sklearn.ensemble import RandomForestClassifier\n",
    "from explainerdashboard import ClassifierExplainer, ExplainerDashboard\n",
    "from explainerdashboard.datasets import titanic_survive, titanic_names\n",
    "from explainerdashboard import InlineExplainer\n",
    "import shap\n",
    "\n",
    "#If you want to explore the entire dashboard \n",
    "#ExplainerDashboard(ClassifierExplainer(lgbmc_clf.fit(X_train, y_train.values.ravel()), X_test, y_test)).run()\n",
    "\n",
    "#Different models:\n",
    "#fcm: fcm_pred_class_test\n",
    "#lgbmc_clf: grid_search_lgbmc_clf.best_estimator_.fit(X_train, y_train.values.ravel()\n",
    "#ripper_clf: See the model's explanations in RIPPER cells \n",
    "#knn: grid_search_knn.best_estimator_.fit(X_train, y_train.values.ravel())\n",
    "#dt_clf: grid_search.best_estimator_.fit(X_train,y_train.values.ravel())\n",
    "#MLP: clf.best_estimator_.fit(X_train, y_train.values.ravel())\n",
    "#svm_clf: rnd_search_svm.best_estimator_.fit(X_train, y_train.values.ravel())\n",
    "#rnd_search_nb.best_estimator_: rnd_search_nb.best_estimator_.fit(X_train, y_train.values.ravel()) \n",
    "#rnd_search_SGD.best_estimator_: rnd_search_SGD.best_estimator_.fit(X_train, y_train.values.ravel())\n",
    "#rnd_search_LR.best_estimator_: rnd_search_LR.best_estimator_.fit(X_train, y_train.values.ravel())\n",
    "#rnd_search_XG.best_estimator_:  rnd_search_XG.best_estimator_.fit(X_train, y_train)\n",
    "\n",
    "\n",
    "explainer = ClassifierExplainer(rnd_search_svm.best_estimator_.fit(X_train, y_train.values.ravel()), X_test, y_test)\n",
    "InlineExplainer(explainer).shap.contributions_graph()"
   ]
  },
  {
   "cell_type": "code",
   "execution_count": null,
   "metadata": {},
   "outputs": [],
   "source": [
    "# load JS visualization code to notebook\n",
    "shap.initjs()\n",
    "\n",
    "#Shap values for each observation in the test dataset\n",
    "shap_values = explainer.get_shap_values_df(1)\n",
    "\n",
    "#Calculate the correct explanations\n",
    "correct_explanations = 0\n",
    "correct_explanations_TWF = 0\n",
    "correct_explanations_HDF = 0\n",
    "correct_explanations_PWF = 0\n",
    "correct_explanations_OSF = 0\n",
    "\n",
    "for k in range(0,len(true_positive_observations)):\n",
    "    #if the failure mode is TWF\n",
    "    if final_true_positive_observations_with_failure_modes.loc[k,\"TWF\"]==1:\n",
    "        #if tool wear is the most important feature\n",
    "        if shap_values.loc[true_positive_indexes[k],\"Toolwearmin\"] == max(shap_values.loc[true_positive_indexes[k],:]):\n",
    "            correct_explanations = correct_explanations+1;\n",
    "            correct_explanations_TWF = correct_explanations_TWF + 1;\n",
    "    \n",
    "    #if the failure mode is HDF\n",
    "    if final_true_positive_observations_with_failure_modes.loc[k,\"HDF\"]==1: \n",
    "        maximum1 = max(shap_values.loc[true_positive_indexes[k],:]) \n",
    "        maximum2 = max(shap_values.loc[true_positive_indexes[k],:], key = lambda x: min(shap_values.loc[true_positive_indexes[k],:])-1 if (x == maximum1) else x)\n",
    "        if (shap_values.loc[true_positive_indexes[k],\"AirtemperatureK\"] == maximum1) or (shap_values.loc[true_positive_indexes[k],\"AirtemperatureK\"] == maximum2) or (shap_values.loc[true_positive_indexes[k],\"ProcesstemperatureK\"] == maximum1) or (shap_values.loc[true_positive_indexes[k],\"ProcesstemperatureK\"] == maximum2):\n",
    "            correct_explanations = correct_explanations+1;\n",
    "            correct_explanations_HDF = correct_explanations_HDF + 1;\n",
    "            \n",
    "    #if the failure mode is PWF\n",
    "    if final_true_positive_observations_with_failure_modes.loc[k,\"PWF\"]==1: \n",
    "        maximum1 = max(shap_values.loc[true_positive_indexes[k],:]) \n",
    "        maximum2 = max(shap_values.loc[true_positive_indexes[k],:], key = lambda x: min(shap_values.loc[true_positive_indexes[k],:])-1 if (x == maximum1) else x)\n",
    "        if (shap_values.loc[true_positive_indexes[k],\"Rotationalspeedrpm\"] == maximum1) or (shap_values.loc[true_positive_indexes[k],\"Rotationalspeedrpm\"] == maximum2) or (shap_values.loc[true_positive_indexes[k],\"TorqueNm\"] == maximum1) or (shap_values.loc[true_positive_indexes[k],\"TorqueNm\"] == maximum2):\n",
    "            correct_explanations = correct_explanations+1;\n",
    "            correct_explanations_PWF = correct_explanations_PWF + 1;\n",
    "            \n",
    "    #if the failure mode is OSF        \n",
    "    if final_true_positive_observations_with_failure_modes.loc[k,\"OSF\"]==1:\n",
    "        maximum1 = max(shap_values.loc[true_positive_indexes[k],:]) \n",
    "        maximum2 = max(shap_values.loc[true_positive_indexes[k],:], key = lambda x: min(shap_values.loc[true_positive_indexes[k],:])-1 if (x == maximum1) else x)\n",
    "        if (shap_values.loc[true_positive_indexes[k],\"Toolwearmin\"] == maximum1) or (shap_values.loc[true_positive_indexes[k],\"Toolwearmin\"] == maximum2) or (shap_values.loc[true_positive_indexes[k],\"TorqueNm\"] == maximum1) or (shap_values.loc[true_positive_indexes[k],\"TorqueNm\"] == maximum2):\n",
    "            correct_explanations = correct_explanations+1;\n",
    "            correct_explanations_OSF = correct_explanations_OSF + 1;\n",
    "\n",
    "print(\"TWF: %.4f success, HDF: %.4f success, PWF: %.4f success, OSF: %.4f success \\n\\n\" % (correct_explanations_TWF/number_of_TWF_failures_in_true_positive_predictions,correct_explanations_HDF/number_of_HDF_failures_in_true_positive_predictions,correct_explanations_PWF/number_of_PWF_failures_in_true_positive_predictions,correct_explanations_OSF/number_of_OSF_failures_in_true_positive_predictions))\n",
    "\n",
    "average_success = ((correct_explanations_TWF/number_of_TWF_failures_in_true_positive_predictions)+(correct_explanations_HDF/number_of_HDF_failures_in_true_positive_predictions)+(correct_explanations_PWF/number_of_PWF_failures_in_true_positive_predictions)+(correct_explanations_OSF/number_of_OSF_failures_in_true_positive_predictions))/4\n",
    "\n",
    "print(\"Through the model, %d correct explanations are made in the true positive predictions with average success: %.4f \\n\\n\" % (correct_explanations, average_success))\n"
   ]
  },
  {
   "cell_type": "markdown",
   "metadata": {},
   "source": [
    "## Calculate the evaluation metrics for all folds of the best estimators  "
   ]
  },
  {
   "cell_type": "markdown",
   "metadata": {},
   "source": [
    "## Explainable Boosting Machine"
   ]
  },
  {
   "cell_type": "code",
   "execution_count": null,
   "metadata": {},
   "outputs": [],
   "source": [
    "acc_folds_best_estimator_ebm = []\n",
    "auc_folds_best_estimator_ebm = []\n",
    "kappa_folds_best_estimator_ebm = []\n",
    "twf_folds_best_estimator_ebm = []\n",
    "hdf_folds_best_estimator_ebm = []\n",
    "pwf_folds_best_estimator_ebm = []\n",
    "osf_folds_best_estimator_ebm = []\n",
    "av_folds_best_estimator_ebm = []\n",
    "fold_list_ebm = []\n",
    "\n",
    "\n",
    "for fold in range(1,11):\n",
    "    \n",
    "    display(\"Fold #\"+str(fold))\n",
    "    \n",
    "    #Dataset for each fold\n",
    "    ai4i2020_encoded_balanced = ai4i2020_encoded_balanced.rename(columns = lambda x:re.sub('[^A-Za-z0-9_]+', '', x))\n",
    "    original_X_train = pd.read_csv('..\\\\..\\\\dataset\\\\k-fold cross validation datasets\\\\' + str(fold) + \"\\\\Training Dataset\" + \"\\\\X_train_iter_\" + str(fold) + \".csv\")\n",
    "    original_X_test = pd.read_csv('..\\\\..\\\\dataset\\\\k-fold cross validation datasets\\\\' + str(fold) + \"\\\\Test Dataset\" + \"\\\\X_test_iter_\" + str(fold) + \".csv\")\n",
    "\n",
    "    X_train = pd.read_csv('..\\\\..\\\\dataset\\\\k-fold cross validation datasets\\\\' + str(fold) + \"\\\\Training Dataset\" + \"\\\\Scaled_X_train_iter_\" + str(fold) + \".csv\", names=['Type', 'Air temperature [K]', 'Process temperature [K]', 'Rotational speed [rpm]', 'Torque [Nm]', 'Tool wear [min]'])\n",
    "    y_train = pd.read_csv('..\\\\..\\\\dataset\\\\k-fold cross validation datasets\\\\' + str(fold) + \"\\\\Training Dataset\" + \"\\\\y_train_iter_\" + str(fold) + \".csv\")\n",
    "    X_test = pd.read_csv('..\\\\..\\\\dataset\\\\k-fold cross validation datasets\\\\' + str(fold) + \"\\\\Test Dataset\" + \"\\\\Scaled_X_test_iter_\" + str(fold) + \".csv\", names=['Type', 'Air temperature [K]', 'Process temperature [K]', 'Rotational speed [rpm]', 'Torque [Nm]', 'Tool wear [min]'])\n",
    "    y_test = pd.read_csv('..\\\\..\\\\dataset\\\\k-fold cross validation datasets\\\\' + str(fold) + \"\\\\Test Dataset\" + \"\\\\y_test_iter_\" + str(fold) + \".csv\")\n",
    "    \n",
    "    original_X_train = original_X_train.rename(columns = lambda x:re.sub('[^A-Za-z0-9_]+', '', x))\n",
    "    original_X_test = original_X_test.rename(columns = lambda x:re.sub('[^A-Za-z0-9_]+', '', x))\n",
    "    X_train = X_train.rename(columns = lambda x:re.sub('[^A-Za-z0-9_]+', '', x))\n",
    "    X_test = X_test.rename(columns = lambda x:re.sub('[^A-Za-z0-9_]+', '', x))\n",
    "    y_train = y_train.rename(columns = lambda x:re.sub('[^A-Za-z0-9_]+', '', x))\n",
    "    y_test = y_test.rename(columns = lambda x:re.sub('[^A-Za-z0-9_]+', '', x))\n",
    "    \n",
    "    \n",
    "    #Build the Classifier\n",
    "    \n",
    "    ebm.fit(X_train, y_train.values.ravel())\n",
    "    \n",
    "    #Predictions for the test set\n",
    "    y_test_pred_ebm = ebm.predict(X_test)\n",
    "    \n",
    "    \n",
    "    #Evaluation metrics for the test dataset\n",
    "    accuracy_ebm = accuracy_score(y_test,  y_test_pred_ebm)\n",
    "    cohen_score_ebm = cohen_kappa_score(y_test,  y_test_pred_ebm)\n",
    "    auc_ebm = metrics.roc_auc_score(y_test, y_test_pred_ebm)\n",
    "    \n",
    "    \n",
    "    #Find the observations' indexes that the model correctly predicted as faulty\n",
    "    true_positive_indexes = []\n",
    "    i=1;\n",
    "\n",
    "    #According to the chosen model\n",
    "    #For example, y_test_pred_lgbmc for LGBM Classifier\n",
    "    for k in range(0,len(y_test)):\n",
    "        if (y_test.loc[k,'Machinefailure']==int(y_test_pred_ebm[k])) and (y_test.loc[k,'Machinefailure']==1):\n",
    "            true_positive_indexes.append(k)\n",
    "            i=i+1;\n",
    "\n",
    "    #Find the observations that the selected model correctly predicted as faulty based on the previous indexes\n",
    "    true_positive_observations = pd.DataFrame()\n",
    "    for k in range(0,len(true_positive_indexes)):\n",
    "        new_row = pd.concat([original_X_test.loc[true_positive_indexes[k],:],y_test.loc[true_positive_indexes[k],:]], axis=0)\n",
    "        true_positive_observations = true_positive_observations.append(new_row, ignore_index=True)\n",
    "    \n",
    "    if not true_positive_observations.empty:\n",
    "        \n",
    "        #Append in lists\n",
    "        acc_folds_best_estimator_ebm.append(accuracy_ebm)\n",
    "        kappa_folds_best_estimator_ebm.append(cohen_score_ebm)\n",
    "        auc_folds_best_estimator_ebm.append(auc_ebm)\n",
    "        \n",
    "    \n",
    "        true_positive_observations_with_failure_modes = pd.DataFrame()\n",
    "        true_positive_observations_with_failure_modes = ai4i2020_encoded_balanced.join(true_positive_observations.set_index(['Type', 'AirtemperatureK', 'ProcesstemperatureK', 'Rotationalspeedrpm', 'TorqueNm', 'Toolwearmin', 'Machinefailure']), ['Type', 'AirtemperatureK', 'ProcesstemperatureK', 'Rotationalspeedrpm', 'TorqueNm', 'Toolwearmin', 'Machinefailure'], how='right')       \n",
    "        final_true_positive_observations_with_failure_modes = true_positive_observations_with_failure_modes.reset_index(drop=True)\n",
    "    \n",
    "        #display(\"Number of true positive predictions: \" + str(len(final_true_positive_observations_with_failure_modes)))\n",
    "\n",
    "        number_of_TWF_failures_in_true_positive_predictions = 0\n",
    "        number_of_HDF_failures_in_true_positive_predictions = 0\n",
    "        number_of_PWF_failures_in_true_positive_predictions = 0\n",
    "        number_of_OSF_failures_in_true_positive_predictions = 0\n",
    "        number_of_random_failures_in_true_positive_predictions=0\n",
    "\n",
    "        for k in range(0,len(final_true_positive_observations_with_failure_modes)):\n",
    "            if final_true_positive_observations_with_failure_modes.loc[k,\"TWF\"]==1: #if the failure mode is TWF\n",
    "                number_of_TWF_failures_in_true_positive_predictions = number_of_TWF_failures_in_true_positive_predictions + 1;\n",
    "            if final_true_positive_observations_with_failure_modes.loc[k,\"HDF\"]==1: #if the failure mode is HDF\n",
    "                number_of_HDF_failures_in_true_positive_predictions = number_of_HDF_failures_in_true_positive_predictions + 1;\n",
    "            if final_true_positive_observations_with_failure_modes.loc[k,\"PWF\"]==1: #if the failure mode is PWF\n",
    "                number_of_PWF_failures_in_true_positive_predictions = number_of_PWF_failures_in_true_positive_predictions + 1;\n",
    "            if final_true_positive_observations_with_failure_modes.loc[k,\"OSF\"]==1: #if the failure mode is OSF\n",
    "                number_of_OSF_failures_in_true_positive_predictions = number_of_OSF_failures_in_true_positive_predictions + 1;\n",
    "            if (final_true_positive_observations_with_failure_modes.loc[k,\"Machinefailure\"]==1) and (final_true_positive_observations_with_failure_modes.loc[k,\"TWF\"]==0) and (final_true_positive_observations_with_failure_modes.loc[k,\"HDF\"]==0) and (final_true_positive_observations_with_failure_modes.loc[k,\"PWF\"]==0) and (final_true_positive_observations_with_failure_modes.loc[k,\"OSF\"]==0) and (final_true_positive_observations_with_failure_modes.loc[k,\"RNF\"]==0):\n",
    "                number_of_random_failures_in_true_positive_predictions = number_of_random_failures_in_true_positive_predictions+1;\n",
    "        \n",
    "        #Global Explanations\n",
    "        ebm_global = ebm.explain_global()\n",
    "        show(ebm_global)\n",
    "        \n",
    "        #Local Explanations\n",
    "        \n",
    "        importances_for_all_features_and_their_combinations = ebm.predict_and_contrib(X_test, output='labels')\n",
    "        \n",
    "        local_importance_ebm = []\n",
    "        for deigma in range(0,len(X_test)):\n",
    "            local_importance_ebm.append(importances_for_all_features_and_their_combinations[1][deigma][0:6])\n",
    "        \n",
    "        local_importance_ebm = [abs(x) for x in local_importance_ebm]\n",
    "        \n",
    "        shap_values = pd.DataFrame(local_importance_ebm, columns = X_train.columns)\n",
    "                  \n",
    "        #Calculate the correct explanations\n",
    "        correct_explanations = 0\n",
    "        correct_explanations_TWF = 0\n",
    "        correct_explanations_HDF = 0\n",
    "        correct_explanations_PWF = 0\n",
    "        correct_explanations_OSF = 0\n",
    "\n",
    "        for k in range(0,len(true_positive_observations)):\n",
    "            #if the failure mode is TWF\n",
    "            if final_true_positive_observations_with_failure_modes.loc[k,\"TWF\"]==1:\n",
    "                #if tool wear is the most important feature\n",
    "                if shap_values.loc[true_positive_indexes[k],\"Toolwearmin\"] == max(shap_values.loc[true_positive_indexes[k],:]):\n",
    "                    correct_explanations = correct_explanations+1;\n",
    "                    correct_explanations_TWF = correct_explanations_TWF + 1;\n",
    "                \n",
    "            #if the failure mode is HDF\n",
    "            if final_true_positive_observations_with_failure_modes.loc[k,\"HDF\"]==1: \n",
    "                maximum1 = max(shap_values.loc[true_positive_indexes[k],:]) \n",
    "                maximum2 = max(shap_values.loc[true_positive_indexes[k],:], key = lambda x: min(shap_values.loc[true_positive_indexes[k],:])-1 if (x == maximum1) else x)\n",
    "                if (shap_values.loc[true_positive_indexes[k],\"AirtemperatureK\"] == maximum1) or (shap_values.loc[true_positive_indexes[k],\"AirtemperatureK\"] == maximum2) or (shap_values.loc[true_positive_indexes[k],\"ProcesstemperatureK\"] == maximum1) or (shap_values.loc[true_positive_indexes[k],\"ProcesstemperatureK\"] == maximum2):\n",
    "                    correct_explanations = correct_explanations+1;\n",
    "                    correct_explanations_HDF = correct_explanations_HDF + 1;\n",
    "            \n",
    "            \n",
    "            #if the failure mode is PWF\n",
    "            if final_true_positive_observations_with_failure_modes.loc[k,\"PWF\"]==1: \n",
    "                maximum1 = max(shap_values.loc[true_positive_indexes[k],:]) \n",
    "                maximum2 = max(shap_values.loc[true_positive_indexes[k],:], key = lambda x: min(shap_values.loc[true_positive_indexes[k],:])-1 if (x == maximum1) else x)\n",
    "                if (shap_values.loc[true_positive_indexes[k],\"Rotationalspeedrpm\"] == maximum1) or (shap_values.loc[true_positive_indexes[k],\"Rotationalspeedrpm\"] == maximum2) or (shap_values.loc[true_positive_indexes[k],\"TorqueNm\"] == maximum1) or (shap_values.loc[true_positive_indexes[k],\"TorqueNm\"] == maximum2):\n",
    "                    correct_explanations = correct_explanations+1;\n",
    "                    correct_explanations_PWF = correct_explanations_PWF + 1;\n",
    "            \n",
    "            #if the failure mode is OSF        \n",
    "            if final_true_positive_observations_with_failure_modes.loc[k,\"OSF\"]==1:\n",
    "                maximum1 = max(shap_values.loc[true_positive_indexes[k],:]) \n",
    "                maximum2 = max(shap_values.loc[true_positive_indexes[k],:], key = lambda x: min(shap_values.loc[true_positive_indexes[k],:])-1 if (x == maximum1) else x)\n",
    "                if (shap_values.loc[true_positive_indexes[k],\"Toolwearmin\"] == maximum1) or (shap_values.loc[true_positive_indexes[k],\"Toolwearmin\"] == maximum2) or (shap_values.loc[true_positive_indexes[k],\"TorqueNm\"] == maximum1) or (shap_values.loc[true_positive_indexes[k],\"TorqueNm\"] == maximum2):\n",
    "                    correct_explanations = correct_explanations+1;\n",
    "                    correct_explanations_OSF = correct_explanations_OSF + 1;\n",
    "            \n",
    "        denominator = 0\n",
    "        \n",
    "        if number_of_TWF_failures_in_true_positive_predictions != 0:\n",
    "            twf_folds_best_estimator_ebm.append(correct_explanations_TWF/number_of_TWF_failures_in_true_positive_predictions)\n",
    "            twf_success = correct_explanations_TWF/number_of_TWF_failures_in_true_positive_predictions\n",
    "            denominator = denominator + 1\n",
    "        else:\n",
    "            twf_folds_best_estimator_ebm.append(correct_explanations_TWF)\n",
    "            twf_success = 0\n",
    "        if number_of_HDF_failures_in_true_positive_predictions != 0:\n",
    "            hdf_folds_best_estimator_ebm.append(correct_explanations_HDF/number_of_HDF_failures_in_true_positive_predictions)\n",
    "            hdf_success = correct_explanations_HDF/number_of_HDF_failures_in_true_positive_predictions\n",
    "            denominator = denominator + 1\n",
    "        else:\n",
    "            hdf_folds_best_estimator_ebm.append(correct_explanations_HDF)\n",
    "            hdf_success = 0\n",
    "        if number_of_PWF_failures_in_true_positive_predictions != 0:\n",
    "            pwf_folds_best_estimator_ebm.append(correct_explanations_PWF/number_of_PWF_failures_in_true_positive_predictions)\n",
    "            pwf_success = correct_explanations_PWF/number_of_PWF_failures_in_true_positive_predictions\n",
    "            denominator = denominator + 1\n",
    "        else:\n",
    "            pwf_folds_best_estimator_ebm.append(correct_explanations_PWF)\n",
    "            pwf_success = 0\n",
    "        if number_of_OSF_failures_in_true_positive_predictions != 0:\n",
    "            osf_folds_best_estimator_ebm.append(correct_explanations_OSF/number_of_OSF_failures_in_true_positive_predictions)\n",
    "            osf_success = correct_explanations_OSF/number_of_OSF_failures_in_true_positive_predictions\n",
    "            denominator = denominator + 1\n",
    "        else:\n",
    "            osf_folds_best_estimator_ebm.append(correct_explanations_OSF)\n",
    "            osf_success = 0\n",
    "    \n",
    "        average_success = (twf_success+hdf_success+pwf_success+osf_success)/denominator\n",
    "        av_folds_best_estimator_ebm.append(average_success)\n",
    "        fold_list_ebm.append(fold)\n",
    "\n",
    "\n",
    "result_df_best_estimator_ebm = pd.DataFrame({'Accuracy': acc_folds_best_estimator_ebm, 'AUC': auc_folds_best_estimator_ebm, 'Kappa':kappa_folds_best_estimator_ebm, 'TWF':twf_folds_best_estimator_ebm, 'HDF':hdf_folds_best_estimator_ebm, 'PWF':pwf_folds_best_estimator_ebm, 'OSF':osf_folds_best_estimator_ebm, 'Average Success':av_folds_best_estimator_ebm, 'Folds':fold_list_ebm})\n"
   ]
  },
  {
   "cell_type": "code",
   "execution_count": null,
   "metadata": {},
   "outputs": [],
   "source": [
    "result_df_best_estimator_ebm"
   ]
  },
  {
   "cell_type": "markdown",
   "metadata": {},
   "source": [
    "## LightGBM"
   ]
  },
  {
   "cell_type": "code",
   "execution_count": null,
   "metadata": {},
   "outputs": [],
   "source": [
    "acc_folds_best_estimator_lgmbc = []\n",
    "auc_folds_best_estimator_lgmbc = []\n",
    "kappa_folds_best_estimator_lgmbc = []\n",
    "twf_folds_best_estimator_lgmbc = []\n",
    "hdf_folds_best_estimator_lgmbc = []\n",
    "pwf_folds_best_estimator_lgmbc = []\n",
    "osf_folds_best_estimator_lgmbc = []\n",
    "av_folds_best_estimator_lgmbc = []\n",
    "fold_list_lgmbc = []\n",
    "\n",
    "\n",
    "for fold in range(1,11):\n",
    "    \n",
    "    #Dataset for each fold\n",
    "    ai4i2020_encoded_balanced = ai4i2020_encoded_balanced.rename(columns = lambda x:re.sub('[^A-Za-z0-9_]+', '', x))\n",
    "    original_X_train = pd.read_csv('..\\\\..\\\\dataset\\\\k-fold cross validation datasets\\\\' + str(fold) + \"\\\\Training Dataset\" + \"\\\\X_train_iter_\" + str(fold) + \".csv\")\n",
    "    original_X_test = pd.read_csv('..\\\\..\\\\dataset\\\\k-fold cross validation datasets\\\\' + str(fold) + \"\\\\Test Dataset\" + \"\\\\X_test_iter_\" + str(fold) + \".csv\")\n",
    "\n",
    "    X_train = pd.read_csv('..\\\\..\\\\dataset\\\\k-fold cross validation datasets\\\\' + str(fold) + \"\\\\Training Dataset\" + \"\\\\Scaled_X_train_iter_\" + str(fold) + \".csv\", names=['Type', 'Air temperature [K]', 'Process temperature [K]', 'Rotational speed [rpm]', 'Torque [Nm]', 'Tool wear [min]'])\n",
    "    y_train = pd.read_csv('..\\\\..\\\\dataset\\\\k-fold cross validation datasets\\\\' + str(fold) + \"\\\\Training Dataset\" + \"\\\\y_train_iter_\" + str(fold) + \".csv\")\n",
    "    X_test = pd.read_csv('..\\\\..\\\\dataset\\\\k-fold cross validation datasets\\\\' + str(fold) + \"\\\\Test Dataset\" + \"\\\\Scaled_X_test_iter_\" + str(fold) + \".csv\", names=['Type', 'Air temperature [K]', 'Process temperature [K]', 'Rotational speed [rpm]', 'Torque [Nm]', 'Tool wear [min]'])\n",
    "    y_test = pd.read_csv('..\\\\..\\\\dataset\\\\k-fold cross validation datasets\\\\' + str(fold) + \"\\\\Test Dataset\" + \"\\\\y_test_iter_\" + str(fold) + \".csv\")\n",
    "    \n",
    "    original_X_train = original_X_train.rename(columns = lambda x:re.sub('[^A-Za-z0-9_]+', '', x))\n",
    "    original_X_test = original_X_test.rename(columns = lambda x:re.sub('[^A-Za-z0-9_]+', '', x))\n",
    "    X_train = X_train.rename(columns = lambda x:re.sub('[^A-Za-z0-9_]+', '', x))\n",
    "    X_test = X_test.rename(columns = lambda x:re.sub('[^A-Za-z0-9_]+', '', x))\n",
    "    y_train = y_train.rename(columns = lambda x:re.sub('[^A-Za-z0-9_]+', '', x))\n",
    "    y_test = y_test.rename(columns = lambda x:re.sub('[^A-Za-z0-9_]+', '', x))\n",
    "    \n",
    "    \n",
    "    #Build the Classifier\n",
    "    \n",
    "    grid_search_lgbmc_clf.best_estimator_.fit(X_train, y_train.values.ravel())\n",
    "    \n",
    "    #Predictions for the test set\n",
    "    y_test_pred_lgbmc = grid_search_lgbmc_clf.best_estimator_.predict(X_test)\n",
    "    \n",
    "    \n",
    "    #Evaluation metrics for the test dataset\n",
    "    accuracy_lgbmc = accuracy_score(y_test, y_test_pred_lgbmc)\n",
    "    cohen_score_lgbmc = cohen_kappa_score(y_test, y_test_pred_lgbmc)\n",
    "    auc_lgbmc = metrics.roc_auc_score(y_test, y_test_pred_lgbmc)\n",
    "    \n",
    "    \n",
    "    #Find the observations' indexes that the model correctly predicted as faulty\n",
    "    true_positive_indexes = []\n",
    "    i=1;\n",
    "\n",
    "    #According to the chosen model\n",
    "    #For example, y_test_pred_lgbmc for LGBM Classifier\n",
    "    for k in range(0,len(y_test)):\n",
    "        if (y_test.loc[k,'Machinefailure']==int(y_test_pred_lgbmc[k])) and (y_test.loc[k,'Machinefailure']==1):\n",
    "            true_positive_indexes.append(k)\n",
    "            i=i+1;\n",
    "\n",
    "    #Find the observations that the selected model correctly predicted as faulty based on the previous indexes\n",
    "    true_positive_observations = pd.DataFrame()\n",
    "    for k in range(0,len(true_positive_indexes)):\n",
    "        new_row = pd.concat([original_X_test.loc[true_positive_indexes[k],:],y_test.loc[true_positive_indexes[k],:]], axis=0)\n",
    "        true_positive_observations = true_positive_observations.append(new_row, ignore_index=True)\n",
    "    \n",
    "    if not true_positive_observations.empty:\n",
    "        \n",
    "        #Append in lists\n",
    "        acc_folds_best_estimator_lgmbc.append(accuracy_lgbmc)\n",
    "        kappa_folds_best_estimator_lgmbc.append(cohen_score_lgbmc)\n",
    "        auc_folds_best_estimator_lgmbc.append(auc_lgbmc)\n",
    "        \n",
    "    \n",
    "        true_positive_observations_with_failure_modes = pd.DataFrame()\n",
    "        true_positive_observations_with_failure_modes = ai4i2020_encoded_balanced.join(true_positive_observations.set_index(['Type', 'AirtemperatureK', 'ProcesstemperatureK', 'Rotationalspeedrpm', 'TorqueNm', 'Toolwearmin', 'Machinefailure']), ['Type', 'AirtemperatureK', 'ProcesstemperatureK', 'Rotationalspeedrpm', 'TorqueNm', 'Toolwearmin', 'Machinefailure'], how='right')       \n",
    "        final_true_positive_observations_with_failure_modes = true_positive_observations_with_failure_modes.reset_index(drop=True)\n",
    "    \n",
    "        #display(\"Number of true positive predictions: \" + str(len(final_true_positive_observations_with_failure_modes)))\n",
    "\n",
    "        number_of_TWF_failures_in_true_positive_predictions = 0\n",
    "        number_of_HDF_failures_in_true_positive_predictions = 0\n",
    "        number_of_PWF_failures_in_true_positive_predictions = 0\n",
    "        number_of_OSF_failures_in_true_positive_predictions = 0\n",
    "        number_of_random_failures_in_true_positive_predictions=0\n",
    "\n",
    "        for k in range(0,len(final_true_positive_observations_with_failure_modes)):\n",
    "            if final_true_positive_observations_with_failure_modes.loc[k,\"TWF\"]==1: #if the failure mode is TWF\n",
    "                number_of_TWF_failures_in_true_positive_predictions = number_of_TWF_failures_in_true_positive_predictions + 1;\n",
    "            if final_true_positive_observations_with_failure_modes.loc[k,\"HDF\"]==1: #if the failure mode is HDF\n",
    "                number_of_HDF_failures_in_true_positive_predictions = number_of_HDF_failures_in_true_positive_predictions + 1;\n",
    "            if final_true_positive_observations_with_failure_modes.loc[k,\"PWF\"]==1: #if the failure mode is PWF\n",
    "                number_of_PWF_failures_in_true_positive_predictions = number_of_PWF_failures_in_true_positive_predictions + 1;\n",
    "            if final_true_positive_observations_with_failure_modes.loc[k,\"OSF\"]==1: #if the failure mode is OSF\n",
    "                number_of_OSF_failures_in_true_positive_predictions = number_of_OSF_failures_in_true_positive_predictions + 1;\n",
    "            if (final_true_positive_observations_with_failure_modes.loc[k,\"Machinefailure\"]==1) and (final_true_positive_observations_with_failure_modes.loc[k,\"TWF\"]==0) and (final_true_positive_observations_with_failure_modes.loc[k,\"HDF\"]==0) and (final_true_positive_observations_with_failure_modes.loc[k,\"PWF\"]==0) and (final_true_positive_observations_with_failure_modes.loc[k,\"OSF\"]==0) and (final_true_positive_observations_with_failure_modes.loc[k,\"RNF\"]==0):\n",
    "                number_of_random_failures_in_true_positive_predictions = number_of_random_failures_in_true_positive_predictions+1;\n",
    "        \n",
    "        #Local Explanations\n",
    "        explainer = ClassifierExplainer(grid_search_lgbmc_clf.best_estimator_.fit(X_train, y_train.values.ravel()), X_test, y_test)\n",
    "        \n",
    "        # load JS visualization code to notebook\n",
    "        shap.initjs()\n",
    "\n",
    "        #Shap values for each observation in the test dataset\n",
    "        shap_values = explainer.get_shap_values_df(1)\n",
    "          \n",
    "        #Calculate the correct explanations\n",
    "        correct_explanations = 0\n",
    "        correct_explanations_TWF = 0\n",
    "        correct_explanations_HDF = 0\n",
    "        correct_explanations_PWF = 0\n",
    "        correct_explanations_OSF = 0\n",
    "\n",
    "        for k in range(0,len(true_positive_observations)):\n",
    "            #if the failure mode is TWF\n",
    "            if final_true_positive_observations_with_failure_modes.loc[k,\"TWF\"]==1:\n",
    "                #if tool wear is the most important feature\n",
    "                if shap_values.loc[true_positive_indexes[k],\"Toolwearmin\"] == max(shap_values.loc[true_positive_indexes[k],:]):\n",
    "                    correct_explanations = correct_explanations+1;\n",
    "                    correct_explanations_TWF = correct_explanations_TWF + 1;\n",
    "                \n",
    "            #if the failure mode is HDF\n",
    "            if final_true_positive_observations_with_failure_modes.loc[k,\"HDF\"]==1: \n",
    "                maximum1 = max(shap_values.loc[true_positive_indexes[k],:]) \n",
    "                maximum2 = max(shap_values.loc[true_positive_indexes[k],:], key = lambda x: min(shap_values.loc[true_positive_indexes[k],:])-1 if (x == maximum1) else x)\n",
    "                if (shap_values.loc[true_positive_indexes[k],\"AirtemperatureK\"] == maximum1) or (shap_values.loc[true_positive_indexes[k],\"AirtemperatureK\"] == maximum2) or (shap_values.loc[true_positive_indexes[k],\"ProcesstemperatureK\"] == maximum1) or (shap_values.loc[true_positive_indexes[k],\"ProcesstemperatureK\"] == maximum2):\n",
    "                    correct_explanations = correct_explanations+1;\n",
    "                    correct_explanations_HDF = correct_explanations_HDF + 1;\n",
    "            \n",
    "            \n",
    "            #if the failure mode is PWF\n",
    "            if final_true_positive_observations_with_failure_modes.loc[k,\"PWF\"]==1: \n",
    "                maximum1 = max(shap_values.loc[true_positive_indexes[k],:]) \n",
    "                maximum2 = max(shap_values.loc[true_positive_indexes[k],:], key = lambda x: min(shap_values.loc[true_positive_indexes[k],:])-1 if (x == maximum1) else x)\n",
    "                if (shap_values.loc[true_positive_indexes[k],\"Rotationalspeedrpm\"] == maximum1) or (shap_values.loc[true_positive_indexes[k],\"Rotationalspeedrpm\"] == maximum2) or (shap_values.loc[true_positive_indexes[k],\"TorqueNm\"] == maximum1) or (shap_values.loc[true_positive_indexes[k],\"TorqueNm\"] == maximum2):\n",
    "                    correct_explanations = correct_explanations+1;\n",
    "                    correct_explanations_PWF = correct_explanations_PWF + 1;\n",
    "            \n",
    "            #if the failure mode is OSF        \n",
    "            if final_true_positive_observations_with_failure_modes.loc[k,\"OSF\"]==1:\n",
    "                maximum1 = max(shap_values.loc[true_positive_indexes[k],:]) \n",
    "                maximum2 = max(shap_values.loc[true_positive_indexes[k],:], key = lambda x: min(shap_values.loc[true_positive_indexes[k],:])-1 if (x == maximum1) else x)\n",
    "                if (shap_values.loc[true_positive_indexes[k],\"Toolwearmin\"] == maximum1) or (shap_values.loc[true_positive_indexes[k],\"Toolwearmin\"] == maximum2) or (shap_values.loc[true_positive_indexes[k],\"TorqueNm\"] == maximum1) or (shap_values.loc[true_positive_indexes[k],\"TorqueNm\"] == maximum2):\n",
    "                    correct_explanations = correct_explanations+1;\n",
    "                    correct_explanations_OSF = correct_explanations_OSF + 1;\n",
    "        \n",
    "        denominator = 0\n",
    "        \n",
    "        if number_of_TWF_failures_in_true_positive_predictions != 0:\n",
    "            twf_folds_best_estimator_lgmbc.append(correct_explanations_TWF/number_of_TWF_failures_in_true_positive_predictions)\n",
    "            twf_success = correct_explanations_TWF/number_of_TWF_failures_in_true_positive_predictions\n",
    "            denominator = denominator + 1\n",
    "        else:\n",
    "            twf_folds_best_estimator_lgmbc.append(correct_explanations_TWF)\n",
    "            twf_success = 0\n",
    "        if number_of_HDF_failures_in_true_positive_predictions != 0:\n",
    "            hdf_folds_best_estimator_lgmbc.append(correct_explanations_HDF/number_of_HDF_failures_in_true_positive_predictions)\n",
    "            hdf_success = correct_explanations_HDF/number_of_HDF_failures_in_true_positive_predictions\n",
    "            denominator = denominator + 1\n",
    "        else:\n",
    "            hdf_folds_best_estimator_lgmbc.append(correct_explanations_HDF)\n",
    "            hdf_success = 0\n",
    "        if number_of_PWF_failures_in_true_positive_predictions != 0:\n",
    "            pwf_folds_best_estimator_lgmbc.append(correct_explanations_PWF/number_of_PWF_failures_in_true_positive_predictions)\n",
    "            pwf_success = correct_explanations_PWF/number_of_PWF_failures_in_true_positive_predictions\n",
    "            denominator = denominator + 1\n",
    "        else:\n",
    "            pwf_folds_best_estimator_lgmbc.append(correct_explanations_PWF)\n",
    "            pwf_success = 0\n",
    "        if number_of_OSF_failures_in_true_positive_predictions != 0:\n",
    "            osf_folds_best_estimator_lgmbc.append(correct_explanations_OSF/number_of_OSF_failures_in_true_positive_predictions)\n",
    "            osf_success = correct_explanations_OSF/number_of_OSF_failures_in_true_positive_predictions\n",
    "            denominator = denominator + 1\n",
    "        else:\n",
    "            osf_folds_best_estimator_lgmbc.append(correct_explanations_OSF)\n",
    "            osf_success = 0\n",
    "    \n",
    "        average_success = (twf_success+hdf_success+pwf_success+osf_success)/denominator\n",
    "        av_folds_best_estimator_lgmbc.append(average_success)\n",
    "        fold_list_lgmbc.append(fold)\n",
    "\n",
    "result_df_best_estimator_lgmbc = pd.DataFrame({'Accuracy': acc_folds_best_estimator_lgmbc, 'AUC': auc_folds_best_estimator_lgmbc, 'Kappa':kappa_folds_best_estimator_lgmbc, 'TWF':twf_folds_best_estimator_lgmbc, 'HDF':hdf_folds_best_estimator_lgmbc, 'PWF':pwf_folds_best_estimator_lgmbc, 'OSF':osf_folds_best_estimator_lgmbc, 'Average Success':av_folds_best_estimator_lgmbc, 'Folds':fold_list_lgmbc})\n"
   ]
  },
  {
   "cell_type": "code",
   "execution_count": null,
   "metadata": {},
   "outputs": [],
   "source": [
    "result_df_best_estimator_lgmbc"
   ]
  },
  {
   "cell_type": "markdown",
   "metadata": {},
   "source": [
    "## K-Nearest Neighbour (KNN) "
   ]
  },
  {
   "cell_type": "code",
   "execution_count": null,
   "metadata": {},
   "outputs": [],
   "source": [
    "acc_folds_best_estimator_knn = []\n",
    "auc_folds_best_estimator_knn = []\n",
    "kappa_folds_best_estimator_knn = []\n",
    "twf_folds_best_estimator_knn = []\n",
    "hdf_folds_best_estimator_knn = []\n",
    "pwf_folds_best_estimator_knn = []\n",
    "osf_folds_best_estimator_knn = []\n",
    "av_folds_best_estimator_knn = []\n",
    "fold_list_knn = []\n",
    "\n",
    "\n",
    "for fold in range(1,11):\n",
    "    \n",
    "    #Dataset for each fold\n",
    "    ai4i2020_encoded_balanced = ai4i2020_encoded_balanced.rename(columns = lambda x:re.sub('[^A-Za-z0-9_]+', '', x))\n",
    "    original_X_train = pd.read_csv('..\\\\..\\\\dataset\\\\k-fold cross validation datasets\\\\' + str(fold) + \"\\\\Training Dataset\" + \"\\\\X_train_iter_\" + str(fold) + \".csv\")\n",
    "    original_X_test = pd.read_csv('..\\\\..\\\\dataset\\\\k-fold cross validation datasets\\\\' + str(fold) + \"\\\\Test Dataset\" + \"\\\\X_test_iter_\" + str(fold) + \".csv\")\n",
    "\n",
    "    X_train = pd.read_csv('..\\\\..\\\\dataset\\\\k-fold cross validation datasets\\\\' + str(fold) + \"\\\\Training Dataset\" + \"\\\\Scaled_X_train_iter_\" + str(fold) + \".csv\", names=['Type', 'Air temperature [K]', 'Process temperature [K]', 'Rotational speed [rpm]', 'Torque [Nm]', 'Tool wear [min]'])\n",
    "    y_train = pd.read_csv('..\\\\..\\\\dataset\\\\k-fold cross validation datasets\\\\' + str(fold) + \"\\\\Training Dataset\" + \"\\\\y_train_iter_\" + str(fold) + \".csv\")\n",
    "    X_test = pd.read_csv('..\\\\..\\\\dataset\\\\k-fold cross validation datasets\\\\' + str(fold) + \"\\\\Test Dataset\" + \"\\\\Scaled_X_test_iter_\" + str(fold) + \".csv\", names=['Type', 'Air temperature [K]', 'Process temperature [K]', 'Rotational speed [rpm]', 'Torque [Nm]', 'Tool wear [min]'])\n",
    "    y_test = pd.read_csv('..\\\\..\\\\dataset\\\\k-fold cross validation datasets\\\\' + str(fold) + \"\\\\Test Dataset\" + \"\\\\y_test_iter_\" + str(fold) + \".csv\")\n",
    "    \n",
    "    original_X_train = original_X_train.rename(columns = lambda x:re.sub('[^A-Za-z0-9_]+', '', x))\n",
    "    original_X_test = original_X_test.rename(columns = lambda x:re.sub('[^A-Za-z0-9_]+', '', x))\n",
    "    X_train = X_train.rename(columns = lambda x:re.sub('[^A-Za-z0-9_]+', '', x))\n",
    "    X_test = X_test.rename(columns = lambda x:re.sub('[^A-Za-z0-9_]+', '', x))\n",
    "    y_train = y_train.rename(columns = lambda x:re.sub('[^A-Za-z0-9_]+', '', x))\n",
    "    y_test = y_test.rename(columns = lambda x:re.sub('[^A-Za-z0-9_]+', '', x))\n",
    "    \n",
    "    \n",
    "    #Build the Classifier\n",
    "    \n",
    "    grid_search_knn.best_estimator_.fit(X_train, y_train.values.ravel())\n",
    "    \n",
    "    #Predictions for the test set\n",
    "    y_test_pred_knn = grid_search_knn.best_estimator_.predict(X_test)\n",
    "    \n",
    "    \n",
    "    #Evaluation metrics for the test dataset\n",
    "    accuracy_knn = accuracy_score(y_test, y_test_pred_knn)\n",
    "    cohen_score_knn = cohen_kappa_score(y_test, y_test_pred_knn)\n",
    "    auc_knn = metrics.roc_auc_score(y_test, y_test_pred_knn)\n",
    "    \n",
    "    \n",
    "    #Find the observations' indexes that the model correctly predicted as faulty\n",
    "    true_positive_indexes = []\n",
    "    i=1;\n",
    "\n",
    "    #According to the chosen model\n",
    "    #For example, y_test_pred_lgbmc for LGBM Classifier\n",
    "    for k in range(0,len(y_test)):\n",
    "        if (y_test.loc[k,'Machinefailure']==int(y_test_pred_knn[k])) and (y_test.loc[k,'Machinefailure']==1):\n",
    "            true_positive_indexes.append(k)\n",
    "            i=i+1;\n",
    "\n",
    "    #Find the observations that the selected model correctly predicted as faulty based on the previous indexes\n",
    "    true_positive_observations = pd.DataFrame()\n",
    "    for k in range(0,len(true_positive_indexes)):\n",
    "        new_row = pd.concat([original_X_test.loc[true_positive_indexes[k],:],y_test.loc[true_positive_indexes[k],:]], axis=0)\n",
    "        true_positive_observations = true_positive_observations.append(new_row, ignore_index=True)\n",
    "    \n",
    "    if not true_positive_observations.empty:\n",
    "        \n",
    "        #Append in lists\n",
    "        acc_folds_best_estimator_knn.append(accuracy_knn)\n",
    "        kappa_folds_best_estimator_knn.append(cohen_score_knn)\n",
    "        auc_folds_best_estimator_knn.append(auc_knn)\n",
    "        \n",
    "    \n",
    "        true_positive_observations_with_failure_modes = pd.DataFrame()\n",
    "        true_positive_observations_with_failure_modes = ai4i2020_encoded_balanced.join(true_positive_observations.set_index(['Type', 'AirtemperatureK', 'ProcesstemperatureK', 'Rotationalspeedrpm', 'TorqueNm', 'Toolwearmin', 'Machinefailure']), ['Type', 'AirtemperatureK', 'ProcesstemperatureK', 'Rotationalspeedrpm', 'TorqueNm', 'Toolwearmin', 'Machinefailure'], how='right')       \n",
    "        final_true_positive_observations_with_failure_modes = true_positive_observations_with_failure_modes.reset_index(drop=True)\n",
    "    \n",
    "        #display(\"Number of true positive predictions: \" + str(len(final_true_positive_observations_with_failure_modes)))\n",
    "\n",
    "        number_of_TWF_failures_in_true_positive_predictions = 0\n",
    "        number_of_HDF_failures_in_true_positive_predictions = 0\n",
    "        number_of_PWF_failures_in_true_positive_predictions = 0\n",
    "        number_of_OSF_failures_in_true_positive_predictions = 0\n",
    "        number_of_random_failures_in_true_positive_predictions=0\n",
    "\n",
    "        for k in range(0,len(final_true_positive_observations_with_failure_modes)):\n",
    "            if final_true_positive_observations_with_failure_modes.loc[k,\"TWF\"]==1: #if the failure mode is TWF\n",
    "                number_of_TWF_failures_in_true_positive_predictions = number_of_TWF_failures_in_true_positive_predictions + 1;\n",
    "            if final_true_positive_observations_with_failure_modes.loc[k,\"HDF\"]==1: #if the failure mode is HDF\n",
    "                number_of_HDF_failures_in_true_positive_predictions = number_of_HDF_failures_in_true_positive_predictions + 1;\n",
    "            if final_true_positive_observations_with_failure_modes.loc[k,\"PWF\"]==1: #if the failure mode is PWF\n",
    "                number_of_PWF_failures_in_true_positive_predictions = number_of_PWF_failures_in_true_positive_predictions + 1;\n",
    "            if final_true_positive_observations_with_failure_modes.loc[k,\"OSF\"]==1: #if the failure mode is OSF\n",
    "                number_of_OSF_failures_in_true_positive_predictions = number_of_OSF_failures_in_true_positive_predictions + 1;\n",
    "            if (final_true_positive_observations_with_failure_modes.loc[k,\"Machinefailure\"]==1) and (final_true_positive_observations_with_failure_modes.loc[k,\"TWF\"]==0) and (final_true_positive_observations_with_failure_modes.loc[k,\"HDF\"]==0) and (final_true_positive_observations_with_failure_modes.loc[k,\"PWF\"]==0) and (final_true_positive_observations_with_failure_modes.loc[k,\"OSF\"]==0) and (final_true_positive_observations_with_failure_modes.loc[k,\"RNF\"]==0):\n",
    "                number_of_random_failures_in_true_positive_predictions = number_of_random_failures_in_true_positive_predictions+1;\n",
    "        \n",
    "        #Local Explanations\n",
    "        explainer = ClassifierExplainer(grid_search_knn.best_estimator_.fit(X_train, y_train.values.ravel()), X_test, y_test)\n",
    "        \n",
    "        # load JS visualization code to notebook\n",
    "        shap.initjs()\n",
    "\n",
    "        #Shap values for each observation in the test dataset\n",
    "        shap_values = explainer.get_shap_values_df(1)\n",
    "          \n",
    "        #Calculate the correct explanations\n",
    "        correct_explanations = 0\n",
    "        correct_explanations_TWF = 0\n",
    "        correct_explanations_HDF = 0\n",
    "        correct_explanations_PWF = 0\n",
    "        correct_explanations_OSF = 0\n",
    "\n",
    "        for k in range(0,len(true_positive_observations)):\n",
    "            #if the failure mode is TWF\n",
    "            if final_true_positive_observations_with_failure_modes.loc[k,\"TWF\"]==1:\n",
    "                #if tool wear is the most important feature\n",
    "                if shap_values.loc[true_positive_indexes[k],\"Toolwearmin\"] == max(shap_values.loc[true_positive_indexes[k],:]):\n",
    "                    correct_explanations = correct_explanations+1;\n",
    "                    correct_explanations_TWF = correct_explanations_TWF + 1;\n",
    "                \n",
    "            #if the failure mode is HDF\n",
    "            if final_true_positive_observations_with_failure_modes.loc[k,\"HDF\"]==1: \n",
    "                maximum1 = max(shap_values.loc[true_positive_indexes[k],:]) \n",
    "                maximum2 = max(shap_values.loc[true_positive_indexes[k],:], key = lambda x: min(shap_values.loc[true_positive_indexes[k],:])-1 if (x == maximum1) else x)\n",
    "                if (shap_values.loc[true_positive_indexes[k],\"AirtemperatureK\"] == maximum1) or (shap_values.loc[true_positive_indexes[k],\"AirtemperatureK\"] == maximum2) or (shap_values.loc[true_positive_indexes[k],\"ProcesstemperatureK\"] == maximum1) or (shap_values.loc[true_positive_indexes[k],\"ProcesstemperatureK\"] == maximum2):\n",
    "                    correct_explanations = correct_explanations+1;\n",
    "                    correct_explanations_HDF = correct_explanations_HDF + 1;\n",
    "            \n",
    "            \n",
    "            #if the failure mode is PWF\n",
    "            if final_true_positive_observations_with_failure_modes.loc[k,\"PWF\"]==1: \n",
    "                maximum1 = max(shap_values.loc[true_positive_indexes[k],:]) \n",
    "                maximum2 = max(shap_values.loc[true_positive_indexes[k],:], key = lambda x: min(shap_values.loc[true_positive_indexes[k],:])-1 if (x == maximum1) else x)\n",
    "                if (shap_values.loc[true_positive_indexes[k],\"Rotationalspeedrpm\"] == maximum1) or (shap_values.loc[true_positive_indexes[k],\"Rotationalspeedrpm\"] == maximum2) or (shap_values.loc[true_positive_indexes[k],\"TorqueNm\"] == maximum1) or (shap_values.loc[true_positive_indexes[k],\"TorqueNm\"] == maximum2):\n",
    "                    correct_explanations = correct_explanations+1;\n",
    "                    correct_explanations_PWF = correct_explanations_PWF + 1;\n",
    "            \n",
    "            #if the failure mode is OSF        \n",
    "            if final_true_positive_observations_with_failure_modes.loc[k,\"OSF\"]==1:\n",
    "                maximum1 = max(shap_values.loc[true_positive_indexes[k],:]) \n",
    "                maximum2 = max(shap_values.loc[true_positive_indexes[k],:], key = lambda x: min(shap_values.loc[true_positive_indexes[k],:])-1 if (x == maximum1) else x)\n",
    "                if (shap_values.loc[true_positive_indexes[k],\"Toolwearmin\"] == maximum1) or (shap_values.loc[true_positive_indexes[k],\"Toolwearmin\"] == maximum2) or (shap_values.loc[true_positive_indexes[k],\"TorqueNm\"] == maximum1) or (shap_values.loc[true_positive_indexes[k],\"TorqueNm\"] == maximum2):\n",
    "                    correct_explanations = correct_explanations+1;\n",
    "                    correct_explanations_OSF = correct_explanations_OSF + 1;\n",
    "        \n",
    "        denominator = 0\n",
    "        \n",
    "        if number_of_TWF_failures_in_true_positive_predictions != 0:\n",
    "            twf_folds_best_estimator_knn.append(correct_explanations_TWF/number_of_TWF_failures_in_true_positive_predictions)\n",
    "            twf_success = correct_explanations_TWF/number_of_TWF_failures_in_true_positive_predictions\n",
    "            denominator = denominator + 1\n",
    "        else:\n",
    "            twf_folds_best_estimator_knn.append(correct_explanations_TWF)\n",
    "            twf_success = 0\n",
    "        if number_of_HDF_failures_in_true_positive_predictions != 0:\n",
    "            hdf_folds_best_estimator_knn.append(correct_explanations_HDF/number_of_HDF_failures_in_true_positive_predictions)\n",
    "            hdf_success = correct_explanations_HDF/number_of_HDF_failures_in_true_positive_predictions\n",
    "            denominator = denominator + 1\n",
    "        else:\n",
    "            hdf_folds_best_estimator_knn.append(correct_explanations_HDF)\n",
    "            hdf_success = 0\n",
    "        if number_of_PWF_failures_in_true_positive_predictions != 0:\n",
    "            pwf_folds_best_estimator_knn.append(correct_explanations_PWF/number_of_PWF_failures_in_true_positive_predictions)\n",
    "            pwf_success = correct_explanations_PWF/number_of_PWF_failures_in_true_positive_predictions\n",
    "            denominator = denominator + 1\n",
    "        else:\n",
    "            pwf_folds_best_estimator_knn.append(correct_explanations_PWF)\n",
    "            pwf_success = 0\n",
    "        if number_of_OSF_failures_in_true_positive_predictions != 0:\n",
    "            osf_folds_best_estimator_knn.append(correct_explanations_OSF/number_of_OSF_failures_in_true_positive_predictions)\n",
    "            osf_success = correct_explanations_OSF/number_of_OSF_failures_in_true_positive_predictions\n",
    "            denominator = denominator + 1\n",
    "        else:\n",
    "            osf_folds_best_estimator_knn.append(correct_explanations_OSF)\n",
    "            osf_success = 0\n",
    "    \n",
    "        average_success = (twf_success+hdf_success+pwf_success+osf_success)/denominator\n",
    "        av_folds_best_estimator_knn.append(average_success)\n",
    "        fold_list_knn.append(fold)\n",
    "\n",
    "result_df_best_estimator_knn = pd.DataFrame({'Accuracy': acc_folds_best_estimator_knn, 'AUC': auc_folds_best_estimator_knn, 'Kappa':kappa_folds_best_estimator_knn, 'TWF':twf_folds_best_estimator_knn, 'HDF':hdf_folds_best_estimator_knn, 'PWF':pwf_folds_best_estimator_knn, 'OSF':osf_folds_best_estimator_knn, 'Average Success':av_folds_best_estimator_knn, 'Folds':fold_list_knn})\n"
   ]
  },
  {
   "cell_type": "code",
   "execution_count": null,
   "metadata": {},
   "outputs": [],
   "source": [
    "result_df_best_estimator_knn"
   ]
  },
  {
   "cell_type": "markdown",
   "metadata": {},
   "source": [
    "## Decision Tree "
   ]
  },
  {
   "cell_type": "code",
   "execution_count": null,
   "metadata": {},
   "outputs": [],
   "source": [
    "acc_folds_best_estimator_dt = []\n",
    "auc_folds_best_estimator_dt = []\n",
    "kappa_folds_best_estimator_dt = []\n",
    "twf_folds_best_estimator_dt = []\n",
    "hdf_folds_best_estimator_dt = []\n",
    "pwf_folds_best_estimator_dt = []\n",
    "osf_folds_best_estimator_dt = []\n",
    "av_folds_best_estimator_dt = []\n",
    "fold_list_dt = []\n",
    "\n",
    "\n",
    "for fold in range(1,11):\n",
    "    \n",
    "    #Dataset for each fold\n",
    "    ai4i2020_encoded_balanced = ai4i2020_encoded_balanced.rename(columns = lambda x:re.sub('[^A-Za-z0-9_]+', '', x))\n",
    "    original_X_train = pd.read_csv('..\\\\..\\\\dataset\\\\k-fold cross validation datasets\\\\' + str(fold) + \"\\\\Training Dataset\" + \"\\\\X_train_iter_\" + str(fold) + \".csv\")\n",
    "    original_X_test = pd.read_csv('..\\\\..\\\\dataset\\\\k-fold cross validation datasets\\\\' + str(fold) + \"\\\\Test Dataset\" + \"\\\\X_test_iter_\" + str(fold) + \".csv\")\n",
    "\n",
    "    X_train = pd.read_csv('..\\\\..\\\\dataset\\\\k-fold cross validation datasets\\\\' + str(fold) + \"\\\\Training Dataset\" + \"\\\\Scaled_X_train_iter_\" + str(fold) + \".csv\", names=['Type', 'Air temperature [K]', 'Process temperature [K]', 'Rotational speed [rpm]', 'Torque [Nm]', 'Tool wear [min]'])\n",
    "    y_train = pd.read_csv('..\\\\..\\\\dataset\\\\k-fold cross validation datasets\\\\' + str(fold) + \"\\\\Training Dataset\" + \"\\\\y_train_iter_\" + str(fold) + \".csv\")\n",
    "    X_test = pd.read_csv('..\\\\..\\\\dataset\\\\k-fold cross validation datasets\\\\' + str(fold) + \"\\\\Test Dataset\" + \"\\\\Scaled_X_test_iter_\" + str(fold) + \".csv\", names=['Type', 'Air temperature [K]', 'Process temperature [K]', 'Rotational speed [rpm]', 'Torque [Nm]', 'Tool wear [min]'])\n",
    "    y_test = pd.read_csv('..\\\\..\\\\dataset\\\\k-fold cross validation datasets\\\\' + str(fold) + \"\\\\Test Dataset\" + \"\\\\y_test_iter_\" + str(fold) + \".csv\")\n",
    "    \n",
    "    original_X_train = original_X_train.rename(columns = lambda x:re.sub('[^A-Za-z0-9_]+', '', x))\n",
    "    original_X_test = original_X_test.rename(columns = lambda x:re.sub('[^A-Za-z0-9_]+', '', x))\n",
    "    X_train = X_train.rename(columns = lambda x:re.sub('[^A-Za-z0-9_]+', '', x))\n",
    "    X_test = X_test.rename(columns = lambda x:re.sub('[^A-Za-z0-9_]+', '', x))\n",
    "    y_train = y_train.rename(columns = lambda x:re.sub('[^A-Za-z0-9_]+', '', x))\n",
    "    y_test = y_test.rename(columns = lambda x:re.sub('[^A-Za-z0-9_]+', '', x))\n",
    "    \n",
    "    \n",
    "    #Build the Classifier\n",
    "    \n",
    "    grid_search.best_estimator_.fit(X_train, y_train.values.ravel())\n",
    "    \n",
    "    #Predictions for the test set\n",
    "    y_test_pred_dt = grid_search.best_estimator_.predict(X_test)\n",
    "    \n",
    "    \n",
    "    #Evaluation metrics for the test dataset\n",
    "    accuracy_dt = accuracy_score(y_test, y_test_pred_dt)\n",
    "    cohen_score_dt = cohen_kappa_score(y_test, y_test_pred_dt)\n",
    "    auc_dt = metrics.roc_auc_score(y_test, y_test_pred_dt)\n",
    "    \n",
    "    \n",
    "    #Find the observations' indexes that the model correctly predicted as faulty\n",
    "    true_positive_indexes = []\n",
    "    i=1;\n",
    "\n",
    "    #According to the chosen model\n",
    "    #For example, y_test_pred_lgbmc for LGBM Classifier\n",
    "    for k in range(0,len(y_test)):\n",
    "        if (y_test.loc[k,'Machinefailure']==int(y_test_pred_dt[k])) and (y_test.loc[k,'Machinefailure']==1):\n",
    "            true_positive_indexes.append(k)\n",
    "            i=i+1;\n",
    "\n",
    "    #Find the observations that the selected model correctly predicted as faulty based on the previous indexes\n",
    "    true_positive_observations = pd.DataFrame()\n",
    "    for k in range(0,len(true_positive_indexes)):\n",
    "        new_row = pd.concat([original_X_test.loc[true_positive_indexes[k],:],y_test.loc[true_positive_indexes[k],:]], axis=0)\n",
    "        true_positive_observations = true_positive_observations.append(new_row, ignore_index=True)\n",
    "    \n",
    "    if not true_positive_observations.empty:\n",
    "        \n",
    "        #Append in lists\n",
    "        acc_folds_best_estimator_dt.append(accuracy_dt)\n",
    "        kappa_folds_best_estimator_dt.append(cohen_score_dt)\n",
    "        auc_folds_best_estimator_dt.append(auc_dt)\n",
    "        \n",
    "    \n",
    "        true_positive_observations_with_failure_modes = pd.DataFrame()\n",
    "        true_positive_observations_with_failure_modes = ai4i2020_encoded_balanced.join(true_positive_observations.set_index(['Type', 'AirtemperatureK', 'ProcesstemperatureK', 'Rotationalspeedrpm', 'TorqueNm', 'Toolwearmin', 'Machinefailure']), ['Type', 'AirtemperatureK', 'ProcesstemperatureK', 'Rotationalspeedrpm', 'TorqueNm', 'Toolwearmin', 'Machinefailure'], how='right')       \n",
    "        final_true_positive_observations_with_failure_modes = true_positive_observations_with_failure_modes.reset_index(drop=True)\n",
    "    \n",
    "        #display(\"Number of true positive predictions: \" + str(len(final_true_positive_observations_with_failure_modes)))\n",
    "\n",
    "        number_of_TWF_failures_in_true_positive_predictions = 0\n",
    "        number_of_HDF_failures_in_true_positive_predictions = 0\n",
    "        number_of_PWF_failures_in_true_positive_predictions = 0\n",
    "        number_of_OSF_failures_in_true_positive_predictions = 0\n",
    "        number_of_random_failures_in_true_positive_predictions=0\n",
    "\n",
    "        for k in range(0,len(final_true_positive_observations_with_failure_modes)):\n",
    "            if final_true_positive_observations_with_failure_modes.loc[k,\"TWF\"]==1: #if the failure mode is TWF\n",
    "                number_of_TWF_failures_in_true_positive_predictions = number_of_TWF_failures_in_true_positive_predictions + 1;\n",
    "            if final_true_positive_observations_with_failure_modes.loc[k,\"HDF\"]==1: #if the failure mode is HDF\n",
    "                number_of_HDF_failures_in_true_positive_predictions = number_of_HDF_failures_in_true_positive_predictions + 1;\n",
    "            if final_true_positive_observations_with_failure_modes.loc[k,\"PWF\"]==1: #if the failure mode is PWF\n",
    "                number_of_PWF_failures_in_true_positive_predictions = number_of_PWF_failures_in_true_positive_predictions + 1;\n",
    "            if final_true_positive_observations_with_failure_modes.loc[k,\"OSF\"]==1: #if the failure mode is OSF\n",
    "                number_of_OSF_failures_in_true_positive_predictions = number_of_OSF_failures_in_true_positive_predictions + 1;\n",
    "            if (final_true_positive_observations_with_failure_modes.loc[k,\"Machinefailure\"]==1) and (final_true_positive_observations_with_failure_modes.loc[k,\"TWF\"]==0) and (final_true_positive_observations_with_failure_modes.loc[k,\"HDF\"]==0) and (final_true_positive_observations_with_failure_modes.loc[k,\"PWF\"]==0) and (final_true_positive_observations_with_failure_modes.loc[k,\"OSF\"]==0) and (final_true_positive_observations_with_failure_modes.loc[k,\"RNF\"]==0):\n",
    "                number_of_random_failures_in_true_positive_predictions = number_of_random_failures_in_true_positive_predictions+1;\n",
    "        \n",
    "        #Local Explanations\n",
    "        explainer = ClassifierExplainer(grid_search.best_estimator_.fit(X_train, y_train.values.ravel()), X_test, y_test)\n",
    "        \n",
    "        # load JS visualization code to notebook\n",
    "        shap.initjs()\n",
    "\n",
    "        #Shap values for each observation in the test dataset\n",
    "        shap_values = explainer.get_shap_values_df(1)\n",
    "          \n",
    "        #Calculate the correct explanations\n",
    "        correct_explanations = 0\n",
    "        correct_explanations_TWF = 0\n",
    "        correct_explanations_HDF = 0\n",
    "        correct_explanations_PWF = 0\n",
    "        correct_explanations_OSF = 0\n",
    "\n",
    "        for k in range(0,len(true_positive_observations)):\n",
    "            #if the failure mode is TWF\n",
    "            if final_true_positive_observations_with_failure_modes.loc[k,\"TWF\"]==1:\n",
    "                #if tool wear is the most important feature\n",
    "                if shap_values.loc[true_positive_indexes[k],\"Toolwearmin\"] == max(shap_values.loc[true_positive_indexes[k],:]):\n",
    "                    correct_explanations = correct_explanations+1;\n",
    "                    correct_explanations_TWF = correct_explanations_TWF + 1;\n",
    "                \n",
    "            #if the failure mode is HDF\n",
    "            if final_true_positive_observations_with_failure_modes.loc[k,\"HDF\"]==1: \n",
    "                maximum1 = max(shap_values.loc[true_positive_indexes[k],:]) \n",
    "                maximum2 = max(shap_values.loc[true_positive_indexes[k],:], key = lambda x: min(shap_values.loc[true_positive_indexes[k],:])-1 if (x == maximum1) else x)\n",
    "                if (shap_values.loc[true_positive_indexes[k],\"AirtemperatureK\"] == maximum1) or (shap_values.loc[true_positive_indexes[k],\"AirtemperatureK\"] == maximum2) or (shap_values.loc[true_positive_indexes[k],\"ProcesstemperatureK\"] == maximum1) or (shap_values.loc[true_positive_indexes[k],\"ProcesstemperatureK\"] == maximum2):\n",
    "                    correct_explanations = correct_explanations+1;\n",
    "                    correct_explanations_HDF = correct_explanations_HDF + 1;\n",
    "            \n",
    "            \n",
    "            #if the failure mode is PWF\n",
    "            if final_true_positive_observations_with_failure_modes.loc[k,\"PWF\"]==1: \n",
    "                maximum1 = max(shap_values.loc[true_positive_indexes[k],:]) \n",
    "                maximum2 = max(shap_values.loc[true_positive_indexes[k],:], key = lambda x: min(shap_values.loc[true_positive_indexes[k],:])-1 if (x == maximum1) else x)\n",
    "                if (shap_values.loc[true_positive_indexes[k],\"Rotationalspeedrpm\"] == maximum1) or (shap_values.loc[true_positive_indexes[k],\"Rotationalspeedrpm\"] == maximum2) or (shap_values.loc[true_positive_indexes[k],\"TorqueNm\"] == maximum1) or (shap_values.loc[true_positive_indexes[k],\"TorqueNm\"] == maximum2):\n",
    "                    correct_explanations = correct_explanations+1;\n",
    "                    correct_explanations_PWF = correct_explanations_PWF + 1;\n",
    "            \n",
    "            #if the failure mode is OSF        \n",
    "            if final_true_positive_observations_with_failure_modes.loc[k,\"OSF\"]==1:\n",
    "                maximum1 = max(shap_values.loc[true_positive_indexes[k],:]) \n",
    "                maximum2 = max(shap_values.loc[true_positive_indexes[k],:], key = lambda x: min(shap_values.loc[true_positive_indexes[k],:])-1 if (x == maximum1) else x)\n",
    "                if (shap_values.loc[true_positive_indexes[k],\"Toolwearmin\"] == maximum1) or (shap_values.loc[true_positive_indexes[k],\"Toolwearmin\"] == maximum2) or (shap_values.loc[true_positive_indexes[k],\"TorqueNm\"] == maximum1) or (shap_values.loc[true_positive_indexes[k],\"TorqueNm\"] == maximum2):\n",
    "                    correct_explanations = correct_explanations+1;\n",
    "                    correct_explanations_OSF = correct_explanations_OSF + 1;\n",
    "        \n",
    "        denominator = 0\n",
    "        \n",
    "        if number_of_TWF_failures_in_true_positive_predictions != 0:\n",
    "            twf_folds_best_estimator_dt.append(correct_explanations_TWF/number_of_TWF_failures_in_true_positive_predictions)\n",
    "            twf_success = correct_explanations_TWF/number_of_TWF_failures_in_true_positive_predictions\n",
    "            denominator = denominator + 1\n",
    "        else:\n",
    "            twf_folds_best_estimator_dt.append(correct_explanations_TWF)\n",
    "            twf_success = 0\n",
    "        if number_of_HDF_failures_in_true_positive_predictions != 0:\n",
    "            hdf_folds_best_estimator_dt.append(correct_explanations_HDF/number_of_HDF_failures_in_true_positive_predictions)\n",
    "            hdf_success = correct_explanations_HDF/number_of_HDF_failures_in_true_positive_predictions\n",
    "            denominator = denominator + 1\n",
    "        else:\n",
    "            hdf_folds_best_estimator_dt.append(correct_explanations_HDF)\n",
    "            hdf_success = 0\n",
    "        if number_of_PWF_failures_in_true_positive_predictions != 0:\n",
    "            pwf_folds_best_estimator_dt.append(correct_explanations_PWF/number_of_PWF_failures_in_true_positive_predictions)\n",
    "            pwf_success = correct_explanations_PWF/number_of_PWF_failures_in_true_positive_predictions\n",
    "            denominator = denominator + 1\n",
    "        else:\n",
    "            pwf_folds_best_estimator_dt.append(correct_explanations_PWF)\n",
    "            pwf_success = 0\n",
    "        if number_of_OSF_failures_in_true_positive_predictions != 0:\n",
    "            osf_folds_best_estimator_dt.append(correct_explanations_OSF/number_of_OSF_failures_in_true_positive_predictions)\n",
    "            osf_success = correct_explanations_OSF/number_of_OSF_failures_in_true_positive_predictions\n",
    "            denominator = denominator + 1\n",
    "        else:\n",
    "            osf_folds_best_estimator_dt.append(correct_explanations_OSF)\n",
    "            osf_success = 0\n",
    "    \n",
    "        average_success = (twf_success+hdf_success+pwf_success+osf_success)/denominator\n",
    "        av_folds_best_estimator_dt.append(average_success)\n",
    "        fold_list_dt.append(fold)\n",
    "\n",
    "result_df_best_estimator_dt = pd.DataFrame({'Accuracy': acc_folds_best_estimator_dt, 'AUC': auc_folds_best_estimator_dt, 'Kappa':kappa_folds_best_estimator_dt, 'TWF':twf_folds_best_estimator_dt, 'HDF':hdf_folds_best_estimator_dt, 'PWF':pwf_folds_best_estimator_dt, 'OSF':osf_folds_best_estimator_dt, 'Average Success':av_folds_best_estimator_dt, 'Folds':fold_list_dt})\n"
   ]
  },
  {
   "cell_type": "code",
   "execution_count": null,
   "metadata": {},
   "outputs": [],
   "source": [
    "result_df_best_estimator_dt"
   ]
  },
  {
   "cell_type": "markdown",
   "metadata": {},
   "source": [
    "## MLPClassifier "
   ]
  },
  {
   "cell_type": "code",
   "execution_count": null,
   "metadata": {},
   "outputs": [],
   "source": [
    "acc_folds_best_estimator_mlp = []\n",
    "auc_folds_best_estimator_mlp = []\n",
    "kappa_folds_best_estimator_mlp = []\n",
    "twf_folds_best_estimator_mlp = []\n",
    "hdf_folds_best_estimator_mlp = []\n",
    "pwf_folds_best_estimator_mlp = []\n",
    "osf_folds_best_estimator_mlp = []\n",
    "av_folds_best_estimator_mlp = []\n",
    "fold_list_mlp = []\n",
    "\n",
    "\n",
    "for fold in range(1,11):\n",
    "    \n",
    "    #Dataset for each fold\n",
    "    ai4i2020_encoded_balanced = ai4i2020_encoded_balanced.rename(columns = lambda x:re.sub('[^A-Za-z0-9_]+', '', x))\n",
    "    original_X_train = pd.read_csv('..\\\\..\\\\dataset\\\\k-fold cross validation datasets\\\\' + str(fold) + \"\\\\Training Dataset\" + \"\\\\X_train_iter_\" + str(fold) + \".csv\")\n",
    "    original_X_test = pd.read_csv('..\\\\..\\\\dataset\\\\k-fold cross validation datasets\\\\' + str(fold) + \"\\\\Test Dataset\" + \"\\\\X_test_iter_\" + str(fold) + \".csv\")\n",
    "\n",
    "    X_train = pd.read_csv('..\\\\..\\\\dataset\\\\k-fold cross validation datasets\\\\' + str(fold) + \"\\\\Training Dataset\" + \"\\\\Scaled_X_train_iter_\" + str(fold) + \".csv\", names=['Type', 'Air temperature [K]', 'Process temperature [K]', 'Rotational speed [rpm]', 'Torque [Nm]', 'Tool wear [min]'])\n",
    "    y_train = pd.read_csv('..\\\\..\\\\dataset\\\\k-fold cross validation datasets\\\\' + str(fold) + \"\\\\Training Dataset\" + \"\\\\y_train_iter_\" + str(fold) + \".csv\")\n",
    "    X_test = pd.read_csv('..\\\\..\\\\dataset\\\\k-fold cross validation datasets\\\\' + str(fold) + \"\\\\Test Dataset\" + \"\\\\Scaled_X_test_iter_\" + str(fold) + \".csv\", names=['Type', 'Air temperature [K]', 'Process temperature [K]', 'Rotational speed [rpm]', 'Torque [Nm]', 'Tool wear [min]'])\n",
    "    y_test = pd.read_csv('..\\\\..\\\\dataset\\\\k-fold cross validation datasets\\\\' + str(fold) + \"\\\\Test Dataset\" + \"\\\\y_test_iter_\" + str(fold) + \".csv\")\n",
    "    \n",
    "    original_X_train = original_X_train.rename(columns = lambda x:re.sub('[^A-Za-z0-9_]+', '', x))\n",
    "    original_X_test = original_X_test.rename(columns = lambda x:re.sub('[^A-Za-z0-9_]+', '', x))\n",
    "    X_train = X_train.rename(columns = lambda x:re.sub('[^A-Za-z0-9_]+', '', x))\n",
    "    X_test = X_test.rename(columns = lambda x:re.sub('[^A-Za-z0-9_]+', '', x))\n",
    "    y_train = y_train.rename(columns = lambda x:re.sub('[^A-Za-z0-9_]+', '', x))\n",
    "    y_test = y_test.rename(columns = lambda x:re.sub('[^A-Za-z0-9_]+', '', x))\n",
    "    \n",
    "    \n",
    "    #Build the Classifier\n",
    "    \n",
    "    clf.best_estimator_.fit(X_train, y_train.values.ravel())\n",
    "    \n",
    "    #Predictions for the test set\n",
    "    y_test_pred_mlp_clf = clf.best_estimator_.predict(X_test)\n",
    "    \n",
    "    \n",
    "    #Evaluation metrics for the test dataset\n",
    "    accuracy_mlp = accuracy_score(y_test, y_test_pred_mlp_clf)\n",
    "    cohen_score_mlp = cohen_kappa_score(y_test, y_test_pred_mlp_clf)\n",
    "    auc_mlp = metrics.roc_auc_score(y_test, y_test_pred_mlp_clf)\n",
    "    \n",
    "    \n",
    "    #Find the observations' indexes that the model correctly predicted as faulty\n",
    "    true_positive_indexes = []\n",
    "    i=1;\n",
    "\n",
    "    #According to the chosen model\n",
    "    #For example, y_test_pred_lgbmc for LGBM Classifier\n",
    "    for k in range(0,len(y_test)):\n",
    "        if (y_test.loc[k,'Machinefailure']==int(y_test_pred_mlp_clf[k])) and (y_test.loc[k,'Machinefailure']==1):\n",
    "            true_positive_indexes.append(k)\n",
    "            i=i+1;\n",
    "\n",
    "    #Find the observations that the selected model correctly predicted as faulty based on the previous indexes\n",
    "    true_positive_observations = pd.DataFrame()\n",
    "    for k in range(0,len(true_positive_indexes)):\n",
    "        new_row = pd.concat([original_X_test.loc[true_positive_indexes[k],:],y_test.loc[true_positive_indexes[k],:]], axis=0)\n",
    "        true_positive_observations = true_positive_observations.append(new_row, ignore_index=True)\n",
    "    \n",
    "    if not true_positive_observations.empty:\n",
    "        \n",
    "        #Append in lists\n",
    "        acc_folds_best_estimator_mlp.append(accuracy_mlp)\n",
    "        kappa_folds_best_estimator_mlp.append(cohen_score_mlp)\n",
    "        auc_folds_best_estimator_mlp.append(auc_mlp)\n",
    "        \n",
    "    \n",
    "        true_positive_observations_with_failure_modes = pd.DataFrame()\n",
    "        true_positive_observations_with_failure_modes = ai4i2020_encoded_balanced.join(true_positive_observations.set_index(['Type', 'AirtemperatureK', 'ProcesstemperatureK', 'Rotationalspeedrpm', 'TorqueNm', 'Toolwearmin', 'Machinefailure']), ['Type', 'AirtemperatureK', 'ProcesstemperatureK', 'Rotationalspeedrpm', 'TorqueNm', 'Toolwearmin', 'Machinefailure'], how='right')       \n",
    "        final_true_positive_observations_with_failure_modes = true_positive_observations_with_failure_modes.reset_index(drop=True)\n",
    "    \n",
    "        #display(\"Number of true positive predictions: \" + str(len(final_true_positive_observations_with_failure_modes)))\n",
    "\n",
    "        number_of_TWF_failures_in_true_positive_predictions = 0\n",
    "        number_of_HDF_failures_in_true_positive_predictions = 0\n",
    "        number_of_PWF_failures_in_true_positive_predictions = 0\n",
    "        number_of_OSF_failures_in_true_positive_predictions = 0\n",
    "        number_of_random_failures_in_true_positive_predictions=0\n",
    "\n",
    "        for k in range(0,len(final_true_positive_observations_with_failure_modes)):\n",
    "            if final_true_positive_observations_with_failure_modes.loc[k,\"TWF\"]==1: #if the failure mode is TWF\n",
    "                number_of_TWF_failures_in_true_positive_predictions = number_of_TWF_failures_in_true_positive_predictions + 1;\n",
    "            if final_true_positive_observations_with_failure_modes.loc[k,\"HDF\"]==1: #if the failure mode is HDF\n",
    "                number_of_HDF_failures_in_true_positive_predictions = number_of_HDF_failures_in_true_positive_predictions + 1;\n",
    "            if final_true_positive_observations_with_failure_modes.loc[k,\"PWF\"]==1: #if the failure mode is PWF\n",
    "                number_of_PWF_failures_in_true_positive_predictions = number_of_PWF_failures_in_true_positive_predictions + 1;\n",
    "            if final_true_positive_observations_with_failure_modes.loc[k,\"OSF\"]==1: #if the failure mode is OSF\n",
    "                number_of_OSF_failures_in_true_positive_predictions = number_of_OSF_failures_in_true_positive_predictions + 1;\n",
    "            if (final_true_positive_observations_with_failure_modes.loc[k,\"Machinefailure\"]==1) and (final_true_positive_observations_with_failure_modes.loc[k,\"TWF\"]==0) and (final_true_positive_observations_with_failure_modes.loc[k,\"HDF\"]==0) and (final_true_positive_observations_with_failure_modes.loc[k,\"PWF\"]==0) and (final_true_positive_observations_with_failure_modes.loc[k,\"OSF\"]==0) and (final_true_positive_observations_with_failure_modes.loc[k,\"RNF\"]==0):\n",
    "                number_of_random_failures_in_true_positive_predictions = number_of_random_failures_in_true_positive_predictions+1;\n",
    "        \n",
    "        #Local Explanations\n",
    "        explainer = ClassifierExplainer(clf.best_estimator_.fit(X_train, y_train.values.ravel()), X_test, y_test)\n",
    "        \n",
    "        # load JS visualization code to notebook\n",
    "        shap.initjs()\n",
    "\n",
    "        #Shap values for each observation in the test dataset\n",
    "        shap_values = explainer.get_shap_values_df(1)\n",
    "          \n",
    "        #Calculate the correct explanations\n",
    "        correct_explanations = 0\n",
    "        correct_explanations_TWF = 0\n",
    "        correct_explanations_HDF = 0\n",
    "        correct_explanations_PWF = 0\n",
    "        correct_explanations_OSF = 0\n",
    "\n",
    "        for k in range(0,len(true_positive_observations)):\n",
    "            #if the failure mode is TWF\n",
    "            if final_true_positive_observations_with_failure_modes.loc[k,\"TWF\"]==1:\n",
    "                #if tool wear is the most important feature\n",
    "                if shap_values.loc[true_positive_indexes[k],\"Toolwearmin\"] == max(shap_values.loc[true_positive_indexes[k],:]):\n",
    "                    correct_explanations = correct_explanations+1;\n",
    "                    correct_explanations_TWF = correct_explanations_TWF + 1;\n",
    "                \n",
    "            #if the failure mode is HDF\n",
    "            if final_true_positive_observations_with_failure_modes.loc[k,\"HDF\"]==1: \n",
    "                maximum1 = max(shap_values.loc[true_positive_indexes[k],:]) \n",
    "                maximum2 = max(shap_values.loc[true_positive_indexes[k],:], key = lambda x: min(shap_values.loc[true_positive_indexes[k],:])-1 if (x == maximum1) else x)\n",
    "                if (shap_values.loc[true_positive_indexes[k],\"AirtemperatureK\"] == maximum1) or (shap_values.loc[true_positive_indexes[k],\"AirtemperatureK\"] == maximum2) or (shap_values.loc[true_positive_indexes[k],\"ProcesstemperatureK\"] == maximum1) or (shap_values.loc[true_positive_indexes[k],\"ProcesstemperatureK\"] == maximum2):\n",
    "                    correct_explanations = correct_explanations+1;\n",
    "                    correct_explanations_HDF = correct_explanations_HDF + 1;\n",
    "            \n",
    "            \n",
    "            #if the failure mode is PWF\n",
    "            if final_true_positive_observations_with_failure_modes.loc[k,\"PWF\"]==1: \n",
    "                maximum1 = max(shap_values.loc[true_positive_indexes[k],:]) \n",
    "                maximum2 = max(shap_values.loc[true_positive_indexes[k],:], key = lambda x: min(shap_values.loc[true_positive_indexes[k],:])-1 if (x == maximum1) else x)\n",
    "                if (shap_values.loc[true_positive_indexes[k],\"Rotationalspeedrpm\"] == maximum1) or (shap_values.loc[true_positive_indexes[k],\"Rotationalspeedrpm\"] == maximum2) or (shap_values.loc[true_positive_indexes[k],\"TorqueNm\"] == maximum1) or (shap_values.loc[true_positive_indexes[k],\"TorqueNm\"] == maximum2):\n",
    "                    correct_explanations = correct_explanations+1;\n",
    "                    correct_explanations_PWF = correct_explanations_PWF + 1;\n",
    "            \n",
    "            #if the failure mode is OSF        \n",
    "            if final_true_positive_observations_with_failure_modes.loc[k,\"OSF\"]==1:\n",
    "                maximum1 = max(shap_values.loc[true_positive_indexes[k],:]) \n",
    "                maximum2 = max(shap_values.loc[true_positive_indexes[k],:], key = lambda x: min(shap_values.loc[true_positive_indexes[k],:])-1 if (x == maximum1) else x)\n",
    "                if (shap_values.loc[true_positive_indexes[k],\"Toolwearmin\"] == maximum1) or (shap_values.loc[true_positive_indexes[k],\"Toolwearmin\"] == maximum2) or (shap_values.loc[true_positive_indexes[k],\"TorqueNm\"] == maximum1) or (shap_values.loc[true_positive_indexes[k],\"TorqueNm\"] == maximum2):\n",
    "                    correct_explanations = correct_explanations+1;\n",
    "                    correct_explanations_OSF = correct_explanations_OSF + 1;\n",
    "        \n",
    "        denominator = 0\n",
    "        \n",
    "        if number_of_TWF_failures_in_true_positive_predictions != 0:\n",
    "            twf_folds_best_estimator_mlp.append(correct_explanations_TWF/number_of_TWF_failures_in_true_positive_predictions)\n",
    "            twf_success = correct_explanations_TWF/number_of_TWF_failures_in_true_positive_predictions\n",
    "            denominator = denominator + 1\n",
    "        else:\n",
    "            twf_folds_best_estimator_mlp.append(correct_explanations_TWF)\n",
    "            twf_success = 0\n",
    "        if number_of_HDF_failures_in_true_positive_predictions != 0:\n",
    "            hdf_folds_best_estimator_mlp.append(correct_explanations_HDF/number_of_HDF_failures_in_true_positive_predictions)\n",
    "            hdf_success = correct_explanations_HDF/number_of_HDF_failures_in_true_positive_predictions\n",
    "            denominator = denominator + 1\n",
    "        else:\n",
    "            hdf_folds_best_estimator_mlp.append(correct_explanations_HDF)\n",
    "            hdf_success = 0\n",
    "        if number_of_PWF_failures_in_true_positive_predictions != 0:\n",
    "            pwf_folds_best_estimator_mlp.append(correct_explanations_PWF/number_of_PWF_failures_in_true_positive_predictions)\n",
    "            pwf_success = correct_explanations_PWF/number_of_PWF_failures_in_true_positive_predictions\n",
    "            denominator = denominator + 1\n",
    "        else:\n",
    "            pwf_folds_best_estimator_mlp.append(correct_explanations_PWF)\n",
    "            pwf_success = 0\n",
    "        if number_of_OSF_failures_in_true_positive_predictions != 0:\n",
    "            osf_folds_best_estimator_mlp.append(correct_explanations_OSF/number_of_OSF_failures_in_true_positive_predictions)\n",
    "            osf_success = correct_explanations_OSF/number_of_OSF_failures_in_true_positive_predictions\n",
    "            denominator = denominator + 1\n",
    "        else:\n",
    "            osf_folds_best_estimator_mlp.append(correct_explanations_OSF)\n",
    "            osf_success = 0\n",
    "    \n",
    "        average_success = (twf_success+hdf_success+pwf_success+osf_success)/denominator\n",
    "        av_folds_best_estimator_mlp.append(average_success)\n",
    "        fold_list_mlp.append(fold)\n",
    "\n",
    "result_df_best_estimator_mlp = pd.DataFrame({'Accuracy': acc_folds_best_estimator_mlp, 'AUC': auc_folds_best_estimator_mlp, 'Kappa':kappa_folds_best_estimator_mlp, 'TWF':twf_folds_best_estimator_mlp, 'HDF':hdf_folds_best_estimator_mlp, 'PWF':pwf_folds_best_estimator_mlp, 'OSF':osf_folds_best_estimator_mlp, 'Average Success':av_folds_best_estimator_mlp, 'Folds':fold_list_mlp})\n"
   ]
  },
  {
   "cell_type": "code",
   "execution_count": null,
   "metadata": {},
   "outputs": [],
   "source": [
    "result_df_best_estimator_mlp"
   ]
  },
  {
   "cell_type": "markdown",
   "metadata": {},
   "source": [
    "## Support Vector Machine"
   ]
  },
  {
   "cell_type": "code",
   "execution_count": null,
   "metadata": {},
   "outputs": [],
   "source": [
    "acc_folds_best_estimator_svm = []\n",
    "auc_folds_best_estimator_svm = []\n",
    "kappa_folds_best_estimator_svm = []\n",
    "twf_folds_best_estimator_svm = []\n",
    "hdf_folds_best_estimator_svm = []\n",
    "pwf_folds_best_estimator_svm = []\n",
    "osf_folds_best_estimator_svm = []\n",
    "av_folds_best_estimator_svm = []\n",
    "fold_list_svm = []\n",
    "\n",
    "\n",
    "for fold in range(1,11):\n",
    "    \n",
    "    #Dataset for each fold\n",
    "    ai4i2020_encoded_balanced = ai4i2020_encoded_balanced.rename(columns = lambda x:re.sub('[^A-Za-z0-9_]+', '', x))\n",
    "    original_X_train = pd.read_csv('..\\\\..\\\\dataset\\\\k-fold cross validation datasets\\\\' + str(fold) + \"\\\\Training Dataset\" + \"\\\\X_train_iter_\" + str(fold) + \".csv\")\n",
    "    original_X_test = pd.read_csv('..\\\\..\\\\dataset\\\\k-fold cross validation datasets\\\\' + str(fold) + \"\\\\Test Dataset\" + \"\\\\X_test_iter_\" + str(fold) + \".csv\")\n",
    "\n",
    "    X_train = pd.read_csv('..\\\\..\\\\dataset\\\\k-fold cross validation datasets\\\\' + str(fold) + \"\\\\Training Dataset\" + \"\\\\Scaled_X_train_iter_\" + str(fold) + \".csv\", names=['Type', 'Air temperature [K]', 'Process temperature [K]', 'Rotational speed [rpm]', 'Torque [Nm]', 'Tool wear [min]'])\n",
    "    y_train = pd.read_csv('..\\\\..\\\\dataset\\\\k-fold cross validation datasets\\\\' + str(fold) + \"\\\\Training Dataset\" + \"\\\\y_train_iter_\" + str(fold) + \".csv\")\n",
    "    X_test = pd.read_csv('..\\\\..\\\\dataset\\\\k-fold cross validation datasets\\\\' + str(fold) + \"\\\\Test Dataset\" + \"\\\\Scaled_X_test_iter_\" + str(fold) + \".csv\", names=['Type', 'Air temperature [K]', 'Process temperature [K]', 'Rotational speed [rpm]', 'Torque [Nm]', 'Tool wear [min]'])\n",
    "    y_test = pd.read_csv('..\\\\..\\\\dataset\\\\k-fold cross validation datasets\\\\' + str(fold) + \"\\\\Test Dataset\" + \"\\\\y_test_iter_\" + str(fold) + \".csv\")\n",
    "    \n",
    "    original_X_train = original_X_train.rename(columns = lambda x:re.sub('[^A-Za-z0-9_]+', '', x))\n",
    "    original_X_test = original_X_test.rename(columns = lambda x:re.sub('[^A-Za-z0-9_]+', '', x))\n",
    "    X_train = X_train.rename(columns = lambda x:re.sub('[^A-Za-z0-9_]+', '', x))\n",
    "    X_test = X_test.rename(columns = lambda x:re.sub('[^A-Za-z0-9_]+', '', x))\n",
    "    y_train = y_train.rename(columns = lambda x:re.sub('[^A-Za-z0-9_]+', '', x))\n",
    "    y_test = y_test.rename(columns = lambda x:re.sub('[^A-Za-z0-9_]+', '', x))\n",
    "    \n",
    "    \n",
    "    #Build the Classifier\n",
    "    \n",
    "    rnd_search_svm.best_estimator_.fit(X_train, y_train.values.ravel())\n",
    "    \n",
    "    #Predictions for the test set\n",
    "    y_test_pred_svm = rnd_search_svm.best_estimator_.predict(X_test)\n",
    "    \n",
    "    \n",
    "    #Evaluation metrics for the test dataset\n",
    "    accuracy_svm = accuracy_score(y_test, y_test_pred_svm)\n",
    "    cohen_score_svm = cohen_kappa_score(y_test, y_test_pred_svm)\n",
    "    auc_svm = metrics.roc_auc_score(y_test, y_test_pred_svm)\n",
    "    \n",
    "    \n",
    "    #Find the observations' indexes that the model correctly predicted as faulty\n",
    "    true_positive_indexes = []\n",
    "    i=1;\n",
    "\n",
    "    #According to the chosen model\n",
    "    #For example, y_test_pred_lgbmc for LGBM Classifier\n",
    "    for k in range(0,len(y_test)):\n",
    "        if (y_test.loc[k,'Machinefailure']==int(y_test_pred_svm[k])) and (y_test.loc[k,'Machinefailure']==1):\n",
    "            true_positive_indexes.append(k)\n",
    "            i=i+1;\n",
    "\n",
    "    #Find the observations that the selected model correctly predicted as faulty based on the previous indexes\n",
    "    true_positive_observations = pd.DataFrame()\n",
    "    for k in range(0,len(true_positive_indexes)):\n",
    "        new_row = pd.concat([original_X_test.loc[true_positive_indexes[k],:],y_test.loc[true_positive_indexes[k],:]], axis=0)\n",
    "        true_positive_observations = true_positive_observations.append(new_row, ignore_index=True)\n",
    "    \n",
    "    if not true_positive_observations.empty:\n",
    "        \n",
    "        #Append in lists\n",
    "        acc_folds_best_estimator_svm.append(accuracy_svm)\n",
    "        kappa_folds_best_estimator_svm.append(cohen_score_svm)\n",
    "        auc_folds_best_estimator_svm.append(auc_svm)\n",
    "        \n",
    "    \n",
    "        true_positive_observations_with_failure_modes = pd.DataFrame()\n",
    "        true_positive_observations_with_failure_modes = ai4i2020_encoded_balanced.join(true_positive_observations.set_index(['Type', 'AirtemperatureK', 'ProcesstemperatureK', 'Rotationalspeedrpm', 'TorqueNm', 'Toolwearmin', 'Machinefailure']), ['Type', 'AirtemperatureK', 'ProcesstemperatureK', 'Rotationalspeedrpm', 'TorqueNm', 'Toolwearmin', 'Machinefailure'], how='right')       \n",
    "        final_true_positive_observations_with_failure_modes = true_positive_observations_with_failure_modes.reset_index(drop=True)\n",
    "    \n",
    "        #display(\"Number of true positive predictions: \" + str(len(final_true_positive_observations_with_failure_modes)))\n",
    "\n",
    "        number_of_TWF_failures_in_true_positive_predictions = 0\n",
    "        number_of_HDF_failures_in_true_positive_predictions = 0\n",
    "        number_of_PWF_failures_in_true_positive_predictions = 0\n",
    "        number_of_OSF_failures_in_true_positive_predictions = 0\n",
    "        number_of_random_failures_in_true_positive_predictions=0\n",
    "\n",
    "        for k in range(0,len(final_true_positive_observations_with_failure_modes)):\n",
    "            if final_true_positive_observations_with_failure_modes.loc[k,\"TWF\"]==1: #if the failure mode is TWF\n",
    "                number_of_TWF_failures_in_true_positive_predictions = number_of_TWF_failures_in_true_positive_predictions + 1;\n",
    "            if final_true_positive_observations_with_failure_modes.loc[k,\"HDF\"]==1: #if the failure mode is HDF\n",
    "                number_of_HDF_failures_in_true_positive_predictions = number_of_HDF_failures_in_true_positive_predictions + 1;\n",
    "            if final_true_positive_observations_with_failure_modes.loc[k,\"PWF\"]==1: #if the failure mode is PWF\n",
    "                number_of_PWF_failures_in_true_positive_predictions = number_of_PWF_failures_in_true_positive_predictions + 1;\n",
    "            if final_true_positive_observations_with_failure_modes.loc[k,\"OSF\"]==1: #if the failure mode is OSF\n",
    "                number_of_OSF_failures_in_true_positive_predictions = number_of_OSF_failures_in_true_positive_predictions + 1;\n",
    "            if (final_true_positive_observations_with_failure_modes.loc[k,\"Machinefailure\"]==1) and (final_true_positive_observations_with_failure_modes.loc[k,\"TWF\"]==0) and (final_true_positive_observations_with_failure_modes.loc[k,\"HDF\"]==0) and (final_true_positive_observations_with_failure_modes.loc[k,\"PWF\"]==0) and (final_true_positive_observations_with_failure_modes.loc[k,\"OSF\"]==0) and (final_true_positive_observations_with_failure_modes.loc[k,\"RNF\"]==0):\n",
    "                number_of_random_failures_in_true_positive_predictions = number_of_random_failures_in_true_positive_predictions+1;\n",
    "        \n",
    "        #Local Explanations\n",
    "        explainer = ClassifierExplainer(rnd_search_svm.best_estimator_.fit(X_train, y_train.values.ravel()), X_test, y_test)\n",
    "        \n",
    "        # load JS visualization code to notebook\n",
    "        shap.initjs()\n",
    "\n",
    "        #Shap values for each observation in the test dataset\n",
    "        shap_values = explainer.get_shap_values_df(1)\n",
    "          \n",
    "        #Calculate the correct explanations\n",
    "        correct_explanations = 0\n",
    "        correct_explanations_TWF = 0\n",
    "        correct_explanations_HDF = 0\n",
    "        correct_explanations_PWF = 0\n",
    "        correct_explanations_OSF = 0\n",
    "\n",
    "        for k in range(0,len(true_positive_observations)):\n",
    "            #if the failure mode is TWF\n",
    "            if final_true_positive_observations_with_failure_modes.loc[k,\"TWF\"]==1:\n",
    "                #if tool wear is the most important feature\n",
    "                if shap_values.loc[true_positive_indexes[k],\"Toolwearmin\"] == max(shap_values.loc[true_positive_indexes[k],:]):\n",
    "                    correct_explanations = correct_explanations+1;\n",
    "                    correct_explanations_TWF = correct_explanations_TWF + 1;\n",
    "                \n",
    "            #if the failure mode is HDF\n",
    "            if final_true_positive_observations_with_failure_modes.loc[k,\"HDF\"]==1: \n",
    "                maximum1 = max(shap_values.loc[true_positive_indexes[k],:]) \n",
    "                maximum2 = max(shap_values.loc[true_positive_indexes[k],:], key = lambda x: min(shap_values.loc[true_positive_indexes[k],:])-1 if (x == maximum1) else x)\n",
    "                if (shap_values.loc[true_positive_indexes[k],\"AirtemperatureK\"] == maximum1) or (shap_values.loc[true_positive_indexes[k],\"AirtemperatureK\"] == maximum2) or (shap_values.loc[true_positive_indexes[k],\"ProcesstemperatureK\"] == maximum1) or (shap_values.loc[true_positive_indexes[k],\"ProcesstemperatureK\"] == maximum2):\n",
    "                    correct_explanations = correct_explanations+1;\n",
    "                    correct_explanations_HDF = correct_explanations_HDF + 1;\n",
    "            \n",
    "            \n",
    "            #if the failure mode is PWF\n",
    "            if final_true_positive_observations_with_failure_modes.loc[k,\"PWF\"]==1: \n",
    "                maximum1 = max(shap_values.loc[true_positive_indexes[k],:]) \n",
    "                maximum2 = max(shap_values.loc[true_positive_indexes[k],:], key = lambda x: min(shap_values.loc[true_positive_indexes[k],:])-1 if (x == maximum1) else x)\n",
    "                if (shap_values.loc[true_positive_indexes[k],\"Rotationalspeedrpm\"] == maximum1) or (shap_values.loc[true_positive_indexes[k],\"Rotationalspeedrpm\"] == maximum2) or (shap_values.loc[true_positive_indexes[k],\"TorqueNm\"] == maximum1) or (shap_values.loc[true_positive_indexes[k],\"TorqueNm\"] == maximum2):\n",
    "                    correct_explanations = correct_explanations+1;\n",
    "                    correct_explanations_PWF = correct_explanations_PWF + 1;\n",
    "            \n",
    "            #if the failure mode is OSF        \n",
    "            if final_true_positive_observations_with_failure_modes.loc[k,\"OSF\"]==1:\n",
    "                maximum1 = max(shap_values.loc[true_positive_indexes[k],:]) \n",
    "                maximum2 = max(shap_values.loc[true_positive_indexes[k],:], key = lambda x: min(shap_values.loc[true_positive_indexes[k],:])-1 if (x == maximum1) else x)\n",
    "                if (shap_values.loc[true_positive_indexes[k],\"Toolwearmin\"] == maximum1) or (shap_values.loc[true_positive_indexes[k],\"Toolwearmin\"] == maximum2) or (shap_values.loc[true_positive_indexes[k],\"TorqueNm\"] == maximum1) or (shap_values.loc[true_positive_indexes[k],\"TorqueNm\"] == maximum2):\n",
    "                    correct_explanations = correct_explanations+1;\n",
    "                    correct_explanations_OSF = correct_explanations_OSF + 1;\n",
    "        \n",
    "        denominator = 0\n",
    "        \n",
    "        if number_of_TWF_failures_in_true_positive_predictions != 0:\n",
    "            twf_folds_best_estimator_svm.append(correct_explanations_TWF/number_of_TWF_failures_in_true_positive_predictions)\n",
    "            twf_success = correct_explanations_TWF/number_of_TWF_failures_in_true_positive_predictions\n",
    "            denominator = denominator + 1\n",
    "        else:\n",
    "            twf_folds_best_estimator_svm.append(correct_explanations_TWF)\n",
    "            twf_success = 0\n",
    "        if number_of_HDF_failures_in_true_positive_predictions != 0:\n",
    "            hdf_folds_best_estimator_svm.append(correct_explanations_HDF/number_of_HDF_failures_in_true_positive_predictions)\n",
    "            hdf_success = correct_explanations_HDF/number_of_HDF_failures_in_true_positive_predictions\n",
    "            denominator = denominator + 1\n",
    "        else:\n",
    "            hdf_folds_best_estimator_svm.append(correct_explanations_HDF)\n",
    "            hdf_success = 0\n",
    "        if number_of_PWF_failures_in_true_positive_predictions != 0:\n",
    "            pwf_folds_best_estimator_svm.append(correct_explanations_PWF/number_of_PWF_failures_in_true_positive_predictions)\n",
    "            pwf_success = correct_explanations_PWF/number_of_PWF_failures_in_true_positive_predictions\n",
    "            denominator = denominator + 1\n",
    "        else:\n",
    "            pwf_folds_best_estimator_svm.append(correct_explanations_PWF)\n",
    "            pwf_success = 0\n",
    "        if number_of_OSF_failures_in_true_positive_predictions != 0:\n",
    "            osf_folds_best_estimator_svm.append(correct_explanations_OSF/number_of_OSF_failures_in_true_positive_predictions)\n",
    "            osf_success = correct_explanations_OSF/number_of_OSF_failures_in_true_positive_predictions\n",
    "            denominator = denominator + 1\n",
    "        else:\n",
    "            osf_folds_best_estimator_svm.append(correct_explanations_OSF)\n",
    "            osf_success = 0\n",
    "    \n",
    "        average_success = (twf_success+hdf_success+pwf_success+osf_success)/denominator\n",
    "        av_folds_best_estimator_svm.append(average_success)\n",
    "        fold_list_svm.append(fold)\n",
    "\n",
    "result_df_best_estimator_svm = pd.DataFrame({'Accuracy': acc_folds_best_estimator_svm, 'AUC': auc_folds_best_estimator_svm, 'Kappa':kappa_folds_best_estimator_svm, 'TWF':twf_folds_best_estimator_svm, 'HDF':hdf_folds_best_estimator_svm, 'PWF':pwf_folds_best_estimator_svm, 'OSF':osf_folds_best_estimator_svm, 'Average Success':av_folds_best_estimator_svm, 'Folds':fold_list_svm})\n"
   ]
  },
  {
   "cell_type": "code",
   "execution_count": null,
   "metadata": {},
   "outputs": [],
   "source": [
    "result_df_best_estimator_svm"
   ]
  },
  {
   "cell_type": "markdown",
   "metadata": {},
   "source": [
    "## Gaussian Naive Bayes Classifier "
   ]
  },
  {
   "cell_type": "code",
   "execution_count": null,
   "metadata": {},
   "outputs": [],
   "source": [
    "acc_folds_best_estimator_nb = []\n",
    "auc_folds_best_estimator_nb = []\n",
    "kappa_folds_best_estimator_nb = []\n",
    "twf_folds_best_estimator_nb = []\n",
    "hdf_folds_best_estimator_nb = []\n",
    "pwf_folds_best_estimator_nb = []\n",
    "osf_folds_best_estimator_nb = []\n",
    "av_folds_best_estimator_nb = []\n",
    "fold_list_nb = []\n",
    "\n",
    "\n",
    "for fold in range(1,11):\n",
    "    \n",
    "    #Dataset for each fold\n",
    "    ai4i2020_encoded_balanced = ai4i2020_encoded_balanced.rename(columns = lambda x:re.sub('[^A-Za-z0-9_]+', '', x))\n",
    "    original_X_train = pd.read_csv('..\\\\..\\\\dataset\\\\k-fold cross validation datasets\\\\' + str(fold) + \"\\\\Training Dataset\" + \"\\\\X_train_iter_\" + str(fold) + \".csv\")\n",
    "    original_X_test = pd.read_csv('..\\\\..\\\\dataset\\\\k-fold cross validation datasets\\\\' + str(fold) + \"\\\\Test Dataset\" + \"\\\\X_test_iter_\" + str(fold) + \".csv\")\n",
    "\n",
    "    X_train = pd.read_csv('..\\\\..\\\\dataset\\\\k-fold cross validation datasets\\\\' + str(fold) + \"\\\\Training Dataset\" + \"\\\\Scaled_X_train_iter_\" + str(fold) + \".csv\", names=['Type', 'Air temperature [K]', 'Process temperature [K]', 'Rotational speed [rpm]', 'Torque [Nm]', 'Tool wear [min]'])\n",
    "    y_train = pd.read_csv('..\\\\..\\\\dataset\\\\k-fold cross validation datasets\\\\' + str(fold) + \"\\\\Training Dataset\" + \"\\\\y_train_iter_\" + str(fold) + \".csv\")\n",
    "    X_test = pd.read_csv('..\\\\..\\\\dataset\\\\k-fold cross validation datasets\\\\' + str(fold) + \"\\\\Test Dataset\" + \"\\\\Scaled_X_test_iter_\" + str(fold) + \".csv\", names=['Type', 'Air temperature [K]', 'Process temperature [K]', 'Rotational speed [rpm]', 'Torque [Nm]', 'Tool wear [min]'])\n",
    "    y_test = pd.read_csv('..\\\\..\\\\dataset\\\\k-fold cross validation datasets\\\\' + str(fold) + \"\\\\Test Dataset\" + \"\\\\y_test_iter_\" + str(fold) + \".csv\")\n",
    "    \n",
    "    original_X_train = original_X_train.rename(columns = lambda x:re.sub('[^A-Za-z0-9_]+', '', x))\n",
    "    original_X_test = original_X_test.rename(columns = lambda x:re.sub('[^A-Za-z0-9_]+', '', x))\n",
    "    X_train = X_train.rename(columns = lambda x:re.sub('[^A-Za-z0-9_]+', '', x))\n",
    "    X_test = X_test.rename(columns = lambda x:re.sub('[^A-Za-z0-9_]+', '', x))\n",
    "    y_train = y_train.rename(columns = lambda x:re.sub('[^A-Za-z0-9_]+', '', x))\n",
    "    y_test = y_test.rename(columns = lambda x:re.sub('[^A-Za-z0-9_]+', '', x))\n",
    "    \n",
    "    \n",
    "    #Build the Classifier\n",
    "    \n",
    "    rnd_search_nb.best_estimator_.fit(X_train, y_train.values.ravel())\n",
    "    \n",
    "    #Predictions for the test set\n",
    "    y_test_pred_nb = rnd_search_nb.best_estimator_.predict(X_test)\n",
    "    \n",
    "    \n",
    "    #Evaluation metrics for the test dataset\n",
    "    accuracy_nb = accuracy_score(y_test, y_test_pred_nb)\n",
    "    cohen_score_nb = cohen_kappa_score(y_test, y_test_pred_nb)\n",
    "    auc_nb = metrics.roc_auc_score(y_test, y_test_pred_nb)\n",
    "    \n",
    "    \n",
    "    #Find the observations' indexes that the model correctly predicted as faulty\n",
    "    true_positive_indexes = []\n",
    "    i=1;\n",
    "\n",
    "    #According to the chosen model\n",
    "    #For example, y_test_pred_lgbmc for LGBM Classifier\n",
    "    for k in range(0,len(y_test)):\n",
    "        if (y_test.loc[k,'Machinefailure']==int(y_test_pred_nb[k])) and (y_test.loc[k,'Machinefailure']==1):\n",
    "            true_positive_indexes.append(k)\n",
    "            i=i+1;\n",
    "\n",
    "    #Find the observations that the selected model correctly predicted as faulty based on the previous indexes\n",
    "    true_positive_observations = pd.DataFrame()\n",
    "    for k in range(0,len(true_positive_indexes)):\n",
    "        new_row = pd.concat([original_X_test.loc[true_positive_indexes[k],:],y_test.loc[true_positive_indexes[k],:]], axis=0)\n",
    "        true_positive_observations = true_positive_observations.append(new_row, ignore_index=True)\n",
    "    \n",
    "    if not true_positive_observations.empty:\n",
    "        \n",
    "        #Append in lists\n",
    "        acc_folds_best_estimator_nb.append(accuracy_nb)\n",
    "        kappa_folds_best_estimator_nb.append(cohen_score_nb)\n",
    "        auc_folds_best_estimator_nb.append(auc_nb)\n",
    "        \n",
    "    \n",
    "        true_positive_observations_with_failure_modes = pd.DataFrame()\n",
    "        true_positive_observations_with_failure_modes = ai4i2020_encoded_balanced.join(true_positive_observations.set_index(['Type', 'AirtemperatureK', 'ProcesstemperatureK', 'Rotationalspeedrpm', 'TorqueNm', 'Toolwearmin', 'Machinefailure']), ['Type', 'AirtemperatureK', 'ProcesstemperatureK', 'Rotationalspeedrpm', 'TorqueNm', 'Toolwearmin', 'Machinefailure'], how='right')       \n",
    "        final_true_positive_observations_with_failure_modes = true_positive_observations_with_failure_modes.reset_index(drop=True)\n",
    "    \n",
    "        #display(\"Number of true positive predictions: \" + str(len(final_true_positive_observations_with_failure_modes)))\n",
    "\n",
    "        number_of_TWF_failures_in_true_positive_predictions = 0\n",
    "        number_of_HDF_failures_in_true_positive_predictions = 0\n",
    "        number_of_PWF_failures_in_true_positive_predictions = 0\n",
    "        number_of_OSF_failures_in_true_positive_predictions = 0\n",
    "        number_of_random_failures_in_true_positive_predictions=0\n",
    "\n",
    "        for k in range(0,len(final_true_positive_observations_with_failure_modes)):\n",
    "            if final_true_positive_observations_with_failure_modes.loc[k,\"TWF\"]==1: #if the failure mode is TWF\n",
    "                number_of_TWF_failures_in_true_positive_predictions = number_of_TWF_failures_in_true_positive_predictions + 1;\n",
    "            if final_true_positive_observations_with_failure_modes.loc[k,\"HDF\"]==1: #if the failure mode is HDF\n",
    "                number_of_HDF_failures_in_true_positive_predictions = number_of_HDF_failures_in_true_positive_predictions + 1;\n",
    "            if final_true_positive_observations_with_failure_modes.loc[k,\"PWF\"]==1: #if the failure mode is PWF\n",
    "                number_of_PWF_failures_in_true_positive_predictions = number_of_PWF_failures_in_true_positive_predictions + 1;\n",
    "            if final_true_positive_observations_with_failure_modes.loc[k,\"OSF\"]==1: #if the failure mode is OSF\n",
    "                number_of_OSF_failures_in_true_positive_predictions = number_of_OSF_failures_in_true_positive_predictions + 1;\n",
    "            if (final_true_positive_observations_with_failure_modes.loc[k,\"Machinefailure\"]==1) and (final_true_positive_observations_with_failure_modes.loc[k,\"TWF\"]==0) and (final_true_positive_observations_with_failure_modes.loc[k,\"HDF\"]==0) and (final_true_positive_observations_with_failure_modes.loc[k,\"PWF\"]==0) and (final_true_positive_observations_with_failure_modes.loc[k,\"OSF\"]==0) and (final_true_positive_observations_with_failure_modes.loc[k,\"RNF\"]==0):\n",
    "                number_of_random_failures_in_true_positive_predictions = number_of_random_failures_in_true_positive_predictions+1;\n",
    "        \n",
    "        #Local Explanations\n",
    "        explainer = ClassifierExplainer(rnd_search_nb.best_estimator_.fit(X_train, y_train.values.ravel()), X_test, y_test)\n",
    "        \n",
    "        # load JS visualization code to notebook\n",
    "        shap.initjs()\n",
    "\n",
    "        #Shap values for each observation in the test dataset\n",
    "        shap_values = explainer.get_shap_values_df(1)\n",
    "          \n",
    "        #Calculate the correct explanations\n",
    "        correct_explanations = 0\n",
    "        correct_explanations_TWF = 0\n",
    "        correct_explanations_HDF = 0\n",
    "        correct_explanations_PWF = 0\n",
    "        correct_explanations_OSF = 0\n",
    "\n",
    "        for k in range(0,len(true_positive_observations)):\n",
    "            #if the failure mode is TWF\n",
    "            if final_true_positive_observations_with_failure_modes.loc[k,\"TWF\"]==1:\n",
    "                #if tool wear is the most important feature\n",
    "                if shap_values.loc[true_positive_indexes[k],\"Toolwearmin\"] == max(shap_values.loc[true_positive_indexes[k],:]):\n",
    "                    correct_explanations = correct_explanations+1;\n",
    "                    correct_explanations_TWF = correct_explanations_TWF + 1;\n",
    "                \n",
    "            #if the failure mode is HDF\n",
    "            if final_true_positive_observations_with_failure_modes.loc[k,\"HDF\"]==1: \n",
    "                maximum1 = max(shap_values.loc[true_positive_indexes[k],:]) \n",
    "                maximum2 = max(shap_values.loc[true_positive_indexes[k],:], key = lambda x: min(shap_values.loc[true_positive_indexes[k],:])-1 if (x == maximum1) else x)\n",
    "                if (shap_values.loc[true_positive_indexes[k],\"AirtemperatureK\"] == maximum1) or (shap_values.loc[true_positive_indexes[k],\"AirtemperatureK\"] == maximum2) or (shap_values.loc[true_positive_indexes[k],\"ProcesstemperatureK\"] == maximum1) or (shap_values.loc[true_positive_indexes[k],\"ProcesstemperatureK\"] == maximum2):\n",
    "                    correct_explanations = correct_explanations+1;\n",
    "                    correct_explanations_HDF = correct_explanations_HDF + 1;\n",
    "            \n",
    "            \n",
    "            #if the failure mode is PWF\n",
    "            if final_true_positive_observations_with_failure_modes.loc[k,\"PWF\"]==1: \n",
    "                maximum1 = max(shap_values.loc[true_positive_indexes[k],:]) \n",
    "                maximum2 = max(shap_values.loc[true_positive_indexes[k],:], key = lambda x: min(shap_values.loc[true_positive_indexes[k],:])-1 if (x == maximum1) else x)\n",
    "                if (shap_values.loc[true_positive_indexes[k],\"Rotationalspeedrpm\"] == maximum1) or (shap_values.loc[true_positive_indexes[k],\"Rotationalspeedrpm\"] == maximum2) or (shap_values.loc[true_positive_indexes[k],\"TorqueNm\"] == maximum1) or (shap_values.loc[true_positive_indexes[k],\"TorqueNm\"] == maximum2):\n",
    "                    correct_explanations = correct_explanations+1;\n",
    "                    correct_explanations_PWF = correct_explanations_PWF + 1;\n",
    "            \n",
    "            #if the failure mode is OSF        \n",
    "            if final_true_positive_observations_with_failure_modes.loc[k,\"OSF\"]==1:\n",
    "                maximum1 = max(shap_values.loc[true_positive_indexes[k],:]) \n",
    "                maximum2 = max(shap_values.loc[true_positive_indexes[k],:], key = lambda x: min(shap_values.loc[true_positive_indexes[k],:])-1 if (x == maximum1) else x)\n",
    "                if (shap_values.loc[true_positive_indexes[k],\"Toolwearmin\"] == maximum1) or (shap_values.loc[true_positive_indexes[k],\"Toolwearmin\"] == maximum2) or (shap_values.loc[true_positive_indexes[k],\"TorqueNm\"] == maximum1) or (shap_values.loc[true_positive_indexes[k],\"TorqueNm\"] == maximum2):\n",
    "                    correct_explanations = correct_explanations+1;\n",
    "                    correct_explanations_OSF = correct_explanations_OSF + 1;\n",
    "        \n",
    "        denominator = 0\n",
    "        \n",
    "        if number_of_TWF_failures_in_true_positive_predictions != 0:\n",
    "            twf_folds_best_estimator_nb.append(correct_explanations_TWF/number_of_TWF_failures_in_true_positive_predictions)\n",
    "            twf_success = correct_explanations_TWF/number_of_TWF_failures_in_true_positive_predictions\n",
    "            denominator = denominator + 1\n",
    "        else:\n",
    "            twf_folds_best_estimator_nb.append(correct_explanations_TWF)\n",
    "            twf_success = 0\n",
    "        if number_of_HDF_failures_in_true_positive_predictions != 0:\n",
    "            hdf_folds_best_estimator_nb.append(correct_explanations_HDF/number_of_HDF_failures_in_true_positive_predictions)\n",
    "            hdf_success = correct_explanations_HDF/number_of_HDF_failures_in_true_positive_predictions\n",
    "            denominator = denominator + 1\n",
    "        else:\n",
    "            hdf_folds_best_estimator_nb.append(correct_explanations_HDF)\n",
    "            hdf_success = 0\n",
    "        if number_of_PWF_failures_in_true_positive_predictions != 0:\n",
    "            pwf_folds_best_estimator_nb.append(correct_explanations_PWF/number_of_PWF_failures_in_true_positive_predictions)\n",
    "            pwf_success = correct_explanations_PWF/number_of_PWF_failures_in_true_positive_predictions\n",
    "            denominator = denominator + 1\n",
    "        else:\n",
    "            pwf_folds_best_estimator_nb.append(correct_explanations_PWF)\n",
    "            pwf_success = 0\n",
    "        if number_of_OSF_failures_in_true_positive_predictions != 0:\n",
    "            osf_folds_best_estimator_nb.append(correct_explanations_OSF/number_of_OSF_failures_in_true_positive_predictions)\n",
    "            osf_success = correct_explanations_OSF/number_of_OSF_failures_in_true_positive_predictions\n",
    "            denominator = denominator + 1\n",
    "        else:\n",
    "            osf_folds_best_estimator_nb.append(correct_explanations_OSF)\n",
    "            osf_success = 0\n",
    "    \n",
    "        average_success = (twf_success+hdf_success+pwf_success+osf_success)/denominator\n",
    "        av_folds_best_estimator_nb.append(average_success)\n",
    "        fold_list_nb.append(fold)\n",
    "\n",
    "result_df_best_estimator_nb = pd.DataFrame({'Accuracy': acc_folds_best_estimator_nb, 'AUC': auc_folds_best_estimator_nb, 'Kappa':kappa_folds_best_estimator_nb, 'TWF':twf_folds_best_estimator_nb, 'HDF':hdf_folds_best_estimator_nb, 'PWF':pwf_folds_best_estimator_nb, 'OSF':osf_folds_best_estimator_nb, 'Average Success':av_folds_best_estimator_nb, 'Folds':fold_list_nb})\n"
   ]
  },
  {
   "cell_type": "code",
   "execution_count": null,
   "metadata": {
    "scrolled": true
   },
   "outputs": [],
   "source": [
    "result_df_best_estimator_nb"
   ]
  },
  {
   "cell_type": "markdown",
   "metadata": {},
   "source": [
    "## Stochastic Gradient Descent "
   ]
  },
  {
   "cell_type": "code",
   "execution_count": null,
   "metadata": {},
   "outputs": [],
   "source": [
    "import shap\n",
    "acc_folds_best_estimator_sgd = []\n",
    "auc_folds_best_estimator_sgd = []\n",
    "kappa_folds_best_estimator_sgd = []\n",
    "twf_folds_best_estimator_sgd = []\n",
    "hdf_folds_best_estimator_sgd = []\n",
    "pwf_folds_best_estimator_sgd = []\n",
    "osf_folds_best_estimator_sgd = []\n",
    "av_folds_best_estimator_sgd = []\n",
    "fold_list_sgd = []\n",
    "\n",
    "\n",
    "for fold in range(1,11):\n",
    "    \n",
    "    #Dataset for each fold\n",
    "    ai4i2020_encoded_balanced = ai4i2020_encoded_balanced.rename(columns = lambda x:re.sub('[^A-Za-z0-9_]+', '', x))\n",
    "    original_X_train = pd.read_csv('..\\\\..\\\\dataset\\\\k-fold cross validation datasets\\\\' + str(fold) + \"\\\\Training Dataset\" + \"\\\\X_train_iter_\" + str(fold) + \".csv\")\n",
    "    original_X_test = pd.read_csv('..\\\\..\\\\dataset\\\\k-fold cross validation datasets\\\\' + str(fold) + \"\\\\Test Dataset\" + \"\\\\X_test_iter_\" + str(fold) + \".csv\")\n",
    "\n",
    "    X_train = pd.read_csv('..\\\\..\\\\dataset\\\\k-fold cross validation datasets\\\\' + str(fold) + \"\\\\Training Dataset\" + \"\\\\Scaled_X_train_iter_\" + str(fold) + \".csv\", names=['Type', 'Air temperature [K]', 'Process temperature [K]', 'Rotational speed [rpm]', 'Torque [Nm]', 'Tool wear [min]'])\n",
    "    y_train = pd.read_csv('..\\\\..\\\\dataset\\\\k-fold cross validation datasets\\\\' + str(fold) + \"\\\\Training Dataset\" + \"\\\\y_train_iter_\" + str(fold) + \".csv\")\n",
    "    X_test = pd.read_csv('..\\\\..\\\\dataset\\\\k-fold cross validation datasets\\\\' + str(fold) + \"\\\\Test Dataset\" + \"\\\\Scaled_X_test_iter_\" + str(fold) + \".csv\", names=['Type', 'Air temperature [K]', 'Process temperature [K]', 'Rotational speed [rpm]', 'Torque [Nm]', 'Tool wear [min]'])\n",
    "    y_test = pd.read_csv('..\\\\..\\\\dataset\\\\k-fold cross validation datasets\\\\' + str(fold) + \"\\\\Test Dataset\" + \"\\\\y_test_iter_\" + str(fold) + \".csv\")\n",
    "    \n",
    "    original_X_train = original_X_train.rename(columns = lambda x:re.sub('[^A-Za-z0-9_]+', '', x))\n",
    "    original_X_test = original_X_test.rename(columns = lambda x:re.sub('[^A-Za-z0-9_]+', '', x))\n",
    "    X_train = X_train.rename(columns = lambda x:re.sub('[^A-Za-z0-9_]+', '', x))\n",
    "    X_test = X_test.rename(columns = lambda x:re.sub('[^A-Za-z0-9_]+', '', x))\n",
    "    y_train = y_train.rename(columns = lambda x:re.sub('[^A-Za-z0-9_]+', '', x))\n",
    "    y_test = y_test.rename(columns = lambda x:re.sub('[^A-Za-z0-9_]+', '', x))\n",
    "    \n",
    "    \n",
    "    #Build the Classifier\n",
    "    \n",
    "    rnd_search_SGD.best_estimator_.fit(X_train, y_train.values.ravel())\n",
    "    \n",
    "    \n",
    "    #Predictions for the test set\n",
    "    y_test_pred_sgd = rnd_search_SGD.best_estimator_.predict(X_test)\n",
    "    \n",
    "    \n",
    "    #Evaluation metrics for the test dataset\n",
    "    accuracy_sgd = accuracy_score(y_test, y_test_pred_sgd)\n",
    "    cohen_score_sgd = cohen_kappa_score(y_test, y_test_pred_sgd)\n",
    "    auc_sgd = metrics.roc_auc_score(y_test, y_test_pred_sgd)\n",
    "    \n",
    "    \n",
    "    #Find the observations' indexes that the model correctly predicted as faulty\n",
    "    true_positive_indexes = []\n",
    "    i=1;\n",
    "\n",
    "    #According to the chosen model\n",
    "    #For example, y_test_pred_lgbmc for LGBM Classifier\n",
    "    for k in range(0,len(y_test)):\n",
    "        if (y_test.loc[k,'Machinefailure']==int(y_test_pred_sgd[k])) and (y_test.loc[k,'Machinefailure']==1):\n",
    "            true_positive_indexes.append(k)\n",
    "            i=i+1;\n",
    "\n",
    "    #Find the observations that the selected model correctly predicted as faulty based on the previous indexes\n",
    "    true_positive_observations = pd.DataFrame()\n",
    "    for k in range(0,len(true_positive_indexes)):\n",
    "        new_row = pd.concat([original_X_test.loc[true_positive_indexes[k],:],y_test.loc[true_positive_indexes[k],:]], axis=0)\n",
    "        true_positive_observations = true_positive_observations.append(new_row, ignore_index=True)\n",
    "    \n",
    "    if not true_positive_observations.empty:\n",
    "        \n",
    "        #Append in lists\n",
    "        acc_folds_best_estimator_sgd.append(accuracy_sgd)\n",
    "        kappa_folds_best_estimator_sgd.append(cohen_score_sgd)\n",
    "        auc_folds_best_estimator_sgd.append(auc_sgd)\n",
    "        \n",
    "    \n",
    "        true_positive_observations_with_failure_modes = pd.DataFrame()\n",
    "        true_positive_observations_with_failure_modes = ai4i2020_encoded_balanced.join(true_positive_observations.set_index(['Type', 'AirtemperatureK', 'ProcesstemperatureK', 'Rotationalspeedrpm', 'TorqueNm', 'Toolwearmin', 'Machinefailure']), ['Type', 'AirtemperatureK', 'ProcesstemperatureK', 'Rotationalspeedrpm', 'TorqueNm', 'Toolwearmin', 'Machinefailure'], how='right')       \n",
    "        final_true_positive_observations_with_failure_modes = true_positive_observations_with_failure_modes.reset_index(drop=True)\n",
    "    \n",
    "        #display(\"Number of true positive predictions: \" + str(len(final_true_positive_observations_with_failure_modes)))\n",
    "\n",
    "        number_of_TWF_failures_in_true_positive_predictions = 0\n",
    "        number_of_HDF_failures_in_true_positive_predictions = 0\n",
    "        number_of_PWF_failures_in_true_positive_predictions = 0\n",
    "        number_of_OSF_failures_in_true_positive_predictions = 0\n",
    "        number_of_random_failures_in_true_positive_predictions=0\n",
    "\n",
    "        for k in range(0,len(final_true_positive_observations_with_failure_modes)):\n",
    "            if final_true_positive_observations_with_failure_modes.loc[k,\"TWF\"]==1: #if the failure mode is TWF\n",
    "                number_of_TWF_failures_in_true_positive_predictions = number_of_TWF_failures_in_true_positive_predictions + 1;\n",
    "            if final_true_positive_observations_with_failure_modes.loc[k,\"HDF\"]==1: #if the failure mode is HDF\n",
    "                number_of_HDF_failures_in_true_positive_predictions = number_of_HDF_failures_in_true_positive_predictions + 1;\n",
    "            if final_true_positive_observations_with_failure_modes.loc[k,\"PWF\"]==1: #if the failure mode is PWF\n",
    "                number_of_PWF_failures_in_true_positive_predictions = number_of_PWF_failures_in_true_positive_predictions + 1;\n",
    "            if final_true_positive_observations_with_failure_modes.loc[k,\"OSF\"]==1: #if the failure mode is OSF\n",
    "                number_of_OSF_failures_in_true_positive_predictions = number_of_OSF_failures_in_true_positive_predictions + 1;\n",
    "            if (final_true_positive_observations_with_failure_modes.loc[k,\"Machinefailure\"]==1) and (final_true_positive_observations_with_failure_modes.loc[k,\"TWF\"]==0) and (final_true_positive_observations_with_failure_modes.loc[k,\"HDF\"]==0) and (final_true_positive_observations_with_failure_modes.loc[k,\"PWF\"]==0) and (final_true_positive_observations_with_failure_modes.loc[k,\"OSF\"]==0) and (final_true_positive_observations_with_failure_modes.loc[k,\"RNF\"]==0):\n",
    "                number_of_random_failures_in_true_positive_predictions = number_of_random_failures_in_true_positive_predictions+1;\n",
    "        \n",
    "        #Local Explanations\n",
    "        \n",
    "        sub_sampled_train_data = shap.sample(X_train, 600, random_state=0) # use 600 samples of train data as background data to make things faster\n",
    "        \n",
    "        explainer = shap.KernelExplainer(rnd_search_SGD.best_estimator_.predict, sub_sampled_train_data)\n",
    "        #explainer = ClassifierExplainer(rnd_search_SGD.best_estimator_.fit(X_train, y_train.values.ravel()), X_test, y_test)\n",
    "        \n",
    "        \n",
    "        # load JS visualization code to notebook\n",
    "        shap.initjs()\n",
    "        \n",
    "        # Calculates the SHAP values - It takes some time\n",
    "        shap_values = explainer.shap_values(X_test)\n",
    "        \n",
    "        feature_names = X_train.columns\n",
    "        result_shap_values = pd.DataFrame(shap_values, columns = feature_names)\n",
    "        \n",
    "\n",
    "        #Shap values for each observation in the test dataset\n",
    "        #shap_values = explainer.get_shap_values_df(1)\n",
    "          \n",
    "        #Calculate the correct explanations\n",
    "        correct_explanations = 0\n",
    "        correct_explanations_TWF = 0\n",
    "        correct_explanations_HDF = 0\n",
    "        correct_explanations_PWF = 0\n",
    "        correct_explanations_OSF = 0\n",
    "\n",
    "        for k in range(0,len(true_positive_observations)):\n",
    "            #if the failure mode is TWF\n",
    "            if final_true_positive_observations_with_failure_modes.loc[k,\"TWF\"]==1:\n",
    "                #if tool wear is the most important feature\n",
    "                if result_shap_values.loc[true_positive_indexes[k],\"Toolwearmin\"] == max(result_shap_values.loc[true_positive_indexes[k],:]):\n",
    "                    correct_explanations = correct_explanations+1;\n",
    "                    correct_explanations_TWF = correct_explanations_TWF + 1;\n",
    "                \n",
    "            #if the failure mode is HDF\n",
    "            if final_true_positive_observations_with_failure_modes.loc[k,\"HDF\"]==1: \n",
    "                maximum1 = max(result_shap_values.loc[true_positive_indexes[k],:]) \n",
    "                maximum2 = max(result_shap_values.loc[true_positive_indexes[k],:], key = lambda x: min(result_shap_values.loc[true_positive_indexes[k],:])-1 if (x == maximum1) else x)\n",
    "                if (result_shap_values.loc[true_positive_indexes[k],\"AirtemperatureK\"] == maximum1) or (result_shap_values.loc[true_positive_indexes[k],\"AirtemperatureK\"] == maximum2) or (result_shap_values.loc[true_positive_indexes[k],\"ProcesstemperatureK\"] == maximum1) or (result_shap_values.loc[true_positive_indexes[k],\"ProcesstemperatureK\"] == maximum2):\n",
    "                    correct_explanations = correct_explanations+1;\n",
    "                    correct_explanations_HDF = correct_explanations_HDF + 1;\n",
    "            \n",
    "            \n",
    "            #if the failure mode is PWF\n",
    "            if final_true_positive_observations_with_failure_modes.loc[k,\"PWF\"]==1: \n",
    "                maximum1 = max(result_shap_values.loc[true_positive_indexes[k],:]) \n",
    "                maximum2 = max(result_shap_values.loc[true_positive_indexes[k],:], key = lambda x: min(result_shap_values.loc[true_positive_indexes[k],:])-1 if (x == maximum1) else x)\n",
    "                if (result_shap_values.loc[true_positive_indexes[k],\"Rotationalspeedrpm\"] == maximum1) or (result_shap_values.loc[true_positive_indexes[k],\"Rotationalspeedrpm\"] == maximum2) or (result_shap_values.loc[true_positive_indexes[k],\"TorqueNm\"] == maximum1) or (result_shap_values.loc[true_positive_indexes[k],\"TorqueNm\"] == maximum2):\n",
    "                    correct_explanations = correct_explanations+1;\n",
    "                    correct_explanations_PWF = correct_explanations_PWF + 1;\n",
    "            \n",
    "            #if the failure mode is OSF        \n",
    "            if final_true_positive_observations_with_failure_modes.loc[k,\"OSF\"]==1:\n",
    "                maximum1 = max(result_shap_values.loc[true_positive_indexes[k],:]) \n",
    "                maximum2 = max(result_shap_values.loc[true_positive_indexes[k],:], key = lambda x: min(result_shap_values.loc[true_positive_indexes[k],:])-1 if (x == maximum1) else x)\n",
    "                if (result_shap_values.loc[true_positive_indexes[k],\"Toolwearmin\"] == maximum1) or (result_shap_values.loc[true_positive_indexes[k],\"Toolwearmin\"] == maximum2) or (result_shap_values.loc[true_positive_indexes[k],\"TorqueNm\"] == maximum1) or (result_shap_values.loc[true_positive_indexes[k],\"TorqueNm\"] == maximum2):\n",
    "                    correct_explanations = correct_explanations+1;\n",
    "                    correct_explanations_OSF = correct_explanations_OSF + 1;\n",
    "        \n",
    "        denominator = 0\n",
    "        \n",
    "        if number_of_TWF_failures_in_true_positive_predictions != 0:\n",
    "            twf_folds_best_estimator_sgd.append(correct_explanations_TWF/number_of_TWF_failures_in_true_positive_predictions)\n",
    "            twf_success = correct_explanations_TWF/number_of_TWF_failures_in_true_positive_predictions\n",
    "            denominator = denominator + 1\n",
    "        else:\n",
    "            twf_folds_best_estimator_sgd.append(correct_explanations_TWF)\n",
    "            twf_success = 0\n",
    "        if number_of_HDF_failures_in_true_positive_predictions != 0:\n",
    "            hdf_folds_best_estimator_sgd.append(correct_explanations_HDF/number_of_HDF_failures_in_true_positive_predictions)\n",
    "            hdf_success = correct_explanations_HDF/number_of_HDF_failures_in_true_positive_predictions\n",
    "            denominator = denominator + 1\n",
    "        else:\n",
    "            hdf_folds_best_estimator_sgd.append(correct_explanations_HDF)\n",
    "            hdf_success = 0\n",
    "        if number_of_PWF_failures_in_true_positive_predictions != 0:\n",
    "            pwf_folds_best_estimator_sgd.append(correct_explanations_PWF/number_of_PWF_failures_in_true_positive_predictions)\n",
    "            pwf_success = correct_explanations_PWF/number_of_PWF_failures_in_true_positive_predictions\n",
    "            denominator = denominator + 1\n",
    "        else:\n",
    "            pwf_folds_best_estimator_sgd.append(correct_explanations_PWF)\n",
    "            pwf_success = 0\n",
    "        if number_of_OSF_failures_in_true_positive_predictions != 0:\n",
    "            osf_folds_best_estimator_sgd.append(correct_explanations_OSF/number_of_OSF_failures_in_true_positive_predictions)\n",
    "            osf_success = correct_explanations_OSF/number_of_OSF_failures_in_true_positive_predictions\n",
    "            denominator = denominator + 1\n",
    "        else:\n",
    "            osf_folds_best_estimator_sgd.append(correct_explanations_OSF)\n",
    "            osf_success = 0\n",
    "    \n",
    "        average_success = (twf_success+hdf_success+pwf_success+osf_success)/denominator\n",
    "        av_folds_best_estimator_sgd.append(average_success)\n",
    "        fold_list_sgd.append(fold)\n",
    "\n",
    "result_df_best_estimator_sgd = pd.DataFrame({'Accuracy': acc_folds_best_estimator_sgd, 'AUC': auc_folds_best_estimator_sgd, 'Kappa':kappa_folds_best_estimator_sgd, 'TWF':twf_folds_best_estimator_sgd, 'HDF':hdf_folds_best_estimator_sgd, 'PWF':pwf_folds_best_estimator_sgd, 'OSF':osf_folds_best_estimator_sgd, 'Average Success':av_folds_best_estimator_sgd, 'Folds':fold_list_sgd})\n"
   ]
  },
  {
   "cell_type": "code",
   "execution_count": null,
   "metadata": {},
   "outputs": [],
   "source": [
    "result_df_best_estimator_sgd"
   ]
  },
  {
   "cell_type": "markdown",
   "metadata": {},
   "source": [
    "## Logistic Regression"
   ]
  },
  {
   "cell_type": "markdown",
   "metadata": {},
   "source": [
    "Shapley values for linear models are equal to \"model weight * feature value\", where feature values are normalized and model weights are trained with the normalized feature values."
   ]
  },
  {
   "cell_type": "code",
   "execution_count": null,
   "metadata": {},
   "outputs": [],
   "source": [
    "acc_folds_best_estimator_log = []\n",
    "auc_folds_best_estimator_log = []\n",
    "kappa_folds_best_estimator_log = []\n",
    "twf_folds_best_estimator_log = []\n",
    "hdf_folds_best_estimator_log = []\n",
    "pwf_folds_best_estimator_log = []\n",
    "osf_folds_best_estimator_log = []\n",
    "av_folds_best_estimator_log = []\n",
    "fold_list_log = []\n",
    "\n",
    "\n",
    "for fold in range(1,11):\n",
    "    \n",
    "    display(\"Fold #\"+str(fold))\n",
    "    \n",
    "    #Dataset for each fold\n",
    "    ai4i2020_encoded_balanced = ai4i2020_encoded_balanced.rename(columns = lambda x:re.sub('[^A-Za-z0-9_]+', '', x))\n",
    "    original_X_train = pd.read_csv('..\\\\..\\\\dataset\\\\k-fold cross validation datasets\\\\' + str(fold) + \"\\\\Training Dataset\" + \"\\\\X_train_iter_\" + str(fold) + \".csv\")\n",
    "    original_X_test = pd.read_csv('..\\\\..\\\\dataset\\\\k-fold cross validation datasets\\\\' + str(fold) + \"\\\\Test Dataset\" + \"\\\\X_test_iter_\" + str(fold) + \".csv\")\n",
    "\n",
    "    X_train = pd.read_csv('..\\\\..\\\\dataset\\\\k-fold cross validation datasets\\\\' + str(fold) + \"\\\\Training Dataset\" + \"\\\\Scaled_X_train_iter_\" + str(fold) + \".csv\", names=['Type', 'Air temperature [K]', 'Process temperature [K]', 'Rotational speed [rpm]', 'Torque [Nm]', 'Tool wear [min]'])\n",
    "    y_train = pd.read_csv('..\\\\..\\\\dataset\\\\k-fold cross validation datasets\\\\' + str(fold) + \"\\\\Training Dataset\" + \"\\\\y_train_iter_\" + str(fold) + \".csv\")\n",
    "    X_test = pd.read_csv('..\\\\..\\\\dataset\\\\k-fold cross validation datasets\\\\' + str(fold) + \"\\\\Test Dataset\" + \"\\\\Scaled_X_test_iter_\" + str(fold) + \".csv\", names=['Type', 'Air temperature [K]', 'Process temperature [K]', 'Rotational speed [rpm]', 'Torque [Nm]', 'Tool wear [min]'])\n",
    "    y_test = pd.read_csv('..\\\\..\\\\dataset\\\\k-fold cross validation datasets\\\\' + str(fold) + \"\\\\Test Dataset\" + \"\\\\y_test_iter_\" + str(fold) + \".csv\")\n",
    "    \n",
    "    original_X_train = original_X_train.rename(columns = lambda x:re.sub('[^A-Za-z0-9_]+', '', x))\n",
    "    original_X_test = original_X_test.rename(columns = lambda x:re.sub('[^A-Za-z0-9_]+', '', x))\n",
    "    X_train = X_train.rename(columns = lambda x:re.sub('[^A-Za-z0-9_]+', '', x))\n",
    "    X_test = X_test.rename(columns = lambda x:re.sub('[^A-Za-z0-9_]+', '', x))\n",
    "    y_train = y_train.rename(columns = lambda x:re.sub('[^A-Za-z0-9_]+', '', x))\n",
    "    y_test = y_test.rename(columns = lambda x:re.sub('[^A-Za-z0-9_]+', '', x))\n",
    "    \n",
    "    \n",
    "    #Build the Classifier\n",
    "    \n",
    "    rnd_search_LR.best_estimator_.fit(X_train, y_train.values.ravel())\n",
    "    \n",
    "    #Predictions for the test set\n",
    "    y_test_pred_log = rnd_search_LR.best_estimator_.predict(X_test)\n",
    "    \n",
    "    \n",
    "    #Evaluation metrics for the test dataset\n",
    "    accuracy_log = accuracy_score(y_test, y_test_pred_log)\n",
    "    cohen_score_log = cohen_kappa_score(y_test, y_test_pred_log)\n",
    "    auc_log = metrics.roc_auc_score(y_test, y_test_pred_log)\n",
    "    \n",
    "    \n",
    "    #Find the observations' indexes that the model correctly predicted as faulty\n",
    "    true_positive_indexes = []\n",
    "    i=1;\n",
    "\n",
    "    #According to the chosen model\n",
    "    #For example, y_test_pred_lgbmc for LGBM Classifier\n",
    "    for k in range(0,len(y_test)):\n",
    "        if (y_test.loc[k,'Machinefailure']==int(y_test_pred_log[k])) and (y_test.loc[k,'Machinefailure']==1):\n",
    "            true_positive_indexes.append(k)\n",
    "            i=i+1;\n",
    "\n",
    "    #Find the observations that the selected model correctly predicted as faulty based on the previous indexes\n",
    "    true_positive_observations = pd.DataFrame()\n",
    "    for k in range(0,len(true_positive_indexes)):\n",
    "        new_row = pd.concat([original_X_test.loc[true_positive_indexes[k],:],y_test.loc[true_positive_indexes[k],:]], axis=0)\n",
    "        true_positive_observations = true_positive_observations.append(new_row, ignore_index=True)\n",
    "    \n",
    "    if not true_positive_observations.empty:\n",
    "        \n",
    "        #Append in lists\n",
    "        acc_folds_best_estimator_log.append(accuracy_log)\n",
    "        kappa_folds_best_estimator_log.append(cohen_score_log)\n",
    "        auc_folds_best_estimator_log.append(auc_log)\n",
    "        \n",
    "    \n",
    "        true_positive_observations_with_failure_modes = pd.DataFrame()\n",
    "        true_positive_observations_with_failure_modes = ai4i2020_encoded_balanced.join(true_positive_observations.set_index(['Type', 'AirtemperatureK', 'ProcesstemperatureK', 'Rotationalspeedrpm', 'TorqueNm', 'Toolwearmin', 'Machinefailure']), ['Type', 'AirtemperatureK', 'ProcesstemperatureK', 'Rotationalspeedrpm', 'TorqueNm', 'Toolwearmin', 'Machinefailure'], how='right')       \n",
    "        final_true_positive_observations_with_failure_modes = true_positive_observations_with_failure_modes.reset_index(drop=True)\n",
    "    \n",
    "        #display(\"Number of true positive predictions: \" + str(len(final_true_positive_observations_with_failure_modes)))\n",
    "\n",
    "        number_of_TWF_failures_in_true_positive_predictions = 0\n",
    "        number_of_HDF_failures_in_true_positive_predictions = 0\n",
    "        number_of_PWF_failures_in_true_positive_predictions = 0\n",
    "        number_of_OSF_failures_in_true_positive_predictions = 0\n",
    "        number_of_random_failures_in_true_positive_predictions=0\n",
    "\n",
    "        for k in range(0,len(final_true_positive_observations_with_failure_modes)):\n",
    "            if final_true_positive_observations_with_failure_modes.loc[k,\"TWF\"]==1: #if the failure mode is TWF\n",
    "                number_of_TWF_failures_in_true_positive_predictions = number_of_TWF_failures_in_true_positive_predictions + 1;\n",
    "            if final_true_positive_observations_with_failure_modes.loc[k,\"HDF\"]==1: #if the failure mode is HDF\n",
    "                number_of_HDF_failures_in_true_positive_predictions = number_of_HDF_failures_in_true_positive_predictions + 1;\n",
    "            if final_true_positive_observations_with_failure_modes.loc[k,\"PWF\"]==1: #if the failure mode is PWF\n",
    "                number_of_PWF_failures_in_true_positive_predictions = number_of_PWF_failures_in_true_positive_predictions + 1;\n",
    "            if final_true_positive_observations_with_failure_modes.loc[k,\"OSF\"]==1: #if the failure mode is OSF\n",
    "                number_of_OSF_failures_in_true_positive_predictions = number_of_OSF_failures_in_true_positive_predictions + 1;\n",
    "            if (final_true_positive_observations_with_failure_modes.loc[k,\"Machinefailure\"]==1) and (final_true_positive_observations_with_failure_modes.loc[k,\"TWF\"]==0) and (final_true_positive_observations_with_failure_modes.loc[k,\"HDF\"]==0) and (final_true_positive_observations_with_failure_modes.loc[k,\"PWF\"]==0) and (final_true_positive_observations_with_failure_modes.loc[k,\"OSF\"]==0) and (final_true_positive_observations_with_failure_modes.loc[k,\"RNF\"]==0):\n",
    "                number_of_random_failures_in_true_positive_predictions = number_of_random_failures_in_true_positive_predictions+1;\n",
    "        \n",
    "        #Global explainability\n",
    "        \n",
    "        # Get importance of each feature\n",
    "        w0 = rnd_search_LR.best_estimator_.intercept_[0]\n",
    "        w = w1, w2, w3, w4, w5, w6 = rnd_search_LR.best_estimator_.coef_[0]\n",
    "\n",
    "        feature_names = X_train.columns\n",
    "\n",
    "        feature_importance = pd.DataFrame(feature_names, columns = [\"feature\"])\n",
    "        feature_importance[\"importance\"] = pow(math.e,w)\n",
    "        feature_importance = feature_importance.sort_values(by = [\"importance\"], ascending = False)\n",
    "        display(feature_importance)\n",
    "        \n",
    "      \n",
    "        # Get importance of each feature\n",
    "        importance = rnd_search_LR.best_estimator_.coef_[0]\n",
    "\n",
    "        #Feature importances for linear models are equal to \"model weight * feature value\", where feature values are normalized and model weights are trained with the normalized feature values.\n",
    "        local_importance = np.multiply(importance, X_test.to_numpy())\n",
    "          \n",
    "        shap_values = pd.DataFrame(local_importance, columns = X_train.columns)\n",
    "          \n",
    "        #Calculate the correct explanations\n",
    "        correct_explanations = 0\n",
    "        correct_explanations_TWF = 0\n",
    "        correct_explanations_HDF = 0\n",
    "        correct_explanations_PWF = 0\n",
    "        correct_explanations_OSF = 0\n",
    "\n",
    "        for k in range(0,len(true_positive_observations)):\n",
    "            #if the failure mode is TWF\n",
    "            if final_true_positive_observations_with_failure_modes.loc[k,\"TWF\"]==1:\n",
    "                #if tool wear is the most important feature\n",
    "                if shap_values.loc[true_positive_indexes[k],\"Toolwearmin\"] == max(shap_values.loc[true_positive_indexes[k],:]):\n",
    "                    correct_explanations = correct_explanations+1;\n",
    "                    correct_explanations_TWF = correct_explanations_TWF + 1;\n",
    "                \n",
    "            #if the failure mode is HDF\n",
    "            if final_true_positive_observations_with_failure_modes.loc[k,\"HDF\"]==1: \n",
    "                maximum1 = max(shap_values.loc[true_positive_indexes[k],:]) \n",
    "                maximum2 = max(shap_values.loc[true_positive_indexes[k],:], key = lambda x: min(shap_values.loc[true_positive_indexes[k],:])-1 if (x == maximum1) else x)\n",
    "                if (shap_values.loc[true_positive_indexes[k],\"AirtemperatureK\"] == maximum1) or (shap_values.loc[true_positive_indexes[k],\"AirtemperatureK\"] == maximum2) or (shap_values.loc[true_positive_indexes[k],\"ProcesstemperatureK\"] == maximum1) or (shap_values.loc[true_positive_indexes[k],\"ProcesstemperatureK\"] == maximum2):\n",
    "                    correct_explanations = correct_explanations+1;\n",
    "                    correct_explanations_HDF = correct_explanations_HDF + 1;\n",
    "            \n",
    "            \n",
    "            #if the failure mode is PWF\n",
    "            if final_true_positive_observations_with_failure_modes.loc[k,\"PWF\"]==1: \n",
    "                maximum1 = max(shap_values.loc[true_positive_indexes[k],:]) \n",
    "                maximum2 = max(shap_values.loc[true_positive_indexes[k],:], key = lambda x: min(shap_values.loc[true_positive_indexes[k],:])-1 if (x == maximum1) else x)\n",
    "                if (shap_values.loc[true_positive_indexes[k],\"Rotationalspeedrpm\"] == maximum1) or (shap_values.loc[true_positive_indexes[k],\"Rotationalspeedrpm\"] == maximum2) or (shap_values.loc[true_positive_indexes[k],\"TorqueNm\"] == maximum1) or (shap_values.loc[true_positive_indexes[k],\"TorqueNm\"] == maximum2):\n",
    "                    correct_explanations = correct_explanations+1;\n",
    "                    correct_explanations_PWF = correct_explanations_PWF + 1;\n",
    "            \n",
    "            #if the failure mode is OSF        \n",
    "            if final_true_positive_observations_with_failure_modes.loc[k,\"OSF\"]==1:\n",
    "                maximum1 = max(shap_values.loc[true_positive_indexes[k],:]) \n",
    "                maximum2 = max(shap_values.loc[true_positive_indexes[k],:], key = lambda x: min(shap_values.loc[true_positive_indexes[k],:])-1 if (x == maximum1) else x)\n",
    "                if (shap_values.loc[true_positive_indexes[k],\"Toolwearmin\"] == maximum1) or (shap_values.loc[true_positive_indexes[k],\"Toolwearmin\"] == maximum2) or (shap_values.loc[true_positive_indexes[k],\"TorqueNm\"] == maximum1) or (shap_values.loc[true_positive_indexes[k],\"TorqueNm\"] == maximum2):\n",
    "                    correct_explanations = correct_explanations+1;\n",
    "                    correct_explanations_OSF = correct_explanations_OSF + 1;\n",
    "        \n",
    "        denominator = 0\n",
    "        \n",
    "        if number_of_TWF_failures_in_true_positive_predictions != 0:\n",
    "            twf_folds_best_estimator_log.append(correct_explanations_TWF/number_of_TWF_failures_in_true_positive_predictions)\n",
    "            twf_success = correct_explanations_TWF/number_of_TWF_failures_in_true_positive_predictions\n",
    "            denominator = denominator + 1\n",
    "        else:\n",
    "            twf_folds_best_estimator_log.append(correct_explanations_TWF)\n",
    "            twf_success = 0\n",
    "        if number_of_HDF_failures_in_true_positive_predictions != 0:\n",
    "            hdf_folds_best_estimator_log.append(correct_explanations_HDF/number_of_HDF_failures_in_true_positive_predictions)\n",
    "            hdf_success = correct_explanations_HDF/number_of_HDF_failures_in_true_positive_predictions\n",
    "            denominator = denominator + 1\n",
    "        else:\n",
    "            hdf_folds_best_estimator_log.append(correct_explanations_HDF)\n",
    "            hdf_success = 0\n",
    "        if number_of_PWF_failures_in_true_positive_predictions != 0:\n",
    "            pwf_folds_best_estimator_log.append(correct_explanations_PWF/number_of_PWF_failures_in_true_positive_predictions)\n",
    "            pwf_success = correct_explanations_PWF/number_of_PWF_failures_in_true_positive_predictions\n",
    "            denominator = denominator + 1\n",
    "        else:\n",
    "            pwf_folds_best_estimator_log.append(correct_explanations_PWF)\n",
    "            pwf_success = 0\n",
    "        if number_of_OSF_failures_in_true_positive_predictions != 0:\n",
    "            osf_folds_best_estimator_log.append(correct_explanations_OSF/number_of_OSF_failures_in_true_positive_predictions)\n",
    "            osf_success = correct_explanations_OSF/number_of_OSF_failures_in_true_positive_predictions\n",
    "            denominator = denominator + 1\n",
    "        else:\n",
    "            osf_folds_best_estimator_log.append(correct_explanations_OSF)\n",
    "            osf_success = 0\n",
    "    \n",
    "        average_success = (twf_success+hdf_success+pwf_success+osf_success)/denominator\n",
    "        av_folds_best_estimator_log.append(average_success)\n",
    "        fold_list_log.append(fold)\n",
    "\n",
    "result_df_best_estimator_log = pd.DataFrame({'Accuracy': acc_folds_best_estimator_log, 'AUC': auc_folds_best_estimator_log, 'Kappa':kappa_folds_best_estimator_log, 'TWF':twf_folds_best_estimator_log, 'HDF':hdf_folds_best_estimator_log, 'PWF':pwf_folds_best_estimator_log, 'OSF':osf_folds_best_estimator_log, 'Average Success':av_folds_best_estimator_log, 'Folds':fold_list_log})\n"
   ]
  },
  {
   "cell_type": "code",
   "execution_count": null,
   "metadata": {},
   "outputs": [],
   "source": [
    "result_df_best_estimator_log"
   ]
  },
  {
   "cell_type": "markdown",
   "metadata": {},
   "source": [
    "## XGBOOST "
   ]
  },
  {
   "cell_type": "code",
   "execution_count": null,
   "metadata": {},
   "outputs": [],
   "source": [
    "acc_folds_best_estimator_xgb = []\n",
    "auc_folds_best_estimator_xgb = []\n",
    "kappa_folds_best_estimator_xgb = []\n",
    "twf_folds_best_estimator_xgb = []\n",
    "hdf_folds_best_estimator_xgb = []\n",
    "pwf_folds_best_estimator_xgb = []\n",
    "osf_folds_best_estimator_xgb = []\n",
    "av_folds_best_estimator_xgb = []\n",
    "fold_list_xgb = []\n",
    "\n",
    "\n",
    "for fold in range(1,11):\n",
    "    \n",
    "    #Dataset for each fold\n",
    "    ai4i2020_encoded_balanced = ai4i2020_encoded_balanced.rename(columns = lambda x:re.sub('[^A-Za-z0-9_]+', '', x))\n",
    "    original_X_train = pd.read_csv('..\\\\..\\\\dataset\\\\k-fold cross validation datasets\\\\' + str(fold) + \"\\\\Training Dataset\" + \"\\\\X_train_iter_\" + str(fold) + \".csv\")\n",
    "    original_X_test = pd.read_csv('..\\\\..\\\\dataset\\\\k-fold cross validation datasets\\\\' + str(fold) + \"\\\\Test Dataset\" + \"\\\\X_test_iter_\" + str(fold) + \".csv\")\n",
    "\n",
    "    X_train = pd.read_csv('..\\\\..\\\\dataset\\\\k-fold cross validation datasets\\\\' + str(fold) + \"\\\\Training Dataset\" + \"\\\\Scaled_X_train_iter_\" + str(fold) + \".csv\", names=['Type', 'Air temperature [K]', 'Process temperature [K]', 'Rotational speed [rpm]', 'Torque [Nm]', 'Tool wear [min]'])\n",
    "    y_train = pd.read_csv('..\\\\..\\\\dataset\\\\k-fold cross validation datasets\\\\' + str(fold) + \"\\\\Training Dataset\" + \"\\\\y_train_iter_\" + str(fold) + \".csv\")\n",
    "    X_test = pd.read_csv('..\\\\..\\\\dataset\\\\k-fold cross validation datasets\\\\' + str(fold) + \"\\\\Test Dataset\" + \"\\\\Scaled_X_test_iter_\" + str(fold) + \".csv\", names=['Type', 'Air temperature [K]', 'Process temperature [K]', 'Rotational speed [rpm]', 'Torque [Nm]', 'Tool wear [min]'])\n",
    "    y_test = pd.read_csv('..\\\\..\\\\dataset\\\\k-fold cross validation datasets\\\\' + str(fold) + \"\\\\Test Dataset\" + \"\\\\y_test_iter_\" + str(fold) + \".csv\")\n",
    "    \n",
    "    original_X_train = original_X_train.rename(columns = lambda x:re.sub('[^A-Za-z0-9_]+', '', x))\n",
    "    original_X_test = original_X_test.rename(columns = lambda x:re.sub('[^A-Za-z0-9_]+', '', x))\n",
    "    X_train = X_train.rename(columns = lambda x:re.sub('[^A-Za-z0-9_]+', '', x))\n",
    "    X_test = X_test.rename(columns = lambda x:re.sub('[^A-Za-z0-9_]+', '', x))\n",
    "    y_train = y_train.rename(columns = lambda x:re.sub('[^A-Za-z0-9_]+', '', x))\n",
    "    y_test = y_test.rename(columns = lambda x:re.sub('[^A-Za-z0-9_]+', '', x))\n",
    "    \n",
    "    regex = re.compile(r\"\\[|\\]|<\", re.IGNORECASE)\n",
    "    X_train.columns = [regex.sub(\"_\", col) if any(x in str(col) for x in set(('[', ']', '<'))) else col for col in X_train.columns.values]\n",
    "    X_test.columns = [regex.sub(\"_\", col) if any(x in str(col) for x in set(('[', ']', '<'))) else col for col in X_test.columns.values]\n",
    "    \n",
    "    #Build the Classifier\n",
    "    \n",
    "    rnd_search_XG.best_estimator_.fit(X_train, y_train.values.ravel())\n",
    "    \n",
    "    #Predictions for the test set\n",
    "    y_test_pred_xgb = rnd_search_XG.best_estimator_.predict(X_test)\n",
    "    \n",
    "    \n",
    "    #Evaluation metrics for the test dataset\n",
    "    accuracy_xgb = accuracy_score(y_test, y_test_pred_xgb)\n",
    "    cohen_score_xgb = cohen_kappa_score(y_test, y_test_pred_xgb)\n",
    "    auc_xgb = metrics.roc_auc_score(y_test, y_test_pred_xgb)\n",
    "    \n",
    "    \n",
    "    #Find the observations' indexes that the model correctly predicted as faulty\n",
    "    true_positive_indexes = []\n",
    "    i=1;\n",
    "\n",
    "    #According to the chosen model\n",
    "    #For example, y_test_pred_lgbmc for LGBM Classifier\n",
    "    for k in range(0,len(y_test)):\n",
    "        if (y_test.loc[k,'Machinefailure']==int(y_test_pred_xgb[k])) and (y_test.loc[k,'Machinefailure']==1):\n",
    "            true_positive_indexes.append(k)\n",
    "            i=i+1;\n",
    "\n",
    "    #Find the observations that the selected model correctly predicted as faulty based on the previous indexes\n",
    "    true_positive_observations = pd.DataFrame()\n",
    "    for k in range(0,len(true_positive_indexes)):\n",
    "        new_row = pd.concat([original_X_test.loc[true_positive_indexes[k],:],y_test.loc[true_positive_indexes[k],:]], axis=0)\n",
    "        true_positive_observations = true_positive_observations.append(new_row, ignore_index=True)\n",
    "    \n",
    "    if not true_positive_observations.empty:\n",
    "        \n",
    "        #Append in lists\n",
    "        acc_folds_best_estimator_xgb.append(accuracy_xgb)\n",
    "        kappa_folds_best_estimator_xgb.append(cohen_score_xgb)\n",
    "        auc_folds_best_estimator_xgb.append(auc_xgb)\n",
    "        \n",
    "    \n",
    "        true_positive_observations_with_failure_modes = pd.DataFrame()\n",
    "        true_positive_observations_with_failure_modes = ai4i2020_encoded_balanced.join(true_positive_observations.set_index(['Type', 'AirtemperatureK', 'ProcesstemperatureK', 'Rotationalspeedrpm', 'TorqueNm', 'Toolwearmin', 'Machinefailure']), ['Type', 'AirtemperatureK', 'ProcesstemperatureK', 'Rotationalspeedrpm', 'TorqueNm', 'Toolwearmin', 'Machinefailure'], how='right')       \n",
    "        final_true_positive_observations_with_failure_modes = true_positive_observations_with_failure_modes.reset_index(drop=True)\n",
    "    \n",
    "        #display(\"Number of true positive predictions: \" + str(len(final_true_positive_observations_with_failure_modes)))\n",
    "\n",
    "        number_of_TWF_failures_in_true_positive_predictions = 0\n",
    "        number_of_HDF_failures_in_true_positive_predictions = 0\n",
    "        number_of_PWF_failures_in_true_positive_predictions = 0\n",
    "        number_of_OSF_failures_in_true_positive_predictions = 0\n",
    "        number_of_random_failures_in_true_positive_predictions=0\n",
    "\n",
    "        for k in range(0,len(final_true_positive_observations_with_failure_modes)):\n",
    "            if final_true_positive_observations_with_failure_modes.loc[k,\"TWF\"]==1: #if the failure mode is TWF\n",
    "                number_of_TWF_failures_in_true_positive_predictions = number_of_TWF_failures_in_true_positive_predictions + 1;\n",
    "            if final_true_positive_observations_with_failure_modes.loc[k,\"HDF\"]==1: #if the failure mode is HDF\n",
    "                number_of_HDF_failures_in_true_positive_predictions = number_of_HDF_failures_in_true_positive_predictions + 1;\n",
    "            if final_true_positive_observations_with_failure_modes.loc[k,\"PWF\"]==1: #if the failure mode is PWF\n",
    "                number_of_PWF_failures_in_true_positive_predictions = number_of_PWF_failures_in_true_positive_predictions + 1;\n",
    "            if final_true_positive_observations_with_failure_modes.loc[k,\"OSF\"]==1: #if the failure mode is OSF\n",
    "                number_of_OSF_failures_in_true_positive_predictions = number_of_OSF_failures_in_true_positive_predictions + 1;\n",
    "            if (final_true_positive_observations_with_failure_modes.loc[k,\"Machinefailure\"]==1) and (final_true_positive_observations_with_failure_modes.loc[k,\"TWF\"]==0) and (final_true_positive_observations_with_failure_modes.loc[k,\"HDF\"]==0) and (final_true_positive_observations_with_failure_modes.loc[k,\"PWF\"]==0) and (final_true_positive_observations_with_failure_modes.loc[k,\"OSF\"]==0) and (final_true_positive_observations_with_failure_modes.loc[k,\"RNF\"]==0):\n",
    "                number_of_random_failures_in_true_positive_predictions = number_of_random_failures_in_true_positive_predictions+1;\n",
    "        \n",
    "        #Local Explanations\n",
    "        explainer = ClassifierExplainer(rnd_search_XG.best_estimator_.fit(X_train, y_train.values.ravel()), X_test, y_test)\n",
    "        \n",
    "        # load JS visualization code to notebook\n",
    "        shap.initjs()\n",
    "\n",
    "        #Shap values for each observation in the test dataset\n",
    "        shap_values = explainer.get_shap_values_df(1)\n",
    "          \n",
    "        #Calculate the correct explanations\n",
    "        correct_explanations = 0\n",
    "        correct_explanations_TWF = 0\n",
    "        correct_explanations_HDF = 0\n",
    "        correct_explanations_PWF = 0\n",
    "        correct_explanations_OSF = 0\n",
    "\n",
    "        for k in range(0,len(true_positive_observations)):\n",
    "            #if the failure mode is TWF\n",
    "            if final_true_positive_observations_with_failure_modes.loc[k,\"TWF\"]==1:\n",
    "                #if tool wear is the most important feature\n",
    "                if shap_values.loc[true_positive_indexes[k],\"Toolwearmin\"] == max(shap_values.loc[true_positive_indexes[k],:]):\n",
    "                    correct_explanations = correct_explanations+1;\n",
    "                    correct_explanations_TWF = correct_explanations_TWF + 1;\n",
    "                \n",
    "            #if the failure mode is HDF\n",
    "            if final_true_positive_observations_with_failure_modes.loc[k,\"HDF\"]==1: \n",
    "                maximum1 = max(shap_values.loc[true_positive_indexes[k],:]) \n",
    "                maximum2 = max(shap_values.loc[true_positive_indexes[k],:], key = lambda x: min(shap_values.loc[true_positive_indexes[k],:])-1 if (x == maximum1) else x)\n",
    "                if (shap_values.loc[true_positive_indexes[k],\"AirtemperatureK\"] == maximum1) or (shap_values.loc[true_positive_indexes[k],\"AirtemperatureK\"] == maximum2) or (shap_values.loc[true_positive_indexes[k],\"ProcesstemperatureK\"] == maximum1) or (shap_values.loc[true_positive_indexes[k],\"ProcesstemperatureK\"] == maximum2):\n",
    "                    correct_explanations = correct_explanations+1;\n",
    "                    correct_explanations_HDF = correct_explanations_HDF + 1;\n",
    "            \n",
    "            \n",
    "            #if the failure mode is PWF\n",
    "            if final_true_positive_observations_with_failure_modes.loc[k,\"PWF\"]==1: \n",
    "                maximum1 = max(shap_values.loc[true_positive_indexes[k],:]) \n",
    "                maximum2 = max(shap_values.loc[true_positive_indexes[k],:], key = lambda x: min(shap_values.loc[true_positive_indexes[k],:])-1 if (x == maximum1) else x)\n",
    "                if (shap_values.loc[true_positive_indexes[k],\"Rotationalspeedrpm\"] == maximum1) or (shap_values.loc[true_positive_indexes[k],\"Rotationalspeedrpm\"] == maximum2) or (shap_values.loc[true_positive_indexes[k],\"TorqueNm\"] == maximum1) or (shap_values.loc[true_positive_indexes[k],\"TorqueNm\"] == maximum2):\n",
    "                    correct_explanations = correct_explanations+1;\n",
    "                    correct_explanations_PWF = correct_explanations_PWF + 1;\n",
    "            \n",
    "            #if the failure mode is OSF        \n",
    "            if final_true_positive_observations_with_failure_modes.loc[k,\"OSF\"]==1:\n",
    "                maximum1 = max(shap_values.loc[true_positive_indexes[k],:]) \n",
    "                maximum2 = max(shap_values.loc[true_positive_indexes[k],:], key = lambda x: min(shap_values.loc[true_positive_indexes[k],:])-1 if (x == maximum1) else x)\n",
    "                if (shap_values.loc[true_positive_indexes[k],\"Toolwearmin\"] == maximum1) or (shap_values.loc[true_positive_indexes[k],\"Toolwearmin\"] == maximum2) or (shap_values.loc[true_positive_indexes[k],\"TorqueNm\"] == maximum1) or (shap_values.loc[true_positive_indexes[k],\"TorqueNm\"] == maximum2):\n",
    "                    correct_explanations = correct_explanations+1;\n",
    "                    correct_explanations_OSF = correct_explanations_OSF + 1;\n",
    "        \n",
    "        denominator = 0\n",
    "        \n",
    "        if number_of_TWF_failures_in_true_positive_predictions != 0:\n",
    "            twf_folds_best_estimator_xgb.append(correct_explanations_TWF/number_of_TWF_failures_in_true_positive_predictions)\n",
    "            twf_success = correct_explanations_TWF/number_of_TWF_failures_in_true_positive_predictions\n",
    "            denominator = denominator + 1\n",
    "        else:\n",
    "            twf_folds_best_estimator_xgb.append(correct_explanations_TWF)\n",
    "            twf_success = 0\n",
    "        if number_of_HDF_failures_in_true_positive_predictions != 0:\n",
    "            hdf_folds_best_estimator_xgb.append(correct_explanations_HDF/number_of_HDF_failures_in_true_positive_predictions)\n",
    "            hdf_success = correct_explanations_HDF/number_of_HDF_failures_in_true_positive_predictions\n",
    "            denominator = denominator + 1\n",
    "        else:\n",
    "            hdf_folds_best_estimator_xgb.append(correct_explanations_HDF)\n",
    "            hdf_success = 0\n",
    "        if number_of_PWF_failures_in_true_positive_predictions != 0:\n",
    "            pwf_folds_best_estimator_xgb.append(correct_explanations_PWF/number_of_PWF_failures_in_true_positive_predictions)\n",
    "            pwf_success = correct_explanations_PWF/number_of_PWF_failures_in_true_positive_predictions\n",
    "            denominator = denominator + 1\n",
    "        else:\n",
    "            pwf_folds_best_estimator_xgb.append(correct_explanations_PWF)\n",
    "            pwf_success = 0\n",
    "        if number_of_OSF_failures_in_true_positive_predictions != 0:\n",
    "            osf_folds_best_estimator_xgb.append(correct_explanations_OSF/number_of_OSF_failures_in_true_positive_predictions)\n",
    "            osf_success = correct_explanations_OSF/number_of_OSF_failures_in_true_positive_predictions\n",
    "            denominator = denominator + 1\n",
    "        else:\n",
    "            osf_folds_best_estimator_xgb.append(correct_explanations_OSF)\n",
    "            osf_success = 0\n",
    "    \n",
    "        average_success = (twf_success+hdf_success+pwf_success+osf_success)/denominator\n",
    "        av_folds_best_estimator_xgb.append(average_success)\n",
    "        fold_list_xgb.append(fold)\n",
    "\n",
    "result_df_best_estimator_xgb = pd.DataFrame({'Accuracy': acc_folds_best_estimator_xgb, 'AUC': auc_folds_best_estimator_xgb, 'Kappa':kappa_folds_best_estimator_xgb, 'TWF':twf_folds_best_estimator_xgb, 'HDF':hdf_folds_best_estimator_xgb, 'PWF':pwf_folds_best_estimator_xgb, 'OSF':osf_folds_best_estimator_xgb, 'Average Success':av_folds_best_estimator_xgb, 'Folds':fold_list_xgb})\n"
   ]
  },
  {
   "cell_type": "code",
   "execution_count": null,
   "metadata": {},
   "outputs": [],
   "source": [
    "result_df_best_estimator_xgb"
   ]
  },
  {
   "cell_type": "markdown",
   "metadata": {},
   "source": [
    "## RIPPER "
   ]
  },
  {
   "cell_type": "code",
   "execution_count": null,
   "metadata": {},
   "outputs": [],
   "source": [
    "acc_folds_best_estimator_ripper = []\n",
    "auc_folds_best_estimator_ripper = []\n",
    "kappa_folds_best_estimator_ripper = []\n",
    "twf_folds_best_estimator_ripper = []\n",
    "hdf_folds_best_estimator_ripper = []\n",
    "pwf_folds_best_estimator_ripper = []\n",
    "osf_folds_best_estimator_ripper = []\n",
    "av_folds_best_estimator_ripper = []\n",
    "fold_list_ripper = []\n",
    "\n",
    "\n",
    "for fold in range(1,11):\n",
    "    \n",
    "    display(\"Fold #\"+str(fold))\n",
    "    \n",
    "    #Dataset for each fold\n",
    "    ai4i2020_encoded_balanced = ai4i2020_encoded_balanced.rename(columns = lambda x:re.sub('[^A-Za-z0-9_]+', '', x))\n",
    "    original_X_train = pd.read_csv('..\\\\..\\\\dataset\\\\k-fold cross validation datasets\\\\' + str(fold) + \"\\\\Training Dataset\" + \"\\\\X_train_iter_\" + str(fold) + \".csv\")\n",
    "    original_X_test = pd.read_csv('..\\\\..\\\\dataset\\\\k-fold cross validation datasets\\\\' + str(fold) + \"\\\\Test Dataset\" + \"\\\\X_test_iter_\" + str(fold) + \".csv\")\n",
    "\n",
    "    X_train = pd.read_csv('..\\\\..\\\\dataset\\\\k-fold cross validation datasets\\\\' + str(fold) + \"\\\\Training Dataset\" + \"\\\\Scaled_X_train_iter_\" + str(fold) + \".csv\", names=['Type', 'Air temperature [K]', 'Process temperature [K]', 'Rotational speed [rpm]', 'Torque [Nm]', 'Tool wear [min]'])\n",
    "    y_train = pd.read_csv('..\\\\..\\\\dataset\\\\k-fold cross validation datasets\\\\' + str(fold) + \"\\\\Training Dataset\" + \"\\\\y_train_iter_\" + str(fold) + \".csv\")\n",
    "    X_test = pd.read_csv('..\\\\..\\\\dataset\\\\k-fold cross validation datasets\\\\' + str(fold) + \"\\\\Test Dataset\" + \"\\\\Scaled_X_test_iter_\" + str(fold) + \".csv\", names=['Type', 'Air temperature [K]', 'Process temperature [K]', 'Rotational speed [rpm]', 'Torque [Nm]', 'Tool wear [min]'])\n",
    "    y_test = pd.read_csv('..\\\\..\\\\dataset\\\\k-fold cross validation datasets\\\\' + str(fold) + \"\\\\Test Dataset\" + \"\\\\y_test_iter_\" + str(fold) + \".csv\")\n",
    "    \n",
    "    original_X_train = original_X_train.rename(columns = lambda x:re.sub('[^A-Za-z0-9_]+', '', x))\n",
    "    original_X_test = original_X_test.rename(columns = lambda x:re.sub('[^A-Za-z0-9_]+', '', x))\n",
    "    X_train = X_train.rename(columns = lambda x:re.sub('[^A-Za-z0-9_]+', '', x))\n",
    "    X_test = X_test.rename(columns = lambda x:re.sub('[^A-Za-z0-9_]+', '', x))\n",
    "    y_train = y_train.rename(columns = lambda x:re.sub('[^A-Za-z0-9_]+', '', x))\n",
    "    y_test = y_test.rename(columns = lambda x:re.sub('[^A-Za-z0-9_]+', '', x))\n",
    "    \n",
    "    regex = re.compile(r\"\\[|\\]|<\", re.IGNORECASE)\n",
    "    X_train.columns = [regex.sub(\"_\", col) if any(x in str(col) for x in set(('[', ']', '<'))) else col for col in X_train.columns.values]\n",
    "    X_test.columns = [regex.sub(\"_\", col) if any(x in str(col) for x in set(('[', ']', '<'))) else col for col in X_test.columns.values]\n",
    "    \n",
    "    #Build the Classifier\n",
    "    \n",
    "    grid_ripper.best_estimator_.fit(X_train, y_train.values.ravel())\n",
    "    \n",
    "    #Predictions for the test set\n",
    "    y_test_pred_ripper = grid_ripper.best_estimator_.predict(X_test)\n",
    "    \n",
    "    \n",
    "    #Evaluation metrics for the test dataset\n",
    "    accuracy_ripper = grid_ripper.best_estimator_.score(X_test,  y_test.values.ravel())\n",
    "    cohen_score_ripper = cohen_kappa_score(y_test, y_test_pred_ripper)\n",
    "    auc_ripper = metrics.roc_auc_score(y_test, y_test_pred_ripper)\n",
    "    \n",
    "    \n",
    "    #Find the observations' indexes that the model correctly predicted as faulty\n",
    "    true_positive_indexes = []\n",
    "    i=1;\n",
    "\n",
    "    #According to the chosen model\n",
    "    #For example, y_test_pred_lgbmc for LGBM Classifier\n",
    "    for k in range(0,len(y_test)):\n",
    "        if (y_test.loc[k,'Machinefailure']==int(y_test_pred_ripper[k])) and (y_test.loc[k,'Machinefailure']==1):\n",
    "            true_positive_indexes.append(k)\n",
    "            i=i+1;\n",
    "\n",
    "    #Find the observations that the selected model correctly predicted as faulty based on the previous indexes\n",
    "    true_positive_observations = pd.DataFrame()\n",
    "    for k in range(0,len(true_positive_indexes)):\n",
    "        new_row = pd.concat([original_X_test.loc[true_positive_indexes[k],:],y_test.loc[true_positive_indexes[k],:]], axis=0)\n",
    "        true_positive_observations = true_positive_observations.append(new_row, ignore_index=True)\n",
    "    \n",
    "    if not true_positive_observations.empty:\n",
    "        \n",
    "        #Append in lists\n",
    "        acc_folds_best_estimator_ripper.append(accuracy_ripper)\n",
    "        kappa_folds_best_estimator_ripper.append(cohen_score_ripper)\n",
    "        auc_folds_best_estimator_ripper.append(auc_ripper)\n",
    "        \n",
    "    \n",
    "        true_positive_observations_with_failure_modes = pd.DataFrame()\n",
    "        true_positive_observations_with_failure_modes = ai4i2020_encoded_balanced.join(true_positive_observations.set_index(['Type', 'AirtemperatureK', 'ProcesstemperatureK', 'Rotationalspeedrpm', 'TorqueNm', 'Toolwearmin', 'Machinefailure']), ['Type', 'AirtemperatureK', 'ProcesstemperatureK', 'Rotationalspeedrpm', 'TorqueNm', 'Toolwearmin', 'Machinefailure'], how='right')       \n",
    "        final_true_positive_observations_with_failure_modes = true_positive_observations_with_failure_modes.reset_index(drop=True)\n",
    "    \n",
    "        #display(\"Number of true positive predictions: \" + str(len(final_true_positive_observations_with_failure_modes)))\n",
    "\n",
    "        number_of_TWF_failures_in_true_positive_predictions = 0\n",
    "        number_of_HDF_failures_in_true_positive_predictions = 0\n",
    "        number_of_PWF_failures_in_true_positive_predictions = 0\n",
    "        number_of_OSF_failures_in_true_positive_predictions = 0\n",
    "        number_of_random_failures_in_true_positive_predictions=0\n",
    "\n",
    "        for k in range(0,len(final_true_positive_observations_with_failure_modes)):\n",
    "            if final_true_positive_observations_with_failure_modes.loc[k,\"TWF\"]==1: #if the failure mode is TWF\n",
    "                number_of_TWF_failures_in_true_positive_predictions = number_of_TWF_failures_in_true_positive_predictions + 1;\n",
    "            if final_true_positive_observations_with_failure_modes.loc[k,\"HDF\"]==1: #if the failure mode is HDF\n",
    "                number_of_HDF_failures_in_true_positive_predictions = number_of_HDF_failures_in_true_positive_predictions + 1;\n",
    "            if final_true_positive_observations_with_failure_modes.loc[k,\"PWF\"]==1: #if the failure mode is PWF\n",
    "                number_of_PWF_failures_in_true_positive_predictions = number_of_PWF_failures_in_true_positive_predictions + 1;\n",
    "            if final_true_positive_observations_with_failure_modes.loc[k,\"OSF\"]==1: #if the failure mode is OSF\n",
    "                number_of_OSF_failures_in_true_positive_predictions = number_of_OSF_failures_in_true_positive_predictions + 1;\n",
    "            if (final_true_positive_observations_with_failure_modes.loc[k,\"Machinefailure\"]==1) and (final_true_positive_observations_with_failure_modes.loc[k,\"TWF\"]==0) and (final_true_positive_observations_with_failure_modes.loc[k,\"HDF\"]==0) and (final_true_positive_observations_with_failure_modes.loc[k,\"PWF\"]==0) and (final_true_positive_observations_with_failure_modes.loc[k,\"OSF\"]==0) and (final_true_positive_observations_with_failure_modes.loc[k,\"RNF\"]==0):\n",
    "                number_of_random_failures_in_true_positive_predictions = number_of_random_failures_in_true_positive_predictions+1;\n",
    "\n",
    "result_df_best_estimator_ripper = pd.DataFrame({'Accuracy': acc_folds_best_estimator_ripper, 'AUC': auc_folds_best_estimator_ripper, 'Kappa':kappa_folds_best_estimator_ripper})\n"
   ]
  },
  {
   "cell_type": "code",
   "execution_count": null,
   "metadata": {
    "scrolled": true
   },
   "outputs": [],
   "source": [
    "result_df_best_estimator_ripper"
   ]
  },
  {
   "cell_type": "code",
   "execution_count": null,
   "metadata": {},
   "outputs": [],
   "source": []
  },
  {
   "cell_type": "code",
   "execution_count": null,
   "metadata": {},
   "outputs": [],
   "source": []
  }
 ],
 "metadata": {
  "kernelspec": {
   "display_name": "Python 3 (ipykernel)",
   "language": "python",
   "name": "python3"
  },
  "language_info": {
   "codemirror_mode": {
    "name": "ipython",
    "version": 3
   },
   "file_extension": ".py",
   "mimetype": "text/x-python",
   "name": "python",
   "nbconvert_exporter": "python",
   "pygments_lexer": "ipython3",
   "version": "3.10.9"
  }
 },
 "nbformat": 4,
 "nbformat_minor": 4
}

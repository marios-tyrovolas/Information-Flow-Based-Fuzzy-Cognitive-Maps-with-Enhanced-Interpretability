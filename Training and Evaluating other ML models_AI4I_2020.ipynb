{
 "cells": [
  {
   "cell_type": "code",
   "execution_count": 1,
   "metadata": {
    "scrolled": true
   },
   "outputs": [
    {
     "name": "stderr",
     "output_type": "stream",
     "text": [
      "\n",
      "[notice] A new release of pip available: 22.3 -> 22.3.1\n",
      "[notice] To update, run: python.exe -m pip install --upgrade pip\n"
     ]
    },
    {
     "name": "stdout",
     "output_type": "stream",
     "text": [
      "Requirement already satisfied: imbalanced-learn in c:\\programdata\\anaconda3\\lib\\site-packages (0.9.1)\n",
      "Requirement already satisfied: threadpoolctl>=2.0.0 in c:\\programdata\\anaconda3\\lib\\site-packages (from imbalanced-learn) (2.2.0)\n",
      "Requirement already satisfied: numpy>=1.17.3 in c:\\users\\marios tirovolas\\appdata\\roaming\\python\\python39\\site-packages (from imbalanced-learn) (1.20.3)\n",
      "Requirement already satisfied: scikit-learn>=1.1.0 in c:\\programdata\\anaconda3\\lib\\site-packages (from imbalanced-learn) (1.1.2)\n",
      "Requirement already satisfied: joblib>=1.0.0 in c:\\programdata\\anaconda3\\lib\\site-packages (from imbalanced-learn) (1.1.0)\n",
      "Requirement already satisfied: scipy>=1.3.2 in c:\\users\\marios tirovolas\\appdata\\roaming\\python\\python39\\site-packages (from imbalanced-learn) (1.9.3)\n",
      "Requirement already satisfied: iterative-stratification in c:\\programdata\\anaconda3\\lib\\site-packages (0.1.7)\n",
      "Requirement already satisfied: scipy in c:\\users\\marios tirovolas\\appdata\\roaming\\python\\python39\\site-packages (from iterative-stratification) (1.9.3)\n",
      "Requirement already satisfied: scikit-learn in c:\\programdata\\anaconda3\\lib\\site-packages (from iterative-stratification) (1.1.2)\n",
      "Requirement already satisfied: numpy in c:\\users\\marios tirovolas\\appdata\\roaming\\python\\python39\\site-packages (from iterative-stratification) (1.20.3)\n",
      "Requirement already satisfied: threadpoolctl>=2.0.0 in c:\\programdata\\anaconda3\\lib\\site-packages (from scikit-learn->iterative-stratification) (2.2.0)\n",
      "Requirement already satisfied: joblib>=1.0.0 in c:\\programdata\\anaconda3\\lib\\site-packages (from scikit-learn->iterative-stratification) (1.1.0)\n"
     ]
    },
    {
     "name": "stderr",
     "output_type": "stream",
     "text": [
      "\n",
      "[notice] A new release of pip available: 22.3 -> 22.3.1\n",
      "[notice] To update, run: python.exe -m pip install --upgrade pip\n"
     ]
    }
   ],
   "source": [
    "import pandas as pd\n",
    "pd.options.mode.chained_assignment = None  # default='warn'\n",
    "import re\n",
    "import numpy as np\n",
    "\n",
    "from fitter import Fitter, get_common_distributions, get_distributions\n",
    "from sklearn import preprocessing\n",
    "from sklearn.preprocessing import scale\n",
    "from sklearn.preprocessing import MinMaxScaler\n",
    "from sklearn.preprocessing import StandardScaler\n",
    "from sklearn.preprocessing import Normalizer\n",
    "from sklearn.decomposition import PCA\n",
    "from sklearn.datasets import make_friedman3, make_s_curve\n",
    "from sklearn.linear_model import BayesianRidge, ElasticNet\n",
    "from sklearn.model_selection import KFold, train_test_split\n",
    "from sklearn.model_selection import RepeatedKFold\n",
    "from sklearn.model_selection import StratifiedKFold\n",
    "from sklearn.naive_bayes import GaussianNB\n",
    "from sklearn.tree import DecisionTreeRegressor\n",
    "from sklearn.tree import DecisionTreeClassifier # Import Decision Tree Classifier\n",
    "\n",
    "!pip install imbalanced-learn\n",
    "from imblearn.over_sampling import ADASYN\n",
    "from imblearn.combine import SMOTEENN\n",
    "from imblearn.combine import SMOTETomek\n",
    "from sklearn.model_selection import cross_val_predict\n",
    "from sklearn.model_selection import cross_val_score\n",
    "from sklearn.metrics import cohen_kappa_score\n",
    "\n",
    "# for Box-Cox Transformation\n",
    "from scipy import stats\n",
    "\n",
    "# plotting modules\n",
    "import seaborn as sns\n",
    "import matplotlib.pyplot as plt\n",
    "from matplotlib.pyplot import figure\n",
    "from plotly.subplots import make_subplots\n",
    "import plotly.graph_objs as go\n",
    "import plotly.express as px\n",
    "\n",
    "from tqdm import tqdm\n",
    "import math\n",
    "\n",
    "from sklearn.datasets import make_blobs\n",
    "from matplotlib import pyplot\n",
    "from pandas import DataFrame\n",
    "\n",
    "#Multilabel Stratified K Fold Creation\n",
    "!pip install iterative-stratification\n",
    "import sys\n",
    "sys.path.append('../input/iterative-stratification/iterative-stratification-master')\n",
    "from iterstrat.ml_stratifiers import MultilabelStratifiedKFold"
   ]
  },
  {
   "cell_type": "code",
   "execution_count": 2,
   "metadata": {
    "scrolled": true
   },
   "outputs": [
    {
     "data": {
      "text/html": [
       "<div>\n",
       "<style scoped>\n",
       "    .dataframe tbody tr th:only-of-type {\n",
       "        vertical-align: middle;\n",
       "    }\n",
       "\n",
       "    .dataframe tbody tr th {\n",
       "        vertical-align: top;\n",
       "    }\n",
       "\n",
       "    .dataframe thead th {\n",
       "        text-align: right;\n",
       "    }\n",
       "</style>\n",
       "<table border=\"1\" class=\"dataframe\">\n",
       "  <thead>\n",
       "    <tr style=\"text-align: right;\">\n",
       "      <th></th>\n",
       "      <th>Type</th>\n",
       "      <th>Air temperature [K]</th>\n",
       "      <th>Process temperature [K]</th>\n",
       "      <th>Rotational speed [rpm]</th>\n",
       "      <th>Torque [Nm]</th>\n",
       "      <th>Tool wear [min]</th>\n",
       "      <th>Machine failure</th>\n",
       "      <th>TWF</th>\n",
       "      <th>HDF</th>\n",
       "      <th>PWF</th>\n",
       "      <th>OSF</th>\n",
       "      <th>RNF</th>\n",
       "    </tr>\n",
       "  </thead>\n",
       "  <tbody>\n",
       "    <tr>\n",
       "      <th>0</th>\n",
       "      <td>1</td>\n",
       "      <td>298.1</td>\n",
       "      <td>308.6</td>\n",
       "      <td>1551</td>\n",
       "      <td>42.8</td>\n",
       "      <td>0</td>\n",
       "      <td>0</td>\n",
       "      <td>0</td>\n",
       "      <td>0</td>\n",
       "      <td>0</td>\n",
       "      <td>0</td>\n",
       "      <td>0</td>\n",
       "    </tr>\n",
       "    <tr>\n",
       "      <th>1</th>\n",
       "      <td>0</td>\n",
       "      <td>298.2</td>\n",
       "      <td>308.7</td>\n",
       "      <td>1408</td>\n",
       "      <td>46.3</td>\n",
       "      <td>3</td>\n",
       "      <td>0</td>\n",
       "      <td>0</td>\n",
       "      <td>0</td>\n",
       "      <td>0</td>\n",
       "      <td>0</td>\n",
       "      <td>0</td>\n",
       "    </tr>\n",
       "    <tr>\n",
       "      <th>2</th>\n",
       "      <td>0</td>\n",
       "      <td>298.1</td>\n",
       "      <td>308.5</td>\n",
       "      <td>1498</td>\n",
       "      <td>49.4</td>\n",
       "      <td>5</td>\n",
       "      <td>0</td>\n",
       "      <td>0</td>\n",
       "      <td>0</td>\n",
       "      <td>0</td>\n",
       "      <td>0</td>\n",
       "      <td>0</td>\n",
       "    </tr>\n",
       "    <tr>\n",
       "      <th>3</th>\n",
       "      <td>0</td>\n",
       "      <td>298.2</td>\n",
       "      <td>308.6</td>\n",
       "      <td>1433</td>\n",
       "      <td>39.5</td>\n",
       "      <td>7</td>\n",
       "      <td>0</td>\n",
       "      <td>0</td>\n",
       "      <td>0</td>\n",
       "      <td>0</td>\n",
       "      <td>0</td>\n",
       "      <td>0</td>\n",
       "    </tr>\n",
       "    <tr>\n",
       "      <th>4</th>\n",
       "      <td>0</td>\n",
       "      <td>298.2</td>\n",
       "      <td>308.7</td>\n",
       "      <td>1408</td>\n",
       "      <td>40.0</td>\n",
       "      <td>9</td>\n",
       "      <td>0</td>\n",
       "      <td>0</td>\n",
       "      <td>0</td>\n",
       "      <td>0</td>\n",
       "      <td>0</td>\n",
       "      <td>0</td>\n",
       "    </tr>\n",
       "  </tbody>\n",
       "</table>\n",
       "</div>"
      ],
      "text/plain": [
       "   Type  Air temperature [K]  Process temperature [K]  Rotational speed [rpm]  \\\n",
       "0     1                298.1                    308.6                    1551   \n",
       "1     0                298.2                    308.7                    1408   \n",
       "2     0                298.1                    308.5                    1498   \n",
       "3     0                298.2                    308.6                    1433   \n",
       "4     0                298.2                    308.7                    1408   \n",
       "\n",
       "   Torque [Nm]  Tool wear [min]  Machine failure  TWF  HDF  PWF  OSF  RNF  \n",
       "0         42.8                0                0    0    0    0    0    0  \n",
       "1         46.3                3                0    0    0    0    0    0  \n",
       "2         49.4                5                0    0    0    0    0    0  \n",
       "3         39.5                7                0    0    0    0    0    0  \n",
       "4         40.0                9                0    0    0    0    0    0  "
      ]
     },
     "execution_count": 2,
     "metadata": {},
     "output_type": "execute_result"
    }
   ],
   "source": [
    "#Collect data from sensors (i.e., time-series data) installed in the manufacturing system \n",
    "ai4i2020_encoded_balanced=pd.read_csv(r'G:\\\\.shortcut-targets-by-id\\\\1-wapAl6N5YrCs68c4NiFKyvybXTXmdgZ\\\\Ph_D_Tyrovolas\\\\Our Papers\\\\3rd_Paper-Proposal\\\\Testbed Codes\\\\AI4I_Case_Study\\\\raw_data\\\\ai4i2020_encoded_balanced.csv')\n",
    "ai4i2020_encoded_balanced.head()"
   ]
  },
  {
   "cell_type": "code",
   "execution_count": 3,
   "metadata": {},
   "outputs": [],
   "source": [
    "# Run in local\n",
    "# Fold index\n",
    "fold = 1\n",
    "\n",
    "original_X_train = pd.read_csv('G:\\\\.shortcut-targets-by-id\\\\1-wapAl6N5YrCs68c4NiFKyvybXTXmdgZ\\\\Ph_D_Tyrovolas\\\\Our Papers\\\\3rd_Paper-Proposal\\\\Testbed Codes\\\\AI4I_Case_Study\\\\k-fold cross validation datasets\\\\' + str(fold) + \"\\\\Training Dataset\" + \"\\\\X_train_iter_\" + str(fold) + \".csv\")\n",
    "original_X_test = pd.read_csv('G:\\\\.shortcut-targets-by-id\\\\1-wapAl6N5YrCs68c4NiFKyvybXTXmdgZ\\\\Ph_D_Tyrovolas\\\\Our Papers\\\\3rd_Paper-Proposal\\\\Testbed Codes\\\\AI4I_Case_Study\\\\k-fold cross validation datasets\\\\' + str(fold) + \"\\\\Test Dataset\" + \"\\\\X_test_iter_\" + str(fold) + \".csv\")\n",
    "\n",
    "X_train = pd.read_csv('G:\\\\.shortcut-targets-by-id\\\\1-wapAl6N5YrCs68c4NiFKyvybXTXmdgZ\\\\Ph_D_Tyrovolas\\\\Our Papers\\\\3rd_Paper-Proposal\\\\Testbed Codes\\\\AI4I_Case_Study\\\\k-fold cross validation datasets\\\\' + str(fold) + \"\\\\Training Dataset\" + \"\\\\Scaled_X_train_iter_\" + str(fold) + \".csv\", names=['Type', 'Air temperature [K]', 'Process temperature [K]', 'Rotational speed [rpm]', 'Torque [Nm]', 'Tool wear [min]'])\n",
    "y_train = pd.read_csv('G:\\\\.shortcut-targets-by-id\\\\1-wapAl6N5YrCs68c4NiFKyvybXTXmdgZ\\\\Ph_D_Tyrovolas\\\\Our Papers\\\\3rd_Paper-Proposal\\\\Testbed Codes\\\\AI4I_Case_Study\\\\k-fold cross validation datasets\\\\' + str(fold) + \"\\\\Training Dataset\" + \"\\\\y_train_iter_\" + str(fold) + \".csv\")\n",
    "X_test = pd.read_csv('G:\\\\.shortcut-targets-by-id\\\\1-wapAl6N5YrCs68c4NiFKyvybXTXmdgZ\\\\Ph_D_Tyrovolas\\\\Our Papers\\\\3rd_Paper-Proposal\\\\Testbed Codes\\\\AI4I_Case_Study\\\\k-fold cross validation datasets\\\\' + str(fold) + \"\\\\Test Dataset\" + \"\\\\Scaled_X_test_iter_\" + str(fold) + \".csv\", names=['Type', 'Air temperature [K]', 'Process temperature [K]', 'Rotational speed [rpm]', 'Torque [Nm]', 'Tool wear [min]'])\n",
    "y_test = pd.read_csv('G:\\\\.shortcut-targets-by-id\\\\1-wapAl6N5YrCs68c4NiFKyvybXTXmdgZ\\\\Ph_D_Tyrovolas\\\\Our Papers\\\\3rd_Paper-Proposal\\\\Testbed Codes\\\\AI4I_Case_Study\\\\k-fold cross validation datasets\\\\' + str(fold) + \"\\\\Test Dataset\" + \"\\\\y_test_iter_\" + str(fold) + \".csv\")"
   ]
  },
  {
   "cell_type": "code",
   "execution_count": 4,
   "metadata": {},
   "outputs": [],
   "source": [
    "X_train = X_train.rename(columns = lambda x:re.sub('[^A-Za-z0-9_]+', '', x))\n",
    "X_test = X_test.rename(columns = lambda x:re.sub('[^A-Za-z0-9_]+', '', x))"
   ]
  },
  {
   "cell_type": "code",
   "execution_count": 5,
   "metadata": {},
   "outputs": [],
   "source": [
    "acc_list = []\n",
    "auc_list = []\n",
    "kappa_list = []"
   ]
  },
  {
   "cell_type": "markdown",
   "metadata": {},
   "source": [
    "## Fuzzy Cognitive Map"
   ]
  },
  {
   "cell_type": "code",
   "execution_count": 6,
   "metadata": {},
   "outputs": [],
   "source": [
    "from numpy import genfromtxt\n",
    "y_train_pred_fcm = genfromtxt(r'G:\\\\.shortcut-targets-by-id\\\\1-wapAl6N5YrCs68c4NiFKyvybXTXmdgZ\\\\Ph_D_Tyrovolas\\\\Our Papers\\\\3rd_Paper-Proposal\\\\Testbed Codes\\\\AI4I_Case_Study\\\\k-fold cross validation datasets\\\\' + str(fold) + \"\\\\Training Dataset\" + \"\\\\y_train_pred_fcm.csv\", delimiter=',')\n",
    "y_test_pred_fcm = genfromtxt(r'G:\\\\.shortcut-targets-by-id\\\\1-wapAl6N5YrCs68c4NiFKyvybXTXmdgZ\\\\Ph_D_Tyrovolas\\\\Our Papers\\\\3rd_Paper-Proposal\\\\Testbed Codes\\\\AI4I_Case_Study\\\\k-fold cross validation datasets\\\\' + str(fold) + \"\\\\Test Dataset\" + \"\\\\y_test_pred_fcm.csv\", delimiter=',')\n",
    "fcm_pred_class_train = genfromtxt(r'G:\\\\.shortcut-targets-by-id\\\\1-wapAl6N5YrCs68c4NiFKyvybXTXmdgZ\\\\Ph_D_Tyrovolas\\\\Our Papers\\\\3rd_Paper-Proposal\\\\Testbed Codes\\\\AI4I_Case_Study\\\\k-fold cross validation datasets\\\\' + str(fold) + \"\\\\Training Dataset\" + \"\\\\fcm_pred_class_train.csv\", delimiter=',')\n",
    "fcm_pred_class_test = genfromtxt(r'G:\\\\.shortcut-targets-by-id\\\\1-wapAl6N5YrCs68c4NiFKyvybXTXmdgZ\\\\Ph_D_Tyrovolas\\\\Our Papers\\\\3rd_Paper-Proposal\\\\Testbed Codes\\\\AI4I_Case_Study\\\\k-fold cross validation datasets\\\\' + str(fold) + \"\\\\Test Dataset\" + \"\\\\fcm_pred_class_test.csv\", delimiter=',')"
   ]
  },
  {
   "cell_type": "code",
   "execution_count": 7,
   "metadata": {},
   "outputs": [
    {
     "data": {
      "text/plain": [
       "<AxesSubplot:>"
      ]
     },
     "execution_count": 7,
     "metadata": {},
     "output_type": "execute_result"
    },
    {
     "data": {
      "image/png": "[encoded data removed]",
      "text/plain": [
       "<Figure size 432x288 with 2 Axes>"
      ]
     },
     "metadata": {
      "needs_background": "light"
     },
     "output_type": "display_data"
    }
   ],
   "source": [
    "from sklearn.metrics import confusion_matrix\n",
    "\n",
    "confusion_matrix(y_train, fcm_pred_class_train)\n",
    "sns.heatmap(confusion_matrix(y_train, fcm_pred_class_train), annot=True,fmt='d')"
   ]
  },
  {
   "cell_type": "code",
   "execution_count": 8,
   "metadata": {},
   "outputs": [
    {
     "name": "stdout",
     "output_type": "stream",
     "text": [
      "Precision Score:  0.8919576416714368\n",
      "Recall Score:  0.7561567390513163\n",
      "F1 Score:  0.8184623465301032\n",
      "Accuracy Score:  0.8245112972835745\n"
     ]
    }
   ],
   "source": [
    "#Performance measures for training dataset\n",
    "\n",
    "from sklearn.metrics import precision_score, recall_score,f1_score,accuracy_score\n",
    "print(\"Precision Score: \",precision_score(y_train,fcm_pred_class_train))\n",
    "print(\"Recall Score: \",recall_score(y_train, fcm_pred_class_train))\n",
    "print(\"F1 Score: \",f1_score(y_train, fcm_pred_class_train))\n",
    "print(\"Accuracy Score: \",accuracy_score(y_train, fcm_pred_class_train))"
   ]
  },
  {
   "cell_type": "markdown",
   "metadata": {},
   "source": [
    "#### Evaluating on Test set "
   ]
  },
  {
   "cell_type": "code",
   "execution_count": 9,
   "metadata": {},
   "outputs": [
    {
     "name": "stdout",
     "output_type": "stream",
     "text": [
      "Precision Score:  0.8835534213685474\n",
      "Recall Score:  0.8034934497816594\n",
      "F1 Score:  0.8416237850200115\n",
      "Accuracy Score:  0.8418046830382638\n"
     ]
    }
   ],
   "source": [
    "from sklearn.metrics import precision_score, recall_score,f1_score,accuracy_score\n",
    "\n",
    "print(\"Precision Score: \",precision_score(y_test, fcm_pred_class_test))\n",
    "print(\"Recall Score: \",recall_score(y_test, fcm_pred_class_test))\n",
    "print(\"F1 Score: \",f1_score(y_test, fcm_pred_class_test))\n",
    "print(\"Accuracy Score: \",accuracy_score(y_test, fcm_pred_class_test))"
   ]
  },
  {
   "cell_type": "code",
   "execution_count": 10,
   "metadata": {
    "scrolled": true
   },
   "outputs": [
    {
     "name": "stdout",
     "output_type": "stream",
     "text": [
      "0.8755667703893523\n"
     ]
    }
   ],
   "source": [
    "#calculate AUC of model\n",
    "from sklearn import metrics\n",
    "auc_fcm = metrics.roc_auc_score(y_test, y_test_pred_fcm)\n",
    "print(auc_fcm)"
   ]
  },
  {
   "cell_type": "code",
   "execution_count": 11,
   "metadata": {},
   "outputs": [
    {
     "data": {
      "text/plain": [
       "0.6843182597727349"
      ]
     },
     "execution_count": 11,
     "metadata": {},
     "output_type": "execute_result"
    }
   ],
   "source": [
    "cohen_score_fcm = cohen_kappa_score(y_test, fcm_pred_class_test)\n",
    "cohen_score_fcm"
   ]
  },
  {
   "cell_type": "code",
   "execution_count": 12,
   "metadata": {},
   "outputs": [],
   "source": [
    "acc_list.append(metrics.accuracy_score(y_test, fcm_pred_class_test))\n",
    "auc_list.append(auc_fcm)\n",
    "kappa_list.append(cohen_score_fcm)"
   ]
  },
  {
   "cell_type": "markdown",
   "metadata": {},
   "source": [
    "## LightGBM"
   ]
  },
  {
   "cell_type": "code",
   "execution_count": 13,
   "metadata": {},
   "outputs": [
    {
     "data": {
      "text/html": [
       "<style>#sk-container-id-1 {color: black;background-color: white;}#sk-container-id-1 pre{padding: 0;}#sk-container-id-1 div.sk-toggleable {background-color: white;}#sk-container-id-1 label.sk-toggleable__label {cursor: pointer;display: block;width: 100%;margin-bottom: 0;padding: 0.3em;box-sizing: border-box;text-align: center;}#sk-container-id-1 label.sk-toggleable__label-arrow:before {content: \"▸\";float: left;margin-right: 0.25em;color: #696969;}#sk-container-id-1 label.sk-toggleable__label-arrow:hover:before {color: black;}#sk-container-id-1 div.sk-estimator:hover label.sk-toggleable__label-arrow:before {color: black;}#sk-container-id-1 div.sk-toggleable__content {max-height: 0;max-width: 0;overflow: hidden;text-align: left;background-color: #f0f8ff;}#sk-container-id-1 div.sk-toggleable__content pre {margin: 0.2em;color: black;border-radius: 0.25em;background-color: #f0f8ff;}#sk-container-id-1 input.sk-toggleable__control:checked~div.sk-toggleable__content {max-height: 200px;max-width: 100%;overflow: auto;}#sk-container-id-1 input.sk-toggleable__control:checked~label.sk-toggleable__label-arrow:before {content: \"▾\";}#sk-container-id-1 div.sk-estimator input.sk-toggleable__control:checked~label.sk-toggleable__label {background-color: #d4ebff;}#sk-container-id-1 div.sk-label input.sk-toggleable__control:checked~label.sk-toggleable__label {background-color: #d4ebff;}#sk-container-id-1 input.sk-hidden--visually {border: 0;clip: rect(1px 1px 1px 1px);clip: rect(1px, 1px, 1px, 1px);height: 1px;margin: -1px;overflow: hidden;padding: 0;position: absolute;width: 1px;}#sk-container-id-1 div.sk-estimator {font-family: monospace;background-color: #f0f8ff;border: 1px dotted black;border-radius: 0.25em;box-sizing: border-box;margin-bottom: 0.5em;}#sk-container-id-1 div.sk-estimator:hover {background-color: #d4ebff;}#sk-container-id-1 div.sk-parallel-item::after {content: \"\";width: 100%;border-bottom: 1px solid gray;flex-grow: 1;}#sk-container-id-1 div.sk-label:hover label.sk-toggleable__label {background-color: #d4ebff;}#sk-container-id-1 div.sk-serial::before {content: \"\";position: absolute;border-left: 1px solid gray;box-sizing: border-box;top: 0;bottom: 0;left: 50%;z-index: 0;}#sk-container-id-1 div.sk-serial {display: flex;flex-direction: column;align-items: center;background-color: white;padding-right: 0.2em;padding-left: 0.2em;position: relative;}#sk-container-id-1 div.sk-item {position: relative;z-index: 1;}#sk-container-id-1 div.sk-parallel {display: flex;align-items: stretch;justify-content: center;background-color: white;position: relative;}#sk-container-id-1 div.sk-item::before, #sk-container-id-1 div.sk-parallel-item::before {content: \"\";position: absolute;border-left: 1px solid gray;box-sizing: border-box;top: 0;bottom: 0;left: 50%;z-index: -1;}#sk-container-id-1 div.sk-parallel-item {display: flex;flex-direction: column;z-index: 1;position: relative;background-color: white;}#sk-container-id-1 div.sk-parallel-item:first-child::after {align-self: flex-end;width: 50%;}#sk-container-id-1 div.sk-parallel-item:last-child::after {align-self: flex-start;width: 50%;}#sk-container-id-1 div.sk-parallel-item:only-child::after {width: 0;}#sk-container-id-1 div.sk-dashed-wrapped {border: 1px dashed gray;margin: 0 0.4em 0.5em 0.4em;box-sizing: border-box;padding-bottom: 0.4em;background-color: white;}#sk-container-id-1 div.sk-label label {font-family: monospace;font-weight: bold;display: inline-block;line-height: 1.2em;}#sk-container-id-1 div.sk-label-container {text-align: center;}#sk-container-id-1 div.sk-container {/* jupyter's `normalize.less` sets `[hidden] { display: none; }` but bootstrap.min.css set `[hidden] { display: none !important; }` so we also need the `!important` here to be able to override the default hidden behavior on the sphinx rendered scikit-learn.org. See: https://github.com/scikit-learn/scikit-learn/issues/21755 */display: inline-block !important;position: relative;}#sk-container-id-1 div.sk-text-repr-fallback {display: none;}</style><div id=\"sk-container-id-1\" class=\"sk-top-container\"><div class=\"sk-text-repr-fallback\"><pre>LGBMClassifier()</pre><b>In a Jupyter environment, please rerun this cell to show the HTML representation or trust the notebook. <br />On GitHub, the HTML representation is unable to render, please try loading this page with nbviewer.org.</b></div><div class=\"sk-container\" hidden><div class=\"sk-item\"><div class=\"sk-estimator sk-toggleable\"><input class=\"sk-toggleable__control sk-hidden--visually\" id=\"sk-estimator-id-1\" type=\"checkbox\" checked><label for=\"sk-estimator-id-1\" class=\"sk-toggleable__label sk-toggleable__label-arrow\">LGBMClassifier</label><div class=\"sk-toggleable__content\"><pre>LGBMClassifier()</pre></div></div></div></div></div>"
      ],
      "text/plain": [
       "LGBMClassifier()"
      ]
     },
     "execution_count": 13,
     "metadata": {},
     "output_type": "execute_result"
    }
   ],
   "source": [
    "# build the lightgbm model\n",
    "import lightgbm as lgb\n",
    "lgbmc_clf = lgb.LGBMClassifier()\n",
    "lgbmc_clf.fit(X_train, y_train.values.ravel())"
   ]
  },
  {
   "cell_type": "code",
   "execution_count": 14,
   "metadata": {},
   "outputs": [
    {
     "name": "stdout",
     "output_type": "stream",
     "text": [
      "LightGBM Classifier score:  0.9996826605737497\n"
     ]
    }
   ],
   "source": [
    "#Predict the response for train dataset\n",
    "y_train_pred_lgbmc = lgbmc_clf.predict(X_train)\n",
    "\n",
    "print(\"LightGBM Classifier score: \",lgbmc_clf.score(X_train, y_train))"
   ]
  },
  {
   "cell_type": "code",
   "execution_count": 15,
   "metadata": {
    "scrolled": false
   },
   "outputs": [
    {
     "data": {
      "text/plain": [
       "<AxesSubplot:>"
      ]
     },
     "execution_count": 15,
     "metadata": {},
     "output_type": "execute_result"
    },
    {
     "data": {
      "image/png": "[encoded data removed]",
      "text/plain": [
       "<Figure size 432x288 with 2 Axes>"
      ]
     },
     "metadata": {
      "needs_background": "light"
     },
     "output_type": "display_data"
    }
   ],
   "source": [
    "from sklearn.metrics import confusion_matrix\n",
    "\n",
    "confusion_matrix(y_train, y_train_pred_lgbmc)\n",
    "sns.heatmap(confusion_matrix(y_train, y_train_pred_lgbmc), annot=True,fmt='d')"
   ]
  },
  {
   "cell_type": "code",
   "execution_count": 16,
   "metadata": {},
   "outputs": [
    {
     "name": "stdout",
     "output_type": "stream",
     "text": [
      "Precision Score:  0.9996360989810772\n",
      "Recall Score:  0.9997573698896033\n",
      "F1 Score:  0.9996967307575666\n",
      "Accuracy Score:  0.9996826605737497\n"
     ]
    }
   ],
   "source": [
    "#Performance measures for training dataset\n",
    "\n",
    "from sklearn.metrics import precision_score, recall_score,f1_score,accuracy_score\n",
    "print(\"Precision Score: \",precision_score(y_train,y_train_pred_lgbmc))\n",
    "print(\"Recall Score: \",recall_score(y_train, y_train_pred_lgbmc))\n",
    "print(\"F1 Score: \",f1_score(y_train, y_train_pred_lgbmc))\n",
    "print(\"Accuracy Score: \",accuracy_score(y_train, y_train_pred_lgbmc))"
   ]
  },
  {
   "cell_type": "markdown",
   "metadata": {},
   "source": [
    "#### Evaluating on Test set "
   ]
  },
  {
   "cell_type": "code",
   "execution_count": 17,
   "metadata": {},
   "outputs": [
    {
     "name": "stdout",
     "output_type": "stream",
     "text": [
      "Precision Score:  0.9859154929577465\n",
      "Recall Score:  0.9934497816593887\n",
      "F1 Score:  0.9896682979880369\n",
      "Accuracy Score:  0.989149057681325\n"
     ]
    }
   ],
   "source": [
    "from sklearn.metrics import precision_score, recall_score,f1_score,accuracy_score\n",
    "\n",
    "#Predict the response for test dataset\n",
    "y_test_pred_lgbmc = lgbmc_clf.predict(X_test)\n",
    "\n",
    "\n",
    "print(\"Precision Score: \",precision_score(y_test, y_test_pred_lgbmc))\n",
    "print(\"Recall Score: \",recall_score(y_test, y_test_pred_lgbmc))\n",
    "print(\"F1 Score: \",f1_score(y_test, y_test_pred_lgbmc))\n",
    "print(\"Accuracy Score: \",accuracy_score(y_test, y_test_pred_lgbmc))"
   ]
  },
  {
   "cell_type": "code",
   "execution_count": 18,
   "metadata": {},
   "outputs": [
    {
     "name": "stdout",
     "output_type": "stream",
     "text": [
      "0.9889404596919699\n"
     ]
    }
   ],
   "source": [
    "from sklearn import metrics\n",
    "#calculate AUC of model\n",
    "auc_lgbmc = metrics.roc_auc_score(y_test, y_test_pred_lgbmc)\n",
    "print(auc_lgbmc)"
   ]
  },
  {
   "cell_type": "code",
   "execution_count": 19,
   "metadata": {},
   "outputs": [],
   "source": [
    "cohen_score_lgbmc = cohen_kappa_score(y_test, y_test_pred_lgbmc)"
   ]
  },
  {
   "cell_type": "code",
   "execution_count": 20,
   "metadata": {},
   "outputs": [],
   "source": [
    "acc_list.append(accuracy_score(y_test, y_test_pred_lgbmc))\n",
    "auc_list.append(auc_lgbmc)\n",
    "kappa_list.append(cohen_score_lgbmc)"
   ]
  },
  {
   "cell_type": "markdown",
   "metadata": {},
   "source": [
    "## RIPPER"
   ]
  },
  {
   "cell_type": "code",
   "execution_count": 21,
   "metadata": {},
   "outputs": [
    {
     "name": "stdout",
     "output_type": "stream",
     "text": [
      "Requirement already satisfied: wittgenstein in c:\\programdata\\anaconda3\\lib\\site-packages (0.3.2)\n",
      "Requirement already satisfied: numpy in c:\\users\\marios tirovolas\\appdata\\roaming\\python\\python39\\site-packages (from wittgenstein) (1.20.3)\n",
      "Requirement already satisfied: pandas in c:\\users\\marios tirovolas\\appdata\\roaming\\python\\python39\\site-packages (from wittgenstein) (1.3.3)\n",
      "Requirement already satisfied: python-dateutil>=2.7.3 in c:\\programdata\\anaconda3\\lib\\site-packages (from pandas->wittgenstein) (2.8.2)\n",
      "Requirement already satisfied: pytz>=2017.3 in c:\\programdata\\anaconda3\\lib\\site-packages (from pandas->wittgenstein) (2021.3)\n",
      "Requirement already satisfied: six>=1.5 in c:\\programdata\\anaconda3\\lib\\site-packages (from python-dateutil>=2.7.3->pandas->wittgenstein) (1.16.0)\n"
     ]
    },
    {
     "name": "stderr",
     "output_type": "stream",
     "text": [
      "\n",
      "[notice] A new release of pip available: 22.3 -> 22.3.1\n",
      "[notice] To update, run: python.exe -m pip install --upgrade pip\n"
     ]
    }
   ],
   "source": [
    "!pip install wittgenstein"
   ]
  },
  {
   "cell_type": "code",
   "execution_count": 22,
   "metadata": {},
   "outputs": [
    {
     "data": {
      "text/plain": [
       "<RIPPER(random_state=None, max_rules=None, verbosity=0, k=2, n_discretize_bins=10, max_total_conds=None, prune_size=0.33, max_rule_conds=None, dl_allowance=64) with fit ruleset>"
      ]
     },
     "execution_count": 22,
     "metadata": {},
     "output_type": "execute_result"
    }
   ],
   "source": [
    "import wittgenstein as lw\n",
    "ripper_clf = lw.RIPPER() # Or irep_clf = lw.IREP() to build a model using IREP\n",
    "ripper_clf.fit(X_train, y_train.values.ravel()) # Or pass X and y data to .fit\n",
    "ripper_clf"
   ]
  },
  {
   "cell_type": "markdown",
   "metadata": {},
   "source": [
    "The model predicts positive class if any of the inner-nested condition-combinations are all true.  The word that you will often see that indicates a union is \"or\" and intersection is \"and\""
   ]
  },
  {
   "cell_type": "code",
   "execution_count": 23,
   "metadata": {},
   "outputs": [
    {
     "name": "stdout",
     "output_type": "stream",
     "text": [
      "[[Type=0.0348969159415116 ^ TorqueNm=>0.89 ^ Toolwearmin=<0.12] V\n",
      "[Type=0.0348969159415116 ^ TorqueNm=0.8-0.89 ^ Toolwearmin=0.76-0.83] V\n",
      "[Toolwearmin=>0.86 ^ Rotationalspeedrpm=0.29-0.34] V\n",
      "[TorqueNm=>0.89 ^ Type=0.0348969159415116 ^ Toolwearmin=0.76-0.83] V\n",
      "[Type=0.0348969159415116 ^ Toolwearmin=0.83-0.86 ^ TorqueNm=0.71-0.8] V\n",
      "[TorqueNm=>0.89] V\n",
      "[TorqueNm=0.8-0.89] V\n",
      "[Toolwearmin=>0.86 ^ TorqueNm=0.71-0.8] V\n",
      "[Toolwearmin=>0.86 ^ Type=0.0348969159415116 ^ TorqueNm=0.61-0.71] V\n",
      "[Rotationalspeedrpm=0.24-0.29 ^ Type=0.0348969159415116 ^ AirtemperatureK=0.81-0.87] V\n",
      "[Rotationalspeedrpm=0.16-0.24 ^ Type=0.0348969159415116 ^ AirtemperatureK=0.76-0.81] V\n",
      "[Rotationalspeedrpm=0.29-0.34 ^ AirtemperatureK=0.81-0.87] V\n",
      "[Toolwearmin=>0.86 ^ Rotationalspeedrpm=0.81-0.93 ^ Type=0.0348969159415116 ^ AirtemperatureK=0.39-0.51] V\n",
      "[Toolwearmin=>0.86 ^ Type=0.0348969159415116 ^ Rotationalspeedrpm=<0.16] V\n",
      "[Rotationalspeedrpm=0.16-0.24 ^ AirtemperatureK=>0.87 ^ ProcesstemperatureK=0.8-0.89] V\n",
      "[Rotationalspeedrpm=0.24-0.29 ^ AirtemperatureK=0.76-0.81] V\n",
      "[Toolwearmin=>0.86 ^ Rotationalspeedrpm=0.81-0.93 ^ ProcesstemperatureK=0.52-0.61] V\n",
      "[Toolwearmin=0.83-0.86 ^ Type=0.0348969159415116 ^ TorqueNm=0.61-0.71] V\n",
      "[Toolwearmin=>0.86 ^ TorqueNm=0.51-0.61 ^ Type=0.0348969159415116 ^ AirtemperatureK=0.17-0.26] V\n",
      "[Toolwearmin=>0.86 ^ TorqueNm=0.51-0.61] V\n",
      "[Rotationalspeedrpm=>0.93 ^ Type=0.0348969159415116 ^ Toolwearmin=>0.86] V\n",
      "[Toolwearmin=0.83-0.86 ^ Type=0.0348969159415116 ^ Rotationalspeedrpm=0.46-0.57 ^ TorqueNm=0.39-0.51 ^ AirtemperatureK=0.64-0.76] V\n",
      "[Toolwearmin=0.83-0.86 ^ Type=0.0348969159415116 ^ TorqueNm=0.51-0.61 ^ Rotationalspeedrpm=0.16-0.24] V\n",
      "[Rotationalspeedrpm=0.29-0.34 ^ AirtemperatureK=0.76-0.81] V\n",
      "[Rotationalspeedrpm=>0.93 ^ Toolwearmin=0.27-0.38 ^ Type=0.881117157480653 ^ ProcesstemperatureK=0.41-0.52] V\n",
      "[Rotationalspeedrpm=0.16-0.24 ^ AirtemperatureK=0.81-0.87] V\n",
      "[Toolwearmin=0.83-0.86 ^ Type=0.0348969159415116] V\n",
      "[Rotationalspeedrpm=>0.93 ^ Type=0.0348969159415116 ^ TorqueNm=<0.11 ^ Toolwearmin=0.49-0.64 ^ AirtemperatureK=0.17-0.26 ^ ProcesstemperatureK=0.17-0.29] V\n",
      "[Rotationalspeedrpm=>0.93 ^ Type=0.0348969159415116 ^ TorqueNm=<0.11 ^ ProcesstemperatureK=0.099-0.17 ^ AirtemperatureK=0.1-0.17 ^ Toolwearmin=0.49-0.64] V\n",
      "[Toolwearmin=>0.86 ^ Rotationalspeedrpm=0.81-0.93] V\n",
      "[AirtemperatureK=>0.87 ^ Rotationalspeedrpm=0.24-0.29] V\n",
      "[Rotationalspeedrpm=>0.93 ^ Type=0.0348969159415116 ^ TorqueNm=<0.11 ^ Toolwearmin=<0.12 ^ AirtemperatureK=0.51-0.64 ^ ProcesstemperatureK=0.52-0.61] V\n",
      "[Rotationalspeedrpm=>0.93 ^ Type=0.0348969159415116 ^ TorqueNm=<0.11 ^ Toolwearmin=0.27-0.38 ^ AirtemperatureK=0.17-0.26] V\n",
      "[Rotationalspeedrpm=>0.93 ^ Type=0.0348969159415116 ^ TorqueNm=<0.11 ^ ProcesstemperatureK=0.099-0.17 ^ Toolwearmin=0.38-0.49] V\n",
      "[Rotationalspeedrpm=>0.93 ^ Type=0.0348969159415116 ^ TorqueNm=<0.11 ^ Toolwearmin=0.49-0.64 ^ ProcesstemperatureK=<0.099] V\n",
      "[Rotationalspeedrpm=>0.93 ^ Type=0.0348969159415116 ^ TorqueNm=<0.11 ^ AirtemperatureK=0.39-0.51 ^ ProcesstemperatureK=0.7-0.8] V\n",
      "[Rotationalspeedrpm=>0.93 ^ TorqueNm=<0.11 ^ Type=0.0348969159415116 ^ Toolwearmin=<0.12 ^ AirtemperatureK=0.64-0.76 ^ ProcesstemperatureK=0.7-0.8] V\n",
      "[Rotationalspeedrpm=>0.93 ^ TorqueNm=<0.11 ^ Toolwearmin=0.27-0.38 ^ Type=0.881117157480653 ^ ProcesstemperatureK=0.29-0.41 ^ AirtemperatureK=0.26-0.39] V\n",
      "[Rotationalspeedrpm=>0.93 ^ TorqueNm=<0.11 ^ ProcesstemperatureK=>0.89 ^ Type=0.881117157480653 ^ Toolwearmin=0.18-0.27] V\n",
      "[Rotationalspeedrpm=>0.93 ^ Type=0.0348969159415116 ^ TorqueNm=<0.11 ^ ProcesstemperatureK=0.52-0.61 ^ Toolwearmin=0.49-0.64] V\n",
      "[TorqueNm=0.71-0.8 ^ AirtemperatureK=>0.87 ^ Rotationalspeedrpm=0.29-0.34] V\n",
      "[Rotationalspeedrpm=>0.93 ^ TorqueNm=<0.11 ^ Type=0.0348969159415116 ^ ProcesstemperatureK=0.61-0.7 ^ AirtemperatureK=0.51-0.64] V\n",
      "[Toolwearmin=>0.86 ^ Type=0.0348969159415116 ^ TorqueNm=0.39-0.51] V\n",
      "[Rotationalspeedrpm=>0.93 ^ Type=0.0348969159415116 ^ TorqueNm=<0.11 ^ Toolwearmin=<0.12 ^ AirtemperatureK=0.81-0.87 ^ ProcesstemperatureK=0.8-0.89] V\n",
      "[Rotationalspeedrpm=>0.93 ^ TorqueNm=<0.11 ^ Type=0.0348969159415116 ^ ProcesstemperatureK=0.099-0.17 ^ Toolwearmin=0.64-0.76] V\n",
      "[Rotationalspeedrpm=>0.93 ^ TorqueNm=<0.11 ^ Type=0.0348969159415116 ^ ProcesstemperatureK=0.29-0.41 ^ AirtemperatureK=0.26-0.39] V\n",
      "[Rotationalspeedrpm=>0.93 ^ Type=0.0348969159415116 ^ TorqueNm=<0.11 ^ AirtemperatureK=0.64-0.76 ^ Toolwearmin=0.76-0.83] V\n",
      "[Rotationalspeedrpm=>0.93 ^ TorqueNm=<0.11 ^ Toolwearmin=0.27-0.38 ^ Type=0.881117157480653 ^ ProcesstemperatureK=0.17-0.29 ^ AirtemperatureK=0.17-0.26] V\n",
      "[TorqueNm=0.71-0.8 ^ AirtemperatureK=0.64-0.76] V\n",
      "[Rotationalspeedrpm=>0.93 ^ Type=0.0348969159415116 ^ TorqueNm=<0.11 ^ AirtemperatureK=0.39-0.51 ^ Toolwearmin=0.76-0.83] V\n",
      "[Rotationalspeedrpm=>0.93 ^ Toolwearmin=<0.12 ^ ProcesstemperatureK=>0.89] V\n",
      "[Toolwearmin=>0.86 ^ Type=0.0348969159415116 ^ Rotationalspeedrpm=0.57-0.69 ^ AirtemperatureK=0.51-0.64] V\n",
      "[Toolwearmin=>0.86 ^ Rotationalspeedrpm=0.34-0.46] V\n",
      "[Rotationalspeedrpm=>0.93 ^ Toolwearmin=0.27-0.38 ^ Type=0.881117157480653 ^ AirtemperatureK=0.81-0.87] V\n",
      "[Rotationalspeedrpm=0.29-0.34 ^ AirtemperatureK=>0.87] V\n",
      "[Rotationalspeedrpm=>0.93 ^ Type=0.0348969159415116 ^ TorqueNm=<0.11 ^ AirtemperatureK=0.1-0.17 ^ Toolwearmin=0.18-0.27] V\n",
      "[Rotationalspeedrpm=0.16-0.24 ^ AirtemperatureK=>0.87] V\n",
      "[Rotationalspeedrpm=>0.93 ^ Type=0.0348969159415116 ^ TorqueNm=<0.11 ^ AirtemperatureK=0.64-0.76 ^ ProcesstemperatureK=0.8-0.89] V\n",
      "[Rotationalspeedrpm=>0.93 ^ TorqueNm=<0.11 ^ Type=0.0348969159415116 ^ Toolwearmin=0.38-0.49 ^ ProcesstemperatureK=0.61-0.7] V\n",
      "[Rotationalspeedrpm=>0.93 ^ Type=0.0348969159415116 ^ TorqueNm=<0.11 ^ Toolwearmin=<0.12 ^ ProcesstemperatureK=<0.099 ^ AirtemperatureK=<0.1] V\n",
      "[Rotationalspeedrpm=>0.93 ^ TorqueNm=<0.11 ^ Toolwearmin=0.27-0.38 ^ Type=0.881117157480653 ^ ProcesstemperatureK=0.29-0.41] V\n",
      "[TorqueNm=0.71-0.8 ^ AirtemperatureK=0.81-0.87] V\n",
      "[Toolwearmin=>0.86] V\n",
      "[Rotationalspeedrpm=>0.93 ^ TorqueNm=<0.11 ^ Type=0.0348969159415116 ^ AirtemperatureK=0.26-0.39 ^ ProcesstemperatureK=0.61-0.7] V\n",
      "[Rotationalspeedrpm=>0.93 ^ TorqueNm=<0.11 ^ Type=0.0348969159415116 ^ Toolwearmin=0.12-0.18 ^ ProcesstemperatureK=>0.89]]\n"
     ]
    }
   ],
   "source": [
    "ripper_clf.out_model()"
   ]
  },
  {
   "cell_type": "code",
   "execution_count": 24,
   "metadata": {},
   "outputs": [
    {
     "name": "stdout",
     "output_type": "stream",
     "text": [
      "accuracy: 0.5908225437928408 precision: 0.5908225437928408 recall: 0.5908225437928408 conds: 240\n"
     ]
    }
   ],
   "source": [
    "from sklearn.metrics import precision_score, recall_score\n",
    "\n",
    "y_train_pred_ripper = ripper_clf.predict(X_train)\n",
    "\n",
    "#Default scoring metric is accuracy.\n",
    "accuracy = ripper_clf.score(X_train,  y_train.values.ravel())\n",
    "precision = ripper_clf.score(X_train,  y_train.values.ravel())\n",
    "recall = ripper_clf.score(X_train,  y_train.values.ravel())\n",
    "cond_count = ripper_clf.ruleset_.count_conds()\n",
    "print(f'accuracy: {accuracy} precision: {precision} recall: {recall} conds: {cond_count}')"
   ]
  },
  {
   "cell_type": "code",
   "execution_count": 25,
   "metadata": {
    "scrolled": false
   },
   "outputs": [
    {
     "data": {
      "text/plain": [
       "<AxesSubplot:>"
      ]
     },
     "execution_count": 25,
     "metadata": {},
     "output_type": "execute_result"
    },
    {
     "data": {
      "image/png": "[encoded data removed]",
      "text/plain": [
       "<Figure size 432x288 with 2 Axes>"
      ]
     },
     "metadata": {
      "needs_background": "light"
     },
     "output_type": "display_data"
    }
   ],
   "source": [
    "from sklearn.metrics import confusion_matrix\n",
    "\n",
    "confusion_matrix(y_train, y_train_pred_ripper)\n",
    "sns.heatmap(confusion_matrix(y_train, y_train_pred_ripper), annot=True,fmt='d')"
   ]
  },
  {
   "cell_type": "markdown",
   "metadata": {},
   "source": [
    "#### Evaluating on Test set "
   ]
  },
  {
   "cell_type": "code",
   "execution_count": 26,
   "metadata": {},
   "outputs": [
    {
     "name": "stdout",
     "output_type": "stream",
     "text": [
      "accuracy: 0.8212450028555112 precision: 0.9401459854014599 recall: 0.7030567685589519 conds: 240\n"
     ]
    }
   ],
   "source": [
    "from sklearn.metrics import precision_score, recall_score\n",
    "\n",
    "y_test_pred_ripper = ripper_clf.predict(X_test)\n",
    "\n",
    "#Default scoring metric is accuracy.\n",
    "accuracy = ripper_clf.score(X_test,  y_test.values.ravel())\n",
    "precision = ripper_clf.score(X_test, y_test.values.ravel(), precision_score)\n",
    "recall = ripper_clf.score(X_test, y_test.values.ravel(), recall_score)\n",
    "cond_count = ripper_clf.ruleset_.count_conds()\n",
    "print(f'accuracy: {accuracy} precision: {precision} recall: {recall} conds: {cond_count}')"
   ]
  },
  {
   "cell_type": "code",
   "execution_count": 27,
   "metadata": {},
   "outputs": [
    {
     "name": "stdout",
     "output_type": "stream",
     "text": [
      "0.8269774860758832\n"
     ]
    }
   ],
   "source": [
    "from sklearn import metrics\n",
    "#calculate AUC of model\n",
    "auc_ripper = metrics.roc_auc_score(y_test, y_test_pred_ripper)\n",
    "print(auc_ripper)"
   ]
  },
  {
   "cell_type": "code",
   "execution_count": 28,
   "metadata": {},
   "outputs": [],
   "source": [
    "cohen_score_ripper = cohen_kappa_score(y_test, y_test_pred_ripper)"
   ]
  },
  {
   "cell_type": "code",
   "execution_count": 29,
   "metadata": {},
   "outputs": [],
   "source": [
    "acc_list.append(accuracy)\n",
    "auc_list.append(auc_ripper)\n",
    "kappa_list.append(cohen_score_ripper)"
   ]
  },
  {
   "cell_type": "markdown",
   "metadata": {},
   "source": [
    "We can also ask our model to tell us why it made each positive prediction that it did:"
   ]
  },
  {
   "cell_type": "code",
   "execution_count": 30,
   "metadata": {},
   "outputs": [],
   "source": [
    "#ripper_clf.predict(X_test, give_reasons=True)"
   ]
  },
  {
   "cell_type": "markdown",
   "metadata": {},
   "source": [
    "## K-Nearest Neighbour (KNN)"
   ]
  },
  {
   "cell_type": "code",
   "execution_count": 31,
   "metadata": {},
   "outputs": [
    {
     "data": {
      "text/html": [
       "<style>#sk-container-id-2 {color: black;background-color: white;}#sk-container-id-2 pre{padding: 0;}#sk-container-id-2 div.sk-toggleable {background-color: white;}#sk-container-id-2 label.sk-toggleable__label {cursor: pointer;display: block;width: 100%;margin-bottom: 0;padding: 0.3em;box-sizing: border-box;text-align: center;}#sk-container-id-2 label.sk-toggleable__label-arrow:before {content: \"▸\";float: left;margin-right: 0.25em;color: #696969;}#sk-container-id-2 label.sk-toggleable__label-arrow:hover:before {color: black;}#sk-container-id-2 div.sk-estimator:hover label.sk-toggleable__label-arrow:before {color: black;}#sk-container-id-2 div.sk-toggleable__content {max-height: 0;max-width: 0;overflow: hidden;text-align: left;background-color: #f0f8ff;}#sk-container-id-2 div.sk-toggleable__content pre {margin: 0.2em;color: black;border-radius: 0.25em;background-color: #f0f8ff;}#sk-container-id-2 input.sk-toggleable__control:checked~div.sk-toggleable__content {max-height: 200px;max-width: 100%;overflow: auto;}#sk-container-id-2 input.sk-toggleable__control:checked~label.sk-toggleable__label-arrow:before {content: \"▾\";}#sk-container-id-2 div.sk-estimator input.sk-toggleable__control:checked~label.sk-toggleable__label {background-color: #d4ebff;}#sk-container-id-2 div.sk-label input.sk-toggleable__control:checked~label.sk-toggleable__label {background-color: #d4ebff;}#sk-container-id-2 input.sk-hidden--visually {border: 0;clip: rect(1px 1px 1px 1px);clip: rect(1px, 1px, 1px, 1px);height: 1px;margin: -1px;overflow: hidden;padding: 0;position: absolute;width: 1px;}#sk-container-id-2 div.sk-estimator {font-family: monospace;background-color: #f0f8ff;border: 1px dotted black;border-radius: 0.25em;box-sizing: border-box;margin-bottom: 0.5em;}#sk-container-id-2 div.sk-estimator:hover {background-color: #d4ebff;}#sk-container-id-2 div.sk-parallel-item::after {content: \"\";width: 100%;border-bottom: 1px solid gray;flex-grow: 1;}#sk-container-id-2 div.sk-label:hover label.sk-toggleable__label {background-color: #d4ebff;}#sk-container-id-2 div.sk-serial::before {content: \"\";position: absolute;border-left: 1px solid gray;box-sizing: border-box;top: 0;bottom: 0;left: 50%;z-index: 0;}#sk-container-id-2 div.sk-serial {display: flex;flex-direction: column;align-items: center;background-color: white;padding-right: 0.2em;padding-left: 0.2em;position: relative;}#sk-container-id-2 div.sk-item {position: relative;z-index: 1;}#sk-container-id-2 div.sk-parallel {display: flex;align-items: stretch;justify-content: center;background-color: white;position: relative;}#sk-container-id-2 div.sk-item::before, #sk-container-id-2 div.sk-parallel-item::before {content: \"\";position: absolute;border-left: 1px solid gray;box-sizing: border-box;top: 0;bottom: 0;left: 50%;z-index: -1;}#sk-container-id-2 div.sk-parallel-item {display: flex;flex-direction: column;z-index: 1;position: relative;background-color: white;}#sk-container-id-2 div.sk-parallel-item:first-child::after {align-self: flex-end;width: 50%;}#sk-container-id-2 div.sk-parallel-item:last-child::after {align-self: flex-start;width: 50%;}#sk-container-id-2 div.sk-parallel-item:only-child::after {width: 0;}#sk-container-id-2 div.sk-dashed-wrapped {border: 1px dashed gray;margin: 0 0.4em 0.5em 0.4em;box-sizing: border-box;padding-bottom: 0.4em;background-color: white;}#sk-container-id-2 div.sk-label label {font-family: monospace;font-weight: bold;display: inline-block;line-height: 1.2em;}#sk-container-id-2 div.sk-label-container {text-align: center;}#sk-container-id-2 div.sk-container {/* jupyter's `normalize.less` sets `[hidden] { display: none; }` but bootstrap.min.css set `[hidden] { display: none !important; }` so we also need the `!important` here to be able to override the default hidden behavior on the sphinx rendered scikit-learn.org. See: https://github.com/scikit-learn/scikit-learn/issues/21755 */display: inline-block !important;position: relative;}#sk-container-id-2 div.sk-text-repr-fallback {display: none;}</style><div id=\"sk-container-id-2\" class=\"sk-top-container\"><div class=\"sk-text-repr-fallback\"><pre>KNeighborsClassifier()</pre><b>In a Jupyter environment, please rerun this cell to show the HTML representation or trust the notebook. <br />On GitHub, the HTML representation is unable to render, please try loading this page with nbviewer.org.</b></div><div class=\"sk-container\" hidden><div class=\"sk-item\"><div class=\"sk-estimator sk-toggleable\"><input class=\"sk-toggleable__control sk-hidden--visually\" id=\"sk-estimator-id-2\" type=\"checkbox\" checked><label for=\"sk-estimator-id-2\" class=\"sk-toggleable__label sk-toggleable__label-arrow\">KNeighborsClassifier</label><div class=\"sk-toggleable__content\"><pre>KNeighborsClassifier()</pre></div></div></div></div></div>"
      ],
      "text/plain": [
       "KNeighborsClassifier()"
      ]
     },
     "execution_count": 31,
     "metadata": {},
     "output_type": "execute_result"
    }
   ],
   "source": [
    "from sklearn.neighbors import KNeighborsClassifier\n",
    "knn = KNeighborsClassifier()\n",
    "knn.fit(X_train, y_train.values.ravel())"
   ]
  },
  {
   "cell_type": "code",
   "execution_count": 32,
   "metadata": {},
   "outputs": [
    {
     "name": "stdout",
     "output_type": "stream",
     "text": [
      "K-Nearest Neighbour score:  0.9701700939324702\n"
     ]
    }
   ],
   "source": [
    "#Predict the response for train dataset\n",
    "y_train_pred_knn = knn.predict(X_train)\n",
    "\n",
    "print(\"K-Nearest Neighbour score: \",knn.score(X_train, y_train))"
   ]
  },
  {
   "cell_type": "code",
   "execution_count": 33,
   "metadata": {},
   "outputs": [
    {
     "data": {
      "text/plain": [
       "<AxesSubplot:>"
      ]
     },
     "execution_count": 33,
     "metadata": {},
     "output_type": "execute_result"
    },
    {
     "data": {
      "image/png": "[encoded data removed]",
      "text/plain": [
       "<Figure size 432x288 with 2 Axes>"
      ]
     },
     "metadata": {
      "needs_background": "light"
     },
     "output_type": "display_data"
    }
   ],
   "source": [
    "from sklearn.metrics import confusion_matrix\n",
    "\n",
    "confusion_matrix(y_train, y_train_pred_knn)\n",
    "sns.heatmap(confusion_matrix(y_train, y_train_pred_knn), annot=True,fmt='d')"
   ]
  },
  {
   "cell_type": "code",
   "execution_count": 34,
   "metadata": {},
   "outputs": [
    {
     "name": "stdout",
     "output_type": "stream",
     "text": [
      "Precision Score:  0.9518660620858039\n",
      "Recall Score:  0.9932063569088924\n",
      "F1 Score:  0.9720968890999762\n",
      "Accuracy Score:  0.9701700939324702\n"
     ]
    }
   ],
   "source": [
    "#Performance measures for training dataset\n",
    "\n",
    "from sklearn.metrics import precision_score, recall_score,f1_score,accuracy_score\n",
    "print(\"Precision Score: \",precision_score(y_train,y_train_pred_knn))\n",
    "print(\"Recall Score: \",recall_score(y_train, y_train_pred_knn))\n",
    "print(\"F1 Score: \",f1_score(y_train, y_train_pred_knn))\n",
    "print(\"Accuracy Score: \",accuracy_score(y_train, y_train_pred_knn))"
   ]
  },
  {
   "cell_type": "markdown",
   "metadata": {},
   "source": [
    "#### Evaluating on Test set "
   ]
  },
  {
   "cell_type": "code",
   "execution_count": 35,
   "metadata": {},
   "outputs": [
    {
     "name": "stdout",
     "output_type": "stream",
     "text": [
      "Precision Score:  0.9496327387198321\n",
      "Recall Score:  0.9879912663755459\n",
      "F1 Score:  0.9684323167469235\n",
      "Accuracy Score:  0.9663049685893775\n"
     ]
    }
   ],
   "source": [
    "from sklearn.metrics import precision_score, recall_score,f1_score,accuracy_score\n",
    "\n",
    "#Predict the response for test dataset\n",
    "y_test_pred_knn = knn.predict(X_test)\n",
    "\n",
    "\n",
    "print(\"Precision Score: \",precision_score(y_test, y_test_pred_knn))\n",
    "print(\"Recall Score: \",recall_score(y_test, y_test_pred_knn))\n",
    "print(\"F1 Score: \",f1_score(y_test, y_test_pred_knn))\n",
    "print(\"Accuracy Score: \",accuracy_score(y_test, y_test_pred_knn))"
   ]
  },
  {
   "cell_type": "code",
   "execution_count": 36,
   "metadata": {},
   "outputs": [
    {
     "name": "stdout",
     "output_type": "stream",
     "text": [
      "0.9652531182177131\n"
     ]
    }
   ],
   "source": [
    "from sklearn import metrics\n",
    "#calculate AUC of model\n",
    "auc_knn = metrics.roc_auc_score(y_test, y_test_pred_knn)\n",
    "print(auc_knn)"
   ]
  },
  {
   "cell_type": "code",
   "execution_count": 37,
   "metadata": {},
   "outputs": [],
   "source": [
    "cohen_score_knn = cohen_kappa_score(y_test, y_test_pred_knn)"
   ]
  },
  {
   "cell_type": "code",
   "execution_count": 38,
   "metadata": {},
   "outputs": [],
   "source": [
    "acc_list.append(accuracy_score(y_test, y_test_pred_knn))\n",
    "auc_list.append(auc_knn)\n",
    "kappa_list.append(cohen_score_knn)"
   ]
  },
  {
   "cell_type": "markdown",
   "metadata": {},
   "source": [
    "## Decision Tree "
   ]
  },
  {
   "cell_type": "code",
   "execution_count": 39,
   "metadata": {},
   "outputs": [],
   "source": [
    "# Create Decision Tree classifer object\n",
    "dt_clf = DecisionTreeClassifier()\n",
    "\n",
    "# Train Decision Tree Classifer\n",
    "dt_clf = dt_clf.fit(X_train,y_train.values.ravel())"
   ]
  },
  {
   "cell_type": "code",
   "execution_count": 40,
   "metadata": {},
   "outputs": [
    {
     "name": "stdout",
     "output_type": "stream",
     "text": [
      "Decision Tree score:  1.0\n"
     ]
    }
   ],
   "source": [
    "#Predict the response for train dataset\n",
    "y_train_pred_dt = dt_clf.predict(X_train)\n",
    "\n",
    "print(\"Decision Tree score: \",dt_clf.score(X_train, y_train))"
   ]
  },
  {
   "cell_type": "code",
   "execution_count": 41,
   "metadata": {},
   "outputs": [
    {
     "data": {
      "text/plain": [
       "<AxesSubplot:>"
      ]
     },
     "execution_count": 41,
     "metadata": {},
     "output_type": "execute_result"
    },
    {
     "data": {
      "image/png": "[encoded data removed]",
      "text/plain": [
       "<Figure size 432x288 with 2 Axes>"
      ]
     },
     "metadata": {
      "needs_background": "light"
     },
     "output_type": "display_data"
    }
   ],
   "source": [
    "from sklearn.metrics import confusion_matrix\n",
    "\n",
    "confusion_matrix(y_train, y_train_pred_dt)\n",
    "sns.heatmap(confusion_matrix(y_train, y_train_pred_dt), annot=True,fmt='d')"
   ]
  },
  {
   "cell_type": "code",
   "execution_count": 42,
   "metadata": {},
   "outputs": [
    {
     "name": "stdout",
     "output_type": "stream",
     "text": [
      "Precision Score:  1.0\n",
      "Recall Score:  1.0\n",
      "F1 Score:  1.0\n",
      "Accuracy Score:  1.0\n"
     ]
    }
   ],
   "source": [
    "#Performance measures for training dataset\n",
    "\n",
    "from sklearn.metrics import precision_score, recall_score,f1_score,accuracy_score\n",
    "print(\"Precision Score: \",precision_score(y_train,y_train_pred_dt))\n",
    "print(\"Recall Score: \",recall_score(y_train, y_train_pred_dt))\n",
    "print(\"F1 Score: \",f1_score(y_train, y_train_pred_dt))\n",
    "print(\"Accuracy Score: \",accuracy_score(y_train, y_train_pred_dt))"
   ]
  },
  {
   "cell_type": "markdown",
   "metadata": {},
   "source": [
    "#### Evaluating on Test set "
   ]
  },
  {
   "cell_type": "code",
   "execution_count": 43,
   "metadata": {},
   "outputs": [
    {
     "name": "stdout",
     "output_type": "stream",
     "text": [
      "Precision Score:  0.9815016322089227\n",
      "Recall Score:  0.9847161572052402\n",
      "F1 Score:  0.9831062670299728\n",
      "Accuracy Score:  0.9822958309537407\n"
     ]
    }
   ],
   "source": [
    "from sklearn.metrics import precision_score, recall_score,f1_score,accuracy_score\n",
    "\n",
    "#Predict the response for test dataset\n",
    "y_test_pred_dt = dt_clf.predict(X_test)\n",
    "\n",
    "\n",
    "print(\"Precision Score: \",precision_score(y_test, y_test_pred_dt))\n",
    "print(\"Recall Score: \",recall_score(y_test, y_test_pred_dt))\n",
    "print(\"F1 Score: \",f1_score(y_test, y_test_pred_dt))\n",
    "print(\"Accuracy Score: \",accuracy_score(y_test, y_test_pred_dt))"
   ]
  },
  {
   "cell_type": "code",
   "execution_count": 44,
   "metadata": {},
   "outputs": [
    {
     "name": "stdout",
     "output_type": "stream",
     "text": [
      "0.9821784378840571\n"
     ]
    }
   ],
   "source": [
    "from sklearn import metrics\n",
    "#calculate AUC of model\n",
    "auc_dt = metrics.roc_auc_score(y_test, y_test_pred_dt)\n",
    "print(auc_dt)"
   ]
  },
  {
   "cell_type": "code",
   "execution_count": 45,
   "metadata": {},
   "outputs": [],
   "source": [
    "cohen_score_dt = cohen_kappa_score(y_test, y_test_pred_dt)"
   ]
  },
  {
   "cell_type": "code",
   "execution_count": 46,
   "metadata": {},
   "outputs": [],
   "source": [
    "acc_list.append(accuracy_score(y_test, y_test_pred_dt))\n",
    "auc_list.append(auc_dt)\n",
    "kappa_list.append(cohen_score_dt)"
   ]
  },
  {
   "cell_type": "markdown",
   "metadata": {},
   "source": [
    "## Artificial Neural Network"
   ]
  },
  {
   "cell_type": "code",
   "execution_count": 47,
   "metadata": {},
   "outputs": [],
   "source": [
    "from keras.wrappers.scikit_learn import KerasClassifier\n",
    "from keras.utils import np_utils\n",
    "\n",
    "# for modeling\n",
    "from keras.models import Sequential\n",
    "from keras.layers import Dense, Dropout\n",
    "from keras.callbacks import EarlyStopping"
   ]
  },
  {
   "cell_type": "code",
   "execution_count": 48,
   "metadata": {
    "scrolled": true
   },
   "outputs": [
    {
     "name": "stdout",
     "output_type": "stream",
     "text": [
      "Model: \"sequential\"\n",
      "_________________________________________________________________\n",
      " Layer (type)                Output Shape              Param #   \n",
      "=================================================================\n",
      " dense (Dense)               (None, 16)                112       \n",
      "                                                                 \n",
      " dense_1 (Dense)             (None, 16)                272       \n",
      "                                                                 \n",
      " dense_2 (Dense)             (None, 1)                 17        \n",
      "                                                                 \n",
      "=================================================================\n",
      "Total params: 401\n",
      "Trainable params: 401\n",
      "Non-trainable params: 0\n",
      "_________________________________________________________________\n",
      "Epoch 1/80\n",
      "1261/1261 [==============================] - 2s 1ms/step - loss: 0.4214 - accuracy: 0.8193 - val_loss: 0.3201 - val_accuracy: 0.8740\n",
      "Epoch 2/80\n",
      "1261/1261 [==============================] - 1s 1ms/step - loss: 0.2947 - accuracy: 0.8741 - val_loss: 0.2661 - val_accuracy: 0.8756\n",
      "Epoch 3/80\n",
      "1261/1261 [==============================] - 1s 1ms/step - loss: 0.2630 - accuracy: 0.8867 - val_loss: 0.2428 - val_accuracy: 0.8874\n",
      "Epoch 4/80\n",
      "1261/1261 [==============================] - 1s 1ms/step - loss: 0.2449 - accuracy: 0.8979 - val_loss: 0.2307 - val_accuracy: 0.9109\n",
      "Epoch 5/80\n",
      "1261/1261 [==============================] - 1s 962us/step - loss: 0.2314 - accuracy: 0.9079 - val_loss: 0.2224 - val_accuracy: 0.9207\n",
      "Epoch 6/80\n",
      "1261/1261 [==============================] - 1s 966us/step - loss: 0.2212 - accuracy: 0.9148 - val_loss: 0.2083 - val_accuracy: 0.9128\n",
      "Epoch 7/80\n",
      "1261/1261 [==============================] - 1s 1ms/step - loss: 0.2136 - accuracy: 0.9188 - val_loss: 0.1998 - val_accuracy: 0.9267\n",
      "Epoch 8/80\n",
      "1261/1261 [==============================] - 1s 1ms/step - loss: 0.2037 - accuracy: 0.9247 - val_loss: 0.2087 - val_accuracy: 0.9124\n",
      "Epoch 9/80\n",
      "1261/1261 [==============================] - 1s 1ms/step - loss: 0.1966 - accuracy: 0.9278 - val_loss: 0.2047 - val_accuracy: 0.9156\n",
      "Epoch 10/80\n",
      "1261/1261 [==============================] - 1s 957us/step - loss: 0.1895 - accuracy: 0.9310 - val_loss: 0.1790 - val_accuracy: 0.9346\n",
      "Epoch 11/80\n",
      "1261/1261 [==============================] - 1s 1ms/step - loss: 0.1825 - accuracy: 0.9350 - val_loss: 0.1828 - val_accuracy: 0.9318\n",
      "Epoch 12/80\n",
      "1261/1261 [==============================] - 1s 1ms/step - loss: 0.1759 - accuracy: 0.9378 - val_loss: 0.1647 - val_accuracy: 0.9400\n",
      "Epoch 13/80\n",
      "1261/1261 [==============================] - 1s 1ms/step - loss: 0.1718 - accuracy: 0.9393 - val_loss: 0.1604 - val_accuracy: 0.9400\n",
      "Epoch 14/80\n",
      "1261/1261 [==============================] - 1s 1ms/step - loss: 0.1680 - accuracy: 0.9407 - val_loss: 0.1677 - val_accuracy: 0.9353\n",
      "Epoch 15/80\n",
      "1261/1261 [==============================] - 1s 1ms/step - loss: 0.1626 - accuracy: 0.9449 - val_loss: 0.1506 - val_accuracy: 0.9480\n",
      "Epoch 16/80\n",
      "1261/1261 [==============================] - 1s 1ms/step - loss: 0.1582 - accuracy: 0.9462 - val_loss: 0.1573 - val_accuracy: 0.9410\n",
      "Epoch 17/80\n",
      "1261/1261 [==============================] - 1s 1ms/step - loss: 0.1541 - accuracy: 0.9480 - val_loss: 0.1450 - val_accuracy: 0.9521\n",
      "Epoch 18/80\n",
      "1261/1261 [==============================] - 1s 1ms/step - loss: 0.1511 - accuracy: 0.9491 - val_loss: 0.1557 - val_accuracy: 0.9454\n",
      "Epoch 19/80\n",
      "1261/1261 [==============================] - 1s 1ms/step - loss: 0.1446 - accuracy: 0.9509 - val_loss: 0.1355 - val_accuracy: 0.9518\n",
      "Epoch 20/80\n",
      "1261/1261 [==============================] - 1s 1ms/step - loss: 0.1425 - accuracy: 0.9518 - val_loss: 0.1426 - val_accuracy: 0.9559\n",
      "Epoch 21/80\n",
      "1261/1261 [==============================] - 1s 1ms/step - loss: 0.1405 - accuracy: 0.9518 - val_loss: 0.1366 - val_accuracy: 0.9546\n",
      "Epoch 22/80\n",
      "1261/1261 [==============================] - 1s 1ms/step - loss: 0.1382 - accuracy: 0.9542 - val_loss: 0.1267 - val_accuracy: 0.9584\n",
      "Epoch 23/80\n",
      "1261/1261 [==============================] - 1s 1ms/step - loss: 0.1366 - accuracy: 0.9554 - val_loss: 0.1398 - val_accuracy: 0.9518\n",
      "Epoch 24/80\n",
      "1261/1261 [==============================] - 1s 1ms/step - loss: 0.1337 - accuracy: 0.9557 - val_loss: 0.1300 - val_accuracy: 0.9600\n",
      "Epoch 25/80\n",
      "1261/1261 [==============================] - 1s 1ms/step - loss: 0.1332 - accuracy: 0.9564 - val_loss: 0.1371 - val_accuracy: 0.9499\n",
      "Epoch 26/80\n",
      "1261/1261 [==============================] - 1s 1ms/step - loss: 0.1313 - accuracy: 0.9563 - val_loss: 0.1237 - val_accuracy: 0.9632\n",
      "Epoch 27/80\n",
      "1261/1261 [==============================] - 1s 1ms/step - loss: 0.1289 - accuracy: 0.9563 - val_loss: 0.1218 - val_accuracy: 0.9622\n",
      "Epoch 28/80\n",
      "1261/1261 [==============================] - 1s 1ms/step - loss: 0.1293 - accuracy: 0.9574 - val_loss: 0.1190 - val_accuracy: 0.9619\n",
      "Epoch 29/80\n",
      "1261/1261 [==============================] - 1s 1ms/step - loss: 0.1291 - accuracy: 0.9569 - val_loss: 0.1196 - val_accuracy: 0.9641\n",
      "Epoch 30/80\n",
      "1261/1261 [==============================] - 1s 1ms/step - loss: 0.1271 - accuracy: 0.9584 - val_loss: 0.1207 - val_accuracy: 0.9657\n",
      "Epoch 31/80\n",
      "1261/1261 [==============================] - 1s 1ms/step - loss: 0.1250 - accuracy: 0.9583 - val_loss: 0.1195 - val_accuracy: 0.9648\n",
      "Epoch 32/80\n",
      "1261/1261 [==============================] - 1s 1ms/step - loss: 0.1253 - accuracy: 0.9584 - val_loss: 0.1232 - val_accuracy: 0.9607\n",
      "Epoch 33/80\n",
      "1261/1261 [==============================] - 1s 1ms/step - loss: 0.1259 - accuracy: 0.9573 - val_loss: 0.1151 - val_accuracy: 0.9632\n",
      "Epoch 34/80\n",
      "1261/1261 [==============================] - 1s 1ms/step - loss: 0.1237 - accuracy: 0.9590 - val_loss: 0.1126 - val_accuracy: 0.9673\n",
      "Epoch 35/80\n",
      "1261/1261 [==============================] - 1s 1ms/step - loss: 0.1229 - accuracy: 0.9587 - val_loss: 0.1109 - val_accuracy: 0.9664\n",
      "Epoch 36/80\n",
      "1261/1261 [==============================] - 1s 1ms/step - loss: 0.1219 - accuracy: 0.9588 - val_loss: 0.1141 - val_accuracy: 0.9648\n",
      "Epoch 37/80\n",
      "1261/1261 [==============================] - 1s 1ms/step - loss: 0.1228 - accuracy: 0.9598 - val_loss: 0.1142 - val_accuracy: 0.9616\n",
      "Epoch 38/80\n",
      "1261/1261 [==============================] - 1s 1ms/step - loss: 0.1211 - accuracy: 0.9594 - val_loss: 0.1113 - val_accuracy: 0.9641\n",
      "Epoch 39/80\n",
      "1261/1261 [==============================] - 1s 1ms/step - loss: 0.1204 - accuracy: 0.9608 - val_loss: 0.1096 - val_accuracy: 0.9676\n",
      "Epoch 40/80\n",
      "1261/1261 [==============================] - 1s 978us/step - loss: 0.1182 - accuracy: 0.9609 - val_loss: 0.1130 - val_accuracy: 0.9673\n",
      "Epoch 41/80\n",
      "1261/1261 [==============================] - 1s 1ms/step - loss: 0.1193 - accuracy: 0.9606 - val_loss: 0.1128 - val_accuracy: 0.9607\n",
      "Epoch 42/80\n",
      "1261/1261 [==============================] - 1s 1ms/step - loss: 0.1192 - accuracy: 0.9602 - val_loss: 0.1082 - val_accuracy: 0.9683\n",
      "Epoch 43/80\n",
      "1261/1261 [==============================] - 1s 1ms/step - loss: 0.1182 - accuracy: 0.9599 - val_loss: 0.1116 - val_accuracy: 0.9626\n",
      "Epoch 44/80\n",
      "1261/1261 [==============================] - 1s 993us/step - loss: 0.1161 - accuracy: 0.9612 - val_loss: 0.1090 - val_accuracy: 0.9673\n",
      "Epoch 45/80\n",
      "1261/1261 [==============================] - 1s 1ms/step - loss: 0.1167 - accuracy: 0.9609 - val_loss: 0.1145 - val_accuracy: 0.9629\n",
      "Epoch 46/80\n",
      "1261/1261 [==============================] - 1s 981us/step - loss: 0.1162 - accuracy: 0.9624 - val_loss: 0.1104 - val_accuracy: 0.9670\n",
      "Epoch 47/80\n",
      "1261/1261 [==============================] - 1s 993us/step - loss: 0.1163 - accuracy: 0.9614 - val_loss: 0.1033 - val_accuracy: 0.9708\n",
      "Epoch 48/80\n",
      "1261/1261 [==============================] - 1s 1ms/step - loss: 0.1148 - accuracy: 0.9615 - val_loss: 0.1089 - val_accuracy: 0.9667\n",
      "Epoch 49/80\n",
      "1261/1261 [==============================] - 1s 1ms/step - loss: 0.1154 - accuracy: 0.9621 - val_loss: 0.1084 - val_accuracy: 0.9673\n",
      "Epoch 50/80\n",
      "1261/1261 [==============================] - 1s 1ms/step - loss: 0.1143 - accuracy: 0.9623 - val_loss: 0.1040 - val_accuracy: 0.9708\n",
      "Epoch 51/80\n",
      "1261/1261 [==============================] - 1s 971us/step - loss: 0.1135 - accuracy: 0.9622 - val_loss: 0.1144 - val_accuracy: 0.9553\n"
     ]
    },
    {
     "name": "stdout",
     "output_type": "stream",
     "text": [
      "Epoch 52/80\n",
      "1261/1261 [==============================] - 1s 1ms/step - loss: 0.1141 - accuracy: 0.9622 - val_loss: 0.1013 - val_accuracy: 0.9695\n",
      "Epoch 53/80\n",
      "1261/1261 [==============================] - 1s 1ms/step - loss: 0.1135 - accuracy: 0.9625 - val_loss: 0.0984 - val_accuracy: 0.9718\n",
      "Epoch 54/80\n",
      "1261/1261 [==============================] - 1s 1ms/step - loss: 0.1128 - accuracy: 0.9617 - val_loss: 0.1029 - val_accuracy: 0.9695\n",
      "Epoch 55/80\n",
      "1261/1261 [==============================] - 1s 979us/step - loss: 0.1120 - accuracy: 0.9624 - val_loss: 0.1168 - val_accuracy: 0.9588\n",
      "Epoch 56/80\n",
      "1261/1261 [==============================] - 1s 940us/step - loss: 0.1121 - accuracy: 0.9626 - val_loss: 0.0978 - val_accuracy: 0.9724\n",
      "Epoch 57/80\n",
      "1261/1261 [==============================] - 1s 969us/step - loss: 0.1132 - accuracy: 0.9632 - val_loss: 0.1028 - val_accuracy: 0.9676\n",
      "Epoch 58/80\n",
      "1261/1261 [==============================] - 1s 1ms/step - loss: 0.1120 - accuracy: 0.9626 - val_loss: 0.0989 - val_accuracy: 0.9711\n",
      "Epoch 59/80\n",
      "1261/1261 [==============================] - 1s 1ms/step - loss: 0.1111 - accuracy: 0.9637 - val_loss: 0.1065 - val_accuracy: 0.9667\n",
      "Epoch 60/80\n",
      "1261/1261 [==============================] - 1s 1ms/step - loss: 0.1110 - accuracy: 0.9637 - val_loss: 0.0971 - val_accuracy: 0.9737\n",
      "Epoch 61/80\n",
      "1261/1261 [==============================] - 1s 1ms/step - loss: 0.1111 - accuracy: 0.9637 - val_loss: 0.1052 - val_accuracy: 0.9695\n",
      "Epoch 62/80\n",
      "1261/1261 [==============================] - 1s 1ms/step - loss: 0.1114 - accuracy: 0.9628 - val_loss: 0.1000 - val_accuracy: 0.9737\n",
      "Epoch 63/80\n",
      "1261/1261 [==============================] - 1s 1ms/step - loss: 0.1107 - accuracy: 0.9643 - val_loss: 0.1137 - val_accuracy: 0.9619\n",
      "Epoch 64/80\n",
      "1261/1261 [==============================] - 1s 1ms/step - loss: 0.1091 - accuracy: 0.9640 - val_loss: 0.0979 - val_accuracy: 0.9689\n",
      "Epoch 65/80\n",
      "1261/1261 [==============================] - 1s 1ms/step - loss: 0.1099 - accuracy: 0.9648 - val_loss: 0.1104 - val_accuracy: 0.9692\n",
      "Epoch 66/80\n",
      "1261/1261 [==============================] - 1s 974us/step - loss: 0.1100 - accuracy: 0.9646 - val_loss: 0.0964 - val_accuracy: 0.9721\n",
      "Epoch 67/80\n",
      "1261/1261 [==============================] - 1s 1ms/step - loss: 0.1092 - accuracy: 0.9646 - val_loss: 0.0981 - val_accuracy: 0.9737\n",
      "Epoch 68/80\n",
      "1261/1261 [==============================] - 1s 1ms/step - loss: 0.1112 - accuracy: 0.9633 - val_loss: 0.1237 - val_accuracy: 0.9515\n",
      "Epoch 69/80\n",
      "1261/1261 [==============================] - 1s 999us/step - loss: 0.1079 - accuracy: 0.9635 - val_loss: 0.0983 - val_accuracy: 0.9730\n",
      "Epoch 70/80\n",
      "1261/1261 [==============================] - 1s 1ms/step - loss: 0.1086 - accuracy: 0.9640 - val_loss: 0.1000 - val_accuracy: 0.9686\n"
     ]
    }
   ],
   "source": [
    "# build a model\n",
    "model = Sequential()\n",
    "model.add(Dense(16, input_shape=(X_train.shape[1],), activation='relu')) # Add an input shape! (features,)\n",
    "model.add(Dense(16, activation='relu'))\n",
    "model.add(Dense(1, activation='sigmoid'))\n",
    "model.summary()\n",
    "\n",
    "# compile the model\n",
    "model.compile(optimizer='Adam', \n",
    "              loss='binary_crossentropy',\n",
    "              metrics=['accuracy'])\n",
    "\n",
    "# early stopping callback\n",
    "# This callback will stop the training when there is no improvement in  \n",
    "# the validation loss for 10 consecutive epochs.  \n",
    "es = EarlyStopping(monitor='val_accuracy', \n",
    "                                   mode='max', # don't minimize the accuracy!\n",
    "                                   patience=10,\n",
    "                                   restore_best_weights=True)\n",
    "\n",
    "# now we just update our model fit call\n",
    "history = model.fit(X_train,\n",
    "                    y_train,\n",
    "                    callbacks=[es],\n",
    "                    epochs=80, # you can set this to a big number!\n",
    "                    batch_size=10,\n",
    "                    validation_split=0.2,\n",
    "                    shuffle=True,\n",
    "                    verbose=1)"
   ]
  },
  {
   "cell_type": "code",
   "execution_count": 49,
   "metadata": {},
   "outputs": [
    {
     "name": "stdout",
     "output_type": "stream",
     "text": [
      "493/493 [==============================] - 0s 742us/step - loss: 0.1016 - accuracy: 0.9674\n",
      "Artificial Neural Network score:  [0.10161392390727997, 0.9673774838447571]\n"
     ]
    }
   ],
   "source": [
    "#Predict the response for train dataset\n",
    "y_train_pred_ann = model.predict(X_train)\n",
    "\n",
    "print(\"Artificial Neural Network score: \",model.evaluate(X_train, y_train))"
   ]
  },
  {
   "cell_type": "code",
   "execution_count": 50,
   "metadata": {},
   "outputs": [
    {
     "data": {
      "image/png": "[encoded data removed]",
      "text/plain": [
       "<Figure size 432x288 with 1 Axes>"
      ]
     },
     "metadata": {
      "needs_background": "light"
     },
     "output_type": "display_data"
    }
   ],
   "source": [
    "\n",
    "history_dict = history.history\n",
    "# Learning curve(Loss)\n",
    "# let's see the training and validation loss by epoch\n",
    "\n",
    "# loss\n",
    "loss_values = history_dict['loss'] # you can change this\n",
    "val_loss_values = history_dict['val_loss'] # you can also change this\n",
    "\n",
    "# range of X (no. of epochs)\n",
    "epochs = range(1, len(loss_values) + 1) \n",
    "\n",
    "# plot\n",
    "plt.plot(epochs, loss_values, 'bo', label='Training loss')\n",
    "plt.plot(epochs, val_loss_values, 'orange', label='Validation loss')\n",
    "plt.title('Training and validation loss')\n",
    "plt.xlabel('Epochs')\n",
    "plt.ylabel('Loss')\n",
    "plt.legend()\n",
    "plt.show()"
   ]
  },
  {
   "cell_type": "code",
   "execution_count": 51,
   "metadata": {
    "scrolled": true
   },
   "outputs": [
    {
     "data": {
      "image/png": "[encoded data removed]",
      "text/plain": [
       "<Figure size 432x288 with 1 Axes>"
      ]
     },
     "metadata": {
      "needs_background": "light"
     },
     "output_type": "display_data"
    },
    {
     "data": {
      "text/plain": [
       "0.9736675024032593"
      ]
     },
     "execution_count": 51,
     "metadata": {},
     "output_type": "execute_result"
    }
   ],
   "source": [
    "# Learning curve(accuracy)\n",
    "# let's see the training and validation accuracy by epoch\n",
    "\n",
    "# accuracy\n",
    "acc = history.history['accuracy']\n",
    "val_acc = history.history['val_accuracy']\n",
    "\n",
    "# range of X (no. of epochs)\n",
    "epochs = range(1, len(acc) + 1)\n",
    "\n",
    "# plot\n",
    "# \"bo\" is for \"blue dot\"\n",
    "plt.plot(epochs, acc, 'bo', label='Training accuracy')\n",
    "# orange is for \"orange\"\n",
    "plt.plot(epochs, val_acc, 'orange', label='Validation accuracy')\n",
    "plt.title('Training and validation accuracy')\n",
    "plt.xlabel('Epochs')\n",
    "plt.ylabel('Accuracy')\n",
    "plt.legend()\n",
    "plt.show()\n",
    "\n",
    "# this is the max value - should correspond to\n",
    "# the HIGHEST train accuracy\n",
    "np.max(val_acc)"
   ]
  },
  {
   "cell_type": "code",
   "execution_count": 52,
   "metadata": {
    "scrolled": true
   },
   "outputs": [
    {
     "name": "stdout",
     "output_type": "stream",
     "text": [
      "[[7158  355]\n",
      " [ 159 8084]]\n",
      "              precision    recall  f1-score   support\n",
      "\n",
      "           0       0.98      0.95      0.97      7513\n",
      "           1       0.96      0.98      0.97      8243\n",
      "\n",
      "    accuracy                           0.97     15756\n",
      "   macro avg       0.97      0.97      0.97     15756\n",
      "weighted avg       0.97      0.97      0.97     15756\n",
      "\n"
     ]
    }
   ],
   "source": [
    "from sklearn.metrics import confusion_matrix\n",
    "from sklearn.metrics import classification_report\n",
    "\n",
    "# see how these are numbers between 0 and 1? \n",
    "model.predict(X_train) # prob of successes (survival)\n",
    "np.round(model.predict(X_train),0) # 1 and 0 (survival or not)\n",
    "y_train # 1 and 0 (survival or not)\n",
    "\n",
    "# so we need to round to a whole number (0 or 1),\n",
    "# or the confusion matrix won't work!\n",
    "preds = np.round(model.predict(X_train),0)\n",
    "\n",
    "# confusion matrix\n",
    "print(confusion_matrix(y_train, preds)) # order matters! (actual, predicted)\n",
    "\n",
    "print(classification_report(y_train, preds))"
   ]
  },
  {
   "cell_type": "markdown",
   "metadata": {},
   "source": [
    "#### Evaluating on Test set"
   ]
  },
  {
   "cell_type": "code",
   "execution_count": 53,
   "metadata": {},
   "outputs": [
    {
     "name": "stdout",
     "output_type": "stream",
     "text": [
      "[[797  38]\n",
      " [ 17 899]]\n",
      "              precision    recall  f1-score   support\n",
      "\n",
      "           0       0.98      0.95      0.97       835\n",
      "           1       0.96      0.98      0.97       916\n",
      "\n",
      "    accuracy                           0.97      1751\n",
      "   macro avg       0.97      0.97      0.97      1751\n",
      "weighted avg       0.97      0.97      0.97      1751\n",
      "\n"
     ]
    }
   ],
   "source": [
    "# see how these are numbers between 0 and 1? \n",
    "model.predict(X_test) # prob of successes (survival)\n",
    "np.round(model.predict(X_test),0) # 1 and 0 (survival or not)\n",
    "y_test # 1 and 0 (survival or not)\n",
    "\n",
    "# so we need to round to a whole number (0 or 1),\n",
    "# or the confusion matrix won't work!\n",
    "preds = np.round(model.predict(X_test),0)\n",
    "\n",
    "# confusion matrix\n",
    "print(confusion_matrix(y_test, preds)) # order matters! (actual, predicted)\n",
    "\n",
    "print(classification_report(y_test, preds))"
   ]
  },
  {
   "cell_type": "code",
   "execution_count": 54,
   "metadata": {},
   "outputs": [
    {
     "name": "stdout",
     "output_type": "stream",
     "text": [
      "0.991356588133776\n"
     ]
    }
   ],
   "source": [
    "#calculate AUC of model\n",
    "from sklearn import metrics\n",
    "auc_ann = metrics.roc_auc_score(y_test, model.predict(X_test))\n",
    "print(auc_ann)"
   ]
  },
  {
   "cell_type": "code",
   "execution_count": 55,
   "metadata": {},
   "outputs": [],
   "source": [
    "cohen_score_ann = cohen_kappa_score(y_test, preds)"
   ]
  },
  {
   "cell_type": "code",
   "execution_count": 56,
   "metadata": {},
   "outputs": [],
   "source": [
    "acc_list.append(metrics.accuracy_score(y_test, preds))\n",
    "auc_list.append(metrics.roc_auc_score(y_test, model.predict(X_test)))\n",
    "kappa_list.append(cohen_score_ann)"
   ]
  },
  {
   "cell_type": "markdown",
   "metadata": {},
   "source": [
    "## Support Vector Machine"
   ]
  },
  {
   "cell_type": "code",
   "execution_count": 57,
   "metadata": {},
   "outputs": [
    {
     "data": {
      "text/html": [
       "<style>#sk-container-id-3 {color: black;background-color: white;}#sk-container-id-3 pre{padding: 0;}#sk-container-id-3 div.sk-toggleable {background-color: white;}#sk-container-id-3 label.sk-toggleable__label {cursor: pointer;display: block;width: 100%;margin-bottom: 0;padding: 0.3em;box-sizing: border-box;text-align: center;}#sk-container-id-3 label.sk-toggleable__label-arrow:before {content: \"▸\";float: left;margin-right: 0.25em;color: #696969;}#sk-container-id-3 label.sk-toggleable__label-arrow:hover:before {color: black;}#sk-container-id-3 div.sk-estimator:hover label.sk-toggleable__label-arrow:before {color: black;}#sk-container-id-3 div.sk-toggleable__content {max-height: 0;max-width: 0;overflow: hidden;text-align: left;background-color: #f0f8ff;}#sk-container-id-3 div.sk-toggleable__content pre {margin: 0.2em;color: black;border-radius: 0.25em;background-color: #f0f8ff;}#sk-container-id-3 input.sk-toggleable__control:checked~div.sk-toggleable__content {max-height: 200px;max-width: 100%;overflow: auto;}#sk-container-id-3 input.sk-toggleable__control:checked~label.sk-toggleable__label-arrow:before {content: \"▾\";}#sk-container-id-3 div.sk-estimator input.sk-toggleable__control:checked~label.sk-toggleable__label {background-color: #d4ebff;}#sk-container-id-3 div.sk-label input.sk-toggleable__control:checked~label.sk-toggleable__label {background-color: #d4ebff;}#sk-container-id-3 input.sk-hidden--visually {border: 0;clip: rect(1px 1px 1px 1px);clip: rect(1px, 1px, 1px, 1px);height: 1px;margin: -1px;overflow: hidden;padding: 0;position: absolute;width: 1px;}#sk-container-id-3 div.sk-estimator {font-family: monospace;background-color: #f0f8ff;border: 1px dotted black;border-radius: 0.25em;box-sizing: border-box;margin-bottom: 0.5em;}#sk-container-id-3 div.sk-estimator:hover {background-color: #d4ebff;}#sk-container-id-3 div.sk-parallel-item::after {content: \"\";width: 100%;border-bottom: 1px solid gray;flex-grow: 1;}#sk-container-id-3 div.sk-label:hover label.sk-toggleable__label {background-color: #d4ebff;}#sk-container-id-3 div.sk-serial::before {content: \"\";position: absolute;border-left: 1px solid gray;box-sizing: border-box;top: 0;bottom: 0;left: 50%;z-index: 0;}#sk-container-id-3 div.sk-serial {display: flex;flex-direction: column;align-items: center;background-color: white;padding-right: 0.2em;padding-left: 0.2em;position: relative;}#sk-container-id-3 div.sk-item {position: relative;z-index: 1;}#sk-container-id-3 div.sk-parallel {display: flex;align-items: stretch;justify-content: center;background-color: white;position: relative;}#sk-container-id-3 div.sk-item::before, #sk-container-id-3 div.sk-parallel-item::before {content: \"\";position: absolute;border-left: 1px solid gray;box-sizing: border-box;top: 0;bottom: 0;left: 50%;z-index: -1;}#sk-container-id-3 div.sk-parallel-item {display: flex;flex-direction: column;z-index: 1;position: relative;background-color: white;}#sk-container-id-3 div.sk-parallel-item:first-child::after {align-self: flex-end;width: 50%;}#sk-container-id-3 div.sk-parallel-item:last-child::after {align-self: flex-start;width: 50%;}#sk-container-id-3 div.sk-parallel-item:only-child::after {width: 0;}#sk-container-id-3 div.sk-dashed-wrapped {border: 1px dashed gray;margin: 0 0.4em 0.5em 0.4em;box-sizing: border-box;padding-bottom: 0.4em;background-color: white;}#sk-container-id-3 div.sk-label label {font-family: monospace;font-weight: bold;display: inline-block;line-height: 1.2em;}#sk-container-id-3 div.sk-label-container {text-align: center;}#sk-container-id-3 div.sk-container {/* jupyter's `normalize.less` sets `[hidden] { display: none; }` but bootstrap.min.css set `[hidden] { display: none !important; }` so we also need the `!important` here to be able to override the default hidden behavior on the sphinx rendered scikit-learn.org. See: https://github.com/scikit-learn/scikit-learn/issues/21755 */display: inline-block !important;position: relative;}#sk-container-id-3 div.sk-text-repr-fallback {display: none;}</style><div id=\"sk-container-id-3\" class=\"sk-top-container\"><div class=\"sk-text-repr-fallback\"><pre>SVC(kernel=&#x27;linear&#x27;)</pre><b>In a Jupyter environment, please rerun this cell to show the HTML representation or trust the notebook. <br />On GitHub, the HTML representation is unable to render, please try loading this page with nbviewer.org.</b></div><div class=\"sk-container\" hidden><div class=\"sk-item\"><div class=\"sk-estimator sk-toggleable\"><input class=\"sk-toggleable__control sk-hidden--visually\" id=\"sk-estimator-id-3\" type=\"checkbox\" checked><label for=\"sk-estimator-id-3\" class=\"sk-toggleable__label sk-toggleable__label-arrow\">SVC</label><div class=\"sk-toggleable__content\"><pre>SVC(kernel=&#x27;linear&#x27;)</pre></div></div></div></div></div>"
      ],
      "text/plain": [
       "SVC(kernel='linear')"
      ]
     },
     "execution_count": 57,
     "metadata": {},
     "output_type": "execute_result"
    }
   ],
   "source": [
    "#Import svm model\n",
    "from sklearn import svm\n",
    "\n",
    "#Create a svm Classifier\n",
    "svm_clf = svm.SVC(kernel='linear') # Linear Kernel\n",
    "\n",
    "#Train the model using the training sets\n",
    "svm_clf.fit(X_train, y_train.values.ravel())"
   ]
  },
  {
   "cell_type": "code",
   "execution_count": 58,
   "metadata": {},
   "outputs": [
    {
     "name": "stdout",
     "output_type": "stream",
     "text": [
      "Support Vector Machine score:  0.8378395531860878\n"
     ]
    }
   ],
   "source": [
    "#Predict the response for train dataset\n",
    "y_train_pred_svm = svm_clf.predict(X_train)\n",
    "\n",
    "print(\"Support Vector Machine score: \",svm_clf.score(X_train, y_train))"
   ]
  },
  {
   "cell_type": "code",
   "execution_count": 59,
   "metadata": {},
   "outputs": [
    {
     "data": {
      "text/plain": [
       "<AxesSubplot:>"
      ]
     },
     "execution_count": 59,
     "metadata": {},
     "output_type": "execute_result"
    },
    {
     "data": {
      "image/png": "[encoded data removed]",
      "text/plain": [
       "<Figure size 432x288 with 2 Axes>"
      ]
     },
     "metadata": {
      "needs_background": "light"
     },
     "output_type": "display_data"
    }
   ],
   "source": [
    "from sklearn.metrics import confusion_matrix\n",
    "\n",
    "confusion_matrix(y_train, y_train_pred_svm)\n",
    "sns.heatmap(confusion_matrix(y_train, y_train_pred_svm), annot=True,fmt='d')"
   ]
  },
  {
   "cell_type": "code",
   "execution_count": 60,
   "metadata": {},
   "outputs": [
    {
     "name": "stdout",
     "output_type": "stream",
     "text": [
      "Precision Score:  0.8546134663341646\n",
      "Recall Score:  0.8314933883294917\n",
      "F1 Score:  0.8428949148373608\n",
      "Accuracy Score:  0.8378395531860878\n"
     ]
    }
   ],
   "source": [
    "#Performance measures for training dataset\n",
    "\n",
    "from sklearn.metrics import precision_score, recall_score,f1_score,accuracy_score\n",
    "print(\"Precision Score: \",precision_score(y_train, y_train_pred_svm))\n",
    "print(\"Recall Score: \",recall_score(y_train, y_train_pred_svm))\n",
    "print(\"F1 Score: \",f1_score(y_train, y_train_pred_svm))\n",
    "print(\"Accuracy Score: \",accuracy_score(y_train, y_train_pred_svm))"
   ]
  },
  {
   "cell_type": "markdown",
   "metadata": {},
   "source": [
    "#### Evaluating on Test set\n"
   ]
  },
  {
   "cell_type": "code",
   "execution_count": 61,
   "metadata": {},
   "outputs": [
    {
     "name": "stdout",
     "output_type": "stream",
     "text": [
      "Precision Score:  0.8504366812227074\n",
      "Recall Score:  0.8504366812227074\n",
      "F1 Score:  0.8504366812227074\n",
      "Accuracy Score:  0.8435179897201599\n"
     ]
    }
   ],
   "source": [
    "from sklearn.metrics import precision_score, recall_score,f1_score,accuracy_score\n",
    "\n",
    "#Predict the response for test dataset\n",
    "y_test_pred_svm = svm_clf.predict(X_test)\n",
    "#y_test_pred_sgd = sgd_clf.predict(X_test)\n",
    "\n",
    "print(\"Precision Score: \",precision_score(y_test, y_test_pred_svm))\n",
    "print(\"Recall Score: \",recall_score(y_test, y_test_pred_svm))\n",
    "print(\"F1 Score: \",f1_score(y_test, y_test_pred_svm))\n",
    "print(\"Accuracy Score: \",accuracy_score(y_test, y_test_pred_svm))"
   ]
  },
  {
   "cell_type": "code",
   "execution_count": 62,
   "metadata": {},
   "outputs": [
    {
     "name": "stdout",
     "output_type": "stream",
     "text": [
      "0.8431824124676411\n"
     ]
    }
   ],
   "source": [
    "from sklearn import metrics\n",
    "#calculate AUC of model\n",
    "auc_svm = metrics.roc_auc_score(y_test, y_test_pred_svm)\n",
    "print(auc_svm)"
   ]
  },
  {
   "cell_type": "code",
   "execution_count": 63,
   "metadata": {},
   "outputs": [],
   "source": [
    "cohen_score_svm = cohen_kappa_score(y_test, y_test_pred_svm)"
   ]
  },
  {
   "cell_type": "code",
   "execution_count": 64,
   "metadata": {},
   "outputs": [],
   "source": [
    "acc_list.append(accuracy_score(y_test, y_test_pred_svm))\n",
    "auc_list.append(auc_svm)\n",
    "kappa_list.append(cohen_score_svm)"
   ]
  },
  {
   "cell_type": "markdown",
   "metadata": {},
   "source": [
    "## Gaussian Naive Bayes Classifier"
   ]
  },
  {
   "cell_type": "code",
   "execution_count": 65,
   "metadata": {},
   "outputs": [
    {
     "name": "stdout",
     "output_type": "stream",
     "text": [
      "Wall time: 4.98 ms\n"
     ]
    },
    {
     "data": {
      "text/html": [
       "<style>#sk-container-id-4 {color: black;background-color: white;}#sk-container-id-4 pre{padding: 0;}#sk-container-id-4 div.sk-toggleable {background-color: white;}#sk-container-id-4 label.sk-toggleable__label {cursor: pointer;display: block;width: 100%;margin-bottom: 0;padding: 0.3em;box-sizing: border-box;text-align: center;}#sk-container-id-4 label.sk-toggleable__label-arrow:before {content: \"▸\";float: left;margin-right: 0.25em;color: #696969;}#sk-container-id-4 label.sk-toggleable__label-arrow:hover:before {color: black;}#sk-container-id-4 div.sk-estimator:hover label.sk-toggleable__label-arrow:before {color: black;}#sk-container-id-4 div.sk-toggleable__content {max-height: 0;max-width: 0;overflow: hidden;text-align: left;background-color: #f0f8ff;}#sk-container-id-4 div.sk-toggleable__content pre {margin: 0.2em;color: black;border-radius: 0.25em;background-color: #f0f8ff;}#sk-container-id-4 input.sk-toggleable__control:checked~div.sk-toggleable__content {max-height: 200px;max-width: 100%;overflow: auto;}#sk-container-id-4 input.sk-toggleable__control:checked~label.sk-toggleable__label-arrow:before {content: \"▾\";}#sk-container-id-4 div.sk-estimator input.sk-toggleable__control:checked~label.sk-toggleable__label {background-color: #d4ebff;}#sk-container-id-4 div.sk-label input.sk-toggleable__control:checked~label.sk-toggleable__label {background-color: #d4ebff;}#sk-container-id-4 input.sk-hidden--visually {border: 0;clip: rect(1px 1px 1px 1px);clip: rect(1px, 1px, 1px, 1px);height: 1px;margin: -1px;overflow: hidden;padding: 0;position: absolute;width: 1px;}#sk-container-id-4 div.sk-estimator {font-family: monospace;background-color: #f0f8ff;border: 1px dotted black;border-radius: 0.25em;box-sizing: border-box;margin-bottom: 0.5em;}#sk-container-id-4 div.sk-estimator:hover {background-color: #d4ebff;}#sk-container-id-4 div.sk-parallel-item::after {content: \"\";width: 100%;border-bottom: 1px solid gray;flex-grow: 1;}#sk-container-id-4 div.sk-label:hover label.sk-toggleable__label {background-color: #d4ebff;}#sk-container-id-4 div.sk-serial::before {content: \"\";position: absolute;border-left: 1px solid gray;box-sizing: border-box;top: 0;bottom: 0;left: 50%;z-index: 0;}#sk-container-id-4 div.sk-serial {display: flex;flex-direction: column;align-items: center;background-color: white;padding-right: 0.2em;padding-left: 0.2em;position: relative;}#sk-container-id-4 div.sk-item {position: relative;z-index: 1;}#sk-container-id-4 div.sk-parallel {display: flex;align-items: stretch;justify-content: center;background-color: white;position: relative;}#sk-container-id-4 div.sk-item::before, #sk-container-id-4 div.sk-parallel-item::before {content: \"\";position: absolute;border-left: 1px solid gray;box-sizing: border-box;top: 0;bottom: 0;left: 50%;z-index: -1;}#sk-container-id-4 div.sk-parallel-item {display: flex;flex-direction: column;z-index: 1;position: relative;background-color: white;}#sk-container-id-4 div.sk-parallel-item:first-child::after {align-self: flex-end;width: 50%;}#sk-container-id-4 div.sk-parallel-item:last-child::after {align-self: flex-start;width: 50%;}#sk-container-id-4 div.sk-parallel-item:only-child::after {width: 0;}#sk-container-id-4 div.sk-dashed-wrapped {border: 1px dashed gray;margin: 0 0.4em 0.5em 0.4em;box-sizing: border-box;padding-bottom: 0.4em;background-color: white;}#sk-container-id-4 div.sk-label label {font-family: monospace;font-weight: bold;display: inline-block;line-height: 1.2em;}#sk-container-id-4 div.sk-label-container {text-align: center;}#sk-container-id-4 div.sk-container {/* jupyter's `normalize.less` sets `[hidden] { display: none; }` but bootstrap.min.css set `[hidden] { display: none !important; }` so we also need the `!important` here to be able to override the default hidden behavior on the sphinx rendered scikit-learn.org. See: https://github.com/scikit-learn/scikit-learn/issues/21755 */display: inline-block !important;position: relative;}#sk-container-id-4 div.sk-text-repr-fallback {display: none;}</style><div id=\"sk-container-id-4\" class=\"sk-top-container\"><div class=\"sk-text-repr-fallback\"><pre>GaussianNB()</pre><b>In a Jupyter environment, please rerun this cell to show the HTML representation or trust the notebook. <br />On GitHub, the HTML representation is unable to render, please try loading this page with nbviewer.org.</b></div><div class=\"sk-container\" hidden><div class=\"sk-item\"><div class=\"sk-estimator sk-toggleable\"><input class=\"sk-toggleable__control sk-hidden--visually\" id=\"sk-estimator-id-4\" type=\"checkbox\" checked><label for=\"sk-estimator-id-4\" class=\"sk-toggleable__label sk-toggleable__label-arrow\">GaussianNB</label><div class=\"sk-toggleable__content\"><pre>GaussianNB()</pre></div></div></div></div></div>"
      ],
      "text/plain": [
       "GaussianNB()"
      ]
     },
     "execution_count": 65,
     "metadata": {},
     "output_type": "execute_result"
    }
   ],
   "source": [
    "%%time\n",
    "from sklearn.naive_bayes import GaussianNB\n",
    "\n",
    "nb_clf = GaussianNB()\n",
    "nb_clf.fit(X_train, y_train.values.ravel())"
   ]
  },
  {
   "cell_type": "markdown",
   "metadata": {},
   "source": [
    "#### Evaluating on Training Set"
   ]
  },
  {
   "cell_type": "code",
   "execution_count": 66,
   "metadata": {},
   "outputs": [
    {
     "name": "stdout",
     "output_type": "stream",
     "text": [
      "Naive Bayes score:  0.8285732419395786\n"
     ]
    }
   ],
   "source": [
    "#Predict the response for train dataset\n",
    "y_train_pred_nb = nb_clf.predict(X_train)\n",
    "\n",
    "print(\"Naive Bayes score: \",nb_clf.score(X_train, y_train))"
   ]
  },
  {
   "cell_type": "code",
   "execution_count": 67,
   "metadata": {},
   "outputs": [
    {
     "data": {
      "text/plain": [
       "<AxesSubplot:>"
      ]
     },
     "execution_count": 67,
     "metadata": {},
     "output_type": "execute_result"
    },
    {
     "data": {
      "image/png": "[encoded data removed]",
      "text/plain": [
       "<Figure size 432x288 with 2 Axes>"
      ]
     },
     "metadata": {
      "needs_background": "light"
     },
     "output_type": "display_data"
    }
   ],
   "source": [
    "from sklearn.metrics import confusion_matrix\n",
    "\n",
    "confusion_matrix(y_train, y_train_pred_nb)\n",
    "sns.heatmap(confusion_matrix(y_train, y_train_pred_nb), annot=True,fmt='d')"
   ]
  },
  {
   "cell_type": "code",
   "execution_count": 68,
   "metadata": {
    "scrolled": false
   },
   "outputs": [
    {
     "name": "stdout",
     "output_type": "stream",
     "text": [
      "Precision Score:  0.839666584947291\n",
      "Recall Score:  0.8310081281086983\n",
      "F1 Score:  0.835314919821962\n",
      "Accuracy Score:  0.8285732419395786\n"
     ]
    }
   ],
   "source": [
    "#Performance measures for training dataset\n",
    "\n",
    "from sklearn.metrics import precision_score, recall_score,f1_score,accuracy_score\n",
    "print(\"Precision Score: \",precision_score(y_train, y_train_pred_nb))\n",
    "print(\"Recall Score: \",recall_score(y_train, y_train_pred_nb))\n",
    "print(\"F1 Score: \",f1_score(y_train, y_train_pred_nb))\n",
    "print(\"Accuracy Score: \",accuracy_score(y_train, y_train_pred_nb))"
   ]
  },
  {
   "cell_type": "markdown",
   "metadata": {},
   "source": [
    "### Fine Tuning for Gaussian Naive Bayes"
   ]
  },
  {
   "cell_type": "code",
   "execution_count": 69,
   "metadata": {},
   "outputs": [
    {
     "name": "stdout",
     "output_type": "stream",
     "text": [
      "Wall time: 356 ms\n"
     ]
    },
    {
     "data": {
      "text/html": [
       "<style>#sk-container-id-5 {color: black;background-color: white;}#sk-container-id-5 pre{padding: 0;}#sk-container-id-5 div.sk-toggleable {background-color: white;}#sk-container-id-5 label.sk-toggleable__label {cursor: pointer;display: block;width: 100%;margin-bottom: 0;padding: 0.3em;box-sizing: border-box;text-align: center;}#sk-container-id-5 label.sk-toggleable__label-arrow:before {content: \"▸\";float: left;margin-right: 0.25em;color: #696969;}#sk-container-id-5 label.sk-toggleable__label-arrow:hover:before {color: black;}#sk-container-id-5 div.sk-estimator:hover label.sk-toggleable__label-arrow:before {color: black;}#sk-container-id-5 div.sk-toggleable__content {max-height: 0;max-width: 0;overflow: hidden;text-align: left;background-color: #f0f8ff;}#sk-container-id-5 div.sk-toggleable__content pre {margin: 0.2em;color: black;border-radius: 0.25em;background-color: #f0f8ff;}#sk-container-id-5 input.sk-toggleable__control:checked~div.sk-toggleable__content {max-height: 200px;max-width: 100%;overflow: auto;}#sk-container-id-5 input.sk-toggleable__control:checked~label.sk-toggleable__label-arrow:before {content: \"▾\";}#sk-container-id-5 div.sk-estimator input.sk-toggleable__control:checked~label.sk-toggleable__label {background-color: #d4ebff;}#sk-container-id-5 div.sk-label input.sk-toggleable__control:checked~label.sk-toggleable__label {background-color: #d4ebff;}#sk-container-id-5 input.sk-hidden--visually {border: 0;clip: rect(1px 1px 1px 1px);clip: rect(1px, 1px, 1px, 1px);height: 1px;margin: -1px;overflow: hidden;padding: 0;position: absolute;width: 1px;}#sk-container-id-5 div.sk-estimator {font-family: monospace;background-color: #f0f8ff;border: 1px dotted black;border-radius: 0.25em;box-sizing: border-box;margin-bottom: 0.5em;}#sk-container-id-5 div.sk-estimator:hover {background-color: #d4ebff;}#sk-container-id-5 div.sk-parallel-item::after {content: \"\";width: 100%;border-bottom: 1px solid gray;flex-grow: 1;}#sk-container-id-5 div.sk-label:hover label.sk-toggleable__label {background-color: #d4ebff;}#sk-container-id-5 div.sk-serial::before {content: \"\";position: absolute;border-left: 1px solid gray;box-sizing: border-box;top: 0;bottom: 0;left: 50%;z-index: 0;}#sk-container-id-5 div.sk-serial {display: flex;flex-direction: column;align-items: center;background-color: white;padding-right: 0.2em;padding-left: 0.2em;position: relative;}#sk-container-id-5 div.sk-item {position: relative;z-index: 1;}#sk-container-id-5 div.sk-parallel {display: flex;align-items: stretch;justify-content: center;background-color: white;position: relative;}#sk-container-id-5 div.sk-item::before, #sk-container-id-5 div.sk-parallel-item::before {content: \"\";position: absolute;border-left: 1px solid gray;box-sizing: border-box;top: 0;bottom: 0;left: 50%;z-index: -1;}#sk-container-id-5 div.sk-parallel-item {display: flex;flex-direction: column;z-index: 1;position: relative;background-color: white;}#sk-container-id-5 div.sk-parallel-item:first-child::after {align-self: flex-end;width: 50%;}#sk-container-id-5 div.sk-parallel-item:last-child::after {align-self: flex-start;width: 50%;}#sk-container-id-5 div.sk-parallel-item:only-child::after {width: 0;}#sk-container-id-5 div.sk-dashed-wrapped {border: 1px dashed gray;margin: 0 0.4em 0.5em 0.4em;box-sizing: border-box;padding-bottom: 0.4em;background-color: white;}#sk-container-id-5 div.sk-label label {font-family: monospace;font-weight: bold;display: inline-block;line-height: 1.2em;}#sk-container-id-5 div.sk-label-container {text-align: center;}#sk-container-id-5 div.sk-container {/* jupyter's `normalize.less` sets `[hidden] { display: none; }` but bootstrap.min.css set `[hidden] { display: none !important; }` so we also need the `!important` here to be able to override the default hidden behavior on the sphinx rendered scikit-learn.org. See: https://github.com/scikit-learn/scikit-learn/issues/21755 */display: inline-block !important;position: relative;}#sk-container-id-5 div.sk-text-repr-fallback {display: none;}</style><div id=\"sk-container-id-5\" class=\"sk-top-container\"><div class=\"sk-text-repr-fallback\"><pre>RandomizedSearchCV(estimator=GaussianNB(),\n",
       "                   param_distributions={&#x27;var_smoothing&#x27;: array([1.00000000e+00, 8.11130831e-01, 6.57933225e-01, 5.33669923e-01,\n",
       "       4.32876128e-01, 3.51119173e-01, 2.84803587e-01, 2.31012970e-01,\n",
       "       1.87381742e-01, 1.51991108e-01, 1.23284674e-01, 1.00000000e-01,\n",
       "       8.11130831e-02, 6.57933225e-02, 5.33669923e-02, 4.32876128e-02,\n",
       "       3.51119173e-02, 2.8480358...\n",
       "       1.23284674e-07, 1.00000000e-07, 8.11130831e-08, 6.57933225e-08,\n",
       "       5.33669923e-08, 4.32876128e-08, 3.51119173e-08, 2.84803587e-08,\n",
       "       2.31012970e-08, 1.87381742e-08, 1.51991108e-08, 1.23284674e-08,\n",
       "       1.00000000e-08, 8.11130831e-09, 6.57933225e-09, 5.33669923e-09,\n",
       "       4.32876128e-09, 3.51119173e-09, 2.84803587e-09, 2.31012970e-09,\n",
       "       1.87381742e-09, 1.51991108e-09, 1.23284674e-09, 1.00000000e-09])},\n",
       "                   random_state=42)</pre><b>In a Jupyter environment, please rerun this cell to show the HTML representation or trust the notebook. <br />On GitHub, the HTML representation is unable to render, please try loading this page with nbviewer.org.</b></div><div class=\"sk-container\" hidden><div class=\"sk-item sk-dashed-wrapped\"><div class=\"sk-label-container\"><div class=\"sk-label sk-toggleable\"><input class=\"sk-toggleable__control sk-hidden--visually\" id=\"sk-estimator-id-5\" type=\"checkbox\" ><label for=\"sk-estimator-id-5\" class=\"sk-toggleable__label sk-toggleable__label-arrow\">RandomizedSearchCV</label><div class=\"sk-toggleable__content\"><pre>RandomizedSearchCV(estimator=GaussianNB(),\n",
       "                   param_distributions={&#x27;var_smoothing&#x27;: array([1.00000000e+00, 8.11130831e-01, 6.57933225e-01, 5.33669923e-01,\n",
       "       4.32876128e-01, 3.51119173e-01, 2.84803587e-01, 2.31012970e-01,\n",
       "       1.87381742e-01, 1.51991108e-01, 1.23284674e-01, 1.00000000e-01,\n",
       "       8.11130831e-02, 6.57933225e-02, 5.33669923e-02, 4.32876128e-02,\n",
       "       3.51119173e-02, 2.8480358...\n",
       "       1.23284674e-07, 1.00000000e-07, 8.11130831e-08, 6.57933225e-08,\n",
       "       5.33669923e-08, 4.32876128e-08, 3.51119173e-08, 2.84803587e-08,\n",
       "       2.31012970e-08, 1.87381742e-08, 1.51991108e-08, 1.23284674e-08,\n",
       "       1.00000000e-08, 8.11130831e-09, 6.57933225e-09, 5.33669923e-09,\n",
       "       4.32876128e-09, 3.51119173e-09, 2.84803587e-09, 2.31012970e-09,\n",
       "       1.87381742e-09, 1.51991108e-09, 1.23284674e-09, 1.00000000e-09])},\n",
       "                   random_state=42)</pre></div></div></div><div class=\"sk-parallel\"><div class=\"sk-parallel-item\"><div class=\"sk-item\"><div class=\"sk-label-container\"><div class=\"sk-label sk-toggleable\"><input class=\"sk-toggleable__control sk-hidden--visually\" id=\"sk-estimator-id-6\" type=\"checkbox\" ><label for=\"sk-estimator-id-6\" class=\"sk-toggleable__label sk-toggleable__label-arrow\">estimator: GaussianNB</label><div class=\"sk-toggleable__content\"><pre>GaussianNB()</pre></div></div></div><div class=\"sk-serial\"><div class=\"sk-item\"><div class=\"sk-estimator sk-toggleable\"><input class=\"sk-toggleable__control sk-hidden--visually\" id=\"sk-estimator-id-7\" type=\"checkbox\" ><label for=\"sk-estimator-id-7\" class=\"sk-toggleable__label sk-toggleable__label-arrow\">GaussianNB</label><div class=\"sk-toggleable__content\"><pre>GaussianNB()</pre></div></div></div></div></div></div></div></div></div></div>"
      ],
      "text/plain": [
       "RandomizedSearchCV(estimator=GaussianNB(),\n",
       "                   param_distributions={'var_smoothing': array([1.00000000e+00, 8.11130831e-01, 6.57933225e-01, 5.33669923e-01,\n",
       "       4.32876128e-01, 3.51119173e-01, 2.84803587e-01, 2.31012970e-01,\n",
       "       1.87381742e-01, 1.51991108e-01, 1.23284674e-01, 1.00000000e-01,\n",
       "       8.11130831e-02, 6.57933225e-02, 5.33669923e-02, 4.32876128e-02,\n",
       "       3.51119173e-02, 2.8480358...\n",
       "       1.23284674e-07, 1.00000000e-07, 8.11130831e-08, 6.57933225e-08,\n",
       "       5.33669923e-08, 4.32876128e-08, 3.51119173e-08, 2.84803587e-08,\n",
       "       2.31012970e-08, 1.87381742e-08, 1.51991108e-08, 1.23284674e-08,\n",
       "       1.00000000e-08, 8.11130831e-09, 6.57933225e-09, 5.33669923e-09,\n",
       "       4.32876128e-09, 3.51119173e-09, 2.84803587e-09, 2.31012970e-09,\n",
       "       1.87381742e-09, 1.51991108e-09, 1.23284674e-09, 1.00000000e-09])},\n",
       "                   random_state=42)"
      ]
     },
     "execution_count": 69,
     "metadata": {},
     "output_type": "execute_result"
    }
   ],
   "source": [
    "%%time\n",
    "from sklearn.model_selection import RandomizedSearchCV\n",
    "from scipy import stats\n",
    "\n",
    "NB_distribution = {'var_smoothing': np.logspace(0,-9, num=100)}\n",
    "\n",
    "nb_clf = GaussianNB()       \n",
    "\n",
    "rnd_search_nb = RandomizedSearchCV(nb_clf, param_distributions = NB_distribution, random_state = 42) \n",
    "rnd_search_nb.fit(X_train, y_train.values.ravel()) "
   ]
  },
  {
   "cell_type": "code",
   "execution_count": 70,
   "metadata": {},
   "outputs": [
    {
     "name": "stdout",
     "output_type": "stream",
     "text": [
      "Rank 1# - Score: 0.9102954324430825 - {'var_smoothing': 2.848035868435799e-08}\n",
      "Rank 1# - Score: 0.9102954324430825 - {'var_smoothing': 1.5199110829529332e-05}\n",
      "Rank 1# - Score: 0.9102954324430825 - {'var_smoothing': 4.3287612810830526e-07}\n",
      "Rank 1# - Score: 0.9102954324430825 - {'var_smoothing': 8.111308307896872e-05}\n",
      "Rank 1# - Score: 0.9102954324430825 - {'var_smoothing': 0.0001}\n",
      "Rank 1# - Score: 0.9102954324430825 - {'var_smoothing': 0.0002848035868435802}\n",
      "Rank 1# - Score: 0.9102954324430825 - {'var_smoothing': 5.336699231206302e-08}\n",
      "Rank 8# - Score: 0.9099118325432533 - {'var_smoothing': 0.01}\n",
      "Rank 9# - Score: 0.9077818998940024 - {'var_smoothing': 0.12328467394420659}\n",
      "Rank 10# - Score: 0.8995645141853625 - {'var_smoothing': 1.0}\n"
     ]
    }
   ],
   "source": [
    "cvres = pd.DataFrame(rnd_search_nb.cv_results_).sort_values(by=['rank_test_score'])\n",
    "for mean_score, params,rank in zip(cvres[\"mean_test_score\"], cvres[\"params\"],cvres[\"rank_test_score\"]):\n",
    "    print(\"Rank {}# - Score: {} - {}\".format(rank, np.sqrt(mean_score), params))"
   ]
  },
  {
   "cell_type": "code",
   "execution_count": 71,
   "metadata": {},
   "outputs": [
    {
     "data": {
      "text/html": [
       "<style>#sk-container-id-6 {color: black;background-color: white;}#sk-container-id-6 pre{padding: 0;}#sk-container-id-6 div.sk-toggleable {background-color: white;}#sk-container-id-6 label.sk-toggleable__label {cursor: pointer;display: block;width: 100%;margin-bottom: 0;padding: 0.3em;box-sizing: border-box;text-align: center;}#sk-container-id-6 label.sk-toggleable__label-arrow:before {content: \"▸\";float: left;margin-right: 0.25em;color: #696969;}#sk-container-id-6 label.sk-toggleable__label-arrow:hover:before {color: black;}#sk-container-id-6 div.sk-estimator:hover label.sk-toggleable__label-arrow:before {color: black;}#sk-container-id-6 div.sk-toggleable__content {max-height: 0;max-width: 0;overflow: hidden;text-align: left;background-color: #f0f8ff;}#sk-container-id-6 div.sk-toggleable__content pre {margin: 0.2em;color: black;border-radius: 0.25em;background-color: #f0f8ff;}#sk-container-id-6 input.sk-toggleable__control:checked~div.sk-toggleable__content {max-height: 200px;max-width: 100%;overflow: auto;}#sk-container-id-6 input.sk-toggleable__control:checked~label.sk-toggleable__label-arrow:before {content: \"▾\";}#sk-container-id-6 div.sk-estimator input.sk-toggleable__control:checked~label.sk-toggleable__label {background-color: #d4ebff;}#sk-container-id-6 div.sk-label input.sk-toggleable__control:checked~label.sk-toggleable__label {background-color: #d4ebff;}#sk-container-id-6 input.sk-hidden--visually {border: 0;clip: rect(1px 1px 1px 1px);clip: rect(1px, 1px, 1px, 1px);height: 1px;margin: -1px;overflow: hidden;padding: 0;position: absolute;width: 1px;}#sk-container-id-6 div.sk-estimator {font-family: monospace;background-color: #f0f8ff;border: 1px dotted black;border-radius: 0.25em;box-sizing: border-box;margin-bottom: 0.5em;}#sk-container-id-6 div.sk-estimator:hover {background-color: #d4ebff;}#sk-container-id-6 div.sk-parallel-item::after {content: \"\";width: 100%;border-bottom: 1px solid gray;flex-grow: 1;}#sk-container-id-6 div.sk-label:hover label.sk-toggleable__label {background-color: #d4ebff;}#sk-container-id-6 div.sk-serial::before {content: \"\";position: absolute;border-left: 1px solid gray;box-sizing: border-box;top: 0;bottom: 0;left: 50%;z-index: 0;}#sk-container-id-6 div.sk-serial {display: flex;flex-direction: column;align-items: center;background-color: white;padding-right: 0.2em;padding-left: 0.2em;position: relative;}#sk-container-id-6 div.sk-item {position: relative;z-index: 1;}#sk-container-id-6 div.sk-parallel {display: flex;align-items: stretch;justify-content: center;background-color: white;position: relative;}#sk-container-id-6 div.sk-item::before, #sk-container-id-6 div.sk-parallel-item::before {content: \"\";position: absolute;border-left: 1px solid gray;box-sizing: border-box;top: 0;bottom: 0;left: 50%;z-index: -1;}#sk-container-id-6 div.sk-parallel-item {display: flex;flex-direction: column;z-index: 1;position: relative;background-color: white;}#sk-container-id-6 div.sk-parallel-item:first-child::after {align-self: flex-end;width: 50%;}#sk-container-id-6 div.sk-parallel-item:last-child::after {align-self: flex-start;width: 50%;}#sk-container-id-6 div.sk-parallel-item:only-child::after {width: 0;}#sk-container-id-6 div.sk-dashed-wrapped {border: 1px dashed gray;margin: 0 0.4em 0.5em 0.4em;box-sizing: border-box;padding-bottom: 0.4em;background-color: white;}#sk-container-id-6 div.sk-label label {font-family: monospace;font-weight: bold;display: inline-block;line-height: 1.2em;}#sk-container-id-6 div.sk-label-container {text-align: center;}#sk-container-id-6 div.sk-container {/* jupyter's `normalize.less` sets `[hidden] { display: none; }` but bootstrap.min.css set `[hidden] { display: none !important; }` so we also need the `!important` here to be able to override the default hidden behavior on the sphinx rendered scikit-learn.org. See: https://github.com/scikit-learn/scikit-learn/issues/21755 */display: inline-block !important;position: relative;}#sk-container-id-6 div.sk-text-repr-fallback {display: none;}</style><div id=\"sk-container-id-6\" class=\"sk-top-container\"><div class=\"sk-text-repr-fallback\"><pre>GaussianNB(var_smoothing=2.848035868435799e-08)</pre><b>In a Jupyter environment, please rerun this cell to show the HTML representation or trust the notebook. <br />On GitHub, the HTML representation is unable to render, please try loading this page with nbviewer.org.</b></div><div class=\"sk-container\" hidden><div class=\"sk-item\"><div class=\"sk-estimator sk-toggleable\"><input class=\"sk-toggleable__control sk-hidden--visually\" id=\"sk-estimator-id-8\" type=\"checkbox\" checked><label for=\"sk-estimator-id-8\" class=\"sk-toggleable__label sk-toggleable__label-arrow\">GaussianNB</label><div class=\"sk-toggleable__content\"><pre>GaussianNB(var_smoothing=2.848035868435799e-08)</pre></div></div></div></div></div>"
      ],
      "text/plain": [
       "GaussianNB(var_smoothing=2.848035868435799e-08)"
      ]
     },
     "execution_count": 71,
     "metadata": {},
     "output_type": "execute_result"
    }
   ],
   "source": [
    "rnd_search_nb.best_estimator_"
   ]
  },
  {
   "cell_type": "markdown",
   "metadata": {},
   "source": [
    "#### Evaluating on Test set"
   ]
  },
  {
   "cell_type": "code",
   "execution_count": 72,
   "metadata": {
    "scrolled": true
   },
   "outputs": [
    {
     "name": "stdout",
     "output_type": "stream",
     "text": [
      "Precision Score:  0.8450704225352113\n",
      "Recall Score:  0.851528384279476\n",
      "F1 Score:  0.8482871125611745\n",
      "Accuracy Score:  0.8406624785836665\n"
     ]
    }
   ],
   "source": [
    "from sklearn.metrics import precision_score, recall_score,f1_score,accuracy_score\n",
    "\n",
    "#Predict the response for test dataset\n",
    "#y_test_pred_nb = nb_clf.predict(X_test)\n",
    "y_test_pred_nb = rnd_search_nb.best_estimator_.predict(X_test)\n",
    "\n",
    "print(\"Precision Score: \",precision_score(y_test, y_test_pred_nb))\n",
    "print(\"Recall Score: \",recall_score(y_test, y_test_pred_nb))\n",
    "print(\"F1 Score: \",f1_score(y_test, y_test_pred_nb))\n",
    "print(\"Accuracy Score: \",accuracy_score(y_test, y_test_pred_nb))"
   ]
  },
  {
   "cell_type": "code",
   "execution_count": 73,
   "metadata": {},
   "outputs": [
    {
     "name": "stdout",
     "output_type": "stream",
     "text": [
      "0.8401354496247679\n"
     ]
    }
   ],
   "source": [
    "#calculate AUC of model\n",
    "from sklearn import metrics\n",
    "auc_nb = metrics.roc_auc_score(y_test, y_test_pred_nb)\n",
    "print(auc_nb)"
   ]
  },
  {
   "cell_type": "code",
   "execution_count": 74,
   "metadata": {},
   "outputs": [],
   "source": [
    "cohen_score_nb = cohen_kappa_score(y_test, y_test_pred_nb)"
   ]
  },
  {
   "cell_type": "code",
   "execution_count": 75,
   "metadata": {},
   "outputs": [],
   "source": [
    "acc_list.append(accuracy_score(y_test, y_test_pred_nb))\n",
    "auc_list.append(auc_nb)\n",
    "kappa_list.append(cohen_score_nb)"
   ]
  },
  {
   "cell_type": "markdown",
   "metadata": {},
   "source": [
    "## Stochastic Gradient Descent"
   ]
  },
  {
   "cell_type": "code",
   "execution_count": 76,
   "metadata": {
    "scrolled": true
   },
   "outputs": [
    {
     "name": "stdout",
     "output_type": "stream",
     "text": [
      "Wall time: 25.9 ms\n"
     ]
    },
    {
     "data": {
      "text/html": [
       "<style>#sk-container-id-7 {color: black;background-color: white;}#sk-container-id-7 pre{padding: 0;}#sk-container-id-7 div.sk-toggleable {background-color: white;}#sk-container-id-7 label.sk-toggleable__label {cursor: pointer;display: block;width: 100%;margin-bottom: 0;padding: 0.3em;box-sizing: border-box;text-align: center;}#sk-container-id-7 label.sk-toggleable__label-arrow:before {content: \"▸\";float: left;margin-right: 0.25em;color: #696969;}#sk-container-id-7 label.sk-toggleable__label-arrow:hover:before {color: black;}#sk-container-id-7 div.sk-estimator:hover label.sk-toggleable__label-arrow:before {color: black;}#sk-container-id-7 div.sk-toggleable__content {max-height: 0;max-width: 0;overflow: hidden;text-align: left;background-color: #f0f8ff;}#sk-container-id-7 div.sk-toggleable__content pre {margin: 0.2em;color: black;border-radius: 0.25em;background-color: #f0f8ff;}#sk-container-id-7 input.sk-toggleable__control:checked~div.sk-toggleable__content {max-height: 200px;max-width: 100%;overflow: auto;}#sk-container-id-7 input.sk-toggleable__control:checked~label.sk-toggleable__label-arrow:before {content: \"▾\";}#sk-container-id-7 div.sk-estimator input.sk-toggleable__control:checked~label.sk-toggleable__label {background-color: #d4ebff;}#sk-container-id-7 div.sk-label input.sk-toggleable__control:checked~label.sk-toggleable__label {background-color: #d4ebff;}#sk-container-id-7 input.sk-hidden--visually {border: 0;clip: rect(1px 1px 1px 1px);clip: rect(1px, 1px, 1px, 1px);height: 1px;margin: -1px;overflow: hidden;padding: 0;position: absolute;width: 1px;}#sk-container-id-7 div.sk-estimator {font-family: monospace;background-color: #f0f8ff;border: 1px dotted black;border-radius: 0.25em;box-sizing: border-box;margin-bottom: 0.5em;}#sk-container-id-7 div.sk-estimator:hover {background-color: #d4ebff;}#sk-container-id-7 div.sk-parallel-item::after {content: \"\";width: 100%;border-bottom: 1px solid gray;flex-grow: 1;}#sk-container-id-7 div.sk-label:hover label.sk-toggleable__label {background-color: #d4ebff;}#sk-container-id-7 div.sk-serial::before {content: \"\";position: absolute;border-left: 1px solid gray;box-sizing: border-box;top: 0;bottom: 0;left: 50%;z-index: 0;}#sk-container-id-7 div.sk-serial {display: flex;flex-direction: column;align-items: center;background-color: white;padding-right: 0.2em;padding-left: 0.2em;position: relative;}#sk-container-id-7 div.sk-item {position: relative;z-index: 1;}#sk-container-id-7 div.sk-parallel {display: flex;align-items: stretch;justify-content: center;background-color: white;position: relative;}#sk-container-id-7 div.sk-item::before, #sk-container-id-7 div.sk-parallel-item::before {content: \"\";position: absolute;border-left: 1px solid gray;box-sizing: border-box;top: 0;bottom: 0;left: 50%;z-index: -1;}#sk-container-id-7 div.sk-parallel-item {display: flex;flex-direction: column;z-index: 1;position: relative;background-color: white;}#sk-container-id-7 div.sk-parallel-item:first-child::after {align-self: flex-end;width: 50%;}#sk-container-id-7 div.sk-parallel-item:last-child::after {align-self: flex-start;width: 50%;}#sk-container-id-7 div.sk-parallel-item:only-child::after {width: 0;}#sk-container-id-7 div.sk-dashed-wrapped {border: 1px dashed gray;margin: 0 0.4em 0.5em 0.4em;box-sizing: border-box;padding-bottom: 0.4em;background-color: white;}#sk-container-id-7 div.sk-label label {font-family: monospace;font-weight: bold;display: inline-block;line-height: 1.2em;}#sk-container-id-7 div.sk-label-container {text-align: center;}#sk-container-id-7 div.sk-container {/* jupyter's `normalize.less` sets `[hidden] { display: none; }` but bootstrap.min.css set `[hidden] { display: none !important; }` so we also need the `!important` here to be able to override the default hidden behavior on the sphinx rendered scikit-learn.org. See: https://github.com/scikit-learn/scikit-learn/issues/21755 */display: inline-block !important;position: relative;}#sk-container-id-7 div.sk-text-repr-fallback {display: none;}</style><div id=\"sk-container-id-7\" class=\"sk-top-container\"><div class=\"sk-text-repr-fallback\"><pre>SGDClassifier(random_state=42)</pre><b>In a Jupyter environment, please rerun this cell to show the HTML representation or trust the notebook. <br />On GitHub, the HTML representation is unable to render, please try loading this page with nbviewer.org.</b></div><div class=\"sk-container\" hidden><div class=\"sk-item\"><div class=\"sk-estimator sk-toggleable\"><input class=\"sk-toggleable__control sk-hidden--visually\" id=\"sk-estimator-id-9\" type=\"checkbox\" checked><label for=\"sk-estimator-id-9\" class=\"sk-toggleable__label sk-toggleable__label-arrow\">SGDClassifier</label><div class=\"sk-toggleable__content\"><pre>SGDClassifier(random_state=42)</pre></div></div></div></div></div>"
      ],
      "text/plain": [
       "SGDClassifier(random_state=42)"
      ]
     },
     "execution_count": 76,
     "metadata": {},
     "output_type": "execute_result"
    }
   ],
   "source": [
    "%%time\n",
    "from sklearn.linear_model import SGDClassifier\n",
    "\n",
    "sgd_clf = SGDClassifier(max_iter=1000, tol=1e-3, random_state=42)\n",
    "sgd_clf.fit(X_train, y_train.values.ravel())"
   ]
  },
  {
   "cell_type": "markdown",
   "metadata": {},
   "source": [
    "#### Evaluating on Train set"
   ]
  },
  {
   "cell_type": "code",
   "execution_count": 77,
   "metadata": {},
   "outputs": [
    {
     "name": "stdout",
     "output_type": "stream",
     "text": [
      "Stochastic Gradient Descent Classifier score:  0.837014470677837\n"
     ]
    }
   ],
   "source": [
    "#Predict the response for train dataset\n",
    "y_train_pred_sgd = sgd_clf.predict(X_train)\n",
    "print(\"Stochastic Gradient Descent Classifier score: \",sgd_clf.score(X_train, y_train))"
   ]
  },
  {
   "cell_type": "code",
   "execution_count": 78,
   "metadata": {},
   "outputs": [
    {
     "data": {
      "text/plain": [
       "<AxesSubplot:>"
      ]
     },
     "execution_count": 78,
     "metadata": {},
     "output_type": "execute_result"
    },
    {
     "data": {
      "image/png": "[encoded data removed]",
      "text/plain": [
       "<Figure size 432x288 with 2 Axes>"
      ]
     },
     "metadata": {
      "needs_background": "light"
     },
     "output_type": "display_data"
    }
   ],
   "source": [
    "from sklearn.metrics import confusion_matrix\n",
    "\n",
    "confusion_matrix(y_train, y_train_pred_sgd)\n",
    "sns.heatmap(confusion_matrix(y_train, y_train_pred_sgd), annot=True,fmt='d')"
   ]
  },
  {
   "cell_type": "code",
   "execution_count": 79,
   "metadata": {},
   "outputs": [
    {
     "name": "stdout",
     "output_type": "stream",
     "text": [
      "Precision Score:  0.8630838131797824\n",
      "Recall Score:  0.8182700473128716\n",
      "F1 Score:  0.8400797110474529\n",
      "Accuracy Score:  0.837014470677837\n"
     ]
    }
   ],
   "source": [
    "#Performance measures for training dataset\n",
    "from sklearn.metrics import precision_score, recall_score,f1_score,accuracy_score\n",
    "print(\"Precision Score: \",precision_score(y_train, y_train_pred_sgd))\n",
    "print(\"Recall Score: \",recall_score(y_train, y_train_pred_sgd))\n",
    "print(\"F1 Score: \",f1_score(y_train, y_train_pred_sgd))\n",
    "print(\"Accuracy Score: \",accuracy_score(y_train, y_train_pred_sgd))"
   ]
  },
  {
   "cell_type": "markdown",
   "metadata": {},
   "source": [
    "### Fine Tuning for Stochastic Gradient Descent"
   ]
  },
  {
   "cell_type": "code",
   "execution_count": 80,
   "metadata": {},
   "outputs": [
    {
     "name": "stdout",
     "output_type": "stream",
     "text": [
      "Wall time: 2.82 s\n"
     ]
    },
    {
     "data": {
      "text/html": [
       "<style>#sk-container-id-8 {color: black;background-color: white;}#sk-container-id-8 pre{padding: 0;}#sk-container-id-8 div.sk-toggleable {background-color: white;}#sk-container-id-8 label.sk-toggleable__label {cursor: pointer;display: block;width: 100%;margin-bottom: 0;padding: 0.3em;box-sizing: border-box;text-align: center;}#sk-container-id-8 label.sk-toggleable__label-arrow:before {content: \"▸\";float: left;margin-right: 0.25em;color: #696969;}#sk-container-id-8 label.sk-toggleable__label-arrow:hover:before {color: black;}#sk-container-id-8 div.sk-estimator:hover label.sk-toggleable__label-arrow:before {color: black;}#sk-container-id-8 div.sk-toggleable__content {max-height: 0;max-width: 0;overflow: hidden;text-align: left;background-color: #f0f8ff;}#sk-container-id-8 div.sk-toggleable__content pre {margin: 0.2em;color: black;border-radius: 0.25em;background-color: #f0f8ff;}#sk-container-id-8 input.sk-toggleable__control:checked~div.sk-toggleable__content {max-height: 200px;max-width: 100%;overflow: auto;}#sk-container-id-8 input.sk-toggleable__control:checked~label.sk-toggleable__label-arrow:before {content: \"▾\";}#sk-container-id-8 div.sk-estimator input.sk-toggleable__control:checked~label.sk-toggleable__label {background-color: #d4ebff;}#sk-container-id-8 div.sk-label input.sk-toggleable__control:checked~label.sk-toggleable__label {background-color: #d4ebff;}#sk-container-id-8 input.sk-hidden--visually {border: 0;clip: rect(1px 1px 1px 1px);clip: rect(1px, 1px, 1px, 1px);height: 1px;margin: -1px;overflow: hidden;padding: 0;position: absolute;width: 1px;}#sk-container-id-8 div.sk-estimator {font-family: monospace;background-color: #f0f8ff;border: 1px dotted black;border-radius: 0.25em;box-sizing: border-box;margin-bottom: 0.5em;}#sk-container-id-8 div.sk-estimator:hover {background-color: #d4ebff;}#sk-container-id-8 div.sk-parallel-item::after {content: \"\";width: 100%;border-bottom: 1px solid gray;flex-grow: 1;}#sk-container-id-8 div.sk-label:hover label.sk-toggleable__label {background-color: #d4ebff;}#sk-container-id-8 div.sk-serial::before {content: \"\";position: absolute;border-left: 1px solid gray;box-sizing: border-box;top: 0;bottom: 0;left: 50%;z-index: 0;}#sk-container-id-8 div.sk-serial {display: flex;flex-direction: column;align-items: center;background-color: white;padding-right: 0.2em;padding-left: 0.2em;position: relative;}#sk-container-id-8 div.sk-item {position: relative;z-index: 1;}#sk-container-id-8 div.sk-parallel {display: flex;align-items: stretch;justify-content: center;background-color: white;position: relative;}#sk-container-id-8 div.sk-item::before, #sk-container-id-8 div.sk-parallel-item::before {content: \"\";position: absolute;border-left: 1px solid gray;box-sizing: border-box;top: 0;bottom: 0;left: 50%;z-index: -1;}#sk-container-id-8 div.sk-parallel-item {display: flex;flex-direction: column;z-index: 1;position: relative;background-color: white;}#sk-container-id-8 div.sk-parallel-item:first-child::after {align-self: flex-end;width: 50%;}#sk-container-id-8 div.sk-parallel-item:last-child::after {align-self: flex-start;width: 50%;}#sk-container-id-8 div.sk-parallel-item:only-child::after {width: 0;}#sk-container-id-8 div.sk-dashed-wrapped {border: 1px dashed gray;margin: 0 0.4em 0.5em 0.4em;box-sizing: border-box;padding-bottom: 0.4em;background-color: white;}#sk-container-id-8 div.sk-label label {font-family: monospace;font-weight: bold;display: inline-block;line-height: 1.2em;}#sk-container-id-8 div.sk-label-container {text-align: center;}#sk-container-id-8 div.sk-container {/* jupyter's `normalize.less` sets `[hidden] { display: none; }` but bootstrap.min.css set `[hidden] { display: none !important; }` so we also need the `!important` here to be able to override the default hidden behavior on the sphinx rendered scikit-learn.org. See: https://github.com/scikit-learn/scikit-learn/issues/21755 */display: inline-block !important;position: relative;}#sk-container-id-8 div.sk-text-repr-fallback {display: none;}</style><div id=\"sk-container-id-8\" class=\"sk-top-container\"><div class=\"sk-text-repr-fallback\"><pre>RandomizedSearchCV(cv=5, estimator=SGDClassifier(random_state=42),\n",
       "                   param_distributions={&#x27;alpha&#x27;: [0.0001, 0.001, 0.01, 0.1, 1,\n",
       "                                                  10, 100, 1000],\n",
       "                                        &#x27;average&#x27;: [True, False],\n",
       "                                        &#x27;class_weight&#x27;: [{0: 0.5, 1: 0.5},\n",
       "                                                         {0: 0.6, 1: 0.4},\n",
       "                                                         {0: 0.4, 1: 0.6},\n",
       "                                                         {0: 0.3, 1: 0.7}],\n",
       "                                        &#x27;eta0&#x27;: [1, 10, 100],\n",
       "                                        &#x27;learning_rate&#x27;: [&#x27;constant&#x27;, &#x27;optimal&#x27;,\n",
       "                                                          &#x27;invscaling&#x27;,\n",
       "                                                          &#x27;adaptive&#x27;],\n",
       "                                        &#x27;loss&#x27;: [&#x27;hinge&#x27;, &#x27;log_loss&#x27;,\n",
       "                                                 &#x27;modified_huber&#x27;,\n",
       "                                                 &#x27;squared_hinge&#x27;,\n",
       "                                                 &#x27;perceptron&#x27;],\n",
       "                                        &#x27;penalty&#x27;: [&#x27;l2&#x27;, &#x27;l1&#x27;, &#x27;elasticnet&#x27;]},\n",
       "                   random_state=42, scoring=&#x27;accuracy&#x27;)</pre><b>In a Jupyter environment, please rerun this cell to show the HTML representation or trust the notebook. <br />On GitHub, the HTML representation is unable to render, please try loading this page with nbviewer.org.</b></div><div class=\"sk-container\" hidden><div class=\"sk-item sk-dashed-wrapped\"><div class=\"sk-label-container\"><div class=\"sk-label sk-toggleable\"><input class=\"sk-toggleable__control sk-hidden--visually\" id=\"sk-estimator-id-10\" type=\"checkbox\" ><label for=\"sk-estimator-id-10\" class=\"sk-toggleable__label sk-toggleable__label-arrow\">RandomizedSearchCV</label><div class=\"sk-toggleable__content\"><pre>RandomizedSearchCV(cv=5, estimator=SGDClassifier(random_state=42),\n",
       "                   param_distributions={&#x27;alpha&#x27;: [0.0001, 0.001, 0.01, 0.1, 1,\n",
       "                                                  10, 100, 1000],\n",
       "                                        &#x27;average&#x27;: [True, False],\n",
       "                                        &#x27;class_weight&#x27;: [{0: 0.5, 1: 0.5},\n",
       "                                                         {0: 0.6, 1: 0.4},\n",
       "                                                         {0: 0.4, 1: 0.6},\n",
       "                                                         {0: 0.3, 1: 0.7}],\n",
       "                                        &#x27;eta0&#x27;: [1, 10, 100],\n",
       "                                        &#x27;learning_rate&#x27;: [&#x27;constant&#x27;, &#x27;optimal&#x27;,\n",
       "                                                          &#x27;invscaling&#x27;,\n",
       "                                                          &#x27;adaptive&#x27;],\n",
       "                                        &#x27;loss&#x27;: [&#x27;hinge&#x27;, &#x27;log_loss&#x27;,\n",
       "                                                 &#x27;modified_huber&#x27;,\n",
       "                                                 &#x27;squared_hinge&#x27;,\n",
       "                                                 &#x27;perceptron&#x27;],\n",
       "                                        &#x27;penalty&#x27;: [&#x27;l2&#x27;, &#x27;l1&#x27;, &#x27;elasticnet&#x27;]},\n",
       "                   random_state=42, scoring=&#x27;accuracy&#x27;)</pre></div></div></div><div class=\"sk-parallel\"><div class=\"sk-parallel-item\"><div class=\"sk-item\"><div class=\"sk-label-container\"><div class=\"sk-label sk-toggleable\"><input class=\"sk-toggleable__control sk-hidden--visually\" id=\"sk-estimator-id-11\" type=\"checkbox\" ><label for=\"sk-estimator-id-11\" class=\"sk-toggleable__label sk-toggleable__label-arrow\">estimator: SGDClassifier</label><div class=\"sk-toggleable__content\"><pre>SGDClassifier(random_state=42)</pre></div></div></div><div class=\"sk-serial\"><div class=\"sk-item\"><div class=\"sk-estimator sk-toggleable\"><input class=\"sk-toggleable__control sk-hidden--visually\" id=\"sk-estimator-id-12\" type=\"checkbox\" ><label for=\"sk-estimator-id-12\" class=\"sk-toggleable__label sk-toggleable__label-arrow\">SGDClassifier</label><div class=\"sk-toggleable__content\"><pre>SGDClassifier(random_state=42)</pre></div></div></div></div></div></div></div></div></div></div>"
      ],
      "text/plain": [
       "RandomizedSearchCV(cv=5, estimator=SGDClassifier(random_state=42),\n",
       "                   param_distributions={'alpha': [0.0001, 0.001, 0.01, 0.1, 1,\n",
       "                                                  10, 100, 1000],\n",
       "                                        'average': [True, False],\n",
       "                                        'class_weight': [{0: 0.5, 1: 0.5},\n",
       "                                                         {0: 0.6, 1: 0.4},\n",
       "                                                         {0: 0.4, 1: 0.6},\n",
       "                                                         {0: 0.3, 1: 0.7}],\n",
       "                                        'eta0': [1, 10, 100],\n",
       "                                        'learning_rate': ['constant', 'optimal',\n",
       "                                                          'invscaling',\n",
       "                                                          'adaptive'],\n",
       "                                        'loss': ['hinge', 'log_loss',\n",
       "                                                 'modified_huber',\n",
       "                                                 'squared_hinge',\n",
       "                                                 'perceptron'],\n",
       "                                        'penalty': ['l2', 'l1', 'elasticnet']},\n",
       "                   random_state=42, scoring='accuracy')"
      ]
     },
     "execution_count": 80,
     "metadata": {},
     "output_type": "execute_result"
    }
   ],
   "source": [
    "%%time\n",
    "from sklearn.model_selection import RandomizedSearchCV\n",
    "from scipy.stats import randint\n",
    "import scipy.stats as stats\n",
    "from sklearn.utils.fixes import loguniform\n",
    "\n",
    "param_distribs = {\n",
    "        \"average\": [True, False],\n",
    "        \"loss\":['hinge', 'log_loss', 'modified_huber', 'squared_hinge',  'perceptron'],\n",
    "        \"alpha\": [0.0001, 0.001, 0.01, 0.1, 1, 10, 100, 1000],\n",
    "        \"learning_rate\":['constant', 'optimal', 'invscaling', 'adaptive'],\n",
    "        \"class_weight\":[{1:0.5, 0:0.5}, {1:0.4, 0:0.6}, {1:0.6, 0:0.4}, {1:0.7, 0:0.3}],\n",
    "        \"eta0\":[1, 10, 100],\n",
    "        \"penalty\":['l2', 'l1', 'elasticnet']\n",
    "    }\n",
    "sgd_clf = SGDClassifier(max_iter=1000, tol=1e-3, random_state=42)\n",
    "rnd_search_SGD = RandomizedSearchCV(sgd_clf, param_distributions=param_distribs,\n",
    "                                n_iter=10, cv=5, scoring='accuracy', random_state=42)\n",
    "rnd_search_SGD.fit(X_train, y_train.values.ravel())"
   ]
  },
  {
   "cell_type": "code",
   "execution_count": 81,
   "metadata": {},
   "outputs": [
    {
     "name": "stdout",
     "output_type": "stream",
     "text": [
      "Rank 1# - Score: 0.9071522370988951 - {'penalty': 'l1', 'loss': 'squared_hinge', 'learning_rate': 'constant', 'eta0': 10, 'class_weight': {1: 0.5, 0: 0.5}, 'average': True, 'alpha': 10}\n",
      "Rank 2# - Score: 0.906067190289876 - {'penalty': 'elasticnet', 'loss': 'log_loss', 'learning_rate': 'optimal', 'eta0': 100, 'class_weight': {1: 0.5, 0: 0.5}, 'average': False, 'alpha': 0.0001}\n",
      "Rank 3# - Score: 0.7233019967409637 - {'penalty': 'l1', 'loss': 'log_loss', 'learning_rate': 'invscaling', 'eta0': 100, 'class_weight': {1: 0.7, 0: 0.3}, 'average': False, 'alpha': 0.1}\n",
      "Rank 4# - Score: 0.7168231352145172 - {'penalty': 'l1', 'loss': 'log_loss', 'learning_rate': 'constant', 'eta0': 100, 'class_weight': {1: 0.6, 0: 0.4}, 'average': False, 'alpha': 1000}\n",
      "Rank 5# - Score: 0.7103745348021926 - {'penalty': 'l1', 'loss': 'perceptron', 'learning_rate': 'adaptive', 'eta0': 100, 'class_weight': {1: 0.6, 0: 0.4}, 'average': False, 'alpha': 0.1}\n",
      "Rank 6# - Score: 0.7038231407485448 - {'penalty': 'l1', 'loss': 'squared_hinge', 'learning_rate': 'optimal', 'eta0': 100, 'class_weight': {1: 0.6, 0: 0.4}, 'average': True, 'alpha': 1}\n",
      "Rank 7# - Score: 0.7037766750786335 - {'penalty': 'l1', 'loss': 'hinge', 'learning_rate': 'invscaling', 'eta0': 100, 'class_weight': {1: 0.5, 0: 0.5}, 'average': False, 'alpha': 0.1}\n",
      "Rank 8# - Score: 0.6905318396066432 - {'penalty': 'elasticnet', 'loss': 'log_loss', 'learning_rate': 'adaptive', 'eta0': 100, 'class_weight': {1: 0.4, 0: 0.6}, 'average': False, 'alpha': 0.1}\n",
      "Rank 9# - Score: 0.6876767300519495 - {'penalty': 'l1', 'loss': 'hinge', 'learning_rate': 'adaptive', 'eta0': 10, 'class_weight': {1: 0.6, 0: 0.4}, 'average': True, 'alpha': 0.0001}\n",
      "Rank 10# - Score: 0.5543567376375256 - {'penalty': 'l1', 'loss': 'hinge', 'learning_rate': 'adaptive', 'eta0': 10, 'class_weight': {1: 0.5, 0: 0.5}, 'average': True, 'alpha': 0.1}\n"
     ]
    }
   ],
   "source": [
    "cvres = pd.DataFrame(rnd_search_SGD.cv_results_).sort_values(by=['rank_test_score'])\n",
    "for mean_score, params,rank in zip(cvres[\"mean_test_score\"], cvres[\"params\"],cvres[\"rank_test_score\"]):\n",
    "    print(\"Rank {}# - Score: {} - {}\".format(rank, np.sqrt(mean_score), params))"
   ]
  },
  {
   "cell_type": "code",
   "execution_count": 82,
   "metadata": {},
   "outputs": [
    {
     "data": {
      "text/html": [
       "<style>#sk-container-id-9 {color: black;background-color: white;}#sk-container-id-9 pre{padding: 0;}#sk-container-id-9 div.sk-toggleable {background-color: white;}#sk-container-id-9 label.sk-toggleable__label {cursor: pointer;display: block;width: 100%;margin-bottom: 0;padding: 0.3em;box-sizing: border-box;text-align: center;}#sk-container-id-9 label.sk-toggleable__label-arrow:before {content: \"▸\";float: left;margin-right: 0.25em;color: #696969;}#sk-container-id-9 label.sk-toggleable__label-arrow:hover:before {color: black;}#sk-container-id-9 div.sk-estimator:hover label.sk-toggleable__label-arrow:before {color: black;}#sk-container-id-9 div.sk-toggleable__content {max-height: 0;max-width: 0;overflow: hidden;text-align: left;background-color: #f0f8ff;}#sk-container-id-9 div.sk-toggleable__content pre {margin: 0.2em;color: black;border-radius: 0.25em;background-color: #f0f8ff;}#sk-container-id-9 input.sk-toggleable__control:checked~div.sk-toggleable__content {max-height: 200px;max-width: 100%;overflow: auto;}#sk-container-id-9 input.sk-toggleable__control:checked~label.sk-toggleable__label-arrow:before {content: \"▾\";}#sk-container-id-9 div.sk-estimator input.sk-toggleable__control:checked~label.sk-toggleable__label {background-color: #d4ebff;}#sk-container-id-9 div.sk-label input.sk-toggleable__control:checked~label.sk-toggleable__label {background-color: #d4ebff;}#sk-container-id-9 input.sk-hidden--visually {border: 0;clip: rect(1px 1px 1px 1px);clip: rect(1px, 1px, 1px, 1px);height: 1px;margin: -1px;overflow: hidden;padding: 0;position: absolute;width: 1px;}#sk-container-id-9 div.sk-estimator {font-family: monospace;background-color: #f0f8ff;border: 1px dotted black;border-radius: 0.25em;box-sizing: border-box;margin-bottom: 0.5em;}#sk-container-id-9 div.sk-estimator:hover {background-color: #d4ebff;}#sk-container-id-9 div.sk-parallel-item::after {content: \"\";width: 100%;border-bottom: 1px solid gray;flex-grow: 1;}#sk-container-id-9 div.sk-label:hover label.sk-toggleable__label {background-color: #d4ebff;}#sk-container-id-9 div.sk-serial::before {content: \"\";position: absolute;border-left: 1px solid gray;box-sizing: border-box;top: 0;bottom: 0;left: 50%;z-index: 0;}#sk-container-id-9 div.sk-serial {display: flex;flex-direction: column;align-items: center;background-color: white;padding-right: 0.2em;padding-left: 0.2em;position: relative;}#sk-container-id-9 div.sk-item {position: relative;z-index: 1;}#sk-container-id-9 div.sk-parallel {display: flex;align-items: stretch;justify-content: center;background-color: white;position: relative;}#sk-container-id-9 div.sk-item::before, #sk-container-id-9 div.sk-parallel-item::before {content: \"\";position: absolute;border-left: 1px solid gray;box-sizing: border-box;top: 0;bottom: 0;left: 50%;z-index: -1;}#sk-container-id-9 div.sk-parallel-item {display: flex;flex-direction: column;z-index: 1;position: relative;background-color: white;}#sk-container-id-9 div.sk-parallel-item:first-child::after {align-self: flex-end;width: 50%;}#sk-container-id-9 div.sk-parallel-item:last-child::after {align-self: flex-start;width: 50%;}#sk-container-id-9 div.sk-parallel-item:only-child::after {width: 0;}#sk-container-id-9 div.sk-dashed-wrapped {border: 1px dashed gray;margin: 0 0.4em 0.5em 0.4em;box-sizing: border-box;padding-bottom: 0.4em;background-color: white;}#sk-container-id-9 div.sk-label label {font-family: monospace;font-weight: bold;display: inline-block;line-height: 1.2em;}#sk-container-id-9 div.sk-label-container {text-align: center;}#sk-container-id-9 div.sk-container {/* jupyter's `normalize.less` sets `[hidden] { display: none; }` but bootstrap.min.css set `[hidden] { display: none !important; }` so we also need the `!important` here to be able to override the default hidden behavior on the sphinx rendered scikit-learn.org. See: https://github.com/scikit-learn/scikit-learn/issues/21755 */display: inline-block !important;position: relative;}#sk-container-id-9 div.sk-text-repr-fallback {display: none;}</style><div id=\"sk-container-id-9\" class=\"sk-top-container\"><div class=\"sk-text-repr-fallback\"><pre>SGDClassifier(alpha=10, average=True, class_weight={0: 0.5, 1: 0.5}, eta0=10,\n",
       "              learning_rate=&#x27;constant&#x27;, loss=&#x27;squared_hinge&#x27;, penalty=&#x27;l1&#x27;,\n",
       "              random_state=42)</pre><b>In a Jupyter environment, please rerun this cell to show the HTML representation or trust the notebook. <br />On GitHub, the HTML representation is unable to render, please try loading this page with nbviewer.org.</b></div><div class=\"sk-container\" hidden><div class=\"sk-item\"><div class=\"sk-estimator sk-toggleable\"><input class=\"sk-toggleable__control sk-hidden--visually\" id=\"sk-estimator-id-13\" type=\"checkbox\" checked><label for=\"sk-estimator-id-13\" class=\"sk-toggleable__label sk-toggleable__label-arrow\">SGDClassifier</label><div class=\"sk-toggleable__content\"><pre>SGDClassifier(alpha=10, average=True, class_weight={0: 0.5, 1: 0.5}, eta0=10,\n",
       "              learning_rate=&#x27;constant&#x27;, loss=&#x27;squared_hinge&#x27;, penalty=&#x27;l1&#x27;,\n",
       "              random_state=42)</pre></div></div></div></div></div>"
      ],
      "text/plain": [
       "SGDClassifier(alpha=10, average=True, class_weight={0: 0.5, 1: 0.5}, eta0=10,\n",
       "              learning_rate='constant', loss='squared_hinge', penalty='l1',\n",
       "              random_state=42)"
      ]
     },
     "execution_count": 82,
     "metadata": {},
     "output_type": "execute_result"
    }
   ],
   "source": [
    "rnd_search_SGD.best_estimator_"
   ]
  },
  {
   "cell_type": "markdown",
   "metadata": {},
   "source": [
    "#### Evaluating on Test set"
   ]
  },
  {
   "cell_type": "code",
   "execution_count": 83,
   "metadata": {},
   "outputs": [
    {
     "name": "stdout",
     "output_type": "stream",
     "text": [
      "Precision Score:  0.8190279214064116\n",
      "Recall Score:  0.8646288209606987\n",
      "F1 Score:  0.8412108337758896\n",
      "Accuracy Score:  0.8292404340376928\n"
     ]
    }
   ],
   "source": [
    "from sklearn.metrics import precision_score, recall_score,f1_score,accuracy_score\n",
    "\n",
    "#Predict the response for test dataset\n",
    "y_test_pred_sgd = rnd_search_SGD.best_estimator_.predict(X_test)\n",
    "#y_test_pred_sgd = sgd_clf.predict(X_test)\n",
    "\n",
    "print(\"Precision Score: \",precision_score(y_test, y_test_pred_sgd))\n",
    "print(\"Recall Score: \",recall_score(y_test, y_test_pred_sgd))\n",
    "print(\"F1 Score: \",f1_score(y_test, y_test_pred_sgd))\n",
    "print(\"Accuracy Score: \",accuracy_score(y_test, y_test_pred_sgd))"
   ]
  },
  {
   "cell_type": "code",
   "execution_count": 84,
   "metadata": {
    "scrolled": true
   },
   "outputs": [
    {
     "name": "stdout",
     "output_type": "stream",
     "text": [
      "0.8275239913186727\n"
     ]
    }
   ],
   "source": [
    "from sklearn import metrics\n",
    "#calculate AUC of model\n",
    "auc_sgd = metrics.roc_auc_score(y_test, y_test_pred_sgd)\n",
    "print(auc_sgd)"
   ]
  },
  {
   "cell_type": "code",
   "execution_count": 85,
   "metadata": {},
   "outputs": [],
   "source": [
    "cohen_score_sgd = cohen_kappa_score(y_test, y_test_pred_sgd)"
   ]
  },
  {
   "cell_type": "code",
   "execution_count": 86,
   "metadata": {},
   "outputs": [],
   "source": [
    "acc_list.append(accuracy_score(y_test, y_test_pred_sgd))\n",
    "auc_list.append(auc_sgd)\n",
    "kappa_list.append(cohen_score_sgd)"
   ]
  },
  {
   "cell_type": "markdown",
   "metadata": {},
   "source": [
    "## Logistic Regression"
   ]
  },
  {
   "cell_type": "code",
   "execution_count": 87,
   "metadata": {},
   "outputs": [
    {
     "name": "stdout",
     "output_type": "stream",
     "text": [
      "Wall time: 25.9 ms\n"
     ]
    },
    {
     "data": {
      "text/html": [
       "<style>#sk-container-id-10 {color: black;background-color: white;}#sk-container-id-10 pre{padding: 0;}#sk-container-id-10 div.sk-toggleable {background-color: white;}#sk-container-id-10 label.sk-toggleable__label {cursor: pointer;display: block;width: 100%;margin-bottom: 0;padding: 0.3em;box-sizing: border-box;text-align: center;}#sk-container-id-10 label.sk-toggleable__label-arrow:before {content: \"▸\";float: left;margin-right: 0.25em;color: #696969;}#sk-container-id-10 label.sk-toggleable__label-arrow:hover:before {color: black;}#sk-container-id-10 div.sk-estimator:hover label.sk-toggleable__label-arrow:before {color: black;}#sk-container-id-10 div.sk-toggleable__content {max-height: 0;max-width: 0;overflow: hidden;text-align: left;background-color: #f0f8ff;}#sk-container-id-10 div.sk-toggleable__content pre {margin: 0.2em;color: black;border-radius: 0.25em;background-color: #f0f8ff;}#sk-container-id-10 input.sk-toggleable__control:checked~div.sk-toggleable__content {max-height: 200px;max-width: 100%;overflow: auto;}#sk-container-id-10 input.sk-toggleable__control:checked~label.sk-toggleable__label-arrow:before {content: \"▾\";}#sk-container-id-10 div.sk-estimator input.sk-toggleable__control:checked~label.sk-toggleable__label {background-color: #d4ebff;}#sk-container-id-10 div.sk-label input.sk-toggleable__control:checked~label.sk-toggleable__label {background-color: #d4ebff;}#sk-container-id-10 input.sk-hidden--visually {border: 0;clip: rect(1px 1px 1px 1px);clip: rect(1px, 1px, 1px, 1px);height: 1px;margin: -1px;overflow: hidden;padding: 0;position: absolute;width: 1px;}#sk-container-id-10 div.sk-estimator {font-family: monospace;background-color: #f0f8ff;border: 1px dotted black;border-radius: 0.25em;box-sizing: border-box;margin-bottom: 0.5em;}#sk-container-id-10 div.sk-estimator:hover {background-color: #d4ebff;}#sk-container-id-10 div.sk-parallel-item::after {content: \"\";width: 100%;border-bottom: 1px solid gray;flex-grow: 1;}#sk-container-id-10 div.sk-label:hover label.sk-toggleable__label {background-color: #d4ebff;}#sk-container-id-10 div.sk-serial::before {content: \"\";position: absolute;border-left: 1px solid gray;box-sizing: border-box;top: 0;bottom: 0;left: 50%;z-index: 0;}#sk-container-id-10 div.sk-serial {display: flex;flex-direction: column;align-items: center;background-color: white;padding-right: 0.2em;padding-left: 0.2em;position: relative;}#sk-container-id-10 div.sk-item {position: relative;z-index: 1;}#sk-container-id-10 div.sk-parallel {display: flex;align-items: stretch;justify-content: center;background-color: white;position: relative;}#sk-container-id-10 div.sk-item::before, #sk-container-id-10 div.sk-parallel-item::before {content: \"\";position: absolute;border-left: 1px solid gray;box-sizing: border-box;top: 0;bottom: 0;left: 50%;z-index: -1;}#sk-container-id-10 div.sk-parallel-item {display: flex;flex-direction: column;z-index: 1;position: relative;background-color: white;}#sk-container-id-10 div.sk-parallel-item:first-child::after {align-self: flex-end;width: 50%;}#sk-container-id-10 div.sk-parallel-item:last-child::after {align-self: flex-start;width: 50%;}#sk-container-id-10 div.sk-parallel-item:only-child::after {width: 0;}#sk-container-id-10 div.sk-dashed-wrapped {border: 1px dashed gray;margin: 0 0.4em 0.5em 0.4em;box-sizing: border-box;padding-bottom: 0.4em;background-color: white;}#sk-container-id-10 div.sk-label label {font-family: monospace;font-weight: bold;display: inline-block;line-height: 1.2em;}#sk-container-id-10 div.sk-label-container {text-align: center;}#sk-container-id-10 div.sk-container {/* jupyter's `normalize.less` sets `[hidden] { display: none; }` but bootstrap.min.css set `[hidden] { display: none !important; }` so we also need the `!important` here to be able to override the default hidden behavior on the sphinx rendered scikit-learn.org. See: https://github.com/scikit-learn/scikit-learn/issues/21755 */display: inline-block !important;position: relative;}#sk-container-id-10 div.sk-text-repr-fallback {display: none;}</style><div id=\"sk-container-id-10\" class=\"sk-top-container\"><div class=\"sk-text-repr-fallback\"><pre>LogisticRegression(max_iter=200, random_state=42, solver=&#x27;saga&#x27;, tol=0.01)</pre><b>In a Jupyter environment, please rerun this cell to show the HTML representation or trust the notebook. <br />On GitHub, the HTML representation is unable to render, please try loading this page with nbviewer.org.</b></div><div class=\"sk-container\" hidden><div class=\"sk-item\"><div class=\"sk-estimator sk-toggleable\"><input class=\"sk-toggleable__control sk-hidden--visually\" id=\"sk-estimator-id-14\" type=\"checkbox\" checked><label for=\"sk-estimator-id-14\" class=\"sk-toggleable__label sk-toggleable__label-arrow\">LogisticRegression</label><div class=\"sk-toggleable__content\"><pre>LogisticRegression(max_iter=200, random_state=42, solver=&#x27;saga&#x27;, tol=0.01)</pre></div></div></div></div></div>"
      ],
      "text/plain": [
       "LogisticRegression(max_iter=200, random_state=42, solver='saga', tol=0.01)"
      ]
     },
     "execution_count": 87,
     "metadata": {},
     "output_type": "execute_result"
    }
   ],
   "source": [
    "%%time\n",
    "#logistic regression for targets \n",
    "from sklearn.linear_model import LogisticRegression \n",
    "from sklearn.model_selection import cross_val_predict\n",
    "\n",
    "log_clf = LogisticRegression(solver='saga', tol=1e-2, max_iter=200,\n",
    "                              random_state=42)\n",
    "log_clf.fit(X_train, y_train.values.ravel())"
   ]
  },
  {
   "cell_type": "markdown",
   "metadata": {},
   "source": [
    "#### Evaluating on Train set"
   ]
  },
  {
   "cell_type": "code",
   "execution_count": 88,
   "metadata": {},
   "outputs": [
    {
     "name": "stdout",
     "output_type": "stream",
     "text": [
      "Logistic Regression score:  0.8230515359228231\n"
     ]
    }
   ],
   "source": [
    "#Predict the response for train dataset\n",
    "y_train_pred_log = log_clf.predict(X_train)\n",
    "print(\"Logistic Regression score: \",log_clf.score(X_train, y_train))"
   ]
  },
  {
   "cell_type": "code",
   "execution_count": 89,
   "metadata": {},
   "outputs": [
    {
     "data": {
      "text/plain": [
       "<AxesSubplot:>"
      ]
     },
     "execution_count": 89,
     "metadata": {},
     "output_type": "execute_result"
    },
    {
     "data": {
      "image/png": "[encoded data removed]",
      "text/plain": [
       "<Figure size 432x288 with 2 Axes>"
      ]
     },
     "metadata": {
      "needs_background": "light"
     },
     "output_type": "display_data"
    }
   ],
   "source": [
    "from sklearn.metrics import confusion_matrix\n",
    "import seaborn as sns\n",
    "confusion_matrix(y_train, y_train_pred_log)\n",
    "sns.heatmap(confusion_matrix(y_train, y_train_pred_log), annot=True,fmt='d')"
   ]
  },
  {
   "cell_type": "code",
   "execution_count": 90,
   "metadata": {},
   "outputs": [
    {
     "name": "stdout",
     "output_type": "stream",
     "text": [
      "Precision Score:  0.8214496169711255\n",
      "Recall Score:  0.8455659347325003\n",
      "F1 Score:  0.8333333333333333\n",
      "Accuracy Score:  0.8230515359228231\n"
     ]
    }
   ],
   "source": [
    "#Performance measures for training dataset\n",
    "from sklearn.metrics import precision_score, recall_score,f1_score,accuracy_score\n",
    "print(\"Precision Score: \",precision_score(y_train, y_train_pred_log))\n",
    "print(\"Recall Score: \",recall_score(y_train, y_train_pred_log))\n",
    "print(\"F1 Score: \",f1_score(y_train, y_train_pred_log))\n",
    "print(\"Accuracy Score: \",accuracy_score(y_train, y_train_pred_log))"
   ]
  },
  {
   "cell_type": "markdown",
   "metadata": {},
   "source": [
    "### Fine Tuning for Logistic Regression"
   ]
  },
  {
   "cell_type": "code",
   "execution_count": 91,
   "metadata": {},
   "outputs": [
    {
     "name": "stdout",
     "output_type": "stream",
     "text": [
      "Wall time: 1.04 s\n"
     ]
    },
    {
     "data": {
      "text/html": [
       "<style>#sk-container-id-11 {color: black;background-color: white;}#sk-container-id-11 pre{padding: 0;}#sk-container-id-11 div.sk-toggleable {background-color: white;}#sk-container-id-11 label.sk-toggleable__label {cursor: pointer;display: block;width: 100%;margin-bottom: 0;padding: 0.3em;box-sizing: border-box;text-align: center;}#sk-container-id-11 label.sk-toggleable__label-arrow:before {content: \"▸\";float: left;margin-right: 0.25em;color: #696969;}#sk-container-id-11 label.sk-toggleable__label-arrow:hover:before {color: black;}#sk-container-id-11 div.sk-estimator:hover label.sk-toggleable__label-arrow:before {color: black;}#sk-container-id-11 div.sk-toggleable__content {max-height: 0;max-width: 0;overflow: hidden;text-align: left;background-color: #f0f8ff;}#sk-container-id-11 div.sk-toggleable__content pre {margin: 0.2em;color: black;border-radius: 0.25em;background-color: #f0f8ff;}#sk-container-id-11 input.sk-toggleable__control:checked~div.sk-toggleable__content {max-height: 200px;max-width: 100%;overflow: auto;}#sk-container-id-11 input.sk-toggleable__control:checked~label.sk-toggleable__label-arrow:before {content: \"▾\";}#sk-container-id-11 div.sk-estimator input.sk-toggleable__control:checked~label.sk-toggleable__label {background-color: #d4ebff;}#sk-container-id-11 div.sk-label input.sk-toggleable__control:checked~label.sk-toggleable__label {background-color: #d4ebff;}#sk-container-id-11 input.sk-hidden--visually {border: 0;clip: rect(1px 1px 1px 1px);clip: rect(1px, 1px, 1px, 1px);height: 1px;margin: -1px;overflow: hidden;padding: 0;position: absolute;width: 1px;}#sk-container-id-11 div.sk-estimator {font-family: monospace;background-color: #f0f8ff;border: 1px dotted black;border-radius: 0.25em;box-sizing: border-box;margin-bottom: 0.5em;}#sk-container-id-11 div.sk-estimator:hover {background-color: #d4ebff;}#sk-container-id-11 div.sk-parallel-item::after {content: \"\";width: 100%;border-bottom: 1px solid gray;flex-grow: 1;}#sk-container-id-11 div.sk-label:hover label.sk-toggleable__label {background-color: #d4ebff;}#sk-container-id-11 div.sk-serial::before {content: \"\";position: absolute;border-left: 1px solid gray;box-sizing: border-box;top: 0;bottom: 0;left: 50%;z-index: 0;}#sk-container-id-11 div.sk-serial {display: flex;flex-direction: column;align-items: center;background-color: white;padding-right: 0.2em;padding-left: 0.2em;position: relative;}#sk-container-id-11 div.sk-item {position: relative;z-index: 1;}#sk-container-id-11 div.sk-parallel {display: flex;align-items: stretch;justify-content: center;background-color: white;position: relative;}#sk-container-id-11 div.sk-item::before, #sk-container-id-11 div.sk-parallel-item::before {content: \"\";position: absolute;border-left: 1px solid gray;box-sizing: border-box;top: 0;bottom: 0;left: 50%;z-index: -1;}#sk-container-id-11 div.sk-parallel-item {display: flex;flex-direction: column;z-index: 1;position: relative;background-color: white;}#sk-container-id-11 div.sk-parallel-item:first-child::after {align-self: flex-end;width: 50%;}#sk-container-id-11 div.sk-parallel-item:last-child::after {align-self: flex-start;width: 50%;}#sk-container-id-11 div.sk-parallel-item:only-child::after {width: 0;}#sk-container-id-11 div.sk-dashed-wrapped {border: 1px dashed gray;margin: 0 0.4em 0.5em 0.4em;box-sizing: border-box;padding-bottom: 0.4em;background-color: white;}#sk-container-id-11 div.sk-label label {font-family: monospace;font-weight: bold;display: inline-block;line-height: 1.2em;}#sk-container-id-11 div.sk-label-container {text-align: center;}#sk-container-id-11 div.sk-container {/* jupyter's `normalize.less` sets `[hidden] { display: none; }` but bootstrap.min.css set `[hidden] { display: none !important; }` so we also need the `!important` here to be able to override the default hidden behavior on the sphinx rendered scikit-learn.org. See: https://github.com/scikit-learn/scikit-learn/issues/21755 */display: inline-block !important;position: relative;}#sk-container-id-11 div.sk-text-repr-fallback {display: none;}</style><div id=\"sk-container-id-11\" class=\"sk-top-container\"><div class=\"sk-text-repr-fallback\"><pre>RandomizedSearchCV(estimator=LogisticRegression(max_iter=200, random_state=42,\n",
       "                                                solver=&#x27;saga&#x27;, tol=0.01),\n",
       "                   param_distributions={&#x27;C&#x27;: &lt;scipy.stats._distn_infrastructure.rv_continuous_frozen object at 0x000002767F7DA760&gt;,\n",
       "                                        &#x27;penalty&#x27;: [&#x27;l2&#x27;],\n",
       "                                        &#x27;solver&#x27;: [&#x27;newton-cg&#x27;, &#x27;lbfgs&#x27;,\n",
       "                                                   &#x27;liblinear&#x27;, &#x27;sag&#x27;,\n",
       "                                                   &#x27;saga&#x27;]},\n",
       "                   random_state=42)</pre><b>In a Jupyter environment, please rerun this cell to show the HTML representation or trust the notebook. <br />On GitHub, the HTML representation is unable to render, please try loading this page with nbviewer.org.</b></div><div class=\"sk-container\" hidden><div class=\"sk-item sk-dashed-wrapped\"><div class=\"sk-label-container\"><div class=\"sk-label sk-toggleable\"><input class=\"sk-toggleable__control sk-hidden--visually\" id=\"sk-estimator-id-15\" type=\"checkbox\" ><label for=\"sk-estimator-id-15\" class=\"sk-toggleable__label sk-toggleable__label-arrow\">RandomizedSearchCV</label><div class=\"sk-toggleable__content\"><pre>RandomizedSearchCV(estimator=LogisticRegression(max_iter=200, random_state=42,\n",
       "                                                solver=&#x27;saga&#x27;, tol=0.01),\n",
       "                   param_distributions={&#x27;C&#x27;: &lt;scipy.stats._distn_infrastructure.rv_continuous_frozen object at 0x000002767F7DA760&gt;,\n",
       "                                        &#x27;penalty&#x27;: [&#x27;l2&#x27;],\n",
       "                                        &#x27;solver&#x27;: [&#x27;newton-cg&#x27;, &#x27;lbfgs&#x27;,\n",
       "                                                   &#x27;liblinear&#x27;, &#x27;sag&#x27;,\n",
       "                                                   &#x27;saga&#x27;]},\n",
       "                   random_state=42)</pre></div></div></div><div class=\"sk-parallel\"><div class=\"sk-parallel-item\"><div class=\"sk-item\"><div class=\"sk-label-container\"><div class=\"sk-label sk-toggleable\"><input class=\"sk-toggleable__control sk-hidden--visually\" id=\"sk-estimator-id-16\" type=\"checkbox\" ><label for=\"sk-estimator-id-16\" class=\"sk-toggleable__label sk-toggleable__label-arrow\">estimator: LogisticRegression</label><div class=\"sk-toggleable__content\"><pre>LogisticRegression(max_iter=200, random_state=42, solver=&#x27;saga&#x27;, tol=0.01)</pre></div></div></div><div class=\"sk-serial\"><div class=\"sk-item\"><div class=\"sk-estimator sk-toggleable\"><input class=\"sk-toggleable__control sk-hidden--visually\" id=\"sk-estimator-id-17\" type=\"checkbox\" ><label for=\"sk-estimator-id-17\" class=\"sk-toggleable__label sk-toggleable__label-arrow\">LogisticRegression</label><div class=\"sk-toggleable__content\"><pre>LogisticRegression(max_iter=200, random_state=42, solver=&#x27;saga&#x27;, tol=0.01)</pre></div></div></div></div></div></div></div></div></div></div>"
      ],
      "text/plain": [
       "RandomizedSearchCV(estimator=LogisticRegression(max_iter=200, random_state=42,\n",
       "                                                solver='saga', tol=0.01),\n",
       "                   param_distributions={'C': <scipy.stats._distn_infrastructure.rv_continuous_frozen object at 0x000002767F7DA760>,\n",
       "                                        'penalty': ['l2'],\n",
       "                                        'solver': ['newton-cg', 'lbfgs',\n",
       "                                                   'liblinear', 'sag',\n",
       "                                                   'saga']},\n",
       "                   random_state=42)"
      ]
     },
     "execution_count": 91,
     "metadata": {},
     "output_type": "execute_result"
    }
   ],
   "source": [
    "%%time\n",
    "from sklearn.model_selection import RandomizedSearchCV\n",
    "from scipy.stats import uniform\n",
    "\n",
    "logistic = LogisticRegression(solver='saga', tol=1e-2, max_iter=200,\n",
    "                              random_state=42)\n",
    "distributions = dict(C=uniform(loc=0, scale=4),\n",
    "                     penalty=['l2'],\n",
    "                     solver=['newton-cg', 'lbfgs', 'liblinear', 'sag', 'saga'])\n",
    "rnd_search_LR = RandomizedSearchCV(logistic, distributions, random_state=42)\n",
    "rnd_search_LR.fit(X_train, y_train.values.ravel())"
   ]
  },
  {
   "cell_type": "code",
   "execution_count": 92,
   "metadata": {
    "scrolled": true
   },
   "outputs": [
    {
     "name": "stdout",
     "output_type": "stream",
     "text": [
      "Rank 1# - Score: 0.9078167260215584 - {'C': 0.08233797718320979, 'penalty': 'l2', 'solver': 'lbfgs'}\n",
      "Rank 2# - Score: 0.9077817002499292 - {'C': 0.7337391594646552, 'penalty': 'l2', 'solver': 'saga'}\n",
      "Rank 2# - Score: 0.9077817002499292 - {'C': 0.7272998688284025, 'penalty': 'l2', 'solver': 'saga'}\n",
      "Rank 4# - Score: 0.9076768366779415 - {'C': 1.8369955678634686, 'penalty': 'l2', 'solver': 'saga'}\n",
      "Rank 5# - Score: 0.9075020001483654 - {'C': 1.49816047538945, 'penalty': 'l2', 'solver': 'saga'}\n",
      "Rank 6# - Score: 0.9073970709646471 - {'C': 2.387400631785948, 'penalty': 'l2', 'solver': 'lbfgs'}\n",
      "Rank 7# - Score: 0.9073620955724028 - {'C': 2.469926038510866, 'penalty': 'l2', 'solver': 'lbfgs'}\n",
      "Rank 8# - Score: 0.9073271188319372 - {'C': 2.887995089067299, 'penalty': 'l2', 'solver': 'lbfgs'}\n",
      "Rank 9# - Score: 0.9072921518404171 - {'C': 2.404460046972835, 'penalty': 'l2', 'solver': 'liblinear'}\n",
      "Rank 10# - Score: 0.9072921407430938 - {'C': 0.6239780813448106, 'penalty': 'l2', 'solver': 'liblinear'}\n"
     ]
    }
   ],
   "source": [
    "cvres = pd.DataFrame(rnd_search_LR.cv_results_).sort_values(by=['rank_test_score'])\n",
    "for mean_score, params,rank in zip(cvres[\"mean_test_score\"], cvres[\"params\"],cvres[\"rank_test_score\"]):\n",
    "    print(\"Rank {}# - Score: {} - {}\".format(rank, np.sqrt(mean_score), params))"
   ]
  },
  {
   "cell_type": "code",
   "execution_count": 93,
   "metadata": {},
   "outputs": [
    {
     "data": {
      "text/html": [
       "<style>#sk-container-id-12 {color: black;background-color: white;}#sk-container-id-12 pre{padding: 0;}#sk-container-id-12 div.sk-toggleable {background-color: white;}#sk-container-id-12 label.sk-toggleable__label {cursor: pointer;display: block;width: 100%;margin-bottom: 0;padding: 0.3em;box-sizing: border-box;text-align: center;}#sk-container-id-12 label.sk-toggleable__label-arrow:before {content: \"▸\";float: left;margin-right: 0.25em;color: #696969;}#sk-container-id-12 label.sk-toggleable__label-arrow:hover:before {color: black;}#sk-container-id-12 div.sk-estimator:hover label.sk-toggleable__label-arrow:before {color: black;}#sk-container-id-12 div.sk-toggleable__content {max-height: 0;max-width: 0;overflow: hidden;text-align: left;background-color: #f0f8ff;}#sk-container-id-12 div.sk-toggleable__content pre {margin: 0.2em;color: black;border-radius: 0.25em;background-color: #f0f8ff;}#sk-container-id-12 input.sk-toggleable__control:checked~div.sk-toggleable__content {max-height: 200px;max-width: 100%;overflow: auto;}#sk-container-id-12 input.sk-toggleable__control:checked~label.sk-toggleable__label-arrow:before {content: \"▾\";}#sk-container-id-12 div.sk-estimator input.sk-toggleable__control:checked~label.sk-toggleable__label {background-color: #d4ebff;}#sk-container-id-12 div.sk-label input.sk-toggleable__control:checked~label.sk-toggleable__label {background-color: #d4ebff;}#sk-container-id-12 input.sk-hidden--visually {border: 0;clip: rect(1px 1px 1px 1px);clip: rect(1px, 1px, 1px, 1px);height: 1px;margin: -1px;overflow: hidden;padding: 0;position: absolute;width: 1px;}#sk-container-id-12 div.sk-estimator {font-family: monospace;background-color: #f0f8ff;border: 1px dotted black;border-radius: 0.25em;box-sizing: border-box;margin-bottom: 0.5em;}#sk-container-id-12 div.sk-estimator:hover {background-color: #d4ebff;}#sk-container-id-12 div.sk-parallel-item::after {content: \"\";width: 100%;border-bottom: 1px solid gray;flex-grow: 1;}#sk-container-id-12 div.sk-label:hover label.sk-toggleable__label {background-color: #d4ebff;}#sk-container-id-12 div.sk-serial::before {content: \"\";position: absolute;border-left: 1px solid gray;box-sizing: border-box;top: 0;bottom: 0;left: 50%;z-index: 0;}#sk-container-id-12 div.sk-serial {display: flex;flex-direction: column;align-items: center;background-color: white;padding-right: 0.2em;padding-left: 0.2em;position: relative;}#sk-container-id-12 div.sk-item {position: relative;z-index: 1;}#sk-container-id-12 div.sk-parallel {display: flex;align-items: stretch;justify-content: center;background-color: white;position: relative;}#sk-container-id-12 div.sk-item::before, #sk-container-id-12 div.sk-parallel-item::before {content: \"\";position: absolute;border-left: 1px solid gray;box-sizing: border-box;top: 0;bottom: 0;left: 50%;z-index: -1;}#sk-container-id-12 div.sk-parallel-item {display: flex;flex-direction: column;z-index: 1;position: relative;background-color: white;}#sk-container-id-12 div.sk-parallel-item:first-child::after {align-self: flex-end;width: 50%;}#sk-container-id-12 div.sk-parallel-item:last-child::after {align-self: flex-start;width: 50%;}#sk-container-id-12 div.sk-parallel-item:only-child::after {width: 0;}#sk-container-id-12 div.sk-dashed-wrapped {border: 1px dashed gray;margin: 0 0.4em 0.5em 0.4em;box-sizing: border-box;padding-bottom: 0.4em;background-color: white;}#sk-container-id-12 div.sk-label label {font-family: monospace;font-weight: bold;display: inline-block;line-height: 1.2em;}#sk-container-id-12 div.sk-label-container {text-align: center;}#sk-container-id-12 div.sk-container {/* jupyter's `normalize.less` sets `[hidden] { display: none; }` but bootstrap.min.css set `[hidden] { display: none !important; }` so we also need the `!important` here to be able to override the default hidden behavior on the sphinx rendered scikit-learn.org. See: https://github.com/scikit-learn/scikit-learn/issues/21755 */display: inline-block !important;position: relative;}#sk-container-id-12 div.sk-text-repr-fallback {display: none;}</style><div id=\"sk-container-id-12\" class=\"sk-top-container\"><div class=\"sk-text-repr-fallback\"><pre>LogisticRegression(C=0.08233797718320979, max_iter=200, random_state=42,\n",
       "                   tol=0.01)</pre><b>In a Jupyter environment, please rerun this cell to show the HTML representation or trust the notebook. <br />On GitHub, the HTML representation is unable to render, please try loading this page with nbviewer.org.</b></div><div class=\"sk-container\" hidden><div class=\"sk-item\"><div class=\"sk-estimator sk-toggleable\"><input class=\"sk-toggleable__control sk-hidden--visually\" id=\"sk-estimator-id-18\" type=\"checkbox\" checked><label for=\"sk-estimator-id-18\" class=\"sk-toggleable__label sk-toggleable__label-arrow\">LogisticRegression</label><div class=\"sk-toggleable__content\"><pre>LogisticRegression(C=0.08233797718320979, max_iter=200, random_state=42,\n",
       "                   tol=0.01)</pre></div></div></div></div></div>"
      ],
      "text/plain": [
       "LogisticRegression(C=0.08233797718320979, max_iter=200, random_state=42,\n",
       "                   tol=0.01)"
      ]
     },
     "execution_count": 93,
     "metadata": {},
     "output_type": "execute_result"
    }
   ],
   "source": [
    "rnd_search_LR.best_estimator_"
   ]
  },
  {
   "cell_type": "markdown",
   "metadata": {},
   "source": [
    "#### Evaluating on Test set"
   ]
  },
  {
   "cell_type": "code",
   "execution_count": 94,
   "metadata": {},
   "outputs": [
    {
     "name": "stdout",
     "output_type": "stream",
     "text": [
      "Precision Score:  0.8215767634854771\n",
      "Recall Score:  0.8646288209606987\n",
      "F1 Score:  0.8425531914893616\n",
      "Accuracy Score:  0.8309537407195888\n"
     ]
    }
   ],
   "source": [
    "from sklearn.metrics import precision_score, recall_score,f1_score,accuracy_score\n",
    "\n",
    "#Predict the response for test dataset\n",
    "y_test_pred_log = rnd_search_LR.best_estimator_.predict(X_test)\n",
    "#y_test_pred_log = log_clf.predict(X_test)\n",
    "\n",
    "print(\"Precision Score: \",precision_score(y_test, y_test_pred_log))\n",
    "print(\"Recall Score: \",recall_score(y_test, y_test_pred_log))\n",
    "print(\"F1 Score: \",f1_score(y_test, y_test_pred_log))\n",
    "print(\"Accuracy Score: \",accuracy_score(y_test, y_test_pred_log))"
   ]
  },
  {
   "cell_type": "code",
   "execution_count": 95,
   "metadata": {},
   "outputs": [
    {
     "name": "stdout",
     "output_type": "stream",
     "text": [
      "0.8293203985043014\n"
     ]
    }
   ],
   "source": [
    "from sklearn import metrics\n",
    "fpr, tpr, _ = metrics.roc_curve(y_test,  y_test_pred_log)\n",
    "#calculate AUC of model\n",
    "auc_log = metrics.roc_auc_score(y_test, y_test_pred_log)\n",
    "print(auc_log)"
   ]
  },
  {
   "cell_type": "code",
   "execution_count": 96,
   "metadata": {},
   "outputs": [],
   "source": [
    "cohen_score_log = cohen_kappa_score(y_test, y_test_pred_log)"
   ]
  },
  {
   "cell_type": "code",
   "execution_count": 97,
   "metadata": {},
   "outputs": [],
   "source": [
    "acc_list.append(accuracy_score(y_test, y_test_pred_log))\n",
    "auc_list.append(auc_log)\n",
    "kappa_list.append(cohen_score_log)"
   ]
  },
  {
   "cell_type": "markdown",
   "metadata": {},
   "source": [
    "## XGBOOST"
   ]
  },
  {
   "cell_type": "code",
   "execution_count": 98,
   "metadata": {},
   "outputs": [
    {
     "name": "stdout",
     "output_type": "stream",
     "text": [
      "Requirement already satisfied: xgboost in c:\\programdata\\anaconda3\\lib\\site-packages (1.7.0)\n",
      "Requirement already satisfied: numpy in c:\\users\\marios tirovolas\\appdata\\roaming\\python\\python39\\site-packages (from xgboost) (1.20.3)\n",
      "Requirement already satisfied: scipy in c:\\users\\marios tirovolas\\appdata\\roaming\\python\\python39\\site-packages (from xgboost) (1.9.3)\n"
     ]
    },
    {
     "name": "stderr",
     "output_type": "stream",
     "text": [
      "\n",
      "[notice] A new release of pip available: 22.3 -> 22.3.1\n",
      "[notice] To update, run: python.exe -m pip install --upgrade pip\n"
     ]
    }
   ],
   "source": [
    "!pip install xgboost"
   ]
  },
  {
   "cell_type": "code",
   "execution_count": 99,
   "metadata": {},
   "outputs": [],
   "source": [
    "import re\n",
    "regex = re.compile(r\"\\[|\\]|<\", re.IGNORECASE)\n",
    "X_train.columns = [regex.sub(\"_\", col) if any(x in str(col) for x in set(('[', ']', '<'))) else col for col in X_train.columns.values]"
   ]
  },
  {
   "cell_type": "code",
   "execution_count": 100,
   "metadata": {},
   "outputs": [],
   "source": [
    "import xgboost as xgb\n",
    "from xgboost import XGBClassifier"
   ]
  },
  {
   "cell_type": "code",
   "execution_count": 101,
   "metadata": {
    "scrolled": false
   },
   "outputs": [
    {
     "name": "stdout",
     "output_type": "stream",
     "text": [
      "Wall time: 639 ms\n"
     ]
    },
    {
     "data": {
      "text/html": [
       "<style>#sk-container-id-13 {color: black;background-color: white;}#sk-container-id-13 pre{padding: 0;}#sk-container-id-13 div.sk-toggleable {background-color: white;}#sk-container-id-13 label.sk-toggleable__label {cursor: pointer;display: block;width: 100%;margin-bottom: 0;padding: 0.3em;box-sizing: border-box;text-align: center;}#sk-container-id-13 label.sk-toggleable__label-arrow:before {content: \"▸\";float: left;margin-right: 0.25em;color: #696969;}#sk-container-id-13 label.sk-toggleable__label-arrow:hover:before {color: black;}#sk-container-id-13 div.sk-estimator:hover label.sk-toggleable__label-arrow:before {color: black;}#sk-container-id-13 div.sk-toggleable__content {max-height: 0;max-width: 0;overflow: hidden;text-align: left;background-color: #f0f8ff;}#sk-container-id-13 div.sk-toggleable__content pre {margin: 0.2em;color: black;border-radius: 0.25em;background-color: #f0f8ff;}#sk-container-id-13 input.sk-toggleable__control:checked~div.sk-toggleable__content {max-height: 200px;max-width: 100%;overflow: auto;}#sk-container-id-13 input.sk-toggleable__control:checked~label.sk-toggleable__label-arrow:before {content: \"▾\";}#sk-container-id-13 div.sk-estimator input.sk-toggleable__control:checked~label.sk-toggleable__label {background-color: #d4ebff;}#sk-container-id-13 div.sk-label input.sk-toggleable__control:checked~label.sk-toggleable__label {background-color: #d4ebff;}#sk-container-id-13 input.sk-hidden--visually {border: 0;clip: rect(1px 1px 1px 1px);clip: rect(1px, 1px, 1px, 1px);height: 1px;margin: -1px;overflow: hidden;padding: 0;position: absolute;width: 1px;}#sk-container-id-13 div.sk-estimator {font-family: monospace;background-color: #f0f8ff;border: 1px dotted black;border-radius: 0.25em;box-sizing: border-box;margin-bottom: 0.5em;}#sk-container-id-13 div.sk-estimator:hover {background-color: #d4ebff;}#sk-container-id-13 div.sk-parallel-item::after {content: \"\";width: 100%;border-bottom: 1px solid gray;flex-grow: 1;}#sk-container-id-13 div.sk-label:hover label.sk-toggleable__label {background-color: #d4ebff;}#sk-container-id-13 div.sk-serial::before {content: \"\";position: absolute;border-left: 1px solid gray;box-sizing: border-box;top: 0;bottom: 0;left: 50%;z-index: 0;}#sk-container-id-13 div.sk-serial {display: flex;flex-direction: column;align-items: center;background-color: white;padding-right: 0.2em;padding-left: 0.2em;position: relative;}#sk-container-id-13 div.sk-item {position: relative;z-index: 1;}#sk-container-id-13 div.sk-parallel {display: flex;align-items: stretch;justify-content: center;background-color: white;position: relative;}#sk-container-id-13 div.sk-item::before, #sk-container-id-13 div.sk-parallel-item::before {content: \"\";position: absolute;border-left: 1px solid gray;box-sizing: border-box;top: 0;bottom: 0;left: 50%;z-index: -1;}#sk-container-id-13 div.sk-parallel-item {display: flex;flex-direction: column;z-index: 1;position: relative;background-color: white;}#sk-container-id-13 div.sk-parallel-item:first-child::after {align-self: flex-end;width: 50%;}#sk-container-id-13 div.sk-parallel-item:last-child::after {align-self: flex-start;width: 50%;}#sk-container-id-13 div.sk-parallel-item:only-child::after {width: 0;}#sk-container-id-13 div.sk-dashed-wrapped {border: 1px dashed gray;margin: 0 0.4em 0.5em 0.4em;box-sizing: border-box;padding-bottom: 0.4em;background-color: white;}#sk-container-id-13 div.sk-label label {font-family: monospace;font-weight: bold;display: inline-block;line-height: 1.2em;}#sk-container-id-13 div.sk-label-container {text-align: center;}#sk-container-id-13 div.sk-container {/* jupyter's `normalize.less` sets `[hidden] { display: none; }` but bootstrap.min.css set `[hidden] { display: none !important; }` so we also need the `!important` here to be able to override the default hidden behavior on the sphinx rendered scikit-learn.org. See: https://github.com/scikit-learn/scikit-learn/issues/21755 */display: inline-block !important;position: relative;}#sk-container-id-13 div.sk-text-repr-fallback {display: none;}</style><div id=\"sk-container-id-13\" class=\"sk-top-container\"><div class=\"sk-text-repr-fallback\"><pre>XGBClassifier(base_score=0.5, booster=&#x27;gbtree&#x27;, callbacks=None,\n",
       "              colsample_bylevel=1, colsample_bynode=1, colsample_bytree=1,\n",
       "              early_stopping_rounds=None, enable_categorical=False,\n",
       "              eval_metric=None, feature_types=None, gamma=0, gpu_id=-1,\n",
       "              grow_policy=&#x27;depthwise&#x27;, importance_type=None,\n",
       "              interaction_constraints=&#x27;&#x27;, learning_rate=0.300000012,\n",
       "              max_bin=256, max_cat_threshold=64, max_cat_to_onehot=4,\n",
       "              max_delta_step=0, max_depth=6, max_leaves=0, min_child_weight=1,\n",
       "              missing=nan, monotone_constraints=&#x27;()&#x27;, n_estimators=100,\n",
       "              n_jobs=0, num_parallel_tree=1, predictor=&#x27;auto&#x27;, random_state=42, ...)</pre><b>In a Jupyter environment, please rerun this cell to show the HTML representation or trust the notebook. <br />On GitHub, the HTML representation is unable to render, please try loading this page with nbviewer.org.</b></div><div class=\"sk-container\" hidden><div class=\"sk-item\"><div class=\"sk-estimator sk-toggleable\"><input class=\"sk-toggleable__control sk-hidden--visually\" id=\"sk-estimator-id-19\" type=\"checkbox\" checked><label for=\"sk-estimator-id-19\" class=\"sk-toggleable__label sk-toggleable__label-arrow\">XGBClassifier</label><div class=\"sk-toggleable__content\"><pre>XGBClassifier(base_score=0.5, booster=&#x27;gbtree&#x27;, callbacks=None,\n",
       "              colsample_bylevel=1, colsample_bynode=1, colsample_bytree=1,\n",
       "              early_stopping_rounds=None, enable_categorical=False,\n",
       "              eval_metric=None, feature_types=None, gamma=0, gpu_id=-1,\n",
       "              grow_policy=&#x27;depthwise&#x27;, importance_type=None,\n",
       "              interaction_constraints=&#x27;&#x27;, learning_rate=0.300000012,\n",
       "              max_bin=256, max_cat_threshold=64, max_cat_to_onehot=4,\n",
       "              max_delta_step=0, max_depth=6, max_leaves=0, min_child_weight=1,\n",
       "              missing=nan, monotone_constraints=&#x27;()&#x27;, n_estimators=100,\n",
       "              n_jobs=0, num_parallel_tree=1, predictor=&#x27;auto&#x27;, random_state=42, ...)</pre></div></div></div></div></div>"
      ],
      "text/plain": [
       "XGBClassifier(base_score=0.5, booster='gbtree', callbacks=None,\n",
       "              colsample_bylevel=1, colsample_bynode=1, colsample_bytree=1,\n",
       "              early_stopping_rounds=None, enable_categorical=False,\n",
       "              eval_metric=None, feature_types=None, gamma=0, gpu_id=-1,\n",
       "              grow_policy='depthwise', importance_type=None,\n",
       "              interaction_constraints='', learning_rate=0.300000012,\n",
       "              max_bin=256, max_cat_threshold=64, max_cat_to_onehot=4,\n",
       "              max_delta_step=0, max_depth=6, max_leaves=0, min_child_weight=1,\n",
       "              missing=nan, monotone_constraints='()', n_estimators=100,\n",
       "              n_jobs=0, num_parallel_tree=1, predictor='auto', random_state=42, ...)"
      ]
     },
     "execution_count": 101,
     "metadata": {},
     "output_type": "execute_result"
    }
   ],
   "source": [
    "%%time\n",
    "xgb_classifier = XGBClassifier(random_state=42)\n",
    "xgb_classifier.fit(X_train, y_train.values.ravel())"
   ]
  },
  {
   "cell_type": "markdown",
   "metadata": {},
   "source": [
    "#### Evaluating on Train set"
   ]
  },
  {
   "cell_type": "code",
   "execution_count": 102,
   "metadata": {
    "scrolled": true
   },
   "outputs": [
    {
     "name": "stdout",
     "output_type": "stream",
     "text": [
      "XGBoost score:  1.0\n"
     ]
    }
   ],
   "source": [
    "#Predict the response for train dataset\n",
    "y_train_pred_xgb = xgb_classifier.predict(X_train)\n",
    "print(\"XGBoost score: \",xgb_classifier.score(X_train, y_train))"
   ]
  },
  {
   "cell_type": "code",
   "execution_count": 103,
   "metadata": {},
   "outputs": [
    {
     "data": {
      "text/plain": [
       "<AxesSubplot:>"
      ]
     },
     "execution_count": 103,
     "metadata": {},
     "output_type": "execute_result"
    },
    {
     "data": {
      "image/png": "[encoded data removed]",
      "text/plain": [
       "<Figure size 432x288 with 2 Axes>"
      ]
     },
     "metadata": {
      "needs_background": "light"
     },
     "output_type": "display_data"
    }
   ],
   "source": [
    "from sklearn.metrics import confusion_matrix\n",
    "import seaborn as sns\n",
    "confusion_matrix(y_train, y_train_pred_xgb)\n",
    "sns.heatmap(confusion_matrix(y_train, y_train_pred_xgb), annot=True,fmt='d')\n"
   ]
  },
  {
   "cell_type": "code",
   "execution_count": 104,
   "metadata": {},
   "outputs": [
    {
     "name": "stdout",
     "output_type": "stream",
     "text": [
      "Precision Score:  1.0\n",
      "Recall Score:  1.0\n",
      "F1 Score:  1.0\n",
      "Accuracy Score:  1.0\n"
     ]
    }
   ],
   "source": [
    "#Performance measures for training dataset\n",
    "\n",
    "from sklearn.metrics import precision_score, recall_score,f1_score,accuracy_score\n",
    "print(\"Precision Score: \",precision_score(y_train, y_train_pred_xgb))\n",
    "print(\"Recall Score: \",recall_score(y_train, y_train_pred_xgb))\n",
    "print(\"F1 Score: \",f1_score(y_train, y_train_pred_xgb))\n",
    "print(\"Accuracy Score: \",accuracy_score(y_train, y_train_pred_xgb))"
   ]
  },
  {
   "cell_type": "markdown",
   "metadata": {},
   "source": [
    "#### Fine Tuning for XGBoost"
   ]
  },
  {
   "cell_type": "code",
   "execution_count": 105,
   "metadata": {},
   "outputs": [],
   "source": [
    "import warnings\n",
    "warnings.filterwarnings('ignore')"
   ]
  },
  {
   "cell_type": "code",
   "execution_count": 106,
   "metadata": {},
   "outputs": [
    {
     "name": "stdout",
     "output_type": "stream",
     "text": [
      "[14:44:15] WARNING: C:/buildkite-agent/builds/buildkite-windows-cpu-autoscaling-group-i-0ac76685cf763591d-1/xgboost/xgboost-ci-windows/src/learner.cc:767: \n",
      "Parameters: { \"max_depths\" } are not used.\n",
      "\n",
      "[14:44:18] WARNING: C:/buildkite-agent/builds/buildkite-windows-cpu-autoscaling-group-i-0ac76685cf763591d-1/xgboost/xgboost-ci-windows/src/learner.cc:767: \n",
      "Parameters: { \"max_depths\" } are not used.\n",
      "\n",
      "[14:44:21] WARNING: C:/buildkite-agent/builds/buildkite-windows-cpu-autoscaling-group-i-0ac76685cf763591d-1/xgboost/xgboost-ci-windows/src/learner.cc:767: \n",
      "Parameters: { \"max_depths\" } are not used.\n",
      "\n",
      "[14:44:24] WARNING: C:/buildkite-agent/builds/buildkite-windows-cpu-autoscaling-group-i-0ac76685cf763591d-1/xgboost/xgboost-ci-windows/src/learner.cc:767: \n",
      "Parameters: { \"max_depths\" } are not used.\n",
      "\n",
      "[14:44:27] WARNING: C:/buildkite-agent/builds/buildkite-windows-cpu-autoscaling-group-i-0ac76685cf763591d-1/xgboost/xgboost-ci-windows/src/learner.cc:767: \n",
      "Parameters: { \"max_depths\" } are not used.\n",
      "\n",
      "[14:44:30] WARNING: C:/buildkite-agent/builds/buildkite-windows-cpu-autoscaling-group-i-0ac76685cf763591d-1/xgboost/xgboost-ci-windows/src/learner.cc:767: \n",
      "Parameters: { \"max_depths\" } are not used.\n",
      "\n",
      "[14:44:30] WARNING: C:/buildkite-agent/builds/buildkite-windows-cpu-autoscaling-group-i-0ac76685cf763591d-1/xgboost/xgboost-ci-windows/src/learner.cc:767: \n",
      "Parameters: { \"max_depths\" } are not used.\n",
      "\n",
      "[14:44:30] WARNING: C:/buildkite-agent/builds/buildkite-windows-cpu-autoscaling-group-i-0ac76685cf763591d-1/xgboost/xgboost-ci-windows/src/learner.cc:767: \n",
      "Parameters: { \"max_depths\" } are not used.\n",
      "\n",
      "[14:44:30] WARNING: C:/buildkite-agent/builds/buildkite-windows-cpu-autoscaling-group-i-0ac76685cf763591d-1/xgboost/xgboost-ci-windows/src/learner.cc:767: \n",
      "Parameters: { \"max_depths\" } are not used.\n",
      "\n",
      "[14:44:30] WARNING: C:/buildkite-agent/builds/buildkite-windows-cpu-autoscaling-group-i-0ac76685cf763591d-1/xgboost/xgboost-ci-windows/src/learner.cc:767: \n",
      "Parameters: { \"max_depths\" } are not used.\n",
      "\n",
      "[14:44:30] WARNING: C:/buildkite-agent/builds/buildkite-windows-cpu-autoscaling-group-i-0ac76685cf763591d-1/xgboost/xgboost-ci-windows/src/learner.cc:767: \n",
      "Parameters: { \"max_depths\" } are not used.\n",
      "\n",
      "[14:44:30] WARNING: C:/buildkite-agent/builds/buildkite-windows-cpu-autoscaling-group-i-0ac76685cf763591d-1/xgboost/xgboost-ci-windows/src/learner.cc:767: \n",
      "Parameters: { \"max_depths\" } are not used.\n",
      "\n",
      "[14:44:30] WARNING: C:/buildkite-agent/builds/buildkite-windows-cpu-autoscaling-group-i-0ac76685cf763591d-1/xgboost/xgboost-ci-windows/src/learner.cc:767: \n",
      "Parameters: { \"max_depths\" } are not used.\n",
      "\n",
      "[14:44:30] WARNING: C:/buildkite-agent/builds/buildkite-windows-cpu-autoscaling-group-i-0ac76685cf763591d-1/xgboost/xgboost-ci-windows/src/learner.cc:767: \n",
      "Parameters: { \"max_depths\" } are not used.\n",
      "\n",
      "[14:44:30] WARNING: C:/buildkite-agent/builds/buildkite-windows-cpu-autoscaling-group-i-0ac76685cf763591d-1/xgboost/xgboost-ci-windows/src/learner.cc:767: \n",
      "Parameters: { \"max_depths\" } are not used.\n",
      "\n",
      "[14:44:30] WARNING: C:/buildkite-agent/builds/buildkite-windows-cpu-autoscaling-group-i-0ac76685cf763591d-1/xgboost/xgboost-ci-windows/src/learner.cc:767: \n",
      "Parameters: { \"colsample_bytree\", \"grow_policy\", \"max_depths\", \"sampling_method\", \"subsample\" } are not used.\n",
      "\n",
      "[14:44:30] WARNING: C:/buildkite-agent/builds/buildkite-windows-cpu-autoscaling-group-i-0ac76685cf763591d-1/xgboost/xgboost-ci-windows/src/learner.cc:767: \n",
      "Parameters: { \"colsample_bytree\", \"grow_policy\", \"max_depths\", \"sampling_method\", \"subsample\" } are not used.\n",
      "\n",
      "[14:44:30] WARNING: C:/buildkite-agent/builds/buildkite-windows-cpu-autoscaling-group-i-0ac76685cf763591d-1/xgboost/xgboost-ci-windows/src/learner.cc:767: \n",
      "Parameters: { \"colsample_bytree\", \"grow_policy\", \"max_depths\", \"sampling_method\", \"subsample\" } are not used.\n",
      "\n",
      "[14:44:31] WARNING: C:/buildkite-agent/builds/buildkite-windows-cpu-autoscaling-group-i-0ac76685cf763591d-1/xgboost/xgboost-ci-windows/src/learner.cc:767: \n",
      "Parameters: { \"colsample_bytree\", \"grow_policy\", \"max_depths\", \"sampling_method\", \"subsample\" } are not used.\n",
      "\n",
      "[14:44:31] WARNING: C:/buildkite-agent/builds/buildkite-windows-cpu-autoscaling-group-i-0ac76685cf763591d-1/xgboost/xgboost-ci-windows/src/learner.cc:767: \n",
      "Parameters: { \"colsample_bytree\", \"grow_policy\", \"max_depths\", \"sampling_method\", \"subsample\" } are not used.\n",
      "\n",
      "[14:44:31] WARNING: C:/buildkite-agent/builds/buildkite-windows-cpu-autoscaling-group-i-0ac76685cf763591d-1/xgboost/xgboost-ci-windows/src/learner.cc:767: \n",
      "Parameters: { \"max_depths\" } are not used.\n",
      "\n",
      "[14:44:33] WARNING: C:/buildkite-agent/builds/buildkite-windows-cpu-autoscaling-group-i-0ac76685cf763591d-1/xgboost/xgboost-ci-windows/src/learner.cc:767: \n",
      "Parameters: { \"max_depths\" } are not used.\n",
      "\n",
      "[14:44:34] WARNING: C:/buildkite-agent/builds/buildkite-windows-cpu-autoscaling-group-i-0ac76685cf763591d-1/xgboost/xgboost-ci-windows/src/learner.cc:767: \n",
      "Parameters: { \"max_depths\" } are not used.\n",
      "\n",
      "[14:44:35] WARNING: C:/buildkite-agent/builds/buildkite-windows-cpu-autoscaling-group-i-0ac76685cf763591d-1/xgboost/xgboost-ci-windows/src/learner.cc:767: \n",
      "Parameters: { \"max_depths\" } are not used.\n",
      "\n",
      "[14:44:37] WARNING: C:/buildkite-agent/builds/buildkite-windows-cpu-autoscaling-group-i-0ac76685cf763591d-1/xgboost/xgboost-ci-windows/src/learner.cc:767: \n",
      "Parameters: { \"max_depths\" } are not used.\n",
      "\n",
      "[14:44:38] WARNING: C:/buildkite-agent/builds/buildkite-windows-cpu-autoscaling-group-i-0ac76685cf763591d-1/xgboost/xgboost-ci-windows/src/learner.cc:767: \n",
      "Parameters: { \"max_depths\" } are not used.\n",
      "\n",
      "[14:44:38] WARNING: C:/buildkite-agent/builds/buildkite-windows-cpu-autoscaling-group-i-0ac76685cf763591d-1/xgboost/xgboost-ci-windows/src/learner.cc:767: \n",
      "Parameters: { \"max_depths\" } are not used.\n",
      "\n",
      "[14:44:38] WARNING: C:/buildkite-agent/builds/buildkite-windows-cpu-autoscaling-group-i-0ac76685cf763591d-1/xgboost/xgboost-ci-windows/src/learner.cc:767: \n",
      "Parameters: { \"max_depths\" } are not used.\n",
      "\n",
      "[14:44:38] WARNING: C:/buildkite-agent/builds/buildkite-windows-cpu-autoscaling-group-i-0ac76685cf763591d-1/xgboost/xgboost-ci-windows/src/learner.cc:767: \n",
      "Parameters: { \"max_depths\" } are not used.\n",
      "\n",
      "[14:44:38] WARNING: C:/buildkite-agent/builds/buildkite-windows-cpu-autoscaling-group-i-0ac76685cf763591d-1/xgboost/xgboost-ci-windows/src/learner.cc:767: \n",
      "Parameters: { \"max_depths\" } are not used.\n",
      "\n",
      "[14:44:38] WARNING: C:/buildkite-agent/builds/buildkite-windows-cpu-autoscaling-group-i-0ac76685cf763591d-1/xgboost/xgboost-ci-windows/src/learner.cc:767: \n",
      "Parameters: { \"colsample_bytree\", \"grow_policy\", \"max_depths\", \"sampling_method\", \"subsample\" } are not used.\n",
      "\n",
      "[14:44:39] WARNING: C:/buildkite-agent/builds/buildkite-windows-cpu-autoscaling-group-i-0ac76685cf763591d-1/xgboost/xgboost-ci-windows/src/learner.cc:767: \n",
      "Parameters: { \"colsample_bytree\", \"grow_policy\", \"max_depths\", \"sampling_method\", \"subsample\" } are not used.\n",
      "\n",
      "[14:44:40] WARNING: C:/buildkite-agent/builds/buildkite-windows-cpu-autoscaling-group-i-0ac76685cf763591d-1/xgboost/xgboost-ci-windows/src/learner.cc:767: \n",
      "Parameters: { \"colsample_bytree\", \"grow_policy\", \"max_depths\", \"sampling_method\", \"subsample\" } are not used.\n",
      "\n",
      "[14:44:41] WARNING: C:/buildkite-agent/builds/buildkite-windows-cpu-autoscaling-group-i-0ac76685cf763591d-1/xgboost/xgboost-ci-windows/src/learner.cc:767: \n",
      "Parameters: { \"colsample_bytree\", \"grow_policy\", \"max_depths\", \"sampling_method\", \"subsample\" } are not used.\n",
      "\n",
      "[14:44:42] WARNING: C:/buildkite-agent/builds/buildkite-windows-cpu-autoscaling-group-i-0ac76685cf763591d-1/xgboost/xgboost-ci-windows/src/learner.cc:767: \n",
      "Parameters: { \"colsample_bytree\", \"grow_policy\", \"max_depths\", \"sampling_method\", \"subsample\" } are not used.\n",
      "\n",
      "[14:44:42] WARNING: C:/buildkite-agent/builds/buildkite-windows-cpu-autoscaling-group-i-0ac76685cf763591d-1/xgboost/xgboost-ci-windows/src/learner.cc:767: \n",
      "Parameters: { \"colsample_bytree\", \"grow_policy\", \"max_depths\", \"sampling_method\", \"subsample\" } are not used.\n",
      "\n",
      "[14:44:43] WARNING: C:/buildkite-agent/builds/buildkite-windows-cpu-autoscaling-group-i-0ac76685cf763591d-1/xgboost/xgboost-ci-windows/src/learner.cc:767: \n",
      "Parameters: { \"colsample_bytree\", \"grow_policy\", \"max_depths\", \"sampling_method\", \"subsample\" } are not used.\n",
      "\n"
     ]
    },
    {
     "name": "stdout",
     "output_type": "stream",
     "text": [
      "[14:44:44] WARNING: C:/buildkite-agent/builds/buildkite-windows-cpu-autoscaling-group-i-0ac76685cf763591d-1/xgboost/xgboost-ci-windows/src/learner.cc:767: \n",
      "Parameters: { \"colsample_bytree\", \"grow_policy\", \"max_depths\", \"sampling_method\", \"subsample\" } are not used.\n",
      "\n",
      "[14:44:44] WARNING: C:/buildkite-agent/builds/buildkite-windows-cpu-autoscaling-group-i-0ac76685cf763591d-1/xgboost/xgboost-ci-windows/src/learner.cc:767: \n",
      "Parameters: { \"colsample_bytree\", \"grow_policy\", \"max_depths\", \"sampling_method\", \"subsample\" } are not used.\n",
      "\n",
      "[14:44:45] WARNING: C:/buildkite-agent/builds/buildkite-windows-cpu-autoscaling-group-i-0ac76685cf763591d-1/xgboost/xgboost-ci-windows/src/learner.cc:767: \n",
      "Parameters: { \"colsample_bytree\", \"grow_policy\", \"max_depths\", \"sampling_method\", \"subsample\" } are not used.\n",
      "\n",
      "[14:44:46] WARNING: C:/buildkite-agent/builds/buildkite-windows-cpu-autoscaling-group-i-0ac76685cf763591d-1/xgboost/xgboost-ci-windows/src/learner.cc:767: \n",
      "Parameters: { \"max_depths\" } are not used.\n",
      "\n",
      "[14:44:54] WARNING: C:/buildkite-agent/builds/buildkite-windows-cpu-autoscaling-group-i-0ac76685cf763591d-1/xgboost/xgboost-ci-windows/src/learner.cc:767: \n",
      "Parameters: { \"max_depths\" } are not used.\n",
      "\n",
      "[14:45:02] WARNING: C:/buildkite-agent/builds/buildkite-windows-cpu-autoscaling-group-i-0ac76685cf763591d-1/xgboost/xgboost-ci-windows/src/learner.cc:767: \n",
      "Parameters: { \"max_depths\" } are not used.\n",
      "\n",
      "[14:45:09] WARNING: C:/buildkite-agent/builds/buildkite-windows-cpu-autoscaling-group-i-0ac76685cf763591d-1/xgboost/xgboost-ci-windows/src/learner.cc:767: \n",
      "Parameters: { \"max_depths\" } are not used.\n",
      "\n",
      "[14:45:17] WARNING: C:/buildkite-agent/builds/buildkite-windows-cpu-autoscaling-group-i-0ac76685cf763591d-1/xgboost/xgboost-ci-windows/src/learner.cc:767: \n",
      "Parameters: { \"max_depths\" } are not used.\n",
      "\n",
      "[14:45:25] WARNING: C:/buildkite-agent/builds/buildkite-windows-cpu-autoscaling-group-i-0ac76685cf763591d-1/xgboost/xgboost-ci-windows/src/learner.cc:767: \n",
      "Parameters: { \"max_depths\" } are not used.\n",
      "\n",
      "[14:45:28] WARNING: C:/buildkite-agent/builds/buildkite-windows-cpu-autoscaling-group-i-0ac76685cf763591d-1/xgboost/xgboost-ci-windows/src/learner.cc:767: \n",
      "Parameters: { \"max_depths\" } are not used.\n",
      "\n",
      "[14:45:30] WARNING: C:/buildkite-agent/builds/buildkite-windows-cpu-autoscaling-group-i-0ac76685cf763591d-1/xgboost/xgboost-ci-windows/src/learner.cc:767: \n",
      "Parameters: { \"max_depths\" } are not used.\n",
      "\n",
      "[14:45:33] WARNING: C:/buildkite-agent/builds/buildkite-windows-cpu-autoscaling-group-i-0ac76685cf763591d-1/xgboost/xgboost-ci-windows/src/learner.cc:767: \n",
      "Parameters: { \"max_depths\" } are not used.\n",
      "\n",
      "[14:45:35] WARNING: C:/buildkite-agent/builds/buildkite-windows-cpu-autoscaling-group-i-0ac76685cf763591d-1/xgboost/xgboost-ci-windows/src/learner.cc:767: \n",
      "Parameters: { \"max_depths\" } are not used.\n",
      "\n",
      "[14:45:38] WARNING: C:/buildkite-agent/builds/buildkite-windows-cpu-autoscaling-group-i-0ac76685cf763591d-1/xgboost/xgboost-ci-windows/src/learner.cc:767: \n",
      "Parameters: { \"max_depths\" } are not used.\n",
      "\n",
      "Wall time: 1min 26s\n"
     ]
    },
    {
     "data": {
      "text/html": [
       "<style>#sk-container-id-14 {color: black;background-color: white;}#sk-container-id-14 pre{padding: 0;}#sk-container-id-14 div.sk-toggleable {background-color: white;}#sk-container-id-14 label.sk-toggleable__label {cursor: pointer;display: block;width: 100%;margin-bottom: 0;padding: 0.3em;box-sizing: border-box;text-align: center;}#sk-container-id-14 label.sk-toggleable__label-arrow:before {content: \"▸\";float: left;margin-right: 0.25em;color: #696969;}#sk-container-id-14 label.sk-toggleable__label-arrow:hover:before {color: black;}#sk-container-id-14 div.sk-estimator:hover label.sk-toggleable__label-arrow:before {color: black;}#sk-container-id-14 div.sk-toggleable__content {max-height: 0;max-width: 0;overflow: hidden;text-align: left;background-color: #f0f8ff;}#sk-container-id-14 div.sk-toggleable__content pre {margin: 0.2em;color: black;border-radius: 0.25em;background-color: #f0f8ff;}#sk-container-id-14 input.sk-toggleable__control:checked~div.sk-toggleable__content {max-height: 200px;max-width: 100%;overflow: auto;}#sk-container-id-14 input.sk-toggleable__control:checked~label.sk-toggleable__label-arrow:before {content: \"▾\";}#sk-container-id-14 div.sk-estimator input.sk-toggleable__control:checked~label.sk-toggleable__label {background-color: #d4ebff;}#sk-container-id-14 div.sk-label input.sk-toggleable__control:checked~label.sk-toggleable__label {background-color: #d4ebff;}#sk-container-id-14 input.sk-hidden--visually {border: 0;clip: rect(1px 1px 1px 1px);clip: rect(1px, 1px, 1px, 1px);height: 1px;margin: -1px;overflow: hidden;padding: 0;position: absolute;width: 1px;}#sk-container-id-14 div.sk-estimator {font-family: monospace;background-color: #f0f8ff;border: 1px dotted black;border-radius: 0.25em;box-sizing: border-box;margin-bottom: 0.5em;}#sk-container-id-14 div.sk-estimator:hover {background-color: #d4ebff;}#sk-container-id-14 div.sk-parallel-item::after {content: \"\";width: 100%;border-bottom: 1px solid gray;flex-grow: 1;}#sk-container-id-14 div.sk-label:hover label.sk-toggleable__label {background-color: #d4ebff;}#sk-container-id-14 div.sk-serial::before {content: \"\";position: absolute;border-left: 1px solid gray;box-sizing: border-box;top: 0;bottom: 0;left: 50%;z-index: 0;}#sk-container-id-14 div.sk-serial {display: flex;flex-direction: column;align-items: center;background-color: white;padding-right: 0.2em;padding-left: 0.2em;position: relative;}#sk-container-id-14 div.sk-item {position: relative;z-index: 1;}#sk-container-id-14 div.sk-parallel {display: flex;align-items: stretch;justify-content: center;background-color: white;position: relative;}#sk-container-id-14 div.sk-item::before, #sk-container-id-14 div.sk-parallel-item::before {content: \"\";position: absolute;border-left: 1px solid gray;box-sizing: border-box;top: 0;bottom: 0;left: 50%;z-index: -1;}#sk-container-id-14 div.sk-parallel-item {display: flex;flex-direction: column;z-index: 1;position: relative;background-color: white;}#sk-container-id-14 div.sk-parallel-item:first-child::after {align-self: flex-end;width: 50%;}#sk-container-id-14 div.sk-parallel-item:last-child::after {align-self: flex-start;width: 50%;}#sk-container-id-14 div.sk-parallel-item:only-child::after {width: 0;}#sk-container-id-14 div.sk-dashed-wrapped {border: 1px dashed gray;margin: 0 0.4em 0.5em 0.4em;box-sizing: border-box;padding-bottom: 0.4em;background-color: white;}#sk-container-id-14 div.sk-label label {font-family: monospace;font-weight: bold;display: inline-block;line-height: 1.2em;}#sk-container-id-14 div.sk-label-container {text-align: center;}#sk-container-id-14 div.sk-container {/* jupyter's `normalize.less` sets `[hidden] { display: none; }` but bootstrap.min.css set `[hidden] { display: none !important; }` so we also need the `!important` here to be able to override the default hidden behavior on the sphinx rendered scikit-learn.org. See: https://github.com/scikit-learn/scikit-learn/issues/21755 */display: inline-block !important;position: relative;}#sk-container-id-14 div.sk-text-repr-fallback {display: none;}</style><div id=\"sk-container-id-14\" class=\"sk-top-container\"><div class=\"sk-text-repr-fallback\"><pre>RandomizedSearchCV(estimator=XGBClassifier(base_score=None, booster=None,\n",
       "                                           callbacks=None,\n",
       "                                           colsample_bylevel=None,\n",
       "                                           colsample_bynode=None,\n",
       "                                           colsample_bytree=None,\n",
       "                                           early_stopping_rounds=None,\n",
       "                                           enable_categorical=False,\n",
       "                                           eval_metric=None, feature_types=None,\n",
       "                                           gamma=None, gpu_id=None,\n",
       "                                           grow_policy=None,\n",
       "                                           importance_type=None,\n",
       "                                           interaction_constraints=None,\n",
       "                                           learning_rate=None...\n",
       "                   param_distributions={&#x27;booster&#x27;: [&#x27;gbtree&#x27;, &#x27;gblinear&#x27;,\n",
       "                                                    &#x27;dart&#x27;],\n",
       "                                        &#x27;colsample_bytree&#x27;: [0.5, 0.6, 0.7, 0.8,\n",
       "                                                             0.9, 1],\n",
       "                                        &#x27;grow_policy&#x27;: [&#x27;depthwise&#x27;,\n",
       "                                                        &#x27;lossguide&#x27;],\n",
       "                                        &#x27;learning_rate&#x27;: [0.1, 0.15, 0.2, 0.25,\n",
       "                                                          0.3],\n",
       "                                        &#x27;max_depths&#x27;: [2, 5, 10, 20],\n",
       "                                        &#x27;n_estimators&#x27;: [100, 200, 300, 400,\n",
       "                                                         500, 600, 700, 800,\n",
       "                                                         900, 1000],\n",
       "                                        &#x27;sampling_method&#x27;: [&#x27;uniform&#x27;,\n",
       "                                                            &#x27;gradient_based&#x27;],\n",
       "                                        &#x27;subsample&#x27;: [0.5, 0.6, 0.7, 0.8, 0.9,\n",
       "                                                      1]},\n",
       "                   random_state=42)</pre><b>In a Jupyter environment, please rerun this cell to show the HTML representation or trust the notebook. <br />On GitHub, the HTML representation is unable to render, please try loading this page with nbviewer.org.</b></div><div class=\"sk-container\" hidden><div class=\"sk-item sk-dashed-wrapped\"><div class=\"sk-label-container\"><div class=\"sk-label sk-toggleable\"><input class=\"sk-toggleable__control sk-hidden--visually\" id=\"sk-estimator-id-20\" type=\"checkbox\" ><label for=\"sk-estimator-id-20\" class=\"sk-toggleable__label sk-toggleable__label-arrow\">RandomizedSearchCV</label><div class=\"sk-toggleable__content\"><pre>RandomizedSearchCV(estimator=XGBClassifier(base_score=None, booster=None,\n",
       "                                           callbacks=None,\n",
       "                                           colsample_bylevel=None,\n",
       "                                           colsample_bynode=None,\n",
       "                                           colsample_bytree=None,\n",
       "                                           early_stopping_rounds=None,\n",
       "                                           enable_categorical=False,\n",
       "                                           eval_metric=None, feature_types=None,\n",
       "                                           gamma=None, gpu_id=None,\n",
       "                                           grow_policy=None,\n",
       "                                           importance_type=None,\n",
       "                                           interaction_constraints=None,\n",
       "                                           learning_rate=None...\n",
       "                   param_distributions={&#x27;booster&#x27;: [&#x27;gbtree&#x27;, &#x27;gblinear&#x27;,\n",
       "                                                    &#x27;dart&#x27;],\n",
       "                                        &#x27;colsample_bytree&#x27;: [0.5, 0.6, 0.7, 0.8,\n",
       "                                                             0.9, 1],\n",
       "                                        &#x27;grow_policy&#x27;: [&#x27;depthwise&#x27;,\n",
       "                                                        &#x27;lossguide&#x27;],\n",
       "                                        &#x27;learning_rate&#x27;: [0.1, 0.15, 0.2, 0.25,\n",
       "                                                          0.3],\n",
       "                                        &#x27;max_depths&#x27;: [2, 5, 10, 20],\n",
       "                                        &#x27;n_estimators&#x27;: [100, 200, 300, 400,\n",
       "                                                         500, 600, 700, 800,\n",
       "                                                         900, 1000],\n",
       "                                        &#x27;sampling_method&#x27;: [&#x27;uniform&#x27;,\n",
       "                                                            &#x27;gradient_based&#x27;],\n",
       "                                        &#x27;subsample&#x27;: [0.5, 0.6, 0.7, 0.8, 0.9,\n",
       "                                                      1]},\n",
       "                   random_state=42)</pre></div></div></div><div class=\"sk-parallel\"><div class=\"sk-parallel-item\"><div class=\"sk-item\"><div class=\"sk-label-container\"><div class=\"sk-label sk-toggleable\"><input class=\"sk-toggleable__control sk-hidden--visually\" id=\"sk-estimator-id-21\" type=\"checkbox\" ><label for=\"sk-estimator-id-21\" class=\"sk-toggleable__label sk-toggleable__label-arrow\">estimator: XGBClassifier</label><div class=\"sk-toggleable__content\"><pre>XGBClassifier(base_score=None, booster=None, callbacks=None,\n",
       "              colsample_bylevel=None, colsample_bynode=None,\n",
       "              colsample_bytree=None, early_stopping_rounds=None,\n",
       "              enable_categorical=False, eval_metric=None, feature_types=None,\n",
       "              gamma=None, gpu_id=None, grow_policy=None, importance_type=None,\n",
       "              interaction_constraints=None, learning_rate=None, max_bin=None,\n",
       "              max_cat_threshold=None, max_cat_to_onehot=None,\n",
       "              max_delta_step=None, max_depth=None, max_leaves=None,\n",
       "              min_child_weight=None, missing=nan, monotone_constraints=None,\n",
       "              n_estimators=100, n_jobs=None, num_parallel_tree=None,\n",
       "              predictor=None, random_state=42, ...)</pre></div></div></div><div class=\"sk-serial\"><div class=\"sk-item\"><div class=\"sk-estimator sk-toggleable\"><input class=\"sk-toggleable__control sk-hidden--visually\" id=\"sk-estimator-id-22\" type=\"checkbox\" ><label for=\"sk-estimator-id-22\" class=\"sk-toggleable__label sk-toggleable__label-arrow\">XGBClassifier</label><div class=\"sk-toggleable__content\"><pre>XGBClassifier(base_score=None, booster=None, callbacks=None,\n",
       "              colsample_bylevel=None, colsample_bynode=None,\n",
       "              colsample_bytree=None, early_stopping_rounds=None,\n",
       "              enable_categorical=False, eval_metric=None, feature_types=None,\n",
       "              gamma=None, gpu_id=None, grow_policy=None, importance_type=None,\n",
       "              interaction_constraints=None, learning_rate=None, max_bin=None,\n",
       "              max_cat_threshold=None, max_cat_to_onehot=None,\n",
       "              max_delta_step=None, max_depth=None, max_leaves=None,\n",
       "              min_child_weight=None, missing=nan, monotone_constraints=None,\n",
       "              n_estimators=100, n_jobs=None, num_parallel_tree=None,\n",
       "              predictor=None, random_state=42, ...)</pre></div></div></div></div></div></div></div></div></div></div>"
      ],
      "text/plain": [
       "RandomizedSearchCV(estimator=XGBClassifier(base_score=None, booster=None,\n",
       "                                           callbacks=None,\n",
       "                                           colsample_bylevel=None,\n",
       "                                           colsample_bynode=None,\n",
       "                                           colsample_bytree=None,\n",
       "                                           early_stopping_rounds=None,\n",
       "                                           enable_categorical=False,\n",
       "                                           eval_metric=None, feature_types=None,\n",
       "                                           gamma=None, gpu_id=None,\n",
       "                                           grow_policy=None,\n",
       "                                           importance_type=None,\n",
       "                                           interaction_constraints=None,\n",
       "                                           learning_rate=None...\n",
       "                   param_distributions={'booster': ['gbtree', 'gblinear',\n",
       "                                                    'dart'],\n",
       "                                        'colsample_bytree': [0.5, 0.6, 0.7, 0.8,\n",
       "                                                             0.9, 1],\n",
       "                                        'grow_policy': ['depthwise',\n",
       "                                                        'lossguide'],\n",
       "                                        'learning_rate': [0.1, 0.15, 0.2, 0.25,\n",
       "                                                          0.3],\n",
       "                                        'max_depths': [2, 5, 10, 20],\n",
       "                                        'n_estimators': [100, 200, 300, 400,\n",
       "                                                         500, 600, 700, 800,\n",
       "                                                         900, 1000],\n",
       "                                        'sampling_method': ['uniform',\n",
       "                                                            'gradient_based'],\n",
       "                                        'subsample': [0.5, 0.6, 0.7, 0.8, 0.9,\n",
       "                                                      1]},\n",
       "                   random_state=42)"
      ]
     },
     "execution_count": 106,
     "metadata": {},
     "output_type": "execute_result"
    }
   ],
   "source": [
    "%%time\n",
    "from sklearn.model_selection import RandomizedSearchCV\n",
    "from scipy.stats import uniform\n",
    "\n",
    "xgb_classifier = XGBClassifier(random_state=42)\n",
    "\n",
    "XG_distributions = dict(n_estimators=[100,200,300,400,500,600,700,800, 900, 1000],\n",
    "                     max_depths = [2, 5, 10, 20],\n",
    "                     learning_rate=[0.1,0.15,0.2,0.25,0.3],\n",
    "                     colsample_bytree=[0.5,0.6,0.7,0.8,0.9,1],\n",
    "                     subsample=[0.5,0.6,0.7,0.8,0.9,1],\n",
    "                     grow_policy = ['depthwise', 'lossguide'],\n",
    "                     booster = ['gbtree', 'gblinear', 'dart'],\n",
    "                     sampling_method = ['uniform','gradient_based'])\n",
    "rnd_search_XG = RandomizedSearchCV(xgb_classifier, XG_distributions, random_state=42)\n",
    "rnd_search_XG.fit(X_train, y_train)"
   ]
  },
  {
   "cell_type": "code",
   "execution_count": 107,
   "metadata": {},
   "outputs": [
    {
     "name": "stdout",
     "output_type": "stream",
     "text": [
      "Rank 1# - Score: 0.9963439332643715 - {'subsample': 0.8, 'sampling_method': 'uniform', 'n_estimators': 600, 'max_depths': 5, 'learning_rate': 0.25, 'grow_policy': 'depthwise', 'colsample_bytree': 0.8, 'booster': 'gbtree'}\n",
      "Rank 2# - Score: 0.9959935355464774 - {'subsample': 0.8, 'sampling_method': 'uniform', 'n_estimators': 700, 'max_depths': 20, 'learning_rate': 0.2, 'grow_policy': 'depthwise', 'colsample_bytree': 0.8, 'booster': 'gbtree'}\n",
      "Rank 3# - Score: 0.9957386445378571 - {'subsample': 0.6, 'sampling_method': 'uniform', 'n_estimators': 300, 'max_depths': 2, 'learning_rate': 0.25, 'grow_policy': 'depthwise', 'colsample_bytree': 0.6, 'booster': 'gbtree'}\n",
      "Rank 4# - Score: 0.9947821127824779 - {'subsample': 1, 'sampling_method': 'gradient_based', 'n_estimators': 200, 'max_depths': 10, 'learning_rate': 0.1, 'grow_policy': 'lossguide', 'colsample_bytree': 0.5, 'booster': 'dart'}\n",
      "Rank 5# - Score: 0.9082359654589841 - {'subsample': 0.6, 'sampling_method': 'gradient_based', 'n_estimators': 800, 'max_depths': 20, 'learning_rate': 0.15, 'grow_policy': 'depthwise', 'colsample_bytree': 0.8, 'booster': 'gblinear'}\n",
      "Rank 6# - Score: 0.9080612698468685 - {'subsample': 0.9, 'sampling_method': 'gradient_based', 'n_estimators': 400, 'max_depths': 5, 'learning_rate': 0.3, 'grow_policy': 'depthwise', 'colsample_bytree': 1, 'booster': 'gblinear'}\n",
      "Rank 7# - Score: 0.9073621066688707 - {'subsample': 0.5, 'sampling_method': 'gradient_based', 'n_estimators': 1000, 'max_depths': 5, 'learning_rate': 0.2, 'grow_policy': 'lossguide', 'colsample_bytree': 0.6, 'booster': 'gblinear'}\n",
      "Rank 8# - Score: nan - {'subsample': 0.7, 'sampling_method': 'gradient_based', 'n_estimators': 200, 'max_depths': 20, 'learning_rate': 0.15, 'grow_policy': 'depthwise', 'colsample_bytree': 0.5, 'booster': 'gbtree'}\n",
      "Rank 9# - Score: nan - {'subsample': 0.7, 'sampling_method': 'gradient_based', 'n_estimators': 200, 'max_depths': 2, 'learning_rate': 0.1, 'grow_policy': 'depthwise', 'colsample_bytree': 0.9, 'booster': 'dart'}\n",
      "Rank 10# - Score: nan - {'subsample': 0.5, 'sampling_method': 'gradient_based', 'n_estimators': 600, 'max_depths': 10, 'learning_rate': 0.15, 'grow_policy': 'depthwise', 'colsample_bytree': 1, 'booster': 'dart'}\n"
     ]
    }
   ],
   "source": [
    "cvres = pd.DataFrame(rnd_search_XG.cv_results_).sort_values(by=['rank_test_score'])\n",
    "for mean_score, params,rank in zip(cvres[\"mean_test_score\"], cvres[\"params\"],cvres[\"rank_test_score\"]):\n",
    "    print(\"Rank {}# - Score: {} - {}\".format(rank, np.sqrt(mean_score), params))"
   ]
  },
  {
   "cell_type": "code",
   "execution_count": 108,
   "metadata": {
    "scrolled": true
   },
   "outputs": [
    {
     "data": {
      "text/html": [
       "<style>#sk-container-id-15 {color: black;background-color: white;}#sk-container-id-15 pre{padding: 0;}#sk-container-id-15 div.sk-toggleable {background-color: white;}#sk-container-id-15 label.sk-toggleable__label {cursor: pointer;display: block;width: 100%;margin-bottom: 0;padding: 0.3em;box-sizing: border-box;text-align: center;}#sk-container-id-15 label.sk-toggleable__label-arrow:before {content: \"▸\";float: left;margin-right: 0.25em;color: #696969;}#sk-container-id-15 label.sk-toggleable__label-arrow:hover:before {color: black;}#sk-container-id-15 div.sk-estimator:hover label.sk-toggleable__label-arrow:before {color: black;}#sk-container-id-15 div.sk-toggleable__content {max-height: 0;max-width: 0;overflow: hidden;text-align: left;background-color: #f0f8ff;}#sk-container-id-15 div.sk-toggleable__content pre {margin: 0.2em;color: black;border-radius: 0.25em;background-color: #f0f8ff;}#sk-container-id-15 input.sk-toggleable__control:checked~div.sk-toggleable__content {max-height: 200px;max-width: 100%;overflow: auto;}#sk-container-id-15 input.sk-toggleable__control:checked~label.sk-toggleable__label-arrow:before {content: \"▾\";}#sk-container-id-15 div.sk-estimator input.sk-toggleable__control:checked~label.sk-toggleable__label {background-color: #d4ebff;}#sk-container-id-15 div.sk-label input.sk-toggleable__control:checked~label.sk-toggleable__label {background-color: #d4ebff;}#sk-container-id-15 input.sk-hidden--visually {border: 0;clip: rect(1px 1px 1px 1px);clip: rect(1px, 1px, 1px, 1px);height: 1px;margin: -1px;overflow: hidden;padding: 0;position: absolute;width: 1px;}#sk-container-id-15 div.sk-estimator {font-family: monospace;background-color: #f0f8ff;border: 1px dotted black;border-radius: 0.25em;box-sizing: border-box;margin-bottom: 0.5em;}#sk-container-id-15 div.sk-estimator:hover {background-color: #d4ebff;}#sk-container-id-15 div.sk-parallel-item::after {content: \"\";width: 100%;border-bottom: 1px solid gray;flex-grow: 1;}#sk-container-id-15 div.sk-label:hover label.sk-toggleable__label {background-color: #d4ebff;}#sk-container-id-15 div.sk-serial::before {content: \"\";position: absolute;border-left: 1px solid gray;box-sizing: border-box;top: 0;bottom: 0;left: 50%;z-index: 0;}#sk-container-id-15 div.sk-serial {display: flex;flex-direction: column;align-items: center;background-color: white;padding-right: 0.2em;padding-left: 0.2em;position: relative;}#sk-container-id-15 div.sk-item {position: relative;z-index: 1;}#sk-container-id-15 div.sk-parallel {display: flex;align-items: stretch;justify-content: center;background-color: white;position: relative;}#sk-container-id-15 div.sk-item::before, #sk-container-id-15 div.sk-parallel-item::before {content: \"\";position: absolute;border-left: 1px solid gray;box-sizing: border-box;top: 0;bottom: 0;left: 50%;z-index: -1;}#sk-container-id-15 div.sk-parallel-item {display: flex;flex-direction: column;z-index: 1;position: relative;background-color: white;}#sk-container-id-15 div.sk-parallel-item:first-child::after {align-self: flex-end;width: 50%;}#sk-container-id-15 div.sk-parallel-item:last-child::after {align-self: flex-start;width: 50%;}#sk-container-id-15 div.sk-parallel-item:only-child::after {width: 0;}#sk-container-id-15 div.sk-dashed-wrapped {border: 1px dashed gray;margin: 0 0.4em 0.5em 0.4em;box-sizing: border-box;padding-bottom: 0.4em;background-color: white;}#sk-container-id-15 div.sk-label label {font-family: monospace;font-weight: bold;display: inline-block;line-height: 1.2em;}#sk-container-id-15 div.sk-label-container {text-align: center;}#sk-container-id-15 div.sk-container {/* jupyter's `normalize.less` sets `[hidden] { display: none; }` but bootstrap.min.css set `[hidden] { display: none !important; }` so we also need the `!important` here to be able to override the default hidden behavior on the sphinx rendered scikit-learn.org. See: https://github.com/scikit-learn/scikit-learn/issues/21755 */display: inline-block !important;position: relative;}#sk-container-id-15 div.sk-text-repr-fallback {display: none;}</style><div id=\"sk-container-id-15\" class=\"sk-top-container\"><div class=\"sk-text-repr-fallback\"><pre>XGBClassifier(base_score=0.5, booster=&#x27;gbtree&#x27;, callbacks=None,\n",
       "              colsample_bylevel=1, colsample_bynode=1, colsample_bytree=0.8,\n",
       "              early_stopping_rounds=None, enable_categorical=False,\n",
       "              eval_metric=None, feature_types=None, gamma=0, gpu_id=-1,\n",
       "              grow_policy=&#x27;depthwise&#x27;, importance_type=None,\n",
       "              interaction_constraints=&#x27;&#x27;, learning_rate=0.25, max_bin=256,\n",
       "              max_cat_threshold=64, max_cat_to_onehot=4, max_delta_step=0,\n",
       "              max_depth=6, max_depths=5, max_leaves=0, min_child_weight=1,\n",
       "              missing=nan, monotone_constraints=&#x27;()&#x27;, n_estimators=600,\n",
       "              n_jobs=0, num_parallel_tree=1, predictor=&#x27;auto&#x27;, ...)</pre><b>In a Jupyter environment, please rerun this cell to show the HTML representation or trust the notebook. <br />On GitHub, the HTML representation is unable to render, please try loading this page with nbviewer.org.</b></div><div class=\"sk-container\" hidden><div class=\"sk-item\"><div class=\"sk-estimator sk-toggleable\"><input class=\"sk-toggleable__control sk-hidden--visually\" id=\"sk-estimator-id-23\" type=\"checkbox\" checked><label for=\"sk-estimator-id-23\" class=\"sk-toggleable__label sk-toggleable__label-arrow\">XGBClassifier</label><div class=\"sk-toggleable__content\"><pre>XGBClassifier(base_score=0.5, booster=&#x27;gbtree&#x27;, callbacks=None,\n",
       "              colsample_bylevel=1, colsample_bynode=1, colsample_bytree=0.8,\n",
       "              early_stopping_rounds=None, enable_categorical=False,\n",
       "              eval_metric=None, feature_types=None, gamma=0, gpu_id=-1,\n",
       "              grow_policy=&#x27;depthwise&#x27;, importance_type=None,\n",
       "              interaction_constraints=&#x27;&#x27;, learning_rate=0.25, max_bin=256,\n",
       "              max_cat_threshold=64, max_cat_to_onehot=4, max_delta_step=0,\n",
       "              max_depth=6, max_depths=5, max_leaves=0, min_child_weight=1,\n",
       "              missing=nan, monotone_constraints=&#x27;()&#x27;, n_estimators=600,\n",
       "              n_jobs=0, num_parallel_tree=1, predictor=&#x27;auto&#x27;, ...)</pre></div></div></div></div></div>"
      ],
      "text/plain": [
       "XGBClassifier(base_score=0.5, booster='gbtree', callbacks=None,\n",
       "              colsample_bylevel=1, colsample_bynode=1, colsample_bytree=0.8,\n",
       "              early_stopping_rounds=None, enable_categorical=False,\n",
       "              eval_metric=None, feature_types=None, gamma=0, gpu_id=-1,\n",
       "              grow_policy='depthwise', importance_type=None,\n",
       "              interaction_constraints='', learning_rate=0.25, max_bin=256,\n",
       "              max_cat_threshold=64, max_cat_to_onehot=4, max_delta_step=0,\n",
       "              max_depth=6, max_depths=5, max_leaves=0, min_child_weight=1,\n",
       "              missing=nan, monotone_constraints='()', n_estimators=600,\n",
       "              n_jobs=0, num_parallel_tree=1, predictor='auto', ...)"
      ]
     },
     "execution_count": 108,
     "metadata": {},
     "output_type": "execute_result"
    }
   ],
   "source": [
    "rnd_search_XG.best_estimator_"
   ]
  },
  {
   "cell_type": "code",
   "execution_count": 109,
   "metadata": {},
   "outputs": [],
   "source": [
    "import re\n",
    "regex = re.compile(r\"\\[|\\]|<\", re.IGNORECASE)\n",
    "X_test.columns = [regex.sub(\"_\", col) if any(x in str(col) for x in set(('[', ']', '<'))) else col for col in X_test.columns.values]"
   ]
  },
  {
   "cell_type": "code",
   "execution_count": 110,
   "metadata": {},
   "outputs": [],
   "source": [
    "y_test_pred_xgb = rnd_search_XG.best_estimator_.predict(X_test)"
   ]
  },
  {
   "cell_type": "code",
   "execution_count": 111,
   "metadata": {},
   "outputs": [
    {
     "data": {
      "text/plain": [
       "<AxesSubplot:>"
      ]
     },
     "execution_count": 111,
     "metadata": {},
     "output_type": "execute_result"
    },
    {
     "data": {
      "image/png": "[encoded data removed]",
      "text/plain": [
       "<Figure size 432x288 with 2 Axes>"
      ]
     },
     "metadata": {
      "needs_background": "light"
     },
     "output_type": "display_data"
    }
   ],
   "source": [
    "import seaborn as sns\n",
    "sns.heatmap(confusion_matrix(y_test, y_test_pred_xgb), annot=True,fmt='d')"
   ]
  },
  {
   "cell_type": "code",
   "execution_count": 112,
   "metadata": {},
   "outputs": [
    {
     "name": "stdout",
     "output_type": "stream",
     "text": [
      "Precision Score:  0.9881081081081081\n",
      "Recall Score:  0.9978165938864629\n",
      "F1 Score:  0.9929386203150461\n",
      "Accuracy Score:  0.9925756710451171\n"
     ]
    }
   ],
   "source": [
    "#Performance measures for test dataset\n",
    "from sklearn.metrics import precision_score, recall_score,f1_score \n",
    "print(\"Precision Score: \",precision_score(y_test, y_test_pred_xgb))\n",
    "print(\"Recall Score: \",recall_score(y_test, y_test_pred_xgb))\n",
    "print(\"F1 Score: \",f1_score(y_test, y_test_pred_xgb))\n",
    "print(\"Accuracy Score: \",accuracy_score(y_test, y_test_pred_xgb))"
   ]
  },
  {
   "cell_type": "code",
   "execution_count": 113,
   "metadata": {},
   "outputs": [
    {
     "name": "stdout",
     "output_type": "stream",
     "text": [
      "0.992321470595926\n"
     ]
    }
   ],
   "source": [
    "from sklearn import metrics\n",
    "fpr, tpr, _ = metrics.roc_curve(y_test,  y_test_pred_xgb)\n",
    "#calculate AUC of model\n",
    "auc_xgb = metrics.roc_auc_score(y_test, y_test_pred_xgb)\n",
    "print(auc_xgb)\n"
   ]
  },
  {
   "cell_type": "code",
   "execution_count": 114,
   "metadata": {},
   "outputs": [],
   "source": [
    "cohen_score_xgb = cohen_kappa_score(y_test, y_test_pred_xgb)"
   ]
  },
  {
   "cell_type": "code",
   "execution_count": 115,
   "metadata": {},
   "outputs": [],
   "source": [
    "acc_list.append(accuracy_score(y_test, y_test_pred_xgb))\n",
    "auc_list.append(auc_xgb)\n",
    "kappa_list.append(cohen_score_xgb)"
   ]
  },
  {
   "cell_type": "markdown",
   "metadata": {},
   "source": [
    "## Draw ROC curve and PR curve"
   ]
  },
  {
   "cell_type": "markdown",
   "metadata": {},
   "source": [
    "### For Training Set"
   ]
  },
  {
   "cell_type": "code",
   "execution_count": 116,
   "metadata": {},
   "outputs": [],
   "source": [
    "from sklearn.metrics import roc_curve\n",
    "\n",
    "#Fuzzy Cognitive Map\n",
    "fpr_FCM, tpr_FCM, thresholds_FCM = roc_curve(y_train, y_train_pred_fcm)\n",
    "\n",
    "#------------------------------------------------------------------------------------------------#\n",
    "\n",
    "#LightGBM Classifier\n",
    "fpr_LGBM, tpr_LGBM, thresholds_LGBM = roc_curve(y_train, y_train_pred_lgbmc)\n",
    "\n",
    "#------------------------------------------------------------------------------------------------#\n",
    "\n",
    "#RIPPER (Repeated Incremental Pruning to Produce Error Reduction)\n",
    "fpr_RIPPER, tpr_RIPPER, thresholds_RIPPER = roc_curve(y_train, y_train_pred_ripper)\n",
    "\n",
    "#------------------------------------------------------------------------------------------------#\n",
    "\n",
    "#Decision Tree\n",
    "fpr_DT, tpr_DT, thresholds_DT = roc_curve(y_train, y_train_pred_dt)\n",
    "\n",
    "#------------------------------------------------------------------------------------------------#\n",
    "\n",
    "#K-Nearest Neighbour (KNN)\n",
    "fpr_KNN, tpr_KNN, thresholds_KNN = roc_curve(y_train, y_train_pred_knn)\n",
    "\n",
    "#------------------------------------------------------------------------------------------------#\n",
    "\n",
    "#Artificial Neural Network\n",
    "fpr_ANN, tpr_ANN, thresholds_ANN = roc_curve(y_train, model.predict(X_train))\n",
    "\n",
    "#------------------------------------------------------------------------------------------------#\n",
    "\n",
    "#Support Vector Machine\n",
    "fpr_SVM, tpr_SVM, thresholds_SVM = roc_curve(y_train,  y_train_pred_svm)\n",
    "\n",
    "#------------------------------------------------------------------------------------------------#\n",
    "\n",
    "# Stochastic Gradient Descent\n",
    "fpr_SGD, tpr_SGD, thresholds_SGD = roc_curve(y_train, y_train_pred_sgd)\n",
    "\n",
    "#------------------------------------------------------------------------------------------------#\n",
    "\n",
    "# Gaussian Naive Bayes\n",
    "fpr_NB, tpr_NB, thresholds_NB = roc_curve(y_train, y_train_pred_nb)\n",
    "\n",
    "#------------------------------------------------------------------------------------------------#\n",
    "\n",
    "# Linear Regresison\n",
    "fpr_LR, tpr_LR, thresholds_LR = roc_curve(y_train, y_train_pred_log)\n",
    "\n",
    "#------------------------------------------------------------------------------------------------#\n",
    "\n",
    "# XGBoost\n",
    "fpr_XG, tpr_XG, thresholds_XG = roc_curve(y_train, y_train_pred_xgb)"
   ]
  },
  {
   "cell_type": "code",
   "execution_count": 117,
   "metadata": {},
   "outputs": [
    {
     "data": {
      "image/png": "[encoded data removed]",
      "text/plain": [
       "<Figure size 864x720 with 1 Axes>"
      ]
     },
     "metadata": {
      "needs_background": "light"
     },
     "output_type": "display_data"
    }
   ],
   "source": [
    "plt.figure(figsize=(12, 10))              \n",
    "\n",
    "#Fuzzy Cognitive Map\n",
    "plt.plot(fpr_FCM, tpr_FCM, linewidth=2, label=\"Fuzzy Cognitive Map\")\n",
    "\n",
    "#------------------------------------------------------------------------------------------------#\n",
    "\n",
    "#LightGBM Classifier\n",
    "plt.plot(fpr_LGBM, tpr_LGBM, linewidth=2, label=\"LightGBM\")\n",
    "\n",
    "#------------------------------------------------------------------------------------------------#\n",
    "\n",
    "#RIPPER (Repeated Incremental Pruning to Produce Error Reduction)\n",
    "plt.plot(fpr_RIPPER, tpr_RIPPER, linewidth=2, label=\"RIPPER\")\n",
    "\n",
    "#------------------------------------------------------------------------------------------------#\n",
    "\n",
    "#K-Nearest Neighbour (KNN)\n",
    "plt.plot(fpr_KNN, tpr_KNN, linewidth=2, label=\"K-Nearest Neighbour\")\n",
    "\n",
    "#------------------------------------------------------------------------------------------------#\n",
    "\n",
    "#Decision Tree\n",
    "plt.plot(fpr_DT, tpr_DT, linewidth=2, label=\"Decision Tree\")\n",
    "\n",
    "#------------------------------------------------------------------------------------------------#\n",
    "\n",
    "#Artificial Neural Network\n",
    "plt.plot(fpr_ANN, tpr_ANN, linewidth=2, label=\"Artificial Neural Network\")\n",
    "\n",
    "#------------------------------------------------------------------------------------------------#\n",
    "\n",
    "#Support Vector Machine\n",
    "plt.plot(fpr_SVM, tpr_SVM, linewidth=2, label=\"Support Vector Machine\")\n",
    "\n",
    "#------------------------------------------------------------------------------------------------#\n",
    "\n",
    "# Stochastic Gradient Descent\n",
    "plt.plot(fpr_SGD, tpr_SGD, linewidth=2, label=\"Stochastic Gradient Descent\")\n",
    "\n",
    "#------------------------------------------------------------------------------------------------#\n",
    "\n",
    "# Gaussian Naive Bayes\n",
    "plt.plot(fpr_NB, tpr_NB, \"m-\", linewidth=2, label=\"Gaussian Naive Bayes\")\n",
    "\n",
    "#------------------------------------------------------------------------------------------------#\n",
    "\n",
    "# Linear Regresison\n",
    "plt.plot(fpr_LR, tpr_LR, linewidth=2, label=\"Logistic Regression\")\n",
    "\n",
    "#------------------------------------------------------------------------------------------------#\n",
    "\n",
    "# XGBoost\n",
    "plt.plot(fpr_XG, tpr_XG, linewidth=2, label=\"XGBoost\")\n",
    "\n",
    "#------------------------------------------------------------------------------------------------#\n",
    "\n",
    "\n",
    "# fpr_SGD_90 = fpr_SGD[np.argmax(tpr_SGD >= 0.9)]           \n",
    "\n",
    "# plt.plot([fpr_SGD_90, fpr_SGD_90], [0., 0.9], \"r:\")\n",
    "# plt.plot([0.0, fpr_SGD_90], [0.9, 0.9], \"r:\")  \n",
    "# plt.plot([fpr_SGD_90], [0.9], \"ro\")   \n",
    "\n",
    "# AUC curve\n",
    "plt.plot([0, 1], [0, 1], 'k--')\n",
    "# plt.axis([0, 1, 0, 1])\n",
    "\n",
    "\n",
    "\n",
    "plt.xlabel('False Positive Rate (Fall-Out)', fontsize=16) \n",
    "plt.ylabel('True Positive Rate (Recall)', fontsize=16)\n",
    "\n",
    "plt.legend(loc=4)\n",
    "plt.grid(True)      \n",
    "plt.show()"
   ]
  },
  {
   "cell_type": "markdown",
   "metadata": {},
   "source": [
    "### For Test Set"
   ]
  },
  {
   "cell_type": "code",
   "execution_count": 118,
   "metadata": {},
   "outputs": [],
   "source": [
    "from sklearn.metrics import roc_curve\n",
    "\n",
    "#Fuzzy Cognitive Map\n",
    "fpr_FCM, tpr_FCM, thresholds_FCM = roc_curve(y_test, y_test_pred_fcm)\n",
    "\n",
    "#------------------------------------------------------------------------------------------------#\n",
    "\n",
    "#LightGBM Classifier\n",
    "fpr_LGBM, tpr_LGBM, thresholds_LGBM = roc_curve(y_test, y_test_pred_lgbmc)\n",
    "\n",
    "#------------------------------------------------------------------------------------------------#\n",
    "\n",
    "#RIPPER (Repeated Incremental Pruning to Produce Error Reduction)\n",
    "fpr_RIPPER, tpr_RIPPER, thresholds_RIPPER = roc_curve(y_test, y_test_pred_ripper)\n",
    "\n",
    "#------------------------------------------------------------------------------------------------#\n",
    "\n",
    "#K-Nearest Neighbour (KNN)\n",
    "fpr_KNN, tpr_KNN, thresholds_KNN = roc_curve(y_test, y_test_pred_knn)\n",
    "\n",
    "#------------------------------------------------------------------------------------------------#\n",
    "\n",
    "#Decision Tree\n",
    "fpr_DT, tpr_DT, thresholds_DT = roc_curve(y_test, y_test_pred_dt)\n",
    "\n",
    "#------------------------------------------------------------------------------------------------#\n",
    "\n",
    "#Artificial Neural Network\n",
    "fpr_ANN, tpr_ANN, thresholds_ANN = roc_curve(y_test, model.predict(X_test))\n",
    "\n",
    "#------------------------------------------------------------------------------------------------#\n",
    "\n",
    "#Support Vector Machine\n",
    "fpr_SVM, tpr_SVM, thresholds_SVM = roc_curve(y_test, y_test_pred_svm)\n",
    "\n",
    "#------------------------------------------------------------------------------------------------#\n",
    "\n",
    "# Stochastic Gradient Descent\n",
    "fpr_SGD, tpr_SGD, thresholds_SGD = roc_curve(y_test, y_test_pred_sgd)\n",
    "\n",
    "#------------------------------------------------------------------------------------------------#\n",
    "\n",
    "# Gaussian Naive Bayes\n",
    "fpr_NB, tpr_NB, thresholds_NB = roc_curve(y_test, y_test_pred_nb)\n",
    "\n",
    "#------------------------------------------------------------------------------------------------#\n",
    "\n",
    "# Linear Regresison\n",
    "fpr_LR, tpr_LR, thresholds_LR = roc_curve(y_test, y_test_pred_log)\n",
    "\n",
    "#------------------------------------------------------------------------------------------------#\n",
    "\n",
    "# XGBoost\n",
    "fpr_XG, tpr_XG, thresholds_XG = roc_curve(y_test, y_test_pred_xgb)"
   ]
  },
  {
   "cell_type": "code",
   "execution_count": 119,
   "metadata": {},
   "outputs": [
    {
     "data": {
      "image/png": "[encoded data removed]",
      "text/plain": [
       "<Figure size 864x720 with 1 Axes>"
      ]
     },
     "metadata": {
      "needs_background": "light"
     },
     "output_type": "display_data"
    }
   ],
   "source": [
    "plt.figure(figsize=(12, 10))                                    \n",
    "\n",
    "#Fuzzy Cognitive Map\n",
    "plt.plot(fpr_FCM, tpr_FCM, linewidth=2, label=\"Fuzzy Cognitive Map\")\n",
    "\n",
    "#------------------------------------------------------------------------------------------------#\n",
    "\n",
    "#LightGBM Classifier\n",
    "plt.plot(fpr_LGBM, tpr_LGBM, linewidth=2, label=\"LightGBM\")\n",
    "\n",
    "#------------------------------------------------------------------------------------------------#\n",
    "\n",
    "#RIPPER (Repeated Incremental Pruning to Produce Error Reduction)\n",
    "plt.plot(fpr_RIPPER, tpr_RIPPER, linewidth=2, label=\"RIPPER\")\n",
    "\n",
    "#------------------------------------------------------------------------------------------------#\n",
    "\n",
    "#K-Nearest Neighbour (KNN)\n",
    "plt.plot(fpr_KNN, tpr_KNN, linewidth=2, label=\"K-Nearest Neighbour\")\n",
    "\n",
    "#------------------------------------------------------------------------------------------------#\n",
    "\n",
    "#Decision Tree\n",
    "plt.plot(fpr_DT, tpr_DT, linewidth=2, label=\"Decision Tree\")\n",
    "\n",
    "#------------------------------------------------------------------------------------------------#\n",
    "\n",
    "#Artificial Neural Network\n",
    "plt.plot(fpr_ANN, tpr_ANN, linewidth=2, label=\"Artificial Neural Network\")\n",
    "\n",
    "\n",
    "#------------------------------------------------------------------------------------------------#\n",
    "\n",
    "#Support Vector Machine\n",
    "plt.plot(fpr_SVM, tpr_SVM, linewidth=2, label=\"Support Vector Machine\")\n",
    "\n",
    "\n",
    "#------------------------------------------------------------------------------------------------#\n",
    "\n",
    "# Stochastic Gradient Descent\n",
    "plt.plot(fpr_SGD, tpr_SGD, linewidth=2, label=\"Stochastic Gradient Descent\")\n",
    "\n",
    "\n",
    "#------------------------------------------------------------------------------------------------#\n",
    "\n",
    "# Gaussian Naive Bayes\n",
    "plt.plot(fpr_NB, tpr_NB, \"m-\", linewidth=2, label=\"Gaussian Naive Bayes\")\n",
    "\n",
    "#------------------------------------------------------------------------------------------------#\n",
    "\n",
    "# Linear Regresison\n",
    "plt.plot(fpr_LR, tpr_LR, linewidth=2, label=\"Logistic Regression\")\n",
    "\n",
    "\n",
    "#------------------------------------------------------------------------------------------------#\n",
    "\n",
    "# XGBoost\n",
    "plt.plot(fpr_XG, tpr_XG, linewidth=2, label=\"XGBoost\")\n",
    "\n",
    "#------------------------------------------------------------------------------------------------#\n",
    "\n",
    "\n",
    "# fpr_SGD_90 = fpr_SGD[np.argmax(tpr_SGD >= 0.9)]           \n",
    "\n",
    "# plt.plot([fpr_SGD_90, fpr_SGD_90], [0., 0.9], \"r:\")\n",
    "# plt.plot([0.0, fpr_SGD_90], [0.9, 0.9], \"r:\")  \n",
    "# plt.plot([fpr_SGD_90], [0.9], \"ro\")   \n",
    "\n",
    "# AUC curve\n",
    "plt.plot([0, 1], [0, 1], 'k--')\n",
    "# plt.axis([0, 1, 0, 1])\n",
    "\n",
    "\n",
    "\n",
    "plt.xlabel('False Positive Rate (Fall-Out)', fontsize=16) \n",
    "plt.ylabel('True Positive Rate (Recall)', fontsize=16)\n",
    "\n",
    "plt.legend(loc=4)\n",
    "plt.grid(True)      \n",
    "plt.show()"
   ]
  },
  {
   "cell_type": "markdown",
   "metadata": {},
   "source": [
    "## The area under curve (AUC)\n",
    "Through AUC you can summarize the performance of each classifier into a single measure when comparing different classifiers. Calculating the area under the ROC curve, abbreviated as AUC, is a typical method.\n"
   ]
  },
  {
   "cell_type": "code",
   "execution_count": 120,
   "metadata": {
    "scrolled": true
   },
   "outputs": [
    {
     "data": {
      "text/html": [
       "<div>\n",
       "<style scoped>\n",
       "    .dataframe tbody tr th:only-of-type {\n",
       "        vertical-align: middle;\n",
       "    }\n",
       "\n",
       "    .dataframe tbody tr th {\n",
       "        vertical-align: top;\n",
       "    }\n",
       "\n",
       "    .dataframe thead th {\n",
       "        text-align: right;\n",
       "    }\n",
       "</style>\n",
       "<table border=\"1\" class=\"dataframe\">\n",
       "  <thead>\n",
       "    <tr style=\"text-align: right;\">\n",
       "      <th></th>\n",
       "      <th>Model</th>\n",
       "      <th>Accuracy</th>\n",
       "      <th>AUC</th>\n",
       "      <th>Kappa</th>\n",
       "    </tr>\n",
       "  </thead>\n",
       "  <tbody>\n",
       "    <tr>\n",
       "      <th>0</th>\n",
       "      <td>Fuzzy Cognitive Map</td>\n",
       "      <td>0.841805</td>\n",
       "      <td>0.875567</td>\n",
       "      <td>0.684318</td>\n",
       "    </tr>\n",
       "    <tr>\n",
       "      <th>1</th>\n",
       "      <td>LightGBM</td>\n",
       "      <td>0.989149</td>\n",
       "      <td>0.988940</td>\n",
       "      <td>0.978244</td>\n",
       "    </tr>\n",
       "    <tr>\n",
       "      <th>2</th>\n",
       "      <td>RIPPER</td>\n",
       "      <td>0.821245</td>\n",
       "      <td>0.826977</td>\n",
       "      <td>0.646053</td>\n",
       "    </tr>\n",
       "    <tr>\n",
       "      <th>3</th>\n",
       "      <td>K-Nearest Neighbour</td>\n",
       "      <td>0.966305</td>\n",
       "      <td>0.965253</td>\n",
       "      <td>0.932333</td>\n",
       "    </tr>\n",
       "    <tr>\n",
       "      <th>4</th>\n",
       "      <td>Decision Tree</td>\n",
       "      <td>0.982296</td>\n",
       "      <td>0.982178</td>\n",
       "      <td>0.964510</td>\n",
       "    </tr>\n",
       "    <tr>\n",
       "      <th>5</th>\n",
       "      <td>Artificial Neural Network</td>\n",
       "      <td>0.968589</td>\n",
       "      <td>0.991357</td>\n",
       "      <td>0.936974</td>\n",
       "    </tr>\n",
       "    <tr>\n",
       "      <th>6</th>\n",
       "      <td>Support Vector Machine</td>\n",
       "      <td>0.843518</td>\n",
       "      <td>0.843182</td>\n",
       "      <td>0.686365</td>\n",
       "    </tr>\n",
       "    <tr>\n",
       "      <th>7</th>\n",
       "      <td>Stochastic Gradient Descent</td>\n",
       "      <td>0.840662</td>\n",
       "      <td>0.840135</td>\n",
       "      <td>0.680523</td>\n",
       "    </tr>\n",
       "    <tr>\n",
       "      <th>8</th>\n",
       "      <td>Gaussian Naive Bayes</td>\n",
       "      <td>0.829240</td>\n",
       "      <td>0.827524</td>\n",
       "      <td>0.656822</td>\n",
       "    </tr>\n",
       "    <tr>\n",
       "      <th>9</th>\n",
       "      <td>Logistic Regression</td>\n",
       "      <td>0.830954</td>\n",
       "      <td>0.829320</td>\n",
       "      <td>0.660319</td>\n",
       "    </tr>\n",
       "    <tr>\n",
       "      <th>10</th>\n",
       "      <td>XGBoost</td>\n",
       "      <td>0.992576</td>\n",
       "      <td>0.992321</td>\n",
       "      <td>0.985112</td>\n",
       "    </tr>\n",
       "  </tbody>\n",
       "</table>\n",
       "</div>"
      ],
      "text/plain": [
       "                          Model  Accuracy       AUC     Kappa\n",
       "0           Fuzzy Cognitive Map  0.841805  0.875567  0.684318\n",
       "1                      LightGBM  0.989149  0.988940  0.978244\n",
       "2                        RIPPER  0.821245  0.826977  0.646053\n",
       "3           K-Nearest Neighbour  0.966305  0.965253  0.932333\n",
       "4                 Decision Tree  0.982296  0.982178  0.964510\n",
       "5     Artificial Neural Network  0.968589  0.991357  0.936974\n",
       "6        Support Vector Machine  0.843518  0.843182  0.686365\n",
       "7   Stochastic Gradient Descent  0.840662  0.840135  0.680523\n",
       "8          Gaussian Naive Bayes  0.829240  0.827524  0.656822\n",
       "9           Logistic Regression  0.830954  0.829320  0.660319\n",
       "10                      XGBoost  0.992576  0.992321  0.985112"
      ]
     },
     "execution_count": 120,
     "metadata": {},
     "output_type": "execute_result"
    }
   ],
   "source": [
    "model_list = ['Fuzzy Cognitive Map', 'LightGBM', 'RIPPER', 'K-Nearest Neighbour' ,'Decision Tree', 'Artificial Neural Network', 'Support Vector Machine', 'Stochastic Gradient Descent', 'Gaussian Naive Bayes', 'Logistic Regression', 'XGBoost']\n",
    "\n",
    "#accuracy and AUC\n",
    "result_df = pd.DataFrame({'Model':model_list, 'Accuracy': acc_list, 'AUC': auc_list, 'Kappa':kappa_list})\n",
    "result_df"
   ]
  },
  {
   "cell_type": "code",
   "execution_count": 121,
   "metadata": {},
   "outputs": [
    {
     "data": {
      "text/html": [
       "<div>\n",
       "<style scoped>\n",
       "    .dataframe tbody tr th:only-of-type {\n",
       "        vertical-align: middle;\n",
       "    }\n",
       "\n",
       "    .dataframe tbody tr th {\n",
       "        vertical-align: top;\n",
       "    }\n",
       "\n",
       "    .dataframe thead th {\n",
       "        text-align: right;\n",
       "    }\n",
       "</style>\n",
       "<table border=\"1\" class=\"dataframe\">\n",
       "  <thead>\n",
       "    <tr style=\"text-align: right;\">\n",
       "      <th></th>\n",
       "      <th>Model</th>\n",
       "      <th>Accuracy</th>\n",
       "      <th>AUC</th>\n",
       "      <th>Kappa</th>\n",
       "    </tr>\n",
       "  </thead>\n",
       "  <tbody>\n",
       "    <tr>\n",
       "      <th>10</th>\n",
       "      <td>XGBoost</td>\n",
       "      <td>0.992576</td>\n",
       "      <td>0.992321</td>\n",
       "      <td>0.985112</td>\n",
       "    </tr>\n",
       "    <tr>\n",
       "      <th>5</th>\n",
       "      <td>Artificial Neural Network</td>\n",
       "      <td>0.968589</td>\n",
       "      <td>0.991357</td>\n",
       "      <td>0.936974</td>\n",
       "    </tr>\n",
       "    <tr>\n",
       "      <th>1</th>\n",
       "      <td>LightGBM</td>\n",
       "      <td>0.989149</td>\n",
       "      <td>0.988940</td>\n",
       "      <td>0.978244</td>\n",
       "    </tr>\n",
       "    <tr>\n",
       "      <th>4</th>\n",
       "      <td>Decision Tree</td>\n",
       "      <td>0.982296</td>\n",
       "      <td>0.982178</td>\n",
       "      <td>0.964510</td>\n",
       "    </tr>\n",
       "    <tr>\n",
       "      <th>3</th>\n",
       "      <td>K-Nearest Neighbour</td>\n",
       "      <td>0.966305</td>\n",
       "      <td>0.965253</td>\n",
       "      <td>0.932333</td>\n",
       "    </tr>\n",
       "    <tr>\n",
       "      <th>0</th>\n",
       "      <td>Fuzzy Cognitive Map</td>\n",
       "      <td>0.841805</td>\n",
       "      <td>0.875567</td>\n",
       "      <td>0.684318</td>\n",
       "    </tr>\n",
       "    <tr>\n",
       "      <th>6</th>\n",
       "      <td>Support Vector Machine</td>\n",
       "      <td>0.843518</td>\n",
       "      <td>0.843182</td>\n",
       "      <td>0.686365</td>\n",
       "    </tr>\n",
       "    <tr>\n",
       "      <th>7</th>\n",
       "      <td>Stochastic Gradient Descent</td>\n",
       "      <td>0.840662</td>\n",
       "      <td>0.840135</td>\n",
       "      <td>0.680523</td>\n",
       "    </tr>\n",
       "    <tr>\n",
       "      <th>9</th>\n",
       "      <td>Logistic Regression</td>\n",
       "      <td>0.830954</td>\n",
       "      <td>0.829320</td>\n",
       "      <td>0.660319</td>\n",
       "    </tr>\n",
       "    <tr>\n",
       "      <th>8</th>\n",
       "      <td>Gaussian Naive Bayes</td>\n",
       "      <td>0.829240</td>\n",
       "      <td>0.827524</td>\n",
       "      <td>0.656822</td>\n",
       "    </tr>\n",
       "    <tr>\n",
       "      <th>2</th>\n",
       "      <td>RIPPER</td>\n",
       "      <td>0.821245</td>\n",
       "      <td>0.826977</td>\n",
       "      <td>0.646053</td>\n",
       "    </tr>\n",
       "  </tbody>\n",
       "</table>\n",
       "</div>"
      ],
      "text/plain": [
       "                          Model  Accuracy       AUC     Kappa\n",
       "10                      XGBoost  0.992576  0.992321  0.985112\n",
       "5     Artificial Neural Network  0.968589  0.991357  0.936974\n",
       "1                      LightGBM  0.989149  0.988940  0.978244\n",
       "4                 Decision Tree  0.982296  0.982178  0.964510\n",
       "3           K-Nearest Neighbour  0.966305  0.965253  0.932333\n",
       "0           Fuzzy Cognitive Map  0.841805  0.875567  0.684318\n",
       "6        Support Vector Machine  0.843518  0.843182  0.686365\n",
       "7   Stochastic Gradient Descent  0.840662  0.840135  0.680523\n",
       "9           Logistic Regression  0.830954  0.829320  0.660319\n",
       "8          Gaussian Naive Bayes  0.829240  0.827524  0.656822\n",
       "2                        RIPPER  0.821245  0.826977  0.646053"
      ]
     },
     "execution_count": 121,
     "metadata": {},
     "output_type": "execute_result"
    }
   ],
   "source": [
    "final_df = result_df.sort_values(by=['AUC'], ascending=False)\n",
    "final_df"
   ]
  },
  {
   "cell_type": "markdown",
   "metadata": {},
   "source": [
    "# Explainability"
   ]
  },
  {
   "cell_type": "markdown",
   "metadata": {},
   "source": [
    "## Global Explanations"
   ]
  },
  {
   "cell_type": "markdown",
   "metadata": {},
   "source": [
    "### Leave One Feature Out (LOFO)\n",
    "LOFO first evaluates the performance of the model with all the input features included, then iteratively removes one feature at a time, retrains the model, and evaluates its performance on a validation set. The mean and standard deviation (across the folds) of the importance of each feature is then reported.\n"
   ]
  },
  {
   "cell_type": "code",
   "execution_count": 122,
   "metadata": {
    "scrolled": true
   },
   "outputs": [
    {
     "name": "stdout",
     "output_type": "stream",
     "text": [
      "Requirement already satisfied: lofo-importance in c:\\programdata\\anaconda3\\lib\\site-packages (0.3.2)\n",
      "Requirement already satisfied: scipy in c:\\users\\marios tirovolas\\appdata\\roaming\\python\\python39\\site-packages (from lofo-importance) (1.9.3)\n",
      "Requirement already satisfied: tqdm in c:\\programdata\\anaconda3\\lib\\site-packages (from lofo-importance) (4.62.3)\n",
      "Requirement already satisfied: networkx in c:\\programdata\\anaconda3\\lib\\site-packages (from lofo-importance) (2.6.3)\n",
      "Requirement already satisfied: pandas in c:\\users\\marios tirovolas\\appdata\\roaming\\python\\python39\\site-packages (from lofo-importance) (1.3.3)\n",
      "Requirement already satisfied: numpy>=1.17.3 in c:\\users\\marios tirovolas\\appdata\\roaming\\python\\python39\\site-packages (from lofo-importance) (1.20.3)\n",
      "Requirement already satisfied: lightgbm in c:\\users\\marios tirovolas\\appdata\\roaming\\python\\python39\\site-packages (from lofo-importance) (3.3.2)\n",
      "Requirement already satisfied: scikit-learn>=0.20.3 in c:\\programdata\\anaconda3\\lib\\site-packages (from lofo-importance) (1.1.2)\n",
      "Requirement already satisfied: joblib>=1.0.0 in c:\\programdata\\anaconda3\\lib\\site-packages (from scikit-learn>=0.20.3->lofo-importance) (1.1.0)\n",
      "Requirement already satisfied: threadpoolctl>=2.0.0 in c:\\programdata\\anaconda3\\lib\\site-packages (from scikit-learn>=0.20.3->lofo-importance) (2.2.0)\n",
      "Requirement already satisfied: wheel in c:\\programdata\\anaconda3\\lib\\site-packages (from lightgbm->lofo-importance) (0.37.0)\n",
      "Requirement already satisfied: pytz>=2017.3 in c:\\programdata\\anaconda3\\lib\\site-packages (from pandas->lofo-importance) (2021.3)\n",
      "Requirement already satisfied: python-dateutil>=2.7.3 in c:\\programdata\\anaconda3\\lib\\site-packages (from pandas->lofo-importance) (2.8.2)\n",
      "Requirement already satisfied: colorama in c:\\programdata\\anaconda3\\lib\\site-packages (from tqdm->lofo-importance) (0.4.4)\n",
      "Requirement already satisfied: six>=1.5 in c:\\programdata\\anaconda3\\lib\\site-packages (from python-dateutil>=2.7.3->pandas->lofo-importance) (1.16.0)\n"
     ]
    },
    {
     "name": "stderr",
     "output_type": "stream",
     "text": [
      "\n",
      "[notice] A new release of pip available: 22.3 -> 22.3.1\n",
      "[notice] To update, run: python.exe -m pip install --upgrade pip\n"
     ]
    }
   ],
   "source": [
    "!pip install lofo-importance\n",
    "concat_df = pd.concat([X_train, y_train], axis=1)"
   ]
  },
  {
   "cell_type": "code",
   "execution_count": 123,
   "metadata": {
    "scrolled": true
   },
   "outputs": [
    {
     "data": {
      "application/vnd.jupyter.widget-view+json": {
       "model_id": "718a4d5148d645f4a259665539d56bcc",
       "version_major": 2,
       "version_minor": 0
      },
      "text/plain": [
       "  0%|          | 0/6 [00:00<?, ?it/s]"
      ]
     },
     "metadata": {},
     "output_type": "display_data"
    },
    {
     "data": {
      "image/png": "[encoded data removed]",
      "text/plain": [
       "<Figure size 864x1440 with 1 Axes>"
      ]
     },
     "metadata": {
      "needs_background": "light"
     },
     "output_type": "display_data"
    }
   ],
   "source": [
    "from sklearn.model_selection import KFold\n",
    "from lofo import LOFOImportance, Dataset, plot_importance\n",
    "\n",
    "# define the validation scheme\n",
    "cv = KFold(n_splits=5, shuffle=True, random_state=0)\n",
    "\n",
    "# set target\n",
    "target = \"Machine failure\"\n",
    "\n",
    "# define the binary target and the features\n",
    "dataset = Dataset(df=concat_df, target=target, features=[col for col in concat_df.columns if col != target])\n",
    "\n",
    "# define the validation scheme and scorer. The default model is LightGBM\n",
    "lofo_imp = LOFOImportance(dataset, cv=cv, scoring=\"roc_auc\")\n",
    "\n",
    "# get the mean and standard deviation of the importances in pandas format\n",
    "importance_df = lofo_imp.get_importance()\n",
    "\n",
    "# plot the means and standard deviations of the importances\n",
    "plot_importance(importance_df, figsize=(12, 20), kind=\"box\")"
   ]
  },
  {
   "cell_type": "markdown",
   "metadata": {},
   "source": [
    "## Local Explanations"
   ]
  },
  {
   "cell_type": "code",
   "execution_count": 124,
   "metadata": {
    "scrolled": false
   },
   "outputs": [],
   "source": [
    "#Find the observations' indexes that the model correctly predicted as faulty\n",
    "#y: Expected values of the model's output\n",
    "y=y_test;\n",
    "true_positive_indexes = []\n",
    "i=1;\n",
    "\n",
    "#According to the chosen model\n",
    "#For example, y_test_pred_lgbmc for LGBM Classifier\n",
    "\n",
    "for k in range(0,len(y)):\n",
    "    if (y.loc[k,'Machine failure']==int(y_test_pred_lgbmc[k])) and (y.loc[k,'Machine failure']==1):\n",
    "        true_positive_indexes.append(k)\n",
    "        i=i+1;\n",
    "\n",
    "        \n",
    "#Find the observations that the selected model correctly predicted as faulty based on the previous indexes\n",
    "true_positive_observations = pd.DataFrame()\n",
    "for k in range(0,len(true_positive_indexes)):\n",
    "    new_row = pd.concat([original_X_test.loc[true_positive_indexes[k],:],y.loc[true_positive_indexes[k],:]], axis=0)\n",
    "    true_positive_observations = true_positive_observations.append(new_row, ignore_index=True)\n",
    "\n",
    "    \n",
    "#Find the observations that the selected model correctly predicted correctly as faulty along with the failure modes\n",
    "\n",
    "true_positive_observations_with_failure_modes = pd.DataFrame()\n",
    "#for index1 in range(0,len(true_positive_observations)):\n",
    "    #for index2 in range (0,len(ai4i2020_encoded_balanced)):\n",
    "        #if true_positive_observations.loc[index1,:].equals(ai4i2020_encoded_balanced.loc[index2,\"Type\":\"Machine failure\"]) == True:\n",
    "            #print(index1)\n",
    "            #true_positive_observations_with_failure_modes = true_positive_observations_with_failure_modes.append(ai4i2020_encoded_balanced.loc[index2,:], ignore_index=True)\n",
    "true_positive_observations_with_failure_modes = ai4i2020_encoded_balanced.join(true_positive_observations.set_index(['Type', 'Air temperature [K]', 'Process temperature [K]', 'Rotational speed [rpm]', 'Torque [Nm]', 'Tool wear [min]','Machine failure']), ['Type', 'Air temperature [K]', 'Process temperature [K]', 'Rotational speed [rpm]', 'Torque [Nm]', 'Tool wear [min]','Machine failure'], how='right')       \n",
    "final_true_positive_observations_with_failure_modes = true_positive_observations_with_failure_modes.reset_index(drop=True)\n"
   ]
  },
  {
   "cell_type": "code",
   "execution_count": 126,
   "metadata": {
    "scrolled": true
   },
   "outputs": [
    {
     "data": {
      "application/vnd.jupyter.widget-view+json": {
       "model_id": "8477279d0c9d4e5ebebda85e32af1ca0",
       "version_major": 2,
       "version_minor": 0
      },
      "text/plain": [
       "Text(value='')"
      ]
     },
     "metadata": {},
     "output_type": "display_data"
    },
    {
     "data": {
      "application/vnd.jupyter.widget-view+json": {
       "model_id": "1d819072985f49afacfa167db255eda7",
       "version_major": 2,
       "version_minor": 0
      },
      "text/plain": [
       "Output()"
      ]
     },
     "metadata": {},
     "output_type": "display_data"
    }
   ],
   "source": [
    "#Interacitve Widget in order to see each true positive observation along with the failure modes\n",
    "\n",
    "from IPython.display import display\n",
    "from IPython.display import clear_output\n",
    "from ipywidgets import Output\n",
    "from ipywidgets import widgets\n",
    "\n",
    "\n",
    "text = widgets.Text()\n",
    "display(text)\n",
    "\n",
    "out = widgets.Output()\n",
    "display(out)\n",
    "\n",
    "def handle_submit(sender):\n",
    "    with out:\n",
    "        clear_output()\n",
    "        index = int(text.value)\n",
    "        print(final_true_positive_observations_with_failure_modes.loc[index,:])\n",
    "        print('\\n')\n",
    "        print(\"Dataset index for the above observation (starting from 0 index): \" + str(true_positive_indexes[index]))\n",
    "        \n",
    "text.on_submit(handle_submit)\n",
    "\n"
   ]
  },
  {
   "cell_type": "code",
   "execution_count": 127,
   "metadata": {},
   "outputs": [
    {
     "name": "stderr",
     "output_type": "stream",
     "text": [
      "\n",
      "[notice] A new release of pip available: 22.3 -> 22.3.1\n",
      "[notice] To update, run: python.exe -m pip install --upgrade pip\n"
     ]
    },
    {
     "name": "stdout",
     "output_type": "stream",
     "text": [
      "Requirement already satisfied: explainerdashboard in c:\\programdata\\anaconda3\\lib\\site-packages (0.4.0)\n",
      "Requirement already satisfied: oyaml in c:\\programdata\\anaconda3\\lib\\site-packages (from explainerdashboard) (1.0)\n",
      "Requirement already satisfied: jupyter-dash in c:\\programdata\\anaconda3\\lib\\site-packages (from explainerdashboard) (0.4.2)\n",
      "Requirement already satisfied: dash>=2.3.1 in c:\\users\\marios tirovolas\\appdata\\roaming\\python\\python39\\site-packages (from explainerdashboard) (2.6.2)\n",
      "Requirement already satisfied: dash-auth in c:\\programdata\\anaconda3\\lib\\site-packages (from explainerdashboard) (1.4.1)\n",
      "Requirement already satisfied: flask-simplelogin in c:\\programdata\\anaconda3\\lib\\site-packages (from explainerdashboard) (0.1.1)\n",
      "Requirement already satisfied: graphviz>=0.18.2 in c:\\programdata\\anaconda3\\lib\\site-packages (from explainerdashboard) (0.20.1)\n",
      "Requirement already satisfied: dash-bootstrap-components>=1 in c:\\programdata\\anaconda3\\lib\\site-packages (from explainerdashboard) (1.2.1)\n",
      "Requirement already satisfied: joblib in c:\\programdata\\anaconda3\\lib\\site-packages (from explainerdashboard) (1.1.0)\n",
      "Requirement already satisfied: pandas>=1.1 in c:\\users\\marios tirovolas\\appdata\\roaming\\python\\python39\\site-packages (from explainerdashboard) (1.3.3)\n",
      "Requirement already satisfied: dtreeviz>=1.3 in c:\\programdata\\anaconda3\\lib\\site-packages (from explainerdashboard) (1.4.0)\n",
      "Requirement already satisfied: click in c:\\programdata\\anaconda3\\lib\\site-packages (from explainerdashboard) (8.0.3)\n",
      "Requirement already satisfied: numpy in c:\\users\\marios tirovolas\\appdata\\roaming\\python\\python39\\site-packages (from explainerdashboard) (1.20.3)\n",
      "Requirement already satisfied: waitress in c:\\programdata\\anaconda3\\lib\\site-packages (from explainerdashboard) (2.1.2)\n",
      "Requirement already satisfied: scikit-learn>=1.1 in c:\\programdata\\anaconda3\\lib\\site-packages (from explainerdashboard) (1.1.2)\n",
      "Requirement already satisfied: shap>=0.37 in c:\\programdata\\anaconda3\\lib\\site-packages (from explainerdashboard) (0.39.0)\n",
      "Requirement already satisfied: dash-core-components==2.0.0 in c:\\users\\marios tirovolas\\appdata\\roaming\\python\\python39\\site-packages (from dash>=2.3.1->explainerdashboard) (2.0.0)\n",
      "Requirement already satisfied: dash-html-components==2.0.0 in c:\\users\\marios tirovolas\\appdata\\roaming\\python\\python39\\site-packages (from dash>=2.3.1->explainerdashboard) (2.0.0)\n",
      "Requirement already satisfied: plotly>=5.0.0 in c:\\users\\marios tirovolas\\appdata\\roaming\\python\\python39\\site-packages (from dash>=2.3.1->explainerdashboard) (5.4.0)\n",
      "Requirement already satisfied: dash-table==5.0.0 in c:\\users\\marios tirovolas\\appdata\\roaming\\python\\python39\\site-packages (from dash>=2.3.1->explainerdashboard) (5.0.0)\n",
      "Requirement already satisfied: flask-compress in c:\\users\\marios tirovolas\\appdata\\roaming\\python\\python39\\site-packages (from dash>=2.3.1->explainerdashboard) (1.13)\n",
      "Requirement already satisfied: Flask>=1.0.4 in c:\\programdata\\anaconda3\\lib\\site-packages (from dash>=2.3.1->explainerdashboard) (1.1.2)\n",
      "Requirement already satisfied: pytest in c:\\programdata\\anaconda3\\lib\\site-packages (from dtreeviz>=1.3->explainerdashboard) (6.2.4)\n",
      "Requirement already satisfied: matplotlib in c:\\programdata\\anaconda3\\lib\\site-packages (from dtreeviz>=1.3->explainerdashboard) (3.4.3)\n",
      "Requirement already satisfied: colour in c:\\programdata\\anaconda3\\lib\\site-packages (from dtreeviz>=1.3->explainerdashboard) (0.1.5)\n",
      "Requirement already satisfied: pytz>=2017.3 in c:\\programdata\\anaconda3\\lib\\site-packages (from pandas>=1.1->explainerdashboard) (2021.3)\n",
      "Requirement already satisfied: python-dateutil>=2.7.3 in c:\\programdata\\anaconda3\\lib\\site-packages (from pandas>=1.1->explainerdashboard) (2.8.2)\n",
      "Requirement already satisfied: threadpoolctl>=2.0.0 in c:\\programdata\\anaconda3\\lib\\site-packages (from scikit-learn>=1.1->explainerdashboard) (2.2.0)\n",
      "Requirement already satisfied: scipy>=1.3.2 in c:\\users\\marios tirovolas\\appdata\\roaming\\python\\python39\\site-packages (from scikit-learn>=1.1->explainerdashboard) (1.9.3)\n",
      "Requirement already satisfied: tqdm>4.25.0 in c:\\programdata\\anaconda3\\lib\\site-packages (from shap>=0.37->explainerdashboard) (4.62.3)\n",
      "Requirement already satisfied: slicer==0.0.7 in c:\\programdata\\anaconda3\\lib\\site-packages (from shap>=0.37->explainerdashboard) (0.0.7)\n",
      "Requirement already satisfied: numba in c:\\programdata\\anaconda3\\lib\\site-packages (from shap>=0.37->explainerdashboard) (0.54.1)\n",
      "Requirement already satisfied: cloudpickle in c:\\programdata\\anaconda3\\lib\\site-packages (from shap>=0.37->explainerdashboard) (2.0.0)\n",
      "Requirement already satisfied: colorama in c:\\programdata\\anaconda3\\lib\\site-packages (from click->explainerdashboard) (0.4.4)\n",
      "Requirement already satisfied: itsdangerous>=1.1.0 in c:\\programdata\\anaconda3\\lib\\site-packages (from dash-auth->explainerdashboard) (2.0.1)\n",
      "Requirement already satisfied: ua-parser in c:\\programdata\\anaconda3\\lib\\site-packages (from dash-auth->explainerdashboard) (0.16.1)\n",
      "Requirement already satisfied: flask-seasurf in c:\\programdata\\anaconda3\\lib\\site-packages (from dash-auth->explainerdashboard) (1.1.1)\n",
      "Requirement already satisfied: retrying in c:\\programdata\\anaconda3\\lib\\site-packages (from dash-auth->explainerdashboard) (1.3.3)\n",
      "Requirement already satisfied: chart-studio>=1.0.0 in c:\\programdata\\anaconda3\\lib\\site-packages (from dash-auth->explainerdashboard) (1.1.0)\n",
      "Requirement already satisfied: requests in c:\\programdata\\anaconda3\\lib\\site-packages (from dash-auth->explainerdashboard) (2.26.0)\n",
      "Requirement already satisfied: WTForms>=2.1 in c:\\programdata\\anaconda3\\lib\\site-packages (from flask-simplelogin->explainerdashboard) (3.0.1)\n",
      "Requirement already satisfied: Flask-WTF<0.16.0,>=0.15.1 in c:\\programdata\\anaconda3\\lib\\site-packages (from flask-simplelogin->explainerdashboard) (0.15.1)\n",
      "Requirement already satisfied: ipykernel in c:\\programdata\\anaconda3\\lib\\site-packages (from jupyter-dash->explainerdashboard) (6.4.1)\n",
      "Requirement already satisfied: nest-asyncio in c:\\programdata\\anaconda3\\lib\\site-packages (from jupyter-dash->explainerdashboard) (1.5.1)\n",
      "Requirement already satisfied: ansi2html in c:\\programdata\\anaconda3\\lib\\site-packages (from jupyter-dash->explainerdashboard) (1.8.0)\n",
      "Requirement already satisfied: ipython in c:\\programdata\\anaconda3\\lib\\site-packages (from jupyter-dash->explainerdashboard) (7.29.0)\n",
      "Requirement already satisfied: pyyaml in c:\\programdata\\anaconda3\\lib\\site-packages (from oyaml->explainerdashboard) (6.0)\n",
      "Requirement already satisfied: six in c:\\programdata\\anaconda3\\lib\\site-packages (from chart-studio>=1.0.0->dash-auth->explainerdashboard) (1.16.0)\n",
      "Requirement already satisfied: Jinja2>=2.10.1 in c:\\programdata\\anaconda3\\lib\\site-packages (from Flask>=1.0.4->dash>=2.3.1->explainerdashboard) (2.11.3)\n",
      "Requirement already satisfied: Werkzeug>=0.15 in c:\\programdata\\anaconda3\\lib\\site-packages (from Flask>=1.0.4->dash>=2.3.1->explainerdashboard) (2.0.2)\n",
      "Requirement already satisfied: tenacity>=6.2.0 in c:\\users\\marios tirovolas\\appdata\\roaming\\python\\python39\\site-packages (from plotly>=5.0.0->dash>=2.3.1->explainerdashboard) (8.0.1)\n",
      "Requirement already satisfied: MarkupSafe in c:\\programdata\\anaconda3\\lib\\site-packages (from WTForms>=2.1->flask-simplelogin->explainerdashboard) (1.1.1)\n",
      "Requirement already satisfied: brotli in c:\\programdata\\anaconda3\\lib\\site-packages (from flask-compress->dash>=2.3.1->explainerdashboard) (1.0.9)\n",
      "Requirement already satisfied: jupyter-client<8.0 in c:\\programdata\\anaconda3\\lib\\site-packages (from ipykernel->jupyter-dash->explainerdashboard) (6.1.12)\n",
      "Requirement already satisfied: tornado<7.0,>=4.2 in c:\\programdata\\anaconda3\\lib\\site-packages (from ipykernel->jupyter-dash->explainerdashboard) (6.1)\n",
      "Requirement already satisfied: matplotlib-inline<0.2.0,>=0.1.0 in c:\\programdata\\anaconda3\\lib\\site-packages (from ipykernel->jupyter-dash->explainerdashboard) (0.1.2)\n",
      "Requirement already satisfied: traitlets<6.0,>=4.1.0 in c:\\programdata\\anaconda3\\lib\\site-packages (from ipykernel->jupyter-dash->explainerdashboard) (5.1.0)\n",
      "Requirement already satisfied: debugpy<2.0,>=1.0.0 in c:\\programdata\\anaconda3\\lib\\site-packages (from ipykernel->jupyter-dash->explainerdashboard) (1.4.1)\n",
      "Requirement already satisfied: ipython-genutils in c:\\programdata\\anaconda3\\lib\\site-packages (from ipykernel->jupyter-dash->explainerdashboard) (0.2.0)\n",
      "Requirement already satisfied: pygments in c:\\programdata\\anaconda3\\lib\\site-packages (from ipython->jupyter-dash->explainerdashboard) (2.10.0)\n",
      "Requirement already satisfied: setuptools>=18.5 in c:\\programdata\\anaconda3\\lib\\site-packages (from ipython->jupyter-dash->explainerdashboard) (59.5.0)\n",
      "Requirement already satisfied: decorator in c:\\programdata\\anaconda3\\lib\\site-packages (from ipython->jupyter-dash->explainerdashboard) (5.1.0)\n",
      "Requirement already satisfied: pickleshare in c:\\programdata\\anaconda3\\lib\\site-packages (from ipython->jupyter-dash->explainerdashboard) (0.7.5)\n",
      "Requirement already satisfied: jedi>=0.16 in c:\\programdata\\anaconda3\\lib\\site-packages (from ipython->jupyter-dash->explainerdashboard) (0.18.0)\n",
      "Requirement already satisfied: backcall in c:\\programdata\\anaconda3\\lib\\site-packages (from ipython->jupyter-dash->explainerdashboard) (0.2.0)\n",
      "Requirement already satisfied: prompt-toolkit!=3.0.0,!=3.0.1,<3.1.0,>=2.0.0 in c:\\programdata\\anaconda3\\lib\\site-packages (from ipython->jupyter-dash->explainerdashboard) (3.0.20)\n",
      "Requirement already satisfied: pyparsing>=2.2.1 in c:\\programdata\\anaconda3\\lib\\site-packages (from matplotlib->dtreeviz>=1.3->explainerdashboard) (3.0.4)\n",
      "Requirement already satisfied: kiwisolver>=1.0.1 in c:\\users\\marios tirovolas\\appdata\\roaming\\python\\python39\\site-packages (from matplotlib->dtreeviz>=1.3->explainerdashboard) (1.3.2)\n",
      "Requirement already satisfied: cycler>=0.10 in c:\\users\\marios tirovolas\\appdata\\roaming\\python\\python39\\site-packages (from matplotlib->dtreeviz>=1.3->explainerdashboard) (0.11.0)\n",
      "Requirement already satisfied: pillow>=6.2.0 in c:\\programdata\\anaconda3\\lib\\site-packages (from matplotlib->dtreeviz>=1.3->explainerdashboard) (8.4.0)\n",
      "Requirement already satisfied: llvmlite<0.38,>=0.37.0rc1 in c:\\programdata\\anaconda3\\lib\\site-packages (from numba->shap>=0.37->explainerdashboard) (0.37.0)\n",
      "Requirement already satisfied: attrs>=19.2.0 in c:\\programdata\\anaconda3\\lib\\site-packages (from pytest->dtreeviz>=1.3->explainerdashboard) (21.2.0)\n",
      "Requirement already satisfied: iniconfig in c:\\programdata\\anaconda3\\lib\\site-packages (from pytest->dtreeviz>=1.3->explainerdashboard) (1.1.1)\n",
      "Requirement already satisfied: packaging in c:\\programdata\\anaconda3\\lib\\site-packages (from pytest->dtreeviz>=1.3->explainerdashboard) (21.0)\n",
      "Requirement already satisfied: pluggy<1.0.0a1,>=0.12 in c:\\programdata\\anaconda3\\lib\\site-packages (from pytest->dtreeviz>=1.3->explainerdashboard) (0.13.1)\n",
      "Requirement already satisfied: py>=1.8.2 in c:\\programdata\\anaconda3\\lib\\site-packages (from pytest->dtreeviz>=1.3->explainerdashboard) (1.10.0)\n",
      "Requirement already satisfied: toml in c:\\programdata\\anaconda3\\lib\\site-packages (from pytest->dtreeviz>=1.3->explainerdashboard) (0.10.2)\n",
      "Requirement already satisfied: atomicwrites>=1.0 in c:\\programdata\\anaconda3\\lib\\site-packages (from pytest->dtreeviz>=1.3->explainerdashboard) (1.4.0)\n",
      "Requirement already satisfied: certifi>=2017.4.17 in c:\\programdata\\anaconda3\\lib\\site-packages (from requests->dash-auth->explainerdashboard) (2021.10.8)\n",
      "Requirement already satisfied: charset-normalizer~=2.0.0 in c:\\programdata\\anaconda3\\lib\\site-packages (from requests->dash-auth->explainerdashboard) (2.0.4)\n",
      "Requirement already satisfied: urllib3<1.27,>=1.21.1 in c:\\programdata\\anaconda3\\lib\\site-packages (from requests->dash-auth->explainerdashboard) (1.26.7)\n",
      "Requirement already satisfied: idna<4,>=2.5 in c:\\programdata\\anaconda3\\lib\\site-packages (from requests->dash-auth->explainerdashboard) (3.2)\n",
      "Requirement already satisfied: parso<0.9.0,>=0.8.0 in c:\\programdata\\anaconda3\\lib\\site-packages (from jedi>=0.16->ipython->jupyter-dash->explainerdashboard) (0.8.2)\n",
      "Requirement already satisfied: pyzmq>=13 in c:\\programdata\\anaconda3\\lib\\site-packages (from jupyter-client<8.0->ipykernel->jupyter-dash->explainerdashboard) (22.2.1)\n",
      "Requirement already satisfied: jupyter-core>=4.6.0 in c:\\programdata\\anaconda3\\lib\\site-packages (from jupyter-client<8.0->ipykernel->jupyter-dash->explainerdashboard) (4.8.1)\n",
      "Requirement already satisfied: wcwidth in c:\\programdata\\anaconda3\\lib\\site-packages (from prompt-toolkit!=3.0.0,!=3.0.1,<3.1.0,>=2.0.0->ipython->jupyter-dash->explainerdashboard) (0.2.5)\n",
      "Requirement already satisfied: pywin32>=1.0 in c:\\programdata\\anaconda3\\lib\\site-packages (from jupyter-core>=4.6.0->jupyter-client<8.0->ipykernel->jupyter-dash->explainerdashboard) (228)\n"
     ]
    },
    {
     "name": "stdout",
     "output_type": "stream",
     "text": [
      "Note: model_output=='probability'. For LGBMClassifier shap values normally get calculated against X_background, but paramater X_background=None, so using X instead\n",
      "Generating self.shap_explainer = shap.TreeExplainer(model, X, model_output='probability', feature_perturbation='interventional')...\n",
      "Note: Shap interaction values will not be available. If shap values in probability space are not necessary you can pass model_output='logodds' to get shap values in logodds without the need for a background dataset and also working shap interaction values...\n",
      "Building ExplainerDashboard..\n",
      "Detected notebook environment, consider setting mode='external', mode='inline' or mode='jupyterlab' to keep the notebook interactive while the dashboard is running...\n",
      "For this type of model and model_output interactions don't work, so setting shap_interaction=False...\n",
      "The explainer object has no decision_trees property. so setting decision_trees=False...\n",
      "Generating layout...\n",
      "Calculating shap values...\n",
      "Calculating prediction probabilities...\n",
      "Calculating metrics...\n",
      "Calculating confusion matrices...\n",
      "Calculating classification_dfs...\n",
      "Calculating roc auc curves...\n",
      "Calculating pr auc curves...\n",
      "Calculating liftcurve_dfs...\n",
      "Calculating dependencies...\n",
      "Calculating permutation importances (if slow, try setting n_jobs parameter)...\n",
      "Calculating predictions...\n",
      "Calculating pred_percentiles...\n",
      "Reminder: you can store the explainer (including calculated dependencies) with explainer.dump('explainer.joblib') and reload with e.g. ClassifierExplainer.from_file('explainer.joblib')\n",
      "Registering callbacks...\n",
      "Starting ExplainerDashboard on http://192.168.1.6:8050\n",
      "Dash is running on http://0.0.0.0:8050/\n",
      "\n",
      " * Serving Flask app \"explainerdashboard.dashboards\" (lazy loading)\n",
      " * Environment: production\n",
      "\u001b[31m   WARNING: This is a development server. Do not use it in a production deployment.\u001b[0m\n",
      "\u001b[2m   Use a production WSGI server instead.\u001b[0m\n",
      " * Debug mode: off\n"
     ]
    },
    {
     "name": "stderr",
     "output_type": "stream",
     "text": [
      " * Running on all addresses.\n",
      "   WARNING: This is a development server. Do not use it in a production deployment.\n",
      " * Running on http://192.168.1.6:8050/ (Press CTRL+C to quit)\n",
      "192.168.1.6 - - [14/Nov/2022 14:50:00] \"GET / HTTP/1.1\" 200 -\n",
      "192.168.1.6 - - [14/Nov/2022 14:50:01] \"GET /_dash-layout HTTP/1.1\" 200 -\n",
      "192.168.1.6 - - [14/Nov/2022 14:50:01] \"GET /_dash-dependencies HTTP/1.1\" 200 -\n",
      "192.168.1.6 - - [14/Nov/2022 14:50:01] \"GET /_dash-component-suites/dash/dcc/async-dropdown.js HTTP/1.1\" 200 -\n",
      "192.168.1.6 - - [14/Nov/2022 14:50:01] \"GET /_dash-component-suites/dash/dcc/async-graph.js HTTP/1.1\" 200 -\n",
      "192.168.1.6 - - [14/Nov/2022 14:50:01] \"GET /_dash-component-suites/dash/dcc/async-plotlyjs.js HTTP/1.1\" 200 -\n",
      "192.168.1.6 - - [14/Nov/2022 14:50:01] \"POST /_dash-update-component HTTP/1.1\" 204 -\n",
      "192.168.1.6 - - [14/Nov/2022 14:50:01] \"POST /_dash-update-component HTTP/1.1\" 200 -\n",
      "192.168.1.6 - - [14/Nov/2022 14:50:01] \"POST /_dash-update-component HTTP/1.1\" 200 -\n",
      "192.168.1.6 - - [14/Nov/2022 14:50:01] \"POST /_dash-update-component HTTP/1.1\" 200 -\n",
      "192.168.1.6 - - [14/Nov/2022 14:50:01] \"POST /_dash-update-component HTTP/1.1\" 200 -\n",
      "192.168.1.6 - - [14/Nov/2022 14:50:01] \"POST /_dash-update-component HTTP/1.1\" 200 -\n",
      "192.168.1.6 - - [14/Nov/2022 14:50:01] \"POST /_dash-update-component HTTP/1.1\" 200 -\n",
      "192.168.1.6 - - [14/Nov/2022 14:50:01] \"POST /_dash-update-component HTTP/1.1\" 200 -\n",
      "192.168.1.6 - - [14/Nov/2022 14:50:01] \"POST /_dash-update-component HTTP/1.1\" 200 -\n",
      "192.168.1.6 - - [14/Nov/2022 14:50:01] \"POST /_dash-update-component HTTP/1.1\" 200 -\n",
      "192.168.1.6 - - [14/Nov/2022 14:50:01] \"POST /_dash-update-component HTTP/1.1\" 200 -\n",
      "192.168.1.6 - - [14/Nov/2022 14:50:01] \"POST /_dash-update-component HTTP/1.1\" 200 -\n",
      "192.168.1.6 - - [14/Nov/2022 14:50:01] \"POST /_dash-update-component HTTP/1.1\" 200 -\n",
      "192.168.1.6 - - [14/Nov/2022 14:50:02] \"POST /_dash-update-component HTTP/1.1\" 200 -\n",
      "192.168.1.6 - - [14/Nov/2022 14:50:02] \"POST /_dash-update-component HTTP/1.1\" 200 -\n",
      "192.168.1.6 - - [14/Nov/2022 14:50:02] \"POST /_dash-update-component HTTP/1.1\" 200 -\n",
      "192.168.1.6 - - [14/Nov/2022 14:50:02] \"POST /_dash-update-component HTTP/1.1\" 200 -\n",
      "192.168.1.6 - - [14/Nov/2022 14:50:02] \"POST /_dash-update-component HTTP/1.1\" 200 -\n",
      "192.168.1.6 - - [14/Nov/2022 14:50:02] \"POST /_dash-update-component HTTP/1.1\" 200 -\n",
      "192.168.1.6 - - [14/Nov/2022 14:50:02] \"POST /_dash-update-component HTTP/1.1\" 200 -\n",
      "192.168.1.6 - - [14/Nov/2022 14:50:02] \"POST /_dash-update-component HTTP/1.1\" 200 -\n",
      "192.168.1.6 - - [14/Nov/2022 14:50:02] \"POST /_dash-update-component HTTP/1.1\" 200 -\n",
      "192.168.1.6 - - [14/Nov/2022 14:50:02] \"POST /_dash-update-component HTTP/1.1\" 200 -\n",
      "192.168.1.6 - - [14/Nov/2022 14:50:02] \"POST /_dash-update-component HTTP/1.1\" 200 -\n",
      "192.168.1.6 - - [14/Nov/2022 14:50:02] \"POST /_dash-update-component HTTP/1.1\" 200 -\n",
      "192.168.1.6 - - [14/Nov/2022 14:50:02] \"POST /_dash-update-component HTTP/1.1\" 200 -\n",
      "192.168.1.6 - - [14/Nov/2022 14:50:02] \"POST /_dash-update-component HTTP/1.1\" 200 -\n",
      "192.168.1.6 - - [14/Nov/2022 14:50:02] \"POST /_dash-update-component HTTP/1.1\" 200 -\n",
      "192.168.1.6 - - [14/Nov/2022 14:50:02] \"POST /_dash-update-component HTTP/1.1\" 200 -\n",
      "192.168.1.6 - - [14/Nov/2022 14:50:02] \"POST /_dash-update-component HTTP/1.1\" 200 -\n",
      "192.168.1.6 - - [14/Nov/2022 14:50:02] \"POST /_dash-update-component HTTP/1.1\" 200 -\n",
      "192.168.1.6 - - [14/Nov/2022 14:50:02] \"POST /_dash-update-component HTTP/1.1\" 200 -\n",
      "192.168.1.6 - - [14/Nov/2022 14:50:02] \"POST /_dash-update-component HTTP/1.1\" 200 -\n",
      "192.168.1.6 - - [14/Nov/2022 14:50:02] \"POST /_dash-update-component HTTP/1.1\" 200 -\n",
      "192.168.1.6 - - [14/Nov/2022 14:50:02] \"POST /_dash-update-component HTTP/1.1\" 200 -\n",
      "192.168.1.6 - - [14/Nov/2022 14:50:02] \"POST /_dash-update-component HTTP/1.1\" 200 -\n",
      "192.168.1.6 - - [14/Nov/2022 14:50:02] \"POST /_dash-update-component HTTP/1.1\" 200 -\n",
      "192.168.1.6 - - [14/Nov/2022 14:50:03] \"POST /_dash-update-component HTTP/1.1\" 200 -\n",
      "192.168.1.6 - - [14/Nov/2022 14:50:03] \"POST /_dash-update-component HTTP/1.1\" 204 -\n",
      "192.168.1.6 - - [14/Nov/2022 14:50:03] \"POST /_dash-update-component HTTP/1.1\" 200 -\n",
      "192.168.1.6 - - [14/Nov/2022 14:50:03] \"POST /_dash-update-component HTTP/1.1\" 204 -\n",
      "192.168.1.6 - - [14/Nov/2022 14:50:03] \"POST /_dash-update-component HTTP/1.1\" 200 -\n",
      "192.168.1.6 - - [14/Nov/2022 14:50:03] \"POST /_dash-update-component HTTP/1.1\" 200 -\n",
      "192.168.1.6 - - [14/Nov/2022 14:50:03] \"POST /_dash-update-component HTTP/1.1\" 204 -\n",
      "192.168.1.6 - - [14/Nov/2022 14:50:03] \"POST /_dash-update-component HTTP/1.1\" 200 -\n",
      "192.168.1.6 - - [14/Nov/2022 14:50:03] \"POST /_dash-update-component HTTP/1.1\" 200 -\n",
      "192.168.1.6 - - [14/Nov/2022 14:50:03] \"POST /_dash-update-component HTTP/1.1\" 200 -\n",
      "192.168.1.6 - - [14/Nov/2022 14:50:03] \"POST /_dash-update-component HTTP/1.1\" 200 -\n",
      "192.168.1.6 - - [14/Nov/2022 14:50:03] \"POST /_dash-update-component HTTP/1.1\" 200 -\n",
      "192.168.1.6 - - [14/Nov/2022 14:50:03] \"POST /_dash-update-component HTTP/1.1\" 200 -\n",
      "192.168.1.6 - - [14/Nov/2022 14:50:03] \"POST /_dash-update-component HTTP/1.1\" 200 -\n",
      "192.168.1.6 - - [14/Nov/2022 14:50:03] \"POST /_dash-update-component HTTP/1.1\" 200 -\n",
      "192.168.1.6 - - [14/Nov/2022 14:50:03] \"POST /_dash-update-component HTTP/1.1\" 200 -\n",
      "192.168.1.6 - - [14/Nov/2022 14:50:03] \"POST /_dash-update-component HTTP/1.1\" 200 -\n",
      "192.168.1.6 - - [14/Nov/2022 14:50:03] \"POST /_dash-update-component HTTP/1.1\" 200 -\n",
      "192.168.1.6 - - [14/Nov/2022 14:50:03] \"POST /_dash-update-component HTTP/1.1\" 200 -\n",
      "192.168.1.6 - - [14/Nov/2022 14:50:03] \"POST /_dash-update-component HTTP/1.1\" 200 -\n",
      "192.168.1.6 - - [14/Nov/2022 14:50:03] \"POST /_dash-update-component HTTP/1.1\" 200 -\n",
      "192.168.1.6 - - [14/Nov/2022 14:50:03] \"POST /_dash-update-component HTTP/1.1\" 200 -\n",
      "192.168.1.6 - - [14/Nov/2022 14:50:03] \"POST /_dash-update-component HTTP/1.1\" 200 -\n",
      "192.168.1.6 - - [14/Nov/2022 14:50:03] \"POST /_dash-update-component HTTP/1.1\" 200 -\n",
      "192.168.1.6 - - [14/Nov/2022 14:50:03] \"POST /_dash-update-component HTTP/1.1\" 200 -\n",
      "192.168.1.6 - - [14/Nov/2022 14:50:03] \"POST /_dash-update-component HTTP/1.1\" 200 -\n",
      "192.168.1.6 - - [14/Nov/2022 14:50:03] \"POST /_dash-update-component HTTP/1.1\" 200 -\n",
      "192.168.1.6 - - [14/Nov/2022 14:50:03] \"POST /_dash-update-component HTTP/1.1\" 200 -\n",
      "192.168.1.6 - - [14/Nov/2022 14:50:03] \"POST /_dash-update-component HTTP/1.1\" 200 -\n",
      "192.168.1.6 - - [14/Nov/2022 14:50:03] \"POST /_dash-update-component HTTP/1.1\" 200 -\n",
      "192.168.1.6 - - [14/Nov/2022 14:50:03] \"POST /_dash-update-component HTTP/1.1\" 200 -\n",
      "192.168.1.6 - - [14/Nov/2022 14:50:03] \"POST /_dash-update-component HTTP/1.1\" 200 -\n",
      "192.168.1.6 - - [14/Nov/2022 14:50:03] \"POST /_dash-update-component HTTP/1.1\" 200 -\n",
      "192.168.1.6 - - [14/Nov/2022 14:50:03] \"POST /_dash-update-component HTTP/1.1\" 200 -\n",
      "192.168.1.6 - - [14/Nov/2022 14:50:03] \"POST /_dash-update-component HTTP/1.1\" 200 -\n",
      "192.168.1.6 - - [14/Nov/2022 14:50:03] \"POST /_dash-update-component HTTP/1.1\" 200 -\n",
      "192.168.1.6 - - [14/Nov/2022 14:50:03] \"POST /_dash-update-component HTTP/1.1\" 200 -\n",
      "192.168.1.6 - - [14/Nov/2022 14:50:03] \"POST /_dash-update-component HTTP/1.1\" 200 -\n",
      "192.168.1.6 - - [14/Nov/2022 14:50:03] \"POST /_dash-update-component HTTP/1.1\" 200 -\n",
      "192.168.1.6 - - [14/Nov/2022 14:50:04] \"POST /_dash-update-component HTTP/1.1\" 200 -\n",
      "192.168.1.6 - - [14/Nov/2022 14:50:04] \"POST /_dash-update-component HTTP/1.1\" 200 -\n",
      "192.168.1.6 - - [14/Nov/2022 14:50:09] \"GET /_dash-component-suites/dash/dcc/async-slider.js HTTP/1.1\" 200 -\n"
     ]
    }
   ],
   "source": [
    "#!pip install explainerdashboard\n",
    "#from sklearn.ensemble import RandomForestClassifier\n",
    "#from explainerdashboard import ClassifierExplainer, ExplainerDashboard\n",
    "#from explainerdashboard.datasets import titanic_survive, titanic_names\n",
    "\n",
    "#ExplainerDashboard(ClassifierExplainer(lgbmc_clf.fit(X_train, y_train.values.ravel()), X_test, y_test)).run()"
   ]
  },
  {
   "cell_type": "code",
   "execution_count": null,
   "metadata": {},
   "outputs": [],
   "source": []
  },
  {
   "cell_type": "code",
   "execution_count": null,
   "metadata": {},
   "outputs": [],
   "source": []
  },
  {
   "cell_type": "code",
   "execution_count": null,
   "metadata": {},
   "outputs": [],
   "source": []
  },
  {
   "cell_type": "code",
   "execution_count": null,
   "metadata": {},
   "outputs": [],
   "source": []
  },
  {
   "cell_type": "code",
   "execution_count": null,
   "metadata": {},
   "outputs": [],
   "source": []
  },
  {
   "cell_type": "code",
   "execution_count": null,
   "metadata": {},
   "outputs": [],
   "source": []
  },
  {
   "cell_type": "code",
   "execution_count": null,
   "metadata": {},
   "outputs": [],
   "source": []
  },
  {
   "cell_type": "code",
   "execution_count": null,
   "metadata": {},
   "outputs": [],
   "source": []
  }
 ],
 "metadata": {
  "kernelspec": {
   "display_name": "Python 3 (ipykernel)",
   "language": "python",
   "name": "python3"
  },
  "language_info": {
   "codemirror_mode": {
    "name": "ipython",
    "version": 3
   },
   "file_extension": ".py",
   "mimetype": "text/x-python",
   "name": "python",
   "nbconvert_exporter": "python",
   "pygments_lexer": "ipython3",
   "version": "3.9.7"
  }
 },
 "nbformat": 4,
 "nbformat_minor": 4
}

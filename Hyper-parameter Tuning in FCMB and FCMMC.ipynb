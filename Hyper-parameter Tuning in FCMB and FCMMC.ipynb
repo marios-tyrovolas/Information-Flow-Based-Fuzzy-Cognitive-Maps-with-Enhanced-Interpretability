{
 "cells": [
  {
   "cell_type": "code",
   "execution_count": 1,
   "id": "df48a571",
   "metadata": {
    "scrolled": true
   },
   "outputs": [],
   "source": [
    "#!pip install scikit-learn scipy matplotlib numpy\n",
    "import sys\n",
    "sys.path.insert(0, \"..\")\n",
    "\n",
    "from base import *\n",
    "from util import *\n",
    "\n",
    "import warnings\n",
    "warnings.simplefilter(action='ignore', category=FutureWarning)\n",
    "\n",
    "import pandas as pd\n",
    "pd.options.mode.chained_assignment = None  # default='warn'\n",
    "import re\n",
    "import numpy as np\n",
    "\n",
    "from tensorflow.keras.utils import to_categorical\n",
    "\n",
    "from fitter import Fitter, get_common_distributions, get_distributions\n",
    "from sklearn import preprocessing\n",
    "from sklearn import metrics\n",
    "from sklearn.preprocessing import scale\n",
    "from sklearn.preprocessing import MinMaxScaler\n",
    "from sklearn.preprocessing import StandardScaler\n",
    "from sklearn.preprocessing import Normalizer\n",
    "from sklearn.decomposition import PCA\n",
    "from sklearn.datasets import make_friedman3, make_s_curve\n",
    "from sklearn.linear_model import BayesianRidge, ElasticNet\n",
    "from sklearn.model_selection import KFold, train_test_split\n",
    "from sklearn.model_selection import RepeatedKFold\n",
    "from sklearn.model_selection import StratifiedKFold\n",
    "from sklearn.naive_bayes import GaussianNB\n",
    "from sklearn.tree import DecisionTreeRegressor\n",
    "from sklearn.tree import DecisionTreeClassifier # Import Decision Tree Classifier\n",
    "from sklearn.neural_network import MLPClassifier\n",
    "\n",
    "#!pip install imbalanced-learn\n",
    "#!pip install lightgbm\n",
    "#!pip install wittgenstein --user\n",
    "#!pip install explainerdashboard --user\n",
    "\n",
    "from imblearn.over_sampling import ADASYN\n",
    "from imblearn.combine import SMOTEENN\n",
    "from imblearn.combine import SMOTETomek\n",
    "from sklearn.model_selection import cross_val_predict\n",
    "from sklearn.model_selection import cross_val_score\n",
    "from sklearn.model_selection import GridSearchCV\n",
    "from sklearn.model_selection import ParameterGrid\n",
    "from sklearn.metrics import cohen_kappa_score\n",
    "from sklearn.metrics import accuracy_score\n",
    "#from sklearn.metrics import confusion_matrix, ConfusionMatrixDisplay\n",
    "from sklearn.metrics import plot_confusion_matrix\n",
    "from sklearn.metrics import classification_report\n",
    "from sklearn.metrics import precision_score\n",
    "from sklearn.metrics import recall_score\n",
    "from sklearn.metrics import f1_score\n",
    "\n",
    "\n",
    "# for Box-Cox Transformation\n",
    "from scipy import stats\n",
    "\n",
    "# plotting modules\n",
    "import seaborn as sns\n",
    "import matplotlib.pyplot as plt\n",
    "from matplotlib.pyplot import figure\n",
    "from plotly.subplots import make_subplots\n",
    "import plotly.graph_objs as go\n",
    "import plotly.express as px\n",
    "\n",
    "from tqdm import tqdm\n",
    "import math\n",
    "\n",
    "from sklearn.datasets import make_blobs\n",
    "from matplotlib import pyplot\n",
    "from pandas import DataFrame\n"
   ]
  },
  {
   "cell_type": "code",
   "execution_count": 2,
   "id": "99aa6b96",
   "metadata": {},
   "outputs": [
    {
     "data": {
      "text/html": [
       "<div>\n",
       "<style scoped>\n",
       "    .dataframe tbody tr th:only-of-type {\n",
       "        vertical-align: middle;\n",
       "    }\n",
       "\n",
       "    .dataframe tbody tr th {\n",
       "        vertical-align: top;\n",
       "    }\n",
       "\n",
       "    .dataframe thead th {\n",
       "        text-align: right;\n",
       "    }\n",
       "</style>\n",
       "<table border=\"1\" class=\"dataframe\">\n",
       "  <thead>\n",
       "    <tr style=\"text-align: right;\">\n",
       "      <th></th>\n",
       "      <th>Type</th>\n",
       "      <th>Air temperature [K]</th>\n",
       "      <th>Process temperature [K]</th>\n",
       "      <th>Rotational speed [rpm]</th>\n",
       "      <th>Torque [Nm]</th>\n",
       "      <th>Tool wear [min]</th>\n",
       "      <th>Machine failure</th>\n",
       "      <th>TWF</th>\n",
       "      <th>HDF</th>\n",
       "      <th>PWF</th>\n",
       "      <th>OSF</th>\n",
       "      <th>RNF</th>\n",
       "    </tr>\n",
       "  </thead>\n",
       "  <tbody>\n",
       "    <tr>\n",
       "      <th>0</th>\n",
       "      <td>1</td>\n",
       "      <td>298.1</td>\n",
       "      <td>308.6</td>\n",
       "      <td>1551</td>\n",
       "      <td>42.8</td>\n",
       "      <td>0</td>\n",
       "      <td>0</td>\n",
       "      <td>0</td>\n",
       "      <td>0</td>\n",
       "      <td>0</td>\n",
       "      <td>0</td>\n",
       "      <td>0</td>\n",
       "    </tr>\n",
       "    <tr>\n",
       "      <th>1</th>\n",
       "      <td>0</td>\n",
       "      <td>298.2</td>\n",
       "      <td>308.7</td>\n",
       "      <td>1408</td>\n",
       "      <td>46.3</td>\n",
       "      <td>3</td>\n",
       "      <td>0</td>\n",
       "      <td>0</td>\n",
       "      <td>0</td>\n",
       "      <td>0</td>\n",
       "      <td>0</td>\n",
       "      <td>0</td>\n",
       "    </tr>\n",
       "    <tr>\n",
       "      <th>2</th>\n",
       "      <td>0</td>\n",
       "      <td>298.1</td>\n",
       "      <td>308.5</td>\n",
       "      <td>1498</td>\n",
       "      <td>49.4</td>\n",
       "      <td>5</td>\n",
       "      <td>0</td>\n",
       "      <td>0</td>\n",
       "      <td>0</td>\n",
       "      <td>0</td>\n",
       "      <td>0</td>\n",
       "      <td>0</td>\n",
       "    </tr>\n",
       "    <tr>\n",
       "      <th>3</th>\n",
       "      <td>0</td>\n",
       "      <td>298.2</td>\n",
       "      <td>308.6</td>\n",
       "      <td>1433</td>\n",
       "      <td>39.5</td>\n",
       "      <td>7</td>\n",
       "      <td>0</td>\n",
       "      <td>0</td>\n",
       "      <td>0</td>\n",
       "      <td>0</td>\n",
       "      <td>0</td>\n",
       "      <td>0</td>\n",
       "    </tr>\n",
       "    <tr>\n",
       "      <th>4</th>\n",
       "      <td>0</td>\n",
       "      <td>298.2</td>\n",
       "      <td>308.7</td>\n",
       "      <td>1408</td>\n",
       "      <td>40.0</td>\n",
       "      <td>9</td>\n",
       "      <td>0</td>\n",
       "      <td>0</td>\n",
       "      <td>0</td>\n",
       "      <td>0</td>\n",
       "      <td>0</td>\n",
       "      <td>0</td>\n",
       "    </tr>\n",
       "  </tbody>\n",
       "</table>\n",
       "</div>"
      ],
      "text/plain": [
       "   Type  Air temperature [K]  Process temperature [K]  Rotational speed [rpm]  \\\n",
       "0     1                298.1                    308.6                    1551   \n",
       "1     0                298.2                    308.7                    1408   \n",
       "2     0                298.1                    308.5                    1498   \n",
       "3     0                298.2                    308.6                    1433   \n",
       "4     0                298.2                    308.7                    1408   \n",
       "\n",
       "   Torque [Nm]  Tool wear [min]  Machine failure  TWF  HDF  PWF  OSF  RNF  \n",
       "0         42.8                0                0    0    0    0    0    0  \n",
       "1         46.3                3                0    0    0    0    0    0  \n",
       "2         49.4                5                0    0    0    0    0    0  \n",
       "3         39.5                7                0    0    0    0    0    0  \n",
       "4         40.0                9                0    0    0    0    0    0  "
      ]
     },
     "execution_count": 2,
     "metadata": {},
     "output_type": "execute_result"
    }
   ],
   "source": [
    "#Collect data from sensors (i.e., time-series data) installed in the manufacturing system \n",
    "ai4i2020_encoded_balanced=pd.read_csv(r'G:\\\\.shortcut-targets-by-id\\\\1-wapAl6N5YrCs68c4NiFKyvybXTXmdgZ\\\\Ph_D_Tyrovolas\\\\Our Papers\\\\3rd_Paper-Proposal\\\\Testbed Codes\\\\AI4I_Case_Study\\\\raw_data\\\\ai4i2020_encoded_balanced.csv')\n",
    "ai4i2020_encoded_balanced.head()"
   ]
  },
  {
   "cell_type": "code",
   "execution_count": 3,
   "id": "945883a3",
   "metadata": {},
   "outputs": [],
   "source": [
    "# Run in local\n",
    "# Fold index\n",
    "fold = 1\n",
    "\n",
    "original_X_train = pd.read_csv('G:\\\\.shortcut-targets-by-id\\\\1-wapAl6N5YrCs68c4NiFKyvybXTXmdgZ\\\\Ph_D_Tyrovolas\\\\Our Papers\\\\3rd_Paper-Proposal\\\\Testbed Codes\\\\AI4I_Case_Study\\\\k-fold cross validation datasets\\\\' + str(fold) + \"\\\\Training Dataset\" + \"\\\\X_train_iter_\" + str(fold) + \".csv\")\n",
    "original_X_test = pd.read_csv('G:\\\\.shortcut-targets-by-id\\\\1-wapAl6N5YrCs68c4NiFKyvybXTXmdgZ\\\\Ph_D_Tyrovolas\\\\Our Papers\\\\3rd_Paper-Proposal\\\\Testbed Codes\\\\AI4I_Case_Study\\\\k-fold cross validation datasets\\\\' + str(fold) + \"\\\\Test Dataset\" + \"\\\\X_test_iter_\" + str(fold) + \".csv\")\n",
    "\n",
    "X_train = pd.read_csv('G:\\\\.shortcut-targets-by-id\\\\1-wapAl6N5YrCs68c4NiFKyvybXTXmdgZ\\\\Ph_D_Tyrovolas\\\\Our Papers\\\\3rd_Paper-Proposal\\\\Testbed Codes\\\\AI4I_Case_Study\\\\k-fold cross validation datasets\\\\' + str(fold) + \"\\\\Training Dataset\" + \"\\\\Scaled_X_train_iter_\" + str(fold) + \".csv\", names=['Type', 'Air temperature [K]', 'Process temperature [K]', 'Rotational speed [rpm]', 'Torque [Nm]', 'Tool wear [min]'])\n",
    "y_train = pd.read_csv('G:\\\\.shortcut-targets-by-id\\\\1-wapAl6N5YrCs68c4NiFKyvybXTXmdgZ\\\\Ph_D_Tyrovolas\\\\Our Papers\\\\3rd_Paper-Proposal\\\\Testbed Codes\\\\AI4I_Case_Study\\\\k-fold cross validation datasets\\\\' + str(fold) + \"\\\\Training Dataset\" + \"\\\\y_train_iter_\" + str(fold) + \".csv\")\n",
    "X_test = pd.read_csv('G:\\\\.shortcut-targets-by-id\\\\1-wapAl6N5YrCs68c4NiFKyvybXTXmdgZ\\\\Ph_D_Tyrovolas\\\\Our Papers\\\\3rd_Paper-Proposal\\\\Testbed Codes\\\\AI4I_Case_Study\\\\k-fold cross validation datasets\\\\' + str(fold) + \"\\\\Test Dataset\" + \"\\\\Scaled_X_test_iter_\" + str(fold) + \".csv\", names=['Type', 'Air temperature [K]', 'Process temperature [K]', 'Rotational speed [rpm]', 'Torque [Nm]', 'Tool wear [min]'])\n",
    "y_test = pd.read_csv('G:\\\\.shortcut-targets-by-id\\\\1-wapAl6N5YrCs68c4NiFKyvybXTXmdgZ\\\\Ph_D_Tyrovolas\\\\Our Papers\\\\3rd_Paper-Proposal\\\\Testbed Codes\\\\AI4I_Case_Study\\\\k-fold cross validation datasets\\\\' + str(fold) + \"\\\\Test Dataset\" + \"\\\\y_test_iter_\" + str(fold) + \".csv\")"
   ]
  },
  {
   "cell_type": "code",
   "execution_count": 4,
   "id": "f93c240a",
   "metadata": {},
   "outputs": [],
   "source": [
    "ai4i2020_encoded_balanced = ai4i2020_encoded_balanced.rename(columns = lambda x:re.sub('[^A-Za-z0-9_]+', '', x))\n",
    "original_X_train = original_X_train.rename(columns = lambda x:re.sub('[^A-Za-z0-9_]+', '', x))\n",
    "original_X_test = original_X_test.rename(columns = lambda x:re.sub('[^A-Za-z0-9_]+', '', x))\n",
    "X_train = X_train.rename(columns = lambda x:re.sub('[^A-Za-z0-9_]+', '', x))\n",
    "X_test = X_test.rename(columns = lambda x:re.sub('[^A-Za-z0-9_]+', '', x))\n",
    "y_train = y_train.rename(columns = lambda x:re.sub('[^A-Za-z0-9_]+', '', x))\n",
    "y_test = y_test.rename(columns = lambda x:re.sub('[^A-Za-z0-9_]+', '', x))"
   ]
  },
  {
   "cell_type": "markdown",
   "id": "10c1f8c1",
   "metadata": {},
   "source": [
    "## Hyper-parameter Tuning in FCMB Classifier"
   ]
  },
  {
   "cell_type": "code",
   "execution_count": 5,
   "id": "7a624cee",
   "metadata": {
    "scrolled": true
   },
   "outputs": [
    {
     "data": {
      "text/plain": [
       "'120 Combinations'"
      ]
     },
     "metadata": {},
     "output_type": "display_data"
    },
    {
     "data": {
      "text/plain": [
       "'Combination 0'"
      ]
     },
     "metadata": {},
     "output_type": "display_data"
    },
    {
     "name": "stdout",
     "output_type": "stream",
     "text": [
      "-----------------------------------------\n",
      "-----------------------------------------\n",
      "-----------------------------------------\n",
      "-----------------------------------------\n",
      "-----------------------------------------\n",
      "{'act': None, 'activation': 'sigmoid', 'activation_m': 1, 'batch_size': 16, 'buffer_size': 1000, 'depth': 2, 'dropout_p': 0.0, 'epochs': 50, 'init_method': None, 'init_y_method': 'uniform', 'learning_rate': 0.001, 'model_type': 'basic', 'optimizer': 'rmsprop', 'random_state': None, 'training_hook': [], 'training_loss': 'logloss'}\n",
      "-----------------------------------------\n"
     ]
    },
    {
     "name": "stderr",
     "output_type": "stream",
     "text": [
      "C:\\Users\\Marios\\Jupyter_Notebooks_my_papers\\Data-driven-Causal-Discovery-for-Constructing-Fuzzy-Cognitive-Maps-An-Industrial-Case-Study\\base\\classifier.py:143: UserWarning: 2018.12.16 The instruction  'loss = loss/self.batch_size' was commented out. Due to increased gradient values check the optimizer learning rate \n",
      "  warnings.warn('2018.12.16 The instruction  \\'loss = loss/self.batch_size\\' was commented out. Due to increased gradient values check the optimizer learning rate ')\n"
     ]
    },
    {
     "name": "stdout",
     "output_type": "stream",
     "text": [
      "Learning time 570.4167244434357 sec\n",
      "\n"
     ]
    },
    {
     "data": {
      "text/plain": [
       "'Combination 1'"
      ]
     },
     "metadata": {},
     "output_type": "display_data"
    },
    {
     "name": "stdout",
     "output_type": "stream",
     "text": [
      "-----------------------------------------\n",
      "-----------------------------------------\n",
      "-----------------------------------------\n",
      "-----------------------------------------\n",
      "-----------------------------------------\n",
      "{'act': None, 'activation': 'sigmoid', 'activation_m': 1, 'batch_size': 16, 'buffer_size': 1000, 'depth': 2, 'dropout_p': 0.0, 'epochs': 50, 'init_method': None, 'init_y_method': 'uniform', 'learning_rate': 0.01, 'model_type': 'basic', 'optimizer': 'rmsprop', 'random_state': None, 'training_hook': [], 'training_loss': 'logloss'}\n",
      "-----------------------------------------\n"
     ]
    },
    {
     "name": "stderr",
     "output_type": "stream",
     "text": [
      "C:\\Users\\Marios\\Jupyter_Notebooks_my_papers\\Data-driven-Causal-Discovery-for-Constructing-Fuzzy-Cognitive-Maps-An-Industrial-Case-Study\\base\\classifier.py:143: UserWarning: 2018.12.16 The instruction  'loss = loss/self.batch_size' was commented out. Due to increased gradient values check the optimizer learning rate \n",
      "  warnings.warn('2018.12.16 The instruction  \\'loss = loss/self.batch_size\\' was commented out. Due to increased gradient values check the optimizer learning rate ')\n"
     ]
    },
    {
     "name": "stdout",
     "output_type": "stream",
     "text": [
      "Learning time 593.3677229881287 sec\n",
      "\n"
     ]
    },
    {
     "data": {
      "text/plain": [
       "'Combination 2'"
      ]
     },
     "metadata": {},
     "output_type": "display_data"
    },
    {
     "name": "stdout",
     "output_type": "stream",
     "text": [
      "-----------------------------------------\n",
      "-----------------------------------------\n",
      "-----------------------------------------\n",
      "-----------------------------------------\n",
      "-----------------------------------------\n",
      "{'act': None, 'activation': 'sigmoid', 'activation_m': 1, 'batch_size': 16, 'buffer_size': 1000, 'depth': 2, 'dropout_p': 0.0, 'epochs': 50, 'init_method': None, 'init_y_method': 'uniform', 'learning_rate': 0.05, 'model_type': 'basic', 'optimizer': 'rmsprop', 'random_state': None, 'training_hook': [], 'training_loss': 'logloss'}\n",
      "-----------------------------------------\n"
     ]
    },
    {
     "name": "stderr",
     "output_type": "stream",
     "text": [
      "C:\\Users\\Marios\\Jupyter_Notebooks_my_papers\\Data-driven-Causal-Discovery-for-Constructing-Fuzzy-Cognitive-Maps-An-Industrial-Case-Study\\base\\classifier.py:143: UserWarning: 2018.12.16 The instruction  'loss = loss/self.batch_size' was commented out. Due to increased gradient values check the optimizer learning rate \n",
      "  warnings.warn('2018.12.16 The instruction  \\'loss = loss/self.batch_size\\' was commented out. Due to increased gradient values check the optimizer learning rate ')\n"
     ]
    },
    {
     "name": "stdout",
     "output_type": "stream",
     "text": [
      "Learning time 713.1970002651215 sec\n",
      "\n"
     ]
    },
    {
     "data": {
      "text/plain": [
       "'Combination 3'"
      ]
     },
     "metadata": {},
     "output_type": "display_data"
    },
    {
     "name": "stdout",
     "output_type": "stream",
     "text": [
      "-----------------------------------------\n",
      "-----------------------------------------\n",
      "-----------------------------------------\n",
      "-----------------------------------------\n",
      "-----------------------------------------\n",
      "{'act': None, 'activation': 'sigmoid', 'activation_m': 1, 'batch_size': 16, 'buffer_size': 1000, 'depth': 2, 'dropout_p': 0.0, 'epochs': 50, 'init_method': None, 'init_y_method': 'uniform', 'learning_rate': 0.1, 'model_type': 'basic', 'optimizer': 'rmsprop', 'random_state': None, 'training_hook': [], 'training_loss': 'logloss'}\n",
      "-----------------------------------------\n"
     ]
    },
    {
     "name": "stderr",
     "output_type": "stream",
     "text": [
      "C:\\Users\\Marios\\Jupyter_Notebooks_my_papers\\Data-driven-Causal-Discovery-for-Constructing-Fuzzy-Cognitive-Maps-An-Industrial-Case-Study\\base\\classifier.py:143: UserWarning: 2018.12.16 The instruction  'loss = loss/self.batch_size' was commented out. Due to increased gradient values check the optimizer learning rate \n",
      "  warnings.warn('2018.12.16 The instruction  \\'loss = loss/self.batch_size\\' was commented out. Due to increased gradient values check the optimizer learning rate ')\n"
     ]
    },
    {
     "name": "stdout",
     "output_type": "stream",
     "text": [
      "Learning time 796.7710812091827 sec\n",
      "\n"
     ]
    },
    {
     "data": {
      "text/plain": [
       "'Combination 4'"
      ]
     },
     "metadata": {},
     "output_type": "display_data"
    },
    {
     "name": "stdout",
     "output_type": "stream",
     "text": [
      "-----------------------------------------\n",
      "-----------------------------------------\n",
      "-----------------------------------------\n",
      "-----------------------------------------\n",
      "-----------------------------------------\n",
      "{'act': None, 'activation': 'sigmoid', 'activation_m': 1, 'batch_size': 16, 'buffer_size': 1000, 'depth': 2, 'dropout_p': 0.0, 'epochs': 50, 'init_method': None, 'init_y_method': 'uniform', 'learning_rate': 0.5, 'model_type': 'basic', 'optimizer': 'rmsprop', 'random_state': None, 'training_hook': [], 'training_loss': 'logloss'}\n",
      "-----------------------------------------\n"
     ]
    },
    {
     "name": "stderr",
     "output_type": "stream",
     "text": [
      "C:\\Users\\Marios\\Jupyter_Notebooks_my_papers\\Data-driven-Causal-Discovery-for-Constructing-Fuzzy-Cognitive-Maps-An-Industrial-Case-Study\\base\\classifier.py:143: UserWarning: 2018.12.16 The instruction  'loss = loss/self.batch_size' was commented out. Due to increased gradient values check the optimizer learning rate \n",
      "  warnings.warn('2018.12.16 The instruction  \\'loss = loss/self.batch_size\\' was commented out. Due to increased gradient values check the optimizer learning rate ')\n"
     ]
    },
    {
     "name": "stdout",
     "output_type": "stream",
     "text": [
      "Learning time 737.1960413455963 sec\n",
      "\n"
     ]
    },
    {
     "data": {
      "text/plain": [
       "'Combination 5'"
      ]
     },
     "metadata": {},
     "output_type": "display_data"
    },
    {
     "name": "stdout",
     "output_type": "stream",
     "text": [
      "-----------------------------------------\n",
      "-----------------------------------------\n",
      "-----------------------------------------\n",
      "-----------------------------------------\n",
      "-----------------------------------------\n",
      "{'act': None, 'activation': 'sigmoid', 'activation_m': 1, 'batch_size': 16, 'buffer_size': 1000, 'depth': 2, 'dropout_p': 0.0, 'epochs': 100, 'init_method': None, 'init_y_method': 'uniform', 'learning_rate': 0.001, 'model_type': 'basic', 'optimizer': 'rmsprop', 'random_state': None, 'training_hook': [], 'training_loss': 'logloss'}\n",
      "-----------------------------------------\n"
     ]
    },
    {
     "name": "stderr",
     "output_type": "stream",
     "text": [
      "C:\\Users\\Marios\\Jupyter_Notebooks_my_papers\\Data-driven-Causal-Discovery-for-Constructing-Fuzzy-Cognitive-Maps-An-Industrial-Case-Study\\base\\classifier.py:143: UserWarning: 2018.12.16 The instruction  'loss = loss/self.batch_size' was commented out. Due to increased gradient values check the optimizer learning rate \n",
      "  warnings.warn('2018.12.16 The instruction  \\'loss = loss/self.batch_size\\' was commented out. Due to increased gradient values check the optimizer learning rate ')\n"
     ]
    },
    {
     "name": "stdout",
     "output_type": "stream",
     "text": [
      "Learning time 1649.17733502388 sec\n",
      "\n"
     ]
    },
    {
     "data": {
      "text/plain": [
       "'Combination 6'"
      ]
     },
     "metadata": {},
     "output_type": "display_data"
    },
    {
     "name": "stdout",
     "output_type": "stream",
     "text": [
      "-----------------------------------------\n",
      "-----------------------------------------\n",
      "-----------------------------------------\n",
      "-----------------------------------------\n",
      "-----------------------------------------\n",
      "{'act': None, 'activation': 'sigmoid', 'activation_m': 1, 'batch_size': 16, 'buffer_size': 1000, 'depth': 2, 'dropout_p': 0.0, 'epochs': 100, 'init_method': None, 'init_y_method': 'uniform', 'learning_rate': 0.01, 'model_type': 'basic', 'optimizer': 'rmsprop', 'random_state': None, 'training_hook': [], 'training_loss': 'logloss'}\n",
      "-----------------------------------------\n"
     ]
    },
    {
     "name": "stderr",
     "output_type": "stream",
     "text": [
      "C:\\Users\\Marios\\Jupyter_Notebooks_my_papers\\Data-driven-Causal-Discovery-for-Constructing-Fuzzy-Cognitive-Maps-An-Industrial-Case-Study\\base\\classifier.py:143: UserWarning: 2018.12.16 The instruction  'loss = loss/self.batch_size' was commented out. Due to increased gradient values check the optimizer learning rate \n",
      "  warnings.warn('2018.12.16 The instruction  \\'loss = loss/self.batch_size\\' was commented out. Due to increased gradient values check the optimizer learning rate ')\n"
     ]
    },
    {
     "name": "stdout",
     "output_type": "stream",
     "text": [
      "Learning time 1504.6298439502716 sec\n",
      "\n"
     ]
    },
    {
     "data": {
      "text/plain": [
       "'Combination 7'"
      ]
     },
     "metadata": {},
     "output_type": "display_data"
    },
    {
     "name": "stdout",
     "output_type": "stream",
     "text": [
      "-----------------------------------------\n",
      "-----------------------------------------\n",
      "-----------------------------------------\n",
      "-----------------------------------------\n",
      "-----------------------------------------\n",
      "{'act': None, 'activation': 'sigmoid', 'activation_m': 1, 'batch_size': 16, 'buffer_size': 1000, 'depth': 2, 'dropout_p': 0.0, 'epochs': 100, 'init_method': None, 'init_y_method': 'uniform', 'learning_rate': 0.05, 'model_type': 'basic', 'optimizer': 'rmsprop', 'random_state': None, 'training_hook': [], 'training_loss': 'logloss'}\n",
      "-----------------------------------------\n"
     ]
    },
    {
     "name": "stderr",
     "output_type": "stream",
     "text": [
      "C:\\Users\\Marios\\Jupyter_Notebooks_my_papers\\Data-driven-Causal-Discovery-for-Constructing-Fuzzy-Cognitive-Maps-An-Industrial-Case-Study\\base\\classifier.py:143: UserWarning: 2018.12.16 The instruction  'loss = loss/self.batch_size' was commented out. Due to increased gradient values check the optimizer learning rate \n",
      "  warnings.warn('2018.12.16 The instruction  \\'loss = loss/self.batch_size\\' was commented out. Due to increased gradient values check the optimizer learning rate ')\n"
     ]
    },
    {
     "name": "stdout",
     "output_type": "stream",
     "text": [
      "Learning time 1252.246425151825 sec\n",
      "\n"
     ]
    },
    {
     "data": {
      "text/plain": [
       "'Combination 8'"
      ]
     },
     "metadata": {},
     "output_type": "display_data"
    },
    {
     "name": "stdout",
     "output_type": "stream",
     "text": [
      "-----------------------------------------\n",
      "-----------------------------------------\n",
      "-----------------------------------------\n",
      "-----------------------------------------\n",
      "-----------------------------------------\n",
      "{'act': None, 'activation': 'sigmoid', 'activation_m': 1, 'batch_size': 16, 'buffer_size': 1000, 'depth': 2, 'dropout_p': 0.0, 'epochs': 100, 'init_method': None, 'init_y_method': 'uniform', 'learning_rate': 0.1, 'model_type': 'basic', 'optimizer': 'rmsprop', 'random_state': None, 'training_hook': [], 'training_loss': 'logloss'}\n",
      "-----------------------------------------\n"
     ]
    },
    {
     "name": "stderr",
     "output_type": "stream",
     "text": [
      "C:\\Users\\Marios\\Jupyter_Notebooks_my_papers\\Data-driven-Causal-Discovery-for-Constructing-Fuzzy-Cognitive-Maps-An-Industrial-Case-Study\\base\\classifier.py:143: UserWarning: 2018.12.16 The instruction  'loss = loss/self.batch_size' was commented out. Due to increased gradient values check the optimizer learning rate \n",
      "  warnings.warn('2018.12.16 The instruction  \\'loss = loss/self.batch_size\\' was commented out. Due to increased gradient values check the optimizer learning rate ')\n"
     ]
    },
    {
     "name": "stdout",
     "output_type": "stream",
     "text": [
      "Learning time 1116.1257121562958 sec\n",
      "\n"
     ]
    },
    {
     "data": {
      "text/plain": [
       "'Combination 9'"
      ]
     },
     "metadata": {},
     "output_type": "display_data"
    },
    {
     "name": "stdout",
     "output_type": "stream",
     "text": [
      "-----------------------------------------\n",
      "-----------------------------------------\n",
      "-----------------------------------------\n",
      "-----------------------------------------\n",
      "-----------------------------------------\n",
      "{'act': None, 'activation': 'sigmoid', 'activation_m': 1, 'batch_size': 16, 'buffer_size': 1000, 'depth': 2, 'dropout_p': 0.0, 'epochs': 100, 'init_method': None, 'init_y_method': 'uniform', 'learning_rate': 0.5, 'model_type': 'basic', 'optimizer': 'rmsprop', 'random_state': None, 'training_hook': [], 'training_loss': 'logloss'}\n",
      "-----------------------------------------\n"
     ]
    },
    {
     "name": "stderr",
     "output_type": "stream",
     "text": [
      "C:\\Users\\Marios\\Jupyter_Notebooks_my_papers\\Data-driven-Causal-Discovery-for-Constructing-Fuzzy-Cognitive-Maps-An-Industrial-Case-Study\\base\\classifier.py:143: UserWarning: 2018.12.16 The instruction  'loss = loss/self.batch_size' was commented out. Due to increased gradient values check the optimizer learning rate \n",
      "  warnings.warn('2018.12.16 The instruction  \\'loss = loss/self.batch_size\\' was commented out. Due to increased gradient values check the optimizer learning rate ')\n"
     ]
    },
    {
     "name": "stdout",
     "output_type": "stream",
     "text": [
      "Learning time 1077.5126044750214 sec\n",
      "\n"
     ]
    },
    {
     "data": {
      "text/plain": [
       "'Combination 10'"
      ]
     },
     "metadata": {},
     "output_type": "display_data"
    },
    {
     "name": "stdout",
     "output_type": "stream",
     "text": [
      "-----------------------------------------\n",
      "-----------------------------------------\n",
      "-----------------------------------------\n",
      "-----------------------------------------\n",
      "-----------------------------------------\n",
      "{'act': None, 'activation': 'sigmoid', 'activation_m': 1, 'batch_size': 16, 'buffer_size': 1000, 'depth': 3, 'dropout_p': 0.0, 'epochs': 50, 'init_method': None, 'init_y_method': 'uniform', 'learning_rate': 0.001, 'model_type': 'basic', 'optimizer': 'rmsprop', 'random_state': None, 'training_hook': [], 'training_loss': 'logloss'}\n",
      "-----------------------------------------\n"
     ]
    },
    {
     "name": "stderr",
     "output_type": "stream",
     "text": [
      "C:\\Users\\Marios\\Jupyter_Notebooks_my_papers\\Data-driven-Causal-Discovery-for-Constructing-Fuzzy-Cognitive-Maps-An-Industrial-Case-Study\\base\\classifier.py:143: UserWarning: 2018.12.16 The instruction  'loss = loss/self.batch_size' was commented out. Due to increased gradient values check the optimizer learning rate \n",
      "  warnings.warn('2018.12.16 The instruction  \\'loss = loss/self.batch_size\\' was commented out. Due to increased gradient values check the optimizer learning rate ')\n"
     ]
    },
    {
     "name": "stdout",
     "output_type": "stream",
     "text": [
      "Learning time 655.10142993927 sec\n",
      "\n"
     ]
    },
    {
     "data": {
      "text/plain": [
       "'Combination 11'"
      ]
     },
     "metadata": {},
     "output_type": "display_data"
    },
    {
     "name": "stdout",
     "output_type": "stream",
     "text": [
      "-----------------------------------------\n",
      "-----------------------------------------\n",
      "-----------------------------------------\n",
      "-----------------------------------------\n",
      "-----------------------------------------\n",
      "{'act': None, 'activation': 'sigmoid', 'activation_m': 1, 'batch_size': 16, 'buffer_size': 1000, 'depth': 3, 'dropout_p': 0.0, 'epochs': 50, 'init_method': None, 'init_y_method': 'uniform', 'learning_rate': 0.01, 'model_type': 'basic', 'optimizer': 'rmsprop', 'random_state': None, 'training_hook': [], 'training_loss': 'logloss'}\n",
      "-----------------------------------------\n"
     ]
    },
    {
     "name": "stderr",
     "output_type": "stream",
     "text": [
      "C:\\Users\\Marios\\Jupyter_Notebooks_my_papers\\Data-driven-Causal-Discovery-for-Constructing-Fuzzy-Cognitive-Maps-An-Industrial-Case-Study\\base\\classifier.py:143: UserWarning: 2018.12.16 The instruction  'loss = loss/self.batch_size' was commented out. Due to increased gradient values check the optimizer learning rate \n",
      "  warnings.warn('2018.12.16 The instruction  \\'loss = loss/self.batch_size\\' was commented out. Due to increased gradient values check the optimizer learning rate ')\n"
     ]
    },
    {
     "name": "stdout",
     "output_type": "stream",
     "text": [
      "Learning time 656.8980140686035 sec\n",
      "\n"
     ]
    },
    {
     "data": {
      "text/plain": [
       "'Combination 12'"
      ]
     },
     "metadata": {},
     "output_type": "display_data"
    },
    {
     "name": "stdout",
     "output_type": "stream",
     "text": [
      "-----------------------------------------\n",
      "-----------------------------------------\n",
      "-----------------------------------------\n",
      "-----------------------------------------\n",
      "-----------------------------------------\n",
      "{'act': None, 'activation': 'sigmoid', 'activation_m': 1, 'batch_size': 16, 'buffer_size': 1000, 'depth': 3, 'dropout_p': 0.0, 'epochs': 50, 'init_method': None, 'init_y_method': 'uniform', 'learning_rate': 0.05, 'model_type': 'basic', 'optimizer': 'rmsprop', 'random_state': None, 'training_hook': [], 'training_loss': 'logloss'}\n",
      "-----------------------------------------\n"
     ]
    },
    {
     "name": "stderr",
     "output_type": "stream",
     "text": [
      "C:\\Users\\Marios\\Jupyter_Notebooks_my_papers\\Data-driven-Causal-Discovery-for-Constructing-Fuzzy-Cognitive-Maps-An-Industrial-Case-Study\\base\\classifier.py:143: UserWarning: 2018.12.16 The instruction  'loss = loss/self.batch_size' was commented out. Due to increased gradient values check the optimizer learning rate \n",
      "  warnings.warn('2018.12.16 The instruction  \\'loss = loss/self.batch_size\\' was commented out. Due to increased gradient values check the optimizer learning rate ')\n"
     ]
    },
    {
     "name": "stdout",
     "output_type": "stream",
     "text": [
      "Learning time 663.6653084754944 sec\n",
      "\n"
     ]
    },
    {
     "data": {
      "text/plain": [
       "'Combination 13'"
      ]
     },
     "metadata": {},
     "output_type": "display_data"
    },
    {
     "name": "stdout",
     "output_type": "stream",
     "text": [
      "-----------------------------------------\n",
      "-----------------------------------------\n",
      "-----------------------------------------\n",
      "-----------------------------------------\n",
      "-----------------------------------------\n",
      "{'act': None, 'activation': 'sigmoid', 'activation_m': 1, 'batch_size': 16, 'buffer_size': 1000, 'depth': 3, 'dropout_p': 0.0, 'epochs': 50, 'init_method': None, 'init_y_method': 'uniform', 'learning_rate': 0.1, 'model_type': 'basic', 'optimizer': 'rmsprop', 'random_state': None, 'training_hook': [], 'training_loss': 'logloss'}\n",
      "-----------------------------------------\n"
     ]
    },
    {
     "name": "stderr",
     "output_type": "stream",
     "text": [
      "C:\\Users\\Marios\\Jupyter_Notebooks_my_papers\\Data-driven-Causal-Discovery-for-Constructing-Fuzzy-Cognitive-Maps-An-Industrial-Case-Study\\base\\classifier.py:143: UserWarning: 2018.12.16 The instruction  'loss = loss/self.batch_size' was commented out. Due to increased gradient values check the optimizer learning rate \n",
      "  warnings.warn('2018.12.16 The instruction  \\'loss = loss/self.batch_size\\' was commented out. Due to increased gradient values check the optimizer learning rate ')\n"
     ]
    },
    {
     "name": "stdout",
     "output_type": "stream",
     "text": [
      "Learning time 663.119303226471 sec\n",
      "\n"
     ]
    },
    {
     "data": {
      "text/plain": [
       "'Combination 14'"
      ]
     },
     "metadata": {},
     "output_type": "display_data"
    },
    {
     "name": "stdout",
     "output_type": "stream",
     "text": [
      "-----------------------------------------\n",
      "-----------------------------------------\n",
      "-----------------------------------------\n",
      "-----------------------------------------\n",
      "-----------------------------------------\n",
      "{'act': None, 'activation': 'sigmoid', 'activation_m': 1, 'batch_size': 16, 'buffer_size': 1000, 'depth': 3, 'dropout_p': 0.0, 'epochs': 50, 'init_method': None, 'init_y_method': 'uniform', 'learning_rate': 0.5, 'model_type': 'basic', 'optimizer': 'rmsprop', 'random_state': None, 'training_hook': [], 'training_loss': 'logloss'}\n",
      "-----------------------------------------\n"
     ]
    },
    {
     "name": "stderr",
     "output_type": "stream",
     "text": [
      "C:\\Users\\Marios\\Jupyter_Notebooks_my_papers\\Data-driven-Causal-Discovery-for-Constructing-Fuzzy-Cognitive-Maps-An-Industrial-Case-Study\\base\\classifier.py:143: UserWarning: 2018.12.16 The instruction  'loss = loss/self.batch_size' was commented out. Due to increased gradient values check the optimizer learning rate \n",
      "  warnings.warn('2018.12.16 The instruction  \\'loss = loss/self.batch_size\\' was commented out. Due to increased gradient values check the optimizer learning rate ')\n"
     ]
    },
    {
     "name": "stdout",
     "output_type": "stream",
     "text": [
      "Learning time 662.313072681427 sec\n",
      "\n"
     ]
    },
    {
     "data": {
      "text/plain": [
       "'Combination 15'"
      ]
     },
     "metadata": {},
     "output_type": "display_data"
    },
    {
     "name": "stdout",
     "output_type": "stream",
     "text": [
      "-----------------------------------------\n",
      "-----------------------------------------\n",
      "-----------------------------------------\n",
      "-----------------------------------------\n",
      "-----------------------------------------\n",
      "{'act': None, 'activation': 'sigmoid', 'activation_m': 1, 'batch_size': 16, 'buffer_size': 1000, 'depth': 3, 'dropout_p': 0.0, 'epochs': 100, 'init_method': None, 'init_y_method': 'uniform', 'learning_rate': 0.001, 'model_type': 'basic', 'optimizer': 'rmsprop', 'random_state': None, 'training_hook': [], 'training_loss': 'logloss'}\n",
      "-----------------------------------------\n"
     ]
    },
    {
     "name": "stderr",
     "output_type": "stream",
     "text": [
      "C:\\Users\\Marios\\Jupyter_Notebooks_my_papers\\Data-driven-Causal-Discovery-for-Constructing-Fuzzy-Cognitive-Maps-An-Industrial-Case-Study\\base\\classifier.py:143: UserWarning: 2018.12.16 The instruction  'loss = loss/self.batch_size' was commented out. Due to increased gradient values check the optimizer learning rate \n",
      "  warnings.warn('2018.12.16 The instruction  \\'loss = loss/self.batch_size\\' was commented out. Due to increased gradient values check the optimizer learning rate ')\n"
     ]
    },
    {
     "name": "stdout",
     "output_type": "stream",
     "text": [
      "Learning time 1324.9611160755157 sec\n",
      "\n"
     ]
    },
    {
     "data": {
      "text/plain": [
       "'Combination 16'"
      ]
     },
     "metadata": {},
     "output_type": "display_data"
    },
    {
     "name": "stdout",
     "output_type": "stream",
     "text": [
      "-----------------------------------------\n",
      "-----------------------------------------\n",
      "-----------------------------------------\n",
      "-----------------------------------------\n",
      "-----------------------------------------\n",
      "{'act': None, 'activation': 'sigmoid', 'activation_m': 1, 'batch_size': 16, 'buffer_size': 1000, 'depth': 3, 'dropout_p': 0.0, 'epochs': 100, 'init_method': None, 'init_y_method': 'uniform', 'learning_rate': 0.01, 'model_type': 'basic', 'optimizer': 'rmsprop', 'random_state': None, 'training_hook': [], 'training_loss': 'logloss'}\n",
      "-----------------------------------------\n"
     ]
    },
    {
     "name": "stderr",
     "output_type": "stream",
     "text": [
      "C:\\Users\\Marios\\Jupyter_Notebooks_my_papers\\Data-driven-Causal-Discovery-for-Constructing-Fuzzy-Cognitive-Maps-An-Industrial-Case-Study\\base\\classifier.py:143: UserWarning: 2018.12.16 The instruction  'loss = loss/self.batch_size' was commented out. Due to increased gradient values check the optimizer learning rate \n",
      "  warnings.warn('2018.12.16 The instruction  \\'loss = loss/self.batch_size\\' was commented out. Due to increased gradient values check the optimizer learning rate ')\n"
     ]
    },
    {
     "name": "stdout",
     "output_type": "stream",
     "text": [
      "Learning time 1318.2416124343872 sec\n",
      "\n"
     ]
    },
    {
     "data": {
      "text/plain": [
       "'Combination 17'"
      ]
     },
     "metadata": {},
     "output_type": "display_data"
    },
    {
     "name": "stdout",
     "output_type": "stream",
     "text": [
      "-----------------------------------------\n",
      "-----------------------------------------\n",
      "-----------------------------------------\n",
      "-----------------------------------------\n",
      "-----------------------------------------\n",
      "{'act': None, 'activation': 'sigmoid', 'activation_m': 1, 'batch_size': 16, 'buffer_size': 1000, 'depth': 3, 'dropout_p': 0.0, 'epochs': 100, 'init_method': None, 'init_y_method': 'uniform', 'learning_rate': 0.05, 'model_type': 'basic', 'optimizer': 'rmsprop', 'random_state': None, 'training_hook': [], 'training_loss': 'logloss'}\n",
      "-----------------------------------------\n"
     ]
    },
    {
     "name": "stderr",
     "output_type": "stream",
     "text": [
      "C:\\Users\\Marios\\Jupyter_Notebooks_my_papers\\Data-driven-Causal-Discovery-for-Constructing-Fuzzy-Cognitive-Maps-An-Industrial-Case-Study\\base\\classifier.py:143: UserWarning: 2018.12.16 The instruction  'loss = loss/self.batch_size' was commented out. Due to increased gradient values check the optimizer learning rate \n",
      "  warnings.warn('2018.12.16 The instruction  \\'loss = loss/self.batch_size\\' was commented out. Due to increased gradient values check the optimizer learning rate ')\n"
     ]
    },
    {
     "name": "stdout",
     "output_type": "stream",
     "text": [
      "Learning time 1386.8633139133453 sec\n",
      "\n"
     ]
    },
    {
     "data": {
      "text/plain": [
       "'Combination 18'"
      ]
     },
     "metadata": {},
     "output_type": "display_data"
    },
    {
     "name": "stdout",
     "output_type": "stream",
     "text": [
      "-----------------------------------------\n",
      "-----------------------------------------\n",
      "-----------------------------------------\n",
      "-----------------------------------------\n",
      "-----------------------------------------\n",
      "{'act': None, 'activation': 'sigmoid', 'activation_m': 1, 'batch_size': 16, 'buffer_size': 1000, 'depth': 3, 'dropout_p': 0.0, 'epochs': 100, 'init_method': None, 'init_y_method': 'uniform', 'learning_rate': 0.1, 'model_type': 'basic', 'optimizer': 'rmsprop', 'random_state': None, 'training_hook': [], 'training_loss': 'logloss'}\n",
      "-----------------------------------------\n"
     ]
    },
    {
     "name": "stderr",
     "output_type": "stream",
     "text": [
      "C:\\Users\\Marios\\Jupyter_Notebooks_my_papers\\Data-driven-Causal-Discovery-for-Constructing-Fuzzy-Cognitive-Maps-An-Industrial-Case-Study\\base\\classifier.py:143: UserWarning: 2018.12.16 The instruction  'loss = loss/self.batch_size' was commented out. Due to increased gradient values check the optimizer learning rate \n",
      "  warnings.warn('2018.12.16 The instruction  \\'loss = loss/self.batch_size\\' was commented out. Due to increased gradient values check the optimizer learning rate ')\n"
     ]
    },
    {
     "name": "stdout",
     "output_type": "stream",
     "text": [
      "Learning time 1329.319953918457 sec\n",
      "\n"
     ]
    },
    {
     "data": {
      "text/plain": [
       "'Combination 19'"
      ]
     },
     "metadata": {},
     "output_type": "display_data"
    },
    {
     "name": "stdout",
     "output_type": "stream",
     "text": [
      "-----------------------------------------\n",
      "-----------------------------------------\n",
      "-----------------------------------------\n",
      "-----------------------------------------\n",
      "-----------------------------------------\n",
      "{'act': None, 'activation': 'sigmoid', 'activation_m': 1, 'batch_size': 16, 'buffer_size': 1000, 'depth': 3, 'dropout_p': 0.0, 'epochs': 100, 'init_method': None, 'init_y_method': 'uniform', 'learning_rate': 0.5, 'model_type': 'basic', 'optimizer': 'rmsprop', 'random_state': None, 'training_hook': [], 'training_loss': 'logloss'}\n",
      "-----------------------------------------\n"
     ]
    },
    {
     "name": "stderr",
     "output_type": "stream",
     "text": [
      "C:\\Users\\Marios\\Jupyter_Notebooks_my_papers\\Data-driven-Causal-Discovery-for-Constructing-Fuzzy-Cognitive-Maps-An-Industrial-Case-Study\\base\\classifier.py:143: UserWarning: 2018.12.16 The instruction  'loss = loss/self.batch_size' was commented out. Due to increased gradient values check the optimizer learning rate \n",
      "  warnings.warn('2018.12.16 The instruction  \\'loss = loss/self.batch_size\\' was commented out. Due to increased gradient values check the optimizer learning rate ')\n"
     ]
    },
    {
     "name": "stdout",
     "output_type": "stream",
     "text": [
      "Learning time 1352.7771022319794 sec\n",
      "\n"
     ]
    },
    {
     "data": {
      "text/plain": [
       "'Combination 20'"
      ]
     },
     "metadata": {},
     "output_type": "display_data"
    },
    {
     "name": "stdout",
     "output_type": "stream",
     "text": [
      "-----------------------------------------\n",
      "-----------------------------------------\n",
      "-----------------------------------------\n",
      "-----------------------------------------\n",
      "-----------------------------------------\n",
      "{'act': None, 'activation': 'sigmoid', 'activation_m': 1, 'batch_size': 16, 'buffer_size': 1000, 'depth': 5, 'dropout_p': 0.0, 'epochs': 50, 'init_method': None, 'init_y_method': 'uniform', 'learning_rate': 0.001, 'model_type': 'basic', 'optimizer': 'rmsprop', 'random_state': None, 'training_hook': [], 'training_loss': 'logloss'}\n",
      "-----------------------------------------\n"
     ]
    },
    {
     "name": "stderr",
     "output_type": "stream",
     "text": [
      "C:\\Users\\Marios\\Jupyter_Notebooks_my_papers\\Data-driven-Causal-Discovery-for-Constructing-Fuzzy-Cognitive-Maps-An-Industrial-Case-Study\\base\\classifier.py:143: UserWarning: 2018.12.16 The instruction  'loss = loss/self.batch_size' was commented out. Due to increased gradient values check the optimizer learning rate \n",
      "  warnings.warn('2018.12.16 The instruction  \\'loss = loss/self.batch_size\\' was commented out. Due to increased gradient values check the optimizer learning rate ')\n"
     ]
    },
    {
     "name": "stdout",
     "output_type": "stream",
     "text": [
      "Learning time 916.2963359355927 sec\n",
      "\n"
     ]
    },
    {
     "data": {
      "text/plain": [
       "'Combination 21'"
      ]
     },
     "metadata": {},
     "output_type": "display_data"
    },
    {
     "name": "stdout",
     "output_type": "stream",
     "text": [
      "-----------------------------------------\n",
      "-----------------------------------------\n",
      "-----------------------------------------\n",
      "-----------------------------------------\n",
      "-----------------------------------------\n",
      "{'act': None, 'activation': 'sigmoid', 'activation_m': 1, 'batch_size': 16, 'buffer_size': 1000, 'depth': 5, 'dropout_p': 0.0, 'epochs': 50, 'init_method': None, 'init_y_method': 'uniform', 'learning_rate': 0.01, 'model_type': 'basic', 'optimizer': 'rmsprop', 'random_state': None, 'training_hook': [], 'training_loss': 'logloss'}\n",
      "-----------------------------------------\n"
     ]
    },
    {
     "name": "stderr",
     "output_type": "stream",
     "text": [
      "C:\\Users\\Marios\\Jupyter_Notebooks_my_papers\\Data-driven-Causal-Discovery-for-Constructing-Fuzzy-Cognitive-Maps-An-Industrial-Case-Study\\base\\classifier.py:143: UserWarning: 2018.12.16 The instruction  'loss = loss/self.batch_size' was commented out. Due to increased gradient values check the optimizer learning rate \n",
      "  warnings.warn('2018.12.16 The instruction  \\'loss = loss/self.batch_size\\' was commented out. Due to increased gradient values check the optimizer learning rate ')\n"
     ]
    },
    {
     "name": "stdout",
     "output_type": "stream",
     "text": [
      "Learning time 898.9917211532593 sec\n",
      "\n"
     ]
    },
    {
     "data": {
      "text/plain": [
       "'Combination 22'"
      ]
     },
     "metadata": {},
     "output_type": "display_data"
    },
    {
     "name": "stdout",
     "output_type": "stream",
     "text": [
      "-----------------------------------------\n",
      "-----------------------------------------\n",
      "-----------------------------------------\n",
      "-----------------------------------------\n",
      "-----------------------------------------\n",
      "{'act': None, 'activation': 'sigmoid', 'activation_m': 1, 'batch_size': 16, 'buffer_size': 1000, 'depth': 5, 'dropout_p': 0.0, 'epochs': 50, 'init_method': None, 'init_y_method': 'uniform', 'learning_rate': 0.05, 'model_type': 'basic', 'optimizer': 'rmsprop', 'random_state': None, 'training_hook': [], 'training_loss': 'logloss'}\n",
      "-----------------------------------------\n"
     ]
    },
    {
     "name": "stderr",
     "output_type": "stream",
     "text": [
      "C:\\Users\\Marios\\Jupyter_Notebooks_my_papers\\Data-driven-Causal-Discovery-for-Constructing-Fuzzy-Cognitive-Maps-An-Industrial-Case-Study\\base\\classifier.py:143: UserWarning: 2018.12.16 The instruction  'loss = loss/self.batch_size' was commented out. Due to increased gradient values check the optimizer learning rate \n",
      "  warnings.warn('2018.12.16 The instruction  \\'loss = loss/self.batch_size\\' was commented out. Due to increased gradient values check the optimizer learning rate ')\n"
     ]
    },
    {
     "name": "stdout",
     "output_type": "stream",
     "text": [
      "Learning time 894.7255477905273 sec\n",
      "\n"
     ]
    },
    {
     "data": {
      "text/plain": [
       "'Combination 23'"
      ]
     },
     "metadata": {},
     "output_type": "display_data"
    },
    {
     "name": "stdout",
     "output_type": "stream",
     "text": [
      "-----------------------------------------\n",
      "-----------------------------------------\n",
      "-----------------------------------------\n",
      "-----------------------------------------\n",
      "-----------------------------------------\n",
      "{'act': None, 'activation': 'sigmoid', 'activation_m': 1, 'batch_size': 16, 'buffer_size': 1000, 'depth': 5, 'dropout_p': 0.0, 'epochs': 50, 'init_method': None, 'init_y_method': 'uniform', 'learning_rate': 0.1, 'model_type': 'basic', 'optimizer': 'rmsprop', 'random_state': None, 'training_hook': [], 'training_loss': 'logloss'}\n",
      "-----------------------------------------\n"
     ]
    },
    {
     "name": "stderr",
     "output_type": "stream",
     "text": [
      "C:\\Users\\Marios\\Jupyter_Notebooks_my_papers\\Data-driven-Causal-Discovery-for-Constructing-Fuzzy-Cognitive-Maps-An-Industrial-Case-Study\\base\\classifier.py:143: UserWarning: 2018.12.16 The instruction  'loss = loss/self.batch_size' was commented out. Due to increased gradient values check the optimizer learning rate \n",
      "  warnings.warn('2018.12.16 The instruction  \\'loss = loss/self.batch_size\\' was commented out. Due to increased gradient values check the optimizer learning rate ')\n"
     ]
    },
    {
     "name": "stdout",
     "output_type": "stream",
     "text": [
      "Learning time 898.4000205993652 sec\n",
      "\n"
     ]
    },
    {
     "data": {
      "text/plain": [
       "'Combination 24'"
      ]
     },
     "metadata": {},
     "output_type": "display_data"
    },
    {
     "name": "stdout",
     "output_type": "stream",
     "text": [
      "-----------------------------------------\n",
      "-----------------------------------------\n",
      "-----------------------------------------\n",
      "-----------------------------------------\n",
      "-----------------------------------------\n",
      "{'act': None, 'activation': 'sigmoid', 'activation_m': 1, 'batch_size': 16, 'buffer_size': 1000, 'depth': 5, 'dropout_p': 0.0, 'epochs': 50, 'init_method': None, 'init_y_method': 'uniform', 'learning_rate': 0.5, 'model_type': 'basic', 'optimizer': 'rmsprop', 'random_state': None, 'training_hook': [], 'training_loss': 'logloss'}\n",
      "-----------------------------------------\n"
     ]
    },
    {
     "name": "stderr",
     "output_type": "stream",
     "text": [
      "C:\\Users\\Marios\\Jupyter_Notebooks_my_papers\\Data-driven-Causal-Discovery-for-Constructing-Fuzzy-Cognitive-Maps-An-Industrial-Case-Study\\base\\classifier.py:143: UserWarning: 2018.12.16 The instruction  'loss = loss/self.batch_size' was commented out. Due to increased gradient values check the optimizer learning rate \n",
      "  warnings.warn('2018.12.16 The instruction  \\'loss = loss/self.batch_size\\' was commented out. Due to increased gradient values check the optimizer learning rate ')\n"
     ]
    },
    {
     "name": "stdout",
     "output_type": "stream",
     "text": [
      "Learning time 893.324610710144 sec\n",
      "\n"
     ]
    },
    {
     "data": {
      "text/plain": [
       "'Combination 25'"
      ]
     },
     "metadata": {},
     "output_type": "display_data"
    },
    {
     "name": "stdout",
     "output_type": "stream",
     "text": [
      "-----------------------------------------\n",
      "-----------------------------------------\n",
      "-----------------------------------------\n",
      "-----------------------------------------\n",
      "-----------------------------------------\n",
      "{'act': None, 'activation': 'sigmoid', 'activation_m': 1, 'batch_size': 16, 'buffer_size': 1000, 'depth': 5, 'dropout_p': 0.0, 'epochs': 100, 'init_method': None, 'init_y_method': 'uniform', 'learning_rate': 0.001, 'model_type': 'basic', 'optimizer': 'rmsprop', 'random_state': None, 'training_hook': [], 'training_loss': 'logloss'}\n",
      "-----------------------------------------\n"
     ]
    },
    {
     "name": "stderr",
     "output_type": "stream",
     "text": [
      "C:\\Users\\Marios\\Jupyter_Notebooks_my_papers\\Data-driven-Causal-Discovery-for-Constructing-Fuzzy-Cognitive-Maps-An-Industrial-Case-Study\\base\\classifier.py:143: UserWarning: 2018.12.16 The instruction  'loss = loss/self.batch_size' was commented out. Due to increased gradient values check the optimizer learning rate \n",
      "  warnings.warn('2018.12.16 The instruction  \\'loss = loss/self.batch_size\\' was commented out. Due to increased gradient values check the optimizer learning rate ')\n"
     ]
    },
    {
     "name": "stdout",
     "output_type": "stream",
     "text": [
      "Learning time 1793.9993369579315 sec\n",
      "\n"
     ]
    },
    {
     "data": {
      "text/plain": [
       "'Combination 26'"
      ]
     },
     "metadata": {},
     "output_type": "display_data"
    },
    {
     "name": "stdout",
     "output_type": "stream",
     "text": [
      "-----------------------------------------\n",
      "-----------------------------------------\n",
      "-----------------------------------------\n",
      "-----------------------------------------\n",
      "-----------------------------------------\n",
      "{'act': None, 'activation': 'sigmoid', 'activation_m': 1, 'batch_size': 16, 'buffer_size': 1000, 'depth': 5, 'dropout_p': 0.0, 'epochs': 100, 'init_method': None, 'init_y_method': 'uniform', 'learning_rate': 0.01, 'model_type': 'basic', 'optimizer': 'rmsprop', 'random_state': None, 'training_hook': [], 'training_loss': 'logloss'}\n",
      "-----------------------------------------\n"
     ]
    },
    {
     "name": "stderr",
     "output_type": "stream",
     "text": [
      "C:\\Users\\Marios\\Jupyter_Notebooks_my_papers\\Data-driven-Causal-Discovery-for-Constructing-Fuzzy-Cognitive-Maps-An-Industrial-Case-Study\\base\\classifier.py:143: UserWarning: 2018.12.16 The instruction  'loss = loss/self.batch_size' was commented out. Due to increased gradient values check the optimizer learning rate \n",
      "  warnings.warn('2018.12.16 The instruction  \\'loss = loss/self.batch_size\\' was commented out. Due to increased gradient values check the optimizer learning rate ')\n"
     ]
    },
    {
     "name": "stdout",
     "output_type": "stream",
     "text": [
      "Learning time 1817.9156610965729 sec\n",
      "\n"
     ]
    },
    {
     "data": {
      "text/plain": [
       "'Combination 27'"
      ]
     },
     "metadata": {},
     "output_type": "display_data"
    },
    {
     "name": "stdout",
     "output_type": "stream",
     "text": [
      "-----------------------------------------\n",
      "-----------------------------------------\n",
      "-----------------------------------------\n",
      "-----------------------------------------\n",
      "-----------------------------------------\n",
      "{'act': None, 'activation': 'sigmoid', 'activation_m': 1, 'batch_size': 16, 'buffer_size': 1000, 'depth': 5, 'dropout_p': 0.0, 'epochs': 100, 'init_method': None, 'init_y_method': 'uniform', 'learning_rate': 0.05, 'model_type': 'basic', 'optimizer': 'rmsprop', 'random_state': None, 'training_hook': [], 'training_loss': 'logloss'}\n",
      "-----------------------------------------\n"
     ]
    },
    {
     "name": "stderr",
     "output_type": "stream",
     "text": [
      "C:\\Users\\Marios\\Jupyter_Notebooks_my_papers\\Data-driven-Causal-Discovery-for-Constructing-Fuzzy-Cognitive-Maps-An-Industrial-Case-Study\\base\\classifier.py:143: UserWarning: 2018.12.16 The instruction  'loss = loss/self.batch_size' was commented out. Due to increased gradient values check the optimizer learning rate \n",
      "  warnings.warn('2018.12.16 The instruction  \\'loss = loss/self.batch_size\\' was commented out. Due to increased gradient values check the optimizer learning rate ')\n"
     ]
    },
    {
     "name": "stdout",
     "output_type": "stream",
     "text": [
      "Learning time 1786.3624880313873 sec\n",
      "\n"
     ]
    },
    {
     "data": {
      "text/plain": [
       "'Combination 28'"
      ]
     },
     "metadata": {},
     "output_type": "display_data"
    },
    {
     "name": "stdout",
     "output_type": "stream",
     "text": [
      "-----------------------------------------\n",
      "-----------------------------------------\n",
      "-----------------------------------------\n",
      "-----------------------------------------\n",
      "-----------------------------------------\n",
      "{'act': None, 'activation': 'sigmoid', 'activation_m': 1, 'batch_size': 16, 'buffer_size': 1000, 'depth': 5, 'dropout_p': 0.0, 'epochs': 100, 'init_method': None, 'init_y_method': 'uniform', 'learning_rate': 0.1, 'model_type': 'basic', 'optimizer': 'rmsprop', 'random_state': None, 'training_hook': [], 'training_loss': 'logloss'}\n",
      "-----------------------------------------\n"
     ]
    },
    {
     "name": "stderr",
     "output_type": "stream",
     "text": [
      "C:\\Users\\Marios\\Jupyter_Notebooks_my_papers\\Data-driven-Causal-Discovery-for-Constructing-Fuzzy-Cognitive-Maps-An-Industrial-Case-Study\\base\\classifier.py:143: UserWarning: 2018.12.16 The instruction  'loss = loss/self.batch_size' was commented out. Due to increased gradient values check the optimizer learning rate \n",
      "  warnings.warn('2018.12.16 The instruction  \\'loss = loss/self.batch_size\\' was commented out. Due to increased gradient values check the optimizer learning rate ')\n"
     ]
    },
    {
     "name": "stdout",
     "output_type": "stream",
     "text": [
      "Learning time 1781.2173011302948 sec\n",
      "\n"
     ]
    },
    {
     "data": {
      "text/plain": [
       "'Combination 29'"
      ]
     },
     "metadata": {},
     "output_type": "display_data"
    },
    {
     "name": "stdout",
     "output_type": "stream",
     "text": [
      "-----------------------------------------\n",
      "-----------------------------------------\n",
      "-----------------------------------------\n",
      "-----------------------------------------\n",
      "-----------------------------------------\n",
      "{'act': None, 'activation': 'sigmoid', 'activation_m': 1, 'batch_size': 16, 'buffer_size': 1000, 'depth': 5, 'dropout_p': 0.0, 'epochs': 100, 'init_method': None, 'init_y_method': 'uniform', 'learning_rate': 0.5, 'model_type': 'basic', 'optimizer': 'rmsprop', 'random_state': None, 'training_hook': [], 'training_loss': 'logloss'}\n",
      "-----------------------------------------\n"
     ]
    },
    {
     "name": "stderr",
     "output_type": "stream",
     "text": [
      "C:\\Users\\Marios\\Jupyter_Notebooks_my_papers\\Data-driven-Causal-Discovery-for-Constructing-Fuzzy-Cognitive-Maps-An-Industrial-Case-Study\\base\\classifier.py:143: UserWarning: 2018.12.16 The instruction  'loss = loss/self.batch_size' was commented out. Due to increased gradient values check the optimizer learning rate \n",
      "  warnings.warn('2018.12.16 The instruction  \\'loss = loss/self.batch_size\\' was commented out. Due to increased gradient values check the optimizer learning rate ')\n"
     ]
    },
    {
     "name": "stdout",
     "output_type": "stream",
     "text": [
      "Learning time 1789.7034163475037 sec\n",
      "\n"
     ]
    },
    {
     "data": {
      "text/plain": [
       "'Combination 30'"
      ]
     },
     "metadata": {},
     "output_type": "display_data"
    },
    {
     "name": "stdout",
     "output_type": "stream",
     "text": [
      "-----------------------------------------\n",
      "-----------------------------------------\n",
      "-----------------------------------------\n",
      "-----------------------------------------\n",
      "-----------------------------------------\n",
      "{'act': None, 'activation': 'sigmoid', 'activation_m': 1, 'batch_size': 256, 'buffer_size': 1000, 'depth': 2, 'dropout_p': 0.0, 'epochs': 50, 'init_method': None, 'init_y_method': 'uniform', 'learning_rate': 0.001, 'model_type': 'basic', 'optimizer': 'rmsprop', 'random_state': None, 'training_hook': [], 'training_loss': 'logloss'}\n",
      "-----------------------------------------\n"
     ]
    },
    {
     "name": "stderr",
     "output_type": "stream",
     "text": [
      "C:\\Users\\Marios\\Jupyter_Notebooks_my_papers\\Data-driven-Causal-Discovery-for-Constructing-Fuzzy-Cognitive-Maps-An-Industrial-Case-Study\\base\\classifier.py:143: UserWarning: 2018.12.16 The instruction  'loss = loss/self.batch_size' was commented out. Due to increased gradient values check the optimizer learning rate \n",
      "  warnings.warn('2018.12.16 The instruction  \\'loss = loss/self.batch_size\\' was commented out. Due to increased gradient values check the optimizer learning rate ')\n"
     ]
    },
    {
     "name": "stdout",
     "output_type": "stream",
     "text": [
      "Learning time 37.67955040931702 sec\n",
      "\n"
     ]
    },
    {
     "data": {
      "text/plain": [
       "'Combination 31'"
      ]
     },
     "metadata": {},
     "output_type": "display_data"
    },
    {
     "name": "stdout",
     "output_type": "stream",
     "text": [
      "-----------------------------------------\n",
      "-----------------------------------------\n",
      "-----------------------------------------\n",
      "-----------------------------------------\n",
      "-----------------------------------------\n",
      "{'act': None, 'activation': 'sigmoid', 'activation_m': 1, 'batch_size': 256, 'buffer_size': 1000, 'depth': 2, 'dropout_p': 0.0, 'epochs': 50, 'init_method': None, 'init_y_method': 'uniform', 'learning_rate': 0.01, 'model_type': 'basic', 'optimizer': 'rmsprop', 'random_state': None, 'training_hook': [], 'training_loss': 'logloss'}\n",
      "-----------------------------------------\n"
     ]
    },
    {
     "name": "stderr",
     "output_type": "stream",
     "text": [
      "C:\\Users\\Marios\\Jupyter_Notebooks_my_papers\\Data-driven-Causal-Discovery-for-Constructing-Fuzzy-Cognitive-Maps-An-Industrial-Case-Study\\base\\classifier.py:143: UserWarning: 2018.12.16 The instruction  'loss = loss/self.batch_size' was commented out. Due to increased gradient values check the optimizer learning rate \n",
      "  warnings.warn('2018.12.16 The instruction  \\'loss = loss/self.batch_size\\' was commented out. Due to increased gradient values check the optimizer learning rate ')\n"
     ]
    },
    {
     "name": "stdout",
     "output_type": "stream",
     "text": [
      "Learning time 37.08504366874695 sec\n",
      "\n"
     ]
    },
    {
     "data": {
      "text/plain": [
       "'Combination 32'"
      ]
     },
     "metadata": {},
     "output_type": "display_data"
    },
    {
     "name": "stdout",
     "output_type": "stream",
     "text": [
      "-----------------------------------------\n",
      "-----------------------------------------\n",
      "-----------------------------------------\n",
      "-----------------------------------------\n",
      "-----------------------------------------\n",
      "{'act': None, 'activation': 'sigmoid', 'activation_m': 1, 'batch_size': 256, 'buffer_size': 1000, 'depth': 2, 'dropout_p': 0.0, 'epochs': 50, 'init_method': None, 'init_y_method': 'uniform', 'learning_rate': 0.05, 'model_type': 'basic', 'optimizer': 'rmsprop', 'random_state': None, 'training_hook': [], 'training_loss': 'logloss'}\n",
      "-----------------------------------------\n"
     ]
    },
    {
     "name": "stderr",
     "output_type": "stream",
     "text": [
      "C:\\Users\\Marios\\Jupyter_Notebooks_my_papers\\Data-driven-Causal-Discovery-for-Constructing-Fuzzy-Cognitive-Maps-An-Industrial-Case-Study\\base\\classifier.py:143: UserWarning: 2018.12.16 The instruction  'loss = loss/self.batch_size' was commented out. Due to increased gradient values check the optimizer learning rate \n",
      "  warnings.warn('2018.12.16 The instruction  \\'loss = loss/self.batch_size\\' was commented out. Due to increased gradient values check the optimizer learning rate ')\n"
     ]
    },
    {
     "name": "stdout",
     "output_type": "stream",
     "text": [
      "Learning time 37.17513704299927 sec\n",
      "\n"
     ]
    },
    {
     "data": {
      "text/plain": [
       "'Combination 33'"
      ]
     },
     "metadata": {},
     "output_type": "display_data"
    },
    {
     "name": "stdout",
     "output_type": "stream",
     "text": [
      "-----------------------------------------\n",
      "-----------------------------------------\n",
      "-----------------------------------------\n",
      "-----------------------------------------\n",
      "-----------------------------------------\n",
      "{'act': None, 'activation': 'sigmoid', 'activation_m': 1, 'batch_size': 256, 'buffer_size': 1000, 'depth': 2, 'dropout_p': 0.0, 'epochs': 50, 'init_method': None, 'init_y_method': 'uniform', 'learning_rate': 0.1, 'model_type': 'basic', 'optimizer': 'rmsprop', 'random_state': None, 'training_hook': [], 'training_loss': 'logloss'}\n",
      "-----------------------------------------\n"
     ]
    },
    {
     "name": "stderr",
     "output_type": "stream",
     "text": [
      "C:\\Users\\Marios\\Jupyter_Notebooks_my_papers\\Data-driven-Causal-Discovery-for-Constructing-Fuzzy-Cognitive-Maps-An-Industrial-Case-Study\\base\\classifier.py:143: UserWarning: 2018.12.16 The instruction  'loss = loss/self.batch_size' was commented out. Due to increased gradient values check the optimizer learning rate \n",
      "  warnings.warn('2018.12.16 The instruction  \\'loss = loss/self.batch_size\\' was commented out. Due to increased gradient values check the optimizer learning rate ')\n"
     ]
    },
    {
     "name": "stdout",
     "output_type": "stream",
     "text": [
      "Learning time 37.66169834136963 sec\n",
      "\n"
     ]
    },
    {
     "data": {
      "text/plain": [
       "'Combination 34'"
      ]
     },
     "metadata": {},
     "output_type": "display_data"
    },
    {
     "name": "stdout",
     "output_type": "stream",
     "text": [
      "-----------------------------------------\n",
      "-----------------------------------------\n",
      "-----------------------------------------\n",
      "-----------------------------------------\n",
      "-----------------------------------------\n",
      "{'act': None, 'activation': 'sigmoid', 'activation_m': 1, 'batch_size': 256, 'buffer_size': 1000, 'depth': 2, 'dropout_p': 0.0, 'epochs': 50, 'init_method': None, 'init_y_method': 'uniform', 'learning_rate': 0.5, 'model_type': 'basic', 'optimizer': 'rmsprop', 'random_state': None, 'training_hook': [], 'training_loss': 'logloss'}\n",
      "-----------------------------------------\n"
     ]
    },
    {
     "name": "stderr",
     "output_type": "stream",
     "text": [
      "C:\\Users\\Marios\\Jupyter_Notebooks_my_papers\\Data-driven-Causal-Discovery-for-Constructing-Fuzzy-Cognitive-Maps-An-Industrial-Case-Study\\base\\classifier.py:143: UserWarning: 2018.12.16 The instruction  'loss = loss/self.batch_size' was commented out. Due to increased gradient values check the optimizer learning rate \n",
      "  warnings.warn('2018.12.16 The instruction  \\'loss = loss/self.batch_size\\' was commented out. Due to increased gradient values check the optimizer learning rate ')\n"
     ]
    },
    {
     "name": "stdout",
     "output_type": "stream",
     "text": [
      "Learning time 38.42786121368408 sec\n",
      "\n"
     ]
    },
    {
     "data": {
      "text/plain": [
       "'Combination 35'"
      ]
     },
     "metadata": {},
     "output_type": "display_data"
    },
    {
     "name": "stdout",
     "output_type": "stream",
     "text": [
      "-----------------------------------------\n",
      "-----------------------------------------\n",
      "-----------------------------------------\n",
      "-----------------------------------------\n",
      "-----------------------------------------\n",
      "{'act': None, 'activation': 'sigmoid', 'activation_m': 1, 'batch_size': 256, 'buffer_size': 1000, 'depth': 2, 'dropout_p': 0.0, 'epochs': 100, 'init_method': None, 'init_y_method': 'uniform', 'learning_rate': 0.001, 'model_type': 'basic', 'optimizer': 'rmsprop', 'random_state': None, 'training_hook': [], 'training_loss': 'logloss'}\n",
      "-----------------------------------------\n"
     ]
    },
    {
     "name": "stderr",
     "output_type": "stream",
     "text": [
      "C:\\Users\\Marios\\Jupyter_Notebooks_my_papers\\Data-driven-Causal-Discovery-for-Constructing-Fuzzy-Cognitive-Maps-An-Industrial-Case-Study\\base\\classifier.py:143: UserWarning: 2018.12.16 The instruction  'loss = loss/self.batch_size' was commented out. Due to increased gradient values check the optimizer learning rate \n",
      "  warnings.warn('2018.12.16 The instruction  \\'loss = loss/self.batch_size\\' was commented out. Due to increased gradient values check the optimizer learning rate ')\n"
     ]
    },
    {
     "name": "stdout",
     "output_type": "stream",
     "text": [
      "Learning time 76.1447057723999 sec\n",
      "\n"
     ]
    },
    {
     "data": {
      "text/plain": [
       "'Combination 36'"
      ]
     },
     "metadata": {},
     "output_type": "display_data"
    },
    {
     "name": "stdout",
     "output_type": "stream",
     "text": [
      "-----------------------------------------\n",
      "-----------------------------------------\n",
      "-----------------------------------------\n",
      "-----------------------------------------\n",
      "-----------------------------------------\n",
      "{'act': None, 'activation': 'sigmoid', 'activation_m': 1, 'batch_size': 256, 'buffer_size': 1000, 'depth': 2, 'dropout_p': 0.0, 'epochs': 100, 'init_method': None, 'init_y_method': 'uniform', 'learning_rate': 0.01, 'model_type': 'basic', 'optimizer': 'rmsprop', 'random_state': None, 'training_hook': [], 'training_loss': 'logloss'}\n",
      "-----------------------------------------\n"
     ]
    },
    {
     "name": "stderr",
     "output_type": "stream",
     "text": [
      "C:\\Users\\Marios\\Jupyter_Notebooks_my_papers\\Data-driven-Causal-Discovery-for-Constructing-Fuzzy-Cognitive-Maps-An-Industrial-Case-Study\\base\\classifier.py:143: UserWarning: 2018.12.16 The instruction  'loss = loss/self.batch_size' was commented out. Due to increased gradient values check the optimizer learning rate \n",
      "  warnings.warn('2018.12.16 The instruction  \\'loss = loss/self.batch_size\\' was commented out. Due to increased gradient values check the optimizer learning rate ')\n"
     ]
    },
    {
     "name": "stdout",
     "output_type": "stream",
     "text": [
      "Learning time 74.3587441444397 sec\n",
      "\n"
     ]
    },
    {
     "data": {
      "text/plain": [
       "'Combination 37'"
      ]
     },
     "metadata": {},
     "output_type": "display_data"
    },
    {
     "name": "stdout",
     "output_type": "stream",
     "text": [
      "-----------------------------------------\n",
      "-----------------------------------------\n",
      "-----------------------------------------\n",
      "-----------------------------------------\n",
      "-----------------------------------------\n",
      "{'act': None, 'activation': 'sigmoid', 'activation_m': 1, 'batch_size': 256, 'buffer_size': 1000, 'depth': 2, 'dropout_p': 0.0, 'epochs': 100, 'init_method': None, 'init_y_method': 'uniform', 'learning_rate': 0.05, 'model_type': 'basic', 'optimizer': 'rmsprop', 'random_state': None, 'training_hook': [], 'training_loss': 'logloss'}\n",
      "-----------------------------------------\n"
     ]
    },
    {
     "name": "stderr",
     "output_type": "stream",
     "text": [
      "C:\\Users\\Marios\\Jupyter_Notebooks_my_papers\\Data-driven-Causal-Discovery-for-Constructing-Fuzzy-Cognitive-Maps-An-Industrial-Case-Study\\base\\classifier.py:143: UserWarning: 2018.12.16 The instruction  'loss = loss/self.batch_size' was commented out. Due to increased gradient values check the optimizer learning rate \n",
      "  warnings.warn('2018.12.16 The instruction  \\'loss = loss/self.batch_size\\' was commented out. Due to increased gradient values check the optimizer learning rate ')\n"
     ]
    },
    {
     "name": "stdout",
     "output_type": "stream",
     "text": [
      "Learning time 77.68199491500854 sec\n",
      "\n"
     ]
    },
    {
     "data": {
      "text/plain": [
       "'Combination 38'"
      ]
     },
     "metadata": {},
     "output_type": "display_data"
    },
    {
     "name": "stdout",
     "output_type": "stream",
     "text": [
      "-----------------------------------------\n",
      "-----------------------------------------\n",
      "-----------------------------------------\n",
      "-----------------------------------------\n",
      "-----------------------------------------\n",
      "{'act': None, 'activation': 'sigmoid', 'activation_m': 1, 'batch_size': 256, 'buffer_size': 1000, 'depth': 2, 'dropout_p': 0.0, 'epochs': 100, 'init_method': None, 'init_y_method': 'uniform', 'learning_rate': 0.1, 'model_type': 'basic', 'optimizer': 'rmsprop', 'random_state': None, 'training_hook': [], 'training_loss': 'logloss'}\n",
      "-----------------------------------------\n"
     ]
    },
    {
     "name": "stderr",
     "output_type": "stream",
     "text": [
      "C:\\Users\\Marios\\Jupyter_Notebooks_my_papers\\Data-driven-Causal-Discovery-for-Constructing-Fuzzy-Cognitive-Maps-An-Industrial-Case-Study\\base\\classifier.py:143: UserWarning: 2018.12.16 The instruction  'loss = loss/self.batch_size' was commented out. Due to increased gradient values check the optimizer learning rate \n",
      "  warnings.warn('2018.12.16 The instruction  \\'loss = loss/self.batch_size\\' was commented out. Due to increased gradient values check the optimizer learning rate ')\n"
     ]
    },
    {
     "name": "stdout",
     "output_type": "stream",
     "text": [
      "Learning time 75.35233902931213 sec\n",
      "\n"
     ]
    },
    {
     "data": {
      "text/plain": [
       "'Combination 39'"
      ]
     },
     "metadata": {},
     "output_type": "display_data"
    },
    {
     "name": "stdout",
     "output_type": "stream",
     "text": [
      "-----------------------------------------\n",
      "-----------------------------------------\n",
      "-----------------------------------------\n",
      "-----------------------------------------\n",
      "-----------------------------------------\n",
      "{'act': None, 'activation': 'sigmoid', 'activation_m': 1, 'batch_size': 256, 'buffer_size': 1000, 'depth': 2, 'dropout_p': 0.0, 'epochs': 100, 'init_method': None, 'init_y_method': 'uniform', 'learning_rate': 0.5, 'model_type': 'basic', 'optimizer': 'rmsprop', 'random_state': None, 'training_hook': [], 'training_loss': 'logloss'}\n",
      "-----------------------------------------\n"
     ]
    },
    {
     "name": "stderr",
     "output_type": "stream",
     "text": [
      "C:\\Users\\Marios\\Jupyter_Notebooks_my_papers\\Data-driven-Causal-Discovery-for-Constructing-Fuzzy-Cognitive-Maps-An-Industrial-Case-Study\\base\\classifier.py:143: UserWarning: 2018.12.16 The instruction  'loss = loss/self.batch_size' was commented out. Due to increased gradient values check the optimizer learning rate \n",
      "  warnings.warn('2018.12.16 The instruction  \\'loss = loss/self.batch_size\\' was commented out. Due to increased gradient values check the optimizer learning rate ')\n"
     ]
    },
    {
     "name": "stdout",
     "output_type": "stream",
     "text": [
      "Learning time 74.35266256332397 sec\n",
      "\n"
     ]
    },
    {
     "data": {
      "text/plain": [
       "'Combination 40'"
      ]
     },
     "metadata": {},
     "output_type": "display_data"
    },
    {
     "name": "stdout",
     "output_type": "stream",
     "text": [
      "-----------------------------------------\n",
      "-----------------------------------------\n",
      "-----------------------------------------\n",
      "-----------------------------------------\n",
      "-----------------------------------------\n",
      "{'act': None, 'activation': 'sigmoid', 'activation_m': 1, 'batch_size': 256, 'buffer_size': 1000, 'depth': 3, 'dropout_p': 0.0, 'epochs': 50, 'init_method': None, 'init_y_method': 'uniform', 'learning_rate': 0.001, 'model_type': 'basic', 'optimizer': 'rmsprop', 'random_state': None, 'training_hook': [], 'training_loss': 'logloss'}\n",
      "-----------------------------------------\n"
     ]
    },
    {
     "name": "stderr",
     "output_type": "stream",
     "text": [
      "C:\\Users\\Marios\\Jupyter_Notebooks_my_papers\\Data-driven-Causal-Discovery-for-Constructing-Fuzzy-Cognitive-Maps-An-Industrial-Case-Study\\base\\classifier.py:143: UserWarning: 2018.12.16 The instruction  'loss = loss/self.batch_size' was commented out. Due to increased gradient values check the optimizer learning rate \n",
      "  warnings.warn('2018.12.16 The instruction  \\'loss = loss/self.batch_size\\' was commented out. Due to increased gradient values check the optimizer learning rate ')\n"
     ]
    },
    {
     "name": "stdout",
     "output_type": "stream",
     "text": [
      "Learning time 46.016175985336304 sec\n",
      "\n"
     ]
    },
    {
     "data": {
      "text/plain": [
       "'Combination 41'"
      ]
     },
     "metadata": {},
     "output_type": "display_data"
    },
    {
     "name": "stdout",
     "output_type": "stream",
     "text": [
      "-----------------------------------------\n",
      "-----------------------------------------\n",
      "-----------------------------------------\n",
      "-----------------------------------------\n",
      "-----------------------------------------\n",
      "{'act': None, 'activation': 'sigmoid', 'activation_m': 1, 'batch_size': 256, 'buffer_size': 1000, 'depth': 3, 'dropout_p': 0.0, 'epochs': 50, 'init_method': None, 'init_y_method': 'uniform', 'learning_rate': 0.01, 'model_type': 'basic', 'optimizer': 'rmsprop', 'random_state': None, 'training_hook': [], 'training_loss': 'logloss'}\n",
      "-----------------------------------------\n"
     ]
    },
    {
     "name": "stderr",
     "output_type": "stream",
     "text": [
      "C:\\Users\\Marios\\Jupyter_Notebooks_my_papers\\Data-driven-Causal-Discovery-for-Constructing-Fuzzy-Cognitive-Maps-An-Industrial-Case-Study\\base\\classifier.py:143: UserWarning: 2018.12.16 The instruction  'loss = loss/self.batch_size' was commented out. Due to increased gradient values check the optimizer learning rate \n",
      "  warnings.warn('2018.12.16 The instruction  \\'loss = loss/self.batch_size\\' was commented out. Due to increased gradient values check the optimizer learning rate ')\n"
     ]
    },
    {
     "name": "stdout",
     "output_type": "stream",
     "text": [
      "Learning time 47.45680570602417 sec\n",
      "\n"
     ]
    },
    {
     "data": {
      "text/plain": [
       "'Combination 42'"
      ]
     },
     "metadata": {},
     "output_type": "display_data"
    },
    {
     "name": "stdout",
     "output_type": "stream",
     "text": [
      "-----------------------------------------\n",
      "-----------------------------------------\n",
      "-----------------------------------------\n",
      "-----------------------------------------\n",
      "-----------------------------------------\n",
      "{'act': None, 'activation': 'sigmoid', 'activation_m': 1, 'batch_size': 256, 'buffer_size': 1000, 'depth': 3, 'dropout_p': 0.0, 'epochs': 50, 'init_method': None, 'init_y_method': 'uniform', 'learning_rate': 0.05, 'model_type': 'basic', 'optimizer': 'rmsprop', 'random_state': None, 'training_hook': [], 'training_loss': 'logloss'}\n",
      "-----------------------------------------\n"
     ]
    },
    {
     "name": "stderr",
     "output_type": "stream",
     "text": [
      "C:\\Users\\Marios\\Jupyter_Notebooks_my_papers\\Data-driven-Causal-Discovery-for-Constructing-Fuzzy-Cognitive-Maps-An-Industrial-Case-Study\\base\\classifier.py:143: UserWarning: 2018.12.16 The instruction  'loss = loss/self.batch_size' was commented out. Due to increased gradient values check the optimizer learning rate \n",
      "  warnings.warn('2018.12.16 The instruction  \\'loss = loss/self.batch_size\\' was commented out. Due to increased gradient values check the optimizer learning rate ')\n"
     ]
    },
    {
     "name": "stdout",
     "output_type": "stream",
     "text": [
      "Learning time 45.17713952064514 sec\n",
      "\n"
     ]
    },
    {
     "data": {
      "text/plain": [
       "'Combination 43'"
      ]
     },
     "metadata": {},
     "output_type": "display_data"
    },
    {
     "name": "stdout",
     "output_type": "stream",
     "text": [
      "-----------------------------------------\n",
      "-----------------------------------------\n",
      "-----------------------------------------\n",
      "-----------------------------------------\n",
      "-----------------------------------------\n",
      "{'act': None, 'activation': 'sigmoid', 'activation_m': 1, 'batch_size': 256, 'buffer_size': 1000, 'depth': 3, 'dropout_p': 0.0, 'epochs': 50, 'init_method': None, 'init_y_method': 'uniform', 'learning_rate': 0.1, 'model_type': 'basic', 'optimizer': 'rmsprop', 'random_state': None, 'training_hook': [], 'training_loss': 'logloss'}\n",
      "-----------------------------------------\n"
     ]
    },
    {
     "name": "stderr",
     "output_type": "stream",
     "text": [
      "C:\\Users\\Marios\\Jupyter_Notebooks_my_papers\\Data-driven-Causal-Discovery-for-Constructing-Fuzzy-Cognitive-Maps-An-Industrial-Case-Study\\base\\classifier.py:143: UserWarning: 2018.12.16 The instruction  'loss = loss/self.batch_size' was commented out. Due to increased gradient values check the optimizer learning rate \n",
      "  warnings.warn('2018.12.16 The instruction  \\'loss = loss/self.batch_size\\' was commented out. Due to increased gradient values check the optimizer learning rate ')\n"
     ]
    },
    {
     "name": "stdout",
     "output_type": "stream",
     "text": [
      "Learning time 45.09803247451782 sec\n",
      "\n"
     ]
    },
    {
     "data": {
      "text/plain": [
       "'Combination 44'"
      ]
     },
     "metadata": {},
     "output_type": "display_data"
    },
    {
     "name": "stdout",
     "output_type": "stream",
     "text": [
      "-----------------------------------------\n",
      "-----------------------------------------\n",
      "-----------------------------------------\n",
      "-----------------------------------------\n",
      "-----------------------------------------\n",
      "{'act': None, 'activation': 'sigmoid', 'activation_m': 1, 'batch_size': 256, 'buffer_size': 1000, 'depth': 3, 'dropout_p': 0.0, 'epochs': 50, 'init_method': None, 'init_y_method': 'uniform', 'learning_rate': 0.5, 'model_type': 'basic', 'optimizer': 'rmsprop', 'random_state': None, 'training_hook': [], 'training_loss': 'logloss'}\n",
      "-----------------------------------------\n"
     ]
    },
    {
     "name": "stderr",
     "output_type": "stream",
     "text": [
      "C:\\Users\\Marios\\Jupyter_Notebooks_my_papers\\Data-driven-Causal-Discovery-for-Constructing-Fuzzy-Cognitive-Maps-An-Industrial-Case-Study\\base\\classifier.py:143: UserWarning: 2018.12.16 The instruction  'loss = loss/self.batch_size' was commented out. Due to increased gradient values check the optimizer learning rate \n",
      "  warnings.warn('2018.12.16 The instruction  \\'loss = loss/self.batch_size\\' was commented out. Due to increased gradient values check the optimizer learning rate ')\n"
     ]
    },
    {
     "name": "stdout",
     "output_type": "stream",
     "text": [
      "Learning time 45.00251388549805 sec\n",
      "\n"
     ]
    },
    {
     "data": {
      "text/plain": [
       "'Combination 45'"
      ]
     },
     "metadata": {},
     "output_type": "display_data"
    },
    {
     "name": "stdout",
     "output_type": "stream",
     "text": [
      "-----------------------------------------\n",
      "-----------------------------------------\n",
      "-----------------------------------------\n",
      "-----------------------------------------\n",
      "-----------------------------------------\n",
      "{'act': None, 'activation': 'sigmoid', 'activation_m': 1, 'batch_size': 256, 'buffer_size': 1000, 'depth': 3, 'dropout_p': 0.0, 'epochs': 100, 'init_method': None, 'init_y_method': 'uniform', 'learning_rate': 0.001, 'model_type': 'basic', 'optimizer': 'rmsprop', 'random_state': None, 'training_hook': [], 'training_loss': 'logloss'}\n",
      "-----------------------------------------\n"
     ]
    },
    {
     "name": "stderr",
     "output_type": "stream",
     "text": [
      "C:\\Users\\Marios\\Jupyter_Notebooks_my_papers\\Data-driven-Causal-Discovery-for-Constructing-Fuzzy-Cognitive-Maps-An-Industrial-Case-Study\\base\\classifier.py:143: UserWarning: 2018.12.16 The instruction  'loss = loss/self.batch_size' was commented out. Due to increased gradient values check the optimizer learning rate \n",
      "  warnings.warn('2018.12.16 The instruction  \\'loss = loss/self.batch_size\\' was commented out. Due to increased gradient values check the optimizer learning rate ')\n"
     ]
    },
    {
     "name": "stdout",
     "output_type": "stream",
     "text": [
      "Learning time 90.67512726783752 sec\n",
      "\n"
     ]
    },
    {
     "data": {
      "text/plain": [
       "'Combination 46'"
      ]
     },
     "metadata": {},
     "output_type": "display_data"
    },
    {
     "name": "stdout",
     "output_type": "stream",
     "text": [
      "-----------------------------------------\n",
      "-----------------------------------------\n",
      "-----------------------------------------\n",
      "-----------------------------------------\n",
      "-----------------------------------------\n",
      "{'act': None, 'activation': 'sigmoid', 'activation_m': 1, 'batch_size': 256, 'buffer_size': 1000, 'depth': 3, 'dropout_p': 0.0, 'epochs': 100, 'init_method': None, 'init_y_method': 'uniform', 'learning_rate': 0.01, 'model_type': 'basic', 'optimizer': 'rmsprop', 'random_state': None, 'training_hook': [], 'training_loss': 'logloss'}\n",
      "-----------------------------------------\n"
     ]
    },
    {
     "name": "stderr",
     "output_type": "stream",
     "text": [
      "C:\\Users\\Marios\\Jupyter_Notebooks_my_papers\\Data-driven-Causal-Discovery-for-Constructing-Fuzzy-Cognitive-Maps-An-Industrial-Case-Study\\base\\classifier.py:143: UserWarning: 2018.12.16 The instruction  'loss = loss/self.batch_size' was commented out. Due to increased gradient values check the optimizer learning rate \n",
      "  warnings.warn('2018.12.16 The instruction  \\'loss = loss/self.batch_size\\' was commented out. Due to increased gradient values check the optimizer learning rate ')\n"
     ]
    },
    {
     "name": "stdout",
     "output_type": "stream",
     "text": [
      "Learning time 91.02165126800537 sec\n",
      "\n"
     ]
    },
    {
     "data": {
      "text/plain": [
       "'Combination 47'"
      ]
     },
     "metadata": {},
     "output_type": "display_data"
    },
    {
     "name": "stdout",
     "output_type": "stream",
     "text": [
      "-----------------------------------------\n",
      "-----------------------------------------\n",
      "-----------------------------------------\n",
      "-----------------------------------------\n",
      "-----------------------------------------\n",
      "{'act': None, 'activation': 'sigmoid', 'activation_m': 1, 'batch_size': 256, 'buffer_size': 1000, 'depth': 3, 'dropout_p': 0.0, 'epochs': 100, 'init_method': None, 'init_y_method': 'uniform', 'learning_rate': 0.05, 'model_type': 'basic', 'optimizer': 'rmsprop', 'random_state': None, 'training_hook': [], 'training_loss': 'logloss'}\n",
      "-----------------------------------------\n"
     ]
    },
    {
     "name": "stderr",
     "output_type": "stream",
     "text": [
      "C:\\Users\\Marios\\Jupyter_Notebooks_my_papers\\Data-driven-Causal-Discovery-for-Constructing-Fuzzy-Cognitive-Maps-An-Industrial-Case-Study\\base\\classifier.py:143: UserWarning: 2018.12.16 The instruction  'loss = loss/self.batch_size' was commented out. Due to increased gradient values check the optimizer learning rate \n",
      "  warnings.warn('2018.12.16 The instruction  \\'loss = loss/self.batch_size\\' was commented out. Due to increased gradient values check the optimizer learning rate ')\n"
     ]
    },
    {
     "name": "stdout",
     "output_type": "stream",
     "text": [
      "Learning time 90.46533513069153 sec\n",
      "\n"
     ]
    },
    {
     "data": {
      "text/plain": [
       "'Combination 48'"
      ]
     },
     "metadata": {},
     "output_type": "display_data"
    },
    {
     "name": "stdout",
     "output_type": "stream",
     "text": [
      "-----------------------------------------\n",
      "-----------------------------------------\n",
      "-----------------------------------------\n",
      "-----------------------------------------\n",
      "-----------------------------------------\n",
      "{'act': None, 'activation': 'sigmoid', 'activation_m': 1, 'batch_size': 256, 'buffer_size': 1000, 'depth': 3, 'dropout_p': 0.0, 'epochs': 100, 'init_method': None, 'init_y_method': 'uniform', 'learning_rate': 0.1, 'model_type': 'basic', 'optimizer': 'rmsprop', 'random_state': None, 'training_hook': [], 'training_loss': 'logloss'}\n",
      "-----------------------------------------\n"
     ]
    },
    {
     "name": "stderr",
     "output_type": "stream",
     "text": [
      "C:\\Users\\Marios\\Jupyter_Notebooks_my_papers\\Data-driven-Causal-Discovery-for-Constructing-Fuzzy-Cognitive-Maps-An-Industrial-Case-Study\\base\\classifier.py:143: UserWarning: 2018.12.16 The instruction  'loss = loss/self.batch_size' was commented out. Due to increased gradient values check the optimizer learning rate \n",
      "  warnings.warn('2018.12.16 The instruction  \\'loss = loss/self.batch_size\\' was commented out. Due to increased gradient values check the optimizer learning rate ')\n"
     ]
    },
    {
     "name": "stdout",
     "output_type": "stream",
     "text": [
      "Learning time 92.34235382080078 sec\n",
      "\n"
     ]
    },
    {
     "data": {
      "text/plain": [
       "'Combination 49'"
      ]
     },
     "metadata": {},
     "output_type": "display_data"
    },
    {
     "name": "stdout",
     "output_type": "stream",
     "text": [
      "-----------------------------------------\n",
      "-----------------------------------------\n",
      "-----------------------------------------\n",
      "-----------------------------------------\n",
      "-----------------------------------------\n",
      "{'act': None, 'activation': 'sigmoid', 'activation_m': 1, 'batch_size': 256, 'buffer_size': 1000, 'depth': 3, 'dropout_p': 0.0, 'epochs': 100, 'init_method': None, 'init_y_method': 'uniform', 'learning_rate': 0.5, 'model_type': 'basic', 'optimizer': 'rmsprop', 'random_state': None, 'training_hook': [], 'training_loss': 'logloss'}\n",
      "-----------------------------------------\n"
     ]
    },
    {
     "name": "stderr",
     "output_type": "stream",
     "text": [
      "C:\\Users\\Marios\\Jupyter_Notebooks_my_papers\\Data-driven-Causal-Discovery-for-Constructing-Fuzzy-Cognitive-Maps-An-Industrial-Case-Study\\base\\classifier.py:143: UserWarning: 2018.12.16 The instruction  'loss = loss/self.batch_size' was commented out. Due to increased gradient values check the optimizer learning rate \n",
      "  warnings.warn('2018.12.16 The instruction  \\'loss = loss/self.batch_size\\' was commented out. Due to increased gradient values check the optimizer learning rate ')\n"
     ]
    },
    {
     "name": "stdout",
     "output_type": "stream",
     "text": [
      "Learning time 89.8898537158966 sec\n",
      "\n"
     ]
    },
    {
     "data": {
      "text/plain": [
       "'Combination 50'"
      ]
     },
     "metadata": {},
     "output_type": "display_data"
    },
    {
     "name": "stdout",
     "output_type": "stream",
     "text": [
      "-----------------------------------------\n",
      "-----------------------------------------\n",
      "-----------------------------------------\n",
      "-----------------------------------------\n",
      "-----------------------------------------\n",
      "{'act': None, 'activation': 'sigmoid', 'activation_m': 1, 'batch_size': 256, 'buffer_size': 1000, 'depth': 5, 'dropout_p': 0.0, 'epochs': 50, 'init_method': None, 'init_y_method': 'uniform', 'learning_rate': 0.001, 'model_type': 'basic', 'optimizer': 'rmsprop', 'random_state': None, 'training_hook': [], 'training_loss': 'logloss'}\n",
      "-----------------------------------------\n"
     ]
    },
    {
     "name": "stderr",
     "output_type": "stream",
     "text": [
      "C:\\Users\\Marios\\Jupyter_Notebooks_my_papers\\Data-driven-Causal-Discovery-for-Constructing-Fuzzy-Cognitive-Maps-An-Industrial-Case-Study\\base\\classifier.py:143: UserWarning: 2018.12.16 The instruction  'loss = loss/self.batch_size' was commented out. Due to increased gradient values check the optimizer learning rate \n",
      "  warnings.warn('2018.12.16 The instruction  \\'loss = loss/self.batch_size\\' was commented out. Due to increased gradient values check the optimizer learning rate ')\n"
     ]
    },
    {
     "name": "stdout",
     "output_type": "stream",
     "text": [
      "Learning time 61.54330801963806 sec\n",
      "\n"
     ]
    },
    {
     "data": {
      "text/plain": [
       "'Combination 51'"
      ]
     },
     "metadata": {},
     "output_type": "display_data"
    },
    {
     "name": "stdout",
     "output_type": "stream",
     "text": [
      "-----------------------------------------\n",
      "-----------------------------------------\n",
      "-----------------------------------------\n",
      "-----------------------------------------\n",
      "-----------------------------------------\n",
      "{'act': None, 'activation': 'sigmoid', 'activation_m': 1, 'batch_size': 256, 'buffer_size': 1000, 'depth': 5, 'dropout_p': 0.0, 'epochs': 50, 'init_method': None, 'init_y_method': 'uniform', 'learning_rate': 0.01, 'model_type': 'basic', 'optimizer': 'rmsprop', 'random_state': None, 'training_hook': [], 'training_loss': 'logloss'}\n",
      "-----------------------------------------\n"
     ]
    },
    {
     "name": "stderr",
     "output_type": "stream",
     "text": [
      "C:\\Users\\Marios\\Jupyter_Notebooks_my_papers\\Data-driven-Causal-Discovery-for-Constructing-Fuzzy-Cognitive-Maps-An-Industrial-Case-Study\\base\\classifier.py:143: UserWarning: 2018.12.16 The instruction  'loss = loss/self.batch_size' was commented out. Due to increased gradient values check the optimizer learning rate \n",
      "  warnings.warn('2018.12.16 The instruction  \\'loss = loss/self.batch_size\\' was commented out. Due to increased gradient values check the optimizer learning rate ')\n"
     ]
    },
    {
     "name": "stdout",
     "output_type": "stream",
     "text": [
      "Learning time 60.95975375175476 sec\n",
      "\n"
     ]
    },
    {
     "data": {
      "text/plain": [
       "'Combination 52'"
      ]
     },
     "metadata": {},
     "output_type": "display_data"
    },
    {
     "name": "stdout",
     "output_type": "stream",
     "text": [
      "-----------------------------------------\n",
      "-----------------------------------------\n",
      "-----------------------------------------\n",
      "-----------------------------------------\n",
      "-----------------------------------------\n",
      "{'act': None, 'activation': 'sigmoid', 'activation_m': 1, 'batch_size': 256, 'buffer_size': 1000, 'depth': 5, 'dropout_p': 0.0, 'epochs': 50, 'init_method': None, 'init_y_method': 'uniform', 'learning_rate': 0.05, 'model_type': 'basic', 'optimizer': 'rmsprop', 'random_state': None, 'training_hook': [], 'training_loss': 'logloss'}\n",
      "-----------------------------------------\n"
     ]
    },
    {
     "name": "stderr",
     "output_type": "stream",
     "text": [
      "C:\\Users\\Marios\\Jupyter_Notebooks_my_papers\\Data-driven-Causal-Discovery-for-Constructing-Fuzzy-Cognitive-Maps-An-Industrial-Case-Study\\base\\classifier.py:143: UserWarning: 2018.12.16 The instruction  'loss = loss/self.batch_size' was commented out. Due to increased gradient values check the optimizer learning rate \n",
      "  warnings.warn('2018.12.16 The instruction  \\'loss = loss/self.batch_size\\' was commented out. Due to increased gradient values check the optimizer learning rate ')\n"
     ]
    },
    {
     "name": "stdout",
     "output_type": "stream",
     "text": [
      "Learning time 61.3165078163147 sec\n",
      "\n"
     ]
    },
    {
     "data": {
      "text/plain": [
       "'Combination 53'"
      ]
     },
     "metadata": {},
     "output_type": "display_data"
    },
    {
     "name": "stdout",
     "output_type": "stream",
     "text": [
      "-----------------------------------------\n",
      "-----------------------------------------\n",
      "-----------------------------------------\n",
      "-----------------------------------------\n",
      "-----------------------------------------\n",
      "{'act': None, 'activation': 'sigmoid', 'activation_m': 1, 'batch_size': 256, 'buffer_size': 1000, 'depth': 5, 'dropout_p': 0.0, 'epochs': 50, 'init_method': None, 'init_y_method': 'uniform', 'learning_rate': 0.1, 'model_type': 'basic', 'optimizer': 'rmsprop', 'random_state': None, 'training_hook': [], 'training_loss': 'logloss'}\n",
      "-----------------------------------------\n"
     ]
    },
    {
     "name": "stderr",
     "output_type": "stream",
     "text": [
      "C:\\Users\\Marios\\Jupyter_Notebooks_my_papers\\Data-driven-Causal-Discovery-for-Constructing-Fuzzy-Cognitive-Maps-An-Industrial-Case-Study\\base\\classifier.py:143: UserWarning: 2018.12.16 The instruction  'loss = loss/self.batch_size' was commented out. Due to increased gradient values check the optimizer learning rate \n",
      "  warnings.warn('2018.12.16 The instruction  \\'loss = loss/self.batch_size\\' was commented out. Due to increased gradient values check the optimizer learning rate ')\n"
     ]
    },
    {
     "name": "stdout",
     "output_type": "stream",
     "text": [
      "Learning time 60.93407464027405 sec\n",
      "\n"
     ]
    },
    {
     "data": {
      "text/plain": [
       "'Combination 54'"
      ]
     },
     "metadata": {},
     "output_type": "display_data"
    },
    {
     "name": "stdout",
     "output_type": "stream",
     "text": [
      "-----------------------------------------\n",
      "-----------------------------------------\n",
      "-----------------------------------------\n",
      "-----------------------------------------\n",
      "-----------------------------------------\n",
      "{'act': None, 'activation': 'sigmoid', 'activation_m': 1, 'batch_size': 256, 'buffer_size': 1000, 'depth': 5, 'dropout_p': 0.0, 'epochs': 50, 'init_method': None, 'init_y_method': 'uniform', 'learning_rate': 0.5, 'model_type': 'basic', 'optimizer': 'rmsprop', 'random_state': None, 'training_hook': [], 'training_loss': 'logloss'}\n",
      "-----------------------------------------\n"
     ]
    },
    {
     "name": "stderr",
     "output_type": "stream",
     "text": [
      "C:\\Users\\Marios\\Jupyter_Notebooks_my_papers\\Data-driven-Causal-Discovery-for-Constructing-Fuzzy-Cognitive-Maps-An-Industrial-Case-Study\\base\\classifier.py:143: UserWarning: 2018.12.16 The instruction  'loss = loss/self.batch_size' was commented out. Due to increased gradient values check the optimizer learning rate \n",
      "  warnings.warn('2018.12.16 The instruction  \\'loss = loss/self.batch_size\\' was commented out. Due to increased gradient values check the optimizer learning rate ')\n"
     ]
    },
    {
     "name": "stdout",
     "output_type": "stream",
     "text": [
      "Learning time 61.30133104324341 sec\n",
      "\n"
     ]
    },
    {
     "data": {
      "text/plain": [
       "'Combination 55'"
      ]
     },
     "metadata": {},
     "output_type": "display_data"
    },
    {
     "name": "stdout",
     "output_type": "stream",
     "text": [
      "-----------------------------------------\n",
      "-----------------------------------------\n",
      "-----------------------------------------\n",
      "-----------------------------------------\n",
      "-----------------------------------------\n",
      "{'act': None, 'activation': 'sigmoid', 'activation_m': 1, 'batch_size': 256, 'buffer_size': 1000, 'depth': 5, 'dropout_p': 0.0, 'epochs': 100, 'init_method': None, 'init_y_method': 'uniform', 'learning_rate': 0.001, 'model_type': 'basic', 'optimizer': 'rmsprop', 'random_state': None, 'training_hook': [], 'training_loss': 'logloss'}\n",
      "-----------------------------------------\n"
     ]
    },
    {
     "name": "stderr",
     "output_type": "stream",
     "text": [
      "C:\\Users\\Marios\\Jupyter_Notebooks_my_papers\\Data-driven-Causal-Discovery-for-Constructing-Fuzzy-Cognitive-Maps-An-Industrial-Case-Study\\base\\classifier.py:143: UserWarning: 2018.12.16 The instruction  'loss = loss/self.batch_size' was commented out. Due to increased gradient values check the optimizer learning rate \n",
      "  warnings.warn('2018.12.16 The instruction  \\'loss = loss/self.batch_size\\' was commented out. Due to increased gradient values check the optimizer learning rate ')\n"
     ]
    },
    {
     "name": "stdout",
     "output_type": "stream",
     "text": [
      "Learning time 122.14870262145996 sec\n",
      "\n"
     ]
    },
    {
     "data": {
      "text/plain": [
       "'Combination 56'"
      ]
     },
     "metadata": {},
     "output_type": "display_data"
    },
    {
     "name": "stdout",
     "output_type": "stream",
     "text": [
      "-----------------------------------------\n",
      "-----------------------------------------\n",
      "-----------------------------------------\n",
      "-----------------------------------------\n",
      "-----------------------------------------\n",
      "{'act': None, 'activation': 'sigmoid', 'activation_m': 1, 'batch_size': 256, 'buffer_size': 1000, 'depth': 5, 'dropout_p': 0.0, 'epochs': 100, 'init_method': None, 'init_y_method': 'uniform', 'learning_rate': 0.01, 'model_type': 'basic', 'optimizer': 'rmsprop', 'random_state': None, 'training_hook': [], 'training_loss': 'logloss'}\n",
      "-----------------------------------------\n"
     ]
    },
    {
     "name": "stderr",
     "output_type": "stream",
     "text": [
      "C:\\Users\\Marios\\Jupyter_Notebooks_my_papers\\Data-driven-Causal-Discovery-for-Constructing-Fuzzy-Cognitive-Maps-An-Industrial-Case-Study\\base\\classifier.py:143: UserWarning: 2018.12.16 The instruction  'loss = loss/self.batch_size' was commented out. Due to increased gradient values check the optimizer learning rate \n",
      "  warnings.warn('2018.12.16 The instruction  \\'loss = loss/self.batch_size\\' was commented out. Due to increased gradient values check the optimizer learning rate ')\n"
     ]
    },
    {
     "name": "stdout",
     "output_type": "stream",
     "text": [
      "Learning time 122.53181004524231 sec\n",
      "\n"
     ]
    },
    {
     "data": {
      "text/plain": [
       "'Combination 57'"
      ]
     },
     "metadata": {},
     "output_type": "display_data"
    },
    {
     "name": "stdout",
     "output_type": "stream",
     "text": [
      "-----------------------------------------\n",
      "-----------------------------------------\n",
      "-----------------------------------------\n",
      "-----------------------------------------\n",
      "-----------------------------------------\n",
      "{'act': None, 'activation': 'sigmoid', 'activation_m': 1, 'batch_size': 256, 'buffer_size': 1000, 'depth': 5, 'dropout_p': 0.0, 'epochs': 100, 'init_method': None, 'init_y_method': 'uniform', 'learning_rate': 0.05, 'model_type': 'basic', 'optimizer': 'rmsprop', 'random_state': None, 'training_hook': [], 'training_loss': 'logloss'}\n",
      "-----------------------------------------\n"
     ]
    },
    {
     "name": "stderr",
     "output_type": "stream",
     "text": [
      "C:\\Users\\Marios\\Jupyter_Notebooks_my_papers\\Data-driven-Causal-Discovery-for-Constructing-Fuzzy-Cognitive-Maps-An-Industrial-Case-Study\\base\\classifier.py:143: UserWarning: 2018.12.16 The instruction  'loss = loss/self.batch_size' was commented out. Due to increased gradient values check the optimizer learning rate \n",
      "  warnings.warn('2018.12.16 The instruction  \\'loss = loss/self.batch_size\\' was commented out. Due to increased gradient values check the optimizer learning rate ')\n"
     ]
    },
    {
     "name": "stdout",
     "output_type": "stream",
     "text": [
      "Learning time 122.29216694831848 sec\n",
      "\n"
     ]
    },
    {
     "data": {
      "text/plain": [
       "'Combination 58'"
      ]
     },
     "metadata": {},
     "output_type": "display_data"
    },
    {
     "name": "stdout",
     "output_type": "stream",
     "text": [
      "-----------------------------------------\n",
      "-----------------------------------------\n",
      "-----------------------------------------\n",
      "-----------------------------------------\n",
      "-----------------------------------------\n",
      "{'act': None, 'activation': 'sigmoid', 'activation_m': 1, 'batch_size': 256, 'buffer_size': 1000, 'depth': 5, 'dropout_p': 0.0, 'epochs': 100, 'init_method': None, 'init_y_method': 'uniform', 'learning_rate': 0.1, 'model_type': 'basic', 'optimizer': 'rmsprop', 'random_state': None, 'training_hook': [], 'training_loss': 'logloss'}\n",
      "-----------------------------------------\n"
     ]
    },
    {
     "name": "stderr",
     "output_type": "stream",
     "text": [
      "C:\\Users\\Marios\\Jupyter_Notebooks_my_papers\\Data-driven-Causal-Discovery-for-Constructing-Fuzzy-Cognitive-Maps-An-Industrial-Case-Study\\base\\classifier.py:143: UserWarning: 2018.12.16 The instruction  'loss = loss/self.batch_size' was commented out. Due to increased gradient values check the optimizer learning rate \n",
      "  warnings.warn('2018.12.16 The instruction  \\'loss = loss/self.batch_size\\' was commented out. Due to increased gradient values check the optimizer learning rate ')\n"
     ]
    },
    {
     "name": "stdout",
     "output_type": "stream",
     "text": [
      "Learning time 122.91578435897827 sec\n",
      "\n"
     ]
    },
    {
     "data": {
      "text/plain": [
       "'Combination 59'"
      ]
     },
     "metadata": {},
     "output_type": "display_data"
    },
    {
     "name": "stdout",
     "output_type": "stream",
     "text": [
      "-----------------------------------------\n",
      "-----------------------------------------\n",
      "-----------------------------------------\n",
      "-----------------------------------------\n",
      "-----------------------------------------\n",
      "{'act': None, 'activation': 'sigmoid', 'activation_m': 1, 'batch_size': 256, 'buffer_size': 1000, 'depth': 5, 'dropout_p': 0.0, 'epochs': 100, 'init_method': None, 'init_y_method': 'uniform', 'learning_rate': 0.5, 'model_type': 'basic', 'optimizer': 'rmsprop', 'random_state': None, 'training_hook': [], 'training_loss': 'logloss'}\n",
      "-----------------------------------------\n"
     ]
    },
    {
     "name": "stderr",
     "output_type": "stream",
     "text": [
      "C:\\Users\\Marios\\Jupyter_Notebooks_my_papers\\Data-driven-Causal-Discovery-for-Constructing-Fuzzy-Cognitive-Maps-An-Industrial-Case-Study\\base\\classifier.py:143: UserWarning: 2018.12.16 The instruction  'loss = loss/self.batch_size' was commented out. Due to increased gradient values check the optimizer learning rate \n",
      "  warnings.warn('2018.12.16 The instruction  \\'loss = loss/self.batch_size\\' was commented out. Due to increased gradient values check the optimizer learning rate ')\n"
     ]
    },
    {
     "name": "stdout",
     "output_type": "stream",
     "text": [
      "Learning time 122.28762650489807 sec\n",
      "\n"
     ]
    },
    {
     "data": {
      "text/plain": [
       "'Combination 60'"
      ]
     },
     "metadata": {},
     "output_type": "display_data"
    },
    {
     "name": "stdout",
     "output_type": "stream",
     "text": [
      "-----------------------------------------\n",
      "-----------------------------------------\n",
      "-----------------------------------------\n",
      "-----------------------------------------\n",
      "-----------------------------------------\n",
      "{'act': None, 'activation': 'sigmoid', 'activation_m': 1, 'batch_size': 4096, 'buffer_size': 1000, 'depth': 2, 'dropout_p': 0.0, 'epochs': 50, 'init_method': None, 'init_y_method': 'uniform', 'learning_rate': 0.001, 'model_type': 'basic', 'optimizer': 'rmsprop', 'random_state': None, 'training_hook': [], 'training_loss': 'logloss'}\n",
      "-----------------------------------------\n"
     ]
    },
    {
     "name": "stderr",
     "output_type": "stream",
     "text": [
      "C:\\Users\\Marios\\Jupyter_Notebooks_my_papers\\Data-driven-Causal-Discovery-for-Constructing-Fuzzy-Cognitive-Maps-An-Industrial-Case-Study\\base\\classifier.py:143: UserWarning: 2018.12.16 The instruction  'loss = loss/self.batch_size' was commented out. Due to increased gradient values check the optimizer learning rate \n",
      "  warnings.warn('2018.12.16 The instruction  \\'loss = loss/self.batch_size\\' was commented out. Due to increased gradient values check the optimizer learning rate ')\n"
     ]
    },
    {
     "name": "stdout",
     "output_type": "stream",
     "text": [
      "Learning time 5.79963755607605 sec\n",
      "\n"
     ]
    },
    {
     "data": {
      "text/plain": [
       "'Combination 61'"
      ]
     },
     "metadata": {},
     "output_type": "display_data"
    },
    {
     "name": "stdout",
     "output_type": "stream",
     "text": [
      "-----------------------------------------\n",
      "-----------------------------------------\n",
      "-----------------------------------------\n",
      "-----------------------------------------\n",
      "-----------------------------------------\n",
      "{'act': None, 'activation': 'sigmoid', 'activation_m': 1, 'batch_size': 4096, 'buffer_size': 1000, 'depth': 2, 'dropout_p': 0.0, 'epochs': 50, 'init_method': None, 'init_y_method': 'uniform', 'learning_rate': 0.01, 'model_type': 'basic', 'optimizer': 'rmsprop', 'random_state': None, 'training_hook': [], 'training_loss': 'logloss'}\n",
      "-----------------------------------------\n"
     ]
    },
    {
     "name": "stderr",
     "output_type": "stream",
     "text": [
      "C:\\Users\\Marios\\Jupyter_Notebooks_my_papers\\Data-driven-Causal-Discovery-for-Constructing-Fuzzy-Cognitive-Maps-An-Industrial-Case-Study\\base\\classifier.py:143: UserWarning: 2018.12.16 The instruction  'loss = loss/self.batch_size' was commented out. Due to increased gradient values check the optimizer learning rate \n",
      "  warnings.warn('2018.12.16 The instruction  \\'loss = loss/self.batch_size\\' was commented out. Due to increased gradient values check the optimizer learning rate ')\n"
     ]
    },
    {
     "name": "stdout",
     "output_type": "stream",
     "text": [
      "Learning time 5.818434238433838 sec\n",
      "\n"
     ]
    },
    {
     "data": {
      "text/plain": [
       "'Combination 62'"
      ]
     },
     "metadata": {},
     "output_type": "display_data"
    },
    {
     "name": "stdout",
     "output_type": "stream",
     "text": [
      "-----------------------------------------\n",
      "-----------------------------------------\n",
      "-----------------------------------------\n",
      "-----------------------------------------\n",
      "-----------------------------------------\n",
      "{'act': None, 'activation': 'sigmoid', 'activation_m': 1, 'batch_size': 4096, 'buffer_size': 1000, 'depth': 2, 'dropout_p': 0.0, 'epochs': 50, 'init_method': None, 'init_y_method': 'uniform', 'learning_rate': 0.05, 'model_type': 'basic', 'optimizer': 'rmsprop', 'random_state': None, 'training_hook': [], 'training_loss': 'logloss'}\n",
      "-----------------------------------------\n"
     ]
    },
    {
     "name": "stderr",
     "output_type": "stream",
     "text": [
      "C:\\Users\\Marios\\Jupyter_Notebooks_my_papers\\Data-driven-Causal-Discovery-for-Constructing-Fuzzy-Cognitive-Maps-An-Industrial-Case-Study\\base\\classifier.py:143: UserWarning: 2018.12.16 The instruction  'loss = loss/self.batch_size' was commented out. Due to increased gradient values check the optimizer learning rate \n",
      "  warnings.warn('2018.12.16 The instruction  \\'loss = loss/self.batch_size\\' was commented out. Due to increased gradient values check the optimizer learning rate ')\n"
     ]
    },
    {
     "name": "stdout",
     "output_type": "stream",
     "text": [
      "Learning time 5.864161252975464 sec\n",
      "\n"
     ]
    },
    {
     "data": {
      "text/plain": [
       "'Combination 63'"
      ]
     },
     "metadata": {},
     "output_type": "display_data"
    },
    {
     "name": "stdout",
     "output_type": "stream",
     "text": [
      "-----------------------------------------\n",
      "-----------------------------------------\n",
      "-----------------------------------------\n",
      "-----------------------------------------\n",
      "-----------------------------------------\n",
      "{'act': None, 'activation': 'sigmoid', 'activation_m': 1, 'batch_size': 4096, 'buffer_size': 1000, 'depth': 2, 'dropout_p': 0.0, 'epochs': 50, 'init_method': None, 'init_y_method': 'uniform', 'learning_rate': 0.1, 'model_type': 'basic', 'optimizer': 'rmsprop', 'random_state': None, 'training_hook': [], 'training_loss': 'logloss'}\n",
      "-----------------------------------------\n"
     ]
    },
    {
     "name": "stderr",
     "output_type": "stream",
     "text": [
      "C:\\Users\\Marios\\Jupyter_Notebooks_my_papers\\Data-driven-Causal-Discovery-for-Constructing-Fuzzy-Cognitive-Maps-An-Industrial-Case-Study\\base\\classifier.py:143: UserWarning: 2018.12.16 The instruction  'loss = loss/self.batch_size' was commented out. Due to increased gradient values check the optimizer learning rate \n",
      "  warnings.warn('2018.12.16 The instruction  \\'loss = loss/self.batch_size\\' was commented out. Due to increased gradient values check the optimizer learning rate ')\n"
     ]
    },
    {
     "name": "stdout",
     "output_type": "stream",
     "text": [
      "Learning time 5.82486367225647 sec\n",
      "\n"
     ]
    },
    {
     "data": {
      "text/plain": [
       "'Combination 64'"
      ]
     },
     "metadata": {},
     "output_type": "display_data"
    },
    {
     "name": "stdout",
     "output_type": "stream",
     "text": [
      "-----------------------------------------\n",
      "-----------------------------------------\n",
      "-----------------------------------------\n",
      "-----------------------------------------\n",
      "-----------------------------------------\n",
      "{'act': None, 'activation': 'sigmoid', 'activation_m': 1, 'batch_size': 4096, 'buffer_size': 1000, 'depth': 2, 'dropout_p': 0.0, 'epochs': 50, 'init_method': None, 'init_y_method': 'uniform', 'learning_rate': 0.5, 'model_type': 'basic', 'optimizer': 'rmsprop', 'random_state': None, 'training_hook': [], 'training_loss': 'logloss'}\n",
      "-----------------------------------------\n"
     ]
    },
    {
     "name": "stderr",
     "output_type": "stream",
     "text": [
      "C:\\Users\\Marios\\Jupyter_Notebooks_my_papers\\Data-driven-Causal-Discovery-for-Constructing-Fuzzy-Cognitive-Maps-An-Industrial-Case-Study\\base\\classifier.py:143: UserWarning: 2018.12.16 The instruction  'loss = loss/self.batch_size' was commented out. Due to increased gradient values check the optimizer learning rate \n",
      "  warnings.warn('2018.12.16 The instruction  \\'loss = loss/self.batch_size\\' was commented out. Due to increased gradient values check the optimizer learning rate ')\n"
     ]
    },
    {
     "name": "stdout",
     "output_type": "stream",
     "text": [
      "Learning time 5.822677373886108 sec\n",
      "\n"
     ]
    },
    {
     "data": {
      "text/plain": [
       "'Combination 65'"
      ]
     },
     "metadata": {},
     "output_type": "display_data"
    },
    {
     "name": "stdout",
     "output_type": "stream",
     "text": [
      "-----------------------------------------\n",
      "-----------------------------------------\n",
      "-----------------------------------------\n",
      "-----------------------------------------\n",
      "-----------------------------------------\n",
      "{'act': None, 'activation': 'sigmoid', 'activation_m': 1, 'batch_size': 4096, 'buffer_size': 1000, 'depth': 2, 'dropout_p': 0.0, 'epochs': 100, 'init_method': None, 'init_y_method': 'uniform', 'learning_rate': 0.001, 'model_type': 'basic', 'optimizer': 'rmsprop', 'random_state': None, 'training_hook': [], 'training_loss': 'logloss'}\n",
      "-----------------------------------------\n"
     ]
    },
    {
     "name": "stderr",
     "output_type": "stream",
     "text": [
      "C:\\Users\\Marios\\Jupyter_Notebooks_my_papers\\Data-driven-Causal-Discovery-for-Constructing-Fuzzy-Cognitive-Maps-An-Industrial-Case-Study\\base\\classifier.py:143: UserWarning: 2018.12.16 The instruction  'loss = loss/self.batch_size' was commented out. Due to increased gradient values check the optimizer learning rate \n",
      "  warnings.warn('2018.12.16 The instruction  \\'loss = loss/self.batch_size\\' was commented out. Due to increased gradient values check the optimizer learning rate ')\n"
     ]
    },
    {
     "name": "stdout",
     "output_type": "stream",
     "text": [
      "Learning time 11.788454532623291 sec\n",
      "\n"
     ]
    },
    {
     "data": {
      "text/plain": [
       "'Combination 66'"
      ]
     },
     "metadata": {},
     "output_type": "display_data"
    },
    {
     "name": "stdout",
     "output_type": "stream",
     "text": [
      "-----------------------------------------\n",
      "-----------------------------------------\n",
      "-----------------------------------------\n",
      "-----------------------------------------\n",
      "-----------------------------------------\n",
      "{'act': None, 'activation': 'sigmoid', 'activation_m': 1, 'batch_size': 4096, 'buffer_size': 1000, 'depth': 2, 'dropout_p': 0.0, 'epochs': 100, 'init_method': None, 'init_y_method': 'uniform', 'learning_rate': 0.01, 'model_type': 'basic', 'optimizer': 'rmsprop', 'random_state': None, 'training_hook': [], 'training_loss': 'logloss'}\n",
      "-----------------------------------------\n"
     ]
    },
    {
     "name": "stderr",
     "output_type": "stream",
     "text": [
      "C:\\Users\\Marios\\Jupyter_Notebooks_my_papers\\Data-driven-Causal-Discovery-for-Constructing-Fuzzy-Cognitive-Maps-An-Industrial-Case-Study\\base\\classifier.py:143: UserWarning: 2018.12.16 The instruction  'loss = loss/self.batch_size' was commented out. Due to increased gradient values check the optimizer learning rate \n",
      "  warnings.warn('2018.12.16 The instruction  \\'loss = loss/self.batch_size\\' was commented out. Due to increased gradient values check the optimizer learning rate ')\n"
     ]
    },
    {
     "name": "stdout",
     "output_type": "stream",
     "text": [
      "Learning time 11.640592575073242 sec\n",
      "\n"
     ]
    },
    {
     "data": {
      "text/plain": [
       "'Combination 67'"
      ]
     },
     "metadata": {},
     "output_type": "display_data"
    },
    {
     "name": "stdout",
     "output_type": "stream",
     "text": [
      "-----------------------------------------\n",
      "-----------------------------------------\n",
      "-----------------------------------------\n",
      "-----------------------------------------\n",
      "-----------------------------------------\n",
      "{'act': None, 'activation': 'sigmoid', 'activation_m': 1, 'batch_size': 4096, 'buffer_size': 1000, 'depth': 2, 'dropout_p': 0.0, 'epochs': 100, 'init_method': None, 'init_y_method': 'uniform', 'learning_rate': 0.05, 'model_type': 'basic', 'optimizer': 'rmsprop', 'random_state': None, 'training_hook': [], 'training_loss': 'logloss'}\n",
      "-----------------------------------------\n"
     ]
    },
    {
     "name": "stderr",
     "output_type": "stream",
     "text": [
      "C:\\Users\\Marios\\Jupyter_Notebooks_my_papers\\Data-driven-Causal-Discovery-for-Constructing-Fuzzy-Cognitive-Maps-An-Industrial-Case-Study\\base\\classifier.py:143: UserWarning: 2018.12.16 The instruction  'loss = loss/self.batch_size' was commented out. Due to increased gradient values check the optimizer learning rate \n",
      "  warnings.warn('2018.12.16 The instruction  \\'loss = loss/self.batch_size\\' was commented out. Due to increased gradient values check the optimizer learning rate ')\n"
     ]
    },
    {
     "name": "stdout",
     "output_type": "stream",
     "text": [
      "Learning time 11.619058609008789 sec\n",
      "\n"
     ]
    },
    {
     "data": {
      "text/plain": [
       "'Combination 68'"
      ]
     },
     "metadata": {},
     "output_type": "display_data"
    },
    {
     "name": "stdout",
     "output_type": "stream",
     "text": [
      "-----------------------------------------\n",
      "-----------------------------------------\n",
      "-----------------------------------------\n",
      "-----------------------------------------\n",
      "-----------------------------------------\n",
      "{'act': None, 'activation': 'sigmoid', 'activation_m': 1, 'batch_size': 4096, 'buffer_size': 1000, 'depth': 2, 'dropout_p': 0.0, 'epochs': 100, 'init_method': None, 'init_y_method': 'uniform', 'learning_rate': 0.1, 'model_type': 'basic', 'optimizer': 'rmsprop', 'random_state': None, 'training_hook': [], 'training_loss': 'logloss'}\n",
      "-----------------------------------------\n"
     ]
    },
    {
     "name": "stderr",
     "output_type": "stream",
     "text": [
      "C:\\Users\\Marios\\Jupyter_Notebooks_my_papers\\Data-driven-Causal-Discovery-for-Constructing-Fuzzy-Cognitive-Maps-An-Industrial-Case-Study\\base\\classifier.py:143: UserWarning: 2018.12.16 The instruction  'loss = loss/self.batch_size' was commented out. Due to increased gradient values check the optimizer learning rate \n",
      "  warnings.warn('2018.12.16 The instruction  \\'loss = loss/self.batch_size\\' was commented out. Due to increased gradient values check the optimizer learning rate ')\n"
     ]
    },
    {
     "name": "stdout",
     "output_type": "stream",
     "text": [
      "Learning time 11.652065753936768 sec\n",
      "\n"
     ]
    },
    {
     "data": {
      "text/plain": [
       "'Combination 69'"
      ]
     },
     "metadata": {},
     "output_type": "display_data"
    },
    {
     "name": "stdout",
     "output_type": "stream",
     "text": [
      "-----------------------------------------\n",
      "-----------------------------------------\n",
      "-----------------------------------------\n",
      "-----------------------------------------\n",
      "-----------------------------------------\n",
      "{'act': None, 'activation': 'sigmoid', 'activation_m': 1, 'batch_size': 4096, 'buffer_size': 1000, 'depth': 2, 'dropout_p': 0.0, 'epochs': 100, 'init_method': None, 'init_y_method': 'uniform', 'learning_rate': 0.5, 'model_type': 'basic', 'optimizer': 'rmsprop', 'random_state': None, 'training_hook': [], 'training_loss': 'logloss'}\n",
      "-----------------------------------------\n"
     ]
    },
    {
     "name": "stderr",
     "output_type": "stream",
     "text": [
      "C:\\Users\\Marios\\Jupyter_Notebooks_my_papers\\Data-driven-Causal-Discovery-for-Constructing-Fuzzy-Cognitive-Maps-An-Industrial-Case-Study\\base\\classifier.py:143: UserWarning: 2018.12.16 The instruction  'loss = loss/self.batch_size' was commented out. Due to increased gradient values check the optimizer learning rate \n",
      "  warnings.warn('2018.12.16 The instruction  \\'loss = loss/self.batch_size\\' was commented out. Due to increased gradient values check the optimizer learning rate ')\n"
     ]
    },
    {
     "name": "stdout",
     "output_type": "stream",
     "text": [
      "Learning time 11.641052961349487 sec\n",
      "\n"
     ]
    },
    {
     "data": {
      "text/plain": [
       "'Combination 70'"
      ]
     },
     "metadata": {},
     "output_type": "display_data"
    },
    {
     "name": "stdout",
     "output_type": "stream",
     "text": [
      "-----------------------------------------\n",
      "-----------------------------------------\n",
      "-----------------------------------------\n",
      "-----------------------------------------\n",
      "-----------------------------------------\n",
      "{'act': None, 'activation': 'sigmoid', 'activation_m': 1, 'batch_size': 4096, 'buffer_size': 1000, 'depth': 3, 'dropout_p': 0.0, 'epochs': 50, 'init_method': None, 'init_y_method': 'uniform', 'learning_rate': 0.001, 'model_type': 'basic', 'optimizer': 'rmsprop', 'random_state': None, 'training_hook': [], 'training_loss': 'logloss'}\n",
      "-----------------------------------------\n"
     ]
    },
    {
     "name": "stderr",
     "output_type": "stream",
     "text": [
      "C:\\Users\\Marios\\Jupyter_Notebooks_my_papers\\Data-driven-Causal-Discovery-for-Constructing-Fuzzy-Cognitive-Maps-An-Industrial-Case-Study\\base\\classifier.py:143: UserWarning: 2018.12.16 The instruction  'loss = loss/self.batch_size' was commented out. Due to increased gradient values check the optimizer learning rate \n",
      "  warnings.warn('2018.12.16 The instruction  \\'loss = loss/self.batch_size\\' was commented out. Due to increased gradient values check the optimizer learning rate ')\n"
     ]
    },
    {
     "name": "stdout",
     "output_type": "stream",
     "text": [
      "Learning time 6.7040605545043945 sec\n",
      "\n"
     ]
    },
    {
     "data": {
      "text/plain": [
       "'Combination 71'"
      ]
     },
     "metadata": {},
     "output_type": "display_data"
    },
    {
     "name": "stdout",
     "output_type": "stream",
     "text": [
      "-----------------------------------------\n",
      "-----------------------------------------\n",
      "-----------------------------------------\n",
      "-----------------------------------------\n",
      "-----------------------------------------\n",
      "{'act': None, 'activation': 'sigmoid', 'activation_m': 1, 'batch_size': 4096, 'buffer_size': 1000, 'depth': 3, 'dropout_p': 0.0, 'epochs': 50, 'init_method': None, 'init_y_method': 'uniform', 'learning_rate': 0.01, 'model_type': 'basic', 'optimizer': 'rmsprop', 'random_state': None, 'training_hook': [], 'training_loss': 'logloss'}\n",
      "-----------------------------------------\n"
     ]
    },
    {
     "name": "stderr",
     "output_type": "stream",
     "text": [
      "C:\\Users\\Marios\\Jupyter_Notebooks_my_papers\\Data-driven-Causal-Discovery-for-Constructing-Fuzzy-Cognitive-Maps-An-Industrial-Case-Study\\base\\classifier.py:143: UserWarning: 2018.12.16 The instruction  'loss = loss/self.batch_size' was commented out. Due to increased gradient values check the optimizer learning rate \n",
      "  warnings.warn('2018.12.16 The instruction  \\'loss = loss/self.batch_size\\' was commented out. Due to increased gradient values check the optimizer learning rate ')\n"
     ]
    },
    {
     "name": "stdout",
     "output_type": "stream",
     "text": [
      "Learning time 6.6717848777771 sec\n",
      "\n"
     ]
    },
    {
     "data": {
      "text/plain": [
       "'Combination 72'"
      ]
     },
     "metadata": {},
     "output_type": "display_data"
    },
    {
     "name": "stdout",
     "output_type": "stream",
     "text": [
      "-----------------------------------------\n",
      "-----------------------------------------\n",
      "-----------------------------------------\n",
      "-----------------------------------------\n",
      "-----------------------------------------\n",
      "{'act': None, 'activation': 'sigmoid', 'activation_m': 1, 'batch_size': 4096, 'buffer_size': 1000, 'depth': 3, 'dropout_p': 0.0, 'epochs': 50, 'init_method': None, 'init_y_method': 'uniform', 'learning_rate': 0.05, 'model_type': 'basic', 'optimizer': 'rmsprop', 'random_state': None, 'training_hook': [], 'training_loss': 'logloss'}\n",
      "-----------------------------------------\n"
     ]
    },
    {
     "name": "stderr",
     "output_type": "stream",
     "text": [
      "C:\\Users\\Marios\\Jupyter_Notebooks_my_papers\\Data-driven-Causal-Discovery-for-Constructing-Fuzzy-Cognitive-Maps-An-Industrial-Case-Study\\base\\classifier.py:143: UserWarning: 2018.12.16 The instruction  'loss = loss/self.batch_size' was commented out. Due to increased gradient values check the optimizer learning rate \n",
      "  warnings.warn('2018.12.16 The instruction  \\'loss = loss/self.batch_size\\' was commented out. Due to increased gradient values check the optimizer learning rate ')\n"
     ]
    },
    {
     "name": "stdout",
     "output_type": "stream",
     "text": [
      "Learning time 6.669399738311768 sec\n",
      "\n"
     ]
    },
    {
     "data": {
      "text/plain": [
       "'Combination 73'"
      ]
     },
     "metadata": {},
     "output_type": "display_data"
    },
    {
     "name": "stdout",
     "output_type": "stream",
     "text": [
      "-----------------------------------------\n",
      "-----------------------------------------\n",
      "-----------------------------------------\n",
      "-----------------------------------------\n",
      "-----------------------------------------\n",
      "{'act': None, 'activation': 'sigmoid', 'activation_m': 1, 'batch_size': 4096, 'buffer_size': 1000, 'depth': 3, 'dropout_p': 0.0, 'epochs': 50, 'init_method': None, 'init_y_method': 'uniform', 'learning_rate': 0.1, 'model_type': 'basic', 'optimizer': 'rmsprop', 'random_state': None, 'training_hook': [], 'training_loss': 'logloss'}\n",
      "-----------------------------------------\n"
     ]
    },
    {
     "name": "stderr",
     "output_type": "stream",
     "text": [
      "C:\\Users\\Marios\\Jupyter_Notebooks_my_papers\\Data-driven-Causal-Discovery-for-Constructing-Fuzzy-Cognitive-Maps-An-Industrial-Case-Study\\base\\classifier.py:143: UserWarning: 2018.12.16 The instruction  'loss = loss/self.batch_size' was commented out. Due to increased gradient values check the optimizer learning rate \n",
      "  warnings.warn('2018.12.16 The instruction  \\'loss = loss/self.batch_size\\' was commented out. Due to increased gradient values check the optimizer learning rate ')\n"
     ]
    },
    {
     "name": "stdout",
     "output_type": "stream",
     "text": [
      "Learning time 6.657147169113159 sec\n",
      "\n"
     ]
    },
    {
     "data": {
      "text/plain": [
       "'Combination 74'"
      ]
     },
     "metadata": {},
     "output_type": "display_data"
    },
    {
     "name": "stdout",
     "output_type": "stream",
     "text": [
      "-----------------------------------------\n",
      "-----------------------------------------\n",
      "-----------------------------------------\n",
      "-----------------------------------------\n",
      "-----------------------------------------\n",
      "{'act': None, 'activation': 'sigmoid', 'activation_m': 1, 'batch_size': 4096, 'buffer_size': 1000, 'depth': 3, 'dropout_p': 0.0, 'epochs': 50, 'init_method': None, 'init_y_method': 'uniform', 'learning_rate': 0.5, 'model_type': 'basic', 'optimizer': 'rmsprop', 'random_state': None, 'training_hook': [], 'training_loss': 'logloss'}\n",
      "-----------------------------------------\n"
     ]
    },
    {
     "name": "stderr",
     "output_type": "stream",
     "text": [
      "C:\\Users\\Marios\\Jupyter_Notebooks_my_papers\\Data-driven-Causal-Discovery-for-Constructing-Fuzzy-Cognitive-Maps-An-Industrial-Case-Study\\base\\classifier.py:143: UserWarning: 2018.12.16 The instruction  'loss = loss/self.batch_size' was commented out. Due to increased gradient values check the optimizer learning rate \n",
      "  warnings.warn('2018.12.16 The instruction  \\'loss = loss/self.batch_size\\' was commented out. Due to increased gradient values check the optimizer learning rate ')\n"
     ]
    },
    {
     "name": "stdout",
     "output_type": "stream",
     "text": [
      "Learning time 6.646857023239136 sec\n",
      "\n"
     ]
    },
    {
     "data": {
      "text/plain": [
       "'Combination 75'"
      ]
     },
     "metadata": {},
     "output_type": "display_data"
    },
    {
     "name": "stdout",
     "output_type": "stream",
     "text": [
      "-----------------------------------------\n",
      "-----------------------------------------\n",
      "-----------------------------------------\n",
      "-----------------------------------------\n",
      "-----------------------------------------\n",
      "{'act': None, 'activation': 'sigmoid', 'activation_m': 1, 'batch_size': 4096, 'buffer_size': 1000, 'depth': 3, 'dropout_p': 0.0, 'epochs': 100, 'init_method': None, 'init_y_method': 'uniform', 'learning_rate': 0.001, 'model_type': 'basic', 'optimizer': 'rmsprop', 'random_state': None, 'training_hook': [], 'training_loss': 'logloss'}\n",
      "-----------------------------------------\n"
     ]
    },
    {
     "name": "stderr",
     "output_type": "stream",
     "text": [
      "C:\\Users\\Marios\\Jupyter_Notebooks_my_papers\\Data-driven-Causal-Discovery-for-Constructing-Fuzzy-Cognitive-Maps-An-Industrial-Case-Study\\base\\classifier.py:143: UserWarning: 2018.12.16 The instruction  'loss = loss/self.batch_size' was commented out. Due to increased gradient values check the optimizer learning rate \n",
      "  warnings.warn('2018.12.16 The instruction  \\'loss = loss/self.batch_size\\' was commented out. Due to increased gradient values check the optimizer learning rate ')\n"
     ]
    },
    {
     "name": "stdout",
     "output_type": "stream",
     "text": [
      "Learning time 13.373479127883911 sec\n",
      "\n"
     ]
    },
    {
     "data": {
      "text/plain": [
       "'Combination 76'"
      ]
     },
     "metadata": {},
     "output_type": "display_data"
    },
    {
     "name": "stdout",
     "output_type": "stream",
     "text": [
      "-----------------------------------------\n",
      "-----------------------------------------\n",
      "-----------------------------------------\n",
      "-----------------------------------------\n",
      "-----------------------------------------\n",
      "{'act': None, 'activation': 'sigmoid', 'activation_m': 1, 'batch_size': 4096, 'buffer_size': 1000, 'depth': 3, 'dropout_p': 0.0, 'epochs': 100, 'init_method': None, 'init_y_method': 'uniform', 'learning_rate': 0.01, 'model_type': 'basic', 'optimizer': 'rmsprop', 'random_state': None, 'training_hook': [], 'training_loss': 'logloss'}\n",
      "-----------------------------------------\n"
     ]
    },
    {
     "name": "stderr",
     "output_type": "stream",
     "text": [
      "C:\\Users\\Marios\\Jupyter_Notebooks_my_papers\\Data-driven-Causal-Discovery-for-Constructing-Fuzzy-Cognitive-Maps-An-Industrial-Case-Study\\base\\classifier.py:143: UserWarning: 2018.12.16 The instruction  'loss = loss/self.batch_size' was commented out. Due to increased gradient values check the optimizer learning rate \n",
      "  warnings.warn('2018.12.16 The instruction  \\'loss = loss/self.batch_size\\' was commented out. Due to increased gradient values check the optimizer learning rate ')\n"
     ]
    },
    {
     "name": "stdout",
     "output_type": "stream",
     "text": [
      "Learning time 13.335426568984985 sec\n",
      "\n"
     ]
    },
    {
     "data": {
      "text/plain": [
       "'Combination 77'"
      ]
     },
     "metadata": {},
     "output_type": "display_data"
    },
    {
     "name": "stdout",
     "output_type": "stream",
     "text": [
      "-----------------------------------------\n",
      "-----------------------------------------\n",
      "-----------------------------------------\n",
      "-----------------------------------------\n",
      "-----------------------------------------\n",
      "{'act': None, 'activation': 'sigmoid', 'activation_m': 1, 'batch_size': 4096, 'buffer_size': 1000, 'depth': 3, 'dropout_p': 0.0, 'epochs': 100, 'init_method': None, 'init_y_method': 'uniform', 'learning_rate': 0.05, 'model_type': 'basic', 'optimizer': 'rmsprop', 'random_state': None, 'training_hook': [], 'training_loss': 'logloss'}\n",
      "-----------------------------------------\n"
     ]
    },
    {
     "name": "stderr",
     "output_type": "stream",
     "text": [
      "C:\\Users\\Marios\\Jupyter_Notebooks_my_papers\\Data-driven-Causal-Discovery-for-Constructing-Fuzzy-Cognitive-Maps-An-Industrial-Case-Study\\base\\classifier.py:143: UserWarning: 2018.12.16 The instruction  'loss = loss/self.batch_size' was commented out. Due to increased gradient values check the optimizer learning rate \n",
      "  warnings.warn('2018.12.16 The instruction  \\'loss = loss/self.batch_size\\' was commented out. Due to increased gradient values check the optimizer learning rate ')\n"
     ]
    },
    {
     "name": "stdout",
     "output_type": "stream",
     "text": [
      "Learning time 13.343769311904907 sec\n",
      "\n"
     ]
    },
    {
     "data": {
      "text/plain": [
       "'Combination 78'"
      ]
     },
     "metadata": {},
     "output_type": "display_data"
    },
    {
     "name": "stdout",
     "output_type": "stream",
     "text": [
      "-----------------------------------------\n",
      "-----------------------------------------\n",
      "-----------------------------------------\n",
      "-----------------------------------------\n",
      "-----------------------------------------\n",
      "{'act': None, 'activation': 'sigmoid', 'activation_m': 1, 'batch_size': 4096, 'buffer_size': 1000, 'depth': 3, 'dropout_p': 0.0, 'epochs': 100, 'init_method': None, 'init_y_method': 'uniform', 'learning_rate': 0.1, 'model_type': 'basic', 'optimizer': 'rmsprop', 'random_state': None, 'training_hook': [], 'training_loss': 'logloss'}\n",
      "-----------------------------------------\n"
     ]
    },
    {
     "name": "stderr",
     "output_type": "stream",
     "text": [
      "C:\\Users\\Marios\\Jupyter_Notebooks_my_papers\\Data-driven-Causal-Discovery-for-Constructing-Fuzzy-Cognitive-Maps-An-Industrial-Case-Study\\base\\classifier.py:143: UserWarning: 2018.12.16 The instruction  'loss = loss/self.batch_size' was commented out. Due to increased gradient values check the optimizer learning rate \n",
      "  warnings.warn('2018.12.16 The instruction  \\'loss = loss/self.batch_size\\' was commented out. Due to increased gradient values check the optimizer learning rate ')\n"
     ]
    },
    {
     "name": "stdout",
     "output_type": "stream",
     "text": [
      "Learning time 13.5487380027771 sec\n",
      "\n"
     ]
    },
    {
     "data": {
      "text/plain": [
       "'Combination 79'"
      ]
     },
     "metadata": {},
     "output_type": "display_data"
    },
    {
     "name": "stdout",
     "output_type": "stream",
     "text": [
      "-----------------------------------------\n",
      "-----------------------------------------\n",
      "-----------------------------------------\n",
      "-----------------------------------------\n",
      "-----------------------------------------\n",
      "{'act': None, 'activation': 'sigmoid', 'activation_m': 1, 'batch_size': 4096, 'buffer_size': 1000, 'depth': 3, 'dropout_p': 0.0, 'epochs': 100, 'init_method': None, 'init_y_method': 'uniform', 'learning_rate': 0.5, 'model_type': 'basic', 'optimizer': 'rmsprop', 'random_state': None, 'training_hook': [], 'training_loss': 'logloss'}\n",
      "-----------------------------------------\n"
     ]
    },
    {
     "name": "stderr",
     "output_type": "stream",
     "text": [
      "C:\\Users\\Marios\\Jupyter_Notebooks_my_papers\\Data-driven-Causal-Discovery-for-Constructing-Fuzzy-Cognitive-Maps-An-Industrial-Case-Study\\base\\classifier.py:143: UserWarning: 2018.12.16 The instruction  'loss = loss/self.batch_size' was commented out. Due to increased gradient values check the optimizer learning rate \n",
      "  warnings.warn('2018.12.16 The instruction  \\'loss = loss/self.batch_size\\' was commented out. Due to increased gradient values check the optimizer learning rate ')\n"
     ]
    },
    {
     "name": "stdout",
     "output_type": "stream",
     "text": [
      "Learning time 13.363215923309326 sec\n",
      "\n"
     ]
    },
    {
     "data": {
      "text/plain": [
       "'Combination 80'"
      ]
     },
     "metadata": {},
     "output_type": "display_data"
    },
    {
     "name": "stdout",
     "output_type": "stream",
     "text": [
      "-----------------------------------------\n",
      "-----------------------------------------\n",
      "-----------------------------------------\n",
      "-----------------------------------------\n",
      "-----------------------------------------\n",
      "{'act': None, 'activation': 'sigmoid', 'activation_m': 1, 'batch_size': 4096, 'buffer_size': 1000, 'depth': 5, 'dropout_p': 0.0, 'epochs': 50, 'init_method': None, 'init_y_method': 'uniform', 'learning_rate': 0.001, 'model_type': 'basic', 'optimizer': 'rmsprop', 'random_state': None, 'training_hook': [], 'training_loss': 'logloss'}\n",
      "-----------------------------------------\n"
     ]
    },
    {
     "name": "stderr",
     "output_type": "stream",
     "text": [
      "C:\\Users\\Marios\\Jupyter_Notebooks_my_papers\\Data-driven-Causal-Discovery-for-Constructing-Fuzzy-Cognitive-Maps-An-Industrial-Case-Study\\base\\classifier.py:143: UserWarning: 2018.12.16 The instruction  'loss = loss/self.batch_size' was commented out. Due to increased gradient values check the optimizer learning rate \n",
      "  warnings.warn('2018.12.16 The instruction  \\'loss = loss/self.batch_size\\' was commented out. Due to increased gradient values check the optimizer learning rate ')\n"
     ]
    },
    {
     "name": "stdout",
     "output_type": "stream",
     "text": [
      "Learning time 8.33418083190918 sec\n",
      "\n"
     ]
    },
    {
     "data": {
      "text/plain": [
       "'Combination 81'"
      ]
     },
     "metadata": {},
     "output_type": "display_data"
    },
    {
     "name": "stdout",
     "output_type": "stream",
     "text": [
      "-----------------------------------------\n",
      "-----------------------------------------\n",
      "-----------------------------------------\n",
      "-----------------------------------------\n",
      "-----------------------------------------\n",
      "{'act': None, 'activation': 'sigmoid', 'activation_m': 1, 'batch_size': 4096, 'buffer_size': 1000, 'depth': 5, 'dropout_p': 0.0, 'epochs': 50, 'init_method': None, 'init_y_method': 'uniform', 'learning_rate': 0.01, 'model_type': 'basic', 'optimizer': 'rmsprop', 'random_state': None, 'training_hook': [], 'training_loss': 'logloss'}\n",
      "-----------------------------------------\n"
     ]
    },
    {
     "name": "stderr",
     "output_type": "stream",
     "text": [
      "C:\\Users\\Marios\\Jupyter_Notebooks_my_papers\\Data-driven-Causal-Discovery-for-Constructing-Fuzzy-Cognitive-Maps-An-Industrial-Case-Study\\base\\classifier.py:143: UserWarning: 2018.12.16 The instruction  'loss = loss/self.batch_size' was commented out. Due to increased gradient values check the optimizer learning rate \n",
      "  warnings.warn('2018.12.16 The instruction  \\'loss = loss/self.batch_size\\' was commented out. Due to increased gradient values check the optimizer learning rate ')\n"
     ]
    },
    {
     "name": "stdout",
     "output_type": "stream",
     "text": [
      "Learning time 8.33569073677063 sec\n",
      "\n"
     ]
    },
    {
     "data": {
      "text/plain": [
       "'Combination 82'"
      ]
     },
     "metadata": {},
     "output_type": "display_data"
    },
    {
     "name": "stdout",
     "output_type": "stream",
     "text": [
      "-----------------------------------------\n",
      "-----------------------------------------\n",
      "-----------------------------------------\n",
      "-----------------------------------------\n",
      "-----------------------------------------\n",
      "{'act': None, 'activation': 'sigmoid', 'activation_m': 1, 'batch_size': 4096, 'buffer_size': 1000, 'depth': 5, 'dropout_p': 0.0, 'epochs': 50, 'init_method': None, 'init_y_method': 'uniform', 'learning_rate': 0.05, 'model_type': 'basic', 'optimizer': 'rmsprop', 'random_state': None, 'training_hook': [], 'training_loss': 'logloss'}\n",
      "-----------------------------------------\n"
     ]
    },
    {
     "name": "stderr",
     "output_type": "stream",
     "text": [
      "C:\\Users\\Marios\\Jupyter_Notebooks_my_papers\\Data-driven-Causal-Discovery-for-Constructing-Fuzzy-Cognitive-Maps-An-Industrial-Case-Study\\base\\classifier.py:143: UserWarning: 2018.12.16 The instruction  'loss = loss/self.batch_size' was commented out. Due to increased gradient values check the optimizer learning rate \n",
      "  warnings.warn('2018.12.16 The instruction  \\'loss = loss/self.batch_size\\' was commented out. Due to increased gradient values check the optimizer learning rate ')\n"
     ]
    },
    {
     "name": "stdout",
     "output_type": "stream",
     "text": [
      "Learning time 8.35939645767212 sec\n",
      "\n"
     ]
    },
    {
     "data": {
      "text/plain": [
       "'Combination 83'"
      ]
     },
     "metadata": {},
     "output_type": "display_data"
    },
    {
     "name": "stdout",
     "output_type": "stream",
     "text": [
      "-----------------------------------------\n",
      "-----------------------------------------\n",
      "-----------------------------------------\n",
      "-----------------------------------------\n",
      "-----------------------------------------\n",
      "{'act': None, 'activation': 'sigmoid', 'activation_m': 1, 'batch_size': 4096, 'buffer_size': 1000, 'depth': 5, 'dropout_p': 0.0, 'epochs': 50, 'init_method': None, 'init_y_method': 'uniform', 'learning_rate': 0.1, 'model_type': 'basic', 'optimizer': 'rmsprop', 'random_state': None, 'training_hook': [], 'training_loss': 'logloss'}\n",
      "-----------------------------------------\n"
     ]
    },
    {
     "name": "stderr",
     "output_type": "stream",
     "text": [
      "C:\\Users\\Marios\\Jupyter_Notebooks_my_papers\\Data-driven-Causal-Discovery-for-Constructing-Fuzzy-Cognitive-Maps-An-Industrial-Case-Study\\base\\classifier.py:143: UserWarning: 2018.12.16 The instruction  'loss = loss/self.batch_size' was commented out. Due to increased gradient values check the optimizer learning rate \n",
      "  warnings.warn('2018.12.16 The instruction  \\'loss = loss/self.batch_size\\' was commented out. Due to increased gradient values check the optimizer learning rate ')\n"
     ]
    },
    {
     "name": "stdout",
     "output_type": "stream",
     "text": [
      "Learning time 8.315220832824707 sec\n",
      "\n"
     ]
    },
    {
     "data": {
      "text/plain": [
       "'Combination 84'"
      ]
     },
     "metadata": {},
     "output_type": "display_data"
    },
    {
     "name": "stdout",
     "output_type": "stream",
     "text": [
      "-----------------------------------------\n",
      "-----------------------------------------\n",
      "-----------------------------------------\n",
      "-----------------------------------------\n",
      "-----------------------------------------\n",
      "{'act': None, 'activation': 'sigmoid', 'activation_m': 1, 'batch_size': 4096, 'buffer_size': 1000, 'depth': 5, 'dropout_p': 0.0, 'epochs': 50, 'init_method': None, 'init_y_method': 'uniform', 'learning_rate': 0.5, 'model_type': 'basic', 'optimizer': 'rmsprop', 'random_state': None, 'training_hook': [], 'training_loss': 'logloss'}\n",
      "-----------------------------------------\n"
     ]
    },
    {
     "name": "stderr",
     "output_type": "stream",
     "text": [
      "C:\\Users\\Marios\\Jupyter_Notebooks_my_papers\\Data-driven-Causal-Discovery-for-Constructing-Fuzzy-Cognitive-Maps-An-Industrial-Case-Study\\base\\classifier.py:143: UserWarning: 2018.12.16 The instruction  'loss = loss/self.batch_size' was commented out. Due to increased gradient values check the optimizer learning rate \n",
      "  warnings.warn('2018.12.16 The instruction  \\'loss = loss/self.batch_size\\' was commented out. Due to increased gradient values check the optimizer learning rate ')\n"
     ]
    },
    {
     "name": "stdout",
     "output_type": "stream",
     "text": [
      "Learning time 8.52244758605957 sec\n",
      "\n"
     ]
    },
    {
     "data": {
      "text/plain": [
       "'Combination 85'"
      ]
     },
     "metadata": {},
     "output_type": "display_data"
    },
    {
     "name": "stdout",
     "output_type": "stream",
     "text": [
      "-----------------------------------------\n",
      "-----------------------------------------\n",
      "-----------------------------------------\n",
      "-----------------------------------------\n",
      "-----------------------------------------\n",
      "{'act': None, 'activation': 'sigmoid', 'activation_m': 1, 'batch_size': 4096, 'buffer_size': 1000, 'depth': 5, 'dropout_p': 0.0, 'epochs': 100, 'init_method': None, 'init_y_method': 'uniform', 'learning_rate': 0.001, 'model_type': 'basic', 'optimizer': 'rmsprop', 'random_state': None, 'training_hook': [], 'training_loss': 'logloss'}\n",
      "-----------------------------------------\n"
     ]
    },
    {
     "name": "stderr",
     "output_type": "stream",
     "text": [
      "C:\\Users\\Marios\\Jupyter_Notebooks_my_papers\\Data-driven-Causal-Discovery-for-Constructing-Fuzzy-Cognitive-Maps-An-Industrial-Case-Study\\base\\classifier.py:143: UserWarning: 2018.12.16 The instruction  'loss = loss/self.batch_size' was commented out. Due to increased gradient values check the optimizer learning rate \n",
      "  warnings.warn('2018.12.16 The instruction  \\'loss = loss/self.batch_size\\' was commented out. Due to increased gradient values check the optimizer learning rate ')\n"
     ]
    },
    {
     "name": "stdout",
     "output_type": "stream",
     "text": [
      "Learning time 16.639545917510986 sec\n",
      "\n"
     ]
    },
    {
     "data": {
      "text/plain": [
       "'Combination 86'"
      ]
     },
     "metadata": {},
     "output_type": "display_data"
    },
    {
     "name": "stdout",
     "output_type": "stream",
     "text": [
      "-----------------------------------------\n",
      "-----------------------------------------\n",
      "-----------------------------------------\n",
      "-----------------------------------------\n",
      "-----------------------------------------\n",
      "{'act': None, 'activation': 'sigmoid', 'activation_m': 1, 'batch_size': 4096, 'buffer_size': 1000, 'depth': 5, 'dropout_p': 0.0, 'epochs': 100, 'init_method': None, 'init_y_method': 'uniform', 'learning_rate': 0.01, 'model_type': 'basic', 'optimizer': 'rmsprop', 'random_state': None, 'training_hook': [], 'training_loss': 'logloss'}\n",
      "-----------------------------------------\n"
     ]
    },
    {
     "name": "stderr",
     "output_type": "stream",
     "text": [
      "C:\\Users\\Marios\\Jupyter_Notebooks_my_papers\\Data-driven-Causal-Discovery-for-Constructing-Fuzzy-Cognitive-Maps-An-Industrial-Case-Study\\base\\classifier.py:143: UserWarning: 2018.12.16 The instruction  'loss = loss/self.batch_size' was commented out. Due to increased gradient values check the optimizer learning rate \n",
      "  warnings.warn('2018.12.16 The instruction  \\'loss = loss/self.batch_size\\' was commented out. Due to increased gradient values check the optimizer learning rate ')\n"
     ]
    },
    {
     "name": "stdout",
     "output_type": "stream",
     "text": [
      "Learning time 16.69877576828003 sec\n",
      "\n"
     ]
    },
    {
     "data": {
      "text/plain": [
       "'Combination 87'"
      ]
     },
     "metadata": {},
     "output_type": "display_data"
    },
    {
     "name": "stdout",
     "output_type": "stream",
     "text": [
      "-----------------------------------------\n",
      "-----------------------------------------\n",
      "-----------------------------------------\n",
      "-----------------------------------------\n",
      "-----------------------------------------\n",
      "{'act': None, 'activation': 'sigmoid', 'activation_m': 1, 'batch_size': 4096, 'buffer_size': 1000, 'depth': 5, 'dropout_p': 0.0, 'epochs': 100, 'init_method': None, 'init_y_method': 'uniform', 'learning_rate': 0.05, 'model_type': 'basic', 'optimizer': 'rmsprop', 'random_state': None, 'training_hook': [], 'training_loss': 'logloss'}\n",
      "-----------------------------------------\n"
     ]
    },
    {
     "name": "stderr",
     "output_type": "stream",
     "text": [
      "C:\\Users\\Marios\\Jupyter_Notebooks_my_papers\\Data-driven-Causal-Discovery-for-Constructing-Fuzzy-Cognitive-Maps-An-Industrial-Case-Study\\base\\classifier.py:143: UserWarning: 2018.12.16 The instruction  'loss = loss/self.batch_size' was commented out. Due to increased gradient values check the optimizer learning rate \n",
      "  warnings.warn('2018.12.16 The instruction  \\'loss = loss/self.batch_size\\' was commented out. Due to increased gradient values check the optimizer learning rate ')\n"
     ]
    },
    {
     "name": "stdout",
     "output_type": "stream",
     "text": [
      "Learning time 16.680166721343994 sec\n",
      "\n"
     ]
    },
    {
     "data": {
      "text/plain": [
       "'Combination 88'"
      ]
     },
     "metadata": {},
     "output_type": "display_data"
    },
    {
     "name": "stdout",
     "output_type": "stream",
     "text": [
      "-----------------------------------------\n",
      "-----------------------------------------\n",
      "-----------------------------------------\n",
      "-----------------------------------------\n",
      "-----------------------------------------\n",
      "{'act': None, 'activation': 'sigmoid', 'activation_m': 1, 'batch_size': 4096, 'buffer_size': 1000, 'depth': 5, 'dropout_p': 0.0, 'epochs': 100, 'init_method': None, 'init_y_method': 'uniform', 'learning_rate': 0.1, 'model_type': 'basic', 'optimizer': 'rmsprop', 'random_state': None, 'training_hook': [], 'training_loss': 'logloss'}\n",
      "-----------------------------------------\n"
     ]
    },
    {
     "name": "stderr",
     "output_type": "stream",
     "text": [
      "C:\\Users\\Marios\\Jupyter_Notebooks_my_papers\\Data-driven-Causal-Discovery-for-Constructing-Fuzzy-Cognitive-Maps-An-Industrial-Case-Study\\base\\classifier.py:143: UserWarning: 2018.12.16 The instruction  'loss = loss/self.batch_size' was commented out. Due to increased gradient values check the optimizer learning rate \n",
      "  warnings.warn('2018.12.16 The instruction  \\'loss = loss/self.batch_size\\' was commented out. Due to increased gradient values check the optimizer learning rate ')\n"
     ]
    },
    {
     "name": "stdout",
     "output_type": "stream",
     "text": [
      "Learning time 16.637813806533813 sec\n",
      "\n"
     ]
    },
    {
     "data": {
      "text/plain": [
       "'Combination 89'"
      ]
     },
     "metadata": {},
     "output_type": "display_data"
    },
    {
     "name": "stdout",
     "output_type": "stream",
     "text": [
      "-----------------------------------------\n",
      "-----------------------------------------\n",
      "-----------------------------------------\n",
      "-----------------------------------------\n",
      "-----------------------------------------\n",
      "{'act': None, 'activation': 'sigmoid', 'activation_m': 1, 'batch_size': 4096, 'buffer_size': 1000, 'depth': 5, 'dropout_p': 0.0, 'epochs': 100, 'init_method': None, 'init_y_method': 'uniform', 'learning_rate': 0.5, 'model_type': 'basic', 'optimizer': 'rmsprop', 'random_state': None, 'training_hook': [], 'training_loss': 'logloss'}\n",
      "-----------------------------------------\n"
     ]
    },
    {
     "name": "stderr",
     "output_type": "stream",
     "text": [
      "C:\\Users\\Marios\\Jupyter_Notebooks_my_papers\\Data-driven-Causal-Discovery-for-Constructing-Fuzzy-Cognitive-Maps-An-Industrial-Case-Study\\base\\classifier.py:143: UserWarning: 2018.12.16 The instruction  'loss = loss/self.batch_size' was commented out. Due to increased gradient values check the optimizer learning rate \n",
      "  warnings.warn('2018.12.16 The instruction  \\'loss = loss/self.batch_size\\' was commented out. Due to increased gradient values check the optimizer learning rate ')\n"
     ]
    },
    {
     "name": "stdout",
     "output_type": "stream",
     "text": [
      "Learning time 16.664499759674072 sec\n",
      "\n"
     ]
    },
    {
     "data": {
      "text/plain": [
       "'Combination 90'"
      ]
     },
     "metadata": {},
     "output_type": "display_data"
    },
    {
     "name": "stdout",
     "output_type": "stream",
     "text": [
      "-----------------------------------------\n",
      "-----------------------------------------\n",
      "-----------------------------------------\n",
      "-----------------------------------------\n",
      "-----------------------------------------\n",
      "{'act': None, 'activation': 'sigmoid', 'activation_m': 1, 'batch_size': -1, 'buffer_size': 1000, 'depth': 2, 'dropout_p': 0.0, 'epochs': 50, 'init_method': None, 'init_y_method': 'uniform', 'learning_rate': 0.001, 'model_type': 'basic', 'optimizer': 'rmsprop', 'random_state': None, 'training_hook': [], 'training_loss': 'logloss'}\n",
      "-----------------------------------------\n"
     ]
    },
    {
     "name": "stderr",
     "output_type": "stream",
     "text": [
      "C:\\Users\\Marios\\Jupyter_Notebooks_my_papers\\Data-driven-Causal-Discovery-for-Constructing-Fuzzy-Cognitive-Maps-An-Industrial-Case-Study\\base\\classifier.py:143: UserWarning: 2018.12.16 The instruction  'loss = loss/self.batch_size' was commented out. Due to increased gradient values check the optimizer learning rate \n",
      "  warnings.warn('2018.12.16 The instruction  \\'loss = loss/self.batch_size\\' was commented out. Due to increased gradient values check the optimizer learning rate ')\n"
     ]
    },
    {
     "name": "stdout",
     "output_type": "stream",
     "text": [
      "Learning time 4.574265718460083 sec\n",
      "\n"
     ]
    },
    {
     "data": {
      "text/plain": [
       "'Combination 91'"
      ]
     },
     "metadata": {},
     "output_type": "display_data"
    },
    {
     "name": "stdout",
     "output_type": "stream",
     "text": [
      "-----------------------------------------\n",
      "-----------------------------------------\n",
      "-----------------------------------------\n",
      "-----------------------------------------\n",
      "-----------------------------------------\n",
      "{'act': None, 'activation': 'sigmoid', 'activation_m': 1, 'batch_size': -1, 'buffer_size': 1000, 'depth': 2, 'dropout_p': 0.0, 'epochs': 50, 'init_method': None, 'init_y_method': 'uniform', 'learning_rate': 0.01, 'model_type': 'basic', 'optimizer': 'rmsprop', 'random_state': None, 'training_hook': [], 'training_loss': 'logloss'}\n",
      "-----------------------------------------\n"
     ]
    },
    {
     "name": "stderr",
     "output_type": "stream",
     "text": [
      "C:\\Users\\Marios\\Jupyter_Notebooks_my_papers\\Data-driven-Causal-Discovery-for-Constructing-Fuzzy-Cognitive-Maps-An-Industrial-Case-Study\\base\\classifier.py:143: UserWarning: 2018.12.16 The instruction  'loss = loss/self.batch_size' was commented out. Due to increased gradient values check the optimizer learning rate \n",
      "  warnings.warn('2018.12.16 The instruction  \\'loss = loss/self.batch_size\\' was commented out. Due to increased gradient values check the optimizer learning rate ')\n"
     ]
    },
    {
     "name": "stdout",
     "output_type": "stream",
     "text": [
      "Learning time 4.596798896789551 sec\n",
      "\n"
     ]
    },
    {
     "data": {
      "text/plain": [
       "'Combination 92'"
      ]
     },
     "metadata": {},
     "output_type": "display_data"
    },
    {
     "name": "stdout",
     "output_type": "stream",
     "text": [
      "-----------------------------------------\n",
      "-----------------------------------------\n",
      "-----------------------------------------\n",
      "-----------------------------------------\n",
      "-----------------------------------------\n",
      "{'act': None, 'activation': 'sigmoid', 'activation_m': 1, 'batch_size': -1, 'buffer_size': 1000, 'depth': 2, 'dropout_p': 0.0, 'epochs': 50, 'init_method': None, 'init_y_method': 'uniform', 'learning_rate': 0.05, 'model_type': 'basic', 'optimizer': 'rmsprop', 'random_state': None, 'training_hook': [], 'training_loss': 'logloss'}\n",
      "-----------------------------------------\n"
     ]
    },
    {
     "name": "stderr",
     "output_type": "stream",
     "text": [
      "C:\\Users\\Marios\\Jupyter_Notebooks_my_papers\\Data-driven-Causal-Discovery-for-Constructing-Fuzzy-Cognitive-Maps-An-Industrial-Case-Study\\base\\classifier.py:143: UserWarning: 2018.12.16 The instruction  'loss = loss/self.batch_size' was commented out. Due to increased gradient values check the optimizer learning rate \n",
      "  warnings.warn('2018.12.16 The instruction  \\'loss = loss/self.batch_size\\' was commented out. Due to increased gradient values check the optimizer learning rate ')\n"
     ]
    },
    {
     "name": "stdout",
     "output_type": "stream",
     "text": [
      "Learning time 4.573678016662598 sec\n",
      "\n"
     ]
    },
    {
     "data": {
      "text/plain": [
       "'Combination 93'"
      ]
     },
     "metadata": {},
     "output_type": "display_data"
    },
    {
     "name": "stdout",
     "output_type": "stream",
     "text": [
      "-----------------------------------------\n",
      "-----------------------------------------\n",
      "-----------------------------------------\n",
      "-----------------------------------------\n",
      "-----------------------------------------\n",
      "{'act': None, 'activation': 'sigmoid', 'activation_m': 1, 'batch_size': -1, 'buffer_size': 1000, 'depth': 2, 'dropout_p': 0.0, 'epochs': 50, 'init_method': None, 'init_y_method': 'uniform', 'learning_rate': 0.1, 'model_type': 'basic', 'optimizer': 'rmsprop', 'random_state': None, 'training_hook': [], 'training_loss': 'logloss'}\n",
      "-----------------------------------------\n"
     ]
    },
    {
     "name": "stderr",
     "output_type": "stream",
     "text": [
      "C:\\Users\\Marios\\Jupyter_Notebooks_my_papers\\Data-driven-Causal-Discovery-for-Constructing-Fuzzy-Cognitive-Maps-An-Industrial-Case-Study\\base\\classifier.py:143: UserWarning: 2018.12.16 The instruction  'loss = loss/self.batch_size' was commented out. Due to increased gradient values check the optimizer learning rate \n",
      "  warnings.warn('2018.12.16 The instruction  \\'loss = loss/self.batch_size\\' was commented out. Due to increased gradient values check the optimizer learning rate ')\n"
     ]
    },
    {
     "name": "stdout",
     "output_type": "stream",
     "text": [
      "Learning time 4.598093271255493 sec\n",
      "\n"
     ]
    },
    {
     "data": {
      "text/plain": [
       "'Combination 94'"
      ]
     },
     "metadata": {},
     "output_type": "display_data"
    },
    {
     "name": "stdout",
     "output_type": "stream",
     "text": [
      "-----------------------------------------\n",
      "-----------------------------------------\n",
      "-----------------------------------------\n",
      "-----------------------------------------\n",
      "-----------------------------------------\n",
      "{'act': None, 'activation': 'sigmoid', 'activation_m': 1, 'batch_size': -1, 'buffer_size': 1000, 'depth': 2, 'dropout_p': 0.0, 'epochs': 50, 'init_method': None, 'init_y_method': 'uniform', 'learning_rate': 0.5, 'model_type': 'basic', 'optimizer': 'rmsprop', 'random_state': None, 'training_hook': [], 'training_loss': 'logloss'}\n",
      "-----------------------------------------\n"
     ]
    },
    {
     "name": "stderr",
     "output_type": "stream",
     "text": [
      "C:\\Users\\Marios\\Jupyter_Notebooks_my_papers\\Data-driven-Causal-Discovery-for-Constructing-Fuzzy-Cognitive-Maps-An-Industrial-Case-Study\\base\\classifier.py:143: UserWarning: 2018.12.16 The instruction  'loss = loss/self.batch_size' was commented out. Due to increased gradient values check the optimizer learning rate \n",
      "  warnings.warn('2018.12.16 The instruction  \\'loss = loss/self.batch_size\\' was commented out. Due to increased gradient values check the optimizer learning rate ')\n"
     ]
    },
    {
     "name": "stdout",
     "output_type": "stream",
     "text": [
      "Learning time 4.606784105300903 sec\n",
      "\n"
     ]
    },
    {
     "data": {
      "text/plain": [
       "'Combination 95'"
      ]
     },
     "metadata": {},
     "output_type": "display_data"
    },
    {
     "name": "stdout",
     "output_type": "stream",
     "text": [
      "-----------------------------------------\n",
      "-----------------------------------------\n",
      "-----------------------------------------\n",
      "-----------------------------------------\n",
      "-----------------------------------------\n",
      "{'act': None, 'activation': 'sigmoid', 'activation_m': 1, 'batch_size': -1, 'buffer_size': 1000, 'depth': 2, 'dropout_p': 0.0, 'epochs': 100, 'init_method': None, 'init_y_method': 'uniform', 'learning_rate': 0.001, 'model_type': 'basic', 'optimizer': 'rmsprop', 'random_state': None, 'training_hook': [], 'training_loss': 'logloss'}\n",
      "-----------------------------------------\n"
     ]
    },
    {
     "name": "stderr",
     "output_type": "stream",
     "text": [
      "C:\\Users\\Marios\\Jupyter_Notebooks_my_papers\\Data-driven-Causal-Discovery-for-Constructing-Fuzzy-Cognitive-Maps-An-Industrial-Case-Study\\base\\classifier.py:143: UserWarning: 2018.12.16 The instruction  'loss = loss/self.batch_size' was commented out. Due to increased gradient values check the optimizer learning rate \n",
      "  warnings.warn('2018.12.16 The instruction  \\'loss = loss/self.batch_size\\' was commented out. Due to increased gradient values check the optimizer learning rate ')\n"
     ]
    },
    {
     "name": "stdout",
     "output_type": "stream",
     "text": [
      "Learning time 9.144405126571655 sec\n",
      "\n"
     ]
    },
    {
     "data": {
      "text/plain": [
       "'Combination 96'"
      ]
     },
     "metadata": {},
     "output_type": "display_data"
    },
    {
     "name": "stdout",
     "output_type": "stream",
     "text": [
      "-----------------------------------------\n",
      "-----------------------------------------\n",
      "-----------------------------------------\n",
      "-----------------------------------------\n",
      "-----------------------------------------\n",
      "{'act': None, 'activation': 'sigmoid', 'activation_m': 1, 'batch_size': -1, 'buffer_size': 1000, 'depth': 2, 'dropout_p': 0.0, 'epochs': 100, 'init_method': None, 'init_y_method': 'uniform', 'learning_rate': 0.01, 'model_type': 'basic', 'optimizer': 'rmsprop', 'random_state': None, 'training_hook': [], 'training_loss': 'logloss'}\n",
      "-----------------------------------------\n"
     ]
    },
    {
     "name": "stderr",
     "output_type": "stream",
     "text": [
      "C:\\Users\\Marios\\Jupyter_Notebooks_my_papers\\Data-driven-Causal-Discovery-for-Constructing-Fuzzy-Cognitive-Maps-An-Industrial-Case-Study\\base\\classifier.py:143: UserWarning: 2018.12.16 The instruction  'loss = loss/self.batch_size' was commented out. Due to increased gradient values check the optimizer learning rate \n",
      "  warnings.warn('2018.12.16 The instruction  \\'loss = loss/self.batch_size\\' was commented out. Due to increased gradient values check the optimizer learning rate ')\n"
     ]
    },
    {
     "name": "stdout",
     "output_type": "stream",
     "text": [
      "Learning time 9.207713603973389 sec\n",
      "\n"
     ]
    },
    {
     "data": {
      "text/plain": [
       "'Combination 97'"
      ]
     },
     "metadata": {},
     "output_type": "display_data"
    },
    {
     "name": "stdout",
     "output_type": "stream",
     "text": [
      "-----------------------------------------\n",
      "-----------------------------------------\n",
      "-----------------------------------------\n",
      "-----------------------------------------\n",
      "-----------------------------------------\n",
      "{'act': None, 'activation': 'sigmoid', 'activation_m': 1, 'batch_size': -1, 'buffer_size': 1000, 'depth': 2, 'dropout_p': 0.0, 'epochs': 100, 'init_method': None, 'init_y_method': 'uniform', 'learning_rate': 0.05, 'model_type': 'basic', 'optimizer': 'rmsprop', 'random_state': None, 'training_hook': [], 'training_loss': 'logloss'}\n",
      "-----------------------------------------\n"
     ]
    },
    {
     "name": "stderr",
     "output_type": "stream",
     "text": [
      "C:\\Users\\Marios\\Jupyter_Notebooks_my_papers\\Data-driven-Causal-Discovery-for-Constructing-Fuzzy-Cognitive-Maps-An-Industrial-Case-Study\\base\\classifier.py:143: UserWarning: 2018.12.16 The instruction  'loss = loss/self.batch_size' was commented out. Due to increased gradient values check the optimizer learning rate \n",
      "  warnings.warn('2018.12.16 The instruction  \\'loss = loss/self.batch_size\\' was commented out. Due to increased gradient values check the optimizer learning rate ')\n"
     ]
    },
    {
     "name": "stdout",
     "output_type": "stream",
     "text": [
      "Learning time 9.169306516647339 sec\n",
      "\n"
     ]
    },
    {
     "data": {
      "text/plain": [
       "'Combination 98'"
      ]
     },
     "metadata": {},
     "output_type": "display_data"
    },
    {
     "name": "stdout",
     "output_type": "stream",
     "text": [
      "-----------------------------------------\n",
      "-----------------------------------------\n",
      "-----------------------------------------\n",
      "-----------------------------------------\n",
      "-----------------------------------------\n",
      "{'act': None, 'activation': 'sigmoid', 'activation_m': 1, 'batch_size': -1, 'buffer_size': 1000, 'depth': 2, 'dropout_p': 0.0, 'epochs': 100, 'init_method': None, 'init_y_method': 'uniform', 'learning_rate': 0.1, 'model_type': 'basic', 'optimizer': 'rmsprop', 'random_state': None, 'training_hook': [], 'training_loss': 'logloss'}\n",
      "-----------------------------------------\n"
     ]
    },
    {
     "name": "stderr",
     "output_type": "stream",
     "text": [
      "C:\\Users\\Marios\\Jupyter_Notebooks_my_papers\\Data-driven-Causal-Discovery-for-Constructing-Fuzzy-Cognitive-Maps-An-Industrial-Case-Study\\base\\classifier.py:143: UserWarning: 2018.12.16 The instruction  'loss = loss/self.batch_size' was commented out. Due to increased gradient values check the optimizer learning rate \n",
      "  warnings.warn('2018.12.16 The instruction  \\'loss = loss/self.batch_size\\' was commented out. Due to increased gradient values check the optimizer learning rate ')\n"
     ]
    },
    {
     "name": "stdout",
     "output_type": "stream",
     "text": [
      "Learning time 9.165378093719482 sec\n",
      "\n"
     ]
    },
    {
     "data": {
      "text/plain": [
       "'Combination 99'"
      ]
     },
     "metadata": {},
     "output_type": "display_data"
    },
    {
     "name": "stdout",
     "output_type": "stream",
     "text": [
      "-----------------------------------------\n",
      "-----------------------------------------\n",
      "-----------------------------------------\n",
      "-----------------------------------------\n",
      "-----------------------------------------\n",
      "{'act': None, 'activation': 'sigmoid', 'activation_m': 1, 'batch_size': -1, 'buffer_size': 1000, 'depth': 2, 'dropout_p': 0.0, 'epochs': 100, 'init_method': None, 'init_y_method': 'uniform', 'learning_rate': 0.5, 'model_type': 'basic', 'optimizer': 'rmsprop', 'random_state': None, 'training_hook': [], 'training_loss': 'logloss'}\n",
      "-----------------------------------------\n"
     ]
    },
    {
     "name": "stderr",
     "output_type": "stream",
     "text": [
      "C:\\Users\\Marios\\Jupyter_Notebooks_my_papers\\Data-driven-Causal-Discovery-for-Constructing-Fuzzy-Cognitive-Maps-An-Industrial-Case-Study\\base\\classifier.py:143: UserWarning: 2018.12.16 The instruction  'loss = loss/self.batch_size' was commented out. Due to increased gradient values check the optimizer learning rate \n",
      "  warnings.warn('2018.12.16 The instruction  \\'loss = loss/self.batch_size\\' was commented out. Due to increased gradient values check the optimizer learning rate ')\n"
     ]
    },
    {
     "name": "stdout",
     "output_type": "stream",
     "text": [
      "Learning time 9.178459405899048 sec\n",
      "\n"
     ]
    },
    {
     "data": {
      "text/plain": [
       "'Combination 100'"
      ]
     },
     "metadata": {},
     "output_type": "display_data"
    },
    {
     "name": "stdout",
     "output_type": "stream",
     "text": [
      "-----------------------------------------\n",
      "-----------------------------------------\n",
      "-----------------------------------------\n",
      "-----------------------------------------\n",
      "-----------------------------------------\n",
      "{'act': None, 'activation': 'sigmoid', 'activation_m': 1, 'batch_size': -1, 'buffer_size': 1000, 'depth': 3, 'dropout_p': 0.0, 'epochs': 50, 'init_method': None, 'init_y_method': 'uniform', 'learning_rate': 0.001, 'model_type': 'basic', 'optimizer': 'rmsprop', 'random_state': None, 'training_hook': [], 'training_loss': 'logloss'}\n",
      "-----------------------------------------\n"
     ]
    },
    {
     "name": "stderr",
     "output_type": "stream",
     "text": [
      "C:\\Users\\Marios\\Jupyter_Notebooks_my_papers\\Data-driven-Causal-Discovery-for-Constructing-Fuzzy-Cognitive-Maps-An-Industrial-Case-Study\\base\\classifier.py:143: UserWarning: 2018.12.16 The instruction  'loss = loss/self.batch_size' was commented out. Due to increased gradient values check the optimizer learning rate \n",
      "  warnings.warn('2018.12.16 The instruction  \\'loss = loss/self.batch_size\\' was commented out. Due to increased gradient values check the optimizer learning rate ')\n"
     ]
    },
    {
     "name": "stdout",
     "output_type": "stream",
     "text": [
      "Learning time 5.0441062450408936 sec\n",
      "\n"
     ]
    },
    {
     "data": {
      "text/plain": [
       "'Combination 101'"
      ]
     },
     "metadata": {},
     "output_type": "display_data"
    },
    {
     "name": "stdout",
     "output_type": "stream",
     "text": [
      "-----------------------------------------\n",
      "-----------------------------------------\n",
      "-----------------------------------------\n",
      "-----------------------------------------\n",
      "-----------------------------------------\n",
      "{'act': None, 'activation': 'sigmoid', 'activation_m': 1, 'batch_size': -1, 'buffer_size': 1000, 'depth': 3, 'dropout_p': 0.0, 'epochs': 50, 'init_method': None, 'init_y_method': 'uniform', 'learning_rate': 0.01, 'model_type': 'basic', 'optimizer': 'rmsprop', 'random_state': None, 'training_hook': [], 'training_loss': 'logloss'}\n",
      "-----------------------------------------\n"
     ]
    },
    {
     "name": "stderr",
     "output_type": "stream",
     "text": [
      "C:\\Users\\Marios\\Jupyter_Notebooks_my_papers\\Data-driven-Causal-Discovery-for-Constructing-Fuzzy-Cognitive-Maps-An-Industrial-Case-Study\\base\\classifier.py:143: UserWarning: 2018.12.16 The instruction  'loss = loss/self.batch_size' was commented out. Due to increased gradient values check the optimizer learning rate \n",
      "  warnings.warn('2018.12.16 The instruction  \\'loss = loss/self.batch_size\\' was commented out. Due to increased gradient values check the optimizer learning rate ')\n"
     ]
    },
    {
     "name": "stdout",
     "output_type": "stream",
     "text": [
      "Learning time 5.035074472427368 sec\n",
      "\n"
     ]
    },
    {
     "data": {
      "text/plain": [
       "'Combination 102'"
      ]
     },
     "metadata": {},
     "output_type": "display_data"
    },
    {
     "name": "stdout",
     "output_type": "stream",
     "text": [
      "-----------------------------------------\n",
      "-----------------------------------------\n",
      "-----------------------------------------\n",
      "-----------------------------------------\n",
      "-----------------------------------------\n",
      "{'act': None, 'activation': 'sigmoid', 'activation_m': 1, 'batch_size': -1, 'buffer_size': 1000, 'depth': 3, 'dropout_p': 0.0, 'epochs': 50, 'init_method': None, 'init_y_method': 'uniform', 'learning_rate': 0.05, 'model_type': 'basic', 'optimizer': 'rmsprop', 'random_state': None, 'training_hook': [], 'training_loss': 'logloss'}\n",
      "-----------------------------------------\n"
     ]
    },
    {
     "name": "stderr",
     "output_type": "stream",
     "text": [
      "C:\\Users\\Marios\\Jupyter_Notebooks_my_papers\\Data-driven-Causal-Discovery-for-Constructing-Fuzzy-Cognitive-Maps-An-Industrial-Case-Study\\base\\classifier.py:143: UserWarning: 2018.12.16 The instruction  'loss = loss/self.batch_size' was commented out. Due to increased gradient values check the optimizer learning rate \n",
      "  warnings.warn('2018.12.16 The instruction  \\'loss = loss/self.batch_size\\' was commented out. Due to increased gradient values check the optimizer learning rate ')\n"
     ]
    },
    {
     "name": "stdout",
     "output_type": "stream",
     "text": [
      "Learning time 5.053694725036621 sec\n",
      "\n"
     ]
    },
    {
     "data": {
      "text/plain": [
       "'Combination 103'"
      ]
     },
     "metadata": {},
     "output_type": "display_data"
    },
    {
     "name": "stdout",
     "output_type": "stream",
     "text": [
      "-----------------------------------------\n",
      "-----------------------------------------\n",
      "-----------------------------------------\n",
      "-----------------------------------------\n",
      "-----------------------------------------\n",
      "{'act': None, 'activation': 'sigmoid', 'activation_m': 1, 'batch_size': -1, 'buffer_size': 1000, 'depth': 3, 'dropout_p': 0.0, 'epochs': 50, 'init_method': None, 'init_y_method': 'uniform', 'learning_rate': 0.1, 'model_type': 'basic', 'optimizer': 'rmsprop', 'random_state': None, 'training_hook': [], 'training_loss': 'logloss'}\n",
      "-----------------------------------------\n"
     ]
    },
    {
     "name": "stderr",
     "output_type": "stream",
     "text": [
      "C:\\Users\\Marios\\Jupyter_Notebooks_my_papers\\Data-driven-Causal-Discovery-for-Constructing-Fuzzy-Cognitive-Maps-An-Industrial-Case-Study\\base\\classifier.py:143: UserWarning: 2018.12.16 The instruction  'loss = loss/self.batch_size' was commented out. Due to increased gradient values check the optimizer learning rate \n",
      "  warnings.warn('2018.12.16 The instruction  \\'loss = loss/self.batch_size\\' was commented out. Due to increased gradient values check the optimizer learning rate ')\n"
     ]
    },
    {
     "name": "stdout",
     "output_type": "stream",
     "text": [
      "Learning time 5.067920923233032 sec\n",
      "\n"
     ]
    },
    {
     "data": {
      "text/plain": [
       "'Combination 104'"
      ]
     },
     "metadata": {},
     "output_type": "display_data"
    },
    {
     "name": "stdout",
     "output_type": "stream",
     "text": [
      "-----------------------------------------\n",
      "-----------------------------------------\n",
      "-----------------------------------------\n",
      "-----------------------------------------\n",
      "-----------------------------------------\n",
      "{'act': None, 'activation': 'sigmoid', 'activation_m': 1, 'batch_size': -1, 'buffer_size': 1000, 'depth': 3, 'dropout_p': 0.0, 'epochs': 50, 'init_method': None, 'init_y_method': 'uniform', 'learning_rate': 0.5, 'model_type': 'basic', 'optimizer': 'rmsprop', 'random_state': None, 'training_hook': [], 'training_loss': 'logloss'}\n",
      "-----------------------------------------\n"
     ]
    },
    {
     "name": "stderr",
     "output_type": "stream",
     "text": [
      "C:\\Users\\Marios\\Jupyter_Notebooks_my_papers\\Data-driven-Causal-Discovery-for-Constructing-Fuzzy-Cognitive-Maps-An-Industrial-Case-Study\\base\\classifier.py:143: UserWarning: 2018.12.16 The instruction  'loss = loss/self.batch_size' was commented out. Due to increased gradient values check the optimizer learning rate \n",
      "  warnings.warn('2018.12.16 The instruction  \\'loss = loss/self.batch_size\\' was commented out. Due to increased gradient values check the optimizer learning rate ')\n"
     ]
    },
    {
     "name": "stdout",
     "output_type": "stream",
     "text": [
      "Learning time 5.044648885726929 sec\n",
      "\n"
     ]
    },
    {
     "data": {
      "text/plain": [
       "'Combination 105'"
      ]
     },
     "metadata": {},
     "output_type": "display_data"
    },
    {
     "name": "stdout",
     "output_type": "stream",
     "text": [
      "-----------------------------------------\n",
      "-----------------------------------------\n",
      "-----------------------------------------\n",
      "-----------------------------------------\n",
      "-----------------------------------------\n",
      "{'act': None, 'activation': 'sigmoid', 'activation_m': 1, 'batch_size': -1, 'buffer_size': 1000, 'depth': 3, 'dropout_p': 0.0, 'epochs': 100, 'init_method': None, 'init_y_method': 'uniform', 'learning_rate': 0.001, 'model_type': 'basic', 'optimizer': 'rmsprop', 'random_state': None, 'training_hook': [], 'training_loss': 'logloss'}\n",
      "-----------------------------------------\n"
     ]
    },
    {
     "name": "stderr",
     "output_type": "stream",
     "text": [
      "C:\\Users\\Marios\\Jupyter_Notebooks_my_papers\\Data-driven-Causal-Discovery-for-Constructing-Fuzzy-Cognitive-Maps-An-Industrial-Case-Study\\base\\classifier.py:143: UserWarning: 2018.12.16 The instruction  'loss = loss/self.batch_size' was commented out. Due to increased gradient values check the optimizer learning rate \n",
      "  warnings.warn('2018.12.16 The instruction  \\'loss = loss/self.batch_size\\' was commented out. Due to increased gradient values check the optimizer learning rate ')\n"
     ]
    },
    {
     "name": "stdout",
     "output_type": "stream",
     "text": [
      "Learning time 10.106013536453247 sec\n",
      "\n"
     ]
    },
    {
     "data": {
      "text/plain": [
       "'Combination 106'"
      ]
     },
     "metadata": {},
     "output_type": "display_data"
    },
    {
     "name": "stdout",
     "output_type": "stream",
     "text": [
      "-----------------------------------------\n",
      "-----------------------------------------\n",
      "-----------------------------------------\n",
      "-----------------------------------------\n",
      "-----------------------------------------\n",
      "{'act': None, 'activation': 'sigmoid', 'activation_m': 1, 'batch_size': -1, 'buffer_size': 1000, 'depth': 3, 'dropout_p': 0.0, 'epochs': 100, 'init_method': None, 'init_y_method': 'uniform', 'learning_rate': 0.01, 'model_type': 'basic', 'optimizer': 'rmsprop', 'random_state': None, 'training_hook': [], 'training_loss': 'logloss'}\n",
      "-----------------------------------------\n"
     ]
    },
    {
     "name": "stderr",
     "output_type": "stream",
     "text": [
      "C:\\Users\\Marios\\Jupyter_Notebooks_my_papers\\Data-driven-Causal-Discovery-for-Constructing-Fuzzy-Cognitive-Maps-An-Industrial-Case-Study\\base\\classifier.py:143: UserWarning: 2018.12.16 The instruction  'loss = loss/self.batch_size' was commented out. Due to increased gradient values check the optimizer learning rate \n",
      "  warnings.warn('2018.12.16 The instruction  \\'loss = loss/self.batch_size\\' was commented out. Due to increased gradient values check the optimizer learning rate ')\n"
     ]
    },
    {
     "name": "stdout",
     "output_type": "stream",
     "text": [
      "Learning time 10.135560512542725 sec\n",
      "\n"
     ]
    },
    {
     "data": {
      "text/plain": [
       "'Combination 107'"
      ]
     },
     "metadata": {},
     "output_type": "display_data"
    },
    {
     "name": "stdout",
     "output_type": "stream",
     "text": [
      "-----------------------------------------\n",
      "-----------------------------------------\n",
      "-----------------------------------------\n",
      "-----------------------------------------\n",
      "-----------------------------------------\n",
      "{'act': None, 'activation': 'sigmoid', 'activation_m': 1, 'batch_size': -1, 'buffer_size': 1000, 'depth': 3, 'dropout_p': 0.0, 'epochs': 100, 'init_method': None, 'init_y_method': 'uniform', 'learning_rate': 0.05, 'model_type': 'basic', 'optimizer': 'rmsprop', 'random_state': None, 'training_hook': [], 'training_loss': 'logloss'}\n",
      "-----------------------------------------\n"
     ]
    },
    {
     "name": "stderr",
     "output_type": "stream",
     "text": [
      "C:\\Users\\Marios\\Jupyter_Notebooks_my_papers\\Data-driven-Causal-Discovery-for-Constructing-Fuzzy-Cognitive-Maps-An-Industrial-Case-Study\\base\\classifier.py:143: UserWarning: 2018.12.16 The instruction  'loss = loss/self.batch_size' was commented out. Due to increased gradient values check the optimizer learning rate \n",
      "  warnings.warn('2018.12.16 The instruction  \\'loss = loss/self.batch_size\\' was commented out. Due to increased gradient values check the optimizer learning rate ')\n"
     ]
    },
    {
     "name": "stdout",
     "output_type": "stream",
     "text": [
      "Learning time 10.051385641098022 sec\n",
      "\n"
     ]
    },
    {
     "data": {
      "text/plain": [
       "'Combination 108'"
      ]
     },
     "metadata": {},
     "output_type": "display_data"
    },
    {
     "name": "stdout",
     "output_type": "stream",
     "text": [
      "-----------------------------------------\n",
      "-----------------------------------------\n",
      "-----------------------------------------\n",
      "-----------------------------------------\n",
      "-----------------------------------------\n",
      "{'act': None, 'activation': 'sigmoid', 'activation_m': 1, 'batch_size': -1, 'buffer_size': 1000, 'depth': 3, 'dropout_p': 0.0, 'epochs': 100, 'init_method': None, 'init_y_method': 'uniform', 'learning_rate': 0.1, 'model_type': 'basic', 'optimizer': 'rmsprop', 'random_state': None, 'training_hook': [], 'training_loss': 'logloss'}\n",
      "-----------------------------------------\n"
     ]
    },
    {
     "name": "stderr",
     "output_type": "stream",
     "text": [
      "C:\\Users\\Marios\\Jupyter_Notebooks_my_papers\\Data-driven-Causal-Discovery-for-Constructing-Fuzzy-Cognitive-Maps-An-Industrial-Case-Study\\base\\classifier.py:143: UserWarning: 2018.12.16 The instruction  'loss = loss/self.batch_size' was commented out. Due to increased gradient values check the optimizer learning rate \n",
      "  warnings.warn('2018.12.16 The instruction  \\'loss = loss/self.batch_size\\' was commented out. Due to increased gradient values check the optimizer learning rate ')\n"
     ]
    },
    {
     "name": "stdout",
     "output_type": "stream",
     "text": [
      "Learning time 10.093194723129272 sec\n",
      "\n"
     ]
    },
    {
     "data": {
      "text/plain": [
       "'Combination 109'"
      ]
     },
     "metadata": {},
     "output_type": "display_data"
    },
    {
     "name": "stdout",
     "output_type": "stream",
     "text": [
      "-----------------------------------------\n",
      "-----------------------------------------\n",
      "-----------------------------------------\n",
      "-----------------------------------------\n",
      "-----------------------------------------\n",
      "{'act': None, 'activation': 'sigmoid', 'activation_m': 1, 'batch_size': -1, 'buffer_size': 1000, 'depth': 3, 'dropout_p': 0.0, 'epochs': 100, 'init_method': None, 'init_y_method': 'uniform', 'learning_rate': 0.5, 'model_type': 'basic', 'optimizer': 'rmsprop', 'random_state': None, 'training_hook': [], 'training_loss': 'logloss'}\n",
      "-----------------------------------------\n"
     ]
    },
    {
     "name": "stderr",
     "output_type": "stream",
     "text": [
      "C:\\Users\\Marios\\Jupyter_Notebooks_my_papers\\Data-driven-Causal-Discovery-for-Constructing-Fuzzy-Cognitive-Maps-An-Industrial-Case-Study\\base\\classifier.py:143: UserWarning: 2018.12.16 The instruction  'loss = loss/self.batch_size' was commented out. Due to increased gradient values check the optimizer learning rate \n",
      "  warnings.warn('2018.12.16 The instruction  \\'loss = loss/self.batch_size\\' was commented out. Due to increased gradient values check the optimizer learning rate ')\n"
     ]
    },
    {
     "name": "stdout",
     "output_type": "stream",
     "text": [
      "Learning time 10.109729766845703 sec\n",
      "\n"
     ]
    },
    {
     "data": {
      "text/plain": [
       "'Combination 110'"
      ]
     },
     "metadata": {},
     "output_type": "display_data"
    },
    {
     "name": "stdout",
     "output_type": "stream",
     "text": [
      "-----------------------------------------\n",
      "-----------------------------------------\n",
      "-----------------------------------------\n",
      "-----------------------------------------\n",
      "-----------------------------------------\n",
      "{'act': None, 'activation': 'sigmoid', 'activation_m': 1, 'batch_size': -1, 'buffer_size': 1000, 'depth': 5, 'dropout_p': 0.0, 'epochs': 50, 'init_method': None, 'init_y_method': 'uniform', 'learning_rate': 0.001, 'model_type': 'basic', 'optimizer': 'rmsprop', 'random_state': None, 'training_hook': [], 'training_loss': 'logloss'}\n",
      "-----------------------------------------\n"
     ]
    },
    {
     "name": "stderr",
     "output_type": "stream",
     "text": [
      "C:\\Users\\Marios\\Jupyter_Notebooks_my_papers\\Data-driven-Causal-Discovery-for-Constructing-Fuzzy-Cognitive-Maps-An-Industrial-Case-Study\\base\\classifier.py:143: UserWarning: 2018.12.16 The instruction  'loss = loss/self.batch_size' was commented out. Due to increased gradient values check the optimizer learning rate \n",
      "  warnings.warn('2018.12.16 The instruction  \\'loss = loss/self.batch_size\\' was commented out. Due to increased gradient values check the optimizer learning rate ')\n"
     ]
    },
    {
     "name": "stdout",
     "output_type": "stream",
     "text": [
      "Learning time 5.982888698577881 sec\n",
      "\n"
     ]
    },
    {
     "data": {
      "text/plain": [
       "'Combination 111'"
      ]
     },
     "metadata": {},
     "output_type": "display_data"
    },
    {
     "name": "stdout",
     "output_type": "stream",
     "text": [
      "-----------------------------------------\n",
      "-----------------------------------------\n",
      "-----------------------------------------\n",
      "-----------------------------------------\n",
      "-----------------------------------------\n",
      "{'act': None, 'activation': 'sigmoid', 'activation_m': 1, 'batch_size': -1, 'buffer_size': 1000, 'depth': 5, 'dropout_p': 0.0, 'epochs': 50, 'init_method': None, 'init_y_method': 'uniform', 'learning_rate': 0.01, 'model_type': 'basic', 'optimizer': 'rmsprop', 'random_state': None, 'training_hook': [], 'training_loss': 'logloss'}\n",
      "-----------------------------------------\n"
     ]
    },
    {
     "name": "stderr",
     "output_type": "stream",
     "text": [
      "C:\\Users\\Marios\\Jupyter_Notebooks_my_papers\\Data-driven-Causal-Discovery-for-Constructing-Fuzzy-Cognitive-Maps-An-Industrial-Case-Study\\base\\classifier.py:143: UserWarning: 2018.12.16 The instruction  'loss = loss/self.batch_size' was commented out. Due to increased gradient values check the optimizer learning rate \n",
      "  warnings.warn('2018.12.16 The instruction  \\'loss = loss/self.batch_size\\' was commented out. Due to increased gradient values check the optimizer learning rate ')\n"
     ]
    },
    {
     "name": "stdout",
     "output_type": "stream",
     "text": [
      "Learning time 5.9690656661987305 sec\n",
      "\n"
     ]
    },
    {
     "data": {
      "text/plain": [
       "'Combination 112'"
      ]
     },
     "metadata": {},
     "output_type": "display_data"
    },
    {
     "name": "stdout",
     "output_type": "stream",
     "text": [
      "-----------------------------------------\n",
      "-----------------------------------------\n",
      "-----------------------------------------\n",
      "-----------------------------------------\n",
      "-----------------------------------------\n",
      "{'act': None, 'activation': 'sigmoid', 'activation_m': 1, 'batch_size': -1, 'buffer_size': 1000, 'depth': 5, 'dropout_p': 0.0, 'epochs': 50, 'init_method': None, 'init_y_method': 'uniform', 'learning_rate': 0.05, 'model_type': 'basic', 'optimizer': 'rmsprop', 'random_state': None, 'training_hook': [], 'training_loss': 'logloss'}\n",
      "-----------------------------------------\n"
     ]
    },
    {
     "name": "stderr",
     "output_type": "stream",
     "text": [
      "C:\\Users\\Marios\\Jupyter_Notebooks_my_papers\\Data-driven-Causal-Discovery-for-Constructing-Fuzzy-Cognitive-Maps-An-Industrial-Case-Study\\base\\classifier.py:143: UserWarning: 2018.12.16 The instruction  'loss = loss/self.batch_size' was commented out. Due to increased gradient values check the optimizer learning rate \n",
      "  warnings.warn('2018.12.16 The instruction  \\'loss = loss/self.batch_size\\' was commented out. Due to increased gradient values check the optimizer learning rate ')\n"
     ]
    },
    {
     "name": "stdout",
     "output_type": "stream",
     "text": [
      "Learning time 5.965589761734009 sec\n",
      "\n"
     ]
    },
    {
     "data": {
      "text/plain": [
       "'Combination 113'"
      ]
     },
     "metadata": {},
     "output_type": "display_data"
    },
    {
     "name": "stdout",
     "output_type": "stream",
     "text": [
      "-----------------------------------------\n",
      "-----------------------------------------\n",
      "-----------------------------------------\n",
      "-----------------------------------------\n",
      "-----------------------------------------\n",
      "{'act': None, 'activation': 'sigmoid', 'activation_m': 1, 'batch_size': -1, 'buffer_size': 1000, 'depth': 5, 'dropout_p': 0.0, 'epochs': 50, 'init_method': None, 'init_y_method': 'uniform', 'learning_rate': 0.1, 'model_type': 'basic', 'optimizer': 'rmsprop', 'random_state': None, 'training_hook': [], 'training_loss': 'logloss'}\n",
      "-----------------------------------------\n"
     ]
    },
    {
     "name": "stderr",
     "output_type": "stream",
     "text": [
      "C:\\Users\\Marios\\Jupyter_Notebooks_my_papers\\Data-driven-Causal-Discovery-for-Constructing-Fuzzy-Cognitive-Maps-An-Industrial-Case-Study\\base\\classifier.py:143: UserWarning: 2018.12.16 The instruction  'loss = loss/self.batch_size' was commented out. Due to increased gradient values check the optimizer learning rate \n",
      "  warnings.warn('2018.12.16 The instruction  \\'loss = loss/self.batch_size\\' was commented out. Due to increased gradient values check the optimizer learning rate ')\n"
     ]
    },
    {
     "name": "stdout",
     "output_type": "stream",
     "text": [
      "Learning time 5.957671880722046 sec\n",
      "\n"
     ]
    },
    {
     "data": {
      "text/plain": [
       "'Combination 114'"
      ]
     },
     "metadata": {},
     "output_type": "display_data"
    },
    {
     "name": "stdout",
     "output_type": "stream",
     "text": [
      "-----------------------------------------\n",
      "-----------------------------------------\n",
      "-----------------------------------------\n",
      "-----------------------------------------\n",
      "-----------------------------------------\n",
      "{'act': None, 'activation': 'sigmoid', 'activation_m': 1, 'batch_size': -1, 'buffer_size': 1000, 'depth': 5, 'dropout_p': 0.0, 'epochs': 50, 'init_method': None, 'init_y_method': 'uniform', 'learning_rate': 0.5, 'model_type': 'basic', 'optimizer': 'rmsprop', 'random_state': None, 'training_hook': [], 'training_loss': 'logloss'}\n",
      "-----------------------------------------\n"
     ]
    },
    {
     "name": "stderr",
     "output_type": "stream",
     "text": [
      "C:\\Users\\Marios\\Jupyter_Notebooks_my_papers\\Data-driven-Causal-Discovery-for-Constructing-Fuzzy-Cognitive-Maps-An-Industrial-Case-Study\\base\\classifier.py:143: UserWarning: 2018.12.16 The instruction  'loss = loss/self.batch_size' was commented out. Due to increased gradient values check the optimizer learning rate \n",
      "  warnings.warn('2018.12.16 The instruction  \\'loss = loss/self.batch_size\\' was commented out. Due to increased gradient values check the optimizer learning rate ')\n"
     ]
    },
    {
     "name": "stdout",
     "output_type": "stream",
     "text": [
      "Learning time 5.962421178817749 sec\n",
      "\n"
     ]
    },
    {
     "data": {
      "text/plain": [
       "'Combination 115'"
      ]
     },
     "metadata": {},
     "output_type": "display_data"
    },
    {
     "name": "stdout",
     "output_type": "stream",
     "text": [
      "-----------------------------------------\n",
      "-----------------------------------------\n",
      "-----------------------------------------\n",
      "-----------------------------------------\n",
      "-----------------------------------------\n",
      "{'act': None, 'activation': 'sigmoid', 'activation_m': 1, 'batch_size': -1, 'buffer_size': 1000, 'depth': 5, 'dropout_p': 0.0, 'epochs': 100, 'init_method': None, 'init_y_method': 'uniform', 'learning_rate': 0.001, 'model_type': 'basic', 'optimizer': 'rmsprop', 'random_state': None, 'training_hook': [], 'training_loss': 'logloss'}\n",
      "-----------------------------------------\n"
     ]
    },
    {
     "name": "stderr",
     "output_type": "stream",
     "text": [
      "C:\\Users\\Marios\\Jupyter_Notebooks_my_papers\\Data-driven-Causal-Discovery-for-Constructing-Fuzzy-Cognitive-Maps-An-Industrial-Case-Study\\base\\classifier.py:143: UserWarning: 2018.12.16 The instruction  'loss = loss/self.batch_size' was commented out. Due to increased gradient values check the optimizer learning rate \n",
      "  warnings.warn('2018.12.16 The instruction  \\'loss = loss/self.batch_size\\' was commented out. Due to increased gradient values check the optimizer learning rate ')\n"
     ]
    },
    {
     "name": "stdout",
     "output_type": "stream",
     "text": [
      "Learning time 11.943011045455933 sec\n",
      "\n"
     ]
    },
    {
     "data": {
      "text/plain": [
       "'Combination 116'"
      ]
     },
     "metadata": {},
     "output_type": "display_data"
    },
    {
     "name": "stdout",
     "output_type": "stream",
     "text": [
      "-----------------------------------------\n",
      "-----------------------------------------\n",
      "-----------------------------------------\n",
      "-----------------------------------------\n",
      "-----------------------------------------\n",
      "{'act': None, 'activation': 'sigmoid', 'activation_m': 1, 'batch_size': -1, 'buffer_size': 1000, 'depth': 5, 'dropout_p': 0.0, 'epochs': 100, 'init_method': None, 'init_y_method': 'uniform', 'learning_rate': 0.01, 'model_type': 'basic', 'optimizer': 'rmsprop', 'random_state': None, 'training_hook': [], 'training_loss': 'logloss'}\n",
      "-----------------------------------------\n"
     ]
    },
    {
     "name": "stderr",
     "output_type": "stream",
     "text": [
      "C:\\Users\\Marios\\Jupyter_Notebooks_my_papers\\Data-driven-Causal-Discovery-for-Constructing-Fuzzy-Cognitive-Maps-An-Industrial-Case-Study\\base\\classifier.py:143: UserWarning: 2018.12.16 The instruction  'loss = loss/self.batch_size' was commented out. Due to increased gradient values check the optimizer learning rate \n",
      "  warnings.warn('2018.12.16 The instruction  \\'loss = loss/self.batch_size\\' was commented out. Due to increased gradient values check the optimizer learning rate ')\n"
     ]
    },
    {
     "name": "stdout",
     "output_type": "stream",
     "text": [
      "Learning time 11.951425552368164 sec\n",
      "\n"
     ]
    },
    {
     "data": {
      "text/plain": [
       "'Combination 117'"
      ]
     },
     "metadata": {},
     "output_type": "display_data"
    },
    {
     "name": "stdout",
     "output_type": "stream",
     "text": [
      "-----------------------------------------\n",
      "-----------------------------------------\n",
      "-----------------------------------------\n",
      "-----------------------------------------\n",
      "-----------------------------------------\n",
      "{'act': None, 'activation': 'sigmoid', 'activation_m': 1, 'batch_size': -1, 'buffer_size': 1000, 'depth': 5, 'dropout_p': 0.0, 'epochs': 100, 'init_method': None, 'init_y_method': 'uniform', 'learning_rate': 0.05, 'model_type': 'basic', 'optimizer': 'rmsprop', 'random_state': None, 'training_hook': [], 'training_loss': 'logloss'}\n",
      "-----------------------------------------\n"
     ]
    },
    {
     "name": "stderr",
     "output_type": "stream",
     "text": [
      "C:\\Users\\Marios\\Jupyter_Notebooks_my_papers\\Data-driven-Causal-Discovery-for-Constructing-Fuzzy-Cognitive-Maps-An-Industrial-Case-Study\\base\\classifier.py:143: UserWarning: 2018.12.16 The instruction  'loss = loss/self.batch_size' was commented out. Due to increased gradient values check the optimizer learning rate \n",
      "  warnings.warn('2018.12.16 The instruction  \\'loss = loss/self.batch_size\\' was commented out. Due to increased gradient values check the optimizer learning rate ')\n"
     ]
    },
    {
     "name": "stdout",
     "output_type": "stream",
     "text": [
      "Learning time 11.943274974822998 sec\n",
      "\n"
     ]
    },
    {
     "data": {
      "text/plain": [
       "'Combination 118'"
      ]
     },
     "metadata": {},
     "output_type": "display_data"
    },
    {
     "name": "stdout",
     "output_type": "stream",
     "text": [
      "-----------------------------------------\n",
      "-----------------------------------------\n",
      "-----------------------------------------\n",
      "-----------------------------------------\n",
      "-----------------------------------------\n",
      "{'act': None, 'activation': 'sigmoid', 'activation_m': 1, 'batch_size': -1, 'buffer_size': 1000, 'depth': 5, 'dropout_p': 0.0, 'epochs': 100, 'init_method': None, 'init_y_method': 'uniform', 'learning_rate': 0.1, 'model_type': 'basic', 'optimizer': 'rmsprop', 'random_state': None, 'training_hook': [], 'training_loss': 'logloss'}\n",
      "-----------------------------------------\n"
     ]
    },
    {
     "name": "stderr",
     "output_type": "stream",
     "text": [
      "C:\\Users\\Marios\\Jupyter_Notebooks_my_papers\\Data-driven-Causal-Discovery-for-Constructing-Fuzzy-Cognitive-Maps-An-Industrial-Case-Study\\base\\classifier.py:143: UserWarning: 2018.12.16 The instruction  'loss = loss/self.batch_size' was commented out. Due to increased gradient values check the optimizer learning rate \n",
      "  warnings.warn('2018.12.16 The instruction  \\'loss = loss/self.batch_size\\' was commented out. Due to increased gradient values check the optimizer learning rate ')\n"
     ]
    },
    {
     "name": "stdout",
     "output_type": "stream",
     "text": [
      "Learning time 11.918978214263916 sec\n",
      "\n"
     ]
    },
    {
     "data": {
      "text/plain": [
       "'Combination 119'"
      ]
     },
     "metadata": {},
     "output_type": "display_data"
    },
    {
     "name": "stdout",
     "output_type": "stream",
     "text": [
      "-----------------------------------------\n",
      "-----------------------------------------\n",
      "-----------------------------------------\n",
      "-----------------------------------------\n",
      "-----------------------------------------\n",
      "{'act': None, 'activation': 'sigmoid', 'activation_m': 1, 'batch_size': -1, 'buffer_size': 1000, 'depth': 5, 'dropout_p': 0.0, 'epochs': 100, 'init_method': None, 'init_y_method': 'uniform', 'learning_rate': 0.5, 'model_type': 'basic', 'optimizer': 'rmsprop', 'random_state': None, 'training_hook': [], 'training_loss': 'logloss'}\n",
      "-----------------------------------------\n"
     ]
    },
    {
     "name": "stderr",
     "output_type": "stream",
     "text": [
      "C:\\Users\\Marios\\Jupyter_Notebooks_my_papers\\Data-driven-Causal-Discovery-for-Constructing-Fuzzy-Cognitive-Maps-An-Industrial-Case-Study\\base\\classifier.py:143: UserWarning: 2018.12.16 The instruction  'loss = loss/self.batch_size' was commented out. Due to increased gradient values check the optimizer learning rate \n",
      "  warnings.warn('2018.12.16 The instruction  \\'loss = loss/self.batch_size\\' was commented out. Due to increased gradient values check the optimizer learning rate ')\n"
     ]
    },
    {
     "name": "stdout",
     "output_type": "stream",
     "text": [
      "Learning time 11.964931011199951 sec\n",
      "\n"
     ]
    },
    {
     "data": {
      "text/plain": [
       "{'training_loss': 'logloss',\n",
       " 'random_state': None,\n",
       " 'optimizer': 'rmsprop',\n",
       " 'model_type': 'basic',\n",
       " 'learning_rate': 0.01,\n",
       " 'init_y_method': 'uniform',\n",
       " 'init_method': None,\n",
       " 'epochs': 100,\n",
       " 'dropout_p': 0.0,\n",
       " 'depth': 5,\n",
       " 'buffer_size': 1000,\n",
       " 'batch_size': 16,\n",
       " 'activation_m': 1,\n",
       " 'activation': 'sigmoid',\n",
       " 'act': None}"
      ]
     },
     "metadata": {},
     "output_type": "display_data"
    }
   ],
   "source": [
    "from sklearn.base import BaseEstimator, ClassifierMixin\n",
    "from base.classifier import BaseFcmClassifier\n",
    "from base.losses import MSE, LogLoss, SoftmaxCrossEntropy\n",
    "from base.model import Model, AdditiveModel, Sigmoid, Tanh, Ident, Relu\n",
    "from base.binary_classifier import FcmBinaryClassifier\n",
    "import tensorflow as tf\n",
    "import sklearn.preprocessing\n",
    "import numpy as np\n",
    "\n",
    "\n",
    "bs = 2**np.arange(4,13,4)\n",
    "bs = np.append(bs, -1)\n",
    "\n",
    "#we are training our model with the batch size ranging from 8 to 2048 with each batch size twice the size of the \n",
    "#previous batch size.\n",
    "fcmb_param_grid = {'act': [None],\n",
    "               'activation': ['sigmoid'],\n",
    "               'activation_m': [1],\n",
    "               'depth': [2, 3, 5],\n",
    "               'epochs': [50, 100],\n",
    "               'batch_size': bs, \n",
    "               'buffer_size': [1000],\n",
    "               'training_loss': ['logloss'],\n",
    "               'optimizer': ['rmsprop'],\n",
    "               'learning_rate': [0.001, 0.01, 0.05, 0.1, 0.5],\n",
    "               'model_type': ['basic'],\n",
    "               'init_method': [None],\n",
    "               'init_y_method': ['uniform'],\n",
    "               'dropout_p': [0.0],\n",
    "               'random_state': [None]}\n",
    "\n",
    "grid = ParameterGrid(fcmb_param_grid)\n",
    "\n",
    "display(str(len(grid))+\" Combinations\")\n",
    "\n",
    "X = X_train.to_numpy()\n",
    "y = y_train.to_numpy()\n",
    "\n",
    "acc_list = []\n",
    "auc_list = []\n",
    "kappa_list = []\n",
    "\n",
    "twf_list = []\n",
    "hdf_list = []\n",
    "pwf_list = []\n",
    "osf_list = []\n",
    "av_succ = []\n",
    "\n",
    "comb_list = []\n",
    "\n",
    "for comb in range(0,len(grid)):\n",
    "    \n",
    "    #Build the FCMB Classifier\n",
    "    fcmb = FcmBinaryClassifier()\n",
    "    display(\"Combination \" + str(comb))\n",
    "    fcmb.__init__(**grid[comb])\n",
    "    fcmb.fit(X,y)\n",
    "    \n",
    "    #Predictions for the test set\n",
    "    y_test_pred_fcmb = fcmb.predict(X_test)\n",
    "    \n",
    "    #Evaluation metrics\n",
    "    accuracy_fcmb = accuracy_score(y_test, y_test_pred_fcmb)\n",
    "    auc_fcmb = metrics.roc_auc_score(y_test, y_test_pred_fcmb)\n",
    "    cohen_score_fcmb = cohen_kappa_score(y_test, y_test_pred_fcmb)\n",
    "\n",
    "    \n",
    "    #FCMB trajectory\n",
    "    #For an output variable the constant 0.5 can be interpreted as undecided value, in between 0 and 1.\n",
    "    init_y_test = np.ones((X_test.shape[0], fcmb.base_fcm.model.dim - X_test.shape[1])) * .5\n",
    "    trj_fcmb_test = fcmb.base_fcm.model.trajectory(X_test, init_y_test)\n",
    "    \n",
    "    \n",
    "    local_feature_importance_fcmb = pd.DataFrame(trj_fcmb_test[fcmb.depth], columns=['Type', 'AirtemperatureK', 'ProcesstemperatureK', 'Rotationalspeedrpm', 'TorqueNm', 'Toolwearmin', 'Machinefailure'])\n",
    "    local_feature_importance_fcmb.drop('Machinefailure', inplace=True, axis=1)\n",
    "    \n",
    "    #Find the observations' indexes that the model correctly predicted as faulty\n",
    "    true_positive_indexes = []\n",
    "    i=1;\n",
    "\n",
    "    #According to the chosen model\n",
    "    #For example, y_test_pred_lgbmc for LGBM Classifier\n",
    "    for k in range(0,len(y_test)):\n",
    "        if (y_test.loc[k,'Machinefailure']==int(y_test_pred_fcmb[k])) and (y_test.loc[k,'Machinefailure']==1):\n",
    "            true_positive_indexes.append(k)\n",
    "            i=i+1;\n",
    "\n",
    "    #Find the observations that the selected model correctly predicted as faulty based on the previous indexes\n",
    "    true_positive_observations = pd.DataFrame()\n",
    "    for k in range(0,len(true_positive_indexes)):\n",
    "        new_row = pd.concat([original_X_test.loc[true_positive_indexes[k],:],y_test.loc[true_positive_indexes[k],:]], axis=0)\n",
    "        true_positive_observations = true_positive_observations.append(new_row, ignore_index=True)\n",
    "    \n",
    "    if not true_positive_observations.empty:\n",
    "        \n",
    "        #Append in lists\n",
    "        acc_list.append(accuracy_fcmb)\n",
    "        auc_list.append(auc_fcmb)\n",
    "        kappa_list.append(cohen_score_fcmb)\n",
    "        \n",
    "    \n",
    "        true_positive_observations_with_failure_modes = pd.DataFrame()\n",
    "        true_positive_observations_with_failure_modes = ai4i2020_encoded_balanced.join(true_positive_observations.set_index(['Type', 'AirtemperatureK', 'ProcesstemperatureK', 'Rotationalspeedrpm', 'TorqueNm', 'Toolwearmin', 'Machinefailure']), ['Type', 'AirtemperatureK', 'ProcesstemperatureK', 'Rotationalspeedrpm', 'TorqueNm', 'Toolwearmin', 'Machinefailure'], how='right')       \n",
    "        final_true_positive_observations_with_failure_modes = true_positive_observations_with_failure_modes.reset_index(drop=True)\n",
    "        \n",
    "        #display(\"Number of true positive predictions: \" + str(len(final_true_positive_observations_with_failure_modes)))\n",
    "\n",
    "        number_of_TWF_failures_in_true_positive_predictions = 0\n",
    "        number_of_HDF_failures_in_true_positive_predictions = 0\n",
    "        number_of_PWF_failures_in_true_positive_predictions = 0\n",
    "        number_of_OSF_failures_in_true_positive_predictions = 0\n",
    "        number_of_random_failures_in_true_positive_predictions=0\n",
    "\n",
    "        for k in range(0,len(final_true_positive_observations_with_failure_modes)):\n",
    "            if final_true_positive_observations_with_failure_modes.loc[k,\"TWF\"]==1: #if the failure mode is TWF\n",
    "                number_of_TWF_failures_in_true_positive_predictions = number_of_TWF_failures_in_true_positive_predictions + 1;\n",
    "            if final_true_positive_observations_with_failure_modes.loc[k,\"HDF\"]==1: #if the failure mode is HDF\n",
    "                number_of_HDF_failures_in_true_positive_predictions = number_of_HDF_failures_in_true_positive_predictions + 1;\n",
    "            if final_true_positive_observations_with_failure_modes.loc[k,\"PWF\"]==1: #if the failure mode is PWF\n",
    "                number_of_PWF_failures_in_true_positive_predictions = number_of_PWF_failures_in_true_positive_predictions + 1;\n",
    "            if final_true_positive_observations_with_failure_modes.loc[k,\"OSF\"]==1: #if the failure mode is OSF\n",
    "                number_of_OSF_failures_in_true_positive_predictions = number_of_OSF_failures_in_true_positive_predictions + 1;\n",
    "            if (final_true_positive_observations_with_failure_modes.loc[k,\"Machinefailure\"]==1) and (final_true_positive_observations_with_failure_modes.loc[k,\"TWF\"]==0) and (final_true_positive_observations_with_failure_modes.loc[k,\"HDF\"]==0) and (final_true_positive_observations_with_failure_modes.loc[k,\"PWF\"]==0) and (final_true_positive_observations_with_failure_modes.loc[k,\"OSF\"]==0) and (final_true_positive_observations_with_failure_modes.loc[k,\"RNF\"]==0):\n",
    "                number_of_random_failures_in_true_positive_predictions = number_of_random_failures_in_true_positive_predictions+1;\n",
    "    \n",
    "        #Calculate the correct explanations\n",
    "        correct_explanations = 0\n",
    "        correct_explanations_TWF = 0\n",
    "        correct_explanations_HDF = 0\n",
    "        correct_explanations_PWF = 0\n",
    "        correct_explanations_OSF = 0\n",
    "\n",
    "        for k in range(0,len(true_positive_observations)):\n",
    "            #if the failure mode is TWF\n",
    "            if final_true_positive_observations_with_failure_modes.loc[k,\"TWF\"]==1:\n",
    "                #if tool wear is the most important feature\n",
    "                if local_feature_importance_fcmb.loc[true_positive_indexes[k],\"Toolwearmin\"] == max(local_feature_importance_fcmb.loc[true_positive_indexes[k],:]):\n",
    "                    correct_explanations = correct_explanations+1;\n",
    "                    correct_explanations_TWF = correct_explanations_TWF + 1;\n",
    "                \n",
    "            #if the failure mode is HDF\n",
    "            if final_true_positive_observations_with_failure_modes.loc[k,\"HDF\"]==1: \n",
    "                maximum1 = max(local_feature_importance_fcmb.loc[true_positive_indexes[k],:]) \n",
    "                maximum2 = max(local_feature_importance_fcmb.loc[true_positive_indexes[k],:], key = lambda x: min(local_feature_importance_fcmb.loc[true_positive_indexes[k],:])-1 if (x == maximum1) else x)\n",
    "                if (local_feature_importance_fcmb.loc[true_positive_indexes[k],\"AirtemperatureK\"] == maximum1) or (local_feature_importance_fcmb.loc[true_positive_indexes[k],\"AirtemperatureK\"] == maximum2) or (local_feature_importance_fcmb.loc[true_positive_indexes[k],\"ProcesstemperatureK\"] == maximum1) or (local_feature_importance_fcmb.loc[true_positive_indexes[k],\"ProcesstemperatureK\"] == maximum2):\n",
    "                    correct_explanations = correct_explanations+1;\n",
    "                    correct_explanations_HDF = correct_explanations_HDF + 1;\n",
    "            \n",
    "            \n",
    "            #if the failure mode is PWF\n",
    "            if final_true_positive_observations_with_failure_modes.loc[k,\"PWF\"]==1: \n",
    "                maximum1 = max(local_feature_importance_fcmb.loc[true_positive_indexes[k],:]) \n",
    "                maximum2 = max(local_feature_importance_fcmb.loc[true_positive_indexes[k],:], key = lambda x: min(local_feature_importance_fcmb.loc[true_positive_indexes[k],:])-1 if (x == maximum1) else x)\n",
    "                if (local_feature_importance_fcmb.loc[true_positive_indexes[k],\"Rotationalspeedrpm\"] == maximum1) or (local_feature_importance_fcmb.loc[true_positive_indexes[k],\"Rotationalspeedrpm\"] == maximum2) or (local_feature_importance_fcmb.loc[true_positive_indexes[k],\"TorqueNm\"] == maximum1) or (local_feature_importance_fcmb.loc[true_positive_indexes[k],\"TorqueNm\"] == maximum2):\n",
    "                    correct_explanations = correct_explanations+1;\n",
    "                    correct_explanations_PWF = correct_explanations_PWF + 1;\n",
    "            \n",
    "            #if the failure mode is OSF        \n",
    "            if final_true_positive_observations_with_failure_modes.loc[k,\"OSF\"]==1:\n",
    "                maximum1 = max(local_feature_importance_fcmb.loc[true_positive_indexes[k],:]) \n",
    "                maximum2 = max(local_feature_importance_fcmb.loc[true_positive_indexes[k],:], key = lambda x: min(local_feature_importance_fcmb.loc[true_positive_indexes[k],:])-1 if (x == maximum1) else x)\n",
    "                if (local_feature_importance_fcmb.loc[true_positive_indexes[k],\"Toolwearmin\"] == maximum1) or (local_feature_importance_fcmb.loc[true_positive_indexes[k],\"Toolwearmin\"] == maximum2) or (local_feature_importance_fcmb.loc[true_positive_indexes[k],\"TorqueNm\"] == maximum1) or (local_feature_importance_fcmb.loc[true_positive_indexes[k],\"TorqueNm\"] == maximum2):\n",
    "                    correct_explanations = correct_explanations+1;\n",
    "                    correct_explanations_OSF = correct_explanations_OSF + 1;\n",
    "        \n",
    "        denominator = 0\n",
    "        \n",
    "        if number_of_TWF_failures_in_true_positive_predictions != 0:\n",
    "            twf_list.append(correct_explanations_TWF/number_of_TWF_failures_in_true_positive_predictions)\n",
    "            twf_success = correct_explanations_TWF/number_of_TWF_failures_in_true_positive_predictions\n",
    "            denominator = denominator + 1\n",
    "        else:\n",
    "            twf_list.append(correct_explanations_TWF)\n",
    "            twf_success = 0\n",
    "        if number_of_HDF_failures_in_true_positive_predictions != 0:\n",
    "            hdf_list.append(correct_explanations_HDF/number_of_HDF_failures_in_true_positive_predictions)\n",
    "            hdf_success = correct_explanations_HDF/number_of_HDF_failures_in_true_positive_predictions\n",
    "            denominator = denominator + 1\n",
    "        else:\n",
    "            hdf_list.append(correct_explanations_HDF)\n",
    "            hdf_success = 0\n",
    "        if number_of_PWF_failures_in_true_positive_predictions != 0:\n",
    "            pwf_list.append(correct_explanations_PWF/number_of_PWF_failures_in_true_positive_predictions)\n",
    "            pwf_success = correct_explanations_PWF/number_of_PWF_failures_in_true_positive_predictions\n",
    "            denominator = denominator + 1\n",
    "        else:\n",
    "            pwf_list.append(correct_explanations_PWF)\n",
    "            pwf_success = 0\n",
    "        if number_of_OSF_failures_in_true_positive_predictions != 0:\n",
    "            osf_list.append(correct_explanations_OSF/number_of_OSF_failures_in_true_positive_predictions)\n",
    "            osf_success = correct_explanations_OSF/number_of_OSF_failures_in_true_positive_predictions\n",
    "            denominator = denominator + 1\n",
    "        else:\n",
    "            osf_list.append(correct_explanations_OSF)\n",
    "            osf_success = 0\n",
    "    \n",
    "        if denominator !=0:\n",
    "            average_success = (twf_success+hdf_success+pwf_success+osf_success)/denominator\n",
    "        else:\n",
    "            average_success = 0\n",
    "    \n",
    "        av_succ.append(average_success)\n",
    "        comb_list.append(comb)\n",
    "    \n",
    "    \n",
    "    \n",
    "result_df = pd.DataFrame({'Accuracy': acc_list, 'AUC': auc_list, 'Kappa':kappa_list, 'TWF':twf_list, 'HDF':hdf_list, 'PWF':pwf_list, 'OSF':osf_list, 'Average Success':av_succ, 'Combinations':comb_list})\n",
    "final_df = result_df.sort_values(by=['AUC'], ascending=False)\n",
    "final_df = final_df.reset_index(drop=True)\n",
    "best_estimator_params = grid[final_df.loc[0,\"Combinations\"]]\n",
    "display(best_estimator_params) "
   ]
  },
  {
   "cell_type": "code",
   "execution_count": 6,
   "id": "b59910ac",
   "metadata": {
    "scrolled": false
   },
   "outputs": [
    {
     "data": {
      "text/html": [
       "<div>\n",
       "<style scoped>\n",
       "    .dataframe tbody tr th:only-of-type {\n",
       "        vertical-align: middle;\n",
       "    }\n",
       "\n",
       "    .dataframe tbody tr th {\n",
       "        vertical-align: top;\n",
       "    }\n",
       "\n",
       "    .dataframe thead th {\n",
       "        text-align: right;\n",
       "    }\n",
       "</style>\n",
       "<table border=\"1\" class=\"dataframe\">\n",
       "  <thead>\n",
       "    <tr style=\"text-align: right;\">\n",
       "      <th></th>\n",
       "      <th>Accuracy</th>\n",
       "      <th>AUC</th>\n",
       "      <th>Kappa</th>\n",
       "      <th>TWF</th>\n",
       "      <th>HDF</th>\n",
       "      <th>PWF</th>\n",
       "      <th>OSF</th>\n",
       "      <th>Average Success</th>\n",
       "      <th>Combinations</th>\n",
       "    </tr>\n",
       "  </thead>\n",
       "  <tbody>\n",
       "    <tr>\n",
       "      <th>0</th>\n",
       "      <td>0.962878</td>\n",
       "      <td>0.962402</td>\n",
       "      <td>0.925538</td>\n",
       "      <td>0.000000</td>\n",
       "      <td>0.000000</td>\n",
       "      <td>1.000000</td>\n",
       "      <td>1.000000</td>\n",
       "      <td>0.500000</td>\n",
       "      <td>26</td>\n",
       "    </tr>\n",
       "    <tr>\n",
       "      <th>1</th>\n",
       "      <td>0.961736</td>\n",
       "      <td>0.961310</td>\n",
       "      <td>0.923255</td>\n",
       "      <td>0.191176</td>\n",
       "      <td>0.259843</td>\n",
       "      <td>0.851852</td>\n",
       "      <td>0.996032</td>\n",
       "      <td>0.574726</td>\n",
       "      <td>37</td>\n",
       "    </tr>\n",
       "    <tr>\n",
       "      <th>2</th>\n",
       "      <td>0.960594</td>\n",
       "      <td>0.960536</td>\n",
       "      <td>0.921023</td>\n",
       "      <td>0.000000</td>\n",
       "      <td>1.000000</td>\n",
       "      <td>0.228346</td>\n",
       "      <td>1.000000</td>\n",
       "      <td>0.557087</td>\n",
       "      <td>27</td>\n",
       "    </tr>\n",
       "    <tr>\n",
       "      <th>3</th>\n",
       "      <td>0.960023</td>\n",
       "      <td>0.959408</td>\n",
       "      <td>0.919789</td>\n",
       "      <td>0.946667</td>\n",
       "      <td>0.830709</td>\n",
       "      <td>0.446970</td>\n",
       "      <td>0.884921</td>\n",
       "      <td>0.777316</td>\n",
       "      <td>12</td>\n",
       "    </tr>\n",
       "    <tr>\n",
       "      <th>4</th>\n",
       "      <td>0.957738</td>\n",
       "      <td>0.957277</td>\n",
       "      <td>0.915233</td>\n",
       "      <td>0.000000</td>\n",
       "      <td>0.045643</td>\n",
       "      <td>0.780303</td>\n",
       "      <td>0.964286</td>\n",
       "      <td>0.447558</td>\n",
       "      <td>17</td>\n",
       "    </tr>\n",
       "    <tr>\n",
       "      <th>...</th>\n",
       "      <td>...</td>\n",
       "      <td>...</td>\n",
       "      <td>...</td>\n",
       "      <td>...</td>\n",
       "      <td>...</td>\n",
       "      <td>...</td>\n",
       "      <td>...</td>\n",
       "      <td>...</td>\n",
       "      <td>...</td>\n",
       "    </tr>\n",
       "    <tr>\n",
       "      <th>107</th>\n",
       "      <td>0.523130</td>\n",
       "      <td>0.500000</td>\n",
       "      <td>0.000000</td>\n",
       "      <td>0.000000</td>\n",
       "      <td>0.000000</td>\n",
       "      <td>1.000000</td>\n",
       "      <td>1.000000</td>\n",
       "      <td>0.500000</td>\n",
       "      <td>116</td>\n",
       "    </tr>\n",
       "    <tr>\n",
       "      <th>108</th>\n",
       "      <td>0.523130</td>\n",
       "      <td>0.500000</td>\n",
       "      <td>0.000000</td>\n",
       "      <td>1.000000</td>\n",
       "      <td>0.000000</td>\n",
       "      <td>1.000000</td>\n",
       "      <td>1.000000</td>\n",
       "      <td>0.750000</td>\n",
       "      <td>117</td>\n",
       "    </tr>\n",
       "    <tr>\n",
       "      <th>109</th>\n",
       "      <td>0.523130</td>\n",
       "      <td>0.500000</td>\n",
       "      <td>0.000000</td>\n",
       "      <td>0.000000</td>\n",
       "      <td>0.000000</td>\n",
       "      <td>1.000000</td>\n",
       "      <td>1.000000</td>\n",
       "      <td>0.500000</td>\n",
       "      <td>85</td>\n",
       "    </tr>\n",
       "    <tr>\n",
       "      <th>110</th>\n",
       "      <td>0.522559</td>\n",
       "      <td>0.499719</td>\n",
       "      <td>-0.000588</td>\n",
       "      <td>0.000000</td>\n",
       "      <td>1.000000</td>\n",
       "      <td>0.410853</td>\n",
       "      <td>0.269841</td>\n",
       "      <td>0.420173</td>\n",
       "      <td>101</td>\n",
       "    </tr>\n",
       "    <tr>\n",
       "      <th>111</th>\n",
       "      <td>0.439178</td>\n",
       "      <td>0.459473</td>\n",
       "      <td>-0.077713</td>\n",
       "      <td>1.000000</td>\n",
       "      <td>0.000000</td>\n",
       "      <td>0.000000</td>\n",
       "      <td>0.000000</td>\n",
       "      <td>0.333333</td>\n",
       "      <td>90</td>\n",
       "    </tr>\n",
       "  </tbody>\n",
       "</table>\n",
       "<p>112 rows × 9 columns</p>\n",
       "</div>"
      ],
      "text/plain": [
       "     Accuracy       AUC     Kappa       TWF       HDF       PWF       OSF  \\\n",
       "0    0.962878  0.962402  0.925538  0.000000  0.000000  1.000000  1.000000   \n",
       "1    0.961736  0.961310  0.923255  0.191176  0.259843  0.851852  0.996032   \n",
       "2    0.960594  0.960536  0.921023  0.000000  1.000000  0.228346  1.000000   \n",
       "3    0.960023  0.959408  0.919789  0.946667  0.830709  0.446970  0.884921   \n",
       "4    0.957738  0.957277  0.915233  0.000000  0.045643  0.780303  0.964286   \n",
       "..        ...       ...       ...       ...       ...       ...       ...   \n",
       "107  0.523130  0.500000  0.000000  0.000000  0.000000  1.000000  1.000000   \n",
       "108  0.523130  0.500000  0.000000  1.000000  0.000000  1.000000  1.000000   \n",
       "109  0.523130  0.500000  0.000000  0.000000  0.000000  1.000000  1.000000   \n",
       "110  0.522559  0.499719 -0.000588  0.000000  1.000000  0.410853  0.269841   \n",
       "111  0.439178  0.459473 -0.077713  1.000000  0.000000  0.000000  0.000000   \n",
       "\n",
       "     Average Success  Combinations  \n",
       "0           0.500000            26  \n",
       "1           0.574726            37  \n",
       "2           0.557087            27  \n",
       "3           0.777316            12  \n",
       "4           0.447558            17  \n",
       "..               ...           ...  \n",
       "107         0.500000           116  \n",
       "108         0.750000           117  \n",
       "109         0.500000            85  \n",
       "110         0.420173           101  \n",
       "111         0.333333            90  \n",
       "\n",
       "[112 rows x 9 columns]"
      ]
     },
     "execution_count": 6,
     "metadata": {},
     "output_type": "execute_result"
    }
   ],
   "source": [
    "final_df"
   ]
  },
  {
   "cell_type": "markdown",
   "id": "8116a21b",
   "metadata": {},
   "source": [
    "## Hyper-parameter Tuning in FCMMC Classifier"
   ]
  },
  {
   "cell_type": "code",
   "execution_count": 8,
   "id": "4f9468a4",
   "metadata": {},
   "outputs": [
    {
     "data": {
      "text/plain": [
       "'120 Combinations'"
      ]
     },
     "metadata": {},
     "output_type": "display_data"
    },
    {
     "data": {
      "text/plain": [
       "'Combination 0'"
      ]
     },
     "metadata": {},
     "output_type": "display_data"
    },
    {
     "name": "stdout",
     "output_type": "stream",
     "text": [
      "-----------------------------------------\n",
      "-----------------------------------------\n",
      "-----------------------------------------\n",
      "-----------------------------------------\n",
      "-----------------------------------------\n",
      "{'act': None, 'activation': 'sigmoid', 'activation_m': 1, 'batch_size': 16, 'buffer_size': 1000, 'depth': 2, 'dropout_p': 0.0, 'epochs': 50, 'init_method': None, 'init_y_method': 'uniform', 'learning_rate': 0.001, 'model_type': 'basic', 'optimizer': 'rmsprop', 'random_state': None, 'training_hook': [], 'training_loss': 'softmax'}\n",
      "-----------------------------------------\n"
     ]
    },
    {
     "name": "stderr",
     "output_type": "stream",
     "text": [
      "C:\\Users\\Marios\\Jupyter_Notebooks_my_papers\\Data-driven-Causal-Discovery-for-Constructing-Fuzzy-Cognitive-Maps-An-Industrial-Case-Study\\base\\classifier.py:143: UserWarning: 2018.12.16 The instruction  'loss = loss/self.batch_size' was commented out. Due to increased gradient values check the optimizer learning rate \n",
      "  warnings.warn('2018.12.16 The instruction  \\'loss = loss/self.batch_size\\' was commented out. Due to increased gradient values check the optimizer learning rate ')\n"
     ]
    },
    {
     "name": "stdout",
     "output_type": "stream",
     "text": [
      "Learning time 650.4616785049438 sec\n",
      "\n"
     ]
    },
    {
     "data": {
      "text/plain": [
       "'Combination 1'"
      ]
     },
     "metadata": {},
     "output_type": "display_data"
    },
    {
     "name": "stdout",
     "output_type": "stream",
     "text": [
      "-----------------------------------------\n",
      "-----------------------------------------\n",
      "-----------------------------------------\n",
      "-----------------------------------------\n",
      "-----------------------------------------\n",
      "{'act': None, 'activation': 'sigmoid', 'activation_m': 1, 'batch_size': 16, 'buffer_size': 1000, 'depth': 2, 'dropout_p': 0.0, 'epochs': 50, 'init_method': None, 'init_y_method': 'uniform', 'learning_rate': 0.01, 'model_type': 'basic', 'optimizer': 'rmsprop', 'random_state': None, 'training_hook': [], 'training_loss': 'softmax'}\n",
      "-----------------------------------------\n"
     ]
    },
    {
     "name": "stderr",
     "output_type": "stream",
     "text": [
      "C:\\Users\\Marios\\Jupyter_Notebooks_my_papers\\Data-driven-Causal-Discovery-for-Constructing-Fuzzy-Cognitive-Maps-An-Industrial-Case-Study\\base\\classifier.py:143: UserWarning: 2018.12.16 The instruction  'loss = loss/self.batch_size' was commented out. Due to increased gradient values check the optimizer learning rate \n",
      "  warnings.warn('2018.12.16 The instruction  \\'loss = loss/self.batch_size\\' was commented out. Due to increased gradient values check the optimizer learning rate ')\n"
     ]
    },
    {
     "name": "stdout",
     "output_type": "stream",
     "text": [
      "Learning time 643.8031415939331 sec\n",
      "\n"
     ]
    },
    {
     "data": {
      "text/plain": [
       "'Combination 2'"
      ]
     },
     "metadata": {},
     "output_type": "display_data"
    },
    {
     "name": "stdout",
     "output_type": "stream",
     "text": [
      "-----------------------------------------\n",
      "-----------------------------------------\n",
      "-----------------------------------------\n",
      "-----------------------------------------\n",
      "-----------------------------------------\n",
      "{'act': None, 'activation': 'sigmoid', 'activation_m': 1, 'batch_size': 16, 'buffer_size': 1000, 'depth': 2, 'dropout_p': 0.0, 'epochs': 50, 'init_method': None, 'init_y_method': 'uniform', 'learning_rate': 0.05, 'model_type': 'basic', 'optimizer': 'rmsprop', 'random_state': None, 'training_hook': [], 'training_loss': 'softmax'}\n",
      "-----------------------------------------\n"
     ]
    },
    {
     "name": "stderr",
     "output_type": "stream",
     "text": [
      "C:\\Users\\Marios\\Jupyter_Notebooks_my_papers\\Data-driven-Causal-Discovery-for-Constructing-Fuzzy-Cognitive-Maps-An-Industrial-Case-Study\\base\\classifier.py:143: UserWarning: 2018.12.16 The instruction  'loss = loss/self.batch_size' was commented out. Due to increased gradient values check the optimizer learning rate \n",
      "  warnings.warn('2018.12.16 The instruction  \\'loss = loss/self.batch_size\\' was commented out. Due to increased gradient values check the optimizer learning rate ')\n"
     ]
    },
    {
     "name": "stdout",
     "output_type": "stream",
     "text": [
      "Learning time 683.0912373065948 sec\n",
      "\n"
     ]
    },
    {
     "data": {
      "text/plain": [
       "'Combination 3'"
      ]
     },
     "metadata": {},
     "output_type": "display_data"
    },
    {
     "name": "stdout",
     "output_type": "stream",
     "text": [
      "-----------------------------------------\n",
      "-----------------------------------------\n",
      "-----------------------------------------\n",
      "-----------------------------------------\n",
      "-----------------------------------------\n",
      "{'act': None, 'activation': 'sigmoid', 'activation_m': 1, 'batch_size': 16, 'buffer_size': 1000, 'depth': 2, 'dropout_p': 0.0, 'epochs': 50, 'init_method': None, 'init_y_method': 'uniform', 'learning_rate': 0.1, 'model_type': 'basic', 'optimizer': 'rmsprop', 'random_state': None, 'training_hook': [], 'training_loss': 'softmax'}\n",
      "-----------------------------------------\n"
     ]
    },
    {
     "name": "stderr",
     "output_type": "stream",
     "text": [
      "C:\\Users\\Marios\\Jupyter_Notebooks_my_papers\\Data-driven-Causal-Discovery-for-Constructing-Fuzzy-Cognitive-Maps-An-Industrial-Case-Study\\base\\classifier.py:143: UserWarning: 2018.12.16 The instruction  'loss = loss/self.batch_size' was commented out. Due to increased gradient values check the optimizer learning rate \n",
      "  warnings.warn('2018.12.16 The instruction  \\'loss = loss/self.batch_size\\' was commented out. Due to increased gradient values check the optimizer learning rate ')\n"
     ]
    },
    {
     "name": "stdout",
     "output_type": "stream",
     "text": [
      "Learning time 643.5519979000092 sec\n",
      "\n"
     ]
    },
    {
     "data": {
      "text/plain": [
       "'Combination 4'"
      ]
     },
     "metadata": {},
     "output_type": "display_data"
    },
    {
     "name": "stdout",
     "output_type": "stream",
     "text": [
      "-----------------------------------------\n",
      "-----------------------------------------\n",
      "-----------------------------------------\n",
      "-----------------------------------------\n",
      "-----------------------------------------\n",
      "{'act': None, 'activation': 'sigmoid', 'activation_m': 1, 'batch_size': 16, 'buffer_size': 1000, 'depth': 2, 'dropout_p': 0.0, 'epochs': 50, 'init_method': None, 'init_y_method': 'uniform', 'learning_rate': 0.5, 'model_type': 'basic', 'optimizer': 'rmsprop', 'random_state': None, 'training_hook': [], 'training_loss': 'softmax'}\n",
      "-----------------------------------------\n"
     ]
    },
    {
     "name": "stderr",
     "output_type": "stream",
     "text": [
      "C:\\Users\\Marios\\Jupyter_Notebooks_my_papers\\Data-driven-Causal-Discovery-for-Constructing-Fuzzy-Cognitive-Maps-An-Industrial-Case-Study\\base\\classifier.py:143: UserWarning: 2018.12.16 The instruction  'loss = loss/self.batch_size' was commented out. Due to increased gradient values check the optimizer learning rate \n",
      "  warnings.warn('2018.12.16 The instruction  \\'loss = loss/self.batch_size\\' was commented out. Due to increased gradient values check the optimizer learning rate ')\n"
     ]
    },
    {
     "name": "stdout",
     "output_type": "stream",
     "text": [
      "Learning time 640.9086174964905 sec\n",
      "\n"
     ]
    },
    {
     "data": {
      "text/plain": [
       "'Combination 5'"
      ]
     },
     "metadata": {},
     "output_type": "display_data"
    },
    {
     "name": "stdout",
     "output_type": "stream",
     "text": [
      "-----------------------------------------\n",
      "-----------------------------------------\n",
      "-----------------------------------------\n",
      "-----------------------------------------\n",
      "-----------------------------------------\n",
      "{'act': None, 'activation': 'sigmoid', 'activation_m': 1, 'batch_size': 16, 'buffer_size': 1000, 'depth': 2, 'dropout_p': 0.0, 'epochs': 100, 'init_method': None, 'init_y_method': 'uniform', 'learning_rate': 0.001, 'model_type': 'basic', 'optimizer': 'rmsprop', 'random_state': None, 'training_hook': [], 'training_loss': 'softmax'}\n",
      "-----------------------------------------\n"
     ]
    },
    {
     "name": "stderr",
     "output_type": "stream",
     "text": [
      "C:\\Users\\Marios\\Jupyter_Notebooks_my_papers\\Data-driven-Causal-Discovery-for-Constructing-Fuzzy-Cognitive-Maps-An-Industrial-Case-Study\\base\\classifier.py:143: UserWarning: 2018.12.16 The instruction  'loss = loss/self.batch_size' was commented out. Due to increased gradient values check the optimizer learning rate \n",
      "  warnings.warn('2018.12.16 The instruction  \\'loss = loss/self.batch_size\\' was commented out. Due to increased gradient values check the optimizer learning rate ')\n"
     ]
    },
    {
     "name": "stdout",
     "output_type": "stream",
     "text": [
      "Learning time 1310.8396592140198 sec\n",
      "\n"
     ]
    },
    {
     "data": {
      "text/plain": [
       "'Combination 6'"
      ]
     },
     "metadata": {},
     "output_type": "display_data"
    },
    {
     "name": "stdout",
     "output_type": "stream",
     "text": [
      "-----------------------------------------\n",
      "-----------------------------------------\n",
      "-----------------------------------------\n",
      "-----------------------------------------\n",
      "-----------------------------------------\n",
      "{'act': None, 'activation': 'sigmoid', 'activation_m': 1, 'batch_size': 16, 'buffer_size': 1000, 'depth': 2, 'dropout_p': 0.0, 'epochs': 100, 'init_method': None, 'init_y_method': 'uniform', 'learning_rate': 0.01, 'model_type': 'basic', 'optimizer': 'rmsprop', 'random_state': None, 'training_hook': [], 'training_loss': 'softmax'}\n",
      "-----------------------------------------\n"
     ]
    },
    {
     "name": "stderr",
     "output_type": "stream",
     "text": [
      "C:\\Users\\Marios\\Jupyter_Notebooks_my_papers\\Data-driven-Causal-Discovery-for-Constructing-Fuzzy-Cognitive-Maps-An-Industrial-Case-Study\\base\\classifier.py:143: UserWarning: 2018.12.16 The instruction  'loss = loss/self.batch_size' was commented out. Due to increased gradient values check the optimizer learning rate \n",
      "  warnings.warn('2018.12.16 The instruction  \\'loss = loss/self.batch_size\\' was commented out. Due to increased gradient values check the optimizer learning rate ')\n"
     ]
    },
    {
     "name": "stdout",
     "output_type": "stream",
     "text": [
      "Learning time 1337.5753781795502 sec\n",
      "\n"
     ]
    },
    {
     "data": {
      "text/plain": [
       "'Combination 7'"
      ]
     },
     "metadata": {},
     "output_type": "display_data"
    },
    {
     "name": "stdout",
     "output_type": "stream",
     "text": [
      "-----------------------------------------\n",
      "-----------------------------------------\n",
      "-----------------------------------------\n",
      "-----------------------------------------\n",
      "-----------------------------------------\n",
      "{'act': None, 'activation': 'sigmoid', 'activation_m': 1, 'batch_size': 16, 'buffer_size': 1000, 'depth': 2, 'dropout_p': 0.0, 'epochs': 100, 'init_method': None, 'init_y_method': 'uniform', 'learning_rate': 0.05, 'model_type': 'basic', 'optimizer': 'rmsprop', 'random_state': None, 'training_hook': [], 'training_loss': 'softmax'}\n",
      "-----------------------------------------\n"
     ]
    },
    {
     "name": "stderr",
     "output_type": "stream",
     "text": [
      "C:\\Users\\Marios\\Jupyter_Notebooks_my_papers\\Data-driven-Causal-Discovery-for-Constructing-Fuzzy-Cognitive-Maps-An-Industrial-Case-Study\\base\\classifier.py:143: UserWarning: 2018.12.16 The instruction  'loss = loss/self.batch_size' was commented out. Due to increased gradient values check the optimizer learning rate \n",
      "  warnings.warn('2018.12.16 The instruction  \\'loss = loss/self.batch_size\\' was commented out. Due to increased gradient values check the optimizer learning rate ')\n"
     ]
    },
    {
     "name": "stdout",
     "output_type": "stream",
     "text": [
      "Learning time 1941.0998361110687 sec\n",
      "\n"
     ]
    },
    {
     "data": {
      "text/plain": [
       "'Combination 8'"
      ]
     },
     "metadata": {},
     "output_type": "display_data"
    },
    {
     "name": "stdout",
     "output_type": "stream",
     "text": [
      "-----------------------------------------\n",
      "-----------------------------------------\n",
      "-----------------------------------------\n",
      "-----------------------------------------\n",
      "-----------------------------------------\n",
      "{'act': None, 'activation': 'sigmoid', 'activation_m': 1, 'batch_size': 16, 'buffer_size': 1000, 'depth': 2, 'dropout_p': 0.0, 'epochs': 100, 'init_method': None, 'init_y_method': 'uniform', 'learning_rate': 0.1, 'model_type': 'basic', 'optimizer': 'rmsprop', 'random_state': None, 'training_hook': [], 'training_loss': 'softmax'}\n",
      "-----------------------------------------\n"
     ]
    },
    {
     "name": "stderr",
     "output_type": "stream",
     "text": [
      "C:\\Users\\Marios\\Jupyter_Notebooks_my_papers\\Data-driven-Causal-Discovery-for-Constructing-Fuzzy-Cognitive-Maps-An-Industrial-Case-Study\\base\\classifier.py:143: UserWarning: 2018.12.16 The instruction  'loss = loss/self.batch_size' was commented out. Due to increased gradient values check the optimizer learning rate \n",
      "  warnings.warn('2018.12.16 The instruction  \\'loss = loss/self.batch_size\\' was commented out. Due to increased gradient values check the optimizer learning rate ')\n"
     ]
    },
    {
     "name": "stdout",
     "output_type": "stream",
     "text": [
      "Learning time 1464.0022196769714 sec\n",
      "\n"
     ]
    },
    {
     "data": {
      "text/plain": [
       "'Combination 9'"
      ]
     },
     "metadata": {},
     "output_type": "display_data"
    },
    {
     "name": "stdout",
     "output_type": "stream",
     "text": [
      "-----------------------------------------\n",
      "-----------------------------------------\n",
      "-----------------------------------------\n",
      "-----------------------------------------\n",
      "-----------------------------------------\n",
      "{'act': None, 'activation': 'sigmoid', 'activation_m': 1, 'batch_size': 16, 'buffer_size': 1000, 'depth': 2, 'dropout_p': 0.0, 'epochs': 100, 'init_method': None, 'init_y_method': 'uniform', 'learning_rate': 0.5, 'model_type': 'basic', 'optimizer': 'rmsprop', 'random_state': None, 'training_hook': [], 'training_loss': 'softmax'}\n",
      "-----------------------------------------\n"
     ]
    },
    {
     "name": "stderr",
     "output_type": "stream",
     "text": [
      "C:\\Users\\Marios\\Jupyter_Notebooks_my_papers\\Data-driven-Causal-Discovery-for-Constructing-Fuzzy-Cognitive-Maps-An-Industrial-Case-Study\\base\\classifier.py:143: UserWarning: 2018.12.16 The instruction  'loss = loss/self.batch_size' was commented out. Due to increased gradient values check the optimizer learning rate \n",
      "  warnings.warn('2018.12.16 The instruction  \\'loss = loss/self.batch_size\\' was commented out. Due to increased gradient values check the optimizer learning rate ')\n"
     ]
    },
    {
     "name": "stdout",
     "output_type": "stream",
     "text": [
      "Learning time 1618.230833530426 sec\n",
      "\n"
     ]
    },
    {
     "data": {
      "text/plain": [
       "'Combination 10'"
      ]
     },
     "metadata": {},
     "output_type": "display_data"
    },
    {
     "name": "stdout",
     "output_type": "stream",
     "text": [
      "-----------------------------------------\n",
      "-----------------------------------------\n",
      "-----------------------------------------\n",
      "-----------------------------------------\n",
      "-----------------------------------------\n",
      "{'act': None, 'activation': 'sigmoid', 'activation_m': 1, 'batch_size': 16, 'buffer_size': 1000, 'depth': 3, 'dropout_p': 0.0, 'epochs': 50, 'init_method': None, 'init_y_method': 'uniform', 'learning_rate': 0.001, 'model_type': 'basic', 'optimizer': 'rmsprop', 'random_state': None, 'training_hook': [], 'training_loss': 'softmax'}\n",
      "-----------------------------------------\n"
     ]
    },
    {
     "name": "stderr",
     "output_type": "stream",
     "text": [
      "C:\\Users\\Marios\\Jupyter_Notebooks_my_papers\\Data-driven-Causal-Discovery-for-Constructing-Fuzzy-Cognitive-Maps-An-Industrial-Case-Study\\base\\classifier.py:143: UserWarning: 2018.12.16 The instruction  'loss = loss/self.batch_size' was commented out. Due to increased gradient values check the optimizer learning rate \n",
      "  warnings.warn('2018.12.16 The instruction  \\'loss = loss/self.batch_size\\' was commented out. Due to increased gradient values check the optimizer learning rate ')\n"
     ]
    },
    {
     "name": "stdout",
     "output_type": "stream",
     "text": [
      "Learning time 892.316403388977 sec\n",
      "\n"
     ]
    },
    {
     "data": {
      "text/plain": [
       "'Combination 11'"
      ]
     },
     "metadata": {},
     "output_type": "display_data"
    },
    {
     "name": "stdout",
     "output_type": "stream",
     "text": [
      "-----------------------------------------\n",
      "-----------------------------------------\n",
      "-----------------------------------------\n",
      "-----------------------------------------\n",
      "-----------------------------------------\n",
      "{'act': None, 'activation': 'sigmoid', 'activation_m': 1, 'batch_size': 16, 'buffer_size': 1000, 'depth': 3, 'dropout_p': 0.0, 'epochs': 50, 'init_method': None, 'init_y_method': 'uniform', 'learning_rate': 0.01, 'model_type': 'basic', 'optimizer': 'rmsprop', 'random_state': None, 'training_hook': [], 'training_loss': 'softmax'}\n",
      "-----------------------------------------\n"
     ]
    },
    {
     "name": "stderr",
     "output_type": "stream",
     "text": [
      "C:\\Users\\Marios\\Jupyter_Notebooks_my_papers\\Data-driven-Causal-Discovery-for-Constructing-Fuzzy-Cognitive-Maps-An-Industrial-Case-Study\\base\\classifier.py:143: UserWarning: 2018.12.16 The instruction  'loss = loss/self.batch_size' was commented out. Due to increased gradient values check the optimizer learning rate \n",
      "  warnings.warn('2018.12.16 The instruction  \\'loss = loss/self.batch_size\\' was commented out. Due to increased gradient values check the optimizer learning rate ')\n"
     ]
    },
    {
     "name": "stdout",
     "output_type": "stream",
     "text": [
      "Learning time 1255.4395220279694 sec\n",
      "\n"
     ]
    },
    {
     "data": {
      "text/plain": [
       "'Combination 12'"
      ]
     },
     "metadata": {},
     "output_type": "display_data"
    },
    {
     "name": "stdout",
     "output_type": "stream",
     "text": [
      "-----------------------------------------\n",
      "-----------------------------------------\n",
      "-----------------------------------------\n",
      "-----------------------------------------\n",
      "-----------------------------------------\n",
      "{'act': None, 'activation': 'sigmoid', 'activation_m': 1, 'batch_size': 16, 'buffer_size': 1000, 'depth': 3, 'dropout_p': 0.0, 'epochs': 50, 'init_method': None, 'init_y_method': 'uniform', 'learning_rate': 0.05, 'model_type': 'basic', 'optimizer': 'rmsprop', 'random_state': None, 'training_hook': [], 'training_loss': 'softmax'}\n",
      "-----------------------------------------\n"
     ]
    },
    {
     "name": "stderr",
     "output_type": "stream",
     "text": [
      "C:\\Users\\Marios\\Jupyter_Notebooks_my_papers\\Data-driven-Causal-Discovery-for-Constructing-Fuzzy-Cognitive-Maps-An-Industrial-Case-Study\\base\\classifier.py:143: UserWarning: 2018.12.16 The instruction  'loss = loss/self.batch_size' was commented out. Due to increased gradient values check the optimizer learning rate \n",
      "  warnings.warn('2018.12.16 The instruction  \\'loss = loss/self.batch_size\\' was commented out. Due to increased gradient values check the optimizer learning rate ')\n"
     ]
    },
    {
     "name": "stdout",
     "output_type": "stream",
     "text": [
      "Learning time 848.9747264385223 sec\n",
      "\n"
     ]
    },
    {
     "data": {
      "text/plain": [
       "'Combination 13'"
      ]
     },
     "metadata": {},
     "output_type": "display_data"
    },
    {
     "name": "stdout",
     "output_type": "stream",
     "text": [
      "-----------------------------------------\n",
      "-----------------------------------------\n",
      "-----------------------------------------\n",
      "-----------------------------------------\n",
      "-----------------------------------------\n",
      "{'act': None, 'activation': 'sigmoid', 'activation_m': 1, 'batch_size': 16, 'buffer_size': 1000, 'depth': 3, 'dropout_p': 0.0, 'epochs': 50, 'init_method': None, 'init_y_method': 'uniform', 'learning_rate': 0.1, 'model_type': 'basic', 'optimizer': 'rmsprop', 'random_state': None, 'training_hook': [], 'training_loss': 'softmax'}\n",
      "-----------------------------------------\n"
     ]
    },
    {
     "name": "stderr",
     "output_type": "stream",
     "text": [
      "C:\\Users\\Marios\\Jupyter_Notebooks_my_papers\\Data-driven-Causal-Discovery-for-Constructing-Fuzzy-Cognitive-Maps-An-Industrial-Case-Study\\base\\classifier.py:143: UserWarning: 2018.12.16 The instruction  'loss = loss/self.batch_size' was commented out. Due to increased gradient values check the optimizer learning rate \n",
      "  warnings.warn('2018.12.16 The instruction  \\'loss = loss/self.batch_size\\' was commented out. Due to increased gradient values check the optimizer learning rate ')\n"
     ]
    },
    {
     "name": "stdout",
     "output_type": "stream",
     "text": [
      "Learning time 773.0415534973145 sec\n",
      "\n"
     ]
    },
    {
     "data": {
      "text/plain": [
       "'Combination 14'"
      ]
     },
     "metadata": {},
     "output_type": "display_data"
    },
    {
     "name": "stdout",
     "output_type": "stream",
     "text": [
      "-----------------------------------------\n",
      "-----------------------------------------\n",
      "-----------------------------------------\n",
      "-----------------------------------------\n",
      "-----------------------------------------\n",
      "{'act': None, 'activation': 'sigmoid', 'activation_m': 1, 'batch_size': 16, 'buffer_size': 1000, 'depth': 3, 'dropout_p': 0.0, 'epochs': 50, 'init_method': None, 'init_y_method': 'uniform', 'learning_rate': 0.5, 'model_type': 'basic', 'optimizer': 'rmsprop', 'random_state': None, 'training_hook': [], 'training_loss': 'softmax'}\n",
      "-----------------------------------------\n"
     ]
    },
    {
     "name": "stderr",
     "output_type": "stream",
     "text": [
      "C:\\Users\\Marios\\Jupyter_Notebooks_my_papers\\Data-driven-Causal-Discovery-for-Constructing-Fuzzy-Cognitive-Maps-An-Industrial-Case-Study\\base\\classifier.py:143: UserWarning: 2018.12.16 The instruction  'loss = loss/self.batch_size' was commented out. Due to increased gradient values check the optimizer learning rate \n",
      "  warnings.warn('2018.12.16 The instruction  \\'loss = loss/self.batch_size\\' was commented out. Due to increased gradient values check the optimizer learning rate ')\n"
     ]
    },
    {
     "name": "stdout",
     "output_type": "stream",
     "text": [
      "Learning time 891.4301354885101 sec\n",
      "\n"
     ]
    },
    {
     "data": {
      "text/plain": [
       "'Combination 15'"
      ]
     },
     "metadata": {},
     "output_type": "display_data"
    },
    {
     "name": "stdout",
     "output_type": "stream",
     "text": [
      "-----------------------------------------\n",
      "-----------------------------------------\n",
      "-----------------------------------------\n",
      "-----------------------------------------\n",
      "-----------------------------------------\n",
      "{'act': None, 'activation': 'sigmoid', 'activation_m': 1, 'batch_size': 16, 'buffer_size': 1000, 'depth': 3, 'dropout_p': 0.0, 'epochs': 100, 'init_method': None, 'init_y_method': 'uniform', 'learning_rate': 0.001, 'model_type': 'basic', 'optimizer': 'rmsprop', 'random_state': None, 'training_hook': [], 'training_loss': 'softmax'}\n",
      "-----------------------------------------\n"
     ]
    },
    {
     "name": "stderr",
     "output_type": "stream",
     "text": [
      "C:\\Users\\Marios\\Jupyter_Notebooks_my_papers\\Data-driven-Causal-Discovery-for-Constructing-Fuzzy-Cognitive-Maps-An-Industrial-Case-Study\\base\\classifier.py:143: UserWarning: 2018.12.16 The instruction  'loss = loss/self.batch_size' was commented out. Due to increased gradient values check the optimizer learning rate \n",
      "  warnings.warn('2018.12.16 The instruction  \\'loss = loss/self.batch_size\\' was commented out. Due to increased gradient values check the optimizer learning rate ')\n"
     ]
    },
    {
     "name": "stdout",
     "output_type": "stream",
     "text": [
      "Learning time 1924.9202449321747 sec\n",
      "\n"
     ]
    },
    {
     "data": {
      "text/plain": [
       "'Combination 16'"
      ]
     },
     "metadata": {},
     "output_type": "display_data"
    },
    {
     "name": "stdout",
     "output_type": "stream",
     "text": [
      "-----------------------------------------\n",
      "-----------------------------------------\n",
      "-----------------------------------------\n",
      "-----------------------------------------\n",
      "-----------------------------------------\n",
      "{'act': None, 'activation': 'sigmoid', 'activation_m': 1, 'batch_size': 16, 'buffer_size': 1000, 'depth': 3, 'dropout_p': 0.0, 'epochs': 100, 'init_method': None, 'init_y_method': 'uniform', 'learning_rate': 0.01, 'model_type': 'basic', 'optimizer': 'rmsprop', 'random_state': None, 'training_hook': [], 'training_loss': 'softmax'}\n",
      "-----------------------------------------\n"
     ]
    },
    {
     "name": "stderr",
     "output_type": "stream",
     "text": [
      "C:\\Users\\Marios\\Jupyter_Notebooks_my_papers\\Data-driven-Causal-Discovery-for-Constructing-Fuzzy-Cognitive-Maps-An-Industrial-Case-Study\\base\\classifier.py:143: UserWarning: 2018.12.16 The instruction  'loss = loss/self.batch_size' was commented out. Due to increased gradient values check the optimizer learning rate \n",
      "  warnings.warn('2018.12.16 The instruction  \\'loss = loss/self.batch_size\\' was commented out. Due to increased gradient values check the optimizer learning rate ')\n"
     ]
    },
    {
     "name": "stdout",
     "output_type": "stream",
     "text": [
      "Learning time 2198.8158316612244 sec\n",
      "\n"
     ]
    },
    {
     "data": {
      "text/plain": [
       "'Combination 17'"
      ]
     },
     "metadata": {},
     "output_type": "display_data"
    },
    {
     "name": "stdout",
     "output_type": "stream",
     "text": [
      "-----------------------------------------\n",
      "-----------------------------------------\n",
      "-----------------------------------------\n",
      "-----------------------------------------\n",
      "-----------------------------------------\n",
      "{'act': None, 'activation': 'sigmoid', 'activation_m': 1, 'batch_size': 16, 'buffer_size': 1000, 'depth': 3, 'dropout_p': 0.0, 'epochs': 100, 'init_method': None, 'init_y_method': 'uniform', 'learning_rate': 0.05, 'model_type': 'basic', 'optimizer': 'rmsprop', 'random_state': None, 'training_hook': [], 'training_loss': 'softmax'}\n",
      "-----------------------------------------\n"
     ]
    },
    {
     "name": "stderr",
     "output_type": "stream",
     "text": [
      "C:\\Users\\Marios\\Jupyter_Notebooks_my_papers\\Data-driven-Causal-Discovery-for-Constructing-Fuzzy-Cognitive-Maps-An-Industrial-Case-Study\\base\\classifier.py:143: UserWarning: 2018.12.16 The instruction  'loss = loss/self.batch_size' was commented out. Due to increased gradient values check the optimizer learning rate \n",
      "  warnings.warn('2018.12.16 The instruction  \\'loss = loss/self.batch_size\\' was commented out. Due to increased gradient values check the optimizer learning rate ')\n"
     ]
    },
    {
     "name": "stdout",
     "output_type": "stream",
     "text": [
      "Learning time 1799.7936322689056 sec\n",
      "\n"
     ]
    },
    {
     "data": {
      "text/plain": [
       "'Combination 18'"
      ]
     },
     "metadata": {},
     "output_type": "display_data"
    },
    {
     "name": "stdout",
     "output_type": "stream",
     "text": [
      "-----------------------------------------\n",
      "-----------------------------------------\n",
      "-----------------------------------------\n",
      "-----------------------------------------\n",
      "-----------------------------------------\n",
      "{'act': None, 'activation': 'sigmoid', 'activation_m': 1, 'batch_size': 16, 'buffer_size': 1000, 'depth': 3, 'dropout_p': 0.0, 'epochs': 100, 'init_method': None, 'init_y_method': 'uniform', 'learning_rate': 0.1, 'model_type': 'basic', 'optimizer': 'rmsprop', 'random_state': None, 'training_hook': [], 'training_loss': 'softmax'}\n",
      "-----------------------------------------\n"
     ]
    },
    {
     "name": "stderr",
     "output_type": "stream",
     "text": [
      "C:\\Users\\Marios\\Jupyter_Notebooks_my_papers\\Data-driven-Causal-Discovery-for-Constructing-Fuzzy-Cognitive-Maps-An-Industrial-Case-Study\\base\\classifier.py:143: UserWarning: 2018.12.16 The instruction  'loss = loss/self.batch_size' was commented out. Due to increased gradient values check the optimizer learning rate \n",
      "  warnings.warn('2018.12.16 The instruction  \\'loss = loss/self.batch_size\\' was commented out. Due to increased gradient values check the optimizer learning rate ')\n"
     ]
    },
    {
     "name": "stdout",
     "output_type": "stream",
     "text": [
      "Learning time 1496.4293859004974 sec\n",
      "\n"
     ]
    },
    {
     "data": {
      "text/plain": [
       "'Combination 19'"
      ]
     },
     "metadata": {},
     "output_type": "display_data"
    },
    {
     "name": "stdout",
     "output_type": "stream",
     "text": [
      "-----------------------------------------\n",
      "-----------------------------------------\n",
      "-----------------------------------------\n",
      "-----------------------------------------\n",
      "-----------------------------------------\n",
      "{'act': None, 'activation': 'sigmoid', 'activation_m': 1, 'batch_size': 16, 'buffer_size': 1000, 'depth': 3, 'dropout_p': 0.0, 'epochs': 100, 'init_method': None, 'init_y_method': 'uniform', 'learning_rate': 0.5, 'model_type': 'basic', 'optimizer': 'rmsprop', 'random_state': None, 'training_hook': [], 'training_loss': 'softmax'}\n",
      "-----------------------------------------\n"
     ]
    },
    {
     "name": "stderr",
     "output_type": "stream",
     "text": [
      "C:\\Users\\Marios\\Jupyter_Notebooks_my_papers\\Data-driven-Causal-Discovery-for-Constructing-Fuzzy-Cognitive-Maps-An-Industrial-Case-Study\\base\\classifier.py:143: UserWarning: 2018.12.16 The instruction  'loss = loss/self.batch_size' was commented out. Due to increased gradient values check the optimizer learning rate \n",
      "  warnings.warn('2018.12.16 The instruction  \\'loss = loss/self.batch_size\\' was commented out. Due to increased gradient values check the optimizer learning rate ')\n"
     ]
    },
    {
     "name": "stdout",
     "output_type": "stream",
     "text": [
      "Learning time 1479.3104662895203 sec\n",
      "\n"
     ]
    },
    {
     "data": {
      "text/plain": [
       "'Combination 20'"
      ]
     },
     "metadata": {},
     "output_type": "display_data"
    },
    {
     "name": "stdout",
     "output_type": "stream",
     "text": [
      "-----------------------------------------\n",
      "-----------------------------------------\n",
      "-----------------------------------------\n",
      "-----------------------------------------\n",
      "-----------------------------------------\n",
      "{'act': None, 'activation': 'sigmoid', 'activation_m': 1, 'batch_size': 16, 'buffer_size': 1000, 'depth': 5, 'dropout_p': 0.0, 'epochs': 50, 'init_method': None, 'init_y_method': 'uniform', 'learning_rate': 0.001, 'model_type': 'basic', 'optimizer': 'rmsprop', 'random_state': None, 'training_hook': [], 'training_loss': 'softmax'}\n",
      "-----------------------------------------\n"
     ]
    },
    {
     "name": "stderr",
     "output_type": "stream",
     "text": [
      "C:\\Users\\Marios\\Jupyter_Notebooks_my_papers\\Data-driven-Causal-Discovery-for-Constructing-Fuzzy-Cognitive-Maps-An-Industrial-Case-Study\\base\\classifier.py:143: UserWarning: 2018.12.16 The instruction  'loss = loss/self.batch_size' was commented out. Due to increased gradient values check the optimizer learning rate \n",
      "  warnings.warn('2018.12.16 The instruction  \\'loss = loss/self.batch_size\\' was commented out. Due to increased gradient values check the optimizer learning rate ')\n"
     ]
    },
    {
     "name": "stdout",
     "output_type": "stream",
     "text": [
      "Learning time 967.2071406841278 sec\n",
      "\n"
     ]
    },
    {
     "data": {
      "text/plain": [
       "'Combination 21'"
      ]
     },
     "metadata": {},
     "output_type": "display_data"
    },
    {
     "name": "stdout",
     "output_type": "stream",
     "text": [
      "-----------------------------------------\n",
      "-----------------------------------------\n",
      "-----------------------------------------\n",
      "-----------------------------------------\n",
      "-----------------------------------------\n",
      "{'act': None, 'activation': 'sigmoid', 'activation_m': 1, 'batch_size': 16, 'buffer_size': 1000, 'depth': 5, 'dropout_p': 0.0, 'epochs': 50, 'init_method': None, 'init_y_method': 'uniform', 'learning_rate': 0.01, 'model_type': 'basic', 'optimizer': 'rmsprop', 'random_state': None, 'training_hook': [], 'training_loss': 'softmax'}\n",
      "-----------------------------------------\n"
     ]
    },
    {
     "name": "stderr",
     "output_type": "stream",
     "text": [
      "C:\\Users\\Marios\\Jupyter_Notebooks_my_papers\\Data-driven-Causal-Discovery-for-Constructing-Fuzzy-Cognitive-Maps-An-Industrial-Case-Study\\base\\classifier.py:143: UserWarning: 2018.12.16 The instruction  'loss = loss/self.batch_size' was commented out. Due to increased gradient values check the optimizer learning rate \n",
      "  warnings.warn('2018.12.16 The instruction  \\'loss = loss/self.batch_size\\' was commented out. Due to increased gradient values check the optimizer learning rate ')\n"
     ]
    },
    {
     "name": "stdout",
     "output_type": "stream",
     "text": [
      "Learning time 964.3045108318329 sec\n",
      "\n"
     ]
    },
    {
     "data": {
      "text/plain": [
       "'Combination 22'"
      ]
     },
     "metadata": {},
     "output_type": "display_data"
    },
    {
     "name": "stdout",
     "output_type": "stream",
     "text": [
      "-----------------------------------------\n",
      "-----------------------------------------\n",
      "-----------------------------------------\n",
      "-----------------------------------------\n",
      "-----------------------------------------\n",
      "{'act': None, 'activation': 'sigmoid', 'activation_m': 1, 'batch_size': 16, 'buffer_size': 1000, 'depth': 5, 'dropout_p': 0.0, 'epochs': 50, 'init_method': None, 'init_y_method': 'uniform', 'learning_rate': 0.05, 'model_type': 'basic', 'optimizer': 'rmsprop', 'random_state': None, 'training_hook': [], 'training_loss': 'softmax'}\n",
      "-----------------------------------------\n"
     ]
    },
    {
     "name": "stderr",
     "output_type": "stream",
     "text": [
      "C:\\Users\\Marios\\Jupyter_Notebooks_my_papers\\Data-driven-Causal-Discovery-for-Constructing-Fuzzy-Cognitive-Maps-An-Industrial-Case-Study\\base\\classifier.py:143: UserWarning: 2018.12.16 The instruction  'loss = loss/self.batch_size' was commented out. Due to increased gradient values check the optimizer learning rate \n",
      "  warnings.warn('2018.12.16 The instruction  \\'loss = loss/self.batch_size\\' was commented out. Due to increased gradient values check the optimizer learning rate ')\n"
     ]
    },
    {
     "name": "stdout",
     "output_type": "stream",
     "text": [
      "Learning time 965.234935760498 sec\n",
      "\n"
     ]
    },
    {
     "data": {
      "text/plain": [
       "'Combination 23'"
      ]
     },
     "metadata": {},
     "output_type": "display_data"
    },
    {
     "name": "stdout",
     "output_type": "stream",
     "text": [
      "-----------------------------------------\n",
      "-----------------------------------------\n",
      "-----------------------------------------\n",
      "-----------------------------------------\n",
      "-----------------------------------------\n",
      "{'act': None, 'activation': 'sigmoid', 'activation_m': 1, 'batch_size': 16, 'buffer_size': 1000, 'depth': 5, 'dropout_p': 0.0, 'epochs': 50, 'init_method': None, 'init_y_method': 'uniform', 'learning_rate': 0.1, 'model_type': 'basic', 'optimizer': 'rmsprop', 'random_state': None, 'training_hook': [], 'training_loss': 'softmax'}\n",
      "-----------------------------------------\n"
     ]
    },
    {
     "name": "stderr",
     "output_type": "stream",
     "text": [
      "C:\\Users\\Marios\\Jupyter_Notebooks_my_papers\\Data-driven-Causal-Discovery-for-Constructing-Fuzzy-Cognitive-Maps-An-Industrial-Case-Study\\base\\classifier.py:143: UserWarning: 2018.12.16 The instruction  'loss = loss/self.batch_size' was commented out. Due to increased gradient values check the optimizer learning rate \n",
      "  warnings.warn('2018.12.16 The instruction  \\'loss = loss/self.batch_size\\' was commented out. Due to increased gradient values check the optimizer learning rate ')\n"
     ]
    },
    {
     "name": "stdout",
     "output_type": "stream",
     "text": [
      "Learning time 968.580867767334 sec\n",
      "\n"
     ]
    },
    {
     "data": {
      "text/plain": [
       "'Combination 24'"
      ]
     },
     "metadata": {},
     "output_type": "display_data"
    },
    {
     "name": "stdout",
     "output_type": "stream",
     "text": [
      "-----------------------------------------\n",
      "-----------------------------------------\n",
      "-----------------------------------------\n",
      "-----------------------------------------\n",
      "-----------------------------------------\n",
      "{'act': None, 'activation': 'sigmoid', 'activation_m': 1, 'batch_size': 16, 'buffer_size': 1000, 'depth': 5, 'dropout_p': 0.0, 'epochs': 50, 'init_method': None, 'init_y_method': 'uniform', 'learning_rate': 0.5, 'model_type': 'basic', 'optimizer': 'rmsprop', 'random_state': None, 'training_hook': [], 'training_loss': 'softmax'}\n",
      "-----------------------------------------\n"
     ]
    },
    {
     "name": "stderr",
     "output_type": "stream",
     "text": [
      "C:\\Users\\Marios\\Jupyter_Notebooks_my_papers\\Data-driven-Causal-Discovery-for-Constructing-Fuzzy-Cognitive-Maps-An-Industrial-Case-Study\\base\\classifier.py:143: UserWarning: 2018.12.16 The instruction  'loss = loss/self.batch_size' was commented out. Due to increased gradient values check the optimizer learning rate \n",
      "  warnings.warn('2018.12.16 The instruction  \\'loss = loss/self.batch_size\\' was commented out. Due to increased gradient values check the optimizer learning rate ')\n"
     ]
    },
    {
     "name": "stdout",
     "output_type": "stream",
     "text": [
      "Learning time 965.9922571182251 sec\n",
      "\n"
     ]
    },
    {
     "data": {
      "text/plain": [
       "'Combination 25'"
      ]
     },
     "metadata": {},
     "output_type": "display_data"
    },
    {
     "name": "stdout",
     "output_type": "stream",
     "text": [
      "-----------------------------------------\n",
      "-----------------------------------------\n",
      "-----------------------------------------\n",
      "-----------------------------------------\n",
      "-----------------------------------------\n",
      "{'act': None, 'activation': 'sigmoid', 'activation_m': 1, 'batch_size': 16, 'buffer_size': 1000, 'depth': 5, 'dropout_p': 0.0, 'epochs': 100, 'init_method': None, 'init_y_method': 'uniform', 'learning_rate': 0.001, 'model_type': 'basic', 'optimizer': 'rmsprop', 'random_state': None, 'training_hook': [], 'training_loss': 'softmax'}\n",
      "-----------------------------------------\n"
     ]
    },
    {
     "name": "stderr",
     "output_type": "stream",
     "text": [
      "C:\\Users\\Marios\\Jupyter_Notebooks_my_papers\\Data-driven-Causal-Discovery-for-Constructing-Fuzzy-Cognitive-Maps-An-Industrial-Case-Study\\base\\classifier.py:143: UserWarning: 2018.12.16 The instruction  'loss = loss/self.batch_size' was commented out. Due to increased gradient values check the optimizer learning rate \n",
      "  warnings.warn('2018.12.16 The instruction  \\'loss = loss/self.batch_size\\' was commented out. Due to increased gradient values check the optimizer learning rate ')\n"
     ]
    },
    {
     "name": "stdout",
     "output_type": "stream",
     "text": [
      "Learning time 1936.2207777500153 sec\n",
      "\n"
     ]
    },
    {
     "data": {
      "text/plain": [
       "'Combination 26'"
      ]
     },
     "metadata": {},
     "output_type": "display_data"
    },
    {
     "name": "stdout",
     "output_type": "stream",
     "text": [
      "-----------------------------------------\n",
      "-----------------------------------------\n",
      "-----------------------------------------\n",
      "-----------------------------------------\n",
      "-----------------------------------------\n",
      "{'act': None, 'activation': 'sigmoid', 'activation_m': 1, 'batch_size': 16, 'buffer_size': 1000, 'depth': 5, 'dropout_p': 0.0, 'epochs': 100, 'init_method': None, 'init_y_method': 'uniform', 'learning_rate': 0.01, 'model_type': 'basic', 'optimizer': 'rmsprop', 'random_state': None, 'training_hook': [], 'training_loss': 'softmax'}\n",
      "-----------------------------------------\n"
     ]
    },
    {
     "name": "stderr",
     "output_type": "stream",
     "text": [
      "C:\\Users\\Marios\\Jupyter_Notebooks_my_papers\\Data-driven-Causal-Discovery-for-Constructing-Fuzzy-Cognitive-Maps-An-Industrial-Case-Study\\base\\classifier.py:143: UserWarning: 2018.12.16 The instruction  'loss = loss/self.batch_size' was commented out. Due to increased gradient values check the optimizer learning rate \n",
      "  warnings.warn('2018.12.16 The instruction  \\'loss = loss/self.batch_size\\' was commented out. Due to increased gradient values check the optimizer learning rate ')\n"
     ]
    },
    {
     "name": "stdout",
     "output_type": "stream",
     "text": [
      "Learning time 1952.3238484859467 sec\n",
      "\n"
     ]
    },
    {
     "data": {
      "text/plain": [
       "'Combination 27'"
      ]
     },
     "metadata": {},
     "output_type": "display_data"
    },
    {
     "name": "stdout",
     "output_type": "stream",
     "text": [
      "-----------------------------------------\n",
      "-----------------------------------------\n",
      "-----------------------------------------\n",
      "-----------------------------------------\n",
      "-----------------------------------------\n",
      "{'act': None, 'activation': 'sigmoid', 'activation_m': 1, 'batch_size': 16, 'buffer_size': 1000, 'depth': 5, 'dropout_p': 0.0, 'epochs': 100, 'init_method': None, 'init_y_method': 'uniform', 'learning_rate': 0.05, 'model_type': 'basic', 'optimizer': 'rmsprop', 'random_state': None, 'training_hook': [], 'training_loss': 'softmax'}\n",
      "-----------------------------------------\n"
     ]
    },
    {
     "name": "stderr",
     "output_type": "stream",
     "text": [
      "C:\\Users\\Marios\\Jupyter_Notebooks_my_papers\\Data-driven-Causal-Discovery-for-Constructing-Fuzzy-Cognitive-Maps-An-Industrial-Case-Study\\base\\classifier.py:143: UserWarning: 2018.12.16 The instruction  'loss = loss/self.batch_size' was commented out. Due to increased gradient values check the optimizer learning rate \n",
      "  warnings.warn('2018.12.16 The instruction  \\'loss = loss/self.batch_size\\' was commented out. Due to increased gradient values check the optimizer learning rate ')\n"
     ]
    },
    {
     "name": "stdout",
     "output_type": "stream",
     "text": [
      "Learning time 1949.0975940227509 sec\n",
      "\n"
     ]
    },
    {
     "data": {
      "text/plain": [
       "'Combination 28'"
      ]
     },
     "metadata": {},
     "output_type": "display_data"
    },
    {
     "name": "stdout",
     "output_type": "stream",
     "text": [
      "-----------------------------------------\n",
      "-----------------------------------------\n",
      "-----------------------------------------\n",
      "-----------------------------------------\n",
      "-----------------------------------------\n",
      "{'act': None, 'activation': 'sigmoid', 'activation_m': 1, 'batch_size': 16, 'buffer_size': 1000, 'depth': 5, 'dropout_p': 0.0, 'epochs': 100, 'init_method': None, 'init_y_method': 'uniform', 'learning_rate': 0.1, 'model_type': 'basic', 'optimizer': 'rmsprop', 'random_state': None, 'training_hook': [], 'training_loss': 'softmax'}\n",
      "-----------------------------------------\n"
     ]
    },
    {
     "name": "stderr",
     "output_type": "stream",
     "text": [
      "C:\\Users\\Marios\\Jupyter_Notebooks_my_papers\\Data-driven-Causal-Discovery-for-Constructing-Fuzzy-Cognitive-Maps-An-Industrial-Case-Study\\base\\classifier.py:143: UserWarning: 2018.12.16 The instruction  'loss = loss/self.batch_size' was commented out. Due to increased gradient values check the optimizer learning rate \n",
      "  warnings.warn('2018.12.16 The instruction  \\'loss = loss/self.batch_size\\' was commented out. Due to increased gradient values check the optimizer learning rate ')\n"
     ]
    },
    {
     "name": "stdout",
     "output_type": "stream",
     "text": [
      "Learning time 1937.6856453418732 sec\n",
      "\n"
     ]
    },
    {
     "data": {
      "text/plain": [
       "'Combination 29'"
      ]
     },
     "metadata": {},
     "output_type": "display_data"
    },
    {
     "name": "stdout",
     "output_type": "stream",
     "text": [
      "-----------------------------------------\n",
      "-----------------------------------------\n",
      "-----------------------------------------\n",
      "-----------------------------------------\n",
      "-----------------------------------------\n",
      "{'act': None, 'activation': 'sigmoid', 'activation_m': 1, 'batch_size': 16, 'buffer_size': 1000, 'depth': 5, 'dropout_p': 0.0, 'epochs': 100, 'init_method': None, 'init_y_method': 'uniform', 'learning_rate': 0.5, 'model_type': 'basic', 'optimizer': 'rmsprop', 'random_state': None, 'training_hook': [], 'training_loss': 'softmax'}\n",
      "-----------------------------------------\n"
     ]
    },
    {
     "name": "stderr",
     "output_type": "stream",
     "text": [
      "C:\\Users\\Marios\\Jupyter_Notebooks_my_papers\\Data-driven-Causal-Discovery-for-Constructing-Fuzzy-Cognitive-Maps-An-Industrial-Case-Study\\base\\classifier.py:143: UserWarning: 2018.12.16 The instruction  'loss = loss/self.batch_size' was commented out. Due to increased gradient values check the optimizer learning rate \n",
      "  warnings.warn('2018.12.16 The instruction  \\'loss = loss/self.batch_size\\' was commented out. Due to increased gradient values check the optimizer learning rate ')\n"
     ]
    },
    {
     "name": "stdout",
     "output_type": "stream",
     "text": [
      "Learning time 1938.000004529953 sec\n",
      "\n"
     ]
    },
    {
     "data": {
      "text/plain": [
       "'Combination 30'"
      ]
     },
     "metadata": {},
     "output_type": "display_data"
    },
    {
     "name": "stdout",
     "output_type": "stream",
     "text": [
      "-----------------------------------------\n",
      "-----------------------------------------\n",
      "-----------------------------------------\n",
      "-----------------------------------------\n",
      "-----------------------------------------\n",
      "{'act': None, 'activation': 'sigmoid', 'activation_m': 1, 'batch_size': 256, 'buffer_size': 1000, 'depth': 2, 'dropout_p': 0.0, 'epochs': 50, 'init_method': None, 'init_y_method': 'uniform', 'learning_rate': 0.001, 'model_type': 'basic', 'optimizer': 'rmsprop', 'random_state': None, 'training_hook': [], 'training_loss': 'softmax'}\n",
      "-----------------------------------------\n"
     ]
    },
    {
     "name": "stderr",
     "output_type": "stream",
     "text": [
      "C:\\Users\\Marios\\Jupyter_Notebooks_my_papers\\Data-driven-Causal-Discovery-for-Constructing-Fuzzy-Cognitive-Maps-An-Industrial-Case-Study\\base\\classifier.py:143: UserWarning: 2018.12.16 The instruction  'loss = loss/self.batch_size' was commented out. Due to increased gradient values check the optimizer learning rate \n",
      "  warnings.warn('2018.12.16 The instruction  \\'loss = loss/self.batch_size\\' was commented out. Due to increased gradient values check the optimizer learning rate ')\n"
     ]
    },
    {
     "name": "stdout",
     "output_type": "stream",
     "text": [
      "Learning time 42.856343507766724 sec\n",
      "\n"
     ]
    },
    {
     "data": {
      "text/plain": [
       "'Combination 31'"
      ]
     },
     "metadata": {},
     "output_type": "display_data"
    },
    {
     "name": "stdout",
     "output_type": "stream",
     "text": [
      "-----------------------------------------\n",
      "-----------------------------------------\n",
      "-----------------------------------------\n",
      "-----------------------------------------\n",
      "-----------------------------------------\n",
      "{'act': None, 'activation': 'sigmoid', 'activation_m': 1, 'batch_size': 256, 'buffer_size': 1000, 'depth': 2, 'dropout_p': 0.0, 'epochs': 50, 'init_method': None, 'init_y_method': 'uniform', 'learning_rate': 0.01, 'model_type': 'basic', 'optimizer': 'rmsprop', 'random_state': None, 'training_hook': [], 'training_loss': 'softmax'}\n",
      "-----------------------------------------\n"
     ]
    },
    {
     "name": "stderr",
     "output_type": "stream",
     "text": [
      "C:\\Users\\Marios\\Jupyter_Notebooks_my_papers\\Data-driven-Causal-Discovery-for-Constructing-Fuzzy-Cognitive-Maps-An-Industrial-Case-Study\\base\\classifier.py:143: UserWarning: 2018.12.16 The instruction  'loss = loss/self.batch_size' was commented out. Due to increased gradient values check the optimizer learning rate \n",
      "  warnings.warn('2018.12.16 The instruction  \\'loss = loss/self.batch_size\\' was commented out. Due to increased gradient values check the optimizer learning rate ')\n"
     ]
    },
    {
     "name": "stdout",
     "output_type": "stream",
     "text": [
      "Learning time 42.353893756866455 sec\n",
      "\n"
     ]
    },
    {
     "data": {
      "text/plain": [
       "'Combination 32'"
      ]
     },
     "metadata": {},
     "output_type": "display_data"
    },
    {
     "name": "stdout",
     "output_type": "stream",
     "text": [
      "-----------------------------------------\n",
      "-----------------------------------------\n",
      "-----------------------------------------\n",
      "-----------------------------------------\n",
      "-----------------------------------------\n",
      "{'act': None, 'activation': 'sigmoid', 'activation_m': 1, 'batch_size': 256, 'buffer_size': 1000, 'depth': 2, 'dropout_p': 0.0, 'epochs': 50, 'init_method': None, 'init_y_method': 'uniform', 'learning_rate': 0.05, 'model_type': 'basic', 'optimizer': 'rmsprop', 'random_state': None, 'training_hook': [], 'training_loss': 'softmax'}\n",
      "-----------------------------------------\n"
     ]
    },
    {
     "name": "stderr",
     "output_type": "stream",
     "text": [
      "C:\\Users\\Marios\\Jupyter_Notebooks_my_papers\\Data-driven-Causal-Discovery-for-Constructing-Fuzzy-Cognitive-Maps-An-Industrial-Case-Study\\base\\classifier.py:143: UserWarning: 2018.12.16 The instruction  'loss = loss/self.batch_size' was commented out. Due to increased gradient values check the optimizer learning rate \n",
      "  warnings.warn('2018.12.16 The instruction  \\'loss = loss/self.batch_size\\' was commented out. Due to increased gradient values check the optimizer learning rate ')\n"
     ]
    },
    {
     "name": "stdout",
     "output_type": "stream",
     "text": [
      "Learning time 43.35886311531067 sec\n",
      "\n"
     ]
    },
    {
     "data": {
      "text/plain": [
       "'Combination 33'"
      ]
     },
     "metadata": {},
     "output_type": "display_data"
    },
    {
     "name": "stdout",
     "output_type": "stream",
     "text": [
      "-----------------------------------------\n",
      "-----------------------------------------\n",
      "-----------------------------------------\n",
      "-----------------------------------------\n",
      "-----------------------------------------\n",
      "{'act': None, 'activation': 'sigmoid', 'activation_m': 1, 'batch_size': 256, 'buffer_size': 1000, 'depth': 2, 'dropout_p': 0.0, 'epochs': 50, 'init_method': None, 'init_y_method': 'uniform', 'learning_rate': 0.1, 'model_type': 'basic', 'optimizer': 'rmsprop', 'random_state': None, 'training_hook': [], 'training_loss': 'softmax'}\n",
      "-----------------------------------------\n"
     ]
    },
    {
     "name": "stderr",
     "output_type": "stream",
     "text": [
      "C:\\Users\\Marios\\Jupyter_Notebooks_my_papers\\Data-driven-Causal-Discovery-for-Constructing-Fuzzy-Cognitive-Maps-An-Industrial-Case-Study\\base\\classifier.py:143: UserWarning: 2018.12.16 The instruction  'loss = loss/self.batch_size' was commented out. Due to increased gradient values check the optimizer learning rate \n",
      "  warnings.warn('2018.12.16 The instruction  \\'loss = loss/self.batch_size\\' was commented out. Due to increased gradient values check the optimizer learning rate ')\n"
     ]
    },
    {
     "name": "stdout",
     "output_type": "stream",
     "text": [
      "Learning time 42.28029656410217 sec\n",
      "\n"
     ]
    },
    {
     "data": {
      "text/plain": [
       "'Combination 34'"
      ]
     },
     "metadata": {},
     "output_type": "display_data"
    },
    {
     "name": "stdout",
     "output_type": "stream",
     "text": [
      "-----------------------------------------\n",
      "-----------------------------------------\n",
      "-----------------------------------------\n",
      "-----------------------------------------\n",
      "-----------------------------------------\n",
      "{'act': None, 'activation': 'sigmoid', 'activation_m': 1, 'batch_size': 256, 'buffer_size': 1000, 'depth': 2, 'dropout_p': 0.0, 'epochs': 50, 'init_method': None, 'init_y_method': 'uniform', 'learning_rate': 0.5, 'model_type': 'basic', 'optimizer': 'rmsprop', 'random_state': None, 'training_hook': [], 'training_loss': 'softmax'}\n",
      "-----------------------------------------\n"
     ]
    },
    {
     "name": "stderr",
     "output_type": "stream",
     "text": [
      "C:\\Users\\Marios\\Jupyter_Notebooks_my_papers\\Data-driven-Causal-Discovery-for-Constructing-Fuzzy-Cognitive-Maps-An-Industrial-Case-Study\\base\\classifier.py:143: UserWarning: 2018.12.16 The instruction  'loss = loss/self.batch_size' was commented out. Due to increased gradient values check the optimizer learning rate \n",
      "  warnings.warn('2018.12.16 The instruction  \\'loss = loss/self.batch_size\\' was commented out. Due to increased gradient values check the optimizer learning rate ')\n"
     ]
    },
    {
     "name": "stdout",
     "output_type": "stream",
     "text": [
      "Learning time 42.2536678314209 sec\n",
      "\n"
     ]
    },
    {
     "data": {
      "text/plain": [
       "'Combination 35'"
      ]
     },
     "metadata": {},
     "output_type": "display_data"
    },
    {
     "name": "stdout",
     "output_type": "stream",
     "text": [
      "-----------------------------------------\n",
      "-----------------------------------------\n",
      "-----------------------------------------\n",
      "-----------------------------------------\n",
      "-----------------------------------------\n",
      "{'act': None, 'activation': 'sigmoid', 'activation_m': 1, 'batch_size': 256, 'buffer_size': 1000, 'depth': 2, 'dropout_p': 0.0, 'epochs': 100, 'init_method': None, 'init_y_method': 'uniform', 'learning_rate': 0.001, 'model_type': 'basic', 'optimizer': 'rmsprop', 'random_state': None, 'training_hook': [], 'training_loss': 'softmax'}\n",
      "-----------------------------------------\n"
     ]
    },
    {
     "name": "stderr",
     "output_type": "stream",
     "text": [
      "C:\\Users\\Marios\\Jupyter_Notebooks_my_papers\\Data-driven-Causal-Discovery-for-Constructing-Fuzzy-Cognitive-Maps-An-Industrial-Case-Study\\base\\classifier.py:143: UserWarning: 2018.12.16 The instruction  'loss = loss/self.batch_size' was commented out. Due to increased gradient values check the optimizer learning rate \n",
      "  warnings.warn('2018.12.16 The instruction  \\'loss = loss/self.batch_size\\' was commented out. Due to increased gradient values check the optimizer learning rate ')\n"
     ]
    },
    {
     "name": "stdout",
     "output_type": "stream",
     "text": [
      "Learning time 85.59296321868896 sec\n",
      "\n"
     ]
    },
    {
     "data": {
      "text/plain": [
       "'Combination 36'"
      ]
     },
     "metadata": {},
     "output_type": "display_data"
    },
    {
     "name": "stdout",
     "output_type": "stream",
     "text": [
      "-----------------------------------------\n",
      "-----------------------------------------\n",
      "-----------------------------------------\n",
      "-----------------------------------------\n",
      "-----------------------------------------\n",
      "{'act': None, 'activation': 'sigmoid', 'activation_m': 1, 'batch_size': 256, 'buffer_size': 1000, 'depth': 2, 'dropout_p': 0.0, 'epochs': 100, 'init_method': None, 'init_y_method': 'uniform', 'learning_rate': 0.01, 'model_type': 'basic', 'optimizer': 'rmsprop', 'random_state': None, 'training_hook': [], 'training_loss': 'softmax'}\n",
      "-----------------------------------------\n"
     ]
    },
    {
     "name": "stderr",
     "output_type": "stream",
     "text": [
      "C:\\Users\\Marios\\Jupyter_Notebooks_my_papers\\Data-driven-Causal-Discovery-for-Constructing-Fuzzy-Cognitive-Maps-An-Industrial-Case-Study\\base\\classifier.py:143: UserWarning: 2018.12.16 The instruction  'loss = loss/self.batch_size' was commented out. Due to increased gradient values check the optimizer learning rate \n",
      "  warnings.warn('2018.12.16 The instruction  \\'loss = loss/self.batch_size\\' was commented out. Due to increased gradient values check the optimizer learning rate ')\n"
     ]
    },
    {
     "name": "stdout",
     "output_type": "stream",
     "text": [
      "Learning time 85.77244186401367 sec\n",
      "\n"
     ]
    },
    {
     "data": {
      "text/plain": [
       "'Combination 37'"
      ]
     },
     "metadata": {},
     "output_type": "display_data"
    },
    {
     "name": "stdout",
     "output_type": "stream",
     "text": [
      "-----------------------------------------\n",
      "-----------------------------------------\n",
      "-----------------------------------------\n",
      "-----------------------------------------\n",
      "-----------------------------------------\n",
      "{'act': None, 'activation': 'sigmoid', 'activation_m': 1, 'batch_size': 256, 'buffer_size': 1000, 'depth': 2, 'dropout_p': 0.0, 'epochs': 100, 'init_method': None, 'init_y_method': 'uniform', 'learning_rate': 0.05, 'model_type': 'basic', 'optimizer': 'rmsprop', 'random_state': None, 'training_hook': [], 'training_loss': 'softmax'}\n",
      "-----------------------------------------\n"
     ]
    },
    {
     "name": "stderr",
     "output_type": "stream",
     "text": [
      "C:\\Users\\Marios\\Jupyter_Notebooks_my_papers\\Data-driven-Causal-Discovery-for-Constructing-Fuzzy-Cognitive-Maps-An-Industrial-Case-Study\\base\\classifier.py:143: UserWarning: 2018.12.16 The instruction  'loss = loss/self.batch_size' was commented out. Due to increased gradient values check the optimizer learning rate \n",
      "  warnings.warn('2018.12.16 The instruction  \\'loss = loss/self.batch_size\\' was commented out. Due to increased gradient values check the optimizer learning rate ')\n"
     ]
    },
    {
     "name": "stdout",
     "output_type": "stream",
     "text": [
      "Learning time 85.50943517684937 sec\n",
      "\n"
     ]
    },
    {
     "data": {
      "text/plain": [
       "'Combination 38'"
      ]
     },
     "metadata": {},
     "output_type": "display_data"
    },
    {
     "name": "stdout",
     "output_type": "stream",
     "text": [
      "-----------------------------------------\n",
      "-----------------------------------------\n",
      "-----------------------------------------\n",
      "-----------------------------------------\n",
      "-----------------------------------------\n",
      "{'act': None, 'activation': 'sigmoid', 'activation_m': 1, 'batch_size': 256, 'buffer_size': 1000, 'depth': 2, 'dropout_p': 0.0, 'epochs': 100, 'init_method': None, 'init_y_method': 'uniform', 'learning_rate': 0.1, 'model_type': 'basic', 'optimizer': 'rmsprop', 'random_state': None, 'training_hook': [], 'training_loss': 'softmax'}\n",
      "-----------------------------------------\n"
     ]
    },
    {
     "name": "stderr",
     "output_type": "stream",
     "text": [
      "C:\\Users\\Marios\\Jupyter_Notebooks_my_papers\\Data-driven-Causal-Discovery-for-Constructing-Fuzzy-Cognitive-Maps-An-Industrial-Case-Study\\base\\classifier.py:143: UserWarning: 2018.12.16 The instruction  'loss = loss/self.batch_size' was commented out. Due to increased gradient values check the optimizer learning rate \n",
      "  warnings.warn('2018.12.16 The instruction  \\'loss = loss/self.batch_size\\' was commented out. Due to increased gradient values check the optimizer learning rate ')\n"
     ]
    },
    {
     "name": "stdout",
     "output_type": "stream",
     "text": [
      "Learning time 85.7318503856659 sec\n",
      "\n"
     ]
    },
    {
     "data": {
      "text/plain": [
       "'Combination 39'"
      ]
     },
     "metadata": {},
     "output_type": "display_data"
    },
    {
     "name": "stdout",
     "output_type": "stream",
     "text": [
      "-----------------------------------------\n",
      "-----------------------------------------\n",
      "-----------------------------------------\n",
      "-----------------------------------------\n",
      "-----------------------------------------\n",
      "{'act': None, 'activation': 'sigmoid', 'activation_m': 1, 'batch_size': 256, 'buffer_size': 1000, 'depth': 2, 'dropout_p': 0.0, 'epochs': 100, 'init_method': None, 'init_y_method': 'uniform', 'learning_rate': 0.5, 'model_type': 'basic', 'optimizer': 'rmsprop', 'random_state': None, 'training_hook': [], 'training_loss': 'softmax'}\n",
      "-----------------------------------------\n"
     ]
    },
    {
     "name": "stderr",
     "output_type": "stream",
     "text": [
      "C:\\Users\\Marios\\Jupyter_Notebooks_my_papers\\Data-driven-Causal-Discovery-for-Constructing-Fuzzy-Cognitive-Maps-An-Industrial-Case-Study\\base\\classifier.py:143: UserWarning: 2018.12.16 The instruction  'loss = loss/self.batch_size' was commented out. Due to increased gradient values check the optimizer learning rate \n",
      "  warnings.warn('2018.12.16 The instruction  \\'loss = loss/self.batch_size\\' was commented out. Due to increased gradient values check the optimizer learning rate ')\n"
     ]
    },
    {
     "name": "stdout",
     "output_type": "stream",
     "text": [
      "Learning time 85.22729468345642 sec\n",
      "\n"
     ]
    },
    {
     "data": {
      "text/plain": [
       "'Combination 40'"
      ]
     },
     "metadata": {},
     "output_type": "display_data"
    },
    {
     "name": "stdout",
     "output_type": "stream",
     "text": [
      "-----------------------------------------\n",
      "-----------------------------------------\n",
      "-----------------------------------------\n",
      "-----------------------------------------\n",
      "-----------------------------------------\n",
      "{'act': None, 'activation': 'sigmoid', 'activation_m': 1, 'batch_size': 256, 'buffer_size': 1000, 'depth': 3, 'dropout_p': 0.0, 'epochs': 50, 'init_method': None, 'init_y_method': 'uniform', 'learning_rate': 0.001, 'model_type': 'basic', 'optimizer': 'rmsprop', 'random_state': None, 'training_hook': [], 'training_loss': 'softmax'}\n",
      "-----------------------------------------\n"
     ]
    },
    {
     "name": "stderr",
     "output_type": "stream",
     "text": [
      "C:\\Users\\Marios\\Jupyter_Notebooks_my_papers\\Data-driven-Causal-Discovery-for-Constructing-Fuzzy-Cognitive-Maps-An-Industrial-Case-Study\\base\\classifier.py:143: UserWarning: 2018.12.16 The instruction  'loss = loss/self.batch_size' was commented out. Due to increased gradient values check the optimizer learning rate \n",
      "  warnings.warn('2018.12.16 The instruction  \\'loss = loss/self.batch_size\\' was commented out. Due to increased gradient values check the optimizer learning rate ')\n"
     ]
    },
    {
     "name": "stdout",
     "output_type": "stream",
     "text": [
      "Learning time 50.60894966125488 sec\n",
      "\n"
     ]
    },
    {
     "data": {
      "text/plain": [
       "'Combination 41'"
      ]
     },
     "metadata": {},
     "output_type": "display_data"
    },
    {
     "name": "stdout",
     "output_type": "stream",
     "text": [
      "-----------------------------------------\n",
      "-----------------------------------------\n",
      "-----------------------------------------\n",
      "-----------------------------------------\n",
      "-----------------------------------------\n",
      "{'act': None, 'activation': 'sigmoid', 'activation_m': 1, 'batch_size': 256, 'buffer_size': 1000, 'depth': 3, 'dropout_p': 0.0, 'epochs': 50, 'init_method': None, 'init_y_method': 'uniform', 'learning_rate': 0.01, 'model_type': 'basic', 'optimizer': 'rmsprop', 'random_state': None, 'training_hook': [], 'training_loss': 'softmax'}\n",
      "-----------------------------------------\n"
     ]
    },
    {
     "name": "stderr",
     "output_type": "stream",
     "text": [
      "C:\\Users\\Marios\\Jupyter_Notebooks_my_papers\\Data-driven-Causal-Discovery-for-Constructing-Fuzzy-Cognitive-Maps-An-Industrial-Case-Study\\base\\classifier.py:143: UserWarning: 2018.12.16 The instruction  'loss = loss/self.batch_size' was commented out. Due to increased gradient values check the optimizer learning rate \n",
      "  warnings.warn('2018.12.16 The instruction  \\'loss = loss/self.batch_size\\' was commented out. Due to increased gradient values check the optimizer learning rate ')\n"
     ]
    },
    {
     "name": "stdout",
     "output_type": "stream",
     "text": [
      "Learning time 50.664849042892456 sec\n",
      "\n"
     ]
    },
    {
     "data": {
      "text/plain": [
       "'Combination 42'"
      ]
     },
     "metadata": {},
     "output_type": "display_data"
    },
    {
     "name": "stdout",
     "output_type": "stream",
     "text": [
      "-----------------------------------------\n",
      "-----------------------------------------\n",
      "-----------------------------------------\n",
      "-----------------------------------------\n",
      "-----------------------------------------\n",
      "{'act': None, 'activation': 'sigmoid', 'activation_m': 1, 'batch_size': 256, 'buffer_size': 1000, 'depth': 3, 'dropout_p': 0.0, 'epochs': 50, 'init_method': None, 'init_y_method': 'uniform', 'learning_rate': 0.05, 'model_type': 'basic', 'optimizer': 'rmsprop', 'random_state': None, 'training_hook': [], 'training_loss': 'softmax'}\n",
      "-----------------------------------------\n"
     ]
    },
    {
     "name": "stderr",
     "output_type": "stream",
     "text": [
      "C:\\Users\\Marios\\Jupyter_Notebooks_my_papers\\Data-driven-Causal-Discovery-for-Constructing-Fuzzy-Cognitive-Maps-An-Industrial-Case-Study\\base\\classifier.py:143: UserWarning: 2018.12.16 The instruction  'loss = loss/self.batch_size' was commented out. Due to increased gradient values check the optimizer learning rate \n",
      "  warnings.warn('2018.12.16 The instruction  \\'loss = loss/self.batch_size\\' was commented out. Due to increased gradient values check the optimizer learning rate ')\n"
     ]
    },
    {
     "name": "stdout",
     "output_type": "stream",
     "text": [
      "Learning time 50.570791482925415 sec\n",
      "\n"
     ]
    },
    {
     "data": {
      "text/plain": [
       "'Combination 43'"
      ]
     },
     "metadata": {},
     "output_type": "display_data"
    },
    {
     "name": "stdout",
     "output_type": "stream",
     "text": [
      "-----------------------------------------\n",
      "-----------------------------------------\n",
      "-----------------------------------------\n",
      "-----------------------------------------\n",
      "-----------------------------------------\n",
      "{'act': None, 'activation': 'sigmoid', 'activation_m': 1, 'batch_size': 256, 'buffer_size': 1000, 'depth': 3, 'dropout_p': 0.0, 'epochs': 50, 'init_method': None, 'init_y_method': 'uniform', 'learning_rate': 0.1, 'model_type': 'basic', 'optimizer': 'rmsprop', 'random_state': None, 'training_hook': [], 'training_loss': 'softmax'}\n",
      "-----------------------------------------\n"
     ]
    },
    {
     "name": "stderr",
     "output_type": "stream",
     "text": [
      "C:\\Users\\Marios\\Jupyter_Notebooks_my_papers\\Data-driven-Causal-Discovery-for-Constructing-Fuzzy-Cognitive-Maps-An-Industrial-Case-Study\\base\\classifier.py:143: UserWarning: 2018.12.16 The instruction  'loss = loss/self.batch_size' was commented out. Due to increased gradient values check the optimizer learning rate \n",
      "  warnings.warn('2018.12.16 The instruction  \\'loss = loss/self.batch_size\\' was commented out. Due to increased gradient values check the optimizer learning rate ')\n"
     ]
    },
    {
     "name": "stdout",
     "output_type": "stream",
     "text": [
      "Learning time 51.074254512786865 sec\n",
      "\n"
     ]
    },
    {
     "data": {
      "text/plain": [
       "'Combination 44'"
      ]
     },
     "metadata": {},
     "output_type": "display_data"
    },
    {
     "name": "stdout",
     "output_type": "stream",
     "text": [
      "-----------------------------------------\n",
      "-----------------------------------------\n",
      "-----------------------------------------\n",
      "-----------------------------------------\n",
      "-----------------------------------------\n",
      "{'act': None, 'activation': 'sigmoid', 'activation_m': 1, 'batch_size': 256, 'buffer_size': 1000, 'depth': 3, 'dropout_p': 0.0, 'epochs': 50, 'init_method': None, 'init_y_method': 'uniform', 'learning_rate': 0.5, 'model_type': 'basic', 'optimizer': 'rmsprop', 'random_state': None, 'training_hook': [], 'training_loss': 'softmax'}\n",
      "-----------------------------------------\n"
     ]
    },
    {
     "name": "stderr",
     "output_type": "stream",
     "text": [
      "C:\\Users\\Marios\\Jupyter_Notebooks_my_papers\\Data-driven-Causal-Discovery-for-Constructing-Fuzzy-Cognitive-Maps-An-Industrial-Case-Study\\base\\classifier.py:143: UserWarning: 2018.12.16 The instruction  'loss = loss/self.batch_size' was commented out. Due to increased gradient values check the optimizer learning rate \n",
      "  warnings.warn('2018.12.16 The instruction  \\'loss = loss/self.batch_size\\' was commented out. Due to increased gradient values check the optimizer learning rate ')\n"
     ]
    },
    {
     "name": "stdout",
     "output_type": "stream",
     "text": [
      "Learning time 51.45169115066528 sec\n",
      "\n"
     ]
    },
    {
     "data": {
      "text/plain": [
       "'Combination 45'"
      ]
     },
     "metadata": {},
     "output_type": "display_data"
    },
    {
     "name": "stdout",
     "output_type": "stream",
     "text": [
      "-----------------------------------------\n",
      "-----------------------------------------\n",
      "-----------------------------------------\n",
      "-----------------------------------------\n",
      "-----------------------------------------\n",
      "{'act': None, 'activation': 'sigmoid', 'activation_m': 1, 'batch_size': 256, 'buffer_size': 1000, 'depth': 3, 'dropout_p': 0.0, 'epochs': 100, 'init_method': None, 'init_y_method': 'uniform', 'learning_rate': 0.001, 'model_type': 'basic', 'optimizer': 'rmsprop', 'random_state': None, 'training_hook': [], 'training_loss': 'softmax'}\n",
      "-----------------------------------------\n"
     ]
    },
    {
     "name": "stderr",
     "output_type": "stream",
     "text": [
      "C:\\Users\\Marios\\Jupyter_Notebooks_my_papers\\Data-driven-Causal-Discovery-for-Constructing-Fuzzy-Cognitive-Maps-An-Industrial-Case-Study\\base\\classifier.py:143: UserWarning: 2018.12.16 The instruction  'loss = loss/self.batch_size' was commented out. Due to increased gradient values check the optimizer learning rate \n",
      "  warnings.warn('2018.12.16 The instruction  \\'loss = loss/self.batch_size\\' was commented out. Due to increased gradient values check the optimizer learning rate ')\n"
     ]
    },
    {
     "name": "stdout",
     "output_type": "stream",
     "text": [
      "Learning time 101.78350591659546 sec\n",
      "\n"
     ]
    },
    {
     "data": {
      "text/plain": [
       "'Combination 46'"
      ]
     },
     "metadata": {},
     "output_type": "display_data"
    },
    {
     "name": "stdout",
     "output_type": "stream",
     "text": [
      "-----------------------------------------\n",
      "-----------------------------------------\n",
      "-----------------------------------------\n",
      "-----------------------------------------\n",
      "-----------------------------------------\n",
      "{'act': None, 'activation': 'sigmoid', 'activation_m': 1, 'batch_size': 256, 'buffer_size': 1000, 'depth': 3, 'dropout_p': 0.0, 'epochs': 100, 'init_method': None, 'init_y_method': 'uniform', 'learning_rate': 0.01, 'model_type': 'basic', 'optimizer': 'rmsprop', 'random_state': None, 'training_hook': [], 'training_loss': 'softmax'}\n",
      "-----------------------------------------\n"
     ]
    },
    {
     "name": "stderr",
     "output_type": "stream",
     "text": [
      "C:\\Users\\Marios\\Jupyter_Notebooks_my_papers\\Data-driven-Causal-Discovery-for-Constructing-Fuzzy-Cognitive-Maps-An-Industrial-Case-Study\\base\\classifier.py:143: UserWarning: 2018.12.16 The instruction  'loss = loss/self.batch_size' was commented out. Due to increased gradient values check the optimizer learning rate \n",
      "  warnings.warn('2018.12.16 The instruction  \\'loss = loss/self.batch_size\\' was commented out. Due to increased gradient values check the optimizer learning rate ')\n"
     ]
    },
    {
     "name": "stdout",
     "output_type": "stream",
     "text": [
      "Learning time 102.69344782829285 sec\n",
      "\n"
     ]
    },
    {
     "data": {
      "text/plain": [
       "'Combination 47'"
      ]
     },
     "metadata": {},
     "output_type": "display_data"
    },
    {
     "name": "stdout",
     "output_type": "stream",
     "text": [
      "-----------------------------------------\n",
      "-----------------------------------------\n",
      "-----------------------------------------\n",
      "-----------------------------------------\n",
      "-----------------------------------------\n",
      "{'act': None, 'activation': 'sigmoid', 'activation_m': 1, 'batch_size': 256, 'buffer_size': 1000, 'depth': 3, 'dropout_p': 0.0, 'epochs': 100, 'init_method': None, 'init_y_method': 'uniform', 'learning_rate': 0.05, 'model_type': 'basic', 'optimizer': 'rmsprop', 'random_state': None, 'training_hook': [], 'training_loss': 'softmax'}\n",
      "-----------------------------------------\n"
     ]
    },
    {
     "name": "stderr",
     "output_type": "stream",
     "text": [
      "C:\\Users\\Marios\\Jupyter_Notebooks_my_papers\\Data-driven-Causal-Discovery-for-Constructing-Fuzzy-Cognitive-Maps-An-Industrial-Case-Study\\base\\classifier.py:143: UserWarning: 2018.12.16 The instruction  'loss = loss/self.batch_size' was commented out. Due to increased gradient values check the optimizer learning rate \n",
      "  warnings.warn('2018.12.16 The instruction  \\'loss = loss/self.batch_size\\' was commented out. Due to increased gradient values check the optimizer learning rate ')\n"
     ]
    },
    {
     "name": "stdout",
     "output_type": "stream",
     "text": [
      "Learning time 101.61326241493225 sec\n",
      "\n"
     ]
    },
    {
     "data": {
      "text/plain": [
       "'Combination 48'"
      ]
     },
     "metadata": {},
     "output_type": "display_data"
    },
    {
     "name": "stdout",
     "output_type": "stream",
     "text": [
      "-----------------------------------------\n",
      "-----------------------------------------\n",
      "-----------------------------------------\n",
      "-----------------------------------------\n",
      "-----------------------------------------\n",
      "{'act': None, 'activation': 'sigmoid', 'activation_m': 1, 'batch_size': 256, 'buffer_size': 1000, 'depth': 3, 'dropout_p': 0.0, 'epochs': 100, 'init_method': None, 'init_y_method': 'uniform', 'learning_rate': 0.1, 'model_type': 'basic', 'optimizer': 'rmsprop', 'random_state': None, 'training_hook': [], 'training_loss': 'softmax'}\n",
      "-----------------------------------------\n"
     ]
    },
    {
     "name": "stderr",
     "output_type": "stream",
     "text": [
      "C:\\Users\\Marios\\Jupyter_Notebooks_my_papers\\Data-driven-Causal-Discovery-for-Constructing-Fuzzy-Cognitive-Maps-An-Industrial-Case-Study\\base\\classifier.py:143: UserWarning: 2018.12.16 The instruction  'loss = loss/self.batch_size' was commented out. Due to increased gradient values check the optimizer learning rate \n",
      "  warnings.warn('2018.12.16 The instruction  \\'loss = loss/self.batch_size\\' was commented out. Due to increased gradient values check the optimizer learning rate ')\n"
     ]
    },
    {
     "name": "stdout",
     "output_type": "stream",
     "text": [
      "Learning time 102.2754168510437 sec\n",
      "\n"
     ]
    },
    {
     "data": {
      "text/plain": [
       "'Combination 49'"
      ]
     },
     "metadata": {},
     "output_type": "display_data"
    },
    {
     "name": "stdout",
     "output_type": "stream",
     "text": [
      "-----------------------------------------\n",
      "-----------------------------------------\n",
      "-----------------------------------------\n",
      "-----------------------------------------\n",
      "-----------------------------------------\n",
      "{'act': None, 'activation': 'sigmoid', 'activation_m': 1, 'batch_size': 256, 'buffer_size': 1000, 'depth': 3, 'dropout_p': 0.0, 'epochs': 100, 'init_method': None, 'init_y_method': 'uniform', 'learning_rate': 0.5, 'model_type': 'basic', 'optimizer': 'rmsprop', 'random_state': None, 'training_hook': [], 'training_loss': 'softmax'}\n",
      "-----------------------------------------\n"
     ]
    },
    {
     "name": "stderr",
     "output_type": "stream",
     "text": [
      "C:\\Users\\Marios\\Jupyter_Notebooks_my_papers\\Data-driven-Causal-Discovery-for-Constructing-Fuzzy-Cognitive-Maps-An-Industrial-Case-Study\\base\\classifier.py:143: UserWarning: 2018.12.16 The instruction  'loss = loss/self.batch_size' was commented out. Due to increased gradient values check the optimizer learning rate \n",
      "  warnings.warn('2018.12.16 The instruction  \\'loss = loss/self.batch_size\\' was commented out. Due to increased gradient values check the optimizer learning rate ')\n"
     ]
    },
    {
     "name": "stdout",
     "output_type": "stream",
     "text": [
      "Learning time 102.69105792045593 sec\n",
      "\n"
     ]
    },
    {
     "data": {
      "text/plain": [
       "'Combination 50'"
      ]
     },
     "metadata": {},
     "output_type": "display_data"
    },
    {
     "name": "stdout",
     "output_type": "stream",
     "text": [
      "-----------------------------------------\n",
      "-----------------------------------------\n",
      "-----------------------------------------\n",
      "-----------------------------------------\n",
      "-----------------------------------------\n",
      "{'act': None, 'activation': 'sigmoid', 'activation_m': 1, 'batch_size': 256, 'buffer_size': 1000, 'depth': 5, 'dropout_p': 0.0, 'epochs': 50, 'init_method': None, 'init_y_method': 'uniform', 'learning_rate': 0.001, 'model_type': 'basic', 'optimizer': 'rmsprop', 'random_state': None, 'training_hook': [], 'training_loss': 'softmax'}\n",
      "-----------------------------------------\n"
     ]
    },
    {
     "name": "stderr",
     "output_type": "stream",
     "text": [
      "C:\\Users\\Marios\\Jupyter_Notebooks_my_papers\\Data-driven-Causal-Discovery-for-Constructing-Fuzzy-Cognitive-Maps-An-Industrial-Case-Study\\base\\classifier.py:143: UserWarning: 2018.12.16 The instruction  'loss = loss/self.batch_size' was commented out. Due to increased gradient values check the optimizer learning rate \n",
      "  warnings.warn('2018.12.16 The instruction  \\'loss = loss/self.batch_size\\' was commented out. Due to increased gradient values check the optimizer learning rate ')\n"
     ]
    },
    {
     "name": "stdout",
     "output_type": "stream",
     "text": [
      "Learning time 69.7624077796936 sec\n",
      "\n"
     ]
    },
    {
     "data": {
      "text/plain": [
       "'Combination 51'"
      ]
     },
     "metadata": {},
     "output_type": "display_data"
    },
    {
     "name": "stdout",
     "output_type": "stream",
     "text": [
      "-----------------------------------------\n",
      "-----------------------------------------\n",
      "-----------------------------------------\n",
      "-----------------------------------------\n",
      "-----------------------------------------\n",
      "{'act': None, 'activation': 'sigmoid', 'activation_m': 1, 'batch_size': 256, 'buffer_size': 1000, 'depth': 5, 'dropout_p': 0.0, 'epochs': 50, 'init_method': None, 'init_y_method': 'uniform', 'learning_rate': 0.01, 'model_type': 'basic', 'optimizer': 'rmsprop', 'random_state': None, 'training_hook': [], 'training_loss': 'softmax'}\n",
      "-----------------------------------------\n"
     ]
    },
    {
     "name": "stderr",
     "output_type": "stream",
     "text": [
      "C:\\Users\\Marios\\Jupyter_Notebooks_my_papers\\Data-driven-Causal-Discovery-for-Constructing-Fuzzy-Cognitive-Maps-An-Industrial-Case-Study\\base\\classifier.py:143: UserWarning: 2018.12.16 The instruction  'loss = loss/self.batch_size' was commented out. Due to increased gradient values check the optimizer learning rate \n",
      "  warnings.warn('2018.12.16 The instruction  \\'loss = loss/self.batch_size\\' was commented out. Due to increased gradient values check the optimizer learning rate ')\n"
     ]
    },
    {
     "name": "stdout",
     "output_type": "stream",
     "text": [
      "Learning time 67.31752276420593 sec\n",
      "\n"
     ]
    },
    {
     "data": {
      "text/plain": [
       "'Combination 52'"
      ]
     },
     "metadata": {},
     "output_type": "display_data"
    },
    {
     "name": "stdout",
     "output_type": "stream",
     "text": [
      "-----------------------------------------\n",
      "-----------------------------------------\n",
      "-----------------------------------------\n",
      "-----------------------------------------\n",
      "-----------------------------------------\n",
      "{'act': None, 'activation': 'sigmoid', 'activation_m': 1, 'batch_size': 256, 'buffer_size': 1000, 'depth': 5, 'dropout_p': 0.0, 'epochs': 50, 'init_method': None, 'init_y_method': 'uniform', 'learning_rate': 0.05, 'model_type': 'basic', 'optimizer': 'rmsprop', 'random_state': None, 'training_hook': [], 'training_loss': 'softmax'}\n",
      "-----------------------------------------\n"
     ]
    },
    {
     "name": "stderr",
     "output_type": "stream",
     "text": [
      "C:\\Users\\Marios\\Jupyter_Notebooks_my_papers\\Data-driven-Causal-Discovery-for-Constructing-Fuzzy-Cognitive-Maps-An-Industrial-Case-Study\\base\\classifier.py:143: UserWarning: 2018.12.16 The instruction  'loss = loss/self.batch_size' was commented out. Due to increased gradient values check the optimizer learning rate \n",
      "  warnings.warn('2018.12.16 The instruction  \\'loss = loss/self.batch_size\\' was commented out. Due to increased gradient values check the optimizer learning rate ')\n"
     ]
    },
    {
     "name": "stdout",
     "output_type": "stream",
     "text": [
      "Learning time 70.0801203250885 sec\n",
      "\n"
     ]
    },
    {
     "data": {
      "text/plain": [
       "'Combination 53'"
      ]
     },
     "metadata": {},
     "output_type": "display_data"
    },
    {
     "name": "stdout",
     "output_type": "stream",
     "text": [
      "-----------------------------------------\n",
      "-----------------------------------------\n",
      "-----------------------------------------\n",
      "-----------------------------------------\n",
      "-----------------------------------------\n",
      "{'act': None, 'activation': 'sigmoid', 'activation_m': 1, 'batch_size': 256, 'buffer_size': 1000, 'depth': 5, 'dropout_p': 0.0, 'epochs': 50, 'init_method': None, 'init_y_method': 'uniform', 'learning_rate': 0.1, 'model_type': 'basic', 'optimizer': 'rmsprop', 'random_state': None, 'training_hook': [], 'training_loss': 'softmax'}\n",
      "-----------------------------------------\n"
     ]
    },
    {
     "name": "stderr",
     "output_type": "stream",
     "text": [
      "C:\\Users\\Marios\\Jupyter_Notebooks_my_papers\\Data-driven-Causal-Discovery-for-Constructing-Fuzzy-Cognitive-Maps-An-Industrial-Case-Study\\base\\classifier.py:143: UserWarning: 2018.12.16 The instruction  'loss = loss/self.batch_size' was commented out. Due to increased gradient values check the optimizer learning rate \n",
      "  warnings.warn('2018.12.16 The instruction  \\'loss = loss/self.batch_size\\' was commented out. Due to increased gradient values check the optimizer learning rate ')\n"
     ]
    },
    {
     "name": "stdout",
     "output_type": "stream",
     "text": [
      "Learning time 67.15413284301758 sec\n",
      "\n"
     ]
    },
    {
     "data": {
      "text/plain": [
       "'Combination 54'"
      ]
     },
     "metadata": {},
     "output_type": "display_data"
    },
    {
     "name": "stdout",
     "output_type": "stream",
     "text": [
      "-----------------------------------------\n",
      "-----------------------------------------\n",
      "-----------------------------------------\n",
      "-----------------------------------------\n",
      "-----------------------------------------\n",
      "{'act': None, 'activation': 'sigmoid', 'activation_m': 1, 'batch_size': 256, 'buffer_size': 1000, 'depth': 5, 'dropout_p': 0.0, 'epochs': 50, 'init_method': None, 'init_y_method': 'uniform', 'learning_rate': 0.5, 'model_type': 'basic', 'optimizer': 'rmsprop', 'random_state': None, 'training_hook': [], 'training_loss': 'softmax'}\n",
      "-----------------------------------------\n"
     ]
    },
    {
     "name": "stderr",
     "output_type": "stream",
     "text": [
      "C:\\Users\\Marios\\Jupyter_Notebooks_my_papers\\Data-driven-Causal-Discovery-for-Constructing-Fuzzy-Cognitive-Maps-An-Industrial-Case-Study\\base\\classifier.py:143: UserWarning: 2018.12.16 The instruction  'loss = loss/self.batch_size' was commented out. Due to increased gradient values check the optimizer learning rate \n",
      "  warnings.warn('2018.12.16 The instruction  \\'loss = loss/self.batch_size\\' was commented out. Due to increased gradient values check the optimizer learning rate ')\n"
     ]
    },
    {
     "name": "stdout",
     "output_type": "stream",
     "text": [
      "Learning time 67.28408908843994 sec\n",
      "\n"
     ]
    },
    {
     "data": {
      "text/plain": [
       "'Combination 55'"
      ]
     },
     "metadata": {},
     "output_type": "display_data"
    },
    {
     "name": "stdout",
     "output_type": "stream",
     "text": [
      "-----------------------------------------\n",
      "-----------------------------------------\n",
      "-----------------------------------------\n",
      "-----------------------------------------\n",
      "-----------------------------------------\n",
      "{'act': None, 'activation': 'sigmoid', 'activation_m': 1, 'batch_size': 256, 'buffer_size': 1000, 'depth': 5, 'dropout_p': 0.0, 'epochs': 100, 'init_method': None, 'init_y_method': 'uniform', 'learning_rate': 0.001, 'model_type': 'basic', 'optimizer': 'rmsprop', 'random_state': None, 'training_hook': [], 'training_loss': 'softmax'}\n",
      "-----------------------------------------\n"
     ]
    },
    {
     "name": "stderr",
     "output_type": "stream",
     "text": [
      "C:\\Users\\Marios\\Jupyter_Notebooks_my_papers\\Data-driven-Causal-Discovery-for-Constructing-Fuzzy-Cognitive-Maps-An-Industrial-Case-Study\\base\\classifier.py:143: UserWarning: 2018.12.16 The instruction  'loss = loss/self.batch_size' was commented out. Due to increased gradient values check the optimizer learning rate \n",
      "  warnings.warn('2018.12.16 The instruction  \\'loss = loss/self.batch_size\\' was commented out. Due to increased gradient values check the optimizer learning rate ')\n"
     ]
    },
    {
     "name": "stdout",
     "output_type": "stream",
     "text": [
      "Learning time 137.02354431152344 sec\n",
      "\n"
     ]
    },
    {
     "data": {
      "text/plain": [
       "'Combination 56'"
      ]
     },
     "metadata": {},
     "output_type": "display_data"
    },
    {
     "name": "stdout",
     "output_type": "stream",
     "text": [
      "-----------------------------------------\n",
      "-----------------------------------------\n",
      "-----------------------------------------\n",
      "-----------------------------------------\n",
      "-----------------------------------------\n",
      "{'act': None, 'activation': 'sigmoid', 'activation_m': 1, 'batch_size': 256, 'buffer_size': 1000, 'depth': 5, 'dropout_p': 0.0, 'epochs': 100, 'init_method': None, 'init_y_method': 'uniform', 'learning_rate': 0.01, 'model_type': 'basic', 'optimizer': 'rmsprop', 'random_state': None, 'training_hook': [], 'training_loss': 'softmax'}\n",
      "-----------------------------------------\n"
     ]
    },
    {
     "name": "stderr",
     "output_type": "stream",
     "text": [
      "C:\\Users\\Marios\\Jupyter_Notebooks_my_papers\\Data-driven-Causal-Discovery-for-Constructing-Fuzzy-Cognitive-Maps-An-Industrial-Case-Study\\base\\classifier.py:143: UserWarning: 2018.12.16 The instruction  'loss = loss/self.batch_size' was commented out. Due to increased gradient values check the optimizer learning rate \n",
      "  warnings.warn('2018.12.16 The instruction  \\'loss = loss/self.batch_size\\' was commented out. Due to increased gradient values check the optimizer learning rate ')\n"
     ]
    },
    {
     "name": "stdout",
     "output_type": "stream",
     "text": [
      "Learning time 136.0388538837433 sec\n",
      "\n"
     ]
    },
    {
     "data": {
      "text/plain": [
       "'Combination 57'"
      ]
     },
     "metadata": {},
     "output_type": "display_data"
    },
    {
     "name": "stdout",
     "output_type": "stream",
     "text": [
      "-----------------------------------------\n",
      "-----------------------------------------\n",
      "-----------------------------------------\n",
      "-----------------------------------------\n",
      "-----------------------------------------\n",
      "{'act': None, 'activation': 'sigmoid', 'activation_m': 1, 'batch_size': 256, 'buffer_size': 1000, 'depth': 5, 'dropout_p': 0.0, 'epochs': 100, 'init_method': None, 'init_y_method': 'uniform', 'learning_rate': 0.05, 'model_type': 'basic', 'optimizer': 'rmsprop', 'random_state': None, 'training_hook': [], 'training_loss': 'softmax'}\n",
      "-----------------------------------------\n"
     ]
    },
    {
     "name": "stderr",
     "output_type": "stream",
     "text": [
      "C:\\Users\\Marios\\Jupyter_Notebooks_my_papers\\Data-driven-Causal-Discovery-for-Constructing-Fuzzy-Cognitive-Maps-An-Industrial-Case-Study\\base\\classifier.py:143: UserWarning: 2018.12.16 The instruction  'loss = loss/self.batch_size' was commented out. Due to increased gradient values check the optimizer learning rate \n",
      "  warnings.warn('2018.12.16 The instruction  \\'loss = loss/self.batch_size\\' was commented out. Due to increased gradient values check the optimizer learning rate ')\n"
     ]
    },
    {
     "name": "stdout",
     "output_type": "stream",
     "text": [
      "Learning time 137.22964429855347 sec\n",
      "\n"
     ]
    },
    {
     "data": {
      "text/plain": [
       "'Combination 58'"
      ]
     },
     "metadata": {},
     "output_type": "display_data"
    },
    {
     "name": "stdout",
     "output_type": "stream",
     "text": [
      "-----------------------------------------\n",
      "-----------------------------------------\n",
      "-----------------------------------------\n",
      "-----------------------------------------\n",
      "-----------------------------------------\n",
      "{'act': None, 'activation': 'sigmoid', 'activation_m': 1, 'batch_size': 256, 'buffer_size': 1000, 'depth': 5, 'dropout_p': 0.0, 'epochs': 100, 'init_method': None, 'init_y_method': 'uniform', 'learning_rate': 0.1, 'model_type': 'basic', 'optimizer': 'rmsprop', 'random_state': None, 'training_hook': [], 'training_loss': 'softmax'}\n",
      "-----------------------------------------\n"
     ]
    },
    {
     "name": "stderr",
     "output_type": "stream",
     "text": [
      "C:\\Users\\Marios\\Jupyter_Notebooks_my_papers\\Data-driven-Causal-Discovery-for-Constructing-Fuzzy-Cognitive-Maps-An-Industrial-Case-Study\\base\\classifier.py:143: UserWarning: 2018.12.16 The instruction  'loss = loss/self.batch_size' was commented out. Due to increased gradient values check the optimizer learning rate \n",
      "  warnings.warn('2018.12.16 The instruction  \\'loss = loss/self.batch_size\\' was commented out. Due to increased gradient values check the optimizer learning rate ')\n"
     ]
    },
    {
     "name": "stdout",
     "output_type": "stream",
     "text": [
      "Learning time 135.86796522140503 sec\n",
      "\n"
     ]
    },
    {
     "data": {
      "text/plain": [
       "'Combination 59'"
      ]
     },
     "metadata": {},
     "output_type": "display_data"
    },
    {
     "name": "stdout",
     "output_type": "stream",
     "text": [
      "-----------------------------------------\n",
      "-----------------------------------------\n",
      "-----------------------------------------\n",
      "-----------------------------------------\n",
      "-----------------------------------------\n",
      "{'act': None, 'activation': 'sigmoid', 'activation_m': 1, 'batch_size': 256, 'buffer_size': 1000, 'depth': 5, 'dropout_p': 0.0, 'epochs': 100, 'init_method': None, 'init_y_method': 'uniform', 'learning_rate': 0.5, 'model_type': 'basic', 'optimizer': 'rmsprop', 'random_state': None, 'training_hook': [], 'training_loss': 'softmax'}\n",
      "-----------------------------------------\n"
     ]
    },
    {
     "name": "stderr",
     "output_type": "stream",
     "text": [
      "C:\\Users\\Marios\\Jupyter_Notebooks_my_papers\\Data-driven-Causal-Discovery-for-Constructing-Fuzzy-Cognitive-Maps-An-Industrial-Case-Study\\base\\classifier.py:143: UserWarning: 2018.12.16 The instruction  'loss = loss/self.batch_size' was commented out. Due to increased gradient values check the optimizer learning rate \n",
      "  warnings.warn('2018.12.16 The instruction  \\'loss = loss/self.batch_size\\' was commented out. Due to increased gradient values check the optimizer learning rate ')\n"
     ]
    },
    {
     "name": "stdout",
     "output_type": "stream",
     "text": [
      "Learning time 137.4414632320404 sec\n",
      "\n"
     ]
    },
    {
     "data": {
      "text/plain": [
       "'Combination 60'"
      ]
     },
     "metadata": {},
     "output_type": "display_data"
    },
    {
     "name": "stdout",
     "output_type": "stream",
     "text": [
      "-----------------------------------------\n",
      "-----------------------------------------\n",
      "-----------------------------------------\n",
      "-----------------------------------------\n",
      "-----------------------------------------\n",
      "{'act': None, 'activation': 'sigmoid', 'activation_m': 1, 'batch_size': 4096, 'buffer_size': 1000, 'depth': 2, 'dropout_p': 0.0, 'epochs': 50, 'init_method': None, 'init_y_method': 'uniform', 'learning_rate': 0.001, 'model_type': 'basic', 'optimizer': 'rmsprop', 'random_state': None, 'training_hook': [], 'training_loss': 'softmax'}\n",
      "-----------------------------------------\n"
     ]
    },
    {
     "name": "stderr",
     "output_type": "stream",
     "text": [
      "C:\\Users\\Marios\\Jupyter_Notebooks_my_papers\\Data-driven-Causal-Discovery-for-Constructing-Fuzzy-Cognitive-Maps-An-Industrial-Case-Study\\base\\classifier.py:143: UserWarning: 2018.12.16 The instruction  'loss = loss/self.batch_size' was commented out. Due to increased gradient values check the optimizer learning rate \n",
      "  warnings.warn('2018.12.16 The instruction  \\'loss = loss/self.batch_size\\' was commented out. Due to increased gradient values check the optimizer learning rate ')\n"
     ]
    },
    {
     "name": "stdout",
     "output_type": "stream",
     "text": [
      "Learning time 6.500675916671753 sec\n",
      "\n"
     ]
    },
    {
     "data": {
      "text/plain": [
       "'Combination 61'"
      ]
     },
     "metadata": {},
     "output_type": "display_data"
    },
    {
     "name": "stdout",
     "output_type": "stream",
     "text": [
      "-----------------------------------------\n",
      "-----------------------------------------\n",
      "-----------------------------------------\n",
      "-----------------------------------------\n",
      "-----------------------------------------\n",
      "{'act': None, 'activation': 'sigmoid', 'activation_m': 1, 'batch_size': 4096, 'buffer_size': 1000, 'depth': 2, 'dropout_p': 0.0, 'epochs': 50, 'init_method': None, 'init_y_method': 'uniform', 'learning_rate': 0.01, 'model_type': 'basic', 'optimizer': 'rmsprop', 'random_state': None, 'training_hook': [], 'training_loss': 'softmax'}\n",
      "-----------------------------------------\n"
     ]
    },
    {
     "name": "stderr",
     "output_type": "stream",
     "text": [
      "C:\\Users\\Marios\\Jupyter_Notebooks_my_papers\\Data-driven-Causal-Discovery-for-Constructing-Fuzzy-Cognitive-Maps-An-Industrial-Case-Study\\base\\classifier.py:143: UserWarning: 2018.12.16 The instruction  'loss = loss/self.batch_size' was commented out. Due to increased gradient values check the optimizer learning rate \n",
      "  warnings.warn('2018.12.16 The instruction  \\'loss = loss/self.batch_size\\' was commented out. Due to increased gradient values check the optimizer learning rate ')\n"
     ]
    },
    {
     "name": "stdout",
     "output_type": "stream",
     "text": [
      "Learning time 6.4885094165802 sec\n",
      "\n"
     ]
    },
    {
     "data": {
      "text/plain": [
       "'Combination 62'"
      ]
     },
     "metadata": {},
     "output_type": "display_data"
    },
    {
     "name": "stdout",
     "output_type": "stream",
     "text": [
      "-----------------------------------------\n",
      "-----------------------------------------\n",
      "-----------------------------------------\n",
      "-----------------------------------------\n",
      "-----------------------------------------\n",
      "{'act': None, 'activation': 'sigmoid', 'activation_m': 1, 'batch_size': 4096, 'buffer_size': 1000, 'depth': 2, 'dropout_p': 0.0, 'epochs': 50, 'init_method': None, 'init_y_method': 'uniform', 'learning_rate': 0.05, 'model_type': 'basic', 'optimizer': 'rmsprop', 'random_state': None, 'training_hook': [], 'training_loss': 'softmax'}\n",
      "-----------------------------------------\n"
     ]
    },
    {
     "name": "stderr",
     "output_type": "stream",
     "text": [
      "C:\\Users\\Marios\\Jupyter_Notebooks_my_papers\\Data-driven-Causal-Discovery-for-Constructing-Fuzzy-Cognitive-Maps-An-Industrial-Case-Study\\base\\classifier.py:143: UserWarning: 2018.12.16 The instruction  'loss = loss/self.batch_size' was commented out. Due to increased gradient values check the optimizer learning rate \n",
      "  warnings.warn('2018.12.16 The instruction  \\'loss = loss/self.batch_size\\' was commented out. Due to increased gradient values check the optimizer learning rate ')\n"
     ]
    },
    {
     "name": "stdout",
     "output_type": "stream",
     "text": [
      "Learning time 6.511549234390259 sec\n",
      "\n"
     ]
    },
    {
     "data": {
      "text/plain": [
       "'Combination 63'"
      ]
     },
     "metadata": {},
     "output_type": "display_data"
    },
    {
     "name": "stdout",
     "output_type": "stream",
     "text": [
      "-----------------------------------------\n",
      "-----------------------------------------\n",
      "-----------------------------------------\n",
      "-----------------------------------------\n",
      "-----------------------------------------\n",
      "{'act': None, 'activation': 'sigmoid', 'activation_m': 1, 'batch_size': 4096, 'buffer_size': 1000, 'depth': 2, 'dropout_p': 0.0, 'epochs': 50, 'init_method': None, 'init_y_method': 'uniform', 'learning_rate': 0.1, 'model_type': 'basic', 'optimizer': 'rmsprop', 'random_state': None, 'training_hook': [], 'training_loss': 'softmax'}\n",
      "-----------------------------------------\n"
     ]
    },
    {
     "name": "stderr",
     "output_type": "stream",
     "text": [
      "C:\\Users\\Marios\\Jupyter_Notebooks_my_papers\\Data-driven-Causal-Discovery-for-Constructing-Fuzzy-Cognitive-Maps-An-Industrial-Case-Study\\base\\classifier.py:143: UserWarning: 2018.12.16 The instruction  'loss = loss/self.batch_size' was commented out. Due to increased gradient values check the optimizer learning rate \n",
      "  warnings.warn('2018.12.16 The instruction  \\'loss = loss/self.batch_size\\' was commented out. Due to increased gradient values check the optimizer learning rate ')\n"
     ]
    },
    {
     "name": "stdout",
     "output_type": "stream",
     "text": [
      "Learning time 6.540725946426392 sec\n",
      "\n"
     ]
    },
    {
     "data": {
      "text/plain": [
       "'Combination 64'"
      ]
     },
     "metadata": {},
     "output_type": "display_data"
    },
    {
     "name": "stdout",
     "output_type": "stream",
     "text": [
      "-----------------------------------------\n",
      "-----------------------------------------\n",
      "-----------------------------------------\n",
      "-----------------------------------------\n",
      "-----------------------------------------\n",
      "{'act': None, 'activation': 'sigmoid', 'activation_m': 1, 'batch_size': 4096, 'buffer_size': 1000, 'depth': 2, 'dropout_p': 0.0, 'epochs': 50, 'init_method': None, 'init_y_method': 'uniform', 'learning_rate': 0.5, 'model_type': 'basic', 'optimizer': 'rmsprop', 'random_state': None, 'training_hook': [], 'training_loss': 'softmax'}\n",
      "-----------------------------------------\n"
     ]
    },
    {
     "name": "stderr",
     "output_type": "stream",
     "text": [
      "C:\\Users\\Marios\\Jupyter_Notebooks_my_papers\\Data-driven-Causal-Discovery-for-Constructing-Fuzzy-Cognitive-Maps-An-Industrial-Case-Study\\base\\classifier.py:143: UserWarning: 2018.12.16 The instruction  'loss = loss/self.batch_size' was commented out. Due to increased gradient values check the optimizer learning rate \n",
      "  warnings.warn('2018.12.16 The instruction  \\'loss = loss/self.batch_size\\' was commented out. Due to increased gradient values check the optimizer learning rate ')\n"
     ]
    },
    {
     "name": "stdout",
     "output_type": "stream",
     "text": [
      "Learning time 6.689043998718262 sec\n",
      "\n"
     ]
    },
    {
     "data": {
      "text/plain": [
       "'Combination 65'"
      ]
     },
     "metadata": {},
     "output_type": "display_data"
    },
    {
     "name": "stdout",
     "output_type": "stream",
     "text": [
      "-----------------------------------------\n",
      "-----------------------------------------\n",
      "-----------------------------------------\n",
      "-----------------------------------------\n",
      "-----------------------------------------\n",
      "{'act': None, 'activation': 'sigmoid', 'activation_m': 1, 'batch_size': 4096, 'buffer_size': 1000, 'depth': 2, 'dropout_p': 0.0, 'epochs': 100, 'init_method': None, 'init_y_method': 'uniform', 'learning_rate': 0.001, 'model_type': 'basic', 'optimizer': 'rmsprop', 'random_state': None, 'training_hook': [], 'training_loss': 'softmax'}\n",
      "-----------------------------------------\n"
     ]
    },
    {
     "name": "stderr",
     "output_type": "stream",
     "text": [
      "C:\\Users\\Marios\\Jupyter_Notebooks_my_papers\\Data-driven-Causal-Discovery-for-Constructing-Fuzzy-Cognitive-Maps-An-Industrial-Case-Study\\base\\classifier.py:143: UserWarning: 2018.12.16 The instruction  'loss = loss/self.batch_size' was commented out. Due to increased gradient values check the optimizer learning rate \n",
      "  warnings.warn('2018.12.16 The instruction  \\'loss = loss/self.batch_size\\' was commented out. Due to increased gradient values check the optimizer learning rate ')\n"
     ]
    },
    {
     "name": "stdout",
     "output_type": "stream",
     "text": [
      "Learning time 13.098633527755737 sec\n",
      "\n"
     ]
    },
    {
     "data": {
      "text/plain": [
       "'Combination 66'"
      ]
     },
     "metadata": {},
     "output_type": "display_data"
    },
    {
     "name": "stdout",
     "output_type": "stream",
     "text": [
      "-----------------------------------------\n",
      "-----------------------------------------\n",
      "-----------------------------------------\n",
      "-----------------------------------------\n",
      "-----------------------------------------\n",
      "{'act': None, 'activation': 'sigmoid', 'activation_m': 1, 'batch_size': 4096, 'buffer_size': 1000, 'depth': 2, 'dropout_p': 0.0, 'epochs': 100, 'init_method': None, 'init_y_method': 'uniform', 'learning_rate': 0.01, 'model_type': 'basic', 'optimizer': 'rmsprop', 'random_state': None, 'training_hook': [], 'training_loss': 'softmax'}\n",
      "-----------------------------------------\n"
     ]
    },
    {
     "name": "stderr",
     "output_type": "stream",
     "text": [
      "C:\\Users\\Marios\\Jupyter_Notebooks_my_papers\\Data-driven-Causal-Discovery-for-Constructing-Fuzzy-Cognitive-Maps-An-Industrial-Case-Study\\base\\classifier.py:143: UserWarning: 2018.12.16 The instruction  'loss = loss/self.batch_size' was commented out. Due to increased gradient values check the optimizer learning rate \n",
      "  warnings.warn('2018.12.16 The instruction  \\'loss = loss/self.batch_size\\' was commented out. Due to increased gradient values check the optimizer learning rate ')\n"
     ]
    },
    {
     "name": "stdout",
     "output_type": "stream",
     "text": [
      "Learning time 13.044538974761963 sec\n",
      "\n"
     ]
    },
    {
     "data": {
      "text/plain": [
       "'Combination 67'"
      ]
     },
     "metadata": {},
     "output_type": "display_data"
    },
    {
     "name": "stdout",
     "output_type": "stream",
     "text": [
      "-----------------------------------------\n",
      "-----------------------------------------\n",
      "-----------------------------------------\n",
      "-----------------------------------------\n",
      "-----------------------------------------\n",
      "{'act': None, 'activation': 'sigmoid', 'activation_m': 1, 'batch_size': 4096, 'buffer_size': 1000, 'depth': 2, 'dropout_p': 0.0, 'epochs': 100, 'init_method': None, 'init_y_method': 'uniform', 'learning_rate': 0.05, 'model_type': 'basic', 'optimizer': 'rmsprop', 'random_state': None, 'training_hook': [], 'training_loss': 'softmax'}\n",
      "-----------------------------------------\n"
     ]
    },
    {
     "name": "stderr",
     "output_type": "stream",
     "text": [
      "C:\\Users\\Marios\\Jupyter_Notebooks_my_papers\\Data-driven-Causal-Discovery-for-Constructing-Fuzzy-Cognitive-Maps-An-Industrial-Case-Study\\base\\classifier.py:143: UserWarning: 2018.12.16 The instruction  'loss = loss/self.batch_size' was commented out. Due to increased gradient values check the optimizer learning rate \n",
      "  warnings.warn('2018.12.16 The instruction  \\'loss = loss/self.batch_size\\' was commented out. Due to increased gradient values check the optimizer learning rate ')\n"
     ]
    },
    {
     "name": "stdout",
     "output_type": "stream",
     "text": [
      "Learning time 13.969577312469482 sec\n",
      "\n"
     ]
    },
    {
     "data": {
      "text/plain": [
       "'Combination 68'"
      ]
     },
     "metadata": {},
     "output_type": "display_data"
    },
    {
     "name": "stdout",
     "output_type": "stream",
     "text": [
      "-----------------------------------------\n",
      "-----------------------------------------\n",
      "-----------------------------------------\n",
      "-----------------------------------------\n",
      "-----------------------------------------\n",
      "{'act': None, 'activation': 'sigmoid', 'activation_m': 1, 'batch_size': 4096, 'buffer_size': 1000, 'depth': 2, 'dropout_p': 0.0, 'epochs': 100, 'init_method': None, 'init_y_method': 'uniform', 'learning_rate': 0.1, 'model_type': 'basic', 'optimizer': 'rmsprop', 'random_state': None, 'training_hook': [], 'training_loss': 'softmax'}\n",
      "-----------------------------------------\n"
     ]
    },
    {
     "name": "stderr",
     "output_type": "stream",
     "text": [
      "C:\\Users\\Marios\\Jupyter_Notebooks_my_papers\\Data-driven-Causal-Discovery-for-Constructing-Fuzzy-Cognitive-Maps-An-Industrial-Case-Study\\base\\classifier.py:143: UserWarning: 2018.12.16 The instruction  'loss = loss/self.batch_size' was commented out. Due to increased gradient values check the optimizer learning rate \n",
      "  warnings.warn('2018.12.16 The instruction  \\'loss = loss/self.batch_size\\' was commented out. Due to increased gradient values check the optimizer learning rate ')\n"
     ]
    },
    {
     "name": "stdout",
     "output_type": "stream",
     "text": [
      "Learning time 13.275373935699463 sec\n",
      "\n"
     ]
    },
    {
     "data": {
      "text/plain": [
       "'Combination 69'"
      ]
     },
     "metadata": {},
     "output_type": "display_data"
    },
    {
     "name": "stdout",
     "output_type": "stream",
     "text": [
      "-----------------------------------------\n",
      "-----------------------------------------\n",
      "-----------------------------------------\n",
      "-----------------------------------------\n",
      "-----------------------------------------\n",
      "{'act': None, 'activation': 'sigmoid', 'activation_m': 1, 'batch_size': 4096, 'buffer_size': 1000, 'depth': 2, 'dropout_p': 0.0, 'epochs': 100, 'init_method': None, 'init_y_method': 'uniform', 'learning_rate': 0.5, 'model_type': 'basic', 'optimizer': 'rmsprop', 'random_state': None, 'training_hook': [], 'training_loss': 'softmax'}\n",
      "-----------------------------------------\n"
     ]
    },
    {
     "name": "stderr",
     "output_type": "stream",
     "text": [
      "C:\\Users\\Marios\\Jupyter_Notebooks_my_papers\\Data-driven-Causal-Discovery-for-Constructing-Fuzzy-Cognitive-Maps-An-Industrial-Case-Study\\base\\classifier.py:143: UserWarning: 2018.12.16 The instruction  'loss = loss/self.batch_size' was commented out. Due to increased gradient values check the optimizer learning rate \n",
      "  warnings.warn('2018.12.16 The instruction  \\'loss = loss/self.batch_size\\' was commented out. Due to increased gradient values check the optimizer learning rate ')\n"
     ]
    },
    {
     "name": "stdout",
     "output_type": "stream",
     "text": [
      "Learning time 13.034542798995972 sec\n",
      "\n"
     ]
    },
    {
     "data": {
      "text/plain": [
       "'Combination 70'"
      ]
     },
     "metadata": {},
     "output_type": "display_data"
    },
    {
     "name": "stdout",
     "output_type": "stream",
     "text": [
      "-----------------------------------------\n",
      "-----------------------------------------\n",
      "-----------------------------------------\n",
      "-----------------------------------------\n",
      "-----------------------------------------\n",
      "{'act': None, 'activation': 'sigmoid', 'activation_m': 1, 'batch_size': 4096, 'buffer_size': 1000, 'depth': 3, 'dropout_p': 0.0, 'epochs': 50, 'init_method': None, 'init_y_method': 'uniform', 'learning_rate': 0.001, 'model_type': 'basic', 'optimizer': 'rmsprop', 'random_state': None, 'training_hook': [], 'training_loss': 'softmax'}\n",
      "-----------------------------------------\n"
     ]
    },
    {
     "name": "stderr",
     "output_type": "stream",
     "text": [
      "C:\\Users\\Marios\\Jupyter_Notebooks_my_papers\\Data-driven-Causal-Discovery-for-Constructing-Fuzzy-Cognitive-Maps-An-Industrial-Case-Study\\base\\classifier.py:143: UserWarning: 2018.12.16 The instruction  'loss = loss/self.batch_size' was commented out. Due to increased gradient values check the optimizer learning rate \n",
      "  warnings.warn('2018.12.16 The instruction  \\'loss = loss/self.batch_size\\' was commented out. Due to increased gradient values check the optimizer learning rate ')\n"
     ]
    },
    {
     "name": "stdout",
     "output_type": "stream",
     "text": [
      "Learning time 7.440392255783081 sec\n",
      "\n"
     ]
    },
    {
     "data": {
      "text/plain": [
       "'Combination 71'"
      ]
     },
     "metadata": {},
     "output_type": "display_data"
    },
    {
     "name": "stdout",
     "output_type": "stream",
     "text": [
      "-----------------------------------------\n",
      "-----------------------------------------\n",
      "-----------------------------------------\n",
      "-----------------------------------------\n",
      "-----------------------------------------\n",
      "{'act': None, 'activation': 'sigmoid', 'activation_m': 1, 'batch_size': 4096, 'buffer_size': 1000, 'depth': 3, 'dropout_p': 0.0, 'epochs': 50, 'init_method': None, 'init_y_method': 'uniform', 'learning_rate': 0.01, 'model_type': 'basic', 'optimizer': 'rmsprop', 'random_state': None, 'training_hook': [], 'training_loss': 'softmax'}\n",
      "-----------------------------------------\n"
     ]
    },
    {
     "name": "stderr",
     "output_type": "stream",
     "text": [
      "C:\\Users\\Marios\\Jupyter_Notebooks_my_papers\\Data-driven-Causal-Discovery-for-Constructing-Fuzzy-Cognitive-Maps-An-Industrial-Case-Study\\base\\classifier.py:143: UserWarning: 2018.12.16 The instruction  'loss = loss/self.batch_size' was commented out. Due to increased gradient values check the optimizer learning rate \n",
      "  warnings.warn('2018.12.16 The instruction  \\'loss = loss/self.batch_size\\' was commented out. Due to increased gradient values check the optimizer learning rate ')\n"
     ]
    },
    {
     "name": "stdout",
     "output_type": "stream",
     "text": [
      "Learning time 7.415661096572876 sec\n",
      "\n"
     ]
    },
    {
     "data": {
      "text/plain": [
       "'Combination 72'"
      ]
     },
     "metadata": {},
     "output_type": "display_data"
    },
    {
     "name": "stdout",
     "output_type": "stream",
     "text": [
      "-----------------------------------------\n",
      "-----------------------------------------\n",
      "-----------------------------------------\n",
      "-----------------------------------------\n",
      "-----------------------------------------\n",
      "{'act': None, 'activation': 'sigmoid', 'activation_m': 1, 'batch_size': 4096, 'buffer_size': 1000, 'depth': 3, 'dropout_p': 0.0, 'epochs': 50, 'init_method': None, 'init_y_method': 'uniform', 'learning_rate': 0.05, 'model_type': 'basic', 'optimizer': 'rmsprop', 'random_state': None, 'training_hook': [], 'training_loss': 'softmax'}\n",
      "-----------------------------------------\n"
     ]
    },
    {
     "name": "stderr",
     "output_type": "stream",
     "text": [
      "C:\\Users\\Marios\\Jupyter_Notebooks_my_papers\\Data-driven-Causal-Discovery-for-Constructing-Fuzzy-Cognitive-Maps-An-Industrial-Case-Study\\base\\classifier.py:143: UserWarning: 2018.12.16 The instruction  'loss = loss/self.batch_size' was commented out. Due to increased gradient values check the optimizer learning rate \n",
      "  warnings.warn('2018.12.16 The instruction  \\'loss = loss/self.batch_size\\' was commented out. Due to increased gradient values check the optimizer learning rate ')\n"
     ]
    },
    {
     "name": "stdout",
     "output_type": "stream",
     "text": [
      "Learning time 7.400653600692749 sec\n",
      "\n"
     ]
    },
    {
     "data": {
      "text/plain": [
       "'Combination 73'"
      ]
     },
     "metadata": {},
     "output_type": "display_data"
    },
    {
     "name": "stdout",
     "output_type": "stream",
     "text": [
      "-----------------------------------------\n",
      "-----------------------------------------\n",
      "-----------------------------------------\n",
      "-----------------------------------------\n",
      "-----------------------------------------\n",
      "{'act': None, 'activation': 'sigmoid', 'activation_m': 1, 'batch_size': 4096, 'buffer_size': 1000, 'depth': 3, 'dropout_p': 0.0, 'epochs': 50, 'init_method': None, 'init_y_method': 'uniform', 'learning_rate': 0.1, 'model_type': 'basic', 'optimizer': 'rmsprop', 'random_state': None, 'training_hook': [], 'training_loss': 'softmax'}\n",
      "-----------------------------------------\n"
     ]
    },
    {
     "name": "stderr",
     "output_type": "stream",
     "text": [
      "C:\\Users\\Marios\\Jupyter_Notebooks_my_papers\\Data-driven-Causal-Discovery-for-Constructing-Fuzzy-Cognitive-Maps-An-Industrial-Case-Study\\base\\classifier.py:143: UserWarning: 2018.12.16 The instruction  'loss = loss/self.batch_size' was commented out. Due to increased gradient values check the optimizer learning rate \n",
      "  warnings.warn('2018.12.16 The instruction  \\'loss = loss/self.batch_size\\' was commented out. Due to increased gradient values check the optimizer learning rate ')\n"
     ]
    },
    {
     "name": "stdout",
     "output_type": "stream",
     "text": [
      "Learning time 7.480432748794556 sec\n",
      "\n"
     ]
    },
    {
     "data": {
      "text/plain": [
       "'Combination 74'"
      ]
     },
     "metadata": {},
     "output_type": "display_data"
    },
    {
     "name": "stdout",
     "output_type": "stream",
     "text": [
      "-----------------------------------------\n",
      "-----------------------------------------\n",
      "-----------------------------------------\n",
      "-----------------------------------------\n",
      "-----------------------------------------\n",
      "{'act': None, 'activation': 'sigmoid', 'activation_m': 1, 'batch_size': 4096, 'buffer_size': 1000, 'depth': 3, 'dropout_p': 0.0, 'epochs': 50, 'init_method': None, 'init_y_method': 'uniform', 'learning_rate': 0.5, 'model_type': 'basic', 'optimizer': 'rmsprop', 'random_state': None, 'training_hook': [], 'training_loss': 'softmax'}\n",
      "-----------------------------------------\n"
     ]
    },
    {
     "name": "stderr",
     "output_type": "stream",
     "text": [
      "C:\\Users\\Marios\\Jupyter_Notebooks_my_papers\\Data-driven-Causal-Discovery-for-Constructing-Fuzzy-Cognitive-Maps-An-Industrial-Case-Study\\base\\classifier.py:143: UserWarning: 2018.12.16 The instruction  'loss = loss/self.batch_size' was commented out. Due to increased gradient values check the optimizer learning rate \n",
      "  warnings.warn('2018.12.16 The instruction  \\'loss = loss/self.batch_size\\' was commented out. Due to increased gradient values check the optimizer learning rate ')\n"
     ]
    },
    {
     "name": "stdout",
     "output_type": "stream",
     "text": [
      "Learning time 7.4857401847839355 sec\n",
      "\n"
     ]
    },
    {
     "data": {
      "text/plain": [
       "'Combination 75'"
      ]
     },
     "metadata": {},
     "output_type": "display_data"
    },
    {
     "name": "stdout",
     "output_type": "stream",
     "text": [
      "-----------------------------------------\n",
      "-----------------------------------------\n",
      "-----------------------------------------\n",
      "-----------------------------------------\n",
      "-----------------------------------------\n",
      "{'act': None, 'activation': 'sigmoid', 'activation_m': 1, 'batch_size': 4096, 'buffer_size': 1000, 'depth': 3, 'dropout_p': 0.0, 'epochs': 100, 'init_method': None, 'init_y_method': 'uniform', 'learning_rate': 0.001, 'model_type': 'basic', 'optimizer': 'rmsprop', 'random_state': None, 'training_hook': [], 'training_loss': 'softmax'}\n",
      "-----------------------------------------\n"
     ]
    },
    {
     "name": "stderr",
     "output_type": "stream",
     "text": [
      "C:\\Users\\Marios\\Jupyter_Notebooks_my_papers\\Data-driven-Causal-Discovery-for-Constructing-Fuzzy-Cognitive-Maps-An-Industrial-Case-Study\\base\\classifier.py:143: UserWarning: 2018.12.16 The instruction  'loss = loss/self.batch_size' was commented out. Due to increased gradient values check the optimizer learning rate \n",
      "  warnings.warn('2018.12.16 The instruction  \\'loss = loss/self.batch_size\\' was commented out. Due to increased gradient values check the optimizer learning rate ')\n"
     ]
    },
    {
     "name": "stdout",
     "output_type": "stream",
     "text": [
      "Learning time 15.071166038513184 sec\n",
      "\n"
     ]
    },
    {
     "data": {
      "text/plain": [
       "'Combination 76'"
      ]
     },
     "metadata": {},
     "output_type": "display_data"
    },
    {
     "name": "stdout",
     "output_type": "stream",
     "text": [
      "-----------------------------------------\n",
      "-----------------------------------------\n",
      "-----------------------------------------\n",
      "-----------------------------------------\n",
      "-----------------------------------------\n",
      "{'act': None, 'activation': 'sigmoid', 'activation_m': 1, 'batch_size': 4096, 'buffer_size': 1000, 'depth': 3, 'dropout_p': 0.0, 'epochs': 100, 'init_method': None, 'init_y_method': 'uniform', 'learning_rate': 0.01, 'model_type': 'basic', 'optimizer': 'rmsprop', 'random_state': None, 'training_hook': [], 'training_loss': 'softmax'}\n",
      "-----------------------------------------\n"
     ]
    },
    {
     "name": "stderr",
     "output_type": "stream",
     "text": [
      "C:\\Users\\Marios\\Jupyter_Notebooks_my_papers\\Data-driven-Causal-Discovery-for-Constructing-Fuzzy-Cognitive-Maps-An-Industrial-Case-Study\\base\\classifier.py:143: UserWarning: 2018.12.16 The instruction  'loss = loss/self.batch_size' was commented out. Due to increased gradient values check the optimizer learning rate \n",
      "  warnings.warn('2018.12.16 The instruction  \\'loss = loss/self.batch_size\\' was commented out. Due to increased gradient values check the optimizer learning rate ')\n"
     ]
    },
    {
     "name": "stdout",
     "output_type": "stream",
     "text": [
      "Learning time 14.878666877746582 sec\n",
      "\n"
     ]
    },
    {
     "data": {
      "text/plain": [
       "'Combination 77'"
      ]
     },
     "metadata": {},
     "output_type": "display_data"
    },
    {
     "name": "stdout",
     "output_type": "stream",
     "text": [
      "-----------------------------------------\n",
      "-----------------------------------------\n",
      "-----------------------------------------\n",
      "-----------------------------------------\n",
      "-----------------------------------------\n",
      "{'act': None, 'activation': 'sigmoid', 'activation_m': 1, 'batch_size': 4096, 'buffer_size': 1000, 'depth': 3, 'dropout_p': 0.0, 'epochs': 100, 'init_method': None, 'init_y_method': 'uniform', 'learning_rate': 0.05, 'model_type': 'basic', 'optimizer': 'rmsprop', 'random_state': None, 'training_hook': [], 'training_loss': 'softmax'}\n",
      "-----------------------------------------\n"
     ]
    },
    {
     "name": "stderr",
     "output_type": "stream",
     "text": [
      "C:\\Users\\Marios\\Jupyter_Notebooks_my_papers\\Data-driven-Causal-Discovery-for-Constructing-Fuzzy-Cognitive-Maps-An-Industrial-Case-Study\\base\\classifier.py:143: UserWarning: 2018.12.16 The instruction  'loss = loss/self.batch_size' was commented out. Due to increased gradient values check the optimizer learning rate \n",
      "  warnings.warn('2018.12.16 The instruction  \\'loss = loss/self.batch_size\\' was commented out. Due to increased gradient values check the optimizer learning rate ')\n"
     ]
    },
    {
     "name": "stdout",
     "output_type": "stream",
     "text": [
      "Learning time 14.85105013847351 sec\n",
      "\n"
     ]
    },
    {
     "data": {
      "text/plain": [
       "'Combination 78'"
      ]
     },
     "metadata": {},
     "output_type": "display_data"
    },
    {
     "name": "stdout",
     "output_type": "stream",
     "text": [
      "-----------------------------------------\n",
      "-----------------------------------------\n",
      "-----------------------------------------\n",
      "-----------------------------------------\n",
      "-----------------------------------------\n",
      "{'act': None, 'activation': 'sigmoid', 'activation_m': 1, 'batch_size': 4096, 'buffer_size': 1000, 'depth': 3, 'dropout_p': 0.0, 'epochs': 100, 'init_method': None, 'init_y_method': 'uniform', 'learning_rate': 0.1, 'model_type': 'basic', 'optimizer': 'rmsprop', 'random_state': None, 'training_hook': [], 'training_loss': 'softmax'}\n",
      "-----------------------------------------\n"
     ]
    },
    {
     "name": "stderr",
     "output_type": "stream",
     "text": [
      "C:\\Users\\Marios\\Jupyter_Notebooks_my_papers\\Data-driven-Causal-Discovery-for-Constructing-Fuzzy-Cognitive-Maps-An-Industrial-Case-Study\\base\\classifier.py:143: UserWarning: 2018.12.16 The instruction  'loss = loss/self.batch_size' was commented out. Due to increased gradient values check the optimizer learning rate \n",
      "  warnings.warn('2018.12.16 The instruction  \\'loss = loss/self.batch_size\\' was commented out. Due to increased gradient values check the optimizer learning rate ')\n"
     ]
    },
    {
     "name": "stdout",
     "output_type": "stream",
     "text": [
      "Learning time 14.926880836486816 sec\n",
      "\n"
     ]
    },
    {
     "data": {
      "text/plain": [
       "'Combination 79'"
      ]
     },
     "metadata": {},
     "output_type": "display_data"
    },
    {
     "name": "stdout",
     "output_type": "stream",
     "text": [
      "-----------------------------------------\n",
      "-----------------------------------------\n",
      "-----------------------------------------\n",
      "-----------------------------------------\n",
      "-----------------------------------------\n",
      "{'act': None, 'activation': 'sigmoid', 'activation_m': 1, 'batch_size': 4096, 'buffer_size': 1000, 'depth': 3, 'dropout_p': 0.0, 'epochs': 100, 'init_method': None, 'init_y_method': 'uniform', 'learning_rate': 0.5, 'model_type': 'basic', 'optimizer': 'rmsprop', 'random_state': None, 'training_hook': [], 'training_loss': 'softmax'}\n",
      "-----------------------------------------\n"
     ]
    },
    {
     "name": "stderr",
     "output_type": "stream",
     "text": [
      "C:\\Users\\Marios\\Jupyter_Notebooks_my_papers\\Data-driven-Causal-Discovery-for-Constructing-Fuzzy-Cognitive-Maps-An-Industrial-Case-Study\\base\\classifier.py:143: UserWarning: 2018.12.16 The instruction  'loss = loss/self.batch_size' was commented out. Due to increased gradient values check the optimizer learning rate \n",
      "  warnings.warn('2018.12.16 The instruction  \\'loss = loss/self.batch_size\\' was commented out. Due to increased gradient values check the optimizer learning rate ')\n"
     ]
    },
    {
     "name": "stdout",
     "output_type": "stream",
     "text": [
      "Learning time 14.910987377166748 sec\n",
      "\n"
     ]
    },
    {
     "data": {
      "text/plain": [
       "'Combination 80'"
      ]
     },
     "metadata": {},
     "output_type": "display_data"
    },
    {
     "name": "stdout",
     "output_type": "stream",
     "text": [
      "-----------------------------------------\n",
      "-----------------------------------------\n",
      "-----------------------------------------\n",
      "-----------------------------------------\n",
      "-----------------------------------------\n",
      "{'act': None, 'activation': 'sigmoid', 'activation_m': 1, 'batch_size': 4096, 'buffer_size': 1000, 'depth': 5, 'dropout_p': 0.0, 'epochs': 50, 'init_method': None, 'init_y_method': 'uniform', 'learning_rate': 0.001, 'model_type': 'basic', 'optimizer': 'rmsprop', 'random_state': None, 'training_hook': [], 'training_loss': 'softmax'}\n",
      "-----------------------------------------\n"
     ]
    },
    {
     "name": "stderr",
     "output_type": "stream",
     "text": [
      "C:\\Users\\Marios\\Jupyter_Notebooks_my_papers\\Data-driven-Causal-Discovery-for-Constructing-Fuzzy-Cognitive-Maps-An-Industrial-Case-Study\\base\\classifier.py:143: UserWarning: 2018.12.16 The instruction  'loss = loss/self.batch_size' was commented out. Due to increased gradient values check the optimizer learning rate \n",
      "  warnings.warn('2018.12.16 The instruction  \\'loss = loss/self.batch_size\\' was commented out. Due to increased gradient values check the optimizer learning rate ')\n"
     ]
    },
    {
     "name": "stdout",
     "output_type": "stream",
     "text": [
      "Learning time 9.217557430267334 sec\n",
      "\n"
     ]
    },
    {
     "data": {
      "text/plain": [
       "'Combination 81'"
      ]
     },
     "metadata": {},
     "output_type": "display_data"
    },
    {
     "name": "stdout",
     "output_type": "stream",
     "text": [
      "-----------------------------------------\n",
      "-----------------------------------------\n",
      "-----------------------------------------\n",
      "-----------------------------------------\n",
      "-----------------------------------------\n",
      "{'act': None, 'activation': 'sigmoid', 'activation_m': 1, 'batch_size': 4096, 'buffer_size': 1000, 'depth': 5, 'dropout_p': 0.0, 'epochs': 50, 'init_method': None, 'init_y_method': 'uniform', 'learning_rate': 0.01, 'model_type': 'basic', 'optimizer': 'rmsprop', 'random_state': None, 'training_hook': [], 'training_loss': 'softmax'}\n",
      "-----------------------------------------\n"
     ]
    },
    {
     "name": "stderr",
     "output_type": "stream",
     "text": [
      "C:\\Users\\Marios\\Jupyter_Notebooks_my_papers\\Data-driven-Causal-Discovery-for-Constructing-Fuzzy-Cognitive-Maps-An-Industrial-Case-Study\\base\\classifier.py:143: UserWarning: 2018.12.16 The instruction  'loss = loss/self.batch_size' was commented out. Due to increased gradient values check the optimizer learning rate \n",
      "  warnings.warn('2018.12.16 The instruction  \\'loss = loss/self.batch_size\\' was commented out. Due to increased gradient values check the optimizer learning rate ')\n"
     ]
    },
    {
     "name": "stdout",
     "output_type": "stream",
     "text": [
      "Learning time 9.29409670829773 sec\n",
      "\n"
     ]
    },
    {
     "data": {
      "text/plain": [
       "'Combination 82'"
      ]
     },
     "metadata": {},
     "output_type": "display_data"
    },
    {
     "name": "stdout",
     "output_type": "stream",
     "text": [
      "-----------------------------------------\n",
      "-----------------------------------------\n",
      "-----------------------------------------\n",
      "-----------------------------------------\n",
      "-----------------------------------------\n",
      "{'act': None, 'activation': 'sigmoid', 'activation_m': 1, 'batch_size': 4096, 'buffer_size': 1000, 'depth': 5, 'dropout_p': 0.0, 'epochs': 50, 'init_method': None, 'init_y_method': 'uniform', 'learning_rate': 0.05, 'model_type': 'basic', 'optimizer': 'rmsprop', 'random_state': None, 'training_hook': [], 'training_loss': 'softmax'}\n",
      "-----------------------------------------\n"
     ]
    },
    {
     "name": "stderr",
     "output_type": "stream",
     "text": [
      "C:\\Users\\Marios\\Jupyter_Notebooks_my_papers\\Data-driven-Causal-Discovery-for-Constructing-Fuzzy-Cognitive-Maps-An-Industrial-Case-Study\\base\\classifier.py:143: UserWarning: 2018.12.16 The instruction  'loss = loss/self.batch_size' was commented out. Due to increased gradient values check the optimizer learning rate \n",
      "  warnings.warn('2018.12.16 The instruction  \\'loss = loss/self.batch_size\\' was commented out. Due to increased gradient values check the optimizer learning rate ')\n"
     ]
    },
    {
     "name": "stdout",
     "output_type": "stream",
     "text": [
      "Learning time 9.264198303222656 sec\n",
      "\n"
     ]
    },
    {
     "data": {
      "text/plain": [
       "'Combination 83'"
      ]
     },
     "metadata": {},
     "output_type": "display_data"
    },
    {
     "name": "stdout",
     "output_type": "stream",
     "text": [
      "-----------------------------------------\n",
      "-----------------------------------------\n",
      "-----------------------------------------\n",
      "-----------------------------------------\n",
      "-----------------------------------------\n",
      "{'act': None, 'activation': 'sigmoid', 'activation_m': 1, 'batch_size': 4096, 'buffer_size': 1000, 'depth': 5, 'dropout_p': 0.0, 'epochs': 50, 'init_method': None, 'init_y_method': 'uniform', 'learning_rate': 0.1, 'model_type': 'basic', 'optimizer': 'rmsprop', 'random_state': None, 'training_hook': [], 'training_loss': 'softmax'}\n",
      "-----------------------------------------\n"
     ]
    },
    {
     "name": "stderr",
     "output_type": "stream",
     "text": [
      "C:\\Users\\Marios\\Jupyter_Notebooks_my_papers\\Data-driven-Causal-Discovery-for-Constructing-Fuzzy-Cognitive-Maps-An-Industrial-Case-Study\\base\\classifier.py:143: UserWarning: 2018.12.16 The instruction  'loss = loss/self.batch_size' was commented out. Due to increased gradient values check the optimizer learning rate \n",
      "  warnings.warn('2018.12.16 The instruction  \\'loss = loss/self.batch_size\\' was commented out. Due to increased gradient values check the optimizer learning rate ')\n"
     ]
    },
    {
     "name": "stdout",
     "output_type": "stream",
     "text": [
      "Learning time 9.469115972518921 sec\n",
      "\n"
     ]
    },
    {
     "data": {
      "text/plain": [
       "'Combination 84'"
      ]
     },
     "metadata": {},
     "output_type": "display_data"
    },
    {
     "name": "stdout",
     "output_type": "stream",
     "text": [
      "-----------------------------------------\n",
      "-----------------------------------------\n",
      "-----------------------------------------\n",
      "-----------------------------------------\n",
      "-----------------------------------------\n",
      "{'act': None, 'activation': 'sigmoid', 'activation_m': 1, 'batch_size': 4096, 'buffer_size': 1000, 'depth': 5, 'dropout_p': 0.0, 'epochs': 50, 'init_method': None, 'init_y_method': 'uniform', 'learning_rate': 0.5, 'model_type': 'basic', 'optimizer': 'rmsprop', 'random_state': None, 'training_hook': [], 'training_loss': 'softmax'}\n",
      "-----------------------------------------\n"
     ]
    },
    {
     "name": "stderr",
     "output_type": "stream",
     "text": [
      "C:\\Users\\Marios\\Jupyter_Notebooks_my_papers\\Data-driven-Causal-Discovery-for-Constructing-Fuzzy-Cognitive-Maps-An-Industrial-Case-Study\\base\\classifier.py:143: UserWarning: 2018.12.16 The instruction  'loss = loss/self.batch_size' was commented out. Due to increased gradient values check the optimizer learning rate \n",
      "  warnings.warn('2018.12.16 The instruction  \\'loss = loss/self.batch_size\\' was commented out. Due to increased gradient values check the optimizer learning rate ')\n"
     ]
    },
    {
     "name": "stdout",
     "output_type": "stream",
     "text": [
      "Learning time 9.622884511947632 sec\n",
      "\n"
     ]
    },
    {
     "data": {
      "text/plain": [
       "'Combination 85'"
      ]
     },
     "metadata": {},
     "output_type": "display_data"
    },
    {
     "name": "stdout",
     "output_type": "stream",
     "text": [
      "-----------------------------------------\n",
      "-----------------------------------------\n",
      "-----------------------------------------\n",
      "-----------------------------------------\n",
      "-----------------------------------------\n",
      "{'act': None, 'activation': 'sigmoid', 'activation_m': 1, 'batch_size': 4096, 'buffer_size': 1000, 'depth': 5, 'dropout_p': 0.0, 'epochs': 100, 'init_method': None, 'init_y_method': 'uniform', 'learning_rate': 0.001, 'model_type': 'basic', 'optimizer': 'rmsprop', 'random_state': None, 'training_hook': [], 'training_loss': 'softmax'}\n",
      "-----------------------------------------\n"
     ]
    },
    {
     "name": "stderr",
     "output_type": "stream",
     "text": [
      "C:\\Users\\Marios\\Jupyter_Notebooks_my_papers\\Data-driven-Causal-Discovery-for-Constructing-Fuzzy-Cognitive-Maps-An-Industrial-Case-Study\\base\\classifier.py:143: UserWarning: 2018.12.16 The instruction  'loss = loss/self.batch_size' was commented out. Due to increased gradient values check the optimizer learning rate \n",
      "  warnings.warn('2018.12.16 The instruction  \\'loss = loss/self.batch_size\\' was commented out. Due to increased gradient values check the optimizer learning rate ')\n"
     ]
    },
    {
     "name": "stdout",
     "output_type": "stream",
     "text": [
      "Learning time 18.61904287338257 sec\n",
      "\n"
     ]
    },
    {
     "data": {
      "text/plain": [
       "'Combination 86'"
      ]
     },
     "metadata": {},
     "output_type": "display_data"
    },
    {
     "name": "stdout",
     "output_type": "stream",
     "text": [
      "-----------------------------------------\n",
      "-----------------------------------------\n",
      "-----------------------------------------\n",
      "-----------------------------------------\n",
      "-----------------------------------------\n",
      "{'act': None, 'activation': 'sigmoid', 'activation_m': 1, 'batch_size': 4096, 'buffer_size': 1000, 'depth': 5, 'dropout_p': 0.0, 'epochs': 100, 'init_method': None, 'init_y_method': 'uniform', 'learning_rate': 0.01, 'model_type': 'basic', 'optimizer': 'rmsprop', 'random_state': None, 'training_hook': [], 'training_loss': 'softmax'}\n",
      "-----------------------------------------\n"
     ]
    },
    {
     "name": "stderr",
     "output_type": "stream",
     "text": [
      "C:\\Users\\Marios\\Jupyter_Notebooks_my_papers\\Data-driven-Causal-Discovery-for-Constructing-Fuzzy-Cognitive-Maps-An-Industrial-Case-Study\\base\\classifier.py:143: UserWarning: 2018.12.16 The instruction  'loss = loss/self.batch_size' was commented out. Due to increased gradient values check the optimizer learning rate \n",
      "  warnings.warn('2018.12.16 The instruction  \\'loss = loss/self.batch_size\\' was commented out. Due to increased gradient values check the optimizer learning rate ')\n"
     ]
    },
    {
     "name": "stdout",
     "output_type": "stream",
     "text": [
      "Learning time 18.92498755455017 sec\n",
      "\n"
     ]
    },
    {
     "data": {
      "text/plain": [
       "'Combination 87'"
      ]
     },
     "metadata": {},
     "output_type": "display_data"
    },
    {
     "name": "stdout",
     "output_type": "stream",
     "text": [
      "-----------------------------------------\n",
      "-----------------------------------------\n",
      "-----------------------------------------\n",
      "-----------------------------------------\n",
      "-----------------------------------------\n",
      "{'act': None, 'activation': 'sigmoid', 'activation_m': 1, 'batch_size': 4096, 'buffer_size': 1000, 'depth': 5, 'dropout_p': 0.0, 'epochs': 100, 'init_method': None, 'init_y_method': 'uniform', 'learning_rate': 0.05, 'model_type': 'basic', 'optimizer': 'rmsprop', 'random_state': None, 'training_hook': [], 'training_loss': 'softmax'}\n",
      "-----------------------------------------\n"
     ]
    },
    {
     "name": "stderr",
     "output_type": "stream",
     "text": [
      "C:\\Users\\Marios\\Jupyter_Notebooks_my_papers\\Data-driven-Causal-Discovery-for-Constructing-Fuzzy-Cognitive-Maps-An-Industrial-Case-Study\\base\\classifier.py:143: UserWarning: 2018.12.16 The instruction  'loss = loss/self.batch_size' was commented out. Due to increased gradient values check the optimizer learning rate \n",
      "  warnings.warn('2018.12.16 The instruction  \\'loss = loss/self.batch_size\\' was commented out. Due to increased gradient values check the optimizer learning rate ')\n"
     ]
    },
    {
     "name": "stdout",
     "output_type": "stream",
     "text": [
      "Learning time 18.780683517456055 sec\n",
      "\n"
     ]
    },
    {
     "data": {
      "text/plain": [
       "'Combination 88'"
      ]
     },
     "metadata": {},
     "output_type": "display_data"
    },
    {
     "name": "stdout",
     "output_type": "stream",
     "text": [
      "-----------------------------------------\n",
      "-----------------------------------------\n",
      "-----------------------------------------\n",
      "-----------------------------------------\n",
      "-----------------------------------------\n",
      "{'act': None, 'activation': 'sigmoid', 'activation_m': 1, 'batch_size': 4096, 'buffer_size': 1000, 'depth': 5, 'dropout_p': 0.0, 'epochs': 100, 'init_method': None, 'init_y_method': 'uniform', 'learning_rate': 0.1, 'model_type': 'basic', 'optimizer': 'rmsprop', 'random_state': None, 'training_hook': [], 'training_loss': 'softmax'}\n",
      "-----------------------------------------\n"
     ]
    },
    {
     "name": "stderr",
     "output_type": "stream",
     "text": [
      "C:\\Users\\Marios\\Jupyter_Notebooks_my_papers\\Data-driven-Causal-Discovery-for-Constructing-Fuzzy-Cognitive-Maps-An-Industrial-Case-Study\\base\\classifier.py:143: UserWarning: 2018.12.16 The instruction  'loss = loss/self.batch_size' was commented out. Due to increased gradient values check the optimizer learning rate \n",
      "  warnings.warn('2018.12.16 The instruction  \\'loss = loss/self.batch_size\\' was commented out. Due to increased gradient values check the optimizer learning rate ')\n"
     ]
    },
    {
     "name": "stdout",
     "output_type": "stream",
     "text": [
      "Learning time 18.865403175354004 sec\n",
      "\n"
     ]
    },
    {
     "data": {
      "text/plain": [
       "'Combination 89'"
      ]
     },
     "metadata": {},
     "output_type": "display_data"
    },
    {
     "name": "stdout",
     "output_type": "stream",
     "text": [
      "-----------------------------------------\n",
      "-----------------------------------------\n",
      "-----------------------------------------\n",
      "-----------------------------------------\n",
      "-----------------------------------------\n",
      "{'act': None, 'activation': 'sigmoid', 'activation_m': 1, 'batch_size': 4096, 'buffer_size': 1000, 'depth': 5, 'dropout_p': 0.0, 'epochs': 100, 'init_method': None, 'init_y_method': 'uniform', 'learning_rate': 0.5, 'model_type': 'basic', 'optimizer': 'rmsprop', 'random_state': None, 'training_hook': [], 'training_loss': 'softmax'}\n",
      "-----------------------------------------\n"
     ]
    },
    {
     "name": "stderr",
     "output_type": "stream",
     "text": [
      "C:\\Users\\Marios\\Jupyter_Notebooks_my_papers\\Data-driven-Causal-Discovery-for-Constructing-Fuzzy-Cognitive-Maps-An-Industrial-Case-Study\\base\\classifier.py:143: UserWarning: 2018.12.16 The instruction  'loss = loss/self.batch_size' was commented out. Due to increased gradient values check the optimizer learning rate \n",
      "  warnings.warn('2018.12.16 The instruction  \\'loss = loss/self.batch_size\\' was commented out. Due to increased gradient values check the optimizer learning rate ')\n"
     ]
    },
    {
     "name": "stdout",
     "output_type": "stream",
     "text": [
      "Learning time 18.577200651168823 sec\n",
      "\n"
     ]
    },
    {
     "data": {
      "text/plain": [
       "'Combination 90'"
      ]
     },
     "metadata": {},
     "output_type": "display_data"
    },
    {
     "name": "stdout",
     "output_type": "stream",
     "text": [
      "-----------------------------------------\n",
      "-----------------------------------------\n",
      "-----------------------------------------\n",
      "-----------------------------------------\n",
      "-----------------------------------------\n",
      "{'act': None, 'activation': 'sigmoid', 'activation_m': 1, 'batch_size': -1, 'buffer_size': 1000, 'depth': 2, 'dropout_p': 0.0, 'epochs': 50, 'init_method': None, 'init_y_method': 'uniform', 'learning_rate': 0.001, 'model_type': 'basic', 'optimizer': 'rmsprop', 'random_state': None, 'training_hook': [], 'training_loss': 'softmax'}\n",
      "-----------------------------------------\n"
     ]
    },
    {
     "name": "stderr",
     "output_type": "stream",
     "text": [
      "C:\\Users\\Marios\\Jupyter_Notebooks_my_papers\\Data-driven-Causal-Discovery-for-Constructing-Fuzzy-Cognitive-Maps-An-Industrial-Case-Study\\base\\classifier.py:143: UserWarning: 2018.12.16 The instruction  'loss = loss/self.batch_size' was commented out. Due to increased gradient values check the optimizer learning rate \n",
      "  warnings.warn('2018.12.16 The instruction  \\'loss = loss/self.batch_size\\' was commented out. Due to increased gradient values check the optimizer learning rate ')\n"
     ]
    },
    {
     "name": "stdout",
     "output_type": "stream",
     "text": [
      "Learning time 5.049669981002808 sec\n",
      "\n"
     ]
    },
    {
     "data": {
      "text/plain": [
       "'Combination 91'"
      ]
     },
     "metadata": {},
     "output_type": "display_data"
    },
    {
     "name": "stdout",
     "output_type": "stream",
     "text": [
      "-----------------------------------------\n",
      "-----------------------------------------\n",
      "-----------------------------------------\n",
      "-----------------------------------------\n",
      "-----------------------------------------\n",
      "{'act': None, 'activation': 'sigmoid', 'activation_m': 1, 'batch_size': -1, 'buffer_size': 1000, 'depth': 2, 'dropout_p': 0.0, 'epochs': 50, 'init_method': None, 'init_y_method': 'uniform', 'learning_rate': 0.01, 'model_type': 'basic', 'optimizer': 'rmsprop', 'random_state': None, 'training_hook': [], 'training_loss': 'softmax'}\n",
      "-----------------------------------------\n"
     ]
    },
    {
     "name": "stderr",
     "output_type": "stream",
     "text": [
      "C:\\Users\\Marios\\Jupyter_Notebooks_my_papers\\Data-driven-Causal-Discovery-for-Constructing-Fuzzy-Cognitive-Maps-An-Industrial-Case-Study\\base\\classifier.py:143: UserWarning: 2018.12.16 The instruction  'loss = loss/self.batch_size' was commented out. Due to increased gradient values check the optimizer learning rate \n",
      "  warnings.warn('2018.12.16 The instruction  \\'loss = loss/self.batch_size\\' was commented out. Due to increased gradient values check the optimizer learning rate ')\n"
     ]
    },
    {
     "name": "stdout",
     "output_type": "stream",
     "text": [
      "Learning time 5.00648045539856 sec\n",
      "\n"
     ]
    },
    {
     "data": {
      "text/plain": [
       "'Combination 92'"
      ]
     },
     "metadata": {},
     "output_type": "display_data"
    },
    {
     "name": "stdout",
     "output_type": "stream",
     "text": [
      "-----------------------------------------\n",
      "-----------------------------------------\n",
      "-----------------------------------------\n",
      "-----------------------------------------\n",
      "-----------------------------------------\n",
      "{'act': None, 'activation': 'sigmoid', 'activation_m': 1, 'batch_size': -1, 'buffer_size': 1000, 'depth': 2, 'dropout_p': 0.0, 'epochs': 50, 'init_method': None, 'init_y_method': 'uniform', 'learning_rate': 0.05, 'model_type': 'basic', 'optimizer': 'rmsprop', 'random_state': None, 'training_hook': [], 'training_loss': 'softmax'}\n",
      "-----------------------------------------\n"
     ]
    },
    {
     "name": "stderr",
     "output_type": "stream",
     "text": [
      "C:\\Users\\Marios\\Jupyter_Notebooks_my_papers\\Data-driven-Causal-Discovery-for-Constructing-Fuzzy-Cognitive-Maps-An-Industrial-Case-Study\\base\\classifier.py:143: UserWarning: 2018.12.16 The instruction  'loss = loss/self.batch_size' was commented out. Due to increased gradient values check the optimizer learning rate \n",
      "  warnings.warn('2018.12.16 The instruction  \\'loss = loss/self.batch_size\\' was commented out. Due to increased gradient values check the optimizer learning rate ')\n"
     ]
    },
    {
     "name": "stdout",
     "output_type": "stream",
     "text": [
      "Learning time 5.03393030166626 sec\n",
      "\n"
     ]
    },
    {
     "data": {
      "text/plain": [
       "'Combination 93'"
      ]
     },
     "metadata": {},
     "output_type": "display_data"
    },
    {
     "name": "stdout",
     "output_type": "stream",
     "text": [
      "-----------------------------------------\n",
      "-----------------------------------------\n",
      "-----------------------------------------\n",
      "-----------------------------------------\n",
      "-----------------------------------------\n",
      "{'act': None, 'activation': 'sigmoid', 'activation_m': 1, 'batch_size': -1, 'buffer_size': 1000, 'depth': 2, 'dropout_p': 0.0, 'epochs': 50, 'init_method': None, 'init_y_method': 'uniform', 'learning_rate': 0.1, 'model_type': 'basic', 'optimizer': 'rmsprop', 'random_state': None, 'training_hook': [], 'training_loss': 'softmax'}\n",
      "-----------------------------------------\n"
     ]
    },
    {
     "name": "stderr",
     "output_type": "stream",
     "text": [
      "C:\\Users\\Marios\\Jupyter_Notebooks_my_papers\\Data-driven-Causal-Discovery-for-Constructing-Fuzzy-Cognitive-Maps-An-Industrial-Case-Study\\base\\classifier.py:143: UserWarning: 2018.12.16 The instruction  'loss = loss/self.batch_size' was commented out. Due to increased gradient values check the optimizer learning rate \n",
      "  warnings.warn('2018.12.16 The instruction  \\'loss = loss/self.batch_size\\' was commented out. Due to increased gradient values check the optimizer learning rate ')\n"
     ]
    },
    {
     "name": "stdout",
     "output_type": "stream",
     "text": [
      "Learning time 5.028364896774292 sec\n",
      "\n"
     ]
    },
    {
     "data": {
      "text/plain": [
       "'Combination 94'"
      ]
     },
     "metadata": {},
     "output_type": "display_data"
    },
    {
     "name": "stdout",
     "output_type": "stream",
     "text": [
      "-----------------------------------------\n",
      "-----------------------------------------\n",
      "-----------------------------------------\n",
      "-----------------------------------------\n",
      "-----------------------------------------\n",
      "{'act': None, 'activation': 'sigmoid', 'activation_m': 1, 'batch_size': -1, 'buffer_size': 1000, 'depth': 2, 'dropout_p': 0.0, 'epochs': 50, 'init_method': None, 'init_y_method': 'uniform', 'learning_rate': 0.5, 'model_type': 'basic', 'optimizer': 'rmsprop', 'random_state': None, 'training_hook': [], 'training_loss': 'softmax'}\n",
      "-----------------------------------------\n"
     ]
    },
    {
     "name": "stderr",
     "output_type": "stream",
     "text": [
      "C:\\Users\\Marios\\Jupyter_Notebooks_my_papers\\Data-driven-Causal-Discovery-for-Constructing-Fuzzy-Cognitive-Maps-An-Industrial-Case-Study\\base\\classifier.py:143: UserWarning: 2018.12.16 The instruction  'loss = loss/self.batch_size' was commented out. Due to increased gradient values check the optimizer learning rate \n",
      "  warnings.warn('2018.12.16 The instruction  \\'loss = loss/self.batch_size\\' was commented out. Due to increased gradient values check the optimizer learning rate ')\n"
     ]
    },
    {
     "name": "stdout",
     "output_type": "stream",
     "text": [
      "Learning time 5.053931713104248 sec\n",
      "\n"
     ]
    },
    {
     "data": {
      "text/plain": [
       "'Combination 95'"
      ]
     },
     "metadata": {},
     "output_type": "display_data"
    },
    {
     "name": "stdout",
     "output_type": "stream",
     "text": [
      "-----------------------------------------\n",
      "-----------------------------------------\n",
      "-----------------------------------------\n",
      "-----------------------------------------\n",
      "-----------------------------------------\n",
      "{'act': None, 'activation': 'sigmoid', 'activation_m': 1, 'batch_size': -1, 'buffer_size': 1000, 'depth': 2, 'dropout_p': 0.0, 'epochs': 100, 'init_method': None, 'init_y_method': 'uniform', 'learning_rate': 0.001, 'model_type': 'basic', 'optimizer': 'rmsprop', 'random_state': None, 'training_hook': [], 'training_loss': 'softmax'}\n",
      "-----------------------------------------\n"
     ]
    },
    {
     "name": "stderr",
     "output_type": "stream",
     "text": [
      "C:\\Users\\Marios\\Jupyter_Notebooks_my_papers\\Data-driven-Causal-Discovery-for-Constructing-Fuzzy-Cognitive-Maps-An-Industrial-Case-Study\\base\\classifier.py:143: UserWarning: 2018.12.16 The instruction  'loss = loss/self.batch_size' was commented out. Due to increased gradient values check the optimizer learning rate \n",
      "  warnings.warn('2018.12.16 The instruction  \\'loss = loss/self.batch_size\\' was commented out. Due to increased gradient values check the optimizer learning rate ')\n"
     ]
    },
    {
     "name": "stdout",
     "output_type": "stream",
     "text": [
      "Learning time 10.081128597259521 sec\n",
      "\n"
     ]
    },
    {
     "data": {
      "text/plain": [
       "'Combination 96'"
      ]
     },
     "metadata": {},
     "output_type": "display_data"
    },
    {
     "name": "stdout",
     "output_type": "stream",
     "text": [
      "-----------------------------------------\n",
      "-----------------------------------------\n",
      "-----------------------------------------\n",
      "-----------------------------------------\n",
      "-----------------------------------------\n",
      "{'act': None, 'activation': 'sigmoid', 'activation_m': 1, 'batch_size': -1, 'buffer_size': 1000, 'depth': 2, 'dropout_p': 0.0, 'epochs': 100, 'init_method': None, 'init_y_method': 'uniform', 'learning_rate': 0.01, 'model_type': 'basic', 'optimizer': 'rmsprop', 'random_state': None, 'training_hook': [], 'training_loss': 'softmax'}\n",
      "-----------------------------------------\n"
     ]
    },
    {
     "name": "stderr",
     "output_type": "stream",
     "text": [
      "C:\\Users\\Marios\\Jupyter_Notebooks_my_papers\\Data-driven-Causal-Discovery-for-Constructing-Fuzzy-Cognitive-Maps-An-Industrial-Case-Study\\base\\classifier.py:143: UserWarning: 2018.12.16 The instruction  'loss = loss/self.batch_size' was commented out. Due to increased gradient values check the optimizer learning rate \n",
      "  warnings.warn('2018.12.16 The instruction  \\'loss = loss/self.batch_size\\' was commented out. Due to increased gradient values check the optimizer learning rate ')\n"
     ]
    },
    {
     "name": "stdout",
     "output_type": "stream",
     "text": [
      "Learning time 10.04916501045227 sec\n",
      "\n"
     ]
    },
    {
     "data": {
      "text/plain": [
       "'Combination 97'"
      ]
     },
     "metadata": {},
     "output_type": "display_data"
    },
    {
     "name": "stdout",
     "output_type": "stream",
     "text": [
      "-----------------------------------------\n",
      "-----------------------------------------\n",
      "-----------------------------------------\n",
      "-----------------------------------------\n",
      "-----------------------------------------\n",
      "{'act': None, 'activation': 'sigmoid', 'activation_m': 1, 'batch_size': -1, 'buffer_size': 1000, 'depth': 2, 'dropout_p': 0.0, 'epochs': 100, 'init_method': None, 'init_y_method': 'uniform', 'learning_rate': 0.05, 'model_type': 'basic', 'optimizer': 'rmsprop', 'random_state': None, 'training_hook': [], 'training_loss': 'softmax'}\n",
      "-----------------------------------------\n"
     ]
    },
    {
     "name": "stderr",
     "output_type": "stream",
     "text": [
      "C:\\Users\\Marios\\Jupyter_Notebooks_my_papers\\Data-driven-Causal-Discovery-for-Constructing-Fuzzy-Cognitive-Maps-An-Industrial-Case-Study\\base\\classifier.py:143: UserWarning: 2018.12.16 The instruction  'loss = loss/self.batch_size' was commented out. Due to increased gradient values check the optimizer learning rate \n",
      "  warnings.warn('2018.12.16 The instruction  \\'loss = loss/self.batch_size\\' was commented out. Due to increased gradient values check the optimizer learning rate ')\n"
     ]
    },
    {
     "name": "stdout",
     "output_type": "stream",
     "text": [
      "Learning time 10.114332914352417 sec\n",
      "\n"
     ]
    },
    {
     "data": {
      "text/plain": [
       "'Combination 98'"
      ]
     },
     "metadata": {},
     "output_type": "display_data"
    },
    {
     "name": "stdout",
     "output_type": "stream",
     "text": [
      "-----------------------------------------\n",
      "-----------------------------------------\n",
      "-----------------------------------------\n",
      "-----------------------------------------\n",
      "-----------------------------------------\n",
      "{'act': None, 'activation': 'sigmoid', 'activation_m': 1, 'batch_size': -1, 'buffer_size': 1000, 'depth': 2, 'dropout_p': 0.0, 'epochs': 100, 'init_method': None, 'init_y_method': 'uniform', 'learning_rate': 0.1, 'model_type': 'basic', 'optimizer': 'rmsprop', 'random_state': None, 'training_hook': [], 'training_loss': 'softmax'}\n",
      "-----------------------------------------\n"
     ]
    },
    {
     "name": "stderr",
     "output_type": "stream",
     "text": [
      "C:\\Users\\Marios\\Jupyter_Notebooks_my_papers\\Data-driven-Causal-Discovery-for-Constructing-Fuzzy-Cognitive-Maps-An-Industrial-Case-Study\\base\\classifier.py:143: UserWarning: 2018.12.16 The instruction  'loss = loss/self.batch_size' was commented out. Due to increased gradient values check the optimizer learning rate \n",
      "  warnings.warn('2018.12.16 The instruction  \\'loss = loss/self.batch_size\\' was commented out. Due to increased gradient values check the optimizer learning rate ')\n"
     ]
    },
    {
     "name": "stdout",
     "output_type": "stream",
     "text": [
      "Learning time 10.051256656646729 sec\n",
      "\n"
     ]
    },
    {
     "data": {
      "text/plain": [
       "'Combination 99'"
      ]
     },
     "metadata": {},
     "output_type": "display_data"
    },
    {
     "name": "stdout",
     "output_type": "stream",
     "text": [
      "-----------------------------------------\n",
      "-----------------------------------------\n",
      "-----------------------------------------\n",
      "-----------------------------------------\n",
      "-----------------------------------------\n",
      "{'act': None, 'activation': 'sigmoid', 'activation_m': 1, 'batch_size': -1, 'buffer_size': 1000, 'depth': 2, 'dropout_p': 0.0, 'epochs': 100, 'init_method': None, 'init_y_method': 'uniform', 'learning_rate': 0.5, 'model_type': 'basic', 'optimizer': 'rmsprop', 'random_state': None, 'training_hook': [], 'training_loss': 'softmax'}\n",
      "-----------------------------------------\n"
     ]
    },
    {
     "name": "stderr",
     "output_type": "stream",
     "text": [
      "C:\\Users\\Marios\\Jupyter_Notebooks_my_papers\\Data-driven-Causal-Discovery-for-Constructing-Fuzzy-Cognitive-Maps-An-Industrial-Case-Study\\base\\classifier.py:143: UserWarning: 2018.12.16 The instruction  'loss = loss/self.batch_size' was commented out. Due to increased gradient values check the optimizer learning rate \n",
      "  warnings.warn('2018.12.16 The instruction  \\'loss = loss/self.batch_size\\' was commented out. Due to increased gradient values check the optimizer learning rate ')\n"
     ]
    },
    {
     "name": "stdout",
     "output_type": "stream",
     "text": [
      "Learning time 10.024570226669312 sec\n",
      "\n"
     ]
    },
    {
     "data": {
      "text/plain": [
       "'Combination 100'"
      ]
     },
     "metadata": {},
     "output_type": "display_data"
    },
    {
     "name": "stdout",
     "output_type": "stream",
     "text": [
      "-----------------------------------------\n",
      "-----------------------------------------\n",
      "-----------------------------------------\n",
      "-----------------------------------------\n",
      "-----------------------------------------\n",
      "{'act': None, 'activation': 'sigmoid', 'activation_m': 1, 'batch_size': -1, 'buffer_size': 1000, 'depth': 3, 'dropout_p': 0.0, 'epochs': 50, 'init_method': None, 'init_y_method': 'uniform', 'learning_rate': 0.001, 'model_type': 'basic', 'optimizer': 'rmsprop', 'random_state': None, 'training_hook': [], 'training_loss': 'softmax'}\n",
      "-----------------------------------------\n"
     ]
    },
    {
     "name": "stderr",
     "output_type": "stream",
     "text": [
      "C:\\Users\\Marios\\Jupyter_Notebooks_my_papers\\Data-driven-Causal-Discovery-for-Constructing-Fuzzy-Cognitive-Maps-An-Industrial-Case-Study\\base\\classifier.py:143: UserWarning: 2018.12.16 The instruction  'loss = loss/self.batch_size' was commented out. Due to increased gradient values check the optimizer learning rate \n",
      "  warnings.warn('2018.12.16 The instruction  \\'loss = loss/self.batch_size\\' was commented out. Due to increased gradient values check the optimizer learning rate ')\n"
     ]
    },
    {
     "name": "stdout",
     "output_type": "stream",
     "text": [
      "Learning time 5.559671878814697 sec\n",
      "\n"
     ]
    },
    {
     "data": {
      "text/plain": [
       "'Combination 101'"
      ]
     },
     "metadata": {},
     "output_type": "display_data"
    },
    {
     "name": "stdout",
     "output_type": "stream",
     "text": [
      "-----------------------------------------\n",
      "-----------------------------------------\n",
      "-----------------------------------------\n",
      "-----------------------------------------\n",
      "-----------------------------------------\n",
      "{'act': None, 'activation': 'sigmoid', 'activation_m': 1, 'batch_size': -1, 'buffer_size': 1000, 'depth': 3, 'dropout_p': 0.0, 'epochs': 50, 'init_method': None, 'init_y_method': 'uniform', 'learning_rate': 0.01, 'model_type': 'basic', 'optimizer': 'rmsprop', 'random_state': None, 'training_hook': [], 'training_loss': 'softmax'}\n",
      "-----------------------------------------\n"
     ]
    },
    {
     "name": "stderr",
     "output_type": "stream",
     "text": [
      "C:\\Users\\Marios\\Jupyter_Notebooks_my_papers\\Data-driven-Causal-Discovery-for-Constructing-Fuzzy-Cognitive-Maps-An-Industrial-Case-Study\\base\\classifier.py:143: UserWarning: 2018.12.16 The instruction  'loss = loss/self.batch_size' was commented out. Due to increased gradient values check the optimizer learning rate \n",
      "  warnings.warn('2018.12.16 The instruction  \\'loss = loss/self.batch_size\\' was commented out. Due to increased gradient values check the optimizer learning rate ')\n"
     ]
    },
    {
     "name": "stdout",
     "output_type": "stream",
     "text": [
      "Learning time 5.565235137939453 sec\n",
      "\n"
     ]
    },
    {
     "data": {
      "text/plain": [
       "'Combination 102'"
      ]
     },
     "metadata": {},
     "output_type": "display_data"
    },
    {
     "name": "stdout",
     "output_type": "stream",
     "text": [
      "-----------------------------------------\n",
      "-----------------------------------------\n",
      "-----------------------------------------\n",
      "-----------------------------------------\n",
      "-----------------------------------------\n",
      "{'act': None, 'activation': 'sigmoid', 'activation_m': 1, 'batch_size': -1, 'buffer_size': 1000, 'depth': 3, 'dropout_p': 0.0, 'epochs': 50, 'init_method': None, 'init_y_method': 'uniform', 'learning_rate': 0.05, 'model_type': 'basic', 'optimizer': 'rmsprop', 'random_state': None, 'training_hook': [], 'training_loss': 'softmax'}\n",
      "-----------------------------------------\n"
     ]
    },
    {
     "name": "stderr",
     "output_type": "stream",
     "text": [
      "C:\\Users\\Marios\\Jupyter_Notebooks_my_papers\\Data-driven-Causal-Discovery-for-Constructing-Fuzzy-Cognitive-Maps-An-Industrial-Case-Study\\base\\classifier.py:143: UserWarning: 2018.12.16 The instruction  'loss = loss/self.batch_size' was commented out. Due to increased gradient values check the optimizer learning rate \n",
      "  warnings.warn('2018.12.16 The instruction  \\'loss = loss/self.batch_size\\' was commented out. Due to increased gradient values check the optimizer learning rate ')\n"
     ]
    },
    {
     "name": "stdout",
     "output_type": "stream",
     "text": [
      "Learning time 5.541868686676025 sec\n",
      "\n"
     ]
    },
    {
     "data": {
      "text/plain": [
       "'Combination 103'"
      ]
     },
     "metadata": {},
     "output_type": "display_data"
    },
    {
     "name": "stdout",
     "output_type": "stream",
     "text": [
      "-----------------------------------------\n",
      "-----------------------------------------\n",
      "-----------------------------------------\n",
      "-----------------------------------------\n",
      "-----------------------------------------\n",
      "{'act': None, 'activation': 'sigmoid', 'activation_m': 1, 'batch_size': -1, 'buffer_size': 1000, 'depth': 3, 'dropout_p': 0.0, 'epochs': 50, 'init_method': None, 'init_y_method': 'uniform', 'learning_rate': 0.1, 'model_type': 'basic', 'optimizer': 'rmsprop', 'random_state': None, 'training_hook': [], 'training_loss': 'softmax'}\n",
      "-----------------------------------------\n"
     ]
    },
    {
     "name": "stderr",
     "output_type": "stream",
     "text": [
      "C:\\Users\\Marios\\Jupyter_Notebooks_my_papers\\Data-driven-Causal-Discovery-for-Constructing-Fuzzy-Cognitive-Maps-An-Industrial-Case-Study\\base\\classifier.py:143: UserWarning: 2018.12.16 The instruction  'loss = loss/self.batch_size' was commented out. Due to increased gradient values check the optimizer learning rate \n",
      "  warnings.warn('2018.12.16 The instruction  \\'loss = loss/self.batch_size\\' was commented out. Due to increased gradient values check the optimizer learning rate ')\n"
     ]
    },
    {
     "name": "stdout",
     "output_type": "stream",
     "text": [
      "Learning time 5.607290506362915 sec\n",
      "\n"
     ]
    },
    {
     "data": {
      "text/plain": [
       "'Combination 104'"
      ]
     },
     "metadata": {},
     "output_type": "display_data"
    },
    {
     "name": "stdout",
     "output_type": "stream",
     "text": [
      "-----------------------------------------\n",
      "-----------------------------------------\n",
      "-----------------------------------------\n",
      "-----------------------------------------\n",
      "-----------------------------------------\n",
      "{'act': None, 'activation': 'sigmoid', 'activation_m': 1, 'batch_size': -1, 'buffer_size': 1000, 'depth': 3, 'dropout_p': 0.0, 'epochs': 50, 'init_method': None, 'init_y_method': 'uniform', 'learning_rate': 0.5, 'model_type': 'basic', 'optimizer': 'rmsprop', 'random_state': None, 'training_hook': [], 'training_loss': 'softmax'}\n",
      "-----------------------------------------\n"
     ]
    },
    {
     "name": "stderr",
     "output_type": "stream",
     "text": [
      "C:\\Users\\Marios\\Jupyter_Notebooks_my_papers\\Data-driven-Causal-Discovery-for-Constructing-Fuzzy-Cognitive-Maps-An-Industrial-Case-Study\\base\\classifier.py:143: UserWarning: 2018.12.16 The instruction  'loss = loss/self.batch_size' was commented out. Due to increased gradient values check the optimizer learning rate \n",
      "  warnings.warn('2018.12.16 The instruction  \\'loss = loss/self.batch_size\\' was commented out. Due to increased gradient values check the optimizer learning rate ')\n"
     ]
    },
    {
     "name": "stdout",
     "output_type": "stream",
     "text": [
      "Learning time 5.567061185836792 sec\n",
      "\n"
     ]
    },
    {
     "data": {
      "text/plain": [
       "'Combination 105'"
      ]
     },
     "metadata": {},
     "output_type": "display_data"
    },
    {
     "name": "stdout",
     "output_type": "stream",
     "text": [
      "-----------------------------------------\n",
      "-----------------------------------------\n",
      "-----------------------------------------\n",
      "-----------------------------------------\n",
      "-----------------------------------------\n",
      "{'act': None, 'activation': 'sigmoid', 'activation_m': 1, 'batch_size': -1, 'buffer_size': 1000, 'depth': 3, 'dropout_p': 0.0, 'epochs': 100, 'init_method': None, 'init_y_method': 'uniform', 'learning_rate': 0.001, 'model_type': 'basic', 'optimizer': 'rmsprop', 'random_state': None, 'training_hook': [], 'training_loss': 'softmax'}\n",
      "-----------------------------------------\n"
     ]
    },
    {
     "name": "stderr",
     "output_type": "stream",
     "text": [
      "C:\\Users\\Marios\\Jupyter_Notebooks_my_papers\\Data-driven-Causal-Discovery-for-Constructing-Fuzzy-Cognitive-Maps-An-Industrial-Case-Study\\base\\classifier.py:143: UserWarning: 2018.12.16 The instruction  'loss = loss/self.batch_size' was commented out. Due to increased gradient values check the optimizer learning rate \n",
      "  warnings.warn('2018.12.16 The instruction  \\'loss = loss/self.batch_size\\' was commented out. Due to increased gradient values check the optimizer learning rate ')\n"
     ]
    },
    {
     "name": "stdout",
     "output_type": "stream",
     "text": [
      "Learning time 11.080865859985352 sec\n",
      "\n"
     ]
    },
    {
     "data": {
      "text/plain": [
       "'Combination 106'"
      ]
     },
     "metadata": {},
     "output_type": "display_data"
    },
    {
     "name": "stdout",
     "output_type": "stream",
     "text": [
      "-----------------------------------------\n",
      "-----------------------------------------\n",
      "-----------------------------------------\n",
      "-----------------------------------------\n",
      "-----------------------------------------\n",
      "{'act': None, 'activation': 'sigmoid', 'activation_m': 1, 'batch_size': -1, 'buffer_size': 1000, 'depth': 3, 'dropout_p': 0.0, 'epochs': 100, 'init_method': None, 'init_y_method': 'uniform', 'learning_rate': 0.01, 'model_type': 'basic', 'optimizer': 'rmsprop', 'random_state': None, 'training_hook': [], 'training_loss': 'softmax'}\n",
      "-----------------------------------------\n"
     ]
    },
    {
     "name": "stderr",
     "output_type": "stream",
     "text": [
      "C:\\Users\\Marios\\Jupyter_Notebooks_my_papers\\Data-driven-Causal-Discovery-for-Constructing-Fuzzy-Cognitive-Maps-An-Industrial-Case-Study\\base\\classifier.py:143: UserWarning: 2018.12.16 The instruction  'loss = loss/self.batch_size' was commented out. Due to increased gradient values check the optimizer learning rate \n",
      "  warnings.warn('2018.12.16 The instruction  \\'loss = loss/self.batch_size\\' was commented out. Due to increased gradient values check the optimizer learning rate ')\n"
     ]
    },
    {
     "name": "stdout",
     "output_type": "stream",
     "text": [
      "Learning time 11.108607292175293 sec\n",
      "\n"
     ]
    },
    {
     "data": {
      "text/plain": [
       "'Combination 107'"
      ]
     },
     "metadata": {},
     "output_type": "display_data"
    },
    {
     "name": "stdout",
     "output_type": "stream",
     "text": [
      "-----------------------------------------\n",
      "-----------------------------------------\n",
      "-----------------------------------------\n",
      "-----------------------------------------\n",
      "-----------------------------------------\n",
      "{'act': None, 'activation': 'sigmoid', 'activation_m': 1, 'batch_size': -1, 'buffer_size': 1000, 'depth': 3, 'dropout_p': 0.0, 'epochs': 100, 'init_method': None, 'init_y_method': 'uniform', 'learning_rate': 0.05, 'model_type': 'basic', 'optimizer': 'rmsprop', 'random_state': None, 'training_hook': [], 'training_loss': 'softmax'}\n",
      "-----------------------------------------\n"
     ]
    },
    {
     "name": "stderr",
     "output_type": "stream",
     "text": [
      "C:\\Users\\Marios\\Jupyter_Notebooks_my_papers\\Data-driven-Causal-Discovery-for-Constructing-Fuzzy-Cognitive-Maps-An-Industrial-Case-Study\\base\\classifier.py:143: UserWarning: 2018.12.16 The instruction  'loss = loss/self.batch_size' was commented out. Due to increased gradient values check the optimizer learning rate \n",
      "  warnings.warn('2018.12.16 The instruction  \\'loss = loss/self.batch_size\\' was commented out. Due to increased gradient values check the optimizer learning rate ')\n"
     ]
    },
    {
     "name": "stdout",
     "output_type": "stream",
     "text": [
      "Learning time 11.153935432434082 sec\n",
      "\n"
     ]
    },
    {
     "data": {
      "text/plain": [
       "'Combination 108'"
      ]
     },
     "metadata": {},
     "output_type": "display_data"
    },
    {
     "name": "stdout",
     "output_type": "stream",
     "text": [
      "-----------------------------------------\n",
      "-----------------------------------------\n",
      "-----------------------------------------\n",
      "-----------------------------------------\n",
      "-----------------------------------------\n",
      "{'act': None, 'activation': 'sigmoid', 'activation_m': 1, 'batch_size': -1, 'buffer_size': 1000, 'depth': 3, 'dropout_p': 0.0, 'epochs': 100, 'init_method': None, 'init_y_method': 'uniform', 'learning_rate': 0.1, 'model_type': 'basic', 'optimizer': 'rmsprop', 'random_state': None, 'training_hook': [], 'training_loss': 'softmax'}\n",
      "-----------------------------------------\n"
     ]
    },
    {
     "name": "stderr",
     "output_type": "stream",
     "text": [
      "C:\\Users\\Marios\\Jupyter_Notebooks_my_papers\\Data-driven-Causal-Discovery-for-Constructing-Fuzzy-Cognitive-Maps-An-Industrial-Case-Study\\base\\classifier.py:143: UserWarning: 2018.12.16 The instruction  'loss = loss/self.batch_size' was commented out. Due to increased gradient values check the optimizer learning rate \n",
      "  warnings.warn('2018.12.16 The instruction  \\'loss = loss/self.batch_size\\' was commented out. Due to increased gradient values check the optimizer learning rate ')\n"
     ]
    },
    {
     "name": "stdout",
     "output_type": "stream",
     "text": [
      "Learning time 11.085569858551025 sec\n",
      "\n"
     ]
    },
    {
     "data": {
      "text/plain": [
       "'Combination 109'"
      ]
     },
     "metadata": {},
     "output_type": "display_data"
    },
    {
     "name": "stdout",
     "output_type": "stream",
     "text": [
      "-----------------------------------------\n",
      "-----------------------------------------\n",
      "-----------------------------------------\n",
      "-----------------------------------------\n",
      "-----------------------------------------\n",
      "{'act': None, 'activation': 'sigmoid', 'activation_m': 1, 'batch_size': -1, 'buffer_size': 1000, 'depth': 3, 'dropout_p': 0.0, 'epochs': 100, 'init_method': None, 'init_y_method': 'uniform', 'learning_rate': 0.5, 'model_type': 'basic', 'optimizer': 'rmsprop', 'random_state': None, 'training_hook': [], 'training_loss': 'softmax'}\n",
      "-----------------------------------------\n"
     ]
    },
    {
     "name": "stderr",
     "output_type": "stream",
     "text": [
      "C:\\Users\\Marios\\Jupyter_Notebooks_my_papers\\Data-driven-Causal-Discovery-for-Constructing-Fuzzy-Cognitive-Maps-An-Industrial-Case-Study\\base\\classifier.py:143: UserWarning: 2018.12.16 The instruction  'loss = loss/self.batch_size' was commented out. Due to increased gradient values check the optimizer learning rate \n",
      "  warnings.warn('2018.12.16 The instruction  \\'loss = loss/self.batch_size\\' was commented out. Due to increased gradient values check the optimizer learning rate ')\n"
     ]
    },
    {
     "name": "stdout",
     "output_type": "stream",
     "text": [
      "Learning time 11.114656209945679 sec\n",
      "\n"
     ]
    },
    {
     "data": {
      "text/plain": [
       "'Combination 110'"
      ]
     },
     "metadata": {},
     "output_type": "display_data"
    },
    {
     "name": "stdout",
     "output_type": "stream",
     "text": [
      "-----------------------------------------\n",
      "-----------------------------------------\n",
      "-----------------------------------------\n",
      "-----------------------------------------\n",
      "-----------------------------------------\n",
      "{'act': None, 'activation': 'sigmoid', 'activation_m': 1, 'batch_size': -1, 'buffer_size': 1000, 'depth': 5, 'dropout_p': 0.0, 'epochs': 50, 'init_method': None, 'init_y_method': 'uniform', 'learning_rate': 0.001, 'model_type': 'basic', 'optimizer': 'rmsprop', 'random_state': None, 'training_hook': [], 'training_loss': 'softmax'}\n",
      "-----------------------------------------\n"
     ]
    },
    {
     "name": "stderr",
     "output_type": "stream",
     "text": [
      "C:\\Users\\Marios\\Jupyter_Notebooks_my_papers\\Data-driven-Causal-Discovery-for-Constructing-Fuzzy-Cognitive-Maps-An-Industrial-Case-Study\\base\\classifier.py:143: UserWarning: 2018.12.16 The instruction  'loss = loss/self.batch_size' was commented out. Due to increased gradient values check the optimizer learning rate \n",
      "  warnings.warn('2018.12.16 The instruction  \\'loss = loss/self.batch_size\\' was commented out. Due to increased gradient values check the optimizer learning rate ')\n"
     ]
    },
    {
     "name": "stdout",
     "output_type": "stream",
     "text": [
      "Learning time 6.5567686557769775 sec\n",
      "\n"
     ]
    },
    {
     "data": {
      "text/plain": [
       "'Combination 111'"
      ]
     },
     "metadata": {},
     "output_type": "display_data"
    },
    {
     "name": "stdout",
     "output_type": "stream",
     "text": [
      "-----------------------------------------\n",
      "-----------------------------------------\n",
      "-----------------------------------------\n",
      "-----------------------------------------\n",
      "-----------------------------------------\n",
      "{'act': None, 'activation': 'sigmoid', 'activation_m': 1, 'batch_size': -1, 'buffer_size': 1000, 'depth': 5, 'dropout_p': 0.0, 'epochs': 50, 'init_method': None, 'init_y_method': 'uniform', 'learning_rate': 0.01, 'model_type': 'basic', 'optimizer': 'rmsprop', 'random_state': None, 'training_hook': [], 'training_loss': 'softmax'}\n",
      "-----------------------------------------\n"
     ]
    },
    {
     "name": "stderr",
     "output_type": "stream",
     "text": [
      "C:\\Users\\Marios\\Jupyter_Notebooks_my_papers\\Data-driven-Causal-Discovery-for-Constructing-Fuzzy-Cognitive-Maps-An-Industrial-Case-Study\\base\\classifier.py:143: UserWarning: 2018.12.16 The instruction  'loss = loss/self.batch_size' was commented out. Due to increased gradient values check the optimizer learning rate \n",
      "  warnings.warn('2018.12.16 The instruction  \\'loss = loss/self.batch_size\\' was commented out. Due to increased gradient values check the optimizer learning rate ')\n"
     ]
    },
    {
     "name": "stdout",
     "output_type": "stream",
     "text": [
      "Learning time 6.548873662948608 sec\n",
      "\n"
     ]
    },
    {
     "data": {
      "text/plain": [
       "'Combination 112'"
      ]
     },
     "metadata": {},
     "output_type": "display_data"
    },
    {
     "name": "stdout",
     "output_type": "stream",
     "text": [
      "-----------------------------------------\n",
      "-----------------------------------------\n",
      "-----------------------------------------\n",
      "-----------------------------------------\n",
      "-----------------------------------------\n",
      "{'act': None, 'activation': 'sigmoid', 'activation_m': 1, 'batch_size': -1, 'buffer_size': 1000, 'depth': 5, 'dropout_p': 0.0, 'epochs': 50, 'init_method': None, 'init_y_method': 'uniform', 'learning_rate': 0.05, 'model_type': 'basic', 'optimizer': 'rmsprop', 'random_state': None, 'training_hook': [], 'training_loss': 'softmax'}\n",
      "-----------------------------------------\n"
     ]
    },
    {
     "name": "stderr",
     "output_type": "stream",
     "text": [
      "C:\\Users\\Marios\\Jupyter_Notebooks_my_papers\\Data-driven-Causal-Discovery-for-Constructing-Fuzzy-Cognitive-Maps-An-Industrial-Case-Study\\base\\classifier.py:143: UserWarning: 2018.12.16 The instruction  'loss = loss/self.batch_size' was commented out. Due to increased gradient values check the optimizer learning rate \n",
      "  warnings.warn('2018.12.16 The instruction  \\'loss = loss/self.batch_size\\' was commented out. Due to increased gradient values check the optimizer learning rate ')\n"
     ]
    },
    {
     "name": "stdout",
     "output_type": "stream",
     "text": [
      "Learning time 6.5919249057769775 sec\n",
      "\n"
     ]
    },
    {
     "data": {
      "text/plain": [
       "'Combination 113'"
      ]
     },
     "metadata": {},
     "output_type": "display_data"
    },
    {
     "name": "stdout",
     "output_type": "stream",
     "text": [
      "-----------------------------------------\n",
      "-----------------------------------------\n",
      "-----------------------------------------\n",
      "-----------------------------------------\n",
      "-----------------------------------------\n",
      "{'act': None, 'activation': 'sigmoid', 'activation_m': 1, 'batch_size': -1, 'buffer_size': 1000, 'depth': 5, 'dropout_p': 0.0, 'epochs': 50, 'init_method': None, 'init_y_method': 'uniform', 'learning_rate': 0.1, 'model_type': 'basic', 'optimizer': 'rmsprop', 'random_state': None, 'training_hook': [], 'training_loss': 'softmax'}\n",
      "-----------------------------------------\n"
     ]
    },
    {
     "name": "stderr",
     "output_type": "stream",
     "text": [
      "C:\\Users\\Marios\\Jupyter_Notebooks_my_papers\\Data-driven-Causal-Discovery-for-Constructing-Fuzzy-Cognitive-Maps-An-Industrial-Case-Study\\base\\classifier.py:143: UserWarning: 2018.12.16 The instruction  'loss = loss/self.batch_size' was commented out. Due to increased gradient values check the optimizer learning rate \n",
      "  warnings.warn('2018.12.16 The instruction  \\'loss = loss/self.batch_size\\' was commented out. Due to increased gradient values check the optimizer learning rate ')\n"
     ]
    },
    {
     "name": "stdout",
     "output_type": "stream",
     "text": [
      "Learning time 6.582923889160156 sec\n",
      "\n"
     ]
    },
    {
     "data": {
      "text/plain": [
       "'Combination 114'"
      ]
     },
     "metadata": {},
     "output_type": "display_data"
    },
    {
     "name": "stdout",
     "output_type": "stream",
     "text": [
      "-----------------------------------------\n",
      "-----------------------------------------\n",
      "-----------------------------------------\n",
      "-----------------------------------------\n",
      "-----------------------------------------\n",
      "{'act': None, 'activation': 'sigmoid', 'activation_m': 1, 'batch_size': -1, 'buffer_size': 1000, 'depth': 5, 'dropout_p': 0.0, 'epochs': 50, 'init_method': None, 'init_y_method': 'uniform', 'learning_rate': 0.5, 'model_type': 'basic', 'optimizer': 'rmsprop', 'random_state': None, 'training_hook': [], 'training_loss': 'softmax'}\n",
      "-----------------------------------------\n"
     ]
    },
    {
     "name": "stderr",
     "output_type": "stream",
     "text": [
      "C:\\Users\\Marios\\Jupyter_Notebooks_my_papers\\Data-driven-Causal-Discovery-for-Constructing-Fuzzy-Cognitive-Maps-An-Industrial-Case-Study\\base\\classifier.py:143: UserWarning: 2018.12.16 The instruction  'loss = loss/self.batch_size' was commented out. Due to increased gradient values check the optimizer learning rate \n",
      "  warnings.warn('2018.12.16 The instruction  \\'loss = loss/self.batch_size\\' was commented out. Due to increased gradient values check the optimizer learning rate ')\n"
     ]
    },
    {
     "name": "stdout",
     "output_type": "stream",
     "text": [
      "Learning time 6.676931142807007 sec\n",
      "\n"
     ]
    },
    {
     "data": {
      "text/plain": [
       "'Combination 115'"
      ]
     },
     "metadata": {},
     "output_type": "display_data"
    },
    {
     "name": "stdout",
     "output_type": "stream",
     "text": [
      "-----------------------------------------\n",
      "-----------------------------------------\n",
      "-----------------------------------------\n",
      "-----------------------------------------\n",
      "-----------------------------------------\n",
      "{'act': None, 'activation': 'sigmoid', 'activation_m': 1, 'batch_size': -1, 'buffer_size': 1000, 'depth': 5, 'dropout_p': 0.0, 'epochs': 100, 'init_method': None, 'init_y_method': 'uniform', 'learning_rate': 0.001, 'model_type': 'basic', 'optimizer': 'rmsprop', 'random_state': None, 'training_hook': [], 'training_loss': 'softmax'}\n",
      "-----------------------------------------\n"
     ]
    },
    {
     "name": "stderr",
     "output_type": "stream",
     "text": [
      "C:\\Users\\Marios\\Jupyter_Notebooks_my_papers\\Data-driven-Causal-Discovery-for-Constructing-Fuzzy-Cognitive-Maps-An-Industrial-Case-Study\\base\\classifier.py:143: UserWarning: 2018.12.16 The instruction  'loss = loss/self.batch_size' was commented out. Due to increased gradient values check the optimizer learning rate \n",
      "  warnings.warn('2018.12.16 The instruction  \\'loss = loss/self.batch_size\\' was commented out. Due to increased gradient values check the optimizer learning rate ')\n"
     ]
    },
    {
     "name": "stdout",
     "output_type": "stream",
     "text": [
      "Learning time 13.147722959518433 sec\n",
      "\n"
     ]
    },
    {
     "data": {
      "text/plain": [
       "'Combination 116'"
      ]
     },
     "metadata": {},
     "output_type": "display_data"
    },
    {
     "name": "stdout",
     "output_type": "stream",
     "text": [
      "-----------------------------------------\n",
      "-----------------------------------------\n",
      "-----------------------------------------\n",
      "-----------------------------------------\n",
      "-----------------------------------------\n",
      "{'act': None, 'activation': 'sigmoid', 'activation_m': 1, 'batch_size': -1, 'buffer_size': 1000, 'depth': 5, 'dropout_p': 0.0, 'epochs': 100, 'init_method': None, 'init_y_method': 'uniform', 'learning_rate': 0.01, 'model_type': 'basic', 'optimizer': 'rmsprop', 'random_state': None, 'training_hook': [], 'training_loss': 'softmax'}\n",
      "-----------------------------------------\n"
     ]
    },
    {
     "name": "stderr",
     "output_type": "stream",
     "text": [
      "C:\\Users\\Marios\\Jupyter_Notebooks_my_papers\\Data-driven-Causal-Discovery-for-Constructing-Fuzzy-Cognitive-Maps-An-Industrial-Case-Study\\base\\classifier.py:143: UserWarning: 2018.12.16 The instruction  'loss = loss/self.batch_size' was commented out. Due to increased gradient values check the optimizer learning rate \n",
      "  warnings.warn('2018.12.16 The instruction  \\'loss = loss/self.batch_size\\' was commented out. Due to increased gradient values check the optimizer learning rate ')\n"
     ]
    },
    {
     "name": "stdout",
     "output_type": "stream",
     "text": [
      "Learning time 13.144734621047974 sec\n",
      "\n"
     ]
    },
    {
     "data": {
      "text/plain": [
       "'Combination 117'"
      ]
     },
     "metadata": {},
     "output_type": "display_data"
    },
    {
     "name": "stdout",
     "output_type": "stream",
     "text": [
      "-----------------------------------------\n",
      "-----------------------------------------\n",
      "-----------------------------------------\n",
      "-----------------------------------------\n",
      "-----------------------------------------\n",
      "{'act': None, 'activation': 'sigmoid', 'activation_m': 1, 'batch_size': -1, 'buffer_size': 1000, 'depth': 5, 'dropout_p': 0.0, 'epochs': 100, 'init_method': None, 'init_y_method': 'uniform', 'learning_rate': 0.05, 'model_type': 'basic', 'optimizer': 'rmsprop', 'random_state': None, 'training_hook': [], 'training_loss': 'softmax'}\n",
      "-----------------------------------------\n"
     ]
    },
    {
     "name": "stderr",
     "output_type": "stream",
     "text": [
      "C:\\Users\\Marios\\Jupyter_Notebooks_my_papers\\Data-driven-Causal-Discovery-for-Constructing-Fuzzy-Cognitive-Maps-An-Industrial-Case-Study\\base\\classifier.py:143: UserWarning: 2018.12.16 The instruction  'loss = loss/self.batch_size' was commented out. Due to increased gradient values check the optimizer learning rate \n",
      "  warnings.warn('2018.12.16 The instruction  \\'loss = loss/self.batch_size\\' was commented out. Due to increased gradient values check the optimizer learning rate ')\n"
     ]
    },
    {
     "name": "stdout",
     "output_type": "stream",
     "text": [
      "Learning time 13.129117965698242 sec\n",
      "\n"
     ]
    },
    {
     "data": {
      "text/plain": [
       "'Combination 118'"
      ]
     },
     "metadata": {},
     "output_type": "display_data"
    },
    {
     "name": "stdout",
     "output_type": "stream",
     "text": [
      "-----------------------------------------\n",
      "-----------------------------------------\n",
      "-----------------------------------------\n",
      "-----------------------------------------\n",
      "-----------------------------------------\n",
      "{'act': None, 'activation': 'sigmoid', 'activation_m': 1, 'batch_size': -1, 'buffer_size': 1000, 'depth': 5, 'dropout_p': 0.0, 'epochs': 100, 'init_method': None, 'init_y_method': 'uniform', 'learning_rate': 0.1, 'model_type': 'basic', 'optimizer': 'rmsprop', 'random_state': None, 'training_hook': [], 'training_loss': 'softmax'}\n",
      "-----------------------------------------\n"
     ]
    },
    {
     "name": "stderr",
     "output_type": "stream",
     "text": [
      "C:\\Users\\Marios\\Jupyter_Notebooks_my_papers\\Data-driven-Causal-Discovery-for-Constructing-Fuzzy-Cognitive-Maps-An-Industrial-Case-Study\\base\\classifier.py:143: UserWarning: 2018.12.16 The instruction  'loss = loss/self.batch_size' was commented out. Due to increased gradient values check the optimizer learning rate \n",
      "  warnings.warn('2018.12.16 The instruction  \\'loss = loss/self.batch_size\\' was commented out. Due to increased gradient values check the optimizer learning rate ')\n"
     ]
    },
    {
     "name": "stdout",
     "output_type": "stream",
     "text": [
      "Learning time 13.123552083969116 sec\n",
      "\n"
     ]
    },
    {
     "data": {
      "text/plain": [
       "'Combination 119'"
      ]
     },
     "metadata": {},
     "output_type": "display_data"
    },
    {
     "name": "stdout",
     "output_type": "stream",
     "text": [
      "-----------------------------------------\n",
      "-----------------------------------------\n",
      "-----------------------------------------\n",
      "-----------------------------------------\n",
      "-----------------------------------------\n",
      "{'act': None, 'activation': 'sigmoid', 'activation_m': 1, 'batch_size': -1, 'buffer_size': 1000, 'depth': 5, 'dropout_p': 0.0, 'epochs': 100, 'init_method': None, 'init_y_method': 'uniform', 'learning_rate': 0.5, 'model_type': 'basic', 'optimizer': 'rmsprop', 'random_state': None, 'training_hook': [], 'training_loss': 'softmax'}\n",
      "-----------------------------------------\n"
     ]
    },
    {
     "name": "stderr",
     "output_type": "stream",
     "text": [
      "C:\\Users\\Marios\\Jupyter_Notebooks_my_papers\\Data-driven-Causal-Discovery-for-Constructing-Fuzzy-Cognitive-Maps-An-Industrial-Case-Study\\base\\classifier.py:143: UserWarning: 2018.12.16 The instruction  'loss = loss/self.batch_size' was commented out. Due to increased gradient values check the optimizer learning rate \n",
      "  warnings.warn('2018.12.16 The instruction  \\'loss = loss/self.batch_size\\' was commented out. Due to increased gradient values check the optimizer learning rate ')\n"
     ]
    },
    {
     "name": "stdout",
     "output_type": "stream",
     "text": [
      "Learning time 13.151398658752441 sec\n",
      "\n"
     ]
    },
    {
     "data": {
      "text/plain": [
       "{'training_loss': 'softmax',\n",
       " 'random_state': None,\n",
       " 'optimizer': 'rmsprop',\n",
       " 'model_type': 'basic',\n",
       " 'learning_rate': 0.05,\n",
       " 'init_y_method': 'uniform',\n",
       " 'init_method': None,\n",
       " 'epochs': 100,\n",
       " 'dropout_p': 0.0,\n",
       " 'depth': 2,\n",
       " 'buffer_size': 1000,\n",
       " 'batch_size': 16,\n",
       " 'activation_m': 1,\n",
       " 'activation': 'sigmoid',\n",
       " 'act': None}"
      ]
     },
     "metadata": {},
     "output_type": "display_data"
    }
   ],
   "source": [
    "from sklearn.base import BaseEstimator, ClassifierMixin\n",
    "from base.classifier import BaseFcmClassifier\n",
    "from base.losses import MSE, LogLoss, SoftmaxCrossEntropy\n",
    "from base.model import Model, AdditiveModel, Sigmoid, Tanh, Ident, Relu\n",
    "from base.mc_classifier import FcmMulticlassClassifier\n",
    "import tensorflow as tf\n",
    "import sklearn.preprocessing\n",
    "import numpy as np\n",
    "\n",
    "\n",
    "bs = 2**np.arange(4,13,4)\n",
    "bs = np.append(bs, -1)\n",
    "\n",
    "#we are training our model with the batch size ranging from 8 to 2048 with each batch size twice the size of the \n",
    "#previous batch size.\n",
    "fcmmc_param_grid = {'act': [None],\n",
    "               'activation': ['sigmoid'],\n",
    "               'activation_m': [1],\n",
    "               'depth': [2, 3, 5],\n",
    "               'epochs': [50, 100],\n",
    "               'batch_size': bs, \n",
    "               'buffer_size': [1000],\n",
    "               'training_loss': ['softmax'],\n",
    "               'optimizer': ['rmsprop'],\n",
    "               'learning_rate': [0.001, 0.01, 0.05, 0.1, 0.5],\n",
    "               'model_type': ['basic'],\n",
    "               'init_method': [None],\n",
    "               'init_y_method': ['uniform'],\n",
    "               'dropout_p': [0.0],\n",
    "               'random_state': [None]}\n",
    "\n",
    "grid_fcmmc = ParameterGrid(fcmmc_param_grid)\n",
    "\n",
    "display(str(len(grid_fcmmc))+\" Combinations\")\n",
    "\n",
    "X_fcmmc = X_train.to_numpy()\n",
    "y_fcmmc = y_train.to_numpy()\n",
    "\n",
    "acc_list_fcmmc = []\n",
    "auc_list_fcmmc = []\n",
    "kappa_list_fcmmc = []\n",
    "\n",
    "twf_list_fcmmc = []\n",
    "hdf_list_fcmmc = []\n",
    "pwf_list_fcmmc = []\n",
    "osf_list_fcmmc = []\n",
    "av_succ_fcmmc = []\n",
    "\n",
    "comb_list_fcmmc = []\n",
    "\n",
    "for comb in range(0,len(grid_fcmmc)):\n",
    "    \n",
    "    #Build the FCMMC Classifier\n",
    "    fcmmc = FcmMulticlassClassifier()\n",
    "    display(\"Combination \" + str(comb))\n",
    "    fcmmc.__init__(**grid_fcmmc[comb])\n",
    "    fcmmc.fit(X_fcmmc,y_fcmmc)\n",
    "    \n",
    "    #Predictions for the test set\n",
    "    y_test_pred_fcmmc = fcmmc.predict(X_test)\n",
    "    \n",
    "    #Evaluation metrics\n",
    "    accuracy_fcmmc = accuracy_score(y_test, y_test_pred_fcmmc)\n",
    "    auc_fcmmc = metrics.roc_auc_score(y_test, y_test_pred_fcmmc)\n",
    "    cohen_score_fcmmc = cohen_kappa_score(y_test, y_test_pred_fcmmc)\n",
    "\n",
    "    \n",
    "    #FCMMC trajectory\n",
    "    #For an output variable the constant 0.5 can be interpreted as undecided value, in between 0 and 1.\n",
    "    init_y_test = np.ones((X_test.shape[0], fcmmc.base_fcm.model.dim - X_test.shape[1])) * .5\n",
    "    trj_fcmmc_test = fcmmc.base_fcm.model.trajectory(X_test, init_y_test)\n",
    "    \n",
    "    \n",
    "    local_feature_importance_fcmmc = pd.DataFrame(trj_fcmmc_test[fcmmc.depth],  columns=['Type', 'AirtemperatureK', 'ProcesstemperatureK', 'Rotationalspeedrpm', 'TorqueNm', 'Toolwearmin', '0', '1'])\n",
    "    local_feature_importance_fcmmc.drop('0', inplace=True, axis=1)\n",
    "    local_feature_importance_fcmmc.drop('1', inplace=True, axis=1)\n",
    "    \n",
    "    #Find the observations' indexes that the model correctly predicted as faulty\n",
    "    true_positive_indexes = []\n",
    "    i=1;\n",
    "\n",
    "    #According to the chosen model\n",
    "    #For example, y_test_pred_lgbmc for LGBM Classifier\n",
    "    for k in range(0,len(y_test)):\n",
    "        if (y_test.loc[k,'Machinefailure']==int(y_test_pred_fcmmc[k])) and (y_test.loc[k,'Machinefailure']==1):\n",
    "            true_positive_indexes.append(k)\n",
    "            i=i+1;\n",
    "\n",
    "    #Find the observations that the selected model correctly predicted as faulty based on the previous indexes\n",
    "    true_positive_observations = pd.DataFrame()\n",
    "    for k in range(0,len(true_positive_indexes)):\n",
    "        new_row = pd.concat([original_X_test.loc[true_positive_indexes[k],:],y_test.loc[true_positive_indexes[k],:]], axis=0)\n",
    "        true_positive_observations = true_positive_observations.append(new_row, ignore_index=True)\n",
    "    \n",
    "    if not true_positive_observations.empty:\n",
    "        \n",
    "        #Append in lists\n",
    "        acc_list_fcmmc.append(accuracy_fcmmc)\n",
    "        auc_list_fcmmc.append(auc_fcmmc)\n",
    "        kappa_list_fcmmc.append(cohen_score_fcmmc)\n",
    "        \n",
    "    \n",
    "        true_positive_observations_with_failure_modes = pd.DataFrame()\n",
    "        true_positive_observations_with_failure_modes = ai4i2020_encoded_balanced.join(true_positive_observations.set_index(['Type', 'AirtemperatureK', 'ProcesstemperatureK', 'Rotationalspeedrpm', 'TorqueNm', 'Toolwearmin', 'Machinefailure']), ['Type', 'AirtemperatureK', 'ProcesstemperatureK', 'Rotationalspeedrpm', 'TorqueNm', 'Toolwearmin', 'Machinefailure'], how='right')       \n",
    "        final_true_positive_observations_with_failure_modes = true_positive_observations_with_failure_modes.reset_index(drop=True)\n",
    "        \n",
    "        #display(\"Number of true positive predictions: \" + str(len(final_true_positive_observations_with_failure_modes)))\n",
    "\n",
    "        number_of_TWF_failures_in_true_positive_predictions = 0\n",
    "        number_of_HDF_failures_in_true_positive_predictions = 0\n",
    "        number_of_PWF_failures_in_true_positive_predictions = 0\n",
    "        number_of_OSF_failures_in_true_positive_predictions = 0\n",
    "        number_of_random_failures_in_true_positive_predictions=0\n",
    "\n",
    "        for k in range(0,len(final_true_positive_observations_with_failure_modes)):\n",
    "            if final_true_positive_observations_with_failure_modes.loc[k,\"TWF\"]==1: #if the failure mode is TWF\n",
    "                number_of_TWF_failures_in_true_positive_predictions = number_of_TWF_failures_in_true_positive_predictions + 1;\n",
    "            if final_true_positive_observations_with_failure_modes.loc[k,\"HDF\"]==1: #if the failure mode is HDF\n",
    "                number_of_HDF_failures_in_true_positive_predictions = number_of_HDF_failures_in_true_positive_predictions + 1;\n",
    "            if final_true_positive_observations_with_failure_modes.loc[k,\"PWF\"]==1: #if the failure mode is PWF\n",
    "                number_of_PWF_failures_in_true_positive_predictions = number_of_PWF_failures_in_true_positive_predictions + 1;\n",
    "            if final_true_positive_observations_with_failure_modes.loc[k,\"OSF\"]==1: #if the failure mode is OSF\n",
    "                number_of_OSF_failures_in_true_positive_predictions = number_of_OSF_failures_in_true_positive_predictions + 1;\n",
    "            if (final_true_positive_observations_with_failure_modes.loc[k,\"Machinefailure\"]==1) and (final_true_positive_observations_with_failure_modes.loc[k,\"TWF\"]==0) and (final_true_positive_observations_with_failure_modes.loc[k,\"HDF\"]==0) and (final_true_positive_observations_with_failure_modes.loc[k,\"PWF\"]==0) and (final_true_positive_observations_with_failure_modes.loc[k,\"OSF\"]==0) and (final_true_positive_observations_with_failure_modes.loc[k,\"RNF\"]==0):\n",
    "                number_of_random_failures_in_true_positive_predictions = number_of_random_failures_in_true_positive_predictions+1;\n",
    "    \n",
    "        #Calculate the correct explanations\n",
    "        correct_explanations = 0\n",
    "        correct_explanations_TWF = 0\n",
    "        correct_explanations_HDF = 0\n",
    "        correct_explanations_PWF = 0\n",
    "        correct_explanations_OSF = 0\n",
    "\n",
    "        for k in range(0,len(true_positive_observations)):\n",
    "            #if the failure mode is TWF\n",
    "            if final_true_positive_observations_with_failure_modes.loc[k,\"TWF\"]==1:\n",
    "                #if tool wear is the most important feature\n",
    "                if local_feature_importance_fcmmc.loc[true_positive_indexes[k],\"Toolwearmin\"] == max(local_feature_importance_fcmmc.loc[true_positive_indexes[k],:]):\n",
    "                    correct_explanations = correct_explanations+1;\n",
    "                    correct_explanations_TWF = correct_explanations_TWF + 1;\n",
    "                \n",
    "            #if the failure mode is HDF\n",
    "            if final_true_positive_observations_with_failure_modes.loc[k,\"HDF\"]==1: \n",
    "                maximum1 = max(local_feature_importance_fcmmc.loc[true_positive_indexes[k],:]) \n",
    "                maximum2 = max(local_feature_importance_fcmmc.loc[true_positive_indexes[k],:], key = lambda x: min(local_feature_importance_fcmmc.loc[true_positive_indexes[k],:])-1 if (x == maximum1) else x)\n",
    "                if (local_feature_importance_fcmmc.loc[true_positive_indexes[k],\"AirtemperatureK\"] == maximum1) or (local_feature_importance_fcmmc.loc[true_positive_indexes[k],\"AirtemperatureK\"] == maximum2) or (local_feature_importance_fcmmc.loc[true_positive_indexes[k],\"ProcesstemperatureK\"] == maximum1) or (local_feature_importance_fcmmc.loc[true_positive_indexes[k],\"ProcesstemperatureK\"] == maximum2):\n",
    "                    correct_explanations = correct_explanations+1;\n",
    "                    correct_explanations_HDF = correct_explanations_HDF + 1;\n",
    "            \n",
    "            \n",
    "            #if the failure mode is PWF\n",
    "            if final_true_positive_observations_with_failure_modes.loc[k,\"PWF\"]==1: \n",
    "                maximum1 = max(local_feature_importance_fcmmc.loc[true_positive_indexes[k],:]) \n",
    "                maximum2 = max(local_feature_importance_fcmmc.loc[true_positive_indexes[k],:], key = lambda x: min(local_feature_importance_fcmmc.loc[true_positive_indexes[k],:])-1 if (x == maximum1) else x)\n",
    "                if (local_feature_importance_fcmmc.loc[true_positive_indexes[k],\"Rotationalspeedrpm\"] == maximum1) or (local_feature_importance_fcmmc.loc[true_positive_indexes[k],\"Rotationalspeedrpm\"] == maximum2) or (local_feature_importance_fcmmc.loc[true_positive_indexes[k],\"TorqueNm\"] == maximum1) or (local_feature_importance_fcmmc.loc[true_positive_indexes[k],\"TorqueNm\"] == maximum2):\n",
    "                    correct_explanations = correct_explanations+1;\n",
    "                    correct_explanations_PWF = correct_explanations_PWF + 1;\n",
    "            \n",
    "            #if the failure mode is OSF        \n",
    "            if final_true_positive_observations_with_failure_modes.loc[k,\"OSF\"]==1:\n",
    "                maximum1 = max(local_feature_importance_fcmmc.loc[true_positive_indexes[k],:]) \n",
    "                maximum2 = max(local_feature_importance_fcmmc.loc[true_positive_indexes[k],:], key = lambda x: min(local_feature_importance_fcmmc.loc[true_positive_indexes[k],:])-1 if (x == maximum1) else x)\n",
    "                if (local_feature_importance_fcmmc.loc[true_positive_indexes[k],\"Toolwearmin\"] == maximum1) or (local_feature_importance_fcmmc.loc[true_positive_indexes[k],\"Toolwearmin\"] == maximum2) or (local_feature_importance_fcmmc.loc[true_positive_indexes[k],\"TorqueNm\"] == maximum1) or (local_feature_importance_fcmmc.loc[true_positive_indexes[k],\"TorqueNm\"] == maximum2):\n",
    "                    correct_explanations = correct_explanations+1;\n",
    "                    correct_explanations_OSF = correct_explanations_OSF + 1;\n",
    "        \n",
    "        denominator = 0\n",
    "        \n",
    "        if number_of_TWF_failures_in_true_positive_predictions != 0:\n",
    "            twf_list_fcmmc.append(correct_explanations_TWF/number_of_TWF_failures_in_true_positive_predictions)\n",
    "            twf_success = correct_explanations_TWF/number_of_TWF_failures_in_true_positive_predictions\n",
    "            denominator = denominator + 1\n",
    "        else:\n",
    "            twf_list_fcmmc.append(correct_explanations_TWF)\n",
    "            twf_success = 0\n",
    "        if number_of_HDF_failures_in_true_positive_predictions != 0:\n",
    "            hdf_list_fcmmc.append(correct_explanations_HDF/number_of_HDF_failures_in_true_positive_predictions)\n",
    "            hdf_success = correct_explanations_HDF/number_of_HDF_failures_in_true_positive_predictions\n",
    "            denominator = denominator + 1\n",
    "        else:\n",
    "            hdf_list_fcmmc.append(correct_explanations_HDF)\n",
    "            hdf_success = 0\n",
    "        if number_of_PWF_failures_in_true_positive_predictions != 0:\n",
    "            pwf_list_fcmmc.append(correct_explanations_PWF/number_of_PWF_failures_in_true_positive_predictions)\n",
    "            pwf_success = correct_explanations_PWF/number_of_PWF_failures_in_true_positive_predictions\n",
    "            denominator = denominator + 1\n",
    "        else:\n",
    "            pwf_list_fcmmc.append(correct_explanations_PWF)\n",
    "            pwf_success = 0\n",
    "        if number_of_OSF_failures_in_true_positive_predictions != 0:\n",
    "            osf_list_fcmmc.append(correct_explanations_OSF/number_of_OSF_failures_in_true_positive_predictions)\n",
    "            osf_success = correct_explanations_OSF/number_of_OSF_failures_in_true_positive_predictions\n",
    "            denominator = denominator + 1\n",
    "        else:\n",
    "            osf_list_fcmmc.append(correct_explanations_OSF)\n",
    "            osf_success = 0\n",
    "        \n",
    "        if denominator !=0:\n",
    "            average_success = (twf_success+hdf_success+pwf_success+osf_success)/denominator\n",
    "        else:\n",
    "            average_success = 0\n",
    "    \n",
    "        av_succ_fcmmc.append(average_success)\n",
    "        comb_list_fcmmc.append(comb)\n",
    "    \n",
    "    \n",
    "    \n",
    "result_df_fcmmc = pd.DataFrame({'Accuracy': acc_list_fcmmc, 'AUC': auc_list_fcmmc, 'Kappa':kappa_list_fcmmc, 'TWF':twf_list_fcmmc, 'HDF':hdf_list_fcmmc, 'PWF':pwf_list_fcmmc, 'OSF':osf_list_fcmmc, 'Average Success':av_succ_fcmmc, 'Combinations':comb_list_fcmmc})\n",
    "final_df_fcmmc = result_df_fcmmc.sort_values(by=['AUC'], ascending=False)\n",
    "final_df_fcmmc = final_df_fcmmc.reset_index(drop=True)\n",
    "best_estimator_params_fcmmc = grid_fcmmc[final_df_fcmmc.loc[0,\"Combinations\"]]\n",
    "display(best_estimator_params_fcmmc)"
   ]
  },
  {
   "cell_type": "code",
   "execution_count": 9,
   "id": "22286854",
   "metadata": {},
   "outputs": [
    {
     "data": {
      "text/html": [
       "<div>\n",
       "<style scoped>\n",
       "    .dataframe tbody tr th:only-of-type {\n",
       "        vertical-align: middle;\n",
       "    }\n",
       "\n",
       "    .dataframe tbody tr th {\n",
       "        vertical-align: top;\n",
       "    }\n",
       "\n",
       "    .dataframe thead th {\n",
       "        text-align: right;\n",
       "    }\n",
       "</style>\n",
       "<table border=\"1\" class=\"dataframe\">\n",
       "  <thead>\n",
       "    <tr style=\"text-align: right;\">\n",
       "      <th></th>\n",
       "      <th>Accuracy</th>\n",
       "      <th>AUC</th>\n",
       "      <th>Kappa</th>\n",
       "      <th>TWF</th>\n",
       "      <th>HDF</th>\n",
       "      <th>PWF</th>\n",
       "      <th>OSF</th>\n",
       "      <th>Average Success</th>\n",
       "      <th>Combinations</th>\n",
       "    </tr>\n",
       "  </thead>\n",
       "  <tbody>\n",
       "    <tr>\n",
       "      <th>0</th>\n",
       "      <td>0.967447</td>\n",
       "      <td>0.966715</td>\n",
       "      <td>0.934668</td>\n",
       "      <td>0.0</td>\n",
       "      <td>0.000000</td>\n",
       "      <td>1.000000</td>\n",
       "      <td>0.757937</td>\n",
       "      <td>0.439484</td>\n",
       "      <td>7</td>\n",
       "    </tr>\n",
       "    <tr>\n",
       "      <th>1</th>\n",
       "      <td>0.962307</td>\n",
       "      <td>0.961114</td>\n",
       "      <td>0.924284</td>\n",
       "      <td>0.0</td>\n",
       "      <td>0.000000</td>\n",
       "      <td>0.985185</td>\n",
       "      <td>0.714286</td>\n",
       "      <td>0.424868</td>\n",
       "      <td>3</td>\n",
       "    </tr>\n",
       "    <tr>\n",
       "      <th>2</th>\n",
       "      <td>0.957738</td>\n",
       "      <td>0.957754</td>\n",
       "      <td>0.915314</td>\n",
       "      <td>0.0</td>\n",
       "      <td>0.780392</td>\n",
       "      <td>0.726562</td>\n",
       "      <td>0.674603</td>\n",
       "      <td>0.545389</td>\n",
       "      <td>34</td>\n",
       "    </tr>\n",
       "    <tr>\n",
       "      <th>3</th>\n",
       "      <td>0.957167</td>\n",
       "      <td>0.956519</td>\n",
       "      <td>0.914055</td>\n",
       "      <td>0.0</td>\n",
       "      <td>1.000000</td>\n",
       "      <td>0.179104</td>\n",
       "      <td>0.764000</td>\n",
       "      <td>0.485776</td>\n",
       "      <td>17</td>\n",
       "    </tr>\n",
       "    <tr>\n",
       "      <th>4</th>\n",
       "      <td>0.954883</td>\n",
       "      <td>0.953489</td>\n",
       "      <td>0.909337</td>\n",
       "      <td>0.0</td>\n",
       "      <td>0.822134</td>\n",
       "      <td>0.651852</td>\n",
       "      <td>0.773810</td>\n",
       "      <td>0.561949</td>\n",
       "      <td>18</td>\n",
       "    </tr>\n",
       "    <tr>\n",
       "      <th>...</th>\n",
       "      <td>...</td>\n",
       "      <td>...</td>\n",
       "      <td>...</td>\n",
       "      <td>...</td>\n",
       "      <td>...</td>\n",
       "      <td>...</td>\n",
       "      <td>...</td>\n",
       "      <td>...</td>\n",
       "      <td>...</td>\n",
       "    </tr>\n",
       "    <tr>\n",
       "      <th>107</th>\n",
       "      <td>0.523130</td>\n",
       "      <td>0.500000</td>\n",
       "      <td>0.000000</td>\n",
       "      <td>1.0</td>\n",
       "      <td>1.000000</td>\n",
       "      <td>0.000000</td>\n",
       "      <td>1.000000</td>\n",
       "      <td>0.750000</td>\n",
       "      <td>85</td>\n",
       "    </tr>\n",
       "    <tr>\n",
       "      <th>108</th>\n",
       "      <td>0.523130</td>\n",
       "      <td>0.500000</td>\n",
       "      <td>0.000000</td>\n",
       "      <td>0.0</td>\n",
       "      <td>1.000000</td>\n",
       "      <td>0.000000</td>\n",
       "      <td>0.000000</td>\n",
       "      <td>0.250000</td>\n",
       "      <td>70</td>\n",
       "    </tr>\n",
       "    <tr>\n",
       "      <th>109</th>\n",
       "      <td>0.523130</td>\n",
       "      <td>0.500000</td>\n",
       "      <td>0.000000</td>\n",
       "      <td>0.0</td>\n",
       "      <td>0.000000</td>\n",
       "      <td>1.000000</td>\n",
       "      <td>1.000000</td>\n",
       "      <td>0.500000</td>\n",
       "      <td>60</td>\n",
       "    </tr>\n",
       "    <tr>\n",
       "      <th>110</th>\n",
       "      <td>0.523130</td>\n",
       "      <td>0.500000</td>\n",
       "      <td>0.000000</td>\n",
       "      <td>0.0</td>\n",
       "      <td>1.000000</td>\n",
       "      <td>1.000000</td>\n",
       "      <td>0.000000</td>\n",
       "      <td>0.500000</td>\n",
       "      <td>119</td>\n",
       "    </tr>\n",
       "    <tr>\n",
       "      <th>111</th>\n",
       "      <td>0.404340</td>\n",
       "      <td>0.422893</td>\n",
       "      <td>-0.148331</td>\n",
       "      <td>1.0</td>\n",
       "      <td>0.000000</td>\n",
       "      <td>0.000000</td>\n",
       "      <td>0.000000</td>\n",
       "      <td>0.500000</td>\n",
       "      <td>91</td>\n",
       "    </tr>\n",
       "  </tbody>\n",
       "</table>\n",
       "<p>112 rows × 9 columns</p>\n",
       "</div>"
      ],
      "text/plain": [
       "     Accuracy       AUC     Kappa  TWF       HDF       PWF       OSF  \\\n",
       "0    0.967447  0.966715  0.934668  0.0  0.000000  1.000000  0.757937   \n",
       "1    0.962307  0.961114  0.924284  0.0  0.000000  0.985185  0.714286   \n",
       "2    0.957738  0.957754  0.915314  0.0  0.780392  0.726562  0.674603   \n",
       "3    0.957167  0.956519  0.914055  0.0  1.000000  0.179104  0.764000   \n",
       "4    0.954883  0.953489  0.909337  0.0  0.822134  0.651852  0.773810   \n",
       "..        ...       ...       ...  ...       ...       ...       ...   \n",
       "107  0.523130  0.500000  0.000000  1.0  1.000000  0.000000  1.000000   \n",
       "108  0.523130  0.500000  0.000000  0.0  1.000000  0.000000  0.000000   \n",
       "109  0.523130  0.500000  0.000000  0.0  0.000000  1.000000  1.000000   \n",
       "110  0.523130  0.500000  0.000000  0.0  1.000000  1.000000  0.000000   \n",
       "111  0.404340  0.422893 -0.148331  1.0  0.000000  0.000000  0.000000   \n",
       "\n",
       "     Average Success  Combinations  \n",
       "0           0.439484             7  \n",
       "1           0.424868             3  \n",
       "2           0.545389            34  \n",
       "3           0.485776            17  \n",
       "4           0.561949            18  \n",
       "..               ...           ...  \n",
       "107         0.750000            85  \n",
       "108         0.250000            70  \n",
       "109         0.500000            60  \n",
       "110         0.500000           119  \n",
       "111         0.500000            91  \n",
       "\n",
       "[112 rows x 9 columns]"
      ]
     },
     "execution_count": 9,
     "metadata": {},
     "output_type": "execute_result"
    }
   ],
   "source": [
    "final_df_fcmmc"
   ]
  },
  {
   "cell_type": "markdown",
   "id": "256ffdfe",
   "metadata": {},
   "source": [
    "## Calculate the evaluation metrics for all folds of the best FCMB estimator"
   ]
  },
  {
   "cell_type": "code",
   "execution_count": 10,
   "id": "7557b321",
   "metadata": {},
   "outputs": [
    {
     "name": "stdout",
     "output_type": "stream",
     "text": [
      "-----------------------------------------\n",
      "-----------------------------------------\n",
      "-----------------------------------------\n",
      "-----------------------------------------\n",
      "-----------------------------------------\n",
      "{'act': None, 'activation': 'sigmoid', 'activation_m': 1, 'batch_size': 16, 'buffer_size': 1000, 'depth': 5, 'dropout_p': 0.0, 'epochs': 100, 'init_method': None, 'init_y_method': 'uniform', 'learning_rate': 0.01, 'model_type': 'basic', 'optimizer': 'rmsprop', 'random_state': None, 'training_hook': [], 'training_loss': 'logloss'}\n",
      "-----------------------------------------\n"
     ]
    },
    {
     "name": "stderr",
     "output_type": "stream",
     "text": [
      "C:\\Users\\Marios\\Jupyter_Notebooks_my_papers\\Data-driven-Causal-Discovery-for-Constructing-Fuzzy-Cognitive-Maps-An-Industrial-Case-Study\\base\\classifier.py:143: UserWarning: 2018.12.16 The instruction  'loss = loss/self.batch_size' was commented out. Due to increased gradient values check the optimizer learning rate \n",
      "  warnings.warn('2018.12.16 The instruction  \\'loss = loss/self.batch_size\\' was commented out. Due to increased gradient values check the optimizer learning rate ')\n"
     ]
    },
    {
     "name": "stdout",
     "output_type": "stream",
     "text": [
      "Learning time 1799.400580406189 sec\n",
      "\n",
      "-----------------------------------------\n",
      "-----------------------------------------\n",
      "-----------------------------------------\n",
      "-----------------------------------------\n",
      "-----------------------------------------\n",
      "{'act': None, 'activation': 'sigmoid', 'activation_m': 1, 'batch_size': 16, 'buffer_size': 1000, 'depth': 5, 'dropout_p': 0.0, 'epochs': 100, 'init_method': None, 'init_y_method': 'uniform', 'learning_rate': 0.01, 'model_type': 'basic', 'optimizer': 'rmsprop', 'random_state': None, 'training_hook': [], 'training_loss': 'logloss'}\n",
      "-----------------------------------------\n"
     ]
    },
    {
     "name": "stderr",
     "output_type": "stream",
     "text": [
      "C:\\Users\\Marios\\Jupyter_Notebooks_my_papers\\Data-driven-Causal-Discovery-for-Constructing-Fuzzy-Cognitive-Maps-An-Industrial-Case-Study\\base\\classifier.py:143: UserWarning: 2018.12.16 The instruction  'loss = loss/self.batch_size' was commented out. Due to increased gradient values check the optimizer learning rate \n",
      "  warnings.warn('2018.12.16 The instruction  \\'loss = loss/self.batch_size\\' was commented out. Due to increased gradient values check the optimizer learning rate ')\n"
     ]
    },
    {
     "name": "stdout",
     "output_type": "stream",
     "text": [
      "Learning time 1800.6756253242493 sec\n",
      "\n",
      "-----------------------------------------\n",
      "-----------------------------------------\n",
      "-----------------------------------------\n",
      "-----------------------------------------\n",
      "-----------------------------------------\n",
      "{'act': None, 'activation': 'sigmoid', 'activation_m': 1, 'batch_size': 16, 'buffer_size': 1000, 'depth': 5, 'dropout_p': 0.0, 'epochs': 100, 'init_method': None, 'init_y_method': 'uniform', 'learning_rate': 0.01, 'model_type': 'basic', 'optimizer': 'rmsprop', 'random_state': None, 'training_hook': [], 'training_loss': 'logloss'}\n",
      "-----------------------------------------\n"
     ]
    },
    {
     "name": "stderr",
     "output_type": "stream",
     "text": [
      "C:\\Users\\Marios\\Jupyter_Notebooks_my_papers\\Data-driven-Causal-Discovery-for-Constructing-Fuzzy-Cognitive-Maps-An-Industrial-Case-Study\\base\\classifier.py:143: UserWarning: 2018.12.16 The instruction  'loss = loss/self.batch_size' was commented out. Due to increased gradient values check the optimizer learning rate \n",
      "  warnings.warn('2018.12.16 The instruction  \\'loss = loss/self.batch_size\\' was commented out. Due to increased gradient values check the optimizer learning rate ')\n"
     ]
    },
    {
     "name": "stdout",
     "output_type": "stream",
     "text": [
      "Learning time 1807.1830668449402 sec\n",
      "\n",
      "-----------------------------------------\n",
      "-----------------------------------------\n",
      "-----------------------------------------\n",
      "-----------------------------------------\n",
      "-----------------------------------------\n",
      "{'act': None, 'activation': 'sigmoid', 'activation_m': 1, 'batch_size': 16, 'buffer_size': 1000, 'depth': 5, 'dropout_p': 0.0, 'epochs': 100, 'init_method': None, 'init_y_method': 'uniform', 'learning_rate': 0.01, 'model_type': 'basic', 'optimizer': 'rmsprop', 'random_state': None, 'training_hook': [], 'training_loss': 'logloss'}\n",
      "-----------------------------------------\n"
     ]
    },
    {
     "name": "stderr",
     "output_type": "stream",
     "text": [
      "C:\\Users\\Marios\\Jupyter_Notebooks_my_papers\\Data-driven-Causal-Discovery-for-Constructing-Fuzzy-Cognitive-Maps-An-Industrial-Case-Study\\base\\classifier.py:143: UserWarning: 2018.12.16 The instruction  'loss = loss/self.batch_size' was commented out. Due to increased gradient values check the optimizer learning rate \n",
      "  warnings.warn('2018.12.16 The instruction  \\'loss = loss/self.batch_size\\' was commented out. Due to increased gradient values check the optimizer learning rate ')\n"
     ]
    },
    {
     "name": "stdout",
     "output_type": "stream",
     "text": [
      "Learning time 1805.7395086288452 sec\n",
      "\n",
      "-----------------------------------------\n",
      "-----------------------------------------\n",
      "-----------------------------------------\n",
      "-----------------------------------------\n",
      "-----------------------------------------\n",
      "{'act': None, 'activation': 'sigmoid', 'activation_m': 1, 'batch_size': 16, 'buffer_size': 1000, 'depth': 5, 'dropout_p': 0.0, 'epochs': 100, 'init_method': None, 'init_y_method': 'uniform', 'learning_rate': 0.01, 'model_type': 'basic', 'optimizer': 'rmsprop', 'random_state': None, 'training_hook': [], 'training_loss': 'logloss'}\n",
      "-----------------------------------------\n"
     ]
    },
    {
     "name": "stderr",
     "output_type": "stream",
     "text": [
      "C:\\Users\\Marios\\Jupyter_Notebooks_my_papers\\Data-driven-Causal-Discovery-for-Constructing-Fuzzy-Cognitive-Maps-An-Industrial-Case-Study\\base\\classifier.py:143: UserWarning: 2018.12.16 The instruction  'loss = loss/self.batch_size' was commented out. Due to increased gradient values check the optimizer learning rate \n",
      "  warnings.warn('2018.12.16 The instruction  \\'loss = loss/self.batch_size\\' was commented out. Due to increased gradient values check the optimizer learning rate ')\n"
     ]
    },
    {
     "name": "stdout",
     "output_type": "stream",
     "text": [
      "Learning time 1807.2400181293488 sec\n",
      "\n",
      "-----------------------------------------\n",
      "-----------------------------------------\n",
      "-----------------------------------------\n",
      "-----------------------------------------\n",
      "-----------------------------------------\n",
      "{'act': None, 'activation': 'sigmoid', 'activation_m': 1, 'batch_size': 16, 'buffer_size': 1000, 'depth': 5, 'dropout_p': 0.0, 'epochs': 100, 'init_method': None, 'init_y_method': 'uniform', 'learning_rate': 0.01, 'model_type': 'basic', 'optimizer': 'rmsprop', 'random_state': None, 'training_hook': [], 'training_loss': 'logloss'}\n",
      "-----------------------------------------\n"
     ]
    },
    {
     "name": "stderr",
     "output_type": "stream",
     "text": [
      "C:\\Users\\Marios\\Jupyter_Notebooks_my_papers\\Data-driven-Causal-Discovery-for-Constructing-Fuzzy-Cognitive-Maps-An-Industrial-Case-Study\\base\\classifier.py:143: UserWarning: 2018.12.16 The instruction  'loss = loss/self.batch_size' was commented out. Due to increased gradient values check the optimizer learning rate \n",
      "  warnings.warn('2018.12.16 The instruction  \\'loss = loss/self.batch_size\\' was commented out. Due to increased gradient values check the optimizer learning rate ')\n"
     ]
    },
    {
     "name": "stdout",
     "output_type": "stream",
     "text": [
      "Learning time 1802.5083963871002 sec\n",
      "\n",
      "-----------------------------------------\n",
      "-----------------------------------------\n",
      "-----------------------------------------\n",
      "-----------------------------------------\n",
      "-----------------------------------------\n",
      "{'act': None, 'activation': 'sigmoid', 'activation_m': 1, 'batch_size': 16, 'buffer_size': 1000, 'depth': 5, 'dropout_p': 0.0, 'epochs': 100, 'init_method': None, 'init_y_method': 'uniform', 'learning_rate': 0.01, 'model_type': 'basic', 'optimizer': 'rmsprop', 'random_state': None, 'training_hook': [], 'training_loss': 'logloss'}\n",
      "-----------------------------------------\n"
     ]
    },
    {
     "name": "stderr",
     "output_type": "stream",
     "text": [
      "C:\\Users\\Marios\\Jupyter_Notebooks_my_papers\\Data-driven-Causal-Discovery-for-Constructing-Fuzzy-Cognitive-Maps-An-Industrial-Case-Study\\base\\classifier.py:143: UserWarning: 2018.12.16 The instruction  'loss = loss/self.batch_size' was commented out. Due to increased gradient values check the optimizer learning rate \n",
      "  warnings.warn('2018.12.16 The instruction  \\'loss = loss/self.batch_size\\' was commented out. Due to increased gradient values check the optimizer learning rate ')\n"
     ]
    },
    {
     "name": "stdout",
     "output_type": "stream",
     "text": [
      "Learning time 1801.5825126171112 sec\n",
      "\n",
      "-----------------------------------------\n",
      "-----------------------------------------\n",
      "-----------------------------------------\n",
      "-----------------------------------------\n",
      "-----------------------------------------\n",
      "{'act': None, 'activation': 'sigmoid', 'activation_m': 1, 'batch_size': 16, 'buffer_size': 1000, 'depth': 5, 'dropout_p': 0.0, 'epochs': 100, 'init_method': None, 'init_y_method': 'uniform', 'learning_rate': 0.01, 'model_type': 'basic', 'optimizer': 'rmsprop', 'random_state': None, 'training_hook': [], 'training_loss': 'logloss'}\n",
      "-----------------------------------------\n"
     ]
    },
    {
     "name": "stderr",
     "output_type": "stream",
     "text": [
      "C:\\Users\\Marios\\Jupyter_Notebooks_my_papers\\Data-driven-Causal-Discovery-for-Constructing-Fuzzy-Cognitive-Maps-An-Industrial-Case-Study\\base\\classifier.py:143: UserWarning: 2018.12.16 The instruction  'loss = loss/self.batch_size' was commented out. Due to increased gradient values check the optimizer learning rate \n",
      "  warnings.warn('2018.12.16 The instruction  \\'loss = loss/self.batch_size\\' was commented out. Due to increased gradient values check the optimizer learning rate ')\n"
     ]
    },
    {
     "name": "stdout",
     "output_type": "stream",
     "text": [
      "Learning time 1800.6490757465363 sec\n",
      "\n",
      "-----------------------------------------\n",
      "-----------------------------------------\n",
      "-----------------------------------------\n",
      "-----------------------------------------\n",
      "-----------------------------------------\n",
      "{'act': None, 'activation': 'sigmoid', 'activation_m': 1, 'batch_size': 16, 'buffer_size': 1000, 'depth': 5, 'dropout_p': 0.0, 'epochs': 100, 'init_method': None, 'init_y_method': 'uniform', 'learning_rate': 0.01, 'model_type': 'basic', 'optimizer': 'rmsprop', 'random_state': None, 'training_hook': [], 'training_loss': 'logloss'}\n",
      "-----------------------------------------\n"
     ]
    },
    {
     "name": "stderr",
     "output_type": "stream",
     "text": [
      "C:\\Users\\Marios\\Jupyter_Notebooks_my_papers\\Data-driven-Causal-Discovery-for-Constructing-Fuzzy-Cognitive-Maps-An-Industrial-Case-Study\\base\\classifier.py:143: UserWarning: 2018.12.16 The instruction  'loss = loss/self.batch_size' was commented out. Due to increased gradient values check the optimizer learning rate \n",
      "  warnings.warn('2018.12.16 The instruction  \\'loss = loss/self.batch_size\\' was commented out. Due to increased gradient values check the optimizer learning rate ')\n"
     ]
    },
    {
     "name": "stdout",
     "output_type": "stream",
     "text": [
      "Learning time 1795.2659068107605 sec\n",
      "\n",
      "-----------------------------------------\n",
      "-----------------------------------------\n",
      "-----------------------------------------\n",
      "-----------------------------------------\n",
      "-----------------------------------------\n",
      "{'act': None, 'activation': 'sigmoid', 'activation_m': 1, 'batch_size': 16, 'buffer_size': 1000, 'depth': 5, 'dropout_p': 0.0, 'epochs': 100, 'init_method': None, 'init_y_method': 'uniform', 'learning_rate': 0.01, 'model_type': 'basic', 'optimizer': 'rmsprop', 'random_state': None, 'training_hook': [], 'training_loss': 'logloss'}\n",
      "-----------------------------------------\n"
     ]
    },
    {
     "name": "stderr",
     "output_type": "stream",
     "text": [
      "C:\\Users\\Marios\\Jupyter_Notebooks_my_papers\\Data-driven-Causal-Discovery-for-Constructing-Fuzzy-Cognitive-Maps-An-Industrial-Case-Study\\base\\classifier.py:143: UserWarning: 2018.12.16 The instruction  'loss = loss/self.batch_size' was commented out. Due to increased gradient values check the optimizer learning rate \n",
      "  warnings.warn('2018.12.16 The instruction  \\'loss = loss/self.batch_size\\' was commented out. Due to increased gradient values check the optimizer learning rate ')\n"
     ]
    },
    {
     "name": "stdout",
     "output_type": "stream",
     "text": [
      "Learning time 1794.3789658546448 sec\n",
      "\n"
     ]
    }
   ],
   "source": [
    "acc_folds_best_estimator = []\n",
    "auc_folds_best_estimator = []\n",
    "kappa_folds_best_estimator = []\n",
    "twf_folds_best_estimator = []\n",
    "hdf_folds_best_estimator = []\n",
    "pwf_folds_best_estimator = []\n",
    "osf_folds_best_estimator = []\n",
    "av_folds_best_estimator = []\n",
    "fold_list = []\n",
    "\n",
    "\n",
    "for fold in range(1,11):\n",
    "    \n",
    "    #Dataset for each fold\n",
    "    original_X_train = pd.read_csv('G:\\\\.shortcut-targets-by-id\\\\1-wapAl6N5YrCs68c4NiFKyvybXTXmdgZ\\\\Ph_D_Tyrovolas\\\\Our Papers\\\\3rd_Paper-Proposal\\\\Testbed Codes\\\\AI4I_Case_Study\\\\k-fold cross validation datasets\\\\' + str(fold) + \"\\\\Training Dataset\" + \"\\\\X_train_iter_\" + str(fold) + \".csv\")\n",
    "    original_X_test = pd.read_csv('G:\\\\.shortcut-targets-by-id\\\\1-wapAl6N5YrCs68c4NiFKyvybXTXmdgZ\\\\Ph_D_Tyrovolas\\\\Our Papers\\\\3rd_Paper-Proposal\\\\Testbed Codes\\\\AI4I_Case_Study\\\\k-fold cross validation datasets\\\\' + str(fold) + \"\\\\Test Dataset\" + \"\\\\X_test_iter_\" + str(fold) + \".csv\")\n",
    "\n",
    "    X_train = pd.read_csv('G:\\\\.shortcut-targets-by-id\\\\1-wapAl6N5YrCs68c4NiFKyvybXTXmdgZ\\\\Ph_D_Tyrovolas\\\\Our Papers\\\\3rd_Paper-Proposal\\\\Testbed Codes\\\\AI4I_Case_Study\\\\k-fold cross validation datasets\\\\' + str(fold) + \"\\\\Training Dataset\" + \"\\\\Scaled_X_train_iter_\" + str(fold) + \".csv\", names=['Type', 'Air temperature [K]', 'Process temperature [K]', 'Rotational speed [rpm]', 'Torque [Nm]', 'Tool wear [min]'])\n",
    "    y_train = pd.read_csv('G:\\\\.shortcut-targets-by-id\\\\1-wapAl6N5YrCs68c4NiFKyvybXTXmdgZ\\\\Ph_D_Tyrovolas\\\\Our Papers\\\\3rd_Paper-Proposal\\\\Testbed Codes\\\\AI4I_Case_Study\\\\k-fold cross validation datasets\\\\' + str(fold) + \"\\\\Training Dataset\" + \"\\\\y_train_iter_\" + str(fold) + \".csv\")\n",
    "    X_test = pd.read_csv('G:\\\\.shortcut-targets-by-id\\\\1-wapAl6N5YrCs68c4NiFKyvybXTXmdgZ\\\\Ph_D_Tyrovolas\\\\Our Papers\\\\3rd_Paper-Proposal\\\\Testbed Codes\\\\AI4I_Case_Study\\\\k-fold cross validation datasets\\\\' + str(fold) + \"\\\\Test Dataset\" + \"\\\\Scaled_X_test_iter_\" + str(fold) + \".csv\", names=['Type', 'Air temperature [K]', 'Process temperature [K]', 'Rotational speed [rpm]', 'Torque [Nm]', 'Tool wear [min]'])\n",
    "    y_test = pd.read_csv('G:\\\\.shortcut-targets-by-id\\\\1-wapAl6N5YrCs68c4NiFKyvybXTXmdgZ\\\\Ph_D_Tyrovolas\\\\Our Papers\\\\3rd_Paper-Proposal\\\\Testbed Codes\\\\AI4I_Case_Study\\\\k-fold cross validation datasets\\\\' + str(fold) + \"\\\\Test Dataset\" + \"\\\\y_test_iter_\" + str(fold) + \".csv\")\n",
    "    \n",
    "    original_X_train = original_X_train.rename(columns = lambda x:re.sub('[^A-Za-z0-9_]+', '', x))\n",
    "    original_X_test = original_X_test.rename(columns = lambda x:re.sub('[^A-Za-z0-9_]+', '', x))\n",
    "    X_train = X_train.rename(columns = lambda x:re.sub('[^A-Za-z0-9_]+', '', x))\n",
    "    X_test = X_test.rename(columns = lambda x:re.sub('[^A-Za-z0-9_]+', '', x))\n",
    "    y_train = y_train.rename(columns = lambda x:re.sub('[^A-Za-z0-9_]+', '', x))\n",
    "    y_test = y_test.rename(columns = lambda x:re.sub('[^A-Za-z0-9_]+', '', x))\n",
    "    \n",
    "    #Dataframes to numpy\n",
    "    X_train_numpy = X_train.to_numpy()\n",
    "    y_train_numpy = y_train.to_numpy()\n",
    "    X_test_numpy = X_test.to_numpy()\n",
    "    y_test_numpy = y_test.to_numpy()\n",
    "    \n",
    "    \n",
    "    #Build the FCMB Classifier\n",
    "    fcmb = FcmBinaryClassifier()\n",
    "    fcmb.__init__(**grid[final_df.loc[0,\"Combinations\"]])\n",
    "    fcmb.fit(X_train_numpy,y_train_numpy)\n",
    "    \n",
    "    #Predictions for the test set\n",
    "    y_test_pred_fcmb = fcmb.predict(X_test)\n",
    "    \n",
    "    #Evaluation metrics\n",
    "    accuracy_fcmb = accuracy_score(y_test, y_test_pred_fcmb)\n",
    "    auc_fcmb = metrics.roc_auc_score(y_test, y_test_pred_fcmb)\n",
    "    cohen_score_fcmb = cohen_kappa_score(y_test, y_test_pred_fcmb)\n",
    "    \n",
    "    #FCMB trajectory\n",
    "    #For an output variable the constant 0.5 can be interpreted as undecided value, in between 0 and 1.\n",
    "    init_y_test = np.ones((X_test.shape[0], fcmb.base_fcm.model.dim - X_test.shape[1])) * .5\n",
    "    trj_fcmb_test = fcmb.base_fcm.model.trajectory(X_test, init_y_test)\n",
    "    \n",
    "    \n",
    "    local_feature_importance_fcmb = pd.DataFrame(trj_fcmb_test[fcmb.depth], columns=['Type', 'AirtemperatureK', 'ProcesstemperatureK', 'Rotationalspeedrpm', 'TorqueNm', 'Toolwearmin', 'Machinefailure'])\n",
    "    local_feature_importance_fcmb.drop('Machinefailure', inplace=True, axis=1)\n",
    "    \n",
    "    #Find the observations' indexes that the model correctly predicted as faulty\n",
    "    true_positive_indexes = []\n",
    "    i=1;\n",
    "\n",
    "    #According to the chosen model\n",
    "    #For example, y_test_pred_lgbmc for LGBM Classifier\n",
    "    for k in range(0,len(y_test)):\n",
    "        if (y_test.loc[k,'Machinefailure']==int(y_test_pred_fcmb[k])) and (y_test.loc[k,'Machinefailure']==1):\n",
    "            true_positive_indexes.append(k)\n",
    "            i=i+1;\n",
    "\n",
    "    #Find the observations that the selected model correctly predicted as faulty based on the previous indexes\n",
    "    true_positive_observations = pd.DataFrame()\n",
    "    for k in range(0,len(true_positive_indexes)):\n",
    "        new_row = pd.concat([original_X_test.loc[true_positive_indexes[k],:],y_test.loc[true_positive_indexes[k],:]], axis=0)\n",
    "        true_positive_observations = true_positive_observations.append(new_row, ignore_index=True)\n",
    "    \n",
    "    if not true_positive_observations.empty:\n",
    "        \n",
    "        #Append in lists\n",
    "        acc_folds_best_estimator.append(accuracy_fcmb)\n",
    "        kappa_folds_best_estimator.append(cohen_score_fcmb)\n",
    "        auc_folds_best_estimator.append(auc_fcmb)\n",
    "        \n",
    "    \n",
    "        true_positive_observations_with_failure_modes = pd.DataFrame()\n",
    "        true_positive_observations_with_failure_modes = ai4i2020_encoded_balanced.join(true_positive_observations.set_index(['Type', 'AirtemperatureK', 'ProcesstemperatureK', 'Rotationalspeedrpm', 'TorqueNm', 'Toolwearmin', 'Machinefailure']), ['Type', 'AirtemperatureK', 'ProcesstemperatureK', 'Rotationalspeedrpm', 'TorqueNm', 'Toolwearmin', 'Machinefailure'], how='right')       \n",
    "        final_true_positive_observations_with_failure_modes = true_positive_observations_with_failure_modes.reset_index(drop=True)\n",
    "\n",
    "    \n",
    "        #display(\"Number of true positive predictions: \" + str(len(final_true_positive_observations_with_failure_modes)))\n",
    "\n",
    "        number_of_TWF_failures_in_true_positive_predictions = 0\n",
    "        number_of_HDF_failures_in_true_positive_predictions = 0\n",
    "        number_of_PWF_failures_in_true_positive_predictions = 0\n",
    "        number_of_OSF_failures_in_true_positive_predictions = 0\n",
    "        number_of_random_failures_in_true_positive_predictions=0\n",
    "\n",
    "        for k in range(0,len(final_true_positive_observations_with_failure_modes)):\n",
    "            if final_true_positive_observations_with_failure_modes.loc[k,\"TWF\"]==1: #if the failure mode is TWF\n",
    "                number_of_TWF_failures_in_true_positive_predictions = number_of_TWF_failures_in_true_positive_predictions + 1;\n",
    "            if final_true_positive_observations_with_failure_modes.loc[k,\"HDF\"]==1: #if the failure mode is HDF\n",
    "                number_of_HDF_failures_in_true_positive_predictions = number_of_HDF_failures_in_true_positive_predictions + 1;\n",
    "            if final_true_positive_observations_with_failure_modes.loc[k,\"PWF\"]==1: #if the failure mode is PWF\n",
    "                number_of_PWF_failures_in_true_positive_predictions = number_of_PWF_failures_in_true_positive_predictions + 1;\n",
    "            if final_true_positive_observations_with_failure_modes.loc[k,\"OSF\"]==1: #if the failure mode is OSF\n",
    "                number_of_OSF_failures_in_true_positive_predictions = number_of_OSF_failures_in_true_positive_predictions + 1;\n",
    "            if (final_true_positive_observations_with_failure_modes.loc[k,\"Machinefailure\"]==1) and (final_true_positive_observations_with_failure_modes.loc[k,\"TWF\"]==0) and (final_true_positive_observations_with_failure_modes.loc[k,\"HDF\"]==0) and (final_true_positive_observations_with_failure_modes.loc[k,\"PWF\"]==0) and (final_true_positive_observations_with_failure_modes.loc[k,\"OSF\"]==0) and (final_true_positive_observations_with_failure_modes.loc[k,\"RNF\"]==0):\n",
    "                number_of_random_failures_in_true_positive_predictions = number_of_random_failures_in_true_positive_predictions+1;\n",
    "    \n",
    "        #Calculate the correct explanations\n",
    "        correct_explanations = 0\n",
    "        correct_explanations_TWF = 0\n",
    "        correct_explanations_HDF = 0\n",
    "        correct_explanations_PWF = 0\n",
    "        correct_explanations_OSF = 0\n",
    "\n",
    "        for k in range(0,len(true_positive_observations)):\n",
    "            #if the failure mode is TWF\n",
    "            if final_true_positive_observations_with_failure_modes.loc[k,\"TWF\"]==1:\n",
    "                #if tool wear is the most important feature\n",
    "                if local_feature_importance_fcmb.loc[true_positive_indexes[k],\"Toolwearmin\"] == max(local_feature_importance_fcmb.loc[true_positive_indexes[k],:]):\n",
    "                    correct_explanations = correct_explanations+1;\n",
    "                    correct_explanations_TWF = correct_explanations_TWF + 1;\n",
    "                \n",
    "            #if the failure mode is HDF\n",
    "            if final_true_positive_observations_with_failure_modes.loc[k,\"HDF\"]==1: \n",
    "                maximum1 = max(local_feature_importance_fcmb.loc[true_positive_indexes[k],:]) \n",
    "                maximum2 = max(local_feature_importance_fcmb.loc[true_positive_indexes[k],:], key = lambda x: min(local_feature_importance_fcmb.loc[true_positive_indexes[k],:])-1 if (x == maximum1) else x)\n",
    "                if (local_feature_importance_fcmb.loc[true_positive_indexes[k],\"AirtemperatureK\"] == maximum1) or (local_feature_importance_fcmb.loc[true_positive_indexes[k],\"AirtemperatureK\"] == maximum2) or (local_feature_importance_fcmb.loc[true_positive_indexes[k],\"ProcesstemperatureK\"] == maximum1) or (local_feature_importance_fcmb.loc[true_positive_indexes[k],\"ProcesstemperatureK\"] == maximum2):\n",
    "                    correct_explanations = correct_explanations+1;\n",
    "                    correct_explanations_HDF = correct_explanations_HDF + 1;\n",
    "            \n",
    "            \n",
    "            #if the failure mode is PWF\n",
    "            if final_true_positive_observations_with_failure_modes.loc[k,\"PWF\"]==1: \n",
    "                maximum1 = max(local_feature_importance_fcmb.loc[true_positive_indexes[k],:]) \n",
    "                maximum2 = max(local_feature_importance_fcmb.loc[true_positive_indexes[k],:], key = lambda x: min(local_feature_importance_fcmb.loc[true_positive_indexes[k],:])-1 if (x == maximum1) else x)\n",
    "                if (local_feature_importance_fcmb.loc[true_positive_indexes[k],\"Rotationalspeedrpm\"] == maximum1) or (local_feature_importance_fcmb.loc[true_positive_indexes[k],\"Rotationalspeedrpm\"] == maximum2) or (local_feature_importance_fcmb.loc[true_positive_indexes[k],\"TorqueNm\"] == maximum1) or (local_feature_importance_fcmb.loc[true_positive_indexes[k],\"TorqueNm\"] == maximum2):\n",
    "                    correct_explanations = correct_explanations+1;\n",
    "                    correct_explanations_PWF = correct_explanations_PWF + 1;\n",
    "            \n",
    "            #if the failure mode is OSF        \n",
    "            if final_true_positive_observations_with_failure_modes.loc[k,\"OSF\"]==1:\n",
    "                maximum1 = max(local_feature_importance_fcmb.loc[true_positive_indexes[k],:]) \n",
    "                maximum2 = max(local_feature_importance_fcmb.loc[true_positive_indexes[k],:], key = lambda x: min(local_feature_importance_fcmb.loc[true_positive_indexes[k],:])-1 if (x == maximum1) else x)\n",
    "                if (local_feature_importance_fcmb.loc[true_positive_indexes[k],\"Toolwearmin\"] == maximum1) or (local_feature_importance_fcmb.loc[true_positive_indexes[k],\"Toolwearmin\"] == maximum2) or (local_feature_importance_fcmb.loc[true_positive_indexes[k],\"TorqueNm\"] == maximum1) or (local_feature_importance_fcmb.loc[true_positive_indexes[k],\"TorqueNm\"] == maximum2):\n",
    "                    correct_explanations = correct_explanations+1;\n",
    "                    correct_explanations_OSF = correct_explanations_OSF + 1;\n",
    "\n",
    "        denominator = 0\n",
    "        \n",
    "        if number_of_TWF_failures_in_true_positive_predictions != 0:\n",
    "            twf_folds_best_estimator.append(correct_explanations_TWF/number_of_TWF_failures_in_true_positive_predictions)\n",
    "            twf_success = correct_explanations_TWF/number_of_TWF_failures_in_true_positive_predictions\n",
    "            denominator = denominator + 1\n",
    "        else:\n",
    "            twf_folds_best_estimator.append(correct_explanations_TWF)\n",
    "            twf_success = 0\n",
    "        if number_of_HDF_failures_in_true_positive_predictions != 0:\n",
    "            hdf_folds_best_estimator.append(correct_explanations_HDF/number_of_HDF_failures_in_true_positive_predictions)\n",
    "            hdf_success = correct_explanations_HDF/number_of_HDF_failures_in_true_positive_predictions\n",
    "            denominator = denominator + 1\n",
    "        else:\n",
    "            hdf_folds_best_estimator.append(correct_explanations_HDF)\n",
    "            hdf_success = 0\n",
    "        if number_of_PWF_failures_in_true_positive_predictions != 0:\n",
    "            pwf_folds_best_estimator.append(correct_explanations_PWF/number_of_PWF_failures_in_true_positive_predictions)\n",
    "            pwf_success = correct_explanations_PWF/number_of_PWF_failures_in_true_positive_predictions\n",
    "            denominator = denominator + 1\n",
    "        else:\n",
    "            pwf_folds_best_estimator.append(correct_explanations_PWF)\n",
    "            pwf_success = 0\n",
    "        if number_of_OSF_failures_in_true_positive_predictions != 0:\n",
    "            osf_folds_best_estimator.append(correct_explanations_OSF/number_of_OSF_failures_in_true_positive_predictions)\n",
    "            osf_success = correct_explanations_OSF/number_of_OSF_failures_in_true_positive_predictions\n",
    "            denominator = denominator + 1\n",
    "        else:\n",
    "            osf_folds_best_estimator.append(correct_explanations_OSF)\n",
    "            osf_success = 0\n",
    "        \n",
    "        if denominator !=0:\n",
    "            average_success = (twf_success+hdf_success+pwf_success+osf_success)/denominator\n",
    "        else:\n",
    "            average_success = 0\n",
    "        \n",
    "        av_folds_best_estimator.append(average_success)\n",
    "        fold_list.append(fold)\n",
    "\n",
    "result_df_best_estimator = pd.DataFrame({'Accuracy': acc_folds_best_estimator, 'AUC': auc_folds_best_estimator, 'Kappa':kappa_folds_best_estimator, 'TWF':twf_folds_best_estimator, 'HDF':hdf_folds_best_estimator, 'PWF':pwf_folds_best_estimator, 'OSF':osf_folds_best_estimator, 'Average Success':av_folds_best_estimator, 'Folds':fold_list})\n"
   ]
  },
  {
   "cell_type": "code",
   "execution_count": 11,
   "id": "d176b575",
   "metadata": {},
   "outputs": [
    {
     "data": {
      "text/html": [
       "<div>\n",
       "<style scoped>\n",
       "    .dataframe tbody tr th:only-of-type {\n",
       "        vertical-align: middle;\n",
       "    }\n",
       "\n",
       "    .dataframe tbody tr th {\n",
       "        vertical-align: top;\n",
       "    }\n",
       "\n",
       "    .dataframe thead th {\n",
       "        text-align: right;\n",
       "    }\n",
       "</style>\n",
       "<table border=\"1\" class=\"dataframe\">\n",
       "  <thead>\n",
       "    <tr style=\"text-align: right;\">\n",
       "      <th></th>\n",
       "      <th>Accuracy</th>\n",
       "      <th>AUC</th>\n",
       "      <th>Kappa</th>\n",
       "      <th>TWF</th>\n",
       "      <th>HDF</th>\n",
       "      <th>PWF</th>\n",
       "      <th>OSF</th>\n",
       "      <th>Average Success</th>\n",
       "      <th>Folds</th>\n",
       "    </tr>\n",
       "  </thead>\n",
       "  <tbody>\n",
       "    <tr>\n",
       "      <th>0</th>\n",
       "      <td>0.927470</td>\n",
       "      <td>0.925223</td>\n",
       "      <td>0.854018</td>\n",
       "      <td>0.000000</td>\n",
       "      <td>1.000000</td>\n",
       "      <td>0.014815</td>\n",
       "      <td>0.000000</td>\n",
       "      <td>0.253704</td>\n",
       "      <td>1</td>\n",
       "    </tr>\n",
       "    <tr>\n",
       "      <th>1</th>\n",
       "      <td>0.952027</td>\n",
       "      <td>0.951395</td>\n",
       "      <td>0.903747</td>\n",
       "      <td>0.953846</td>\n",
       "      <td>0.000000</td>\n",
       "      <td>0.284884</td>\n",
       "      <td>1.000000</td>\n",
       "      <td>0.559682</td>\n",
       "      <td>2</td>\n",
       "    </tr>\n",
       "    <tr>\n",
       "      <th>2</th>\n",
       "      <td>0.954883</td>\n",
       "      <td>0.953754</td>\n",
       "      <td>0.909385</td>\n",
       "      <td>0.000000</td>\n",
       "      <td>1.000000</td>\n",
       "      <td>0.479532</td>\n",
       "      <td>0.008889</td>\n",
       "      <td>0.372105</td>\n",
       "      <td>3</td>\n",
       "    </tr>\n",
       "    <tr>\n",
       "      <th>3</th>\n",
       "      <td>0.940034</td>\n",
       "      <td>0.937973</td>\n",
       "      <td>0.879345</td>\n",
       "      <td>0.000000</td>\n",
       "      <td>1.000000</td>\n",
       "      <td>0.000000</td>\n",
       "      <td>0.227273</td>\n",
       "      <td>0.306818</td>\n",
       "      <td>4</td>\n",
       "    </tr>\n",
       "    <tr>\n",
       "      <th>4</th>\n",
       "      <td>0.958310</td>\n",
       "      <td>0.957293</td>\n",
       "      <td>0.916285</td>\n",
       "      <td>0.632653</td>\n",
       "      <td>1.000000</td>\n",
       "      <td>0.000000</td>\n",
       "      <td>1.000000</td>\n",
       "      <td>0.658163</td>\n",
       "      <td>5</td>\n",
       "    </tr>\n",
       "    <tr>\n",
       "      <th>5</th>\n",
       "      <td>0.950314</td>\n",
       "      <td>0.951399</td>\n",
       "      <td>0.900652</td>\n",
       "      <td>0.000000</td>\n",
       "      <td>1.000000</td>\n",
       "      <td>0.033149</td>\n",
       "      <td>0.918919</td>\n",
       "      <td>0.488017</td>\n",
       "      <td>6</td>\n",
       "    </tr>\n",
       "    <tr>\n",
       "      <th>6</th>\n",
       "      <td>0.921759</td>\n",
       "      <td>0.921565</td>\n",
       "      <td>0.843174</td>\n",
       "      <td>0.000000</td>\n",
       "      <td>1.000000</td>\n",
       "      <td>0.000000</td>\n",
       "      <td>0.000000</td>\n",
       "      <td>0.250000</td>\n",
       "      <td>7</td>\n",
       "    </tr>\n",
       "    <tr>\n",
       "      <th>7</th>\n",
       "      <td>0.952000</td>\n",
       "      <td>0.950643</td>\n",
       "      <td>0.903557</td>\n",
       "      <td>0.000000</td>\n",
       "      <td>0.008230</td>\n",
       "      <td>0.300000</td>\n",
       "      <td>0.339367</td>\n",
       "      <td>0.161899</td>\n",
       "      <td>8</td>\n",
       "    </tr>\n",
       "    <tr>\n",
       "      <th>8</th>\n",
       "      <td>0.930286</td>\n",
       "      <td>0.929542</td>\n",
       "      <td>0.860099</td>\n",
       "      <td>0.000000</td>\n",
       "      <td>1.000000</td>\n",
       "      <td>0.478571</td>\n",
       "      <td>0.012195</td>\n",
       "      <td>0.372692</td>\n",
       "      <td>9</td>\n",
       "    </tr>\n",
       "    <tr>\n",
       "      <th>9</th>\n",
       "      <td>0.944000</td>\n",
       "      <td>0.942696</td>\n",
       "      <td>0.887488</td>\n",
       "      <td>0.364865</td>\n",
       "      <td>0.982533</td>\n",
       "      <td>0.000000</td>\n",
       "      <td>0.456067</td>\n",
       "      <td>0.450866</td>\n",
       "      <td>10</td>\n",
       "    </tr>\n",
       "  </tbody>\n",
       "</table>\n",
       "</div>"
      ],
      "text/plain": [
       "   Accuracy       AUC     Kappa       TWF       HDF       PWF       OSF  \\\n",
       "0  0.927470  0.925223  0.854018  0.000000  1.000000  0.014815  0.000000   \n",
       "1  0.952027  0.951395  0.903747  0.953846  0.000000  0.284884  1.000000   \n",
       "2  0.954883  0.953754  0.909385  0.000000  1.000000  0.479532  0.008889   \n",
       "3  0.940034  0.937973  0.879345  0.000000  1.000000  0.000000  0.227273   \n",
       "4  0.958310  0.957293  0.916285  0.632653  1.000000  0.000000  1.000000   \n",
       "5  0.950314  0.951399  0.900652  0.000000  1.000000  0.033149  0.918919   \n",
       "6  0.921759  0.921565  0.843174  0.000000  1.000000  0.000000  0.000000   \n",
       "7  0.952000  0.950643  0.903557  0.000000  0.008230  0.300000  0.339367   \n",
       "8  0.930286  0.929542  0.860099  0.000000  1.000000  0.478571  0.012195   \n",
       "9  0.944000  0.942696  0.887488  0.364865  0.982533  0.000000  0.456067   \n",
       "\n",
       "   Average Success  Folds  \n",
       "0         0.253704      1  \n",
       "1         0.559682      2  \n",
       "2         0.372105      3  \n",
       "3         0.306818      4  \n",
       "4         0.658163      5  \n",
       "5         0.488017      6  \n",
       "6         0.250000      7  \n",
       "7         0.161899      8  \n",
       "8         0.372692      9  \n",
       "9         0.450866     10  "
      ]
     },
     "execution_count": 11,
     "metadata": {},
     "output_type": "execute_result"
    }
   ],
   "source": [
    "result_df_best_estimator"
   ]
  },
  {
   "cell_type": "markdown",
   "id": "47723fa3",
   "metadata": {},
   "source": [
    "## Calculate the evaluation metrics for all folds of the best FCMMC estimator"
   ]
  },
  {
   "cell_type": "code",
   "execution_count": 13,
   "id": "6810e880",
   "metadata": {},
   "outputs": [
    {
     "name": "stdout",
     "output_type": "stream",
     "text": [
      "-----------------------------------------\n",
      "-----------------------------------------\n",
      "-----------------------------------------\n",
      "-----------------------------------------\n",
      "-----------------------------------------\n",
      "{'act': None, 'activation': 'sigmoid', 'activation_m': 1, 'batch_size': 16, 'buffer_size': 1000, 'depth': 2, 'dropout_p': 0.0, 'epochs': 100, 'init_method': None, 'init_y_method': 'uniform', 'learning_rate': 0.05, 'model_type': 'basic', 'optimizer': 'rmsprop', 'random_state': None, 'training_hook': [], 'training_loss': 'softmax'}\n",
      "-----------------------------------------\n"
     ]
    },
    {
     "name": "stderr",
     "output_type": "stream",
     "text": [
      "C:\\Users\\Marios\\Jupyter_Notebooks_my_papers\\Data-driven-Causal-Discovery-for-Constructing-Fuzzy-Cognitive-Maps-An-Industrial-Case-Study\\base\\classifier.py:143: UserWarning: 2018.12.16 The instruction  'loss = loss/self.batch_size' was commented out. Due to increased gradient values check the optimizer learning rate \n",
      "  warnings.warn('2018.12.16 The instruction  \\'loss = loss/self.batch_size\\' was commented out. Due to increased gradient values check the optimizer learning rate ')\n"
     ]
    },
    {
     "name": "stdout",
     "output_type": "stream",
     "text": [
      "Learning time 1417.5360944271088 sec\n",
      "\n",
      "-----------------------------------------\n",
      "-----------------------------------------\n",
      "-----------------------------------------\n",
      "-----------------------------------------\n",
      "-----------------------------------------\n",
      "{'act': None, 'activation': 'sigmoid', 'activation_m': 1, 'batch_size': 16, 'buffer_size': 1000, 'depth': 2, 'dropout_p': 0.0, 'epochs': 100, 'init_method': None, 'init_y_method': 'uniform', 'learning_rate': 0.05, 'model_type': 'basic', 'optimizer': 'rmsprop', 'random_state': None, 'training_hook': [], 'training_loss': 'softmax'}\n",
      "-----------------------------------------\n"
     ]
    },
    {
     "name": "stderr",
     "output_type": "stream",
     "text": [
      "C:\\Users\\Marios\\Jupyter_Notebooks_my_papers\\Data-driven-Causal-Discovery-for-Constructing-Fuzzy-Cognitive-Maps-An-Industrial-Case-Study\\base\\classifier.py:143: UserWarning: 2018.12.16 The instruction  'loss = loss/self.batch_size' was commented out. Due to increased gradient values check the optimizer learning rate \n",
      "  warnings.warn('2018.12.16 The instruction  \\'loss = loss/self.batch_size\\' was commented out. Due to increased gradient values check the optimizer learning rate ')\n"
     ]
    },
    {
     "name": "stdout",
     "output_type": "stream",
     "text": [
      "Learning time 1666.93971657753 sec\n",
      "\n",
      "-----------------------------------------\n",
      "-----------------------------------------\n",
      "-----------------------------------------\n",
      "-----------------------------------------\n",
      "-----------------------------------------\n",
      "{'act': None, 'activation': 'sigmoid', 'activation_m': 1, 'batch_size': 16, 'buffer_size': 1000, 'depth': 2, 'dropout_p': 0.0, 'epochs': 100, 'init_method': None, 'init_y_method': 'uniform', 'learning_rate': 0.05, 'model_type': 'basic', 'optimizer': 'rmsprop', 'random_state': None, 'training_hook': [], 'training_loss': 'softmax'}\n",
      "-----------------------------------------\n"
     ]
    },
    {
     "name": "stderr",
     "output_type": "stream",
     "text": [
      "C:\\Users\\Marios\\Jupyter_Notebooks_my_papers\\Data-driven-Causal-Discovery-for-Constructing-Fuzzy-Cognitive-Maps-An-Industrial-Case-Study\\base\\classifier.py:143: UserWarning: 2018.12.16 The instruction  'loss = loss/self.batch_size' was commented out. Due to increased gradient values check the optimizer learning rate \n",
      "  warnings.warn('2018.12.16 The instruction  \\'loss = loss/self.batch_size\\' was commented out. Due to increased gradient values check the optimizer learning rate ')\n"
     ]
    },
    {
     "name": "stdout",
     "output_type": "stream",
     "text": [
      "Learning time 1960.3680737018585 sec\n",
      "\n",
      "-----------------------------------------\n",
      "-----------------------------------------\n",
      "-----------------------------------------\n",
      "-----------------------------------------\n",
      "-----------------------------------------\n",
      "{'act': None, 'activation': 'sigmoid', 'activation_m': 1, 'batch_size': 16, 'buffer_size': 1000, 'depth': 2, 'dropout_p': 0.0, 'epochs': 100, 'init_method': None, 'init_y_method': 'uniform', 'learning_rate': 0.05, 'model_type': 'basic', 'optimizer': 'rmsprop', 'random_state': None, 'training_hook': [], 'training_loss': 'softmax'}\n",
      "-----------------------------------------\n"
     ]
    },
    {
     "name": "stderr",
     "output_type": "stream",
     "text": [
      "C:\\Users\\Marios\\Jupyter_Notebooks_my_papers\\Data-driven-Causal-Discovery-for-Constructing-Fuzzy-Cognitive-Maps-An-Industrial-Case-Study\\base\\classifier.py:143: UserWarning: 2018.12.16 The instruction  'loss = loss/self.batch_size' was commented out. Due to increased gradient values check the optimizer learning rate \n",
      "  warnings.warn('2018.12.16 The instruction  \\'loss = loss/self.batch_size\\' was commented out. Due to increased gradient values check the optimizer learning rate ')\n"
     ]
    },
    {
     "name": "stdout",
     "output_type": "stream",
     "text": [
      "Learning time 1241.1714308261871 sec\n",
      "\n",
      "-----------------------------------------\n",
      "-----------------------------------------\n",
      "-----------------------------------------\n",
      "-----------------------------------------\n",
      "-----------------------------------------\n",
      "{'act': None, 'activation': 'sigmoid', 'activation_m': 1, 'batch_size': 16, 'buffer_size': 1000, 'depth': 2, 'dropout_p': 0.0, 'epochs': 100, 'init_method': None, 'init_y_method': 'uniform', 'learning_rate': 0.05, 'model_type': 'basic', 'optimizer': 'rmsprop', 'random_state': None, 'training_hook': [], 'training_loss': 'softmax'}\n",
      "-----------------------------------------\n"
     ]
    },
    {
     "name": "stderr",
     "output_type": "stream",
     "text": [
      "C:\\Users\\Marios\\Jupyter_Notebooks_my_papers\\Data-driven-Causal-Discovery-for-Constructing-Fuzzy-Cognitive-Maps-An-Industrial-Case-Study\\base\\classifier.py:143: UserWarning: 2018.12.16 The instruction  'loss = loss/self.batch_size' was commented out. Due to increased gradient values check the optimizer learning rate \n",
      "  warnings.warn('2018.12.16 The instruction  \\'loss = loss/self.batch_size\\' was commented out. Due to increased gradient values check the optimizer learning rate ')\n"
     ]
    },
    {
     "name": "stdout",
     "output_type": "stream",
     "text": [
      "Learning time 1252.529845714569 sec\n",
      "\n",
      "-----------------------------------------\n",
      "-----------------------------------------\n",
      "-----------------------------------------\n",
      "-----------------------------------------\n",
      "-----------------------------------------\n",
      "{'act': None, 'activation': 'sigmoid', 'activation_m': 1, 'batch_size': 16, 'buffer_size': 1000, 'depth': 2, 'dropout_p': 0.0, 'epochs': 100, 'init_method': None, 'init_y_method': 'uniform', 'learning_rate': 0.05, 'model_type': 'basic', 'optimizer': 'rmsprop', 'random_state': None, 'training_hook': [], 'training_loss': 'softmax'}\n",
      "-----------------------------------------\n"
     ]
    },
    {
     "name": "stderr",
     "output_type": "stream",
     "text": [
      "C:\\Users\\Marios\\Jupyter_Notebooks_my_papers\\Data-driven-Causal-Discovery-for-Constructing-Fuzzy-Cognitive-Maps-An-Industrial-Case-Study\\base\\classifier.py:143: UserWarning: 2018.12.16 The instruction  'loss = loss/self.batch_size' was commented out. Due to increased gradient values check the optimizer learning rate \n",
      "  warnings.warn('2018.12.16 The instruction  \\'loss = loss/self.batch_size\\' was commented out. Due to increased gradient values check the optimizer learning rate ')\n"
     ]
    },
    {
     "name": "stdout",
     "output_type": "stream",
     "text": [
      "Learning time 1222.4016280174255 sec\n",
      "\n",
      "-----------------------------------------\n",
      "-----------------------------------------\n",
      "-----------------------------------------\n",
      "-----------------------------------------\n",
      "-----------------------------------------\n",
      "{'act': None, 'activation': 'sigmoid', 'activation_m': 1, 'batch_size': 16, 'buffer_size': 1000, 'depth': 2, 'dropout_p': 0.0, 'epochs': 100, 'init_method': None, 'init_y_method': 'uniform', 'learning_rate': 0.05, 'model_type': 'basic', 'optimizer': 'rmsprop', 'random_state': None, 'training_hook': [], 'training_loss': 'softmax'}\n",
      "-----------------------------------------\n"
     ]
    },
    {
     "name": "stderr",
     "output_type": "stream",
     "text": [
      "C:\\Users\\Marios\\Jupyter_Notebooks_my_papers\\Data-driven-Causal-Discovery-for-Constructing-Fuzzy-Cognitive-Maps-An-Industrial-Case-Study\\base\\classifier.py:143: UserWarning: 2018.12.16 The instruction  'loss = loss/self.batch_size' was commented out. Due to increased gradient values check the optimizer learning rate \n",
      "  warnings.warn('2018.12.16 The instruction  \\'loss = loss/self.batch_size\\' was commented out. Due to increased gradient values check the optimizer learning rate ')\n"
     ]
    },
    {
     "name": "stdout",
     "output_type": "stream",
     "text": [
      "Learning time 1232.6391785144806 sec\n",
      "\n",
      "-----------------------------------------\n",
      "-----------------------------------------\n",
      "-----------------------------------------\n",
      "-----------------------------------------\n",
      "-----------------------------------------\n",
      "{'act': None, 'activation': 'sigmoid', 'activation_m': 1, 'batch_size': 16, 'buffer_size': 1000, 'depth': 2, 'dropout_p': 0.0, 'epochs': 100, 'init_method': None, 'init_y_method': 'uniform', 'learning_rate': 0.05, 'model_type': 'basic', 'optimizer': 'rmsprop', 'random_state': None, 'training_hook': [], 'training_loss': 'softmax'}\n",
      "-----------------------------------------\n"
     ]
    },
    {
     "name": "stderr",
     "output_type": "stream",
     "text": [
      "C:\\Users\\Marios\\Jupyter_Notebooks_my_papers\\Data-driven-Causal-Discovery-for-Constructing-Fuzzy-Cognitive-Maps-An-Industrial-Case-Study\\base\\classifier.py:143: UserWarning: 2018.12.16 The instruction  'loss = loss/self.batch_size' was commented out. Due to increased gradient values check the optimizer learning rate \n",
      "  warnings.warn('2018.12.16 The instruction  \\'loss = loss/self.batch_size\\' was commented out. Due to increased gradient values check the optimizer learning rate ')\n"
     ]
    },
    {
     "name": "stdout",
     "output_type": "stream",
     "text": [
      "Learning time 1233.482632637024 sec\n",
      "\n",
      "-----------------------------------------\n",
      "-----------------------------------------\n",
      "-----------------------------------------\n",
      "-----------------------------------------\n",
      "-----------------------------------------\n",
      "{'act': None, 'activation': 'sigmoid', 'activation_m': 1, 'batch_size': 16, 'buffer_size': 1000, 'depth': 2, 'dropout_p': 0.0, 'epochs': 100, 'init_method': None, 'init_y_method': 'uniform', 'learning_rate': 0.05, 'model_type': 'basic', 'optimizer': 'rmsprop', 'random_state': None, 'training_hook': [], 'training_loss': 'softmax'}\n",
      "-----------------------------------------\n"
     ]
    },
    {
     "name": "stderr",
     "output_type": "stream",
     "text": [
      "C:\\Users\\Marios\\Jupyter_Notebooks_my_papers\\Data-driven-Causal-Discovery-for-Constructing-Fuzzy-Cognitive-Maps-An-Industrial-Case-Study\\base\\classifier.py:143: UserWarning: 2018.12.16 The instruction  'loss = loss/self.batch_size' was commented out. Due to increased gradient values check the optimizer learning rate \n",
      "  warnings.warn('2018.12.16 The instruction  \\'loss = loss/self.batch_size\\' was commented out. Due to increased gradient values check the optimizer learning rate ')\n"
     ]
    },
    {
     "name": "stdout",
     "output_type": "stream",
     "text": [
      "Learning time 1358.840985774994 sec\n",
      "\n",
      "-----------------------------------------\n",
      "-----------------------------------------\n",
      "-----------------------------------------\n",
      "-----------------------------------------\n",
      "-----------------------------------------\n",
      "{'act': None, 'activation': 'sigmoid', 'activation_m': 1, 'batch_size': 16, 'buffer_size': 1000, 'depth': 2, 'dropout_p': 0.0, 'epochs': 100, 'init_method': None, 'init_y_method': 'uniform', 'learning_rate': 0.05, 'model_type': 'basic', 'optimizer': 'rmsprop', 'random_state': None, 'training_hook': [], 'training_loss': 'softmax'}\n",
      "-----------------------------------------\n"
     ]
    },
    {
     "name": "stderr",
     "output_type": "stream",
     "text": [
      "C:\\Users\\Marios\\Jupyter_Notebooks_my_papers\\Data-driven-Causal-Discovery-for-Constructing-Fuzzy-Cognitive-Maps-An-Industrial-Case-Study\\base\\classifier.py:143: UserWarning: 2018.12.16 The instruction  'loss = loss/self.batch_size' was commented out. Due to increased gradient values check the optimizer learning rate \n",
      "  warnings.warn('2018.12.16 The instruction  \\'loss = loss/self.batch_size\\' was commented out. Due to increased gradient values check the optimizer learning rate ')\n"
     ]
    },
    {
     "name": "stdout",
     "output_type": "stream",
     "text": [
      "Learning time 1417.0169944763184 sec\n",
      "\n"
     ]
    }
   ],
   "source": [
    "acc_folds_best_estimator_fcmmc = []\n",
    "auc_folds_best_estimator_fcmmc = []\n",
    "kappa_folds_best_estimator_fcmmc = []\n",
    "twf_folds_best_estimator_fcmmc = []\n",
    "hdf_folds_best_estimator_fcmmc = []\n",
    "pwf_folds_best_estimator_fcmmc = []\n",
    "osf_folds_best_estimator_fcmmc = []\n",
    "av_folds_best_estimator_fcmmc = []\n",
    "fold_list_fcmmc = []\n",
    "\n",
    "\n",
    "for fold in range(1,11):\n",
    "    \n",
    "    #Dataset for each fold\n",
    "    original_X_train = pd.read_csv('G:\\\\.shortcut-targets-by-id\\\\1-wapAl6N5YrCs68c4NiFKyvybXTXmdgZ\\\\Ph_D_Tyrovolas\\\\Our Papers\\\\3rd_Paper-Proposal\\\\Testbed Codes\\\\AI4I_Case_Study\\\\k-fold cross validation datasets\\\\' + str(fold) + \"\\\\Training Dataset\" + \"\\\\X_train_iter_\" + str(fold) + \".csv\")\n",
    "    original_X_test = pd.read_csv('G:\\\\.shortcut-targets-by-id\\\\1-wapAl6N5YrCs68c4NiFKyvybXTXmdgZ\\\\Ph_D_Tyrovolas\\\\Our Papers\\\\3rd_Paper-Proposal\\\\Testbed Codes\\\\AI4I_Case_Study\\\\k-fold cross validation datasets\\\\' + str(fold) + \"\\\\Test Dataset\" + \"\\\\X_test_iter_\" + str(fold) + \".csv\")\n",
    "\n",
    "    X_train = pd.read_csv('G:\\\\.shortcut-targets-by-id\\\\1-wapAl6N5YrCs68c4NiFKyvybXTXmdgZ\\\\Ph_D_Tyrovolas\\\\Our Papers\\\\3rd_Paper-Proposal\\\\Testbed Codes\\\\AI4I_Case_Study\\\\k-fold cross validation datasets\\\\' + str(fold) + \"\\\\Training Dataset\" + \"\\\\Scaled_X_train_iter_\" + str(fold) + \".csv\", names=['Type', 'Air temperature [K]', 'Process temperature [K]', 'Rotational speed [rpm]', 'Torque [Nm]', 'Tool wear [min]'])\n",
    "    y_train = pd.read_csv('G:\\\\.shortcut-targets-by-id\\\\1-wapAl6N5YrCs68c4NiFKyvybXTXmdgZ\\\\Ph_D_Tyrovolas\\\\Our Papers\\\\3rd_Paper-Proposal\\\\Testbed Codes\\\\AI4I_Case_Study\\\\k-fold cross validation datasets\\\\' + str(fold) + \"\\\\Training Dataset\" + \"\\\\y_train_iter_\" + str(fold) + \".csv\")\n",
    "    X_test = pd.read_csv('G:\\\\.shortcut-targets-by-id\\\\1-wapAl6N5YrCs68c4NiFKyvybXTXmdgZ\\\\Ph_D_Tyrovolas\\\\Our Papers\\\\3rd_Paper-Proposal\\\\Testbed Codes\\\\AI4I_Case_Study\\\\k-fold cross validation datasets\\\\' + str(fold) + \"\\\\Test Dataset\" + \"\\\\Scaled_X_test_iter_\" + str(fold) + \".csv\", names=['Type', 'Air temperature [K]', 'Process temperature [K]', 'Rotational speed [rpm]', 'Torque [Nm]', 'Tool wear [min]'])\n",
    "    y_test = pd.read_csv('G:\\\\.shortcut-targets-by-id\\\\1-wapAl6N5YrCs68c4NiFKyvybXTXmdgZ\\\\Ph_D_Tyrovolas\\\\Our Papers\\\\3rd_Paper-Proposal\\\\Testbed Codes\\\\AI4I_Case_Study\\\\k-fold cross validation datasets\\\\' + str(fold) + \"\\\\Test Dataset\" + \"\\\\y_test_iter_\" + str(fold) + \".csv\")\n",
    "    \n",
    "    original_X_train = original_X_train.rename(columns = lambda x:re.sub('[^A-Za-z0-9_]+', '', x))\n",
    "    original_X_test = original_X_test.rename(columns = lambda x:re.sub('[^A-Za-z0-9_]+', '', x))\n",
    "    X_train = X_train.rename(columns = lambda x:re.sub('[^A-Za-z0-9_]+', '', x))\n",
    "    X_test = X_test.rename(columns = lambda x:re.sub('[^A-Za-z0-9_]+', '', x))\n",
    "    y_train = y_train.rename(columns = lambda x:re.sub('[^A-Za-z0-9_]+', '', x))\n",
    "    y_test = y_test.rename(columns = lambda x:re.sub('[^A-Za-z0-9_]+', '', x))\n",
    "    \n",
    "    #Dataframes to numpy\n",
    "    X_train_numpy = X_train.to_numpy()\n",
    "    y_train_numpy = y_train.to_numpy()\n",
    "    X_test_numpy = X_test.to_numpy()\n",
    "    y_test_numpy = y_test.to_numpy()\n",
    "    \n",
    "    \n",
    "    #Build the FCMMC Classifier\n",
    "    \n",
    "    fcmmc = FcmMulticlassClassifier()\n",
    "    fcmmc.__init__(**grid_fcmmc[final_df_fcmmc.loc[0,\"Combinations\"]])\n",
    "    fcmmc.fit(X_train_numpy,y_train_numpy)\n",
    "        \n",
    "    #Predictions for the test set\n",
    "    y_test_pred_fcmmc = fcmmc.predict(X_test)\n",
    "    \n",
    "    #Evaluation metrics\n",
    "    accuracy_fcmmc = accuracy_score(y_test, y_test_pred_fcmmc)\n",
    "    auc_fcmmc = metrics.roc_auc_score(y_test, y_test_pred_fcmmc)\n",
    "    cohen_score_fcmmc = cohen_kappa_score(y_test, y_test_pred_fcmmc)\n",
    "    \n",
    "    #FCMMC trajectory\n",
    "    #For an output variable the constant 0.5 can be interpreted as undecided value, in between 0 and 1.\n",
    "    init_y_test = np.ones((X_test.shape[0], fcmmc.base_fcm.model.dim - X_test.shape[1])) * .5\n",
    "    trj_fcmmc_test = fcmmc.base_fcm.model.trajectory(X_test, init_y_test)\n",
    "    \n",
    "    local_feature_importance_fcmmc = pd.DataFrame(trj_fcmmc_test[fcmmc.depth],  columns=['Type', 'AirtemperatureK', 'ProcesstemperatureK', 'Rotationalspeedrpm', 'TorqueNm', 'Toolwearmin', '0', '1'])\n",
    "    local_feature_importance_fcmmc.drop('0', inplace=True, axis=1)\n",
    "    local_feature_importance_fcmmc.drop('1', inplace=True, axis=1)\n",
    "    \n",
    "    #Find the observations' indexes that the model correctly predicted as faulty\n",
    "    true_positive_indexes = []\n",
    "    i=1;\n",
    "\n",
    "    #According to the chosen model\n",
    "    #For example, y_test_pred_lgbmc for LGBM Classifier\n",
    "    for k in range(0,len(y_test)):\n",
    "        if (y_test.loc[k,'Machinefailure']==int(y_test_pred_fcmmc[k])) and (y_test.loc[k,'Machinefailure']==1):\n",
    "            true_positive_indexes.append(k)\n",
    "            i=i+1;\n",
    "\n",
    "    #Find the observations that the selected model correctly predicted as faulty based on the previous indexes\n",
    "    true_positive_observations = pd.DataFrame()\n",
    "    for k in range(0,len(true_positive_indexes)):\n",
    "        new_row = pd.concat([original_X_test.loc[true_positive_indexes[k],:],y_test.loc[true_positive_indexes[k],:]], axis=0)\n",
    "        true_positive_observations = true_positive_observations.append(new_row, ignore_index=True)\n",
    "    \n",
    "    if not true_positive_observations.empty:\n",
    "        \n",
    "        #Append in lists\n",
    "        acc_folds_best_estimator_fcmmc.append(accuracy_fcmmc)\n",
    "        kappa_folds_best_estimator_fcmmc.append(cohen_score_fcmmc)\n",
    "        auc_folds_best_estimator_fcmmc.append(auc_fcmmc)\n",
    "        \n",
    "    \n",
    "        true_positive_observations_with_failure_modes = pd.DataFrame()\n",
    "        true_positive_observations_with_failure_modes = ai4i2020_encoded_balanced.join(true_positive_observations.set_index(['Type', 'AirtemperatureK', 'ProcesstemperatureK', 'Rotationalspeedrpm', 'TorqueNm', 'Toolwearmin', 'Machinefailure']), ['Type', 'AirtemperatureK', 'ProcesstemperatureK', 'Rotationalspeedrpm', 'TorqueNm', 'Toolwearmin', 'Machinefailure'], how='right')       \n",
    "        final_true_positive_observations_with_failure_modes = true_positive_observations_with_failure_modes.reset_index(drop=True)\n",
    "\n",
    "    \n",
    "        #display(\"Number of true positive predictions: \" + str(len(final_true_positive_observations_with_failure_modes)))\n",
    "\n",
    "        number_of_TWF_failures_in_true_positive_predictions = 0\n",
    "        number_of_HDF_failures_in_true_positive_predictions = 0\n",
    "        number_of_PWF_failures_in_true_positive_predictions = 0\n",
    "        number_of_OSF_failures_in_true_positive_predictions = 0\n",
    "        number_of_random_failures_in_true_positive_predictions=0\n",
    "\n",
    "        for k in range(0,len(final_true_positive_observations_with_failure_modes)):\n",
    "            if final_true_positive_observations_with_failure_modes.loc[k,\"TWF\"]==1: #if the failure mode is TWF\n",
    "                number_of_TWF_failures_in_true_positive_predictions = number_of_TWF_failures_in_true_positive_predictions + 1;\n",
    "            if final_true_positive_observations_with_failure_modes.loc[k,\"HDF\"]==1: #if the failure mode is HDF\n",
    "                number_of_HDF_failures_in_true_positive_predictions = number_of_HDF_failures_in_true_positive_predictions + 1;\n",
    "            if final_true_positive_observations_with_failure_modes.loc[k,\"PWF\"]==1: #if the failure mode is PWF\n",
    "                number_of_PWF_failures_in_true_positive_predictions = number_of_PWF_failures_in_true_positive_predictions + 1;\n",
    "            if final_true_positive_observations_with_failure_modes.loc[k,\"OSF\"]==1: #if the failure mode is OSF\n",
    "                number_of_OSF_failures_in_true_positive_predictions = number_of_OSF_failures_in_true_positive_predictions + 1;\n",
    "            if (final_true_positive_observations_with_failure_modes.loc[k,\"Machinefailure\"]==1) and (final_true_positive_observations_with_failure_modes.loc[k,\"TWF\"]==0) and (final_true_positive_observations_with_failure_modes.loc[k,\"HDF\"]==0) and (final_true_positive_observations_with_failure_modes.loc[k,\"PWF\"]==0) and (final_true_positive_observations_with_failure_modes.loc[k,\"OSF\"]==0) and (final_true_positive_observations_with_failure_modes.loc[k,\"RNF\"]==0):\n",
    "                number_of_random_failures_in_true_positive_predictions = number_of_random_failures_in_true_positive_predictions+1;\n",
    "    \n",
    "        #Calculate the correct explanations\n",
    "        correct_explanations = 0\n",
    "        correct_explanations_TWF = 0\n",
    "        correct_explanations_HDF = 0\n",
    "        correct_explanations_PWF = 0\n",
    "        correct_explanations_OSF = 0\n",
    "\n",
    "        for k in range(0,len(true_positive_observations)):\n",
    "            #if the failure mode is TWF\n",
    "            if final_true_positive_observations_with_failure_modes.loc[k,\"TWF\"]==1:\n",
    "                #if tool wear is the most important feature\n",
    "                if local_feature_importance_fcmmc.loc[true_positive_indexes[k],\"Toolwearmin\"] == max(local_feature_importance_fcmmc.loc[true_positive_indexes[k],:]):\n",
    "                    correct_explanations = correct_explanations+1;\n",
    "                    correct_explanations_TWF = correct_explanations_TWF + 1;\n",
    "                \n",
    "            #if the failure mode is HDF\n",
    "            if final_true_positive_observations_with_failure_modes.loc[k,\"HDF\"]==1: \n",
    "                maximum1 = max(local_feature_importance_fcmmc.loc[true_positive_indexes[k],:]) \n",
    "                maximum2 = max(local_feature_importance_fcmmc.loc[true_positive_indexes[k],:], key = lambda x: min(local_feature_importance_fcmmc.loc[true_positive_indexes[k],:])-1 if (x == maximum1) else x)\n",
    "                if (local_feature_importance_fcmmc.loc[true_positive_indexes[k],\"AirtemperatureK\"] == maximum1) or (local_feature_importance_fcmmc.loc[true_positive_indexes[k],\"AirtemperatureK\"] == maximum2) or (local_feature_importance_fcmmc.loc[true_positive_indexes[k],\"ProcesstemperatureK\"] == maximum1) or (local_feature_importance_fcmmc.loc[true_positive_indexes[k],\"ProcesstemperatureK\"] == maximum2):\n",
    "                    correct_explanations = correct_explanations+1;\n",
    "                    correct_explanations_HDF = correct_explanations_HDF + 1;\n",
    "            \n",
    "            \n",
    "            #if the failure mode is PWF\n",
    "            if final_true_positive_observations_with_failure_modes.loc[k,\"PWF\"]==1: \n",
    "                maximum1 = max(local_feature_importance_fcmmc.loc[true_positive_indexes[k],:]) \n",
    "                maximum2 = max(local_feature_importance_fcmmc.loc[true_positive_indexes[k],:], key = lambda x: min(local_feature_importance_fcmmc.loc[true_positive_indexes[k],:])-1 if (x == maximum1) else x)\n",
    "                if (local_feature_importance_fcmmc.loc[true_positive_indexes[k],\"Rotationalspeedrpm\"] == maximum1) or (local_feature_importance_fcmmc.loc[true_positive_indexes[k],\"Rotationalspeedrpm\"] == maximum2) or (local_feature_importance_fcmmc.loc[true_positive_indexes[k],\"TorqueNm\"] == maximum1) or (local_feature_importance_fcmmc.loc[true_positive_indexes[k],\"TorqueNm\"] == maximum2):\n",
    "                    correct_explanations = correct_explanations+1;\n",
    "                    correct_explanations_PWF = correct_explanations_PWF + 1;\n",
    "            \n",
    "            #if the failure mode is OSF        \n",
    "            if final_true_positive_observations_with_failure_modes.loc[k,\"OSF\"]==1:\n",
    "                maximum1 = max(local_feature_importance_fcmmc.loc[true_positive_indexes[k],:]) \n",
    "                maximum2 = max(local_feature_importance_fcmmc.loc[true_positive_indexes[k],:], key = lambda x: min(local_feature_importance_fcmmc.loc[true_positive_indexes[k],:])-1 if (x == maximum1) else x)\n",
    "                if (local_feature_importance_fcmmc.loc[true_positive_indexes[k],\"Toolwearmin\"] == maximum1) or (local_feature_importance_fcmmc.loc[true_positive_indexes[k],\"Toolwearmin\"] == maximum2) or (local_feature_importance_fcmmc.loc[true_positive_indexes[k],\"TorqueNm\"] == maximum1) or (local_feature_importance_fcmmc.loc[true_positive_indexes[k],\"TorqueNm\"] == maximum2):\n",
    "                    correct_explanations = correct_explanations+1;\n",
    "                    correct_explanations_OSF = correct_explanations_OSF + 1;\n",
    "\n",
    "        denominator = 0\n",
    "        \n",
    "        if number_of_TWF_failures_in_true_positive_predictions != 0:\n",
    "            twf_folds_best_estimator_fcmmc.append(correct_explanations_TWF/number_of_TWF_failures_in_true_positive_predictions)\n",
    "            twf_success = correct_explanations_TWF/number_of_TWF_failures_in_true_positive_predictions\n",
    "            denominator = denominator + 1\n",
    "        else:\n",
    "            twf_folds_best_estimator_fcmmc.append(correct_explanations_TWF)\n",
    "            twf_success = 0\n",
    "        if number_of_HDF_failures_in_true_positive_predictions != 0:\n",
    "            hdf_folds_best_estimator_fcmmc.append(correct_explanations_HDF/number_of_HDF_failures_in_true_positive_predictions)\n",
    "            hdf_success = correct_explanations_HDF/number_of_HDF_failures_in_true_positive_predictions\n",
    "            denominator = denominator + 1\n",
    "        else:\n",
    "            hdf_folds_best_estimator_fcmmc.append(correct_explanations_HDF)\n",
    "            hdf_success = 0\n",
    "        if number_of_PWF_failures_in_true_positive_predictions != 0:\n",
    "            pwf_folds_best_estimator_fcmmc.append(correct_explanations_PWF/number_of_PWF_failures_in_true_positive_predictions)\n",
    "            pwf_success = correct_explanations_PWF/number_of_PWF_failures_in_true_positive_predictions\n",
    "            denominator = denominator + 1\n",
    "        else:\n",
    "            pwf_folds_best_estimator_fcmmc.append(correct_explanations_PWF)\n",
    "            pwf_success = 0\n",
    "        if number_of_OSF_failures_in_true_positive_predictions != 0:\n",
    "            osf_folds_best_estimator_fcmmc.append(correct_explanations_OSF/number_of_OSF_failures_in_true_positive_predictions)\n",
    "            osf_success = correct_explanations_OSF/number_of_OSF_failures_in_true_positive_predictions\n",
    "            denominator = denominator + 1\n",
    "        else:\n",
    "            osf_folds_best_estimator_fcmmc.append(correct_explanations_OSF)\n",
    "            osf_success = 0\n",
    "    \n",
    "        if denominator !=0:\n",
    "            average_success = (twf_success+hdf_success+pwf_success+osf_success)/denominator\n",
    "        else:\n",
    "            average_success = 0\n",
    "        \n",
    "        av_folds_best_estimator_fcmmc.append(average_success)\n",
    "        fold_list_fcmmc.append(fold)\n",
    "\n",
    "result_df_best_estimator_fcmmc = pd.DataFrame({'Accuracy': acc_folds_best_estimator_fcmmc, 'AUC': auc_folds_best_estimator_fcmmc, 'Kappa':kappa_folds_best_estimator_fcmmc, 'TWF':twf_folds_best_estimator_fcmmc, 'HDF':hdf_folds_best_estimator_fcmmc, 'PWF':pwf_folds_best_estimator_fcmmc, 'OSF':osf_folds_best_estimator_fcmmc, 'Average Success':av_folds_best_estimator_fcmmc, 'Folds':fold_list_fcmmc})\n"
   ]
  },
  {
   "cell_type": "code",
   "execution_count": 14,
   "id": "87ea2d21",
   "metadata": {},
   "outputs": [
    {
     "data": {
      "text/html": [
       "<div>\n",
       "<style scoped>\n",
       "    .dataframe tbody tr th:only-of-type {\n",
       "        vertical-align: middle;\n",
       "    }\n",
       "\n",
       "    .dataframe tbody tr th {\n",
       "        vertical-align: top;\n",
       "    }\n",
       "\n",
       "    .dataframe thead th {\n",
       "        text-align: right;\n",
       "    }\n",
       "</style>\n",
       "<table border=\"1\" class=\"dataframe\">\n",
       "  <thead>\n",
       "    <tr style=\"text-align: right;\">\n",
       "      <th></th>\n",
       "      <th>Accuracy</th>\n",
       "      <th>AUC</th>\n",
       "      <th>Kappa</th>\n",
       "      <th>TWF</th>\n",
       "      <th>HDF</th>\n",
       "      <th>PWF</th>\n",
       "      <th>OSF</th>\n",
       "      <th>Average Success</th>\n",
       "      <th>Folds</th>\n",
       "    </tr>\n",
       "  </thead>\n",
       "  <tbody>\n",
       "    <tr>\n",
       "      <th>0</th>\n",
       "      <td>0.929754</td>\n",
       "      <td>0.930954</td>\n",
       "      <td>0.859587</td>\n",
       "      <td>0.492754</td>\n",
       "      <td>0.000000</td>\n",
       "      <td>0.054795</td>\n",
       "      <td>0.908730</td>\n",
       "      <td>0.364070</td>\n",
       "      <td>1</td>\n",
       "    </tr>\n",
       "    <tr>\n",
       "      <th>1</th>\n",
       "      <td>0.957738</td>\n",
       "      <td>0.956271</td>\n",
       "      <td>0.915062</td>\n",
       "      <td>0.986842</td>\n",
       "      <td>0.000000</td>\n",
       "      <td>1.000000</td>\n",
       "      <td>1.000000</td>\n",
       "      <td>0.746711</td>\n",
       "      <td>2</td>\n",
       "    </tr>\n",
       "    <tr>\n",
       "      <th>2</th>\n",
       "      <td>0.964592</td>\n",
       "      <td>0.964039</td>\n",
       "      <td>0.928964</td>\n",
       "      <td>0.000000</td>\n",
       "      <td>0.958678</td>\n",
       "      <td>0.289017</td>\n",
       "      <td>1.000000</td>\n",
       "      <td>0.561924</td>\n",
       "      <td>3</td>\n",
       "    </tr>\n",
       "    <tr>\n",
       "      <th>3</th>\n",
       "      <td>0.922901</td>\n",
       "      <td>0.923557</td>\n",
       "      <td>0.845725</td>\n",
       "      <td>0.000000</td>\n",
       "      <td>0.109649</td>\n",
       "      <td>0.932432</td>\n",
       "      <td>0.933884</td>\n",
       "      <td>0.493991</td>\n",
       "      <td>4</td>\n",
       "    </tr>\n",
       "    <tr>\n",
       "      <th>4</th>\n",
       "      <td>0.930897</td>\n",
       "      <td>0.931834</td>\n",
       "      <td>0.861797</td>\n",
       "      <td>0.000000</td>\n",
       "      <td>0.995885</td>\n",
       "      <td>0.540541</td>\n",
       "      <td>0.926087</td>\n",
       "      <td>0.615628</td>\n",
       "      <td>5</td>\n",
       "    </tr>\n",
       "    <tr>\n",
       "      <th>5</th>\n",
       "      <td>0.914906</td>\n",
       "      <td>0.915915</td>\n",
       "      <td>0.829852</td>\n",
       "      <td>0.000000</td>\n",
       "      <td>0.241228</td>\n",
       "      <td>0.989899</td>\n",
       "      <td>0.909910</td>\n",
       "      <td>0.535259</td>\n",
       "      <td>6</td>\n",
       "    </tr>\n",
       "    <tr>\n",
       "      <th>6</th>\n",
       "      <td>0.924615</td>\n",
       "      <td>0.925353</td>\n",
       "      <td>0.849177</td>\n",
       "      <td>0.959459</td>\n",
       "      <td>1.000000</td>\n",
       "      <td>0.701031</td>\n",
       "      <td>1.000000</td>\n",
       "      <td>0.915123</td>\n",
       "      <td>7</td>\n",
       "    </tr>\n",
       "    <tr>\n",
       "      <th>7</th>\n",
       "      <td>0.917714</td>\n",
       "      <td>0.919113</td>\n",
       "      <td>0.835600</td>\n",
       "      <td>0.000000</td>\n",
       "      <td>1.000000</td>\n",
       "      <td>0.957447</td>\n",
       "      <td>0.638009</td>\n",
       "      <td>0.648864</td>\n",
       "      <td>8</td>\n",
       "    </tr>\n",
       "    <tr>\n",
       "      <th>8</th>\n",
       "      <td>0.931429</td>\n",
       "      <td>0.932619</td>\n",
       "      <td>0.862923</td>\n",
       "      <td>0.000000</td>\n",
       "      <td>0.000000</td>\n",
       "      <td>0.956989</td>\n",
       "      <td>0.991870</td>\n",
       "      <td>0.487215</td>\n",
       "      <td>9</td>\n",
       "    </tr>\n",
       "    <tr>\n",
       "      <th>9</th>\n",
       "      <td>0.926857</td>\n",
       "      <td>0.928575</td>\n",
       "      <td>0.853941</td>\n",
       "      <td>0.000000</td>\n",
       "      <td>0.940171</td>\n",
       "      <td>0.453488</td>\n",
       "      <td>0.379167</td>\n",
       "      <td>0.443206</td>\n",
       "      <td>10</td>\n",
       "    </tr>\n",
       "  </tbody>\n",
       "</table>\n",
       "</div>"
      ],
      "text/plain": [
       "   Accuracy       AUC     Kappa       TWF       HDF       PWF       OSF  \\\n",
       "0  0.929754  0.930954  0.859587  0.492754  0.000000  0.054795  0.908730   \n",
       "1  0.957738  0.956271  0.915062  0.986842  0.000000  1.000000  1.000000   \n",
       "2  0.964592  0.964039  0.928964  0.000000  0.958678  0.289017  1.000000   \n",
       "3  0.922901  0.923557  0.845725  0.000000  0.109649  0.932432  0.933884   \n",
       "4  0.930897  0.931834  0.861797  0.000000  0.995885  0.540541  0.926087   \n",
       "5  0.914906  0.915915  0.829852  0.000000  0.241228  0.989899  0.909910   \n",
       "6  0.924615  0.925353  0.849177  0.959459  1.000000  0.701031  1.000000   \n",
       "7  0.917714  0.919113  0.835600  0.000000  1.000000  0.957447  0.638009   \n",
       "8  0.931429  0.932619  0.862923  0.000000  0.000000  0.956989  0.991870   \n",
       "9  0.926857  0.928575  0.853941  0.000000  0.940171  0.453488  0.379167   \n",
       "\n",
       "   Average Success  Folds  \n",
       "0         0.364070      1  \n",
       "1         0.746711      2  \n",
       "2         0.561924      3  \n",
       "3         0.493991      4  \n",
       "4         0.615628      5  \n",
       "5         0.535259      6  \n",
       "6         0.915123      7  \n",
       "7         0.648864      8  \n",
       "8         0.487215      9  \n",
       "9         0.443206     10  "
      ]
     },
     "execution_count": 14,
     "metadata": {},
     "output_type": "execute_result"
    }
   ],
   "source": [
    "result_df_best_estimator_fcmmc"
   ]
  },
  {
   "cell_type": "code",
   "execution_count": null,
   "id": "cbe4b8e6",
   "metadata": {},
   "outputs": [],
   "source": []
  },
  {
   "cell_type": "code",
   "execution_count": null,
   "id": "406177e8",
   "metadata": {},
   "outputs": [],
   "source": []
  },
  {
   "cell_type": "code",
   "execution_count": null,
   "id": "1736b64f",
   "metadata": {},
   "outputs": [],
   "source": []
  }
 ],
 "metadata": {
  "kernelspec": {
   "display_name": "Python 3",
   "language": "python",
   "name": "python3"
  },
  "language_info": {
   "codemirror_mode": {
    "name": "ipython",
    "version": 3
   },
   "file_extension": ".py",
   "mimetype": "text/x-python",
   "name": "python",
   "nbconvert_exporter": "python",
   "pygments_lexer": "ipython3",
   "version": "3.8.5"
  }
 },
 "nbformat": 4,
 "nbformat_minor": 5
}
